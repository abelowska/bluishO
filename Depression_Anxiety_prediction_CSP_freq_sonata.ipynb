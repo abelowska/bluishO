{
 "cells": [
  {
   "cell_type": "markdown",
   "metadata": {
    "id": "aVAPtMDTYvRD"
   },
   "source": [
    "# Depression and Anxiety classification with CSP spatial filter and delta/theta frequency bands"
   ]
  },
  {
   "cell_type": "markdown",
   "metadata": {},
   "source": [
    "Conceptual replication of the study by [Cavanagh et al. (2019)](https://www.ncbi.nlm.nih.gov/pmc/articles/PMC6515849/) on own dataset."
   ]
  },
  {
   "cell_type": "markdown",
   "metadata": {
    "id": "FcABdbTciWqA"
   },
   "source": [
    "Import packages"
   ]
  },
  {
   "cell_type": "code",
   "execution_count": 1,
   "metadata": {
    "executionInfo": {
     "elapsed": 316,
     "status": "ok",
     "timestamp": 1677517783528,
     "user": {
      "displayName": "Anna Grabowska",
      "userId": "15734344613010880864"
     },
     "user_tz": -60
    },
    "id": "N_cSZrE3hRG1"
   },
   "outputs": [],
   "source": [
    "import io\n",
    "import os\n",
    "import mne\n",
    "import copy\n",
    "import glob\n",
    "import array\n",
    "import matplotlib\n",
    "import numpy as np\n",
    "import pandas as pd\n",
    "import sklearn.metrics\n",
    "import seaborn as sns\n",
    "import scipy.io as sio\n",
    "import plotly.express as px\n",
    "import matplotlib.pyplot as plt\n",
    "\n",
    "\n",
    "from itertools import chain\n",
    "from sklearn.svm import SVC\n",
    "from scipy.io import loadmat\n",
    "from sklearn import set_config\n",
    "\n",
    "from sklearn import preprocessing\n",
    "from sklearn.pipeline import Pipeline\n",
    "from sklearn.metrics import roc_auc_score, classification_report\n",
    "from sklearn.preprocessing import MinMaxScaler\n",
    "from sklearn.model_selection import GridSearchCV, ShuffleSplit\n",
    "from sklearn.model_selection import StratifiedKFold\n",
    "from sklearn.linear_model import LogisticRegression\n",
    "from sklearn.model_selection import train_test_split\n",
    "from sklearn.preprocessing import StandardScaler\n",
    "from sklearn.neighbors import KNeighborsClassifier\n",
    "from sklearn.model_selection import permutation_test_score\n",
    "from autoreject import AutoReject\n",
    "import re\n",
    "\n",
    "\n",
    "\n",
    "import numpy as np\n",
    "import matplotlib.pyplot as plt\n",
    "\n",
    "from sklearn.pipeline import Pipeline\n",
    "from sklearn.discriminant_analysis import LinearDiscriminantAnalysis\n",
    "from sklearn.model_selection import ShuffleSplit, cross_val_score, RepeatedStratifiedKFold\n",
    "from sklearn.utils import resample\n",
    "\n",
    "from mne import Epochs, pick_types, events_from_annotations\n",
    "from mne.channels import make_standard_montage\n",
    "from mne.io import concatenate_raws, read_raw_edf\n",
    "from mne.datasets import eegbci\n",
    "from mne.decoding import CSP\n",
    "\n",
    "from mne.preprocessing import Xdawn\n",
    "from mne.decoding import Vectorizer\n",
    "\n",
    "from mne.decoding import UnsupervisedSpatialFilter\n",
    "\n",
    "from sklearn.decomposition import PCA, FastICA\n",
    "\n",
    "from scipy import stats\n",
    "\n",
    "# parameters for plotting\n",
    "plt.rcParams[\"figure.figsize\"] = (10,7)\n",
    "\n",
    "import seaborn as sns\n",
    "sns.set_theme(style=\"whitegrid\", palette=\"deep\")"
   ]
  },
  {
   "cell_type": "markdown",
   "metadata": {},
   "source": [
    "Constatnts"
   ]
  },
  {
   "cell_type": "code",
   "execution_count": 2,
   "metadata": {},
   "outputs": [],
   "source": [
    "random_state = 42\n",
    "signal_frequency = 256"
   ]
  },
  {
   "cell_type": "markdown",
   "metadata": {
    "id": "wDt-UDhFqu0g"
   },
   "source": [
    "## Load EEG data"
   ]
  },
  {
   "cell_type": "code",
   "execution_count": 3,
   "metadata": {},
   "outputs": [],
   "source": [
    "# file = 'data/sonata_data/feedback_export_MID/MID-012_Seg FEED incentive.vhdr'\n",
    "# raw = mne.io.read_raw_brainvision(file, eog=('HEOG', 'VEOG'))\n",
    "# events, event_ids = mne.events_from_annotations(raw)\n",
    "# event_ids"
   ]
  },
  {
   "cell_type": "code",
   "execution_count": 4,
   "metadata": {},
   "outputs": [],
   "source": [
    "def create_df_data(\n",
    "    dir_path,\n",
    "    info_filename=None,\n",
    "    info=\"all\",\n",
    "    personal=True,\n",
    "    task = 'FLA',\n",
    "    reject_by_annotation=True\n",
    "):\n",
    "    \"\"\"Loads data for all participants and create DataFrame with optional additional info from given .csv file.\n",
    "\n",
    "    On default, loads a train set: chooses only 80% of participants\n",
    "    and for each of them chooses 80% of epochs.\n",
    "    It will choose them deterministically.\n",
    "\n",
    "    Participants with less than 10 epochs per condition are rejected.\n",
    "\n",
    "    If test_participants is set to True, it will load remaining 20% of participants.\n",
    "    If test_epochs is set to True, it will load remaining 20% of epochs.\n",
    "    Test epochs are chronologically after train epochs,\n",
    "    because it reflects real usage (first callibration and then classification).\n",
    "\n",
    "    Parameters\n",
    "    ----------\n",
    "    test_participants: bool\n",
    "        whether load data for training or final testing.\n",
    "        If true load participants data for testing.\n",
    "    test_epochs: bool\n",
    "        whether load data for training or final testing.\n",
    "        If true load epochs of each participants data for testing.\n",
    "    info_filename: String | None\n",
    "        path to .csv file with additional data.\n",
    "    info: array\n",
    "        listed parameters from the info file to be loaded.\n",
    "        if 'all', load all parameters\n",
    "    personal: bool\n",
    "        whether a model will be both trained and tested on epochs from one person\n",
    "        if false, person's epochs aren't split into test and train\n",
    "\n",
    "\n",
    "    Returns\n",
    "    -------\n",
    "    go_nogo_data_df : pandas.DataFrame\n",
    "\n",
    "    \"\"\"\n",
    "    header_files_glob = os.path.join(os.path.abspath(\"\"), dir_path + \"*.vhdr\")\n",
    "    header_files = glob.glob(header_files_glob)\n",
    "\n",
    "    header_files = sorted(header_files)\n",
    "    go_nogo_data_df = pd.DataFrame()\n",
    "\n",
    "    for file in header_files:\n",
    "        #  load eeg data for given participant\n",
    "        participant_epochs = load_epochs_from_file(file, task=task, reject_by_annotation=reject_by_annotation)\n",
    "\n",
    "        # and compute participant's id from file_name\n",
    "        participant_id = re.match(r\".*-(\\d+)_.*\", file).group(1)\n",
    "        \n",
    "        f_bad = participant_epochs[\"f_bad\"].get_data()\n",
    "        f_good = participant_epochs[\"f_good\"].get_data()\n",
    "\n",
    "        # exclude those participants who have too few samples\n",
    "        if len(f_bad) < 5 or len(f_good) < 5:\n",
    "            # not enough data for this participant\n",
    "            continue\n",
    "\n",
    "        # construct dataframe for participant with: id|epoch_data|response_type|additional info...\n",
    "        participant_df = create_df_from_epochs(\n",
    "            participant_id, participant_epochs, info_filename, info\n",
    "        )\n",
    "        print(participant_id)\n",
    "        go_nogo_data_df = go_nogo_data_df.append(participant_df, ignore_index=True)\n",
    "\n",
    "    return go_nogo_data_df"
   ]
  },
  {
   "cell_type": "code",
   "execution_count": 5,
   "metadata": {},
   "outputs": [],
   "source": [
    "def create_df_from_epochs(id, participant_epochs, info_filename, info):\n",
    "    \"\"\"Create df for each participant. DF structure is like: {id: String ; epoch: epoch_data ; marker: 1.0|0.0}\n",
    "    1.0 means correct and 0.0 means error response.\n",
    "    Default info extracted form .csv file is 'Rumination Full Scale' and participants' ids.\n",
    "    With this info df structure is like:\n",
    "    {id: String ; epoch: epoch_data ; marker: 1.0|0.0 ; File: id ; 'Rumination Full Scale': int}\n",
    "\n",
    "    Parameters\n",
    "    ----------\n",
    "    id: String\n",
    "        participant's id extracted from filename\n",
    "    correct: array\n",
    "        correct responses' data\n",
    "    error: array\n",
    "        error responses' data\n",
    "    info_filename: String\n",
    "        path to .csv file with additional data.\n",
    "    info: array\n",
    "        listed parameters from the info file to be loaded.\n",
    "        if 'all', load all parameters\n",
    "\n",
    "    Returns\n",
    "    -------\n",
    "    participant_df : pandas.DataFrame\n",
    "\n",
    "    \"\"\"\n",
    "    participant_df = pd.DataFrame()\n",
    "    info_df = pd.DataFrame()\n",
    "\n",
    "    # get additional info from file\n",
    "    if info_filename is not None:\n",
    "        if info == \"all\":\n",
    "            rumination_df = pd.read_csv(info_filename, dtype={'Demo_kod': object})\n",
    "        else:\n",
    "            rumination_df = pd.read_csv(info_filename, usecols=[\"Demo_kod\"] + info)\n",
    "        info_df = (\n",
    "            rumination_df.loc[rumination_df[\"Demo_kod\"] == id]\n",
    "            .reset_index()\n",
    "            .drop(\"index\", axis=1)\n",
    "        )\n",
    "        \n",
    "    epoch_df = pd.DataFrame({\"id\": [id], \"epochs\": [participant_epochs]}).join(\n",
    "            info_df\n",
    "        )\n",
    "    participant_df = participant_df.append(epoch_df, ignore_index=True)\n",
    "\n",
    "    return participant_df"
   ]
  },
  {
   "cell_type": "code",
   "execution_count": 6,
   "metadata": {},
   "outputs": [],
   "source": [
    "def get_merged_events(raw, task):\n",
    "    merged_events = None\n",
    "    merged_event_dict = None\n",
    "    \n",
    "    if task == 'MID':\n",
    "        event_dict = {\n",
    "            'Stimulus/F_BAD____*ex*incentive*FB': 10001,\n",
    "            'Stimulus/F_GOOD___*ex*incentive*FG': 10002,\n",
    "        }\n",
    "\n",
    "        # Map for merged correct/error response markers\n",
    "        merged_event_dict = {\"f_good\": 0, \"f_bad\": 1}\n",
    "\n",
    "        # Reconstruct the original events from Raw object\n",
    "        events, event_ids = mne.events_from_annotations(raw, event_id=event_dict)\n",
    "\n",
    "        # Merge correct/error response events\n",
    "        merged_events = mne.merge_events(\n",
    "            events,\n",
    "            [10002],\n",
    "            merged_event_dict[\"f_good\"],\n",
    "            replace_events=True,\n",
    "        )\n",
    "\n",
    "        merged_events = mne.merge_events(\n",
    "            merged_events,\n",
    "            [10001],\n",
    "            merged_event_dict[\"f_bad\"],\n",
    "            replace_events=True,\n",
    "        )\n",
    "    elif task == 'GNG':\n",
    "        event_dict = {\n",
    "            'Stimulus/FB*ex*1_n*1_c_1*R': 10001,\n",
    "            'Stimulus/FB*ex*2_n*2_c_1*R': 10002,\n",
    "            'Stimulus/FG*ex*1_n*1_c_1*R': 10003,\n",
    "            'Stimulus/FG*ex*2_n*2_c_1*R': 10004,\n",
    "        }\n",
    "\n",
    "        # Map for merged correct/error response markers\n",
    "        merged_event_dict = {\"f_good\": 0, \"f_bad\": 1}\n",
    "\n",
    "        # Reconstruct the original events from Raw object\n",
    "        events, event_ids = mne.events_from_annotations(raw, event_id=event_dict)\n",
    "\n",
    "        # Merge correct/error response events\n",
    "        merged_events = mne.merge_events(\n",
    "            events,\n",
    "            [10003, 10004],\n",
    "            merged_event_dict[\"f_good\"],\n",
    "            replace_events=True,\n",
    "        )\n",
    "\n",
    "        merged_events = mne.merge_events(\n",
    "            merged_events,\n",
    "            [10001, 10002],\n",
    "            merged_event_dict[\"f_bad\"],\n",
    "            replace_events=True,\n",
    "        )\n",
    "        \n",
    "    elif task == 'FLA':\n",
    "        event_dict = {\n",
    "            'Stimulus/F_BAD___*ex**lll*l*FB': 10001,\n",
    "            'Stimulus/F_BAD___*ex**lrl*r*FB': 10002,\n",
    "            'Stimulus/F_BAD___*ex**rlr*l*FB': 10003,\n",
    "            'Stimulus/F_BAD___*ex**rrr*r*FB': 10004,\n",
    "            'Stimulus/F_GOOD__*ex**lll*l*FG': 10005,\n",
    "            'Stimulus/F_GOOD__*ex**lrl*r*FG': 10006,\n",
    "            'Stimulus/F_GOOD__*ex**rlr*l*FG': 10007,\n",
    "            'Stimulus/F_GOOD__*ex**rrr*r*FG': 10008,\n",
    "        }\n",
    "\n",
    "        # Map for merged correct/error response markers\n",
    "        merged_event_dict = {\"f_good\": 0, \"f_bad\": 1}\n",
    "\n",
    "        # Reconstruct the original events from Raw object\n",
    "        events, event_ids = mne.events_from_annotations(raw, event_id=event_dict)\n",
    "\n",
    "        # Merge correct/error response events\n",
    "        merged_events = mne.merge_events(\n",
    "            events,\n",
    "            [10005, 10006, 10007, 10008],\n",
    "            merged_event_dict[\"f_good\"],\n",
    "            replace_events=True,\n",
    "        )\n",
    "\n",
    "        merged_events = mne.merge_events(\n",
    "            merged_events,\n",
    "            [10001, 10002, 10003, 10004],\n",
    "            merged_event_dict[\"f_bad\"],\n",
    "            replace_events=True,\n",
    "        )\n",
    "    return merged_events, merged_event_dict      "
   ]
  },
  {
   "cell_type": "code",
   "execution_count": 7,
   "metadata": {},
   "outputs": [],
   "source": [
    "def load_epochs_from_file(file, task, reject_by_annotation=True, mask=None):\n",
    "    \"\"\"Load epochs from a header file.\n",
    "\n",
    "    Args:\n",
    "        file: path to a header file (.vhdr)\n",
    "        reject_bad_segments: 'auto' means that bad segments are rejected automatically.\n",
    "\n",
    "    Returns:\n",
    "        mne Epochs\n",
    "\n",
    "    \"\"\"\n",
    "    # Import the BrainVision data into an MNE Raw object\n",
    "    raw = mne.io.read_raw_brainvision(file, eog=('HEOG', 'VEOG'))\n",
    "\n",
    "    # Construct annotation filename\n",
    "    annot_file = file[:-4] + \"vmrk\"\n",
    "\n",
    "    # Read in the event information as MNE annotations\n",
    "    annotations = mne.read_annotations(annot_file)\n",
    "\n",
    "    # Add the annotations to our raw object so we can use them with the data\n",
    "    raw.set_annotations(annotations)\n",
    "\n",
    "    # Map with response markers only GNG\n",
    "    merged_events, merged_event_dict = get_merged_events(raw, task)\n",
    "    \n",
    "    tmin=None\n",
    "    tmax=None\n",
    "    \n",
    "    if task == 'FLA' or task == 'GNG':\n",
    "        tmin, tmax = -0.25, 0.7  # Start and end of the segments\n",
    "    elif task == 'MID':\n",
    "        tmin, tmax = -0.2, 0.8  # Start and end of the segments\n",
    "\n",
    "    # Read epochs\n",
    "    epochs = mne.Epochs(\n",
    "        raw=raw,\n",
    "        events=merged_events,\n",
    "        event_id=merged_event_dict,\n",
    "        tmin=tmin,\n",
    "        tmax=tmax,\n",
    "        baseline=None,\n",
    "        reject_by_annotation=reject_by_annotation,\n",
    "        preload=True,\n",
    "        verbose=0,\n",
    "    )\n",
    "    \n",
    "    if not reject_by_annotation:\n",
    "        ar = AutoReject(random_state=random_state, n_jobs=8, verbose=0)\n",
    "        epochs_ar, reject_log = ar.fit_transform(epochs, return_log=True)\n",
    "        epochs = epochs_ar\n",
    "\n",
    "    return epochs"
   ]
  },
  {
   "cell_type": "markdown",
   "metadata": {},
   "source": [
    "Choose the data to load"
   ]
  },
  {
   "cell_type": "code",
   "execution_count": 8,
   "metadata": {},
   "outputs": [],
   "source": [
    "load_autoreject_data = True\n",
    "task = 'FLA'"
   ]
  },
  {
   "cell_type": "code",
   "execution_count": 16,
   "metadata": {},
   "outputs": [],
   "source": [
    "%%capture\n",
    "info_filename = 'data/sonata_data/questionnaires.csv'\n",
    "\n",
    "if load_autoreject_data:\n",
    "    df_name = f'sonata_data_{task}_autoreject'\n",
    "    dir_name = f'data/sonata_data/feedback_export_{task}/'\n",
    "    pickled_data_filename = 'data/sonata_data/' + df_name + '.pkl'\n",
    "\n",
    "    if os.path.isfile(pickled_data_filename):\n",
    "        print(\"Pickled file found. Loading pickled data...\")\n",
    "        data_df = pd.read_pickle(pickled_data_filename)\n",
    "        data_df.name = df_name\n",
    "        print(\"Done\")\n",
    "        pass\n",
    "    else:\n",
    "        print(\"Pickled file not found. Loading data...\")\n",
    "        data_df = create_df_data(\n",
    "            dir_path=dir_name, \n",
    "            info=\"all\", \n",
    "            personal=False, \n",
    "            info_filename=info_filename, \n",
    "            task=task,\n",
    "            reject_by_annotation = False\n",
    "        )\n",
    "        \n",
    "        data_df.name = df_name\n",
    "        # save loaded data into a pickle file\n",
    "        data_df.to_pickle(\"data/sonata_data/\" + data_df.name + \".pkl\")\n",
    "        print(\"Done. Pickle file created\")\n",
    "else:\n",
    "    \n",
    "    df_name = f'sonata_data_{task}'\n",
    "    dir_name = f'data/sonata_data/feedback_export_{task}/'\n",
    "    pickled_data_filename = 'data/sonata_data/' + df_name + '.pkl'\n",
    "\n",
    "    if os.path.isfile(pickled_data_filename):\n",
    "        print(\"Pickled file found. Loading pickled data...\")\n",
    "        data_df = pd.read_pickle(pickled_data_filename)\n",
    "        data_df.name = df_name\n",
    "        print(\"Done\")\n",
    "        pass\n",
    "    else:\n",
    "        print(\"Pickled file not found. Loading data...\")\n",
    "        data_df = create_df_data(\n",
    "            dir_path=dir_name, \n",
    "            info=\"all\", \n",
    "            personal=False, \n",
    "            info_filename=info_filename, \n",
    "            task=task,\n",
    "            reject_by_annotation = True\n",
    "        )\n",
    "        data_df.name = df_name\n",
    "        # save loaded data into a pickle file\n",
    "        data_df.to_pickle(\"data/sonata_data/\" + data_df.name + \".pkl\")\n",
    "        print(\"Done. Pickle file created\")"
   ]
  },
  {
   "cell_type": "code",
   "execution_count": 18,
   "metadata": {},
   "outputs": [
    {
     "data": {
      "text/html": [
       "<div>\n",
       "<style scoped>\n",
       "    .dataframe tbody tr th:only-of-type {\n",
       "        vertical-align: middle;\n",
       "    }\n",
       "\n",
       "    .dataframe tbody tr th {\n",
       "        vertical-align: top;\n",
       "    }\n",
       "\n",
       "    .dataframe thead th {\n",
       "        text-align: right;\n",
       "    }\n",
       "</style>\n",
       "<table border=\"1\" class=\"dataframe\">\n",
       "  <thead>\n",
       "    <tr style=\"text-align: right;\">\n",
       "      <th></th>\n",
       "      <th>id</th>\n",
       "      <th>epochs</th>\n",
       "      <th>Demo_kod</th>\n",
       "      <th>BDI</th>\n",
       "      <th>BDI_cognitive</th>\n",
       "      <th>BDI_affective</th>\n",
       "      <th>BDI_affect_cog</th>\n",
       "      <th>BDI_somatic</th>\n",
       "      <th>STAI</th>\n",
       "    </tr>\n",
       "  </thead>\n",
       "  <tbody>\n",
       "    <tr>\n",
       "      <th>0</th>\n",
       "      <td>000</td>\n",
       "      <td>&lt;Epochs |  80 events (all good), -0.199219 - 0...</td>\n",
       "      <td>000</td>\n",
       "      <td>6</td>\n",
       "      <td>0.17</td>\n",
       "      <td>0.67</td>\n",
       "      <td>0.83</td>\n",
       "      <td>0.50</td>\n",
       "      <td>40</td>\n",
       "    </tr>\n",
       "    <tr>\n",
       "      <th>1</th>\n",
       "      <td>001</td>\n",
       "      <td>&lt;Epochs |  50 events (all good), -0.199219 - 0...</td>\n",
       "      <td>001</td>\n",
       "      <td>17</td>\n",
       "      <td>0.67</td>\n",
       "      <td>1.00</td>\n",
       "      <td>1.67</td>\n",
       "      <td>0.83</td>\n",
       "      <td>52</td>\n",
       "    </tr>\n",
       "    <tr>\n",
       "      <th>2</th>\n",
       "      <td>002</td>\n",
       "      <td>&lt;Epochs |  32 events (all good), -0.199219 - 0...</td>\n",
       "      <td>002</td>\n",
       "      <td>4</td>\n",
       "      <td>0.33</td>\n",
       "      <td>0.33</td>\n",
       "      <td>0.67</td>\n",
       "      <td>0.00</td>\n",
       "      <td>50</td>\n",
       "    </tr>\n",
       "    <tr>\n",
       "      <th>3</th>\n",
       "      <td>003</td>\n",
       "      <td>&lt;Epochs |  68 events (all good), -0.199219 - 0...</td>\n",
       "      <td>003</td>\n",
       "      <td>1</td>\n",
       "      <td>0.00</td>\n",
       "      <td>0.00</td>\n",
       "      <td>0.00</td>\n",
       "      <td>0.17</td>\n",
       "      <td>32</td>\n",
       "    </tr>\n",
       "    <tr>\n",
       "      <th>4</th>\n",
       "      <td>004</td>\n",
       "      <td>&lt;Epochs |  57 events (all good), -0.199219 - 0...</td>\n",
       "      <td>004</td>\n",
       "      <td>5</td>\n",
       "      <td>0.33</td>\n",
       "      <td>0.33</td>\n",
       "      <td>0.67</td>\n",
       "      <td>0.00</td>\n",
       "      <td>46</td>\n",
       "    </tr>\n",
       "    <tr>\n",
       "      <th>...</th>\n",
       "      <td>...</td>\n",
       "      <td>...</td>\n",
       "      <td>...</td>\n",
       "      <td>...</td>\n",
       "      <td>...</td>\n",
       "      <td>...</td>\n",
       "      <td>...</td>\n",
       "      <td>...</td>\n",
       "      <td>...</td>\n",
       "    </tr>\n",
       "    <tr>\n",
       "      <th>211</th>\n",
       "      <td>220</td>\n",
       "      <td>&lt;Epochs |  87 events (all good), -0.199219 - 0...</td>\n",
       "      <td>220</td>\n",
       "      <td>7</td>\n",
       "      <td>0.33</td>\n",
       "      <td>0.33</td>\n",
       "      <td>0.67</td>\n",
       "      <td>0.33</td>\n",
       "      <td>38</td>\n",
       "    </tr>\n",
       "    <tr>\n",
       "      <th>212</th>\n",
       "      <td>221</td>\n",
       "      <td>&lt;Epochs |  39 events (all good), -0.199219 - 0...</td>\n",
       "      <td>221</td>\n",
       "      <td>27</td>\n",
       "      <td>0.67</td>\n",
       "      <td>1.67</td>\n",
       "      <td>2.33</td>\n",
       "      <td>1.83</td>\n",
       "      <td>54</td>\n",
       "    </tr>\n",
       "    <tr>\n",
       "      <th>213</th>\n",
       "      <td>222</td>\n",
       "      <td>&lt;Epochs |  86 events (all good), -0.199219 - 0...</td>\n",
       "      <td>222</td>\n",
       "      <td>12</td>\n",
       "      <td>0.17</td>\n",
       "      <td>0.00</td>\n",
       "      <td>0.17</td>\n",
       "      <td>1.50</td>\n",
       "      <td>49</td>\n",
       "    </tr>\n",
       "    <tr>\n",
       "      <th>214</th>\n",
       "      <td>223</td>\n",
       "      <td>&lt;Epochs |  70 events (all good), -0.199219 - 0...</td>\n",
       "      <td>223</td>\n",
       "      <td>0</td>\n",
       "      <td>0.00</td>\n",
       "      <td>0.00</td>\n",
       "      <td>0.00</td>\n",
       "      <td>0.00</td>\n",
       "      <td>31</td>\n",
       "    </tr>\n",
       "    <tr>\n",
       "      <th>215</th>\n",
       "      <td>224</td>\n",
       "      <td>&lt;Epochs |  79 events (all good), -0.199219 - 0...</td>\n",
       "      <td>224</td>\n",
       "      <td>14</td>\n",
       "      <td>0.17</td>\n",
       "      <td>0.67</td>\n",
       "      <td>0.83</td>\n",
       "      <td>1.00</td>\n",
       "      <td>40</td>\n",
       "    </tr>\n",
       "  </tbody>\n",
       "</table>\n",
       "<p>216 rows × 9 columns</p>\n",
       "</div>"
      ],
      "text/plain": [
       "      id                                             epochs Demo_kod  BDI  \\\n",
       "0    000  <Epochs |  80 events (all good), -0.199219 - 0...      000    6   \n",
       "1    001  <Epochs |  50 events (all good), -0.199219 - 0...      001   17   \n",
       "2    002  <Epochs |  32 events (all good), -0.199219 - 0...      002    4   \n",
       "3    003  <Epochs |  68 events (all good), -0.199219 - 0...      003    1   \n",
       "4    004  <Epochs |  57 events (all good), -0.199219 - 0...      004    5   \n",
       "..   ...                                                ...      ...  ...   \n",
       "211  220  <Epochs |  87 events (all good), -0.199219 - 0...      220    7   \n",
       "212  221  <Epochs |  39 events (all good), -0.199219 - 0...      221   27   \n",
       "213  222  <Epochs |  86 events (all good), -0.199219 - 0...      222   12   \n",
       "214  223  <Epochs |  70 events (all good), -0.199219 - 0...      223    0   \n",
       "215  224  <Epochs |  79 events (all good), -0.199219 - 0...      224   14   \n",
       "\n",
       "     BDI_cognitive  BDI_affective  BDI_affect_cog  BDI_somatic  STAI  \n",
       "0             0.17           0.67            0.83         0.50    40  \n",
       "1             0.67           1.00            1.67         0.83    52  \n",
       "2             0.33           0.33            0.67         0.00    50  \n",
       "3             0.00           0.00            0.00         0.17    32  \n",
       "4             0.33           0.33            0.67         0.00    46  \n",
       "..             ...            ...             ...          ...   ...  \n",
       "211           0.33           0.33            0.67         0.33    38  \n",
       "212           0.67           1.67            2.33         1.83    54  \n",
       "213           0.17           0.00            0.17         1.50    49  \n",
       "214           0.00           0.00            0.00         0.00    31  \n",
       "215           0.17           0.67            0.83         1.00    40  \n",
       "\n",
       "[216 rows x 9 columns]"
      ]
     },
     "execution_count": 18,
     "metadata": {},
     "output_type": "execute_result"
    }
   ],
   "source": [
    "data_df"
   ]
  },
  {
   "cell_type": "markdown",
   "metadata": {},
   "source": [
    "### Add frequency data"
   ]
  },
  {
   "cell_type": "code",
   "execution_count": 19,
   "metadata": {},
   "outputs": [],
   "source": [
    "freq_ranges = [(0.1,2.0), (4.0,10.0)]"
   ]
  },
  {
   "cell_type": "markdown",
   "metadata": {},
   "source": [
    "- add delta"
   ]
  },
  {
   "cell_type": "code",
   "execution_count": 20,
   "metadata": {},
   "outputs": [],
   "source": [
    "%%capture\n",
    "\n",
    "data_df['delta'] = data_df['epochs'].apply(lambda x: x.copy().filter(\n",
    "    freq_ranges[0][0], \n",
    "    freq_ranges[0][1], \n",
    "    fir_design='firwin', \n",
    "    skip_by_annotation='edge',\n",
    "    h_trans_bandwidth = 'auto',\n",
    "))"
   ]
  },
  {
   "cell_type": "code",
   "execution_count": 21,
   "metadata": {},
   "outputs": [
    {
     "data": {
      "text/html": [
       "<div>\n",
       "<style scoped>\n",
       "    .dataframe tbody tr th:only-of-type {\n",
       "        vertical-align: middle;\n",
       "    }\n",
       "\n",
       "    .dataframe tbody tr th {\n",
       "        vertical-align: top;\n",
       "    }\n",
       "\n",
       "    .dataframe thead th {\n",
       "        text-align: right;\n",
       "    }\n",
       "</style>\n",
       "<table border=\"1\" class=\"dataframe\">\n",
       "  <thead>\n",
       "    <tr style=\"text-align: right;\">\n",
       "      <th></th>\n",
       "      <th>id</th>\n",
       "      <th>epochs</th>\n",
       "      <th>Demo_kod</th>\n",
       "      <th>BDI</th>\n",
       "      <th>BDI_cognitive</th>\n",
       "      <th>BDI_affective</th>\n",
       "      <th>BDI_affect_cog</th>\n",
       "      <th>BDI_somatic</th>\n",
       "      <th>STAI</th>\n",
       "      <th>delta</th>\n",
       "    </tr>\n",
       "  </thead>\n",
       "  <tbody>\n",
       "    <tr>\n",
       "      <th>0</th>\n",
       "      <td>000</td>\n",
       "      <td>&lt;Epochs |  80 events (all good), -0.199219 - 0...</td>\n",
       "      <td>000</td>\n",
       "      <td>6</td>\n",
       "      <td>0.17</td>\n",
       "      <td>0.67</td>\n",
       "      <td>0.83</td>\n",
       "      <td>0.50</td>\n",
       "      <td>40</td>\n",
       "      <td>&lt;Epochs |  80 events (all good), -0.199219 - 0...</td>\n",
       "    </tr>\n",
       "    <tr>\n",
       "      <th>1</th>\n",
       "      <td>001</td>\n",
       "      <td>&lt;Epochs |  50 events (all good), -0.199219 - 0...</td>\n",
       "      <td>001</td>\n",
       "      <td>17</td>\n",
       "      <td>0.67</td>\n",
       "      <td>1.00</td>\n",
       "      <td>1.67</td>\n",
       "      <td>0.83</td>\n",
       "      <td>52</td>\n",
       "      <td>&lt;Epochs |  50 events (all good), -0.199219 - 0...</td>\n",
       "    </tr>\n",
       "    <tr>\n",
       "      <th>2</th>\n",
       "      <td>002</td>\n",
       "      <td>&lt;Epochs |  32 events (all good), -0.199219 - 0...</td>\n",
       "      <td>002</td>\n",
       "      <td>4</td>\n",
       "      <td>0.33</td>\n",
       "      <td>0.33</td>\n",
       "      <td>0.67</td>\n",
       "      <td>0.00</td>\n",
       "      <td>50</td>\n",
       "      <td>&lt;Epochs |  32 events (all good), -0.199219 - 0...</td>\n",
       "    </tr>\n",
       "    <tr>\n",
       "      <th>3</th>\n",
       "      <td>003</td>\n",
       "      <td>&lt;Epochs |  68 events (all good), -0.199219 - 0...</td>\n",
       "      <td>003</td>\n",
       "      <td>1</td>\n",
       "      <td>0.00</td>\n",
       "      <td>0.00</td>\n",
       "      <td>0.00</td>\n",
       "      <td>0.17</td>\n",
       "      <td>32</td>\n",
       "      <td>&lt;Epochs |  68 events (all good), -0.199219 - 0...</td>\n",
       "    </tr>\n",
       "    <tr>\n",
       "      <th>4</th>\n",
       "      <td>004</td>\n",
       "      <td>&lt;Epochs |  57 events (all good), -0.199219 - 0...</td>\n",
       "      <td>004</td>\n",
       "      <td>5</td>\n",
       "      <td>0.33</td>\n",
       "      <td>0.33</td>\n",
       "      <td>0.67</td>\n",
       "      <td>0.00</td>\n",
       "      <td>46</td>\n",
       "      <td>&lt;Epochs |  57 events (all good), -0.199219 - 0...</td>\n",
       "    </tr>\n",
       "  </tbody>\n",
       "</table>\n",
       "</div>"
      ],
      "text/plain": [
       "    id                                             epochs Demo_kod  BDI  \\\n",
       "0  000  <Epochs |  80 events (all good), -0.199219 - 0...      000    6   \n",
       "1  001  <Epochs |  50 events (all good), -0.199219 - 0...      001   17   \n",
       "2  002  <Epochs |  32 events (all good), -0.199219 - 0...      002    4   \n",
       "3  003  <Epochs |  68 events (all good), -0.199219 - 0...      003    1   \n",
       "4  004  <Epochs |  57 events (all good), -0.199219 - 0...      004    5   \n",
       "\n",
       "   BDI_cognitive  BDI_affective  BDI_affect_cog  BDI_somatic  STAI  \\\n",
       "0           0.17           0.67            0.83         0.50    40   \n",
       "1           0.67           1.00            1.67         0.83    52   \n",
       "2           0.33           0.33            0.67         0.00    50   \n",
       "3           0.00           0.00            0.00         0.17    32   \n",
       "4           0.33           0.33            0.67         0.00    46   \n",
       "\n",
       "                                               delta  \n",
       "0  <Epochs |  80 events (all good), -0.199219 - 0...  \n",
       "1  <Epochs |  50 events (all good), -0.199219 - 0...  \n",
       "2  <Epochs |  32 events (all good), -0.199219 - 0...  \n",
       "3  <Epochs |  68 events (all good), -0.199219 - 0...  \n",
       "4  <Epochs |  57 events (all good), -0.199219 - 0...  "
      ]
     },
     "execution_count": 21,
     "metadata": {},
     "output_type": "execute_result"
    }
   ],
   "source": [
    "data_df.head()"
   ]
  },
  {
   "cell_type": "markdown",
   "metadata": {},
   "source": [
    "- add theta"
   ]
  },
  {
   "cell_type": "code",
   "execution_count": 22,
   "metadata": {},
   "outputs": [],
   "source": [
    "%%capture\n",
    "\n",
    "data_df['theta'] = data_df['epochs'].apply(lambda x: x.copy().filter(\n",
    "    freq_ranges[1][0], \n",
    "    freq_ranges[1][1], \n",
    "    fir_design='firwin', \n",
    "    skip_by_annotation='edge',\n",
    "    h_trans_bandwidth = 'auto',\n",
    "))"
   ]
  },
  {
   "cell_type": "code",
   "execution_count": 23,
   "metadata": {},
   "outputs": [
    {
     "data": {
      "text/html": [
       "<div>\n",
       "<style scoped>\n",
       "    .dataframe tbody tr th:only-of-type {\n",
       "        vertical-align: middle;\n",
       "    }\n",
       "\n",
       "    .dataframe tbody tr th {\n",
       "        vertical-align: top;\n",
       "    }\n",
       "\n",
       "    .dataframe thead th {\n",
       "        text-align: right;\n",
       "    }\n",
       "</style>\n",
       "<table border=\"1\" class=\"dataframe\">\n",
       "  <thead>\n",
       "    <tr style=\"text-align: right;\">\n",
       "      <th></th>\n",
       "      <th>id</th>\n",
       "      <th>epochs</th>\n",
       "      <th>Demo_kod</th>\n",
       "      <th>BDI</th>\n",
       "      <th>BDI_cognitive</th>\n",
       "      <th>BDI_affective</th>\n",
       "      <th>BDI_affect_cog</th>\n",
       "      <th>BDI_somatic</th>\n",
       "      <th>STAI</th>\n",
       "      <th>delta</th>\n",
       "      <th>theta</th>\n",
       "    </tr>\n",
       "  </thead>\n",
       "  <tbody>\n",
       "    <tr>\n",
       "      <th>0</th>\n",
       "      <td>000</td>\n",
       "      <td>&lt;Epochs |  80 events (all good), -0.199219 - 0...</td>\n",
       "      <td>000</td>\n",
       "      <td>6</td>\n",
       "      <td>0.17</td>\n",
       "      <td>0.67</td>\n",
       "      <td>0.83</td>\n",
       "      <td>0.50</td>\n",
       "      <td>40</td>\n",
       "      <td>&lt;Epochs |  80 events (all good), -0.199219 - 0...</td>\n",
       "      <td>&lt;Epochs |  80 events (all good), -0.199219 - 0...</td>\n",
       "    </tr>\n",
       "    <tr>\n",
       "      <th>1</th>\n",
       "      <td>001</td>\n",
       "      <td>&lt;Epochs |  50 events (all good), -0.199219 - 0...</td>\n",
       "      <td>001</td>\n",
       "      <td>17</td>\n",
       "      <td>0.67</td>\n",
       "      <td>1.00</td>\n",
       "      <td>1.67</td>\n",
       "      <td>0.83</td>\n",
       "      <td>52</td>\n",
       "      <td>&lt;Epochs |  50 events (all good), -0.199219 - 0...</td>\n",
       "      <td>&lt;Epochs |  50 events (all good), -0.199219 - 0...</td>\n",
       "    </tr>\n",
       "    <tr>\n",
       "      <th>2</th>\n",
       "      <td>002</td>\n",
       "      <td>&lt;Epochs |  32 events (all good), -0.199219 - 0...</td>\n",
       "      <td>002</td>\n",
       "      <td>4</td>\n",
       "      <td>0.33</td>\n",
       "      <td>0.33</td>\n",
       "      <td>0.67</td>\n",
       "      <td>0.00</td>\n",
       "      <td>50</td>\n",
       "      <td>&lt;Epochs |  32 events (all good), -0.199219 - 0...</td>\n",
       "      <td>&lt;Epochs |  32 events (all good), -0.199219 - 0...</td>\n",
       "    </tr>\n",
       "    <tr>\n",
       "      <th>3</th>\n",
       "      <td>003</td>\n",
       "      <td>&lt;Epochs |  68 events (all good), -0.199219 - 0...</td>\n",
       "      <td>003</td>\n",
       "      <td>1</td>\n",
       "      <td>0.00</td>\n",
       "      <td>0.00</td>\n",
       "      <td>0.00</td>\n",
       "      <td>0.17</td>\n",
       "      <td>32</td>\n",
       "      <td>&lt;Epochs |  68 events (all good), -0.199219 - 0...</td>\n",
       "      <td>&lt;Epochs |  68 events (all good), -0.199219 - 0...</td>\n",
       "    </tr>\n",
       "    <tr>\n",
       "      <th>4</th>\n",
       "      <td>004</td>\n",
       "      <td>&lt;Epochs |  57 events (all good), -0.199219 - 0...</td>\n",
       "      <td>004</td>\n",
       "      <td>5</td>\n",
       "      <td>0.33</td>\n",
       "      <td>0.33</td>\n",
       "      <td>0.67</td>\n",
       "      <td>0.00</td>\n",
       "      <td>46</td>\n",
       "      <td>&lt;Epochs |  57 events (all good), -0.199219 - 0...</td>\n",
       "      <td>&lt;Epochs |  57 events (all good), -0.199219 - 0...</td>\n",
       "    </tr>\n",
       "    <tr>\n",
       "      <th>...</th>\n",
       "      <td>...</td>\n",
       "      <td>...</td>\n",
       "      <td>...</td>\n",
       "      <td>...</td>\n",
       "      <td>...</td>\n",
       "      <td>...</td>\n",
       "      <td>...</td>\n",
       "      <td>...</td>\n",
       "      <td>...</td>\n",
       "      <td>...</td>\n",
       "      <td>...</td>\n",
       "    </tr>\n",
       "    <tr>\n",
       "      <th>211</th>\n",
       "      <td>220</td>\n",
       "      <td>&lt;Epochs |  87 events (all good), -0.199219 - 0...</td>\n",
       "      <td>220</td>\n",
       "      <td>7</td>\n",
       "      <td>0.33</td>\n",
       "      <td>0.33</td>\n",
       "      <td>0.67</td>\n",
       "      <td>0.33</td>\n",
       "      <td>38</td>\n",
       "      <td>&lt;Epochs |  87 events (all good), -0.199219 - 0...</td>\n",
       "      <td>&lt;Epochs |  87 events (all good), -0.199219 - 0...</td>\n",
       "    </tr>\n",
       "    <tr>\n",
       "      <th>212</th>\n",
       "      <td>221</td>\n",
       "      <td>&lt;Epochs |  39 events (all good), -0.199219 - 0...</td>\n",
       "      <td>221</td>\n",
       "      <td>27</td>\n",
       "      <td>0.67</td>\n",
       "      <td>1.67</td>\n",
       "      <td>2.33</td>\n",
       "      <td>1.83</td>\n",
       "      <td>54</td>\n",
       "      <td>&lt;Epochs |  39 events (all good), -0.199219 - 0...</td>\n",
       "      <td>&lt;Epochs |  39 events (all good), -0.199219 - 0...</td>\n",
       "    </tr>\n",
       "    <tr>\n",
       "      <th>213</th>\n",
       "      <td>222</td>\n",
       "      <td>&lt;Epochs |  86 events (all good), -0.199219 - 0...</td>\n",
       "      <td>222</td>\n",
       "      <td>12</td>\n",
       "      <td>0.17</td>\n",
       "      <td>0.00</td>\n",
       "      <td>0.17</td>\n",
       "      <td>1.50</td>\n",
       "      <td>49</td>\n",
       "      <td>&lt;Epochs |  86 events (all good), -0.199219 - 0...</td>\n",
       "      <td>&lt;Epochs |  86 events (all good), -0.199219 - 0...</td>\n",
       "    </tr>\n",
       "    <tr>\n",
       "      <th>214</th>\n",
       "      <td>223</td>\n",
       "      <td>&lt;Epochs |  70 events (all good), -0.199219 - 0...</td>\n",
       "      <td>223</td>\n",
       "      <td>0</td>\n",
       "      <td>0.00</td>\n",
       "      <td>0.00</td>\n",
       "      <td>0.00</td>\n",
       "      <td>0.00</td>\n",
       "      <td>31</td>\n",
       "      <td>&lt;Epochs |  70 events (all good), -0.199219 - 0...</td>\n",
       "      <td>&lt;Epochs |  70 events (all good), -0.199219 - 0...</td>\n",
       "    </tr>\n",
       "    <tr>\n",
       "      <th>215</th>\n",
       "      <td>224</td>\n",
       "      <td>&lt;Epochs |  79 events (all good), -0.199219 - 0...</td>\n",
       "      <td>224</td>\n",
       "      <td>14</td>\n",
       "      <td>0.17</td>\n",
       "      <td>0.67</td>\n",
       "      <td>0.83</td>\n",
       "      <td>1.00</td>\n",
       "      <td>40</td>\n",
       "      <td>&lt;Epochs |  79 events (all good), -0.199219 - 0...</td>\n",
       "      <td>&lt;Epochs |  79 events (all good), -0.199219 - 0...</td>\n",
       "    </tr>\n",
       "  </tbody>\n",
       "</table>\n",
       "<p>216 rows × 11 columns</p>\n",
       "</div>"
      ],
      "text/plain": [
       "      id                                             epochs Demo_kod  BDI  \\\n",
       "0    000  <Epochs |  80 events (all good), -0.199219 - 0...      000    6   \n",
       "1    001  <Epochs |  50 events (all good), -0.199219 - 0...      001   17   \n",
       "2    002  <Epochs |  32 events (all good), -0.199219 - 0...      002    4   \n",
       "3    003  <Epochs |  68 events (all good), -0.199219 - 0...      003    1   \n",
       "4    004  <Epochs |  57 events (all good), -0.199219 - 0...      004    5   \n",
       "..   ...                                                ...      ...  ...   \n",
       "211  220  <Epochs |  87 events (all good), -0.199219 - 0...      220    7   \n",
       "212  221  <Epochs |  39 events (all good), -0.199219 - 0...      221   27   \n",
       "213  222  <Epochs |  86 events (all good), -0.199219 - 0...      222   12   \n",
       "214  223  <Epochs |  70 events (all good), -0.199219 - 0...      223    0   \n",
       "215  224  <Epochs |  79 events (all good), -0.199219 - 0...      224   14   \n",
       "\n",
       "     BDI_cognitive  BDI_affective  BDI_affect_cog  BDI_somatic  STAI  \\\n",
       "0             0.17           0.67            0.83         0.50    40   \n",
       "1             0.67           1.00            1.67         0.83    52   \n",
       "2             0.33           0.33            0.67         0.00    50   \n",
       "3             0.00           0.00            0.00         0.17    32   \n",
       "4             0.33           0.33            0.67         0.00    46   \n",
       "..             ...            ...             ...          ...   ...   \n",
       "211           0.33           0.33            0.67         0.33    38   \n",
       "212           0.67           1.67            2.33         1.83    54   \n",
       "213           0.17           0.00            0.17         1.50    49   \n",
       "214           0.00           0.00            0.00         0.00    31   \n",
       "215           0.17           0.67            0.83         1.00    40   \n",
       "\n",
       "                                                 delta  \\\n",
       "0    <Epochs |  80 events (all good), -0.199219 - 0...   \n",
       "1    <Epochs |  50 events (all good), -0.199219 - 0...   \n",
       "2    <Epochs |  32 events (all good), -0.199219 - 0...   \n",
       "3    <Epochs |  68 events (all good), -0.199219 - 0...   \n",
       "4    <Epochs |  57 events (all good), -0.199219 - 0...   \n",
       "..                                                 ...   \n",
       "211  <Epochs |  87 events (all good), -0.199219 - 0...   \n",
       "212  <Epochs |  39 events (all good), -0.199219 - 0...   \n",
       "213  <Epochs |  86 events (all good), -0.199219 - 0...   \n",
       "214  <Epochs |  70 events (all good), -0.199219 - 0...   \n",
       "215  <Epochs |  79 events (all good), -0.199219 - 0...   \n",
       "\n",
       "                                                 theta  \n",
       "0    <Epochs |  80 events (all good), -0.199219 - 0...  \n",
       "1    <Epochs |  50 events (all good), -0.199219 - 0...  \n",
       "2    <Epochs |  32 events (all good), -0.199219 - 0...  \n",
       "3    <Epochs |  68 events (all good), -0.199219 - 0...  \n",
       "4    <Epochs |  57 events (all good), -0.199219 - 0...  \n",
       "..                                                 ...  \n",
       "211  <Epochs |  87 events (all good), -0.199219 - 0...  \n",
       "212  <Epochs |  39 events (all good), -0.199219 - 0...  \n",
       "213  <Epochs |  86 events (all good), -0.199219 - 0...  \n",
       "214  <Epochs |  70 events (all good), -0.199219 - 0...  \n",
       "215  <Epochs |  79 events (all good), -0.199219 - 0...  \n",
       "\n",
       "[216 rows x 11 columns]"
      ]
     },
     "execution_count": 23,
     "metadata": {},
     "output_type": "execute_result"
    }
   ],
   "source": [
    "data_df"
   ]
  },
  {
   "cell_type": "code",
   "execution_count": 24,
   "metadata": {},
   "outputs": [],
   "source": [
    "data_df.to_pickle(\"data/sonata_data/\" + data_df.name + \"_freq.pkl\")"
   ]
  },
  {
   "cell_type": "markdown",
   "metadata": {},
   "source": [
    "## Define groups"
   ]
  },
  {
   "cell_type": "code",
   "execution_count": 122,
   "metadata": {},
   "outputs": [],
   "source": [
    "data_df = pd.read_pickle('data/sonata_data/sonata_data_GNG_autoreject_freq.pkl')"
   ]
  },
  {
   "cell_type": "code",
   "execution_count": 123,
   "metadata": {},
   "outputs": [
    {
     "data": {
      "text/plain": [
       "218"
      ]
     },
     "execution_count": 123,
     "metadata": {},
     "output_type": "execute_result"
    }
   ],
   "source": [
    "ids = np.load('data/sonata_data/ids/gng_fla_common_ids_autoreject.npy')\n",
    "ids.sort()\n",
    "len(ids)"
   ]
  },
  {
   "cell_type": "code",
   "execution_count": 125,
   "metadata": {},
   "outputs": [],
   "source": [
    "data_df = data_df[data_df['id'].isin(ids)]\n",
    "data_df.shape"
   ]
  },
  {
   "cell_type": "code",
   "execution_count": 127,
   "metadata": {
    "colab": {
     "base_uri": "https://localhost:8080/"
    },
    "executionInfo": {
     "elapsed": 9,
     "status": "ok",
     "timestamp": 1677518482887,
     "user": {
      "displayName": "Anna Grabowska",
      "userId": "15734344613010880864"
     },
     "user_tz": -60
    },
    "id": "99n0TtUK9ksT",
    "outputId": "f3ba7a7e-1df9-40f7-8cb7-531dc5568a22"
   },
   "outputs": [
    {
     "data": {
      "text/plain": [
       "73"
      ]
     },
     "execution_count": 127,
     "metadata": {},
     "output_type": "execute_result"
    }
   ],
   "source": [
    "dep = data_df[(data_df['BDI'] > 13) & (data_df['STAI'] > 41)]\n",
    "len(dep)"
   ]
  },
  {
   "cell_type": "code",
   "execution_count": 128,
   "metadata": {
    "colab": {
     "base_uri": "https://localhost:8080/"
    },
    "executionInfo": {
     "elapsed": 1634,
     "status": "ok",
     "timestamp": 1677518482441,
     "user": {
      "displayName": "Anna Grabowska",
      "userId": "15734344613010880864"
     },
     "user_tz": -60
    },
    "id": "bwQTP8md9TcN",
    "outputId": "06ef3c64-6497-4112-f932-479b0402bb64"
   },
   "outputs": [
    {
     "data": {
      "text/plain": [
       "72"
      ]
     },
     "execution_count": 128,
     "metadata": {},
     "output_type": "execute_result"
    }
   ],
   "source": [
    "ctrl_dep = data_df[(data_df['BDI'] <= 13) & (data_df['STAI'] > 41)]\n",
    "len(ctrl_dep)"
   ]
  },
  {
   "cell_type": "code",
   "execution_count": 131,
   "metadata": {
    "colab": {
     "base_uri": "https://localhost:8080/"
    },
    "executionInfo": {
     "elapsed": 10,
     "status": "ok",
     "timestamp": 1677518484019,
     "user": {
      "displayName": "Anna Grabowska",
      "userId": "15734344613010880864"
     },
     "user_tz": -60
    },
    "id": "97mJ2ng_AbGE",
    "outputId": "ede2577b-dae5-436c-ab09-f410d82f70cb"
   },
   "outputs": [
    {
     "data": {
      "text/plain": [
       "65"
      ]
     },
     "execution_count": 131,
     "metadata": {},
     "output_type": "execute_result"
    }
   ],
   "source": [
    "anx = data_df[(data_df['BDI'] <= 13) & (data_df['STAI'] > 42)]\n",
    "len(anx)"
   ]
  },
  {
   "cell_type": "code",
   "execution_count": 132,
   "metadata": {
    "colab": {
     "base_uri": "https://localhost:8080/"
    },
    "executionInfo": {
     "elapsed": 9,
     "status": "ok",
     "timestamp": 1677518484020,
     "user": {
      "displayName": "Anna Grabowska",
      "userId": "15734344613010880864"
     },
     "user_tz": -60
    },
    "id": "G7I_H8GE4A1B",
    "outputId": "71543e90-f1c3-41a1-e05d-65646b48b9eb"
   },
   "outputs": [
    {
     "data": {
      "text/plain": [
       "64"
      ]
     },
     "execution_count": 132,
     "metadata": {},
     "output_type": "execute_result"
    }
   ],
   "source": [
    "ctrl_anx = data_df[(data_df['BDI'] <= 13) & (data_df['STAI'] < 41)]\n",
    "len(ctrl_anx)"
   ]
  },
  {
   "cell_type": "markdown",
   "metadata": {},
   "source": [
    "### Visualize data"
   ]
  },
  {
   "cell_type": "code",
   "execution_count": null,
   "metadata": {},
   "outputs": [],
   "source": [
    "# with pd.option_context('display.max_rows', None,\n",
    "#                        'display.max_columns', None,\n",
    "#                        'display.precision', 3,\n",
    "#                        ):\n",
    "#     display(data_df)"
   ]
  },
  {
   "cell_type": "markdown",
   "metadata": {},
   "source": [
    "- Good and Bad feedback"
   ]
  },
  {
   "cell_type": "code",
   "execution_count": 134,
   "metadata": {},
   "outputs": [],
   "source": [
    "data_rewp = [epoch['f_good'].average().get_data(tmin=-0.1, tmax=0.6, picks='FCz') for epoch in data_df['epochs']]\n",
    "data_frn = [epoch['f_bad'].average().get_data(tmin=-0.1, tmax=0.6, picks='FCz') for epoch in data_df['epochs']]"
   ]
  },
  {
   "cell_type": "code",
   "execution_count": 135,
   "metadata": {},
   "outputs": [
    {
     "data": {
      "text/plain": [
       "[<matplotlib.lines.Line2D at 0x7f72f2d29e80>]"
      ]
     },
     "execution_count": 135,
     "metadata": {},
     "output_type": "execute_result"
    },
    {
     "data": {
      "image/png": "[encoded data removed]",
      "text/plain": [
       "<Figure size 432x288 with 1 Axes>"
      ]
     },
     "metadata": {},
     "output_type": "display_data"
    }
   ],
   "source": [
    "plt.plot(np.linspace(-0.1, 0.6, 179), np.nanmean(data_rewp, axis=0)[0])\n",
    "plt.plot(np.linspace(-0.1, 0.6, 179), np.nanmean(data_frn, axis=0)[0])"
   ]
  },
  {
   "cell_type": "markdown",
   "metadata": {},
   "source": [
    "- depression"
   ]
  },
  {
   "cell_type": "code",
   "execution_count": 136,
   "metadata": {},
   "outputs": [],
   "source": [
    "dep_data_rewp = [epoch['f_good'].average().get_data(tmin=-0.1, tmax=0.6, picks='FCz') for epoch in dep['epochs']]\n",
    "dep_data_frn = [epoch['f_bad'].average().get_data(tmin=-0.1, tmax=0.6, picks='FCz') for epoch in dep['epochs']]\n",
    "ctrl_dep_data_rewp = [epoch['f_good'].average().get_data(tmin=-0.1, tmax=0.6, picks='FCz') for epoch in ctrl_dep['epochs']]\n",
    "ctrl_dep_data_frn = [epoch['f_bad'].average().get_data(tmin=-0.1, tmax=0.6, picks='FCz') for epoch in ctrl_dep['epochs']]"
   ]
  },
  {
   "cell_type": "code",
   "execution_count": 137,
   "metadata": {},
   "outputs": [
    {
     "data": {
      "text/plain": [
       "[<matplotlib.lines.Line2D at 0x7f72e03f8bb0>]"
      ]
     },
     "execution_count": 137,
     "metadata": {},
     "output_type": "execute_result"
    },
    {
     "data": {
      "image/png": "[encoded data removed]",
      "text/plain": [
       "<Figure size 432x288 with 1 Axes>"
      ]
     },
     "metadata": {},
     "output_type": "display_data"
    }
   ],
   "source": [
    "plt.plot(np.linspace(-0.1, 0.6, 179), np.nanmean(dep_data_rewp, axis=0)[0], color='r')\n",
    "# plt.plot(np.linspace(-0.1, 0.6, 179), np.nanmean(dep_data_frn, axis=0)[0])\n",
    "plt.plot(np.linspace(-0.1, 0.6, 179), np.nanmean(ctrl_dep_data_rewp, axis=0)[0], color='b')\n",
    "# plt.plot(np.linspace(-0.1, 0.6, 179), np.nanmean(ctrl_dep_data_frn, axis=0)[0])"
   ]
  },
  {
   "cell_type": "code",
   "execution_count": 138,
   "metadata": {},
   "outputs": [
    {
     "data": {
      "text/plain": [
       "[<matplotlib.lines.Line2D at 0x7f73e24b5160>]"
      ]
     },
     "execution_count": 138,
     "metadata": {},
     "output_type": "execute_result"
    },
    {
     "data": {
      "image/png": "[encoded data removed]",
      "text/plain": [
       "<Figure size 432x288 with 1 Axes>"
      ]
     },
     "metadata": {},
     "output_type": "display_data"
    }
   ],
   "source": [
    "# plt.plot(np.linspace(-0.1, 0.6, 179), np.nanmean(dep_data_rewp, axis=0)[0])\n",
    "plt.plot(np.linspace(-0.1, 0.6, 179), np.nanmean(dep_data_frn, axis=0)[0], color='r')\n",
    "# plt.plot(np.linspace(-0.1, 0.6, 179), np.nanmean(ctrl_dep_data_rewp, axis=0)[0])\n",
    "plt.plot(np.linspace(-0.1, 0.6, 179), np.nanmean(ctrl_dep_data_frn, axis=0)[0], color='b')"
   ]
  },
  {
   "cell_type": "code",
   "execution_count": 139,
   "metadata": {},
   "outputs": [
    {
     "data": {
      "text/plain": [
       "[<matplotlib.lines.Line2D at 0x7f72ab36d250>]"
      ]
     },
     "execution_count": 139,
     "metadata": {},
     "output_type": "execute_result"
    },
    {
     "data": {
      "image/png": "[encoded data removed]",
      "text/plain": [
       "<Figure size 432x288 with 1 Axes>"
      ]
     },
     "metadata": {},
     "output_type": "display_data"
    }
   ],
   "source": [
    "plt.plot(np.linspace(-0.1, 0.6, 179), (np.nanmean(dep_data_rewp, axis=0)[0] - np.nanmean(dep_data_frn, axis=0)[0]), color='r')\n",
    "plt.plot(np.linspace(-0.1, 0.6, 179), (np.nanmean(ctrl_dep_data_rewp, axis=0)[0] - np.nanmean(ctrl_dep_data_frn, axis=0)[0]), color='b')"
   ]
  },
  {
   "cell_type": "markdown",
   "metadata": {},
   "source": [
    "- anxiety"
   ]
  },
  {
   "cell_type": "code",
   "execution_count": 140,
   "metadata": {},
   "outputs": [],
   "source": [
    "anx_data_rewp = [epoch['f_good'].average().get_data(tmin=-0.1, tmax=0.6, picks='FCz') for epoch in anx['epochs']]\n",
    "anx_data_frn = [epoch['f_bad'].average().get_data(tmin=-0.1, tmax=0.6, picks='FCz') for epoch in anx['epochs']]\n",
    "ctrl_anx_data_rewp = [epoch['f_good'].average().get_data(tmin=-0.1, tmax=0.6, picks='FCz') for epoch in ctrl_anx['epochs']]\n",
    "ctrl_anx_data_frn = [epoch['f_bad'].average().get_data(tmin=-0.1, tmax=0.6, picks='FCz') for epoch in ctrl_anx['epochs']]"
   ]
  },
  {
   "cell_type": "code",
   "execution_count": 141,
   "metadata": {},
   "outputs": [
    {
     "data": {
      "text/plain": [
       "[<matplotlib.lines.Line2D at 0x7f72a3dd7190>]"
      ]
     },
     "execution_count": 141,
     "metadata": {},
     "output_type": "execute_result"
    },
    {
     "data": {
      "image/png": "[encoded data removed]",
      "text/plain": [
       "<Figure size 432x288 with 1 Axes>"
      ]
     },
     "metadata": {},
     "output_type": "display_data"
    }
   ],
   "source": [
    "plt.plot(np.linspace(-0.1, 0.6, 179), np.nanmean(anx_data_rewp, axis=0).reshape(-1), color = 'r')\n",
    "# plt.plot(np.linspace(-0.1, 0.6, 179), np.mean(anx_data_frn, axis=0)[0])\n",
    "plt.plot(np.linspace(-0.1, 0.6, 179), np.nanmean(ctrl_anx_data_rewp, axis=0).reshape(-1), color = 'b')\n",
    "# plt.plot(np.linspace(-0.1, 0.6, 179), np.mean(ctrl_anx_data_frn, axis=0)[0])"
   ]
  },
  {
   "cell_type": "code",
   "execution_count": 142,
   "metadata": {},
   "outputs": [
    {
     "data": {
      "text/plain": [
       "[<matplotlib.lines.Line2D at 0x7f74c860c9d0>]"
      ]
     },
     "execution_count": 142,
     "metadata": {},
     "output_type": "execute_result"
    },
    {
     "data": {
      "image/png": "[encoded data removed]",
      "text/plain": [
       "<Figure size 432x288 with 1 Axes>"
      ]
     },
     "metadata": {},
     "output_type": "display_data"
    }
   ],
   "source": [
    "# plt.plot(np.linspace(-0.1, 0.6, 179), np.mean(anx_data_rewp, axis=0)[0])\n",
    "plt.plot(np.linspace(-0.1, 0.6, 179), np.nanmean(anx_data_frn, axis=0)[0], color='r')\n",
    "# plt.plot(np.linspace(-0.1, 0.6, 179), np.mean(ctrl_anx_data_rewp, axis=0)[0])\n",
    "plt.plot(np.linspace(-0.1, 0.6, 179), np.nanmean(ctrl_anx_data_frn, axis=0)[0], color='b')"
   ]
  },
  {
   "cell_type": "code",
   "execution_count": 143,
   "metadata": {},
   "outputs": [
    {
     "data": {
      "text/plain": [
       "[<matplotlib.lines.Line2D at 0x7f746e4485b0>]"
      ]
     },
     "execution_count": 143,
     "metadata": {},
     "output_type": "execute_result"
    },
    {
     "data": {
      "image/png": "[encoded data removed]",
      "text/plain": [
       "<Figure size 432x288 with 1 Axes>"
      ]
     },
     "metadata": {},
     "output_type": "display_data"
    }
   ],
   "source": [
    "plt.plot(np.linspace(-0.1, 0.6, 179), (np.nanmean(anx_data_rewp, axis=0)[0] - np.nanmean(anx_data_frn, axis=0)[0]), color='r')\n",
    "plt.plot(np.linspace(-0.1, 0.6, 179), (np.nanmean(ctrl_anx_data_rewp, axis=0)[0] - np.nanmean(ctrl_anx_data_frn, axis=0)[0]), color='b')"
   ]
  },
  {
   "cell_type": "markdown",
   "metadata": {},
   "source": [
    "## Classification"
   ]
  },
  {
   "cell_type": "code",
   "execution_count": 144,
   "metadata": {},
   "outputs": [],
   "source": [
    "# Calculating p-value with permutation test from sci-kit learn\n",
    "\n",
    "def calculate_p_permutations(estimator, X, y, cv=5, n_permutations=1000, n_jobs=1):\n",
    "\n",
    "    score_, perm_scores_, pvalue_ = permutation_test_score(\n",
    "        estimator, X, y, cv=cv, n_permutations=n_permutations, n_jobs=n_jobs\n",
    "    )\n",
    "\n",
    "    # summarize\n",
    "    print(f\"     The permutation P-value is = {pvalue_:.4f}\")\n",
    "    print(f\"     The permutation score is = {score_:.4f}\\n\")\n",
    "\n",
    "    return score_, pvalue_"
   ]
  },
  {
   "cell_type": "code",
   "execution_count": 145,
   "metadata": {
    "id": "5ES-E98N1UR5"
   },
   "outputs": [],
   "source": [
    "def evaluate_GS_model(\n",
    "    pipe,\n",
    "    X_train, \n",
    "    y_train, \n",
    "    X_test, \n",
    "    y_test, \n",
    "    classifier_params,\n",
    "    pipeline_name,\n",
    "    cv=StratifiedKFold(n_splits=5),\n",
    "    predict_test = True,\n",
    "    predict_train = True,\n",
    "    ):\n",
    "    \n",
    "    # define grid search\n",
    "    grid_search_model = GridSearchCV(\n",
    "        pipe,\n",
    "        classifier_params,\n",
    "        cv=cv,\n",
    "        scoring={\"roc_auc\", \"balanced_accuracy\", \"precision\", \"recall\"},\n",
    "        refit=\"balanced_accuracy\",\n",
    "        return_train_score=True,\n",
    "        verbose=10,\n",
    "        n_jobs=1,\n",
    "        \n",
    "    )\n",
    "\n",
    "    # fit model\n",
    "    grid_search_model.fit(X_train, y_train)\n",
    "\n",
    "    # predict test data\n",
    "    # y_test_pred = grid_search_model.predict(X_test) if predict_test is True else None\n",
    "    # test_score = roc_auc_score(y_test, y_test_pred) if predict_test is True else None\n",
    "\n",
    "    # predict train data\n",
    "    y_train_pred = grid_search_model.predict(X_train) if predict_train is True else None\n",
    "    train_score = roc_auc_score(y_train, y_train_pred) if predict_train is True else None \n",
    "\n",
    "    # extract mean cv scores\n",
    "    mean_cv_score = grid_search_model.best_score_\n",
    "    \n",
    "    # report\n",
    "    # classification_report_ = classification_report(y_test, y_test_pred, labels=[0,1])\n",
    "\n",
    "    # extract splits scores\n",
    "    # ta linijka wyciąga z cv_results, czyli z DF z wynikami wszystkich testowanych \n",
    "    # w GS parametrów scory na kolejnych splitach cross-validacji\n",
    "    cv_results_df = pd.DataFrame(grid_search_model.cv_results_).iloc[[grid_search_model.best_index_]]\n",
    "    cv_splits_scores_df = cv_results_df.filter(regex=r\"split\\d*_test_roc_auc\").reset_index(drop=True) \n",
    "\n",
    "    # wyciąganie scorów na teście dla matryk zdefiniowanych w scoring\n",
    "    metrics_results_df = cv_results_df.filter(regex=r\"mean_test_*\").reset_index(drop=True)\n",
    "    \n",
    "    # calculate p-value\n",
    "    scores_, pvalue_ = calculate_p_permutations(\n",
    "            grid_search_model.best_estimator_, X_train, y_train, cv=cv\n",
    "        )\n",
    "\n",
    "\n",
    "    # save results in dataframe\n",
    "    this_result = pd.concat(\n",
    "        [\n",
    "            pd.DataFrame({\n",
    "            \"model_name\": [pipe.steps[-1][0]],\n",
    "            \"pipeline_name\": [pipeline_name],\n",
    "            \"train score\": [train_score],\n",
    "            \"mean_cv_score\": [mean_cv_score],\n",
    "            # \"test_score\": [test_score],\n",
    "            \"best_model\": [grid_search_model.best_estimator_],\n",
    "            \"parameters\": [grid_search_model.best_params_],\n",
    "            \"pvalue\":[pvalue_],    \n",
    "            }),\n",
    "         cv_splits_scores_df,\n",
    "         metrics_results_df,\n",
    "        ],\n",
    "    axis=1\n",
    "    ) \n",
    "\n",
    "    return this_result"
   ]
  },
  {
   "cell_type": "markdown",
   "metadata": {
    "id": "RcHAwa6LOvqm"
   },
   "source": [
    "Define estimators"
   ]
  },
  {
   "cell_type": "code",
   "execution_count": 146,
   "metadata": {
    "id": "DtsaDVEdPHXs"
   },
   "outputs": [],
   "source": [
    "lg = ('lg', LogisticRegression(penalty='l1', solver='liblinear', multi_class='auto'))\n",
    "lg_params = dict()\n",
    "\n",
    "svc = ('svc' , SVC())\n",
    "svc_params = dict(\n",
    "    svc__kernel=[\"linear\", \"rbf\"],\n",
    "    svc__C=[0.0001, 0.001, 0.01, 0.1, 1, 10, 100, 1000]\n",
    ")\n",
    "\n",
    "lda = (\"lda\", LinearDiscriminantAnalysis())\n",
    "lda_params = dict(\n",
    "    lda__solver = [\"lsqr\", \"eigen\"],\n",
    "    lda__shrinkage = [\"auto\"],\n",
    ")\n",
    "\n",
    "\n",
    "estimators = [\n",
    "    # (lg, lg_params),\n",
    "    (svc, svc_params),\n",
    "    # (lda, lda_params)\n",
    "]"
   ]
  },
  {
   "cell_type": "markdown",
   "metadata": {},
   "source": [
    "Define CSP"
   ]
  },
  {
   "cell_type": "code",
   "execution_count": 147,
   "metadata": {},
   "outputs": [],
   "source": [
    "csp = ('csp', CSP(log=None, norm_trace=False))\n",
    "csp_params = dict(\n",
    "    csp__n_components = [1,2, 3, 4],\n",
    "    csp__reg = [0.001, 0.01, 0.1, 1, 10]\n",
    ")"
   ]
  },
  {
   "cell_type": "markdown",
   "metadata": {
    "id": "g-Hb8Rb_Ei8j"
   },
   "source": [
    "### Depression vs Control"
   ]
  },
  {
   "cell_type": "markdown",
   "metadata": {
    "id": "O7C3WZvf1irT"
   },
   "source": [
    "#### RewP"
   ]
  },
  {
   "cell_type": "code",
   "execution_count": 148,
   "metadata": {},
   "outputs": [],
   "source": [
    "tmin = 0.20\n",
    "tmax = 0.30"
   ]
  },
  {
   "cell_type": "code",
   "execution_count": 149,
   "metadata": {},
   "outputs": [],
   "source": [
    "rewp_depression_datasets = []\n",
    "frequencies = ['delta', 'theta']\n",
    "\n",
    "for freq in frequencies:\n",
    "    dep_data = [mne.filter.resample(epoch['f_good'].average().get_data(tmin=tmin, tmax=tmax,), down=1.0) for epoch in dep[freq].to_numpy()]\n",
    "    ctrl_data = [mne.filter.resample(epoch['f_good'].average().get_data(tmin=tmin, tmax=tmax,), down=1.0) for epoch in ctrl_dep[freq].to_numpy()]\n",
    "\n",
    "    X = np.array(dep_data + ctrl_data)\n",
    "    rewp_depression_datasets.append(X)"
   ]
  },
  {
   "cell_type": "code",
   "execution_count": 150,
   "metadata": {},
   "outputs": [],
   "source": [
    "%%capture\n",
    "\n",
    "vec = Vectorizer()\n",
    "cv = StratifiedKFold(n_splits=3, shuffle=True, random_state=random_state)\n",
    "\n",
    "results_dep_rewp_df = pd.DataFrame()\n",
    "\n",
    "global_params = csp_params\n",
    "\n",
    "for index, dataset in enumerate(rewp_depression_datasets):\n",
    "\n",
    "    X = dataset\n",
    "    y = np.array(len(dep) * [1] +  len(ctrl_dep) * [0])\n",
    "    \n",
    "    for (estimator, params) in estimators:\n",
    "        print(f\"Rating {estimator} \\n\")\n",
    "\n",
    "        pipeline_name = \"RewP_Depression_band_\" + str(index) + \"_\" + estimator[0]\n",
    "\n",
    "        clf = Pipeline([csp] + [('vec', vec)] + [estimator])\n",
    "        classifier_params = {**global_params, **params}\n",
    "\n",
    "        # enter to grid search\n",
    "        grid_result = evaluate_GS_model(\n",
    "            clf,\n",
    "            X,\n",
    "            y,\n",
    "            [],\n",
    "            [],\n",
    "            classifier_params = classifier_params,\n",
    "            pipeline_name = pipeline_name,\n",
    "            cv=cv,\n",
    "        )\n",
    "\n",
    "        print(grid_result)\n",
    "\n",
    "        results_dep_rewp_df = pd.concat([results_dep_rewp_df, grid_result])"
   ]
  },
  {
   "cell_type": "code",
   "execution_count": 151,
   "metadata": {},
   "outputs": [
    {
     "data": {
      "text/html": [
       "<div>\n",
       "<style scoped>\n",
       "    .dataframe tbody tr th:only-of-type {\n",
       "        vertical-align: middle;\n",
       "    }\n",
       "\n",
       "    .dataframe tbody tr th {\n",
       "        vertical-align: top;\n",
       "    }\n",
       "\n",
       "    .dataframe thead th {\n",
       "        text-align: right;\n",
       "    }\n",
       "</style>\n",
       "<table border=\"1\" class=\"dataframe\">\n",
       "  <thead>\n",
       "    <tr style=\"text-align: right;\">\n",
       "      <th></th>\n",
       "      <th>model_name</th>\n",
       "      <th>pipeline_name</th>\n",
       "      <th>train score</th>\n",
       "      <th>mean_cv_score</th>\n",
       "      <th>best_model</th>\n",
       "      <th>parameters</th>\n",
       "      <th>pvalue</th>\n",
       "      <th>split0_test_roc_auc</th>\n",
       "      <th>split1_test_roc_auc</th>\n",
       "      <th>split2_test_roc_auc</th>\n",
       "      <th>mean_test_recall</th>\n",
       "      <th>mean_test_precision</th>\n",
       "      <th>mean_test_roc_auc</th>\n",
       "      <th>mean_test_balanced_accuracy</th>\n",
       "    </tr>\n",
       "  </thead>\n",
       "  <tbody>\n",
       "    <tr>\n",
       "      <th>0</th>\n",
       "      <td>svc</td>\n",
       "      <td>RewP_Depression_band_0_svc</td>\n",
       "      <td>0.731830</td>\n",
       "      <td>0.641389</td>\n",
       "      <td>(CSP({'component_order': 'mutual_info',\\n 'cov...</td>\n",
       "      <td>{'csp__n_components': 4, 'csp__reg': 1, 'svc__...</td>\n",
       "      <td>0.005994</td>\n",
       "      <td>0.696667</td>\n",
       "      <td>0.567708</td>\n",
       "      <td>0.592014</td>\n",
       "      <td>0.574444</td>\n",
       "      <td>0.667605</td>\n",
       "      <td>0.618796</td>\n",
       "      <td>0.641389</td>\n",
       "    </tr>\n",
       "    <tr>\n",
       "      <th>0</th>\n",
       "      <td>svc</td>\n",
       "      <td>RewP_Depression_band_1_svc</td>\n",
       "      <td>0.710712</td>\n",
       "      <td>0.580000</td>\n",
       "      <td>(CSP({'component_order': 'mutual_info',\\n 'cov...</td>\n",
       "      <td>{'csp__n_components': 3, 'csp__reg': 0.1, 'svc...</td>\n",
       "      <td>0.036963</td>\n",
       "      <td>0.531667</td>\n",
       "      <td>0.559028</td>\n",
       "      <td>0.626736</td>\n",
       "      <td>0.590556</td>\n",
       "      <td>0.580119</td>\n",
       "      <td>0.572477</td>\n",
       "      <td>0.580000</td>\n",
       "    </tr>\n",
       "  </tbody>\n",
       "</table>\n",
       "</div>"
      ],
      "text/plain": [
       "  model_name               pipeline_name  train score  mean_cv_score  \\\n",
       "0        svc  RewP_Depression_band_0_svc     0.731830       0.641389   \n",
       "0        svc  RewP_Depression_band_1_svc     0.710712       0.580000   \n",
       "\n",
       "                                          best_model  \\\n",
       "0  (CSP({'component_order': 'mutual_info',\\n 'cov...   \n",
       "0  (CSP({'component_order': 'mutual_info',\\n 'cov...   \n",
       "\n",
       "                                          parameters    pvalue  \\\n",
       "0  {'csp__n_components': 4, 'csp__reg': 1, 'svc__...  0.005994   \n",
       "0  {'csp__n_components': 3, 'csp__reg': 0.1, 'svc...  0.036963   \n",
       "\n",
       "   split0_test_roc_auc  split1_test_roc_auc  split2_test_roc_auc  \\\n",
       "0             0.696667             0.567708             0.592014   \n",
       "0             0.531667             0.559028             0.626736   \n",
       "\n",
       "   mean_test_recall  mean_test_precision  mean_test_roc_auc  \\\n",
       "0          0.574444             0.667605           0.618796   \n",
       "0          0.590556             0.580119           0.572477   \n",
       "\n",
       "   mean_test_balanced_accuracy  \n",
       "0                     0.641389  \n",
       "0                     0.580000  "
      ]
     },
     "execution_count": 151,
     "metadata": {},
     "output_type": "execute_result"
    }
   ],
   "source": [
    "results_dep_rewp_df # 20 - 30 sonata"
   ]
  },
  {
   "cell_type": "code",
   "execution_count": 27,
   "metadata": {},
   "outputs": [],
   "source": [
    "results_dep_rewp_df.to_pickle(f\"data/sonata_data/results/{task}/depression_rewp_freq_results_t20-t30_20_04_sonata.pkl\")"
   ]
  },
  {
   "cell_type": "markdown",
   "metadata": {
    "id": "LdOE13g71oii"
   },
   "source": [
    "#### FRN"
   ]
  },
  {
   "cell_type": "code",
   "execution_count": 152,
   "metadata": {
    "id": "vcTUfJ4x1oij"
   },
   "outputs": [],
   "source": [
    "tmin = 0.20\n",
    "tmax = 0.30"
   ]
  },
  {
   "cell_type": "code",
   "execution_count": 153,
   "metadata": {},
   "outputs": [],
   "source": [
    "frn_depression_datasets = []\n",
    "frequencies = ['delta', 'theta']\n",
    "\n",
    "for freq in frequencies:\n",
    "    dep_data = [epoch['f_bad'].average().get_data(tmin=tmin, tmax=tmax,) for epoch in dep[freq].to_numpy()]\n",
    "    ctrl_data = [epoch['f_bad'].average().get_data(tmin=tmin, tmax=tmax,) for epoch in ctrl_dep[freq].to_numpy()]\n",
    "\n",
    "    X = np.array(dep_data + ctrl_data)\n",
    "    frn_depression_datasets.append(X)"
   ]
  },
  {
   "cell_type": "code",
   "execution_count": 154,
   "metadata": {},
   "outputs": [],
   "source": [
    "# frn_depression_datasets = []\n",
    "# frequencies = ['delta', 'theta']\n",
    "\n",
    "# for freq in frequencies:\n",
    "#     dep_data = [mne.filter.resample(epoch['bad'].average().get_data(tmin=tmin, tmax=tmax,), down=2.0) for epoch in dep[freq].to_numpy()]\n",
    "#     ctrl_data = [mne.filter.resample(epoch['bad'].average().get_data(tmin=tmin, tmax=tmax,), down=2.0) for epoch in ctrl_dep[freq].to_numpy()]\n",
    "\n",
    "#     X = np.array(dep_data + ctrl_data)\n",
    "#     frn_depression_datasets.append(X)"
   ]
  },
  {
   "cell_type": "code",
   "execution_count": 155,
   "metadata": {},
   "outputs": [],
   "source": [
    "# np.save('data/frequency_data/frn_depression_datasets_25-38.npy', frn_depression_datasets)    # .npy extension is added if not given"
   ]
  },
  {
   "cell_type": "code",
   "execution_count": 156,
   "metadata": {},
   "outputs": [],
   "source": [
    "# frn_depression_datasets = np.load('data/frequency_data/frn_depression_datasets_25-38.npy')"
   ]
  },
  {
   "cell_type": "code",
   "execution_count": 157,
   "metadata": {},
   "outputs": [],
   "source": [
    "%%capture\n",
    "\n",
    "vec = Vectorizer()\n",
    "cv = StratifiedKFold(n_splits=3, shuffle=True, random_state=random_state)\n",
    "\n",
    "results_dep_frn_df = pd.DataFrame()\n",
    "\n",
    "global_params = csp_params\n",
    "\n",
    "for index, dataset in enumerate(frn_depression_datasets):\n",
    "\n",
    "    X = dataset\n",
    "    y = np.array(len(dep) * [1] +  len(ctrl_dep) * [0])\n",
    "    \n",
    "    for (estimator, params) in estimators:\n",
    "        print(f\"Rating {estimator} \\n\")\n",
    "\n",
    "        pipeline_name = \"FRN_Depression_band_\" + str(index) + \"_\" + estimator[0]\n",
    "\n",
    "        clf = Pipeline([csp] + [('vec', vec)] + [estimator])\n",
    "        classifier_params = {**global_params, **params}\n",
    "\n",
    "        # enter to grid search\n",
    "        grid_result = evaluate_GS_model(\n",
    "            clf,\n",
    "            X,\n",
    "            y,\n",
    "            [],\n",
    "            [],\n",
    "            classifier_params = classifier_params,\n",
    "            pipeline_name = pipeline_name,\n",
    "            cv=cv,\n",
    "        )\n",
    "\n",
    "        print(grid_result)\n",
    "\n",
    "        results_dep_frn_df = pd.concat([results_dep_frn_df, grid_result])"
   ]
  },
  {
   "cell_type": "code",
   "execution_count": 158,
   "metadata": {},
   "outputs": [
    {
     "data": {
      "text/html": [
       "<div>\n",
       "<style scoped>\n",
       "    .dataframe tbody tr th:only-of-type {\n",
       "        vertical-align: middle;\n",
       "    }\n",
       "\n",
       "    .dataframe tbody tr th {\n",
       "        vertical-align: top;\n",
       "    }\n",
       "\n",
       "    .dataframe thead th {\n",
       "        text-align: right;\n",
       "    }\n",
       "</style>\n",
       "<table border=\"1\" class=\"dataframe\">\n",
       "  <thead>\n",
       "    <tr style=\"text-align: right;\">\n",
       "      <th></th>\n",
       "      <th>model_name</th>\n",
       "      <th>pipeline_name</th>\n",
       "      <th>train score</th>\n",
       "      <th>mean_cv_score</th>\n",
       "      <th>best_model</th>\n",
       "      <th>parameters</th>\n",
       "      <th>pvalue</th>\n",
       "      <th>split0_test_roc_auc</th>\n",
       "      <th>split1_test_roc_auc</th>\n",
       "      <th>split2_test_roc_auc</th>\n",
       "      <th>mean_test_recall</th>\n",
       "      <th>mean_test_precision</th>\n",
       "      <th>mean_test_roc_auc</th>\n",
       "      <th>mean_test_balanced_accuracy</th>\n",
       "    </tr>\n",
       "  </thead>\n",
       "  <tbody>\n",
       "    <tr>\n",
       "      <th>0</th>\n",
       "      <td>svc</td>\n",
       "      <td>FRN_Depression_band_0_svc</td>\n",
       "      <td>0.972412</td>\n",
       "      <td>0.619444</td>\n",
       "      <td>(CSP({'component_order': 'mutual_info',\\n 'cov...</td>\n",
       "      <td>{'csp__n_components': 4, 'csp__reg': 0.01, 'sv...</td>\n",
       "      <td>0.004995</td>\n",
       "      <td>0.708333</td>\n",
       "      <td>0.493056</td>\n",
       "      <td>0.668403</td>\n",
       "      <td>0.794444</td>\n",
       "      <td>0.602019</td>\n",
       "      <td>0.623264</td>\n",
       "      <td>0.619444</td>\n",
       "    </tr>\n",
       "    <tr>\n",
       "      <th>0</th>\n",
       "      <td>svc</td>\n",
       "      <td>FRN_Depression_band_1_svc</td>\n",
       "      <td>0.703482</td>\n",
       "      <td>0.608056</td>\n",
       "      <td>(CSP({'component_order': 'mutual_info',\\n 'cov...</td>\n",
       "      <td>{'csp__n_components': 2, 'csp__reg': 0.01, 'sv...</td>\n",
       "      <td>0.008991</td>\n",
       "      <td>0.576667</td>\n",
       "      <td>0.763889</td>\n",
       "      <td>0.572917</td>\n",
       "      <td>0.591111</td>\n",
       "      <td>0.608807</td>\n",
       "      <td>0.637824</td>\n",
       "      <td>0.608056</td>\n",
       "    </tr>\n",
       "  </tbody>\n",
       "</table>\n",
       "</div>"
      ],
      "text/plain": [
       "  model_name              pipeline_name  train score  mean_cv_score  \\\n",
       "0        svc  FRN_Depression_band_0_svc     0.972412       0.619444   \n",
       "0        svc  FRN_Depression_band_1_svc     0.703482       0.608056   \n",
       "\n",
       "                                          best_model  \\\n",
       "0  (CSP({'component_order': 'mutual_info',\\n 'cov...   \n",
       "0  (CSP({'component_order': 'mutual_info',\\n 'cov...   \n",
       "\n",
       "                                          parameters    pvalue  \\\n",
       "0  {'csp__n_components': 4, 'csp__reg': 0.01, 'sv...  0.004995   \n",
       "0  {'csp__n_components': 2, 'csp__reg': 0.01, 'sv...  0.008991   \n",
       "\n",
       "   split0_test_roc_auc  split1_test_roc_auc  split2_test_roc_auc  \\\n",
       "0             0.708333             0.493056             0.668403   \n",
       "0             0.576667             0.763889             0.572917   \n",
       "\n",
       "   mean_test_recall  mean_test_precision  mean_test_roc_auc  \\\n",
       "0          0.794444             0.602019           0.623264   \n",
       "0          0.591111             0.608807           0.637824   \n",
       "\n",
       "   mean_test_balanced_accuracy  \n",
       "0                     0.619444  \n",
       "0                     0.608056  "
      ]
     },
     "execution_count": 158,
     "metadata": {},
     "output_type": "execute_result"
    }
   ],
   "source": [
    "results_dep_frn_df # 20 - 30 sonata"
   ]
  },
  {
   "cell_type": "code",
   "execution_count": 35,
   "metadata": {},
   "outputs": [],
   "source": [
    "results_dep_frn_df.to_pickle(f\"data/sonata_data/results/{task}/depression_frn_results_freq_t20-t30_21_04_sonata.pkl\")"
   ]
  },
  {
   "cell_type": "markdown",
   "metadata": {
    "id": "R5fwZt2kEwXU"
   },
   "source": [
    "### Anxiety vs Control"
   ]
  },
  {
   "cell_type": "markdown",
   "metadata": {
    "id": "6OCw34QnEwXV"
   },
   "source": [
    "#### RewP"
   ]
  },
  {
   "cell_type": "code",
   "execution_count": 159,
   "metadata": {},
   "outputs": [],
   "source": [
    "tmin = 0.20\n",
    "tmax = 0.30"
   ]
  },
  {
   "cell_type": "code",
   "execution_count": 160,
   "metadata": {},
   "outputs": [],
   "source": [
    "rewp_anxiety_datasets = []\n",
    "frequencies = ['delta', 'theta']\n",
    "\n",
    "for freq in frequencies:\n",
    "    anx_data = [epoch['f_good'].average().get_data(tmin=tmin, tmax=tmax,) for epoch in anx[freq].to_numpy()]\n",
    "    ctrl_data = [epoch['f_good'].average().get_data(tmin=tmin, tmax=tmax,) for epoch in ctrl_anx[freq].to_numpy()]\n",
    "\n",
    "    X = np.array(anx_data + ctrl_data)\n",
    "    rewp_anxiety_datasets.append(X)"
   ]
  },
  {
   "cell_type": "code",
   "execution_count": 161,
   "metadata": {},
   "outputs": [],
   "source": [
    "# np.save('data/rewp_anxiety_datasets.npy', rewp_anxiety_datasets)    # .npy extension is added if not given"
   ]
  },
  {
   "cell_type": "code",
   "execution_count": 162,
   "metadata": {},
   "outputs": [],
   "source": [
    "%%capture\n",
    "\n",
    "vec = Vectorizer()\n",
    "cv = StratifiedKFold(n_splits=3, shuffle=True, random_state=random_state)\n",
    "\n",
    "results_anx_rewp_df = pd.DataFrame()\n",
    "\n",
    "global_params = csp_params\n",
    "\n",
    "for index, dataset in enumerate(rewp_anxiety_datasets):\n",
    "\n",
    "    X = dataset\n",
    "    y = np.array(len(anx) * [1] +  len(ctrl_anx) * [0])\n",
    "    \n",
    "    for (estimator, params) in estimators:\n",
    "        print(f\"Rating {estimator} \\n\")\n",
    "\n",
    "        pipeline_name = \"RewP_Anxiety_band_\" + str(index) + \"_\" + estimator[0]\n",
    "\n",
    "        clf = Pipeline([csp] + [('vec', vec)] + [estimator])\n",
    "        classifier_params = {**global_params, **params}\n",
    "\n",
    "        # enter to grid search\n",
    "        grid_result = evaluate_GS_model(\n",
    "            clf,\n",
    "            X,\n",
    "            y,\n",
    "            [],\n",
    "            [],\n",
    "            classifier_params = classifier_params,\n",
    "            pipeline_name = pipeline_name,\n",
    "            cv=cv,\n",
    "        )\n",
    "\n",
    "        print(grid_result)\n",
    "\n",
    "        results_anx_rewp_df = pd.concat([results_anx_rewp_df, grid_result])"
   ]
  },
  {
   "cell_type": "code",
   "execution_count": 163,
   "metadata": {},
   "outputs": [
    {
     "data": {
      "text/html": [
       "<div>\n",
       "<style scoped>\n",
       "    .dataframe tbody tr th:only-of-type {\n",
       "        vertical-align: middle;\n",
       "    }\n",
       "\n",
       "    .dataframe tbody tr th {\n",
       "        vertical-align: top;\n",
       "    }\n",
       "\n",
       "    .dataframe thead th {\n",
       "        text-align: right;\n",
       "    }\n",
       "</style>\n",
       "<table border=\"1\" class=\"dataframe\">\n",
       "  <thead>\n",
       "    <tr style=\"text-align: right;\">\n",
       "      <th></th>\n",
       "      <th>model_name</th>\n",
       "      <th>pipeline_name</th>\n",
       "      <th>train score</th>\n",
       "      <th>mean_cv_score</th>\n",
       "      <th>best_model</th>\n",
       "      <th>parameters</th>\n",
       "      <th>pvalue</th>\n",
       "      <th>split0_test_roc_auc</th>\n",
       "      <th>split1_test_roc_auc</th>\n",
       "      <th>split2_test_roc_auc</th>\n",
       "      <th>mean_test_recall</th>\n",
       "      <th>mean_test_precision</th>\n",
       "      <th>mean_test_roc_auc</th>\n",
       "      <th>mean_test_balanced_accuracy</th>\n",
       "    </tr>\n",
       "  </thead>\n",
       "  <tbody>\n",
       "    <tr>\n",
       "      <th>0</th>\n",
       "      <td>svc</td>\n",
       "      <td>RewP_Anxiety_band_0_svc</td>\n",
       "      <td>0.838101</td>\n",
       "      <td>0.565296</td>\n",
       "      <td>(CSP({'component_order': 'mutual_info',\\n 'cov...</td>\n",
       "      <td>{'csp__n_components': 2, 'csp__reg': 0.001, 's...</td>\n",
       "      <td>0.067932</td>\n",
       "      <td>0.497835</td>\n",
       "      <td>0.573593</td>\n",
       "      <td>0.482684</td>\n",
       "      <td>0.817460</td>\n",
       "      <td>0.546177</td>\n",
       "      <td>0.518038</td>\n",
       "      <td>0.565296</td>\n",
       "    </tr>\n",
       "    <tr>\n",
       "      <th>0</th>\n",
       "      <td>svc</td>\n",
       "      <td>RewP_Anxiety_band_1_svc</td>\n",
       "      <td>0.883894</td>\n",
       "      <td>0.665945</td>\n",
       "      <td>(CSP({'component_order': 'mutual_info',\\n 'cov...</td>\n",
       "      <td>{'csp__n_components': 3, 'csp__reg': 0.1, 'svc...</td>\n",
       "      <td>0.000999</td>\n",
       "      <td>0.668831</td>\n",
       "      <td>0.608225</td>\n",
       "      <td>0.606061</td>\n",
       "      <td>0.691919</td>\n",
       "      <td>0.665446</td>\n",
       "      <td>0.627706</td>\n",
       "      <td>0.665945</td>\n",
       "    </tr>\n",
       "  </tbody>\n",
       "</table>\n",
       "</div>"
      ],
      "text/plain": [
       "  model_name            pipeline_name  train score  mean_cv_score  \\\n",
       "0        svc  RewP_Anxiety_band_0_svc     0.838101       0.565296   \n",
       "0        svc  RewP_Anxiety_band_1_svc     0.883894       0.665945   \n",
       "\n",
       "                                          best_model  \\\n",
       "0  (CSP({'component_order': 'mutual_info',\\n 'cov...   \n",
       "0  (CSP({'component_order': 'mutual_info',\\n 'cov...   \n",
       "\n",
       "                                          parameters    pvalue  \\\n",
       "0  {'csp__n_components': 2, 'csp__reg': 0.001, 's...  0.067932   \n",
       "0  {'csp__n_components': 3, 'csp__reg': 0.1, 'svc...  0.000999   \n",
       "\n",
       "   split0_test_roc_auc  split1_test_roc_auc  split2_test_roc_auc  \\\n",
       "0             0.497835             0.573593             0.482684   \n",
       "0             0.668831             0.608225             0.606061   \n",
       "\n",
       "   mean_test_recall  mean_test_precision  mean_test_roc_auc  \\\n",
       "0          0.817460             0.546177           0.518038   \n",
       "0          0.691919             0.665446           0.627706   \n",
       "\n",
       "   mean_test_balanced_accuracy  \n",
       "0                     0.565296  \n",
       "0                     0.665945  "
      ]
     },
     "execution_count": 163,
     "metadata": {},
     "output_type": "execute_result"
    }
   ],
   "source": [
    "results_anx_rewp_df # 20 - 30 sonata"
   ]
  },
  {
   "cell_type": "code",
   "execution_count": 41,
   "metadata": {},
   "outputs": [],
   "source": [
    "results_anx_rewp_df.to_pickle(f\"data/sonata_data/results/{task}/anxiety_rewp_freq_results_t20-t30_21_04_sonata.pkl\")"
   ]
  },
  {
   "cell_type": "markdown",
   "metadata": {
    "id": "UYZ2N89QEwXW"
   },
   "source": [
    "#### FRN"
   ]
  },
  {
   "cell_type": "code",
   "execution_count": 164,
   "metadata": {
    "id": "oc3KbAaiorwd"
   },
   "outputs": [],
   "source": [
    "tmin = 0.20\n",
    "tmax = 0.30"
   ]
  },
  {
   "cell_type": "code",
   "execution_count": 165,
   "metadata": {},
   "outputs": [],
   "source": [
    "frn_anxiety_datasets = []\n",
    "frequencies = ['delta', 'theta']\n",
    "\n",
    "for freq in frequencies:\n",
    "    anx_data = [epoch['f_bad'].average().get_data(tmin=tmin, tmax=tmax,) for epoch in anx[freq].to_numpy()]\n",
    "    ctrl_data = [epoch['f_bad'].average().get_data(tmin=tmin, tmax=tmax,) for epoch in ctrl_anx[freq].to_numpy()]\n",
    "\n",
    "    X = np.array(anx_data + ctrl_data)\n",
    "    frn_anxiety_datasets.append(X)"
   ]
  },
  {
   "cell_type": "code",
   "execution_count": 166,
   "metadata": {},
   "outputs": [],
   "source": [
    "# np.save('data/frn_anxiety_datasets.npy', frn_anxiety_datasets)    # .npy extension is added if not given"
   ]
  },
  {
   "cell_type": "code",
   "execution_count": 167,
   "metadata": {},
   "outputs": [],
   "source": [
    "%%capture\n",
    "\n",
    "vec = Vectorizer()\n",
    "cv = StratifiedKFold(n_splits=3, shuffle=True, random_state=random_state)\n",
    "\n",
    "results_anx_frn_df = pd.DataFrame()\n",
    "\n",
    "global_params = csp_params\n",
    "\n",
    "for index, dataset in enumerate(frn_anxiety_datasets):\n",
    "\n",
    "    X = dataset\n",
    "    y = np.array(len(anx) * [1] +  len(ctrl_anx) * [0])\n",
    "    \n",
    "    for (estimator, params) in estimators:\n",
    "        print(f\"Rating {estimator} \\n\")\n",
    "\n",
    "        pipeline_name = \"FRN_Anxiety_band_\" + str(index) + \"_\" + estimator[0]\n",
    "\n",
    "        clf = Pipeline([csp] + [('vec', vec)] + [estimator])\n",
    "        classifier_params = {**global_params, **params}\n",
    "\n",
    "        # enter to grid search\n",
    "        grid_result = evaluate_GS_model(\n",
    "            clf,\n",
    "            X,\n",
    "            y,\n",
    "            [],\n",
    "            [],\n",
    "            classifier_params = classifier_params,\n",
    "            pipeline_name = pipeline_name,\n",
    "            cv=cv,\n",
    "        )\n",
    "\n",
    "        print(grid_result)\n",
    "\n",
    "        results_anx_frn_df = pd.concat([results_anx_frn_df, grid_result])"
   ]
  },
  {
   "cell_type": "code",
   "execution_count": 168,
   "metadata": {},
   "outputs": [
    {
     "data": {
      "text/html": [
       "<div>\n",
       "<style scoped>\n",
       "    .dataframe tbody tr th:only-of-type {\n",
       "        vertical-align: middle;\n",
       "    }\n",
       "\n",
       "    .dataframe tbody tr th {\n",
       "        vertical-align: top;\n",
       "    }\n",
       "\n",
       "    .dataframe thead th {\n",
       "        text-align: right;\n",
       "    }\n",
       "</style>\n",
       "<table border=\"1\" class=\"dataframe\">\n",
       "  <thead>\n",
       "    <tr style=\"text-align: right;\">\n",
       "      <th></th>\n",
       "      <th>model_name</th>\n",
       "      <th>pipeline_name</th>\n",
       "      <th>train score</th>\n",
       "      <th>mean_cv_score</th>\n",
       "      <th>best_model</th>\n",
       "      <th>parameters</th>\n",
       "      <th>pvalue</th>\n",
       "      <th>split0_test_roc_auc</th>\n",
       "      <th>split1_test_roc_auc</th>\n",
       "      <th>split2_test_roc_auc</th>\n",
       "      <th>mean_test_recall</th>\n",
       "      <th>mean_test_precision</th>\n",
       "      <th>mean_test_roc_auc</th>\n",
       "      <th>mean_test_balanced_accuracy</th>\n",
       "    </tr>\n",
       "  </thead>\n",
       "  <tbody>\n",
       "    <tr>\n",
       "      <th>0</th>\n",
       "      <td>svc</td>\n",
       "      <td>FRN_Anxiety_band_0_svc</td>\n",
       "      <td>0.696514</td>\n",
       "      <td>0.588023</td>\n",
       "      <td>(CSP({'component_order': 'mutual_info',\\n 'cov...</td>\n",
       "      <td>{'csp__n_components': 2, 'csp__reg': 1, 'svc__...</td>\n",
       "      <td>0.064935</td>\n",
       "      <td>0.469697</td>\n",
       "      <td>0.528139</td>\n",
       "      <td>0.580087</td>\n",
       "      <td>0.676768</td>\n",
       "      <td>0.579060</td>\n",
       "      <td>0.525974</td>\n",
       "      <td>0.588023</td>\n",
       "    </tr>\n",
       "    <tr>\n",
       "      <th>0</th>\n",
       "      <td>svc</td>\n",
       "      <td>FRN_Anxiety_band_1_svc</td>\n",
       "      <td>0.736298</td>\n",
       "      <td>0.600289</td>\n",
       "      <td>(CSP({'component_order': 'mutual_info',\\n 'cov...</td>\n",
       "      <td>{'csp__n_components': 1, 'csp__reg': 0.001, 's...</td>\n",
       "      <td>0.014985</td>\n",
       "      <td>0.621212</td>\n",
       "      <td>0.551948</td>\n",
       "      <td>0.601732</td>\n",
       "      <td>0.588023</td>\n",
       "      <td>0.614815</td>\n",
       "      <td>0.591631</td>\n",
       "      <td>0.600289</td>\n",
       "    </tr>\n",
       "  </tbody>\n",
       "</table>\n",
       "</div>"
      ],
      "text/plain": [
       "  model_name           pipeline_name  train score  mean_cv_score  \\\n",
       "0        svc  FRN_Anxiety_band_0_svc     0.696514       0.588023   \n",
       "0        svc  FRN_Anxiety_band_1_svc     0.736298       0.600289   \n",
       "\n",
       "                                          best_model  \\\n",
       "0  (CSP({'component_order': 'mutual_info',\\n 'cov...   \n",
       "0  (CSP({'component_order': 'mutual_info',\\n 'cov...   \n",
       "\n",
       "                                          parameters    pvalue  \\\n",
       "0  {'csp__n_components': 2, 'csp__reg': 1, 'svc__...  0.064935   \n",
       "0  {'csp__n_components': 1, 'csp__reg': 0.001, 's...  0.014985   \n",
       "\n",
       "   split0_test_roc_auc  split1_test_roc_auc  split2_test_roc_auc  \\\n",
       "0             0.469697             0.528139             0.580087   \n",
       "0             0.621212             0.551948             0.601732   \n",
       "\n",
       "   mean_test_recall  mean_test_precision  mean_test_roc_auc  \\\n",
       "0          0.676768             0.579060           0.525974   \n",
       "0          0.588023             0.614815           0.591631   \n",
       "\n",
       "   mean_test_balanced_accuracy  \n",
       "0                     0.588023  \n",
       "0                     0.600289  "
      ]
     },
     "execution_count": 168,
     "metadata": {},
     "output_type": "execute_result"
    }
   ],
   "source": [
    "results_anx_frn_df # 20 - 30 sonata"
   ]
  },
  {
   "cell_type": "code",
   "execution_count": 47,
   "metadata": {},
   "outputs": [],
   "source": [
    "results_anx_frn_df.to_pickle(f\"data/sonata_data/results/{task}/anxiety_frn_freq_results_t20-t30_21_04_sonata.pkl\")"
   ]
  },
  {
   "cell_type": "markdown",
   "metadata": {},
   "source": [
    "## Test statistical differences between models"
   ]
  },
  {
   "cell_type": "code",
   "execution_count": 169,
   "metadata": {},
   "outputs": [],
   "source": [
    "def paired_ttest_nandeu(\n",
    "    estimator1,\n",
    "    estimator2,\n",
    "    X_1,\n",
    "    X_2,\n",
    "    y,\n",
    "    scoring='accuracy',\n",
    "    random_state=0  \n",
    "):\n",
    "    \"\"\"Computes paired-ttest using Nadeau and Bengio's approach.\n",
    "\n",
    "    Parameters\n",
    "    ----------\n",
    "    estimator1 : estimator object implementing 'fit'\n",
    "        The object to use to fit the data.\n",
    "    estimator2 :  estimator object implementing 'fit'\n",
    "        The object to use to fit the data.\n",
    "    X : array-like of shape at least 2D\n",
    "        The data to fit.\n",
    "    y : array-like of shape (n_samples,)\n",
    "        The target variable to try to predict\n",
    "    random_state: int\n",
    "\n",
    "\n",
    "    Returns\n",
    "    -------\n",
    "    t_stat : float\n",
    "        Variance-corrected t-statistic.\n",
    "    p_value : float\n",
    "        Variance-corrected p-value.\n",
    "    \"\"\"\n",
    "\n",
    "    cv = RepeatedStratifiedKFold(n_splits=10, n_repeats=10, random_state=random_state)\n",
    "\n",
    "    cv_scores_1 = cross_val_score(estimator1, X_1, y, cv=cv, scoring=scoring)\n",
    "    cv_scores_2 = cross_val_score(estimator2, X_2, y, cv=cv, scoring=scoring)\n",
    "\n",
    "    differences = cv_scores_1 - cv_scores_2\n",
    "\n",
    "    n = differences.shape[0]  # number of test sets\n",
    "    df = n - 1\n",
    "    n_train = len(list(cv.split(X_1, y))[0][0])\n",
    "    n_test = len(list(cv.split(X_1, y))[0][1])\n",
    "\n",
    "    t_stat, p_value = compute_corrected_ttest(differences, df, n_train, n_test)\n",
    "\n",
    "    return t_stat, p_value\n",
    "\n",
    "\n",
    "def corrected_std(differences, n_train, n_test):\n",
    "    \"\"\"Corrects standard deviation using Nadeau and Bengio's approach.\n",
    "\n",
    "    Parameters\n",
    "    ----------\n",
    "    differences : ndarray of shape (n_samples,)\n",
    "        Vector containing the differences in the score metrics of two models.\n",
    "    n_train : int\n",
    "        Number of samples in the training set.\n",
    "    n_test : int\n",
    "        Number of samples in the testing set.\n",
    "\n",
    "    Returns\n",
    "    -------\n",
    "    corrected_std : float\n",
    "        Variance-corrected standard deviation of the set of differences.\n",
    "    \"\"\"\n",
    "    # kr = k times r, r times repeated k-fold crossvalidation,\n",
    "    # kr equals the number of times the model was evaluated\n",
    "    kr = len(differences)\n",
    "    corrected_var = np.var(differences, ddof=1) * ((1 / kr) + (n_test / n_train))\n",
    "    corrected_std = np.sqrt(corrected_var)\n",
    "    return corrected_std\n",
    "\n",
    "\n",
    "def compute_corrected_ttest(differences, df, n_train, n_test):\n",
    "    \"\"\"Computes right-tailed paired t-test with corrected variance.\n",
    "\n",
    "    Parameters\n",
    "    ----------\n",
    "    differences : array-like of shape (n_samples,)\n",
    "        Vector containing the differences in the score metrics of two models.\n",
    "    df : int\n",
    "        Degrees of freedom.\n",
    "    n_train : int\n",
    "        Number of samples in the training set.\n",
    "    n_test : int\n",
    "        Number of samples in the testing set.\n",
    "\n",
    "    Returns\n",
    "    -------\n",
    "    t_stat : float\n",
    "        Variance-corrected t-statistic.\n",
    "    p_val : float\n",
    "        Variance-corrected p-value.\n",
    "    \"\"\"\n",
    "    mean = np.mean(differences)\n",
    "    std = corrected_std(differences, n_train, n_test)\n",
    "    t_stat = mean / std\n",
    "    p_val = stats.t.sf(np.abs(t_stat), df)  # right-tailed t-test\n",
    "    return t_stat, p_val"
   ]
  },
  {
   "cell_type": "code",
   "execution_count": 170,
   "metadata": {},
   "outputs": [],
   "source": [
    "# results_dep_rewp_df = pd.read_pickle(\"data/depression_rewp_results_3_02_03_24-00.pkl\")\n",
    "# results_dep_frn_df = pd.read_pickle(\"data/depression_frn_results_3_02_03_24-00.pkl\")\n",
    "# results_anx_rewp_df = pd.read_pickle(\"data/anxiety_rewp_results.pkl\")\n",
    "# results_anx_frn_df = pd.read_pickle(\"data/anxiety_frn_results_25_37.pkl\")"
   ]
  },
  {
   "cell_type": "markdown",
   "metadata": {
    "tags": []
   },
   "source": [
    "### Depression RewP vs FRN"
   ]
  },
  {
   "cell_type": "code",
   "execution_count": 200,
   "metadata": {},
   "outputs": [],
   "source": [
    "y = np.array(len(dep) * [1] +  len(ctrl_dep) * [0])"
   ]
  },
  {
   "cell_type": "markdown",
   "metadata": {},
   "source": [
    "#### Plot differences between all Depression Models\n",
    "To see which RewP and FRN models are the best"
   ]
  },
  {
   "cell_type": "code",
   "execution_count": 214,
   "metadata": {
    "colab": {
     "base_uri": "https://localhost:8080/"
    },
    "executionInfo": {
     "elapsed": 4,
     "status": "ok",
     "timestamp": 1677516452928,
     "user": {
      "displayName": "Anna Grabowska",
      "userId": "15734344613010880864"
     },
     "user_tz": -60
    },
    "id": "824FRKiAweds",
    "outputId": "a8affbdc-2c93-462c-d952-df11bc0ff221",
    "tags": []
   },
   "outputs": [],
   "source": [
    "%%capture\n",
    "\n",
    "cv = RepeatedStratifiedKFold(n_splits=10, n_repeats=10, random_state=random_state)\n",
    "\n",
    "cv_results_df = pd.DataFrame()\n",
    "\n",
    "cv_scores_rewp_delta = cross_val_score(results_dep_rewp_df.iloc[0].best_model, rewp_depression_datasets[0], y, cv=cv, scoring='balanced_accuracy')\n",
    "cv_scores_rewp_theta = cross_val_score(results_dep_rewp_df.iloc[1].best_model, rewp_depression_datasets[1], y, cv=cv, scoring='balanced_accuracy')\n",
    "cv_scores_frn_delta = cross_val_score(results_dep_frn_df.iloc[0].best_model, frn_depression_datasets[0], y, cv=cv, scoring='balanced_accuracy')\n",
    "cv_scores_frn_theta = cross_val_score(results_dep_frn_df.iloc[1].best_model, frn_depression_datasets[1], y, cv=cv,scoring='balanced_accuracy')\n",
    "    \n",
    "cv_results_df[\"FP delta\"] = cv_scores_rewp_delta\n",
    "cv_results_df[\"FP theta\"] = cv_scores_rewp_theta\n",
    "cv_results_df[\"FN delta\"] = cv_scores_frn_delta\n",
    "cv_results_df[\"FN theta\"] = cv_scores_frn_theta"
   ]
  },
  {
   "cell_type": "code",
   "execution_count": 215,
   "metadata": {
    "tags": []
   },
   "outputs": [
    {
     "data": {
      "text/html": [
       "<div>\n",
       "<style scoped>\n",
       "    .dataframe tbody tr th:only-of-type {\n",
       "        vertical-align: middle;\n",
       "    }\n",
       "\n",
       "    .dataframe tbody tr th {\n",
       "        vertical-align: top;\n",
       "    }\n",
       "\n",
       "    .dataframe thead th {\n",
       "        text-align: right;\n",
       "    }\n",
       "</style>\n",
       "<table border=\"1\" class=\"dataframe\">\n",
       "  <thead>\n",
       "    <tr style=\"text-align: right;\">\n",
       "      <th></th>\n",
       "      <th>FP delta</th>\n",
       "      <th>FP theta</th>\n",
       "      <th>FN delta</th>\n",
       "      <th>FN theta</th>\n",
       "    </tr>\n",
       "  </thead>\n",
       "  <tbody>\n",
       "    <tr>\n",
       "      <th>0</th>\n",
       "      <td>0.607143</td>\n",
       "      <td>0.339286</td>\n",
       "      <td>0.660714</td>\n",
       "      <td>0.473214</td>\n",
       "    </tr>\n",
       "    <tr>\n",
       "      <th>1</th>\n",
       "      <td>0.794643</td>\n",
       "      <td>0.660714</td>\n",
       "      <td>0.526786</td>\n",
       "      <td>0.526786</td>\n",
       "    </tr>\n",
       "    <tr>\n",
       "      <th>2</th>\n",
       "      <td>0.553571</td>\n",
       "      <td>0.678571</td>\n",
       "      <td>0.669643</td>\n",
       "      <td>0.473214</td>\n",
       "    </tr>\n",
       "    <tr>\n",
       "      <th>3</th>\n",
       "      <td>0.669643</td>\n",
       "      <td>0.535714</td>\n",
       "      <td>0.553571</td>\n",
       "      <td>0.339286</td>\n",
       "    </tr>\n",
       "    <tr>\n",
       "      <th>4</th>\n",
       "      <td>0.723214</td>\n",
       "      <td>0.660714</td>\n",
       "      <td>0.348214</td>\n",
       "      <td>0.803571</td>\n",
       "    </tr>\n",
       "  </tbody>\n",
       "</table>\n",
       "</div>"
      ],
      "text/plain": [
       "   FP delta  FP theta  FN delta  FN theta\n",
       "0  0.607143  0.339286  0.660714  0.473214\n",
       "1  0.794643  0.660714  0.526786  0.526786\n",
       "2  0.553571  0.678571  0.669643  0.473214\n",
       "3  0.669643  0.535714  0.553571  0.339286\n",
       "4  0.723214  0.660714  0.348214  0.803571"
      ]
     },
     "execution_count": 215,
     "metadata": {},
     "output_type": "execute_result"
    }
   ],
   "source": [
    "cv_results_df.head()"
   ]
  },
  {
   "cell_type": "code",
   "execution_count": 320,
   "metadata": {},
   "outputs": [
    {
     "data": {
      "image/png": "[encoded data removed]",
      "text/plain": [
       "<Figure size 885.827x492.126 with 1 Axes>"
      ]
     },
     "metadata": {},
     "output_type": "display_data"
    }
   ],
   "source": [
    "dpi = 500\n",
    "\n",
    "plt.rc('font', size=4)\n",
    "sns.set_style(\"ticks\")\n",
    "sns.set_palette('colorblind')\n",
    "\n",
    "\n",
    "plt.rcParams['figure.dpi'] = dpi\n",
    "# plt.rcParams[\"font.family\"] = \"Times New Roman\"\n",
    "plt.rcParams['ytick.labelsize'] = 7\n",
    "plt.rcParams['xtick.labelsize'] = 6\n",
    "plt.rcParams['axes.labelsize'] = 8\n",
    "plt.rcParams[\"axes.edgecolor\"] = \".15\"\n",
    "plt.rcParams[\"axes.linewidth\"]  = 0.5\n",
    "plt.rcParams['lines.linewidth'] = 1\n",
    "\n",
    "plt.rcParams['axes.spines.bottom']= True\n",
    "plt.rcParams['axes.spines.left']= True\n",
    "plt.rcParams['axes.spines.right'] = True\n",
    "plt.rcParams['axes.spines.top'] = True\n",
    "\n",
    "plt.rcParams['axes.titlesize'] = 6\n",
    "plt.rcParams['figure.frameon'] = True\n",
    "plt.rc('legend',fontsize=5)\n",
    "\n",
    "plt.rcParams['axes.titlepad'] = 0.2\n",
    "plt.rcParams['axes.labelpad'] = 2\n",
    "plt.rcParams['axes.titlepad'] = 0.2\n",
    "\n",
    "\n",
    "g = sns.histplot(data=cv_results_df, bins=10, kde=True) # szerszy zbiór\n",
    "sns.move_legend(g, \"lower right\", bbox_to_anchor=(-.08, 0.98,1.1,-1), ncol=4, title=None, \n",
    "                frameon=False,  \n",
    "                mode='expand', \n",
    "                borderaxespad=0,\n",
    "                labelspacing=0.1,\n",
    "                handlelength = 1,\n",
    "                handletextpad = 0.1\n",
    "               )\n",
    "\n",
    "fig = g.figure\n",
    "fig.set_size_inches(4.5*cm, 2.5*cm)\n",
    "fig.savefig(f'data/dep_models', bbox_inches='tight', pad_inches=0.01)"
   ]
  },
  {
   "cell_type": "markdown",
   "metadata": {},
   "source": [
    "#### Test differences between the best models"
   ]
  },
  {
   "cell_type": "markdown",
   "metadata": {},
   "source": [
    "Chose the best models"
   ]
  },
  {
   "cell_type": "code",
   "execution_count": 175,
   "metadata": {},
   "outputs": [
    {
     "data": {
      "text/html": [
       "<div>\n",
       "<style scoped>\n",
       "    .dataframe tbody tr th:only-of-type {\n",
       "        vertical-align: middle;\n",
       "    }\n",
       "\n",
       "    .dataframe tbody tr th {\n",
       "        vertical-align: top;\n",
       "    }\n",
       "\n",
       "    .dataframe thead th {\n",
       "        text-align: right;\n",
       "    }\n",
       "</style>\n",
       "<table border=\"1\" class=\"dataframe\">\n",
       "  <thead>\n",
       "    <tr style=\"text-align: right;\">\n",
       "      <th></th>\n",
       "      <th>model_name</th>\n",
       "      <th>pipeline_name</th>\n",
       "      <th>train score</th>\n",
       "      <th>mean_cv_score</th>\n",
       "      <th>best_model</th>\n",
       "      <th>parameters</th>\n",
       "      <th>pvalue</th>\n",
       "      <th>split0_test_roc_auc</th>\n",
       "      <th>split1_test_roc_auc</th>\n",
       "      <th>split2_test_roc_auc</th>\n",
       "      <th>mean_test_recall</th>\n",
       "      <th>mean_test_precision</th>\n",
       "      <th>mean_test_roc_auc</th>\n",
       "      <th>mean_test_balanced_accuracy</th>\n",
       "    </tr>\n",
       "  </thead>\n",
       "  <tbody>\n",
       "    <tr>\n",
       "      <th>0</th>\n",
       "      <td>svc</td>\n",
       "      <td>RewP_Depression_band_0_svc</td>\n",
       "      <td>0.731830</td>\n",
       "      <td>0.641389</td>\n",
       "      <td>(CSP({'component_order': 'mutual_info',\\n 'cov...</td>\n",
       "      <td>{'csp__n_components': 4, 'csp__reg': 1, 'svc__...</td>\n",
       "      <td>0.005994</td>\n",
       "      <td>0.696667</td>\n",
       "      <td>0.567708</td>\n",
       "      <td>0.592014</td>\n",
       "      <td>0.574444</td>\n",
       "      <td>0.667605</td>\n",
       "      <td>0.618796</td>\n",
       "      <td>0.641389</td>\n",
       "    </tr>\n",
       "    <tr>\n",
       "      <th>0</th>\n",
       "      <td>svc</td>\n",
       "      <td>RewP_Depression_band_1_svc</td>\n",
       "      <td>0.710712</td>\n",
       "      <td>0.580000</td>\n",
       "      <td>(CSP({'component_order': 'mutual_info',\\n 'cov...</td>\n",
       "      <td>{'csp__n_components': 3, 'csp__reg': 0.1, 'svc...</td>\n",
       "      <td>0.036963</td>\n",
       "      <td>0.531667</td>\n",
       "      <td>0.559028</td>\n",
       "      <td>0.626736</td>\n",
       "      <td>0.590556</td>\n",
       "      <td>0.580119</td>\n",
       "      <td>0.572477</td>\n",
       "      <td>0.580000</td>\n",
       "    </tr>\n",
       "  </tbody>\n",
       "</table>\n",
       "</div>"
      ],
      "text/plain": [
       "  model_name               pipeline_name  train score  mean_cv_score  \\\n",
       "0        svc  RewP_Depression_band_0_svc     0.731830       0.641389   \n",
       "0        svc  RewP_Depression_band_1_svc     0.710712       0.580000   \n",
       "\n",
       "                                          best_model  \\\n",
       "0  (CSP({'component_order': 'mutual_info',\\n 'cov...   \n",
       "0  (CSP({'component_order': 'mutual_info',\\n 'cov...   \n",
       "\n",
       "                                          parameters    pvalue  \\\n",
       "0  {'csp__n_components': 4, 'csp__reg': 1, 'svc__...  0.005994   \n",
       "0  {'csp__n_components': 3, 'csp__reg': 0.1, 'svc...  0.036963   \n",
       "\n",
       "   split0_test_roc_auc  split1_test_roc_auc  split2_test_roc_auc  \\\n",
       "0             0.696667             0.567708             0.592014   \n",
       "0             0.531667             0.559028             0.626736   \n",
       "\n",
       "   mean_test_recall  mean_test_precision  mean_test_roc_auc  \\\n",
       "0          0.574444             0.667605           0.618796   \n",
       "0          0.590556             0.580119           0.572477   \n",
       "\n",
       "   mean_test_balanced_accuracy  \n",
       "0                     0.641389  \n",
       "0                     0.580000  "
      ]
     },
     "execution_count": 175,
     "metadata": {},
     "output_type": "execute_result"
    }
   ],
   "source": [
    "results_dep_rewp_df"
   ]
  },
  {
   "cell_type": "code",
   "execution_count": 176,
   "metadata": {},
   "outputs": [
    {
     "data": {
      "text/html": [
       "<div>\n",
       "<style scoped>\n",
       "    .dataframe tbody tr th:only-of-type {\n",
       "        vertical-align: middle;\n",
       "    }\n",
       "\n",
       "    .dataframe tbody tr th {\n",
       "        vertical-align: top;\n",
       "    }\n",
       "\n",
       "    .dataframe thead th {\n",
       "        text-align: right;\n",
       "    }\n",
       "</style>\n",
       "<table border=\"1\" class=\"dataframe\">\n",
       "  <thead>\n",
       "    <tr style=\"text-align: right;\">\n",
       "      <th></th>\n",
       "      <th>model_name</th>\n",
       "      <th>pipeline_name</th>\n",
       "      <th>train score</th>\n",
       "      <th>mean_cv_score</th>\n",
       "      <th>best_model</th>\n",
       "      <th>parameters</th>\n",
       "      <th>pvalue</th>\n",
       "      <th>split0_test_roc_auc</th>\n",
       "      <th>split1_test_roc_auc</th>\n",
       "      <th>split2_test_roc_auc</th>\n",
       "      <th>mean_test_recall</th>\n",
       "      <th>mean_test_precision</th>\n",
       "      <th>mean_test_roc_auc</th>\n",
       "      <th>mean_test_balanced_accuracy</th>\n",
       "    </tr>\n",
       "  </thead>\n",
       "  <tbody>\n",
       "    <tr>\n",
       "      <th>0</th>\n",
       "      <td>svc</td>\n",
       "      <td>FRN_Depression_band_0_svc</td>\n",
       "      <td>0.972412</td>\n",
       "      <td>0.619444</td>\n",
       "      <td>(CSP({'component_order': 'mutual_info',\\n 'cov...</td>\n",
       "      <td>{'csp__n_components': 4, 'csp__reg': 0.01, 'sv...</td>\n",
       "      <td>0.004995</td>\n",
       "      <td>0.708333</td>\n",
       "      <td>0.493056</td>\n",
       "      <td>0.668403</td>\n",
       "      <td>0.794444</td>\n",
       "      <td>0.602019</td>\n",
       "      <td>0.623264</td>\n",
       "      <td>0.619444</td>\n",
       "    </tr>\n",
       "    <tr>\n",
       "      <th>0</th>\n",
       "      <td>svc</td>\n",
       "      <td>FRN_Depression_band_1_svc</td>\n",
       "      <td>0.703482</td>\n",
       "      <td>0.608056</td>\n",
       "      <td>(CSP({'component_order': 'mutual_info',\\n 'cov...</td>\n",
       "      <td>{'csp__n_components': 2, 'csp__reg': 0.01, 'sv...</td>\n",
       "      <td>0.008991</td>\n",
       "      <td>0.576667</td>\n",
       "      <td>0.763889</td>\n",
       "      <td>0.572917</td>\n",
       "      <td>0.591111</td>\n",
       "      <td>0.608807</td>\n",
       "      <td>0.637824</td>\n",
       "      <td>0.608056</td>\n",
       "    </tr>\n",
       "  </tbody>\n",
       "</table>\n",
       "</div>"
      ],
      "text/plain": [
       "  model_name              pipeline_name  train score  mean_cv_score  \\\n",
       "0        svc  FRN_Depression_band_0_svc     0.972412       0.619444   \n",
       "0        svc  FRN_Depression_band_1_svc     0.703482       0.608056   \n",
       "\n",
       "                                          best_model  \\\n",
       "0  (CSP({'component_order': 'mutual_info',\\n 'cov...   \n",
       "0  (CSP({'component_order': 'mutual_info',\\n 'cov...   \n",
       "\n",
       "                                          parameters    pvalue  \\\n",
       "0  {'csp__n_components': 4, 'csp__reg': 0.01, 'sv...  0.004995   \n",
       "0  {'csp__n_components': 2, 'csp__reg': 0.01, 'sv...  0.008991   \n",
       "\n",
       "   split0_test_roc_auc  split1_test_roc_auc  split2_test_roc_auc  \\\n",
       "0             0.708333             0.493056             0.668403   \n",
       "0             0.576667             0.763889             0.572917   \n",
       "\n",
       "   mean_test_recall  mean_test_precision  mean_test_roc_auc  \\\n",
       "0          0.794444             0.602019           0.623264   \n",
       "0          0.591111             0.608807           0.637824   \n",
       "\n",
       "   mean_test_balanced_accuracy  \n",
       "0                     0.619444  \n",
       "0                     0.608056  "
      ]
     },
     "execution_count": 176,
     "metadata": {},
     "output_type": "execute_result"
    }
   ],
   "source": [
    "results_dep_frn_df"
   ]
  },
  {
   "cell_type": "code",
   "execution_count": 183,
   "metadata": {},
   "outputs": [],
   "source": [
    "index = 1"
   ]
  },
  {
   "cell_type": "code",
   "execution_count": 184,
   "metadata": {},
   "outputs": [
    {
     "data": {
      "text/html": [
       "<style>#sk-container-id-3 {color: black;background-color: white;}#sk-container-id-3 pre{padding: 0;}#sk-container-id-3 div.sk-toggleable {background-color: white;}#sk-container-id-3 label.sk-toggleable__label {cursor: pointer;display: block;width: 100%;margin-bottom: 0;padding: 0.3em;box-sizing: border-box;text-align: center;}#sk-container-id-3 label.sk-toggleable__label-arrow:before {content: \"▸\";float: left;margin-right: 0.25em;color: #696969;}#sk-container-id-3 label.sk-toggleable__label-arrow:hover:before {color: black;}#sk-container-id-3 div.sk-estimator:hover label.sk-toggleable__label-arrow:before {color: black;}#sk-container-id-3 div.sk-toggleable__content {max-height: 0;max-width: 0;overflow: hidden;text-align: left;background-color: #f0f8ff;}#sk-container-id-3 div.sk-toggleable__content pre {margin: 0.2em;color: black;border-radius: 0.25em;background-color: #f0f8ff;}#sk-container-id-3 input.sk-toggleable__control:checked~div.sk-toggleable__content {max-height: 200px;max-width: 100%;overflow: auto;}#sk-container-id-3 input.sk-toggleable__control:checked~label.sk-toggleable__label-arrow:before {content: \"▾\";}#sk-container-id-3 div.sk-estimator input.sk-toggleable__control:checked~label.sk-toggleable__label {background-color: #d4ebff;}#sk-container-id-3 div.sk-label input.sk-toggleable__control:checked~label.sk-toggleable__label {background-color: #d4ebff;}#sk-container-id-3 input.sk-hidden--visually {border: 0;clip: rect(1px 1px 1px 1px);clip: rect(1px, 1px, 1px, 1px);height: 1px;margin: -1px;overflow: hidden;padding: 0;position: absolute;width: 1px;}#sk-container-id-3 div.sk-estimator {font-family: monospace;background-color: #f0f8ff;border: 1px dotted black;border-radius: 0.25em;box-sizing: border-box;margin-bottom: 0.5em;}#sk-container-id-3 div.sk-estimator:hover {background-color: #d4ebff;}#sk-container-id-3 div.sk-parallel-item::after {content: \"\";width: 100%;border-bottom: 1px solid gray;flex-grow: 1;}#sk-container-id-3 div.sk-label:hover label.sk-toggleable__label {background-color: #d4ebff;}#sk-container-id-3 div.sk-serial::before {content: \"\";position: absolute;border-left: 1px solid gray;box-sizing: border-box;top: 0;bottom: 0;left: 50%;z-index: 0;}#sk-container-id-3 div.sk-serial {display: flex;flex-direction: column;align-items: center;background-color: white;padding-right: 0.2em;padding-left: 0.2em;position: relative;}#sk-container-id-3 div.sk-item {position: relative;z-index: 1;}#sk-container-id-3 div.sk-parallel {display: flex;align-items: stretch;justify-content: center;background-color: white;position: relative;}#sk-container-id-3 div.sk-item::before, #sk-container-id-3 div.sk-parallel-item::before {content: \"\";position: absolute;border-left: 1px solid gray;box-sizing: border-box;top: 0;bottom: 0;left: 50%;z-index: -1;}#sk-container-id-3 div.sk-parallel-item {display: flex;flex-direction: column;z-index: 1;position: relative;background-color: white;}#sk-container-id-3 div.sk-parallel-item:first-child::after {align-self: flex-end;width: 50%;}#sk-container-id-3 div.sk-parallel-item:last-child::after {align-self: flex-start;width: 50%;}#sk-container-id-3 div.sk-parallel-item:only-child::after {width: 0;}#sk-container-id-3 div.sk-dashed-wrapped {border: 1px dashed gray;margin: 0 0.4em 0.5em 0.4em;box-sizing: border-box;padding-bottom: 0.4em;background-color: white;}#sk-container-id-3 div.sk-label label {font-family: monospace;font-weight: bold;display: inline-block;line-height: 1.2em;}#sk-container-id-3 div.sk-label-container {text-align: center;}#sk-container-id-3 div.sk-container {/* jupyter's `normalize.less` sets `[hidden] { display: none; }` but bootstrap.min.css set `[hidden] { display: none !important; }` so we also need the `!important` here to be able to override the default hidden behavior on the sphinx rendered scikit-learn.org. See: https://github.com/scikit-learn/scikit-learn/issues/21755 */display: inline-block !important;position: relative;}#sk-container-id-3 div.sk-text-repr-fallback {display: none;}</style><div id=\"sk-container-id-3\" class=\"sk-top-container\"><div class=\"sk-text-repr-fallback\"><pre>Pipeline(steps=[(&#x27;csp&#x27;,\n",
       "                 CSP({&#x27;component_order&#x27;: &#x27;mutual_info&#x27;,\n",
       " &#x27;cov_est&#x27;: &#x27;concat&#x27;,\n",
       " &#x27;cov_method_params&#x27;: None,\n",
       " &#x27;log&#x27;: None,\n",
       " &#x27;n_components&#x27;: 3,\n",
       " &#x27;norm_trace&#x27;: False,\n",
       " &#x27;rank&#x27;: None,\n",
       " &#x27;reg&#x27;: 0.1,\n",
       " &#x27;transform_into&#x27;: &#x27;average_power&#x27;})),\n",
       "                (&#x27;vec&#x27;,\n",
       "                 &lt;mne.decoding.transformer.Vectorizer object at 0x7f74e2f938e0&gt;),\n",
       "                (&#x27;svc&#x27;, SVC(C=1))])</pre><b>In a Jupyter environment, please rerun this cell to show the HTML representation or trust the notebook. <br />On GitHub, the HTML representation is unable to render, please try loading this page with nbviewer.org.</b></div><div class=\"sk-container\" hidden><div class=\"sk-item sk-dashed-wrapped\"><div class=\"sk-label-container\"><div class=\"sk-label sk-toggleable\"><input class=\"sk-toggleable__control sk-hidden--visually\" id=\"sk-estimator-id-9\" type=\"checkbox\" ><label for=\"sk-estimator-id-9\" class=\"sk-toggleable__label sk-toggleable__label-arrow\">Pipeline</label><div class=\"sk-toggleable__content\"><pre>Pipeline(steps=[(&#x27;csp&#x27;,\n",
       "                 CSP({&#x27;component_order&#x27;: &#x27;mutual_info&#x27;,\n",
       " &#x27;cov_est&#x27;: &#x27;concat&#x27;,\n",
       " &#x27;cov_method_params&#x27;: None,\n",
       " &#x27;log&#x27;: None,\n",
       " &#x27;n_components&#x27;: 3,\n",
       " &#x27;norm_trace&#x27;: False,\n",
       " &#x27;rank&#x27;: None,\n",
       " &#x27;reg&#x27;: 0.1,\n",
       " &#x27;transform_into&#x27;: &#x27;average_power&#x27;})),\n",
       "                (&#x27;vec&#x27;,\n",
       "                 &lt;mne.decoding.transformer.Vectorizer object at 0x7f74e2f938e0&gt;),\n",
       "                (&#x27;svc&#x27;, SVC(C=1))])</pre></div></div></div><div class=\"sk-serial\"><div class=\"sk-item\"><div class=\"sk-estimator sk-toggleable\"><input class=\"sk-toggleable__control sk-hidden--visually\" id=\"sk-estimator-id-10\" type=\"checkbox\" ><label for=\"sk-estimator-id-10\" class=\"sk-toggleable__label sk-toggleable__label-arrow\">CSP</label><div class=\"sk-toggleable__content\"><pre>CSP({&#x27;component_order&#x27;: &#x27;mutual_info&#x27;,\n",
       " &#x27;cov_est&#x27;: &#x27;concat&#x27;,\n",
       " &#x27;cov_method_params&#x27;: None,\n",
       " &#x27;log&#x27;: None,\n",
       " &#x27;n_components&#x27;: 3,\n",
       " &#x27;norm_trace&#x27;: False,\n",
       " &#x27;rank&#x27;: None,\n",
       " &#x27;reg&#x27;: 0.1,\n",
       " &#x27;transform_into&#x27;: &#x27;average_power&#x27;})</pre></div></div></div><div class=\"sk-item\"><div class=\"sk-estimator sk-toggleable\"><input class=\"sk-toggleable__control sk-hidden--visually\" id=\"sk-estimator-id-11\" type=\"checkbox\" ><label for=\"sk-estimator-id-11\" class=\"sk-toggleable__label sk-toggleable__label-arrow\">Vectorizer</label><div class=\"sk-toggleable__content\"><pre>&lt;mne.decoding.transformer.Vectorizer object at 0x7f74e2f938e0&gt;</pre></div></div></div><div class=\"sk-item\"><div class=\"sk-estimator sk-toggleable\"><input class=\"sk-toggleable__control sk-hidden--visually\" id=\"sk-estimator-id-12\" type=\"checkbox\" ><label for=\"sk-estimator-id-12\" class=\"sk-toggleable__label sk-toggleable__label-arrow\">SVC</label><div class=\"sk-toggleable__content\"><pre>SVC(C=1)</pre></div></div></div></div></div></div></div>"
      ],
      "text/plain": [
       "Pipeline(steps=[('csp',\n",
       "                 CSP({'component_order': 'mutual_info',\n",
       " 'cov_est': 'concat',\n",
       " 'cov_method_params': None,\n",
       " 'log': None,\n",
       " 'n_components': 3,\n",
       " 'norm_trace': False,\n",
       " 'rank': None,\n",
       " 'reg': 0.1,\n",
       " 'transform_into': 'average_power'})),\n",
       "                ('vec',\n",
       "                 <mne.decoding.transformer.Vectorizer object at 0x7f74e2f938e0>),\n",
       "                ('svc', SVC(C=1))])"
      ]
     },
     "execution_count": 184,
     "metadata": {},
     "output_type": "execute_result"
    }
   ],
   "source": [
    "dep_rewp_model = results_dep_rewp_df.iloc[index].best_model\n",
    "dep_rewp_model"
   ]
  },
  {
   "cell_type": "code",
   "execution_count": 185,
   "metadata": {},
   "outputs": [
    {
     "data": {
      "text/html": [
       "<style>#sk-container-id-4 {color: black;background-color: white;}#sk-container-id-4 pre{padding: 0;}#sk-container-id-4 div.sk-toggleable {background-color: white;}#sk-container-id-4 label.sk-toggleable__label {cursor: pointer;display: block;width: 100%;margin-bottom: 0;padding: 0.3em;box-sizing: border-box;text-align: center;}#sk-container-id-4 label.sk-toggleable__label-arrow:before {content: \"▸\";float: left;margin-right: 0.25em;color: #696969;}#sk-container-id-4 label.sk-toggleable__label-arrow:hover:before {color: black;}#sk-container-id-4 div.sk-estimator:hover label.sk-toggleable__label-arrow:before {color: black;}#sk-container-id-4 div.sk-toggleable__content {max-height: 0;max-width: 0;overflow: hidden;text-align: left;background-color: #f0f8ff;}#sk-container-id-4 div.sk-toggleable__content pre {margin: 0.2em;color: black;border-radius: 0.25em;background-color: #f0f8ff;}#sk-container-id-4 input.sk-toggleable__control:checked~div.sk-toggleable__content {max-height: 200px;max-width: 100%;overflow: auto;}#sk-container-id-4 input.sk-toggleable__control:checked~label.sk-toggleable__label-arrow:before {content: \"▾\";}#sk-container-id-4 div.sk-estimator input.sk-toggleable__control:checked~label.sk-toggleable__label {background-color: #d4ebff;}#sk-container-id-4 div.sk-label input.sk-toggleable__control:checked~label.sk-toggleable__label {background-color: #d4ebff;}#sk-container-id-4 input.sk-hidden--visually {border: 0;clip: rect(1px 1px 1px 1px);clip: rect(1px, 1px, 1px, 1px);height: 1px;margin: -1px;overflow: hidden;padding: 0;position: absolute;width: 1px;}#sk-container-id-4 div.sk-estimator {font-family: monospace;background-color: #f0f8ff;border: 1px dotted black;border-radius: 0.25em;box-sizing: border-box;margin-bottom: 0.5em;}#sk-container-id-4 div.sk-estimator:hover {background-color: #d4ebff;}#sk-container-id-4 div.sk-parallel-item::after {content: \"\";width: 100%;border-bottom: 1px solid gray;flex-grow: 1;}#sk-container-id-4 div.sk-label:hover label.sk-toggleable__label {background-color: #d4ebff;}#sk-container-id-4 div.sk-serial::before {content: \"\";position: absolute;border-left: 1px solid gray;box-sizing: border-box;top: 0;bottom: 0;left: 50%;z-index: 0;}#sk-container-id-4 div.sk-serial {display: flex;flex-direction: column;align-items: center;background-color: white;padding-right: 0.2em;padding-left: 0.2em;position: relative;}#sk-container-id-4 div.sk-item {position: relative;z-index: 1;}#sk-container-id-4 div.sk-parallel {display: flex;align-items: stretch;justify-content: center;background-color: white;position: relative;}#sk-container-id-4 div.sk-item::before, #sk-container-id-4 div.sk-parallel-item::before {content: \"\";position: absolute;border-left: 1px solid gray;box-sizing: border-box;top: 0;bottom: 0;left: 50%;z-index: -1;}#sk-container-id-4 div.sk-parallel-item {display: flex;flex-direction: column;z-index: 1;position: relative;background-color: white;}#sk-container-id-4 div.sk-parallel-item:first-child::after {align-self: flex-end;width: 50%;}#sk-container-id-4 div.sk-parallel-item:last-child::after {align-self: flex-start;width: 50%;}#sk-container-id-4 div.sk-parallel-item:only-child::after {width: 0;}#sk-container-id-4 div.sk-dashed-wrapped {border: 1px dashed gray;margin: 0 0.4em 0.5em 0.4em;box-sizing: border-box;padding-bottom: 0.4em;background-color: white;}#sk-container-id-4 div.sk-label label {font-family: monospace;font-weight: bold;display: inline-block;line-height: 1.2em;}#sk-container-id-4 div.sk-label-container {text-align: center;}#sk-container-id-4 div.sk-container {/* jupyter's `normalize.less` sets `[hidden] { display: none; }` but bootstrap.min.css set `[hidden] { display: none !important; }` so we also need the `!important` here to be able to override the default hidden behavior on the sphinx rendered scikit-learn.org. See: https://github.com/scikit-learn/scikit-learn/issues/21755 */display: inline-block !important;position: relative;}#sk-container-id-4 div.sk-text-repr-fallback {display: none;}</style><div id=\"sk-container-id-4\" class=\"sk-top-container\"><div class=\"sk-text-repr-fallback\"><pre>Pipeline(steps=[(&#x27;csp&#x27;,\n",
       "                 CSP({&#x27;component_order&#x27;: &#x27;mutual_info&#x27;,\n",
       " &#x27;cov_est&#x27;: &#x27;concat&#x27;,\n",
       " &#x27;cov_method_params&#x27;: None,\n",
       " &#x27;log&#x27;: None,\n",
       " &#x27;n_components&#x27;: 2,\n",
       " &#x27;norm_trace&#x27;: False,\n",
       " &#x27;rank&#x27;: None,\n",
       " &#x27;reg&#x27;: 0.01,\n",
       " &#x27;transform_into&#x27;: &#x27;average_power&#x27;})),\n",
       "                (&#x27;vec&#x27;,\n",
       "                 &lt;mne.decoding.transformer.Vectorizer object at 0x7f74e2f93940&gt;),\n",
       "                (&#x27;svc&#x27;, SVC(C=1000))])</pre><b>In a Jupyter environment, please rerun this cell to show the HTML representation or trust the notebook. <br />On GitHub, the HTML representation is unable to render, please try loading this page with nbviewer.org.</b></div><div class=\"sk-container\" hidden><div class=\"sk-item sk-dashed-wrapped\"><div class=\"sk-label-container\"><div class=\"sk-label sk-toggleable\"><input class=\"sk-toggleable__control sk-hidden--visually\" id=\"sk-estimator-id-13\" type=\"checkbox\" ><label for=\"sk-estimator-id-13\" class=\"sk-toggleable__label sk-toggleable__label-arrow\">Pipeline</label><div class=\"sk-toggleable__content\"><pre>Pipeline(steps=[(&#x27;csp&#x27;,\n",
       "                 CSP({&#x27;component_order&#x27;: &#x27;mutual_info&#x27;,\n",
       " &#x27;cov_est&#x27;: &#x27;concat&#x27;,\n",
       " &#x27;cov_method_params&#x27;: None,\n",
       " &#x27;log&#x27;: None,\n",
       " &#x27;n_components&#x27;: 2,\n",
       " &#x27;norm_trace&#x27;: False,\n",
       " &#x27;rank&#x27;: None,\n",
       " &#x27;reg&#x27;: 0.01,\n",
       " &#x27;transform_into&#x27;: &#x27;average_power&#x27;})),\n",
       "                (&#x27;vec&#x27;,\n",
       "                 &lt;mne.decoding.transformer.Vectorizer object at 0x7f74e2f93940&gt;),\n",
       "                (&#x27;svc&#x27;, SVC(C=1000))])</pre></div></div></div><div class=\"sk-serial\"><div class=\"sk-item\"><div class=\"sk-estimator sk-toggleable\"><input class=\"sk-toggleable__control sk-hidden--visually\" id=\"sk-estimator-id-14\" type=\"checkbox\" ><label for=\"sk-estimator-id-14\" class=\"sk-toggleable__label sk-toggleable__label-arrow\">CSP</label><div class=\"sk-toggleable__content\"><pre>CSP({&#x27;component_order&#x27;: &#x27;mutual_info&#x27;,\n",
       " &#x27;cov_est&#x27;: &#x27;concat&#x27;,\n",
       " &#x27;cov_method_params&#x27;: None,\n",
       " &#x27;log&#x27;: None,\n",
       " &#x27;n_components&#x27;: 2,\n",
       " &#x27;norm_trace&#x27;: False,\n",
       " &#x27;rank&#x27;: None,\n",
       " &#x27;reg&#x27;: 0.01,\n",
       " &#x27;transform_into&#x27;: &#x27;average_power&#x27;})</pre></div></div></div><div class=\"sk-item\"><div class=\"sk-estimator sk-toggleable\"><input class=\"sk-toggleable__control sk-hidden--visually\" id=\"sk-estimator-id-15\" type=\"checkbox\" ><label for=\"sk-estimator-id-15\" class=\"sk-toggleable__label sk-toggleable__label-arrow\">Vectorizer</label><div class=\"sk-toggleable__content\"><pre>&lt;mne.decoding.transformer.Vectorizer object at 0x7f74e2f93940&gt;</pre></div></div></div><div class=\"sk-item\"><div class=\"sk-estimator sk-toggleable\"><input class=\"sk-toggleable__control sk-hidden--visually\" id=\"sk-estimator-id-16\" type=\"checkbox\" ><label for=\"sk-estimator-id-16\" class=\"sk-toggleable__label sk-toggleable__label-arrow\">SVC</label><div class=\"sk-toggleable__content\"><pre>SVC(C=1000)</pre></div></div></div></div></div></div></div>"
      ],
      "text/plain": [
       "Pipeline(steps=[('csp',\n",
       "                 CSP({'component_order': 'mutual_info',\n",
       " 'cov_est': 'concat',\n",
       " 'cov_method_params': None,\n",
       " 'log': None,\n",
       " 'n_components': 2,\n",
       " 'norm_trace': False,\n",
       " 'rank': None,\n",
       " 'reg': 0.01,\n",
       " 'transform_into': 'average_power'})),\n",
       "                ('vec',\n",
       "                 <mne.decoding.transformer.Vectorizer object at 0x7f74e2f93940>),\n",
       "                ('svc', SVC(C=1000))])"
      ]
     },
     "execution_count": 185,
     "metadata": {},
     "output_type": "execute_result"
    }
   ],
   "source": [
    "dep_frn_model = results_dep_frn_df.iloc[index].best_model\n",
    "dep_frn_model"
   ]
  },
  {
   "cell_type": "code",
   "execution_count": 186,
   "metadata": {},
   "outputs": [],
   "source": [
    "X_rewp = rewp_depression_datasets[index]\n",
    "X_frn = frn_depression_datasets[index]"
   ]
  },
  {
   "cell_type": "markdown",
   "metadata": {},
   "source": [
    "- Balanced Accuracy"
   ]
  },
  {
   "cell_type": "code",
   "execution_count": 191,
   "metadata": {},
   "outputs": [],
   "source": [
    "%%capture\n",
    "\n",
    "t, p = paired_ttest_nandeu(\n",
    "    estimator1=dep_rewp_model,\n",
    "    estimator2=dep_frn_model,\n",
    "    X_1=X_rewp,\n",
    "    X_2=X_frn, \n",
    "    y=y,\n",
    "    random_state=random_state,\n",
    "    scoring='balanced_accuracy'\n",
    ")"
   ]
  },
  {
   "cell_type": "code",
   "execution_count": 192,
   "metadata": {},
   "outputs": [
    {
     "name": "stdout",
     "output_type": "stream",
     "text": [
      "t statistic: 1.057\n",
      "p value: 0.147\n"
     ]
    }
   ],
   "source": [
    "print('t statistic: %.3f' % t)\n",
    "print('p value: %.3f' % p)"
   ]
  },
  {
   "cell_type": "markdown",
   "metadata": {},
   "source": [
    "- Roc AUC"
   ]
  },
  {
   "cell_type": "code",
   "execution_count": 70,
   "metadata": {},
   "outputs": [],
   "source": [
    "%%capture\n",
    "\n",
    "t, p = paired_ttest_nandeu(\n",
    "    estimator1=dep_rewp_model,\n",
    "    estimator2=dep_frn_model,\n",
    "    X_1=X_rewp,\n",
    "    X_2=X_frn, \n",
    "    y=y,\n",
    "    random_state=random_state,\n",
    "    scoring='roc_auc'\n",
    ")"
   ]
  },
  {
   "cell_type": "code",
   "execution_count": 71,
   "metadata": {},
   "outputs": [
    {
     "name": "stdout",
     "output_type": "stream",
     "text": [
      "t statistic: -0.074\n",
      "p value: 0.471\n"
     ]
    }
   ],
   "source": [
    "print('t statistic: %.3f' % t)\n",
    "print('p value: %.3f' % p)"
   ]
  },
  {
   "cell_type": "markdown",
   "metadata": {},
   "source": [
    "- precision"
   ]
  },
  {
   "cell_type": "code",
   "execution_count": 72,
   "metadata": {},
   "outputs": [],
   "source": [
    "%%capture\n",
    "\n",
    "t, p = paired_ttest_nandeu(\n",
    "    estimator1=dep_rewp_model,\n",
    "    estimator2=dep_frn_model,\n",
    "    X_1=X_rewp,\n",
    "    X_2=X_frn, \n",
    "    y=y,\n",
    "    random_state=random_state,\n",
    "    scoring='precision'\n",
    ")"
   ]
  },
  {
   "cell_type": "code",
   "execution_count": 73,
   "metadata": {},
   "outputs": [
    {
     "name": "stdout",
     "output_type": "stream",
     "text": [
      "t statistic: -0.200\n",
      "p value: 0.421\n"
     ]
    }
   ],
   "source": [
    "print('t statistic: %.3f' % t)\n",
    "print('p value: %.3f' % p)"
   ]
  },
  {
   "cell_type": "markdown",
   "metadata": {},
   "source": [
    "- recall"
   ]
  },
  {
   "cell_type": "code",
   "execution_count": 74,
   "metadata": {},
   "outputs": [],
   "source": [
    "%%capture\n",
    "\n",
    "t, p = paired_ttest_nandeu(\n",
    "    estimator1=dep_rewp_model,\n",
    "    estimator2=dep_frn_model,\n",
    "    X_1=X_rewp,\n",
    "    X_2=X_frn, \n",
    "    y=y,\n",
    "    random_state=random_state,\n",
    "    scoring='recall'\n",
    ")"
   ]
  },
  {
   "cell_type": "code",
   "execution_count": 75,
   "metadata": {},
   "outputs": [
    {
     "name": "stdout",
     "output_type": "stream",
     "text": [
      "t statistic: 0.263\n",
      "p value: 0.397\n"
     ]
    }
   ],
   "source": [
    "print('t statistic: %.3f' % t)\n",
    "print('p value: %.3f' % p)"
   ]
  },
  {
   "cell_type": "markdown",
   "metadata": {},
   "source": [
    "- F1"
   ]
  },
  {
   "cell_type": "code",
   "execution_count": 76,
   "metadata": {},
   "outputs": [],
   "source": [
    "%%capture\n",
    "\n",
    "t, p = paired_ttest_nandeu(\n",
    "    estimator1=dep_rewp_model,\n",
    "    estimator2=dep_frn_model,\n",
    "    X_1=X_rewp,\n",
    "    X_2=X_frn, \n",
    "    y=y,\n",
    "    random_state=random_state,\n",
    "    scoring='f1'\n",
    ")"
   ]
  },
  {
   "cell_type": "code",
   "execution_count": 77,
   "metadata": {},
   "outputs": [
    {
     "name": "stdout",
     "output_type": "stream",
     "text": [
      "t statistic: 0.005\n",
      "p value: 0.498\n"
     ]
    }
   ],
   "source": [
    "print('t statistic: %.3f' % t)\n",
    "print('p value: %.3f' % p)"
   ]
  },
  {
   "cell_type": "markdown",
   "metadata": {},
   "source": [
    "Visualize difference between FRN and RewP models"
   ]
  },
  {
   "cell_type": "code",
   "execution_count": 78,
   "metadata": {
    "colab": {
     "base_uri": "https://localhost:8080/"
    },
    "executionInfo": {
     "elapsed": 4,
     "status": "ok",
     "timestamp": 1677516452928,
     "user": {
      "displayName": "Anna Grabowska",
      "userId": "15734344613010880864"
     },
     "user_tz": -60
    },
    "id": "824FRKiAweds",
    "outputId": "a8affbdc-2c93-462c-d952-df11bc0ff221"
   },
   "outputs": [],
   "source": [
    "%%capture\n",
    "\n",
    "cv = RepeatedStratifiedKFold(n_splits=10, n_repeats=10, random_state=random_state)\n",
    "\n",
    "cv_scores_1 = cross_val_score(dep_rewp_model, X_rewp, y, cv=cv, scoring='balanced_accuracy')\n",
    "cv_scores_2 = cross_val_score(dep_frn_model, X_frn, y, cv=cv,  scoring='balanced_accuracy')"
   ]
  },
  {
   "cell_type": "code",
   "execution_count": 79,
   "metadata": {},
   "outputs": [],
   "source": [
    "cv_results_df = pd.DataFrame({\n",
    "    \"RewP\": cv_scores_1,\n",
    "    \"FRN\": cv_scores_2,\n",
    "})"
   ]
  },
  {
   "cell_type": "code",
   "execution_count": 80,
   "metadata": {},
   "outputs": [
    {
     "data": {
      "image/png": "[encoded data removed]",
      "text/plain": [
       "<Figure size 432x288 with 1 Axes>"
      ]
     },
     "metadata": {
      "needs_background": "light"
     },
     "output_type": "display_data"
    }
   ],
   "source": [
    "fig = sns.histplot(data=cv_results_df, bins=9, kde=True)"
   ]
  },
  {
   "cell_type": "code",
   "execution_count": 81,
   "metadata": {
    "colab": {
     "base_uri": "https://localhost:8080/"
    },
    "executionInfo": {
     "elapsed": 4,
     "status": "ok",
     "timestamp": 1677516452928,
     "user": {
      "displayName": "Anna Grabowska",
      "userId": "15734344613010880864"
     },
     "user_tz": -60
    },
    "id": "824FRKiAweds",
    "outputId": "a8affbdc-2c93-462c-d952-df11bc0ff221"
   },
   "outputs": [],
   "source": [
    "%%capture\n",
    "\n",
    "cv = RepeatedStratifiedKFold(n_splits=10, n_repeats=10, random_state=random_state)\n",
    "\n",
    "cv_scores_1 = cross_val_score(dep_rewp_model, X_rewp, y, cv=cv, scoring='roc_auc')\n",
    "cv_scores_2 = cross_val_score(dep_frn_model, X_frn, y, cv=cv,  scoring='roc_auc')"
   ]
  },
  {
   "cell_type": "code",
   "execution_count": 82,
   "metadata": {},
   "outputs": [],
   "source": [
    "cv_results_df = pd.DataFrame({\n",
    "    \"RewP\": cv_scores_1,\n",
    "    \"FRN\": cv_scores_2,\n",
    "})"
   ]
  },
  {
   "cell_type": "code",
   "execution_count": 83,
   "metadata": {},
   "outputs": [
    {
     "data": {
      "image/png": "[encoded data removed]",
      "text/plain": [
       "<Figure size 432x288 with 1 Axes>"
      ]
     },
     "metadata": {
      "needs_background": "light"
     },
     "output_type": "display_data"
    }
   ],
   "source": [
    "fig = sns.histplot(data=cv_results_df, bins=9, kde=True)"
   ]
  },
  {
   "cell_type": "markdown",
   "metadata": {},
   "source": [
    "### Anxiety RewP vs FRN"
   ]
  },
  {
   "cell_type": "code",
   "execution_count": 321,
   "metadata": {},
   "outputs": [],
   "source": [
    "y = np.array(len(anx) * [1] +  len(ctrl_anx) * [0])"
   ]
  },
  {
   "cell_type": "markdown",
   "metadata": {},
   "source": [
    "#### Plot differences between all Anxiety Models\n",
    "To see which RewP and FRN models are the best"
   ]
  },
  {
   "cell_type": "code",
   "execution_count": 322,
   "metadata": {
    "colab": {
     "base_uri": "https://localhost:8080/"
    },
    "executionInfo": {
     "elapsed": 4,
     "status": "ok",
     "timestamp": 1677516452928,
     "user": {
      "displayName": "Anna Grabowska",
      "userId": "15734344613010880864"
     },
     "user_tz": -60
    },
    "id": "824FRKiAweds",
    "outputId": "a8affbdc-2c93-462c-d952-df11bc0ff221",
    "tags": []
   },
   "outputs": [],
   "source": [
    "%%capture\n",
    "\n",
    "cv = RepeatedStratifiedKFold(n_splits=10, n_repeats=10, random_state=random_state)\n",
    "\n",
    "cv_results_df = pd.DataFrame()\n",
    "\n",
    "cv_scores_rewp_delta = cross_val_score(results_anx_rewp_df.iloc[0].best_model, rewp_anxiety_datasets[0], y, cv=cv, scoring='balanced_accuracy')\n",
    "cv_scores_rewp_theta = cross_val_score(results_anx_rewp_df.iloc[1].best_model, rewp_anxiety_datasets[1], y, cv=cv, scoring='balanced_accuracy')\n",
    "cv_scores_frn_delta = cross_val_score(results_anx_frn_df.iloc[0].best_model, frn_anxiety_datasets[0], y, cv=cv, scoring='balanced_accuracy')\n",
    "cv_scores_frn_theta = cross_val_score(results_anx_frn_df.iloc[1].best_model, frn_anxiety_datasets[1], y, cv=cv,scoring='balanced_accuracy')\n",
    "    \n",
    "cv_results_df[\"FP delta\"] = cv_scores_rewp_delta\n",
    "cv_results_df[\"FP theta\"] = cv_scores_rewp_theta\n",
    "cv_results_df[\"FN delta\"] = cv_scores_frn_delta\n",
    "cv_results_df[\"FN theta\"] = cv_scores_frn_theta"
   ]
  },
  {
   "cell_type": "code",
   "execution_count": 323,
   "metadata": {
    "tags": []
   },
   "outputs": [
    {
     "data": {
      "text/html": [
       "<div>\n",
       "<style scoped>\n",
       "    .dataframe tbody tr th:only-of-type {\n",
       "        vertical-align: middle;\n",
       "    }\n",
       "\n",
       "    .dataframe tbody tr th {\n",
       "        vertical-align: top;\n",
       "    }\n",
       "\n",
       "    .dataframe thead th {\n",
       "        text-align: right;\n",
       "    }\n",
       "</style>\n",
       "<table border=\"1\" class=\"dataframe\">\n",
       "  <thead>\n",
       "    <tr style=\"text-align: right;\">\n",
       "      <th></th>\n",
       "      <th>FP delta</th>\n",
       "      <th>FP theta</th>\n",
       "      <th>FN delta</th>\n",
       "      <th>FN theta</th>\n",
       "    </tr>\n",
       "  </thead>\n",
       "  <tbody>\n",
       "    <tr>\n",
       "      <th>0</th>\n",
       "      <td>0.464286</td>\n",
       "      <td>0.702381</td>\n",
       "      <td>0.452381</td>\n",
       "      <td>0.702381</td>\n",
       "    </tr>\n",
       "    <tr>\n",
       "      <th>1</th>\n",
       "      <td>0.523810</td>\n",
       "      <td>0.702381</td>\n",
       "      <td>0.464286</td>\n",
       "      <td>0.690476</td>\n",
       "    </tr>\n",
       "    <tr>\n",
       "      <th>2</th>\n",
       "      <td>0.595238</td>\n",
       "      <td>0.452381</td>\n",
       "      <td>0.440476</td>\n",
       "      <td>0.547619</td>\n",
       "    </tr>\n",
       "    <tr>\n",
       "      <th>3</th>\n",
       "      <td>0.452381</td>\n",
       "      <td>0.547619</td>\n",
       "      <td>0.440476</td>\n",
       "      <td>0.690476</td>\n",
       "    </tr>\n",
       "    <tr>\n",
       "      <th>4</th>\n",
       "      <td>0.488095</td>\n",
       "      <td>0.488095</td>\n",
       "      <td>0.690476</td>\n",
       "      <td>0.666667</td>\n",
       "    </tr>\n",
       "  </tbody>\n",
       "</table>\n",
       "</div>"
      ],
      "text/plain": [
       "   FP delta  FP theta  FN delta  FN theta\n",
       "0  0.464286  0.702381  0.452381  0.702381\n",
       "1  0.523810  0.702381  0.464286  0.690476\n",
       "2  0.595238  0.452381  0.440476  0.547619\n",
       "3  0.452381  0.547619  0.440476  0.690476\n",
       "4  0.488095  0.488095  0.690476  0.666667"
      ]
     },
     "execution_count": 323,
     "metadata": {},
     "output_type": "execute_result"
    }
   ],
   "source": [
    "cv_results_df.head()"
   ]
  },
  {
   "cell_type": "code",
   "execution_count": 324,
   "metadata": {},
   "outputs": [
    {
     "data": {
      "image/png": "[encoded data removed]",
      "text/plain": [
       "<Figure size 885.827x492.126 with 1 Axes>"
      ]
     },
     "metadata": {},
     "output_type": "display_data"
    }
   ],
   "source": [
    "dpi = 500\n",
    "\n",
    "plt.rc('font', size=4)\n",
    "sns.set_style(\"ticks\")\n",
    "sns.set_palette('colorblind')\n",
    "\n",
    "\n",
    "plt.rcParams['figure.dpi'] = dpi\n",
    "# plt.rcParams[\"font.family\"] = \"Times New Roman\"\n",
    "plt.rcParams['ytick.labelsize'] = 7\n",
    "plt.rcParams['xtick.labelsize'] = 6\n",
    "plt.rcParams['axes.labelsize'] = 8\n",
    "plt.rcParams[\"axes.edgecolor\"] = \".15\"\n",
    "plt.rcParams[\"axes.linewidth\"]  = 0.5\n",
    "plt.rcParams['lines.linewidth'] = 1\n",
    "\n",
    "plt.rcParams['axes.spines.bottom']= True\n",
    "plt.rcParams['axes.spines.left']= True\n",
    "plt.rcParams['axes.spines.right'] = True\n",
    "plt.rcParams['axes.spines.top'] = True\n",
    "\n",
    "plt.rcParams['axes.titlesize'] = 6\n",
    "plt.rcParams['figure.frameon'] = True\n",
    "plt.rc('legend',fontsize=5)\n",
    "\n",
    "plt.rcParams['axes.titlepad'] = 0.2\n",
    "plt.rcParams['axes.labelpad'] = 2\n",
    "plt.rcParams['axes.titlepad'] = 0.2\n",
    "\n",
    "\n",
    "g = sns.histplot(data=cv_results_df, bins=10, kde=True) # szerszy zbiór\n",
    "sns.move_legend(g, \"lower right\", bbox_to_anchor=(-.08, 0.98,1.1,-1), ncol=4, title=None, \n",
    "                frameon=False,  \n",
    "                mode='expand', \n",
    "                borderaxespad=0,\n",
    "                labelspacing=0.1,\n",
    "                handlelength = 1,\n",
    "                handletextpad = 0.1\n",
    "               )\n",
    "\n",
    "fig = g.figure\n",
    "fig.set_size_inches(4.5*cm, 2.5*cm)\n",
    "fig.savefig(f'data/anx_models', bbox_inches='tight', pad_inches=0.01)"
   ]
  },
  {
   "cell_type": "markdown",
   "metadata": {},
   "source": [
    "#### Test differences between the best models"
   ]
  },
  {
   "cell_type": "markdown",
   "metadata": {},
   "source": [
    "Chose the best models"
   ]
  },
  {
   "cell_type": "code",
   "execution_count": 325,
   "metadata": {},
   "outputs": [
    {
     "data": {
      "text/html": [
       "<div>\n",
       "<style scoped>\n",
       "    .dataframe tbody tr th:only-of-type {\n",
       "        vertical-align: middle;\n",
       "    }\n",
       "\n",
       "    .dataframe tbody tr th {\n",
       "        vertical-align: top;\n",
       "    }\n",
       "\n",
       "    .dataframe thead th {\n",
       "        text-align: right;\n",
       "    }\n",
       "</style>\n",
       "<table border=\"1\" class=\"dataframe\">\n",
       "  <thead>\n",
       "    <tr style=\"text-align: right;\">\n",
       "      <th></th>\n",
       "      <th>model_name</th>\n",
       "      <th>pipeline_name</th>\n",
       "      <th>train score</th>\n",
       "      <th>mean_cv_score</th>\n",
       "      <th>best_model</th>\n",
       "      <th>parameters</th>\n",
       "      <th>pvalue</th>\n",
       "      <th>split0_test_roc_auc</th>\n",
       "      <th>split1_test_roc_auc</th>\n",
       "      <th>split2_test_roc_auc</th>\n",
       "      <th>mean_test_recall</th>\n",
       "      <th>mean_test_precision</th>\n",
       "      <th>mean_test_roc_auc</th>\n",
       "      <th>mean_test_balanced_accuracy</th>\n",
       "    </tr>\n",
       "  </thead>\n",
       "  <tbody>\n",
       "    <tr>\n",
       "      <th>0</th>\n",
       "      <td>svc</td>\n",
       "      <td>RewP_Anxiety_band_0_svc</td>\n",
       "      <td>0.838101</td>\n",
       "      <td>0.565296</td>\n",
       "      <td>(CSP({'component_order': 'mutual_info',\\n 'cov...</td>\n",
       "      <td>{'csp__n_components': 2, 'csp__reg': 0.001, 's...</td>\n",
       "      <td>0.067932</td>\n",
       "      <td>0.497835</td>\n",
       "      <td>0.573593</td>\n",
       "      <td>0.482684</td>\n",
       "      <td>0.817460</td>\n",
       "      <td>0.546177</td>\n",
       "      <td>0.518038</td>\n",
       "      <td>0.565296</td>\n",
       "    </tr>\n",
       "    <tr>\n",
       "      <th>0</th>\n",
       "      <td>svc</td>\n",
       "      <td>RewP_Anxiety_band_1_svc</td>\n",
       "      <td>0.883894</td>\n",
       "      <td>0.665945</td>\n",
       "      <td>(CSP({'component_order': 'mutual_info',\\n 'cov...</td>\n",
       "      <td>{'csp__n_components': 3, 'csp__reg': 0.1, 'svc...</td>\n",
       "      <td>0.000999</td>\n",
       "      <td>0.668831</td>\n",
       "      <td>0.608225</td>\n",
       "      <td>0.606061</td>\n",
       "      <td>0.691919</td>\n",
       "      <td>0.665446</td>\n",
       "      <td>0.627706</td>\n",
       "      <td>0.665945</td>\n",
       "    </tr>\n",
       "  </tbody>\n",
       "</table>\n",
       "</div>"
      ],
      "text/plain": [
       "  model_name            pipeline_name  train score  mean_cv_score  \\\n",
       "0        svc  RewP_Anxiety_band_0_svc     0.838101       0.565296   \n",
       "0        svc  RewP_Anxiety_band_1_svc     0.883894       0.665945   \n",
       "\n",
       "                                          best_model  \\\n",
       "0  (CSP({'component_order': 'mutual_info',\\n 'cov...   \n",
       "0  (CSP({'component_order': 'mutual_info',\\n 'cov...   \n",
       "\n",
       "                                          parameters    pvalue  \\\n",
       "0  {'csp__n_components': 2, 'csp__reg': 0.001, 's...  0.067932   \n",
       "0  {'csp__n_components': 3, 'csp__reg': 0.1, 'svc...  0.000999   \n",
       "\n",
       "   split0_test_roc_auc  split1_test_roc_auc  split2_test_roc_auc  \\\n",
       "0             0.497835             0.573593             0.482684   \n",
       "0             0.668831             0.608225             0.606061   \n",
       "\n",
       "   mean_test_recall  mean_test_precision  mean_test_roc_auc  \\\n",
       "0          0.817460             0.546177           0.518038   \n",
       "0          0.691919             0.665446           0.627706   \n",
       "\n",
       "   mean_test_balanced_accuracy  \n",
       "0                     0.565296  \n",
       "0                     0.665945  "
      ]
     },
     "execution_count": 325,
     "metadata": {},
     "output_type": "execute_result"
    }
   ],
   "source": [
    "results_anx_rewp_df"
   ]
  },
  {
   "cell_type": "code",
   "execution_count": 326,
   "metadata": {},
   "outputs": [
    {
     "data": {
      "text/html": [
       "<div>\n",
       "<style scoped>\n",
       "    .dataframe tbody tr th:only-of-type {\n",
       "        vertical-align: middle;\n",
       "    }\n",
       "\n",
       "    .dataframe tbody tr th {\n",
       "        vertical-align: top;\n",
       "    }\n",
       "\n",
       "    .dataframe thead th {\n",
       "        text-align: right;\n",
       "    }\n",
       "</style>\n",
       "<table border=\"1\" class=\"dataframe\">\n",
       "  <thead>\n",
       "    <tr style=\"text-align: right;\">\n",
       "      <th></th>\n",
       "      <th>model_name</th>\n",
       "      <th>pipeline_name</th>\n",
       "      <th>train score</th>\n",
       "      <th>mean_cv_score</th>\n",
       "      <th>best_model</th>\n",
       "      <th>parameters</th>\n",
       "      <th>pvalue</th>\n",
       "      <th>split0_test_roc_auc</th>\n",
       "      <th>split1_test_roc_auc</th>\n",
       "      <th>split2_test_roc_auc</th>\n",
       "      <th>mean_test_recall</th>\n",
       "      <th>mean_test_precision</th>\n",
       "      <th>mean_test_roc_auc</th>\n",
       "      <th>mean_test_balanced_accuracy</th>\n",
       "    </tr>\n",
       "  </thead>\n",
       "  <tbody>\n",
       "    <tr>\n",
       "      <th>0</th>\n",
       "      <td>svc</td>\n",
       "      <td>FRN_Anxiety_band_0_svc</td>\n",
       "      <td>0.696514</td>\n",
       "      <td>0.588023</td>\n",
       "      <td>(CSP({'component_order': 'mutual_info',\\n 'cov...</td>\n",
       "      <td>{'csp__n_components': 2, 'csp__reg': 1, 'svc__...</td>\n",
       "      <td>0.064935</td>\n",
       "      <td>0.469697</td>\n",
       "      <td>0.528139</td>\n",
       "      <td>0.580087</td>\n",
       "      <td>0.676768</td>\n",
       "      <td>0.579060</td>\n",
       "      <td>0.525974</td>\n",
       "      <td>0.588023</td>\n",
       "    </tr>\n",
       "    <tr>\n",
       "      <th>0</th>\n",
       "      <td>svc</td>\n",
       "      <td>FRN_Anxiety_band_1_svc</td>\n",
       "      <td>0.736298</td>\n",
       "      <td>0.600289</td>\n",
       "      <td>(CSP({'component_order': 'mutual_info',\\n 'cov...</td>\n",
       "      <td>{'csp__n_components': 1, 'csp__reg': 0.001, 's...</td>\n",
       "      <td>0.014985</td>\n",
       "      <td>0.621212</td>\n",
       "      <td>0.551948</td>\n",
       "      <td>0.601732</td>\n",
       "      <td>0.588023</td>\n",
       "      <td>0.614815</td>\n",
       "      <td>0.591631</td>\n",
       "      <td>0.600289</td>\n",
       "    </tr>\n",
       "  </tbody>\n",
       "</table>\n",
       "</div>"
      ],
      "text/plain": [
       "  model_name           pipeline_name  train score  mean_cv_score  \\\n",
       "0        svc  FRN_Anxiety_band_0_svc     0.696514       0.588023   \n",
       "0        svc  FRN_Anxiety_band_1_svc     0.736298       0.600289   \n",
       "\n",
       "                                          best_model  \\\n",
       "0  (CSP({'component_order': 'mutual_info',\\n 'cov...   \n",
       "0  (CSP({'component_order': 'mutual_info',\\n 'cov...   \n",
       "\n",
       "                                          parameters    pvalue  \\\n",
       "0  {'csp__n_components': 2, 'csp__reg': 1, 'svc__...  0.064935   \n",
       "0  {'csp__n_components': 1, 'csp__reg': 0.001, 's...  0.014985   \n",
       "\n",
       "   split0_test_roc_auc  split1_test_roc_auc  split2_test_roc_auc  \\\n",
       "0             0.469697             0.528139             0.580087   \n",
       "0             0.621212             0.551948             0.601732   \n",
       "\n",
       "   mean_test_recall  mean_test_precision  mean_test_roc_auc  \\\n",
       "0          0.676768             0.579060           0.525974   \n",
       "0          0.588023             0.614815           0.591631   \n",
       "\n",
       "   mean_test_balanced_accuracy  \n",
       "0                     0.588023  \n",
       "0                     0.600289  "
      ]
     },
     "execution_count": 326,
     "metadata": {},
     "output_type": "execute_result"
    }
   ],
   "source": [
    "results_anx_frn_df"
   ]
  },
  {
   "cell_type": "code",
   "execution_count": 327,
   "metadata": {},
   "outputs": [],
   "source": [
    "index = 1"
   ]
  },
  {
   "cell_type": "code",
   "execution_count": 328,
   "metadata": {},
   "outputs": [
    {
     "data": {
      "text/html": [
       "<style>#sk-container-id-7 {color: black;background-color: white;}#sk-container-id-7 pre{padding: 0;}#sk-container-id-7 div.sk-toggleable {background-color: white;}#sk-container-id-7 label.sk-toggleable__label {cursor: pointer;display: block;width: 100%;margin-bottom: 0;padding: 0.3em;box-sizing: border-box;text-align: center;}#sk-container-id-7 label.sk-toggleable__label-arrow:before {content: \"▸\";float: left;margin-right: 0.25em;color: #696969;}#sk-container-id-7 label.sk-toggleable__label-arrow:hover:before {color: black;}#sk-container-id-7 div.sk-estimator:hover label.sk-toggleable__label-arrow:before {color: black;}#sk-container-id-7 div.sk-toggleable__content {max-height: 0;max-width: 0;overflow: hidden;text-align: left;background-color: #f0f8ff;}#sk-container-id-7 div.sk-toggleable__content pre {margin: 0.2em;color: black;border-radius: 0.25em;background-color: #f0f8ff;}#sk-container-id-7 input.sk-toggleable__control:checked~div.sk-toggleable__content {max-height: 200px;max-width: 100%;overflow: auto;}#sk-container-id-7 input.sk-toggleable__control:checked~label.sk-toggleable__label-arrow:before {content: \"▾\";}#sk-container-id-7 div.sk-estimator input.sk-toggleable__control:checked~label.sk-toggleable__label {background-color: #d4ebff;}#sk-container-id-7 div.sk-label input.sk-toggleable__control:checked~label.sk-toggleable__label {background-color: #d4ebff;}#sk-container-id-7 input.sk-hidden--visually {border: 0;clip: rect(1px 1px 1px 1px);clip: rect(1px, 1px, 1px, 1px);height: 1px;margin: -1px;overflow: hidden;padding: 0;position: absolute;width: 1px;}#sk-container-id-7 div.sk-estimator {font-family: monospace;background-color: #f0f8ff;border: 1px dotted black;border-radius: 0.25em;box-sizing: border-box;margin-bottom: 0.5em;}#sk-container-id-7 div.sk-estimator:hover {background-color: #d4ebff;}#sk-container-id-7 div.sk-parallel-item::after {content: \"\";width: 100%;border-bottom: 1px solid gray;flex-grow: 1;}#sk-container-id-7 div.sk-label:hover label.sk-toggleable__label {background-color: #d4ebff;}#sk-container-id-7 div.sk-serial::before {content: \"\";position: absolute;border-left: 1px solid gray;box-sizing: border-box;top: 0;bottom: 0;left: 50%;z-index: 0;}#sk-container-id-7 div.sk-serial {display: flex;flex-direction: column;align-items: center;background-color: white;padding-right: 0.2em;padding-left: 0.2em;position: relative;}#sk-container-id-7 div.sk-item {position: relative;z-index: 1;}#sk-container-id-7 div.sk-parallel {display: flex;align-items: stretch;justify-content: center;background-color: white;position: relative;}#sk-container-id-7 div.sk-item::before, #sk-container-id-7 div.sk-parallel-item::before {content: \"\";position: absolute;border-left: 1px solid gray;box-sizing: border-box;top: 0;bottom: 0;left: 50%;z-index: -1;}#sk-container-id-7 div.sk-parallel-item {display: flex;flex-direction: column;z-index: 1;position: relative;background-color: white;}#sk-container-id-7 div.sk-parallel-item:first-child::after {align-self: flex-end;width: 50%;}#sk-container-id-7 div.sk-parallel-item:last-child::after {align-self: flex-start;width: 50%;}#sk-container-id-7 div.sk-parallel-item:only-child::after {width: 0;}#sk-container-id-7 div.sk-dashed-wrapped {border: 1px dashed gray;margin: 0 0.4em 0.5em 0.4em;box-sizing: border-box;padding-bottom: 0.4em;background-color: white;}#sk-container-id-7 div.sk-label label {font-family: monospace;font-weight: bold;display: inline-block;line-height: 1.2em;}#sk-container-id-7 div.sk-label-container {text-align: center;}#sk-container-id-7 div.sk-container {/* jupyter's `normalize.less` sets `[hidden] { display: none; }` but bootstrap.min.css set `[hidden] { display: none !important; }` so we also need the `!important` here to be able to override the default hidden behavior on the sphinx rendered scikit-learn.org. See: https://github.com/scikit-learn/scikit-learn/issues/21755 */display: inline-block !important;position: relative;}#sk-container-id-7 div.sk-text-repr-fallback {display: none;}</style><div id=\"sk-container-id-7\" class=\"sk-top-container\"><div class=\"sk-text-repr-fallback\"><pre>Pipeline(steps=[(&#x27;csp&#x27;,\n",
       "                 CSP({&#x27;component_order&#x27;: &#x27;mutual_info&#x27;,\n",
       " &#x27;cov_est&#x27;: &#x27;concat&#x27;,\n",
       " &#x27;cov_method_params&#x27;: None,\n",
       " &#x27;log&#x27;: None,\n",
       " &#x27;n_components&#x27;: 3,\n",
       " &#x27;norm_trace&#x27;: False,\n",
       " &#x27;rank&#x27;: None,\n",
       " &#x27;reg&#x27;: 0.1,\n",
       " &#x27;transform_into&#x27;: &#x27;average_power&#x27;})),\n",
       "                (&#x27;vec&#x27;,\n",
       "                 &lt;mne.decoding.transformer.Vectorizer object at 0x7f74c861c700&gt;),\n",
       "                (&#x27;svc&#x27;, SVC(C=1000))])</pre><b>In a Jupyter environment, please rerun this cell to show the HTML representation or trust the notebook. <br />On GitHub, the HTML representation is unable to render, please try loading this page with nbviewer.org.</b></div><div class=\"sk-container\" hidden><div class=\"sk-item sk-dashed-wrapped\"><div class=\"sk-label-container\"><div class=\"sk-label sk-toggleable\"><input class=\"sk-toggleable__control sk-hidden--visually\" id=\"sk-estimator-id-25\" type=\"checkbox\" ><label for=\"sk-estimator-id-25\" class=\"sk-toggleable__label sk-toggleable__label-arrow\">Pipeline</label><div class=\"sk-toggleable__content\"><pre>Pipeline(steps=[(&#x27;csp&#x27;,\n",
       "                 CSP({&#x27;component_order&#x27;: &#x27;mutual_info&#x27;,\n",
       " &#x27;cov_est&#x27;: &#x27;concat&#x27;,\n",
       " &#x27;cov_method_params&#x27;: None,\n",
       " &#x27;log&#x27;: None,\n",
       " &#x27;n_components&#x27;: 3,\n",
       " &#x27;norm_trace&#x27;: False,\n",
       " &#x27;rank&#x27;: None,\n",
       " &#x27;reg&#x27;: 0.1,\n",
       " &#x27;transform_into&#x27;: &#x27;average_power&#x27;})),\n",
       "                (&#x27;vec&#x27;,\n",
       "                 &lt;mne.decoding.transformer.Vectorizer object at 0x7f74c861c700&gt;),\n",
       "                (&#x27;svc&#x27;, SVC(C=1000))])</pre></div></div></div><div class=\"sk-serial\"><div class=\"sk-item\"><div class=\"sk-estimator sk-toggleable\"><input class=\"sk-toggleable__control sk-hidden--visually\" id=\"sk-estimator-id-26\" type=\"checkbox\" ><label for=\"sk-estimator-id-26\" class=\"sk-toggleable__label sk-toggleable__label-arrow\">CSP</label><div class=\"sk-toggleable__content\"><pre>CSP({&#x27;component_order&#x27;: &#x27;mutual_info&#x27;,\n",
       " &#x27;cov_est&#x27;: &#x27;concat&#x27;,\n",
       " &#x27;cov_method_params&#x27;: None,\n",
       " &#x27;log&#x27;: None,\n",
       " &#x27;n_components&#x27;: 3,\n",
       " &#x27;norm_trace&#x27;: False,\n",
       " &#x27;rank&#x27;: None,\n",
       " &#x27;reg&#x27;: 0.1,\n",
       " &#x27;transform_into&#x27;: &#x27;average_power&#x27;})</pre></div></div></div><div class=\"sk-item\"><div class=\"sk-estimator sk-toggleable\"><input class=\"sk-toggleable__control sk-hidden--visually\" id=\"sk-estimator-id-27\" type=\"checkbox\" ><label for=\"sk-estimator-id-27\" class=\"sk-toggleable__label sk-toggleable__label-arrow\">Vectorizer</label><div class=\"sk-toggleable__content\"><pre>&lt;mne.decoding.transformer.Vectorizer object at 0x7f74c861c700&gt;</pre></div></div></div><div class=\"sk-item\"><div class=\"sk-estimator sk-toggleable\"><input class=\"sk-toggleable__control sk-hidden--visually\" id=\"sk-estimator-id-28\" type=\"checkbox\" ><label for=\"sk-estimator-id-28\" class=\"sk-toggleable__label sk-toggleable__label-arrow\">SVC</label><div class=\"sk-toggleable__content\"><pre>SVC(C=1000)</pre></div></div></div></div></div></div></div>"
      ],
      "text/plain": [
       "Pipeline(steps=[('csp',\n",
       "                 CSP({'component_order': 'mutual_info',\n",
       " 'cov_est': 'concat',\n",
       " 'cov_method_params': None,\n",
       " 'log': None,\n",
       " 'n_components': 3,\n",
       " 'norm_trace': False,\n",
       " 'rank': None,\n",
       " 'reg': 0.1,\n",
       " 'transform_into': 'average_power'})),\n",
       "                ('vec',\n",
       "                 <mne.decoding.transformer.Vectorizer object at 0x7f74c861c700>),\n",
       "                ('svc', SVC(C=1000))])"
      ]
     },
     "execution_count": 328,
     "metadata": {},
     "output_type": "execute_result"
    }
   ],
   "source": [
    "anx_rewp_model = results_anx_rewp_df.iloc[index].best_model\n",
    "anx_rewp_model"
   ]
  },
  {
   "cell_type": "code",
   "execution_count": 329,
   "metadata": {},
   "outputs": [
    {
     "data": {
      "text/html": [
       "<style>#sk-container-id-8 {color: black;background-color: white;}#sk-container-id-8 pre{padding: 0;}#sk-container-id-8 div.sk-toggleable {background-color: white;}#sk-container-id-8 label.sk-toggleable__label {cursor: pointer;display: block;width: 100%;margin-bottom: 0;padding: 0.3em;box-sizing: border-box;text-align: center;}#sk-container-id-8 label.sk-toggleable__label-arrow:before {content: \"▸\";float: left;margin-right: 0.25em;color: #696969;}#sk-container-id-8 label.sk-toggleable__label-arrow:hover:before {color: black;}#sk-container-id-8 div.sk-estimator:hover label.sk-toggleable__label-arrow:before {color: black;}#sk-container-id-8 div.sk-toggleable__content {max-height: 0;max-width: 0;overflow: hidden;text-align: left;background-color: #f0f8ff;}#sk-container-id-8 div.sk-toggleable__content pre {margin: 0.2em;color: black;border-radius: 0.25em;background-color: #f0f8ff;}#sk-container-id-8 input.sk-toggleable__control:checked~div.sk-toggleable__content {max-height: 200px;max-width: 100%;overflow: auto;}#sk-container-id-8 input.sk-toggleable__control:checked~label.sk-toggleable__label-arrow:before {content: \"▾\";}#sk-container-id-8 div.sk-estimator input.sk-toggleable__control:checked~label.sk-toggleable__label {background-color: #d4ebff;}#sk-container-id-8 div.sk-label input.sk-toggleable__control:checked~label.sk-toggleable__label {background-color: #d4ebff;}#sk-container-id-8 input.sk-hidden--visually {border: 0;clip: rect(1px 1px 1px 1px);clip: rect(1px, 1px, 1px, 1px);height: 1px;margin: -1px;overflow: hidden;padding: 0;position: absolute;width: 1px;}#sk-container-id-8 div.sk-estimator {font-family: monospace;background-color: #f0f8ff;border: 1px dotted black;border-radius: 0.25em;box-sizing: border-box;margin-bottom: 0.5em;}#sk-container-id-8 div.sk-estimator:hover {background-color: #d4ebff;}#sk-container-id-8 div.sk-parallel-item::after {content: \"\";width: 100%;border-bottom: 1px solid gray;flex-grow: 1;}#sk-container-id-8 div.sk-label:hover label.sk-toggleable__label {background-color: #d4ebff;}#sk-container-id-8 div.sk-serial::before {content: \"\";position: absolute;border-left: 1px solid gray;box-sizing: border-box;top: 0;bottom: 0;left: 50%;z-index: 0;}#sk-container-id-8 div.sk-serial {display: flex;flex-direction: column;align-items: center;background-color: white;padding-right: 0.2em;padding-left: 0.2em;position: relative;}#sk-container-id-8 div.sk-item {position: relative;z-index: 1;}#sk-container-id-8 div.sk-parallel {display: flex;align-items: stretch;justify-content: center;background-color: white;position: relative;}#sk-container-id-8 div.sk-item::before, #sk-container-id-8 div.sk-parallel-item::before {content: \"\";position: absolute;border-left: 1px solid gray;box-sizing: border-box;top: 0;bottom: 0;left: 50%;z-index: -1;}#sk-container-id-8 div.sk-parallel-item {display: flex;flex-direction: column;z-index: 1;position: relative;background-color: white;}#sk-container-id-8 div.sk-parallel-item:first-child::after {align-self: flex-end;width: 50%;}#sk-container-id-8 div.sk-parallel-item:last-child::after {align-self: flex-start;width: 50%;}#sk-container-id-8 div.sk-parallel-item:only-child::after {width: 0;}#sk-container-id-8 div.sk-dashed-wrapped {border: 1px dashed gray;margin: 0 0.4em 0.5em 0.4em;box-sizing: border-box;padding-bottom: 0.4em;background-color: white;}#sk-container-id-8 div.sk-label label {font-family: monospace;font-weight: bold;display: inline-block;line-height: 1.2em;}#sk-container-id-8 div.sk-label-container {text-align: center;}#sk-container-id-8 div.sk-container {/* jupyter's `normalize.less` sets `[hidden] { display: none; }` but bootstrap.min.css set `[hidden] { display: none !important; }` so we also need the `!important` here to be able to override the default hidden behavior on the sphinx rendered scikit-learn.org. See: https://github.com/scikit-learn/scikit-learn/issues/21755 */display: inline-block !important;position: relative;}#sk-container-id-8 div.sk-text-repr-fallback {display: none;}</style><div id=\"sk-container-id-8\" class=\"sk-top-container\"><div class=\"sk-text-repr-fallback\"><pre>Pipeline(steps=[(&#x27;csp&#x27;,\n",
       "                 CSP({&#x27;component_order&#x27;: &#x27;mutual_info&#x27;,\n",
       " &#x27;cov_est&#x27;: &#x27;concat&#x27;,\n",
       " &#x27;cov_method_params&#x27;: None,\n",
       " &#x27;log&#x27;: None,\n",
       " &#x27;n_components&#x27;: 1,\n",
       " &#x27;norm_trace&#x27;: False,\n",
       " &#x27;rank&#x27;: None,\n",
       " &#x27;reg&#x27;: 0.001,\n",
       " &#x27;transform_into&#x27;: &#x27;average_power&#x27;})),\n",
       "                (&#x27;vec&#x27;,\n",
       "                 &lt;mne.decoding.transformer.Vectorizer object at 0x7f74e2f93cd0&gt;),\n",
       "                (&#x27;svc&#x27;, SVC(C=0.01, kernel=&#x27;linear&#x27;))])</pre><b>In a Jupyter environment, please rerun this cell to show the HTML representation or trust the notebook. <br />On GitHub, the HTML representation is unable to render, please try loading this page with nbviewer.org.</b></div><div class=\"sk-container\" hidden><div class=\"sk-item sk-dashed-wrapped\"><div class=\"sk-label-container\"><div class=\"sk-label sk-toggleable\"><input class=\"sk-toggleable__control sk-hidden--visually\" id=\"sk-estimator-id-29\" type=\"checkbox\" ><label for=\"sk-estimator-id-29\" class=\"sk-toggleable__label sk-toggleable__label-arrow\">Pipeline</label><div class=\"sk-toggleable__content\"><pre>Pipeline(steps=[(&#x27;csp&#x27;,\n",
       "                 CSP({&#x27;component_order&#x27;: &#x27;mutual_info&#x27;,\n",
       " &#x27;cov_est&#x27;: &#x27;concat&#x27;,\n",
       " &#x27;cov_method_params&#x27;: None,\n",
       " &#x27;log&#x27;: None,\n",
       " &#x27;n_components&#x27;: 1,\n",
       " &#x27;norm_trace&#x27;: False,\n",
       " &#x27;rank&#x27;: None,\n",
       " &#x27;reg&#x27;: 0.001,\n",
       " &#x27;transform_into&#x27;: &#x27;average_power&#x27;})),\n",
       "                (&#x27;vec&#x27;,\n",
       "                 &lt;mne.decoding.transformer.Vectorizer object at 0x7f74e2f93cd0&gt;),\n",
       "                (&#x27;svc&#x27;, SVC(C=0.01, kernel=&#x27;linear&#x27;))])</pre></div></div></div><div class=\"sk-serial\"><div class=\"sk-item\"><div class=\"sk-estimator sk-toggleable\"><input class=\"sk-toggleable__control sk-hidden--visually\" id=\"sk-estimator-id-30\" type=\"checkbox\" ><label for=\"sk-estimator-id-30\" class=\"sk-toggleable__label sk-toggleable__label-arrow\">CSP</label><div class=\"sk-toggleable__content\"><pre>CSP({&#x27;component_order&#x27;: &#x27;mutual_info&#x27;,\n",
       " &#x27;cov_est&#x27;: &#x27;concat&#x27;,\n",
       " &#x27;cov_method_params&#x27;: None,\n",
       " &#x27;log&#x27;: None,\n",
       " &#x27;n_components&#x27;: 1,\n",
       " &#x27;norm_trace&#x27;: False,\n",
       " &#x27;rank&#x27;: None,\n",
       " &#x27;reg&#x27;: 0.001,\n",
       " &#x27;transform_into&#x27;: &#x27;average_power&#x27;})</pre></div></div></div><div class=\"sk-item\"><div class=\"sk-estimator sk-toggleable\"><input class=\"sk-toggleable__control sk-hidden--visually\" id=\"sk-estimator-id-31\" type=\"checkbox\" ><label for=\"sk-estimator-id-31\" class=\"sk-toggleable__label sk-toggleable__label-arrow\">Vectorizer</label><div class=\"sk-toggleable__content\"><pre>&lt;mne.decoding.transformer.Vectorizer object at 0x7f74e2f93cd0&gt;</pre></div></div></div><div class=\"sk-item\"><div class=\"sk-estimator sk-toggleable\"><input class=\"sk-toggleable__control sk-hidden--visually\" id=\"sk-estimator-id-32\" type=\"checkbox\" ><label for=\"sk-estimator-id-32\" class=\"sk-toggleable__label sk-toggleable__label-arrow\">SVC</label><div class=\"sk-toggleable__content\"><pre>SVC(C=0.01, kernel=&#x27;linear&#x27;)</pre></div></div></div></div></div></div></div>"
      ],
      "text/plain": [
       "Pipeline(steps=[('csp',\n",
       "                 CSP({'component_order': 'mutual_info',\n",
       " 'cov_est': 'concat',\n",
       " 'cov_method_params': None,\n",
       " 'log': None,\n",
       " 'n_components': 1,\n",
       " 'norm_trace': False,\n",
       " 'rank': None,\n",
       " 'reg': 0.001,\n",
       " 'transform_into': 'average_power'})),\n",
       "                ('vec',\n",
       "                 <mne.decoding.transformer.Vectorizer object at 0x7f74e2f93cd0>),\n",
       "                ('svc', SVC(C=0.01, kernel='linear'))])"
      ]
     },
     "execution_count": 329,
     "metadata": {},
     "output_type": "execute_result"
    }
   ],
   "source": [
    "anx_frn_model = results_anx_frn_df.iloc[index].best_model\n",
    "anx_frn_model"
   ]
  },
  {
   "cell_type": "code",
   "execution_count": 330,
   "metadata": {},
   "outputs": [],
   "source": [
    "X_rewp = rewp_anxiety_datasets[index]\n",
    "X_frn = frn_anxiety_datasets[index]"
   ]
  },
  {
   "cell_type": "markdown",
   "metadata": {},
   "source": [
    "- Balanced Accuracy"
   ]
  },
  {
   "cell_type": "code",
   "execution_count": 331,
   "metadata": {},
   "outputs": [],
   "source": [
    "%%capture\n",
    "\n",
    "t, p = paired_ttest_nandeu(\n",
    "    estimator1=anx_rewp_model,\n",
    "    estimator2=anx_frn_model,\n",
    "    X_1=X_rewp,\n",
    "    X_2=X_frn, \n",
    "    y=y,\n",
    "    random_state=random_state,\n",
    "    scoring='balanced_accuracy'\n",
    ")"
   ]
  },
  {
   "cell_type": "code",
   "execution_count": 332,
   "metadata": {},
   "outputs": [
    {
     "name": "stdout",
     "output_type": "stream",
     "text": [
      "t statistic: -1.181\n",
      "p value: 0.120\n"
     ]
    }
   ],
   "source": [
    "print('t statistic: %.3f' % t)\n",
    "print('p value: %.3f' % p)"
   ]
  },
  {
   "cell_type": "markdown",
   "metadata": {},
   "source": [
    "- Roc AUC"
   ]
  },
  {
   "cell_type": "code",
   "execution_count": 158,
   "metadata": {},
   "outputs": [],
   "source": [
    "%%capture\n",
    "\n",
    "t, p = paired_ttest_nandeu(\n",
    "    estimator1=anx_rewp_model,\n",
    "    estimator2=anx_frn_model,\n",
    "    X_1=X_rewp,\n",
    "    X_2=X_frn, \n",
    "    y=y,\n",
    "    random_state=random_state,\n",
    "    scoring='roc_auc'\n",
    ")"
   ]
  },
  {
   "cell_type": "code",
   "execution_count": 159,
   "metadata": {},
   "outputs": [
    {
     "name": "stdout",
     "output_type": "stream",
     "text": [
      "t statistic: 0.423\n",
      "p value: 0.337\n"
     ]
    }
   ],
   "source": [
    "print('t statistic: %.3f' % t)\n",
    "print('p value: %.3f' % p)"
   ]
  },
  {
   "cell_type": "markdown",
   "metadata": {},
   "source": [
    "- precision"
   ]
  },
  {
   "cell_type": "code",
   "execution_count": 160,
   "metadata": {},
   "outputs": [],
   "source": [
    "%%capture\n",
    "\n",
    "t, p = paired_ttest_nandeu(\n",
    "    estimator1=anx_rewp_model,\n",
    "    estimator2=anx_frn_model,\n",
    "    X_1=X_rewp,\n",
    "    X_2=X_frn, \n",
    "    y=y,\n",
    "    random_state=random_state,\n",
    "    scoring='precision'\n",
    ")"
   ]
  },
  {
   "cell_type": "code",
   "execution_count": 161,
   "metadata": {},
   "outputs": [
    {
     "name": "stdout",
     "output_type": "stream",
     "text": [
      "t statistic: 0.278\n",
      "p value: 0.391\n"
     ]
    }
   ],
   "source": [
    "print('t statistic: %.3f' % t)\n",
    "print('p value: %.3f' % p)"
   ]
  },
  {
   "cell_type": "markdown",
   "metadata": {},
   "source": [
    "- recall"
   ]
  },
  {
   "cell_type": "code",
   "execution_count": 162,
   "metadata": {},
   "outputs": [],
   "source": [
    "%%capture\n",
    "\n",
    "t, p = paired_ttest_nandeu(\n",
    "    estimator1=anx_rewp_model,\n",
    "    estimator2=anx_frn_model,\n",
    "    X_1=X_rewp,\n",
    "    X_2=X_frn, \n",
    "    y=y,\n",
    "    random_state=random_state,\n",
    "    scoring='recall'\n",
    ")"
   ]
  },
  {
   "cell_type": "code",
   "execution_count": 163,
   "metadata": {},
   "outputs": [
    {
     "name": "stdout",
     "output_type": "stream",
     "text": [
      "t statistic: -0.866\n",
      "p value: 0.194\n"
     ]
    }
   ],
   "source": [
    "print('t statistic: %.3f' % t)\n",
    "print('p value: %.3f' % p)"
   ]
  },
  {
   "cell_type": "markdown",
   "metadata": {},
   "source": [
    "- F1"
   ]
  },
  {
   "cell_type": "code",
   "execution_count": 164,
   "metadata": {},
   "outputs": [],
   "source": [
    "%%capture\n",
    "\n",
    "t, p = paired_ttest_nandeu(\n",
    "    estimator1=anx_rewp_model,\n",
    "    estimator2=anx_frn_model,\n",
    "    X_1=X_rewp,\n",
    "    X_2=X_frn, \n",
    "    y=y,\n",
    "    random_state=random_state,\n",
    "    scoring='f1'\n",
    ")"
   ]
  },
  {
   "cell_type": "code",
   "execution_count": 165,
   "metadata": {},
   "outputs": [
    {
     "name": "stdout",
     "output_type": "stream",
     "text": [
      "t statistic: -0.377\n",
      "p value: 0.354\n"
     ]
    }
   ],
   "source": [
    "print('t statistic: %.3f' % t)\n",
    "print('p value: %.3f' % p)"
   ]
  },
  {
   "cell_type": "markdown",
   "metadata": {},
   "source": [
    "Visualize difference between FRN and RewP models"
   ]
  },
  {
   "cell_type": "code",
   "execution_count": 166,
   "metadata": {
    "colab": {
     "base_uri": "https://localhost:8080/"
    },
    "executionInfo": {
     "elapsed": 4,
     "status": "ok",
     "timestamp": 1677516452928,
     "user": {
      "displayName": "Anna Grabowska",
      "userId": "15734344613010880864"
     },
     "user_tz": -60
    },
    "id": "824FRKiAweds",
    "outputId": "a8affbdc-2c93-462c-d952-df11bc0ff221"
   },
   "outputs": [],
   "source": [
    "%%capture\n",
    "\n",
    "cv = RepeatedStratifiedKFold(n_splits=10, n_repeats=10, random_state=random_state)\n",
    "\n",
    "cv_scores_1 = cross_val_score(anx_rewp_model, X_rewp, y, cv=cv, scoring='balanced_accuracy')\n",
    "cv_scores_2 = cross_val_score(anx_frn_model, X_frn, y, cv=cv,  scoring='balanced_accuracy')"
   ]
  },
  {
   "cell_type": "code",
   "execution_count": 167,
   "metadata": {},
   "outputs": [],
   "source": [
    "cv_results_df = pd.DataFrame({\n",
    "    \"RewP\": cv_scores_1,\n",
    "    \"FRN\": cv_scores_2,\n",
    "})"
   ]
  },
  {
   "cell_type": "code",
   "execution_count": 168,
   "metadata": {},
   "outputs": [
    {
     "data": {
      "image/png": "[encoded data removed]",
      "text/plain": [
       "<Figure size 432x288 with 1 Axes>"
      ]
     },
     "metadata": {
      "needs_background": "light"
     },
     "output_type": "display_data"
    }
   ],
   "source": [
    "fig = sns.histplot(data=cv_results_df, bins=9, kde=True)"
   ]
  },
  {
   "cell_type": "code",
   "execution_count": 172,
   "metadata": {
    "colab": {
     "base_uri": "https://localhost:8080/"
    },
    "executionInfo": {
     "elapsed": 4,
     "status": "ok",
     "timestamp": 1677516452928,
     "user": {
      "displayName": "Anna Grabowska",
      "userId": "15734344613010880864"
     },
     "user_tz": -60
    },
    "id": "824FRKiAweds",
    "outputId": "a8affbdc-2c93-462c-d952-df11bc0ff221"
   },
   "outputs": [],
   "source": [
    "%%capture\n",
    "\n",
    "cv = RepeatedStratifiedKFold(n_splits=10, n_repeats=10, random_state=random_state)\n",
    "\n",
    "cv_scores_1 = cross_val_score(anx_rewp_model, X_rewp, y, cv=cv, scoring='recall')\n",
    "cv_scores_2 = cross_val_score(anx_frn_model, X_frn, y, cv=cv,  scoring='recall')"
   ]
  },
  {
   "cell_type": "code",
   "execution_count": 173,
   "metadata": {},
   "outputs": [],
   "source": [
    "cv_results_df = pd.DataFrame({\n",
    "    \"RewP\": cv_scores_1,\n",
    "    \"FRN\": cv_scores_2,\n",
    "})"
   ]
  },
  {
   "cell_type": "code",
   "execution_count": 174,
   "metadata": {},
   "outputs": [
    {
     "data": {
      "image/png": "[encoded data removed]",
      "text/plain": [
       "<Figure size 432x288 with 1 Axes>"
      ]
     },
     "metadata": {
      "needs_background": "light"
     },
     "output_type": "display_data"
    }
   ],
   "source": [
    "fig = sns.histplot(data=cv_results_df, bins=9, kde=True)"
   ]
  },
  {
   "cell_type": "code",
   "execution_count": null,
   "metadata": {},
   "outputs": [],
   "source": []
  }
 ],
 "metadata": {
  "colab": {
   "collapsed_sections": [
    "74g2chqQWa48",
    "3irne7dXaoIt"
   ],
   "name": "",
   "provenance": [
    {
     "file_id": "13OESwog1Uwt1WAcNW9QEaphoYxPyNplr",
     "timestamp": 1677327376830
    }
   ],
   "toc_visible": true,
   "version": ""
  },
  "kernelspec": {
   "display_name": "bluish",
   "language": "python",
   "name": "bluish"
  },
  "language_info": {
   "codemirror_mode": {
    "name": "ipython",
    "version": 3
   },
   "file_extension": ".py",
   "mimetype": "text/x-python",
   "name": "python",
   "nbconvert_exporter": "python",
   "pygments_lexer": "ipython3",
   "version": "3.8.10"
  }
 },
 "nbformat": 4,
 "nbformat_minor": 4
}
