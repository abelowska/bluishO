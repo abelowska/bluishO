{
 "cells": [
  {
   "cell_type": "markdown",
   "metadata": {
    "id": "aVAPtMDTYvRD"
   },
   "source": [
    "# Depression and Anxiety classification with CSP spatial filter and different frequancy bands"
   ]
  },
  {
   "cell_type": "markdown",
   "metadata": {},
   "source": [
    "Conceptual replication of the study by [Cavanagh et al. (2019)](https://www.ncbi.nlm.nih.gov/pmc/articles/PMC6515849/) on own dataset."
   ]
  },
  {
   "cell_type": "markdown",
   "metadata": {
    "id": "FcABdbTciWqA"
   },
   "source": [
    "Import packages"
   ]
  },
  {
   "cell_type": "code",
   "execution_count": 1,
   "metadata": {
    "executionInfo": {
     "elapsed": 316,
     "status": "ok",
     "timestamp": 1677517783528,
     "user": {
      "displayName": "Anna Grabowska",
      "userId": "15734344613010880864"
     },
     "user_tz": -60
    },
    "id": "N_cSZrE3hRG1"
   },
   "outputs": [],
   "source": [
    "import io\n",
    "import os\n",
    "import mne\n",
    "import copy\n",
    "import glob\n",
    "import array\n",
    "import matplotlib\n",
    "import numpy as np\n",
    "import pandas as pd\n",
    "import sklearn.metrics\n",
    "import seaborn as sns\n",
    "import scipy.io as sio\n",
    "import plotly.express as px\n",
    "import matplotlib.pyplot as plt\n",
    "\n",
    "\n",
    "from itertools import chain\n",
    "from sklearn.svm import SVC\n",
    "from scipy.io import loadmat\n",
    "from sklearn import set_config\n",
    "\n",
    "from sklearn import preprocessing\n",
    "from sklearn.pipeline import Pipeline\n",
    "from sklearn.metrics import roc_auc_score, classification_report\n",
    "from sklearn.preprocessing import MinMaxScaler\n",
    "from sklearn.model_selection import GridSearchCV, ShuffleSplit\n",
    "from sklearn.model_selection import StratifiedKFold\n",
    "from sklearn.linear_model import LogisticRegression\n",
    "from sklearn.model_selection import train_test_split\n",
    "from sklearn.preprocessing import StandardScaler\n",
    "from sklearn.neighbors import KNeighborsClassifier\n",
    "from sklearn.model_selection import permutation_test_score\n",
    "from autoreject import AutoReject\n",
    "import re\n",
    "\n",
    "\n",
    "\n",
    "import numpy as np\n",
    "import matplotlib.pyplot as plt\n",
    "\n",
    "from sklearn.pipeline import Pipeline\n",
    "from sklearn.discriminant_analysis import LinearDiscriminantAnalysis\n",
    "from sklearn.model_selection import ShuffleSplit, cross_val_score, RepeatedStratifiedKFold\n",
    "from sklearn.utils import resample\n",
    "\n",
    "from mne import Epochs, pick_types, events_from_annotations\n",
    "from mne.channels import make_standard_montage\n",
    "from mne.io import concatenate_raws, read_raw_edf\n",
    "from mne.datasets import eegbci\n",
    "from mne.decoding import CSP\n",
    "\n",
    "from mne.preprocessing import Xdawn\n",
    "from mne.decoding import Vectorizer\n",
    "\n",
    "from mne.decoding import UnsupervisedSpatialFilter\n",
    "\n",
    "from sklearn.decomposition import PCA, FastICA\n",
    "\n",
    "from scipy import stats\n",
    "\n",
    "# parameters for plotting\n",
    "plt.rcParams[\"figure.figsize\"] = (10,7)\n",
    "\n",
    "import seaborn as sns\n",
    "sns.set_theme(style=\"whitegrid\", palette=\"deep\")"
   ]
  },
  {
   "cell_type": "markdown",
   "metadata": {},
   "source": [
    "Constatnts"
   ]
  },
  {
   "cell_type": "code",
   "execution_count": 2,
   "metadata": {},
   "outputs": [],
   "source": [
    "random_state = 42\n",
    "signal_frequency = 256"
   ]
  },
  {
   "cell_type": "markdown",
   "metadata": {
    "id": "TUmealuGFBRa"
   },
   "source": [
    "## Load questionnarie data"
   ]
  },
  {
   "cell_type": "code",
   "execution_count": 3,
   "metadata": {
    "executionInfo": {
     "elapsed": 371,
     "status": "ok",
     "timestamp": 1677517793023,
     "user": {
      "displayName": "Anna Grabowska",
      "userId": "15734344613010880864"
     },
     "user_tz": -60
    },
    "id": "6WPawPUjhVDt"
   },
   "outputs": [
    {
     "data": {
      "text/html": [
       "<div>\n",
       "<style scoped>\n",
       "    .dataframe tbody tr th:only-of-type {\n",
       "        vertical-align: middle;\n",
       "    }\n",
       "\n",
       "    .dataframe tbody tr th {\n",
       "        vertical-align: top;\n",
       "    }\n",
       "\n",
       "    .dataframe thead th {\n",
       "        text-align: right;\n",
       "    }\n",
       "</style>\n",
       "<table border=\"1\" class=\"dataframe\">\n",
       "  <thead>\n",
       "    <tr style=\"text-align: right;\">\n",
       "      <th></th>\n",
       "      <th>Demo_kod</th>\n",
       "      <th>BDI</th>\n",
       "      <th>BDI_cognitive</th>\n",
       "      <th>BDI_affective</th>\n",
       "      <th>BDI_affect_cog</th>\n",
       "      <th>BDI_somatic</th>\n",
       "      <th>STAI</th>\n",
       "    </tr>\n",
       "  </thead>\n",
       "  <tbody>\n",
       "    <tr>\n",
       "      <th>0</th>\n",
       "      <td>000</td>\n",
       "      <td>6</td>\n",
       "      <td>0.17</td>\n",
       "      <td>0.67</td>\n",
       "      <td>0.83</td>\n",
       "      <td>0.50</td>\n",
       "      <td>40</td>\n",
       "    </tr>\n",
       "    <tr>\n",
       "      <th>1</th>\n",
       "      <td>001</td>\n",
       "      <td>17</td>\n",
       "      <td>0.67</td>\n",
       "      <td>1.00</td>\n",
       "      <td>1.67</td>\n",
       "      <td>0.83</td>\n",
       "      <td>52</td>\n",
       "    </tr>\n",
       "    <tr>\n",
       "      <th>2</th>\n",
       "      <td>002</td>\n",
       "      <td>4</td>\n",
       "      <td>0.33</td>\n",
       "      <td>0.33</td>\n",
       "      <td>0.67</td>\n",
       "      <td>0.00</td>\n",
       "      <td>50</td>\n",
       "    </tr>\n",
       "    <tr>\n",
       "      <th>3</th>\n",
       "      <td>003</td>\n",
       "      <td>1</td>\n",
       "      <td>0.00</td>\n",
       "      <td>0.00</td>\n",
       "      <td>0.00</td>\n",
       "      <td>0.17</td>\n",
       "      <td>32</td>\n",
       "    </tr>\n",
       "    <tr>\n",
       "      <th>4</th>\n",
       "      <td>004</td>\n",
       "      <td>5</td>\n",
       "      <td>0.33</td>\n",
       "      <td>0.33</td>\n",
       "      <td>0.67</td>\n",
       "      <td>0.00</td>\n",
       "      <td>46</td>\n",
       "    </tr>\n",
       "  </tbody>\n",
       "</table>\n",
       "</div>"
      ],
      "text/plain": [
       "  Demo_kod  BDI  BDI_cognitive  BDI_affective  BDI_affect_cog  BDI_somatic  \\\n",
       "0      000    6           0.17           0.67            0.83         0.50   \n",
       "1      001   17           0.67           1.00            1.67         0.83   \n",
       "2      002    4           0.33           0.33            0.67         0.00   \n",
       "3      003    1           0.00           0.00            0.00         0.17   \n",
       "4      004    5           0.33           0.33            0.67         0.00   \n",
       "\n",
       "   STAI  \n",
       "0    40  \n",
       "1    52  \n",
       "2    50  \n",
       "3    32  \n",
       "4    46  "
      ]
     },
     "execution_count": 3,
     "metadata": {},
     "output_type": "execute_result"
    }
   ],
   "source": [
    "data = pd.read_csv('data/sonata_data/questionnaires.csv', dtype={'Demo_kod': object})\n",
    "data.head()"
   ]
  },
  {
   "cell_type": "markdown",
   "metadata": {
    "id": "wDt-UDhFqu0g"
   },
   "source": [
    "## Load EEG data"
   ]
  },
  {
   "cell_type": "code",
   "execution_count": 4,
   "metadata": {},
   "outputs": [],
   "source": [
    "# file = 'data/sonata_data/feedback_export_MID/MID-012_Seg FEED incentive.vhdr'\n",
    "# raw = mne.io.read_raw_brainvision(file, eog=('HEOG', 'VEOG'))\n",
    "# events, event_ids = mne.events_from_annotations(raw)\n",
    "# event_ids"
   ]
  },
  {
   "cell_type": "code",
   "execution_count": 5,
   "metadata": {},
   "outputs": [],
   "source": [
    "def create_df_data(\n",
    "    dir_path,\n",
    "    info_filename=None,\n",
    "    info=\"all\",\n",
    "    personal=True,\n",
    "    task = 'FLA',\n",
    "    reject_by_annotation=True\n",
    "):\n",
    "    \"\"\"Loads data for all participants and create DataFrame with optional additional info from given .csv file.\n",
    "\n",
    "    On default, loads a train set: chooses only 80% of participants\n",
    "    and for each of them chooses 80% of epochs.\n",
    "    It will choose them deterministically.\n",
    "\n",
    "    Participants with less than 10 epochs per condition are rejected.\n",
    "\n",
    "    If test_participants is set to True, it will load remaining 20% of participants.\n",
    "    If test_epochs is set to True, it will load remaining 20% of epochs.\n",
    "    Test epochs are chronologically after train epochs,\n",
    "    because it reflects real usage (first callibration and then classification).\n",
    "\n",
    "    Parameters\n",
    "    ----------\n",
    "    test_participants: bool\n",
    "        whether load data for training or final testing.\n",
    "        If true load participants data for testing.\n",
    "    test_epochs: bool\n",
    "        whether load data for training or final testing.\n",
    "        If true load epochs of each participants data for testing.\n",
    "    info_filename: String | None\n",
    "        path to .csv file with additional data.\n",
    "    info: array\n",
    "        listed parameters from the info file to be loaded.\n",
    "        if 'all', load all parameters\n",
    "    personal: bool\n",
    "        whether a model will be both trained and tested on epochs from one person\n",
    "        if false, person's epochs aren't split into test and train\n",
    "\n",
    "\n",
    "    Returns\n",
    "    -------\n",
    "    go_nogo_data_df : pandas.DataFrame\n",
    "\n",
    "    \"\"\"\n",
    "    header_files_glob = os.path.join(os.path.abspath(\"\"), dir_path + \"*.vhdr\")\n",
    "    header_files = glob.glob(header_files_glob)\n",
    "\n",
    "    header_files = sorted(header_files)\n",
    "    go_nogo_data_df = pd.DataFrame()\n",
    "\n",
    "    for file in header_files:\n",
    "        #  load eeg data for given participant\n",
    "        participant_epochs = load_epochs_from_file(file, task=task, reject_by_annotation=reject_by_annotation)\n",
    "\n",
    "        # and compute participant's id from file_name\n",
    "        participant_id = re.match(r\".*-(\\d+)_.*\", file).group(1)\n",
    "        \n",
    "        f_bad = participant_epochs[\"f_bad\"].get_data()\n",
    "        f_good = participant_epochs[\"f_good\"].get_data()\n",
    "\n",
    "        # exclude those participants who have too few samples\n",
    "        if len(f_bad) < 5 or len(f_good) < 5:\n",
    "            # not enough data for this participant\n",
    "            continue\n",
    "\n",
    "        # construct dataframe for participant with: id|epoch_data|response_type|additional info...\n",
    "        participant_df = create_df_from_epochs(\n",
    "            participant_id, participant_epochs, info_filename, info\n",
    "        )\n",
    "        print(participant_id)\n",
    "        go_nogo_data_df = go_nogo_data_df.append(participant_df, ignore_index=True)\n",
    "\n",
    "    return go_nogo_data_df"
   ]
  },
  {
   "cell_type": "code",
   "execution_count": 6,
   "metadata": {},
   "outputs": [],
   "source": [
    "def create_df_from_epochs(id, participant_epochs, info_filename, info):\n",
    "    \"\"\"Create df for each participant. DF structure is like: {id: String ; epoch: epoch_data ; marker: 1.0|0.0}\n",
    "    1.0 means correct and 0.0 means error response.\n",
    "    Default info extracted form .csv file is 'Rumination Full Scale' and participants' ids.\n",
    "    With this info df structure is like:\n",
    "    {id: String ; epoch: epoch_data ; marker: 1.0|0.0 ; File: id ; 'Rumination Full Scale': int}\n",
    "\n",
    "    Parameters\n",
    "    ----------\n",
    "    id: String\n",
    "        participant's id extracted from filename\n",
    "    correct: array\n",
    "        correct responses' data\n",
    "    error: array\n",
    "        error responses' data\n",
    "    info_filename: String\n",
    "        path to .csv file with additional data.\n",
    "    info: array\n",
    "        listed parameters from the info file to be loaded.\n",
    "        if 'all', load all parameters\n",
    "\n",
    "    Returns\n",
    "    -------\n",
    "    participant_df : pandas.DataFrame\n",
    "\n",
    "    \"\"\"\n",
    "    participant_df = pd.DataFrame()\n",
    "    info_df = pd.DataFrame()\n",
    "\n",
    "    # get additional info from file\n",
    "    if info_filename is not None:\n",
    "        if info == \"all\":\n",
    "            rumination_df = pd.read_csv(info_filename, dtype={'Demo_kod': object})\n",
    "        else:\n",
    "            rumination_df = pd.read_csv(info_filename, usecols=[\"Demo_kod\"] + info)\n",
    "        info_df = (\n",
    "            rumination_df.loc[rumination_df[\"Demo_kod\"] == id]\n",
    "            .reset_index()\n",
    "            .drop(\"index\", axis=1)\n",
    "        )\n",
    "        \n",
    "    epoch_df = pd.DataFrame({\"id\": [id], \"epochs\": [participant_epochs]}).join(\n",
    "            info_df\n",
    "        )\n",
    "    participant_df = participant_df.append(epoch_df, ignore_index=True)\n",
    "\n",
    "    return participant_df"
   ]
  },
  {
   "cell_type": "code",
   "execution_count": 7,
   "metadata": {},
   "outputs": [],
   "source": [
    "def get_merged_events(raw, task):\n",
    "    merged_events = None\n",
    "    merged_event_dict = None\n",
    "    \n",
    "    if task == 'MID':\n",
    "        event_dict = {\n",
    "            'Stimulus/F_BAD____*ex*incentive*FB': 10001,\n",
    "            'Stimulus/F_GOOD___*ex*incentive*FG': 10002,\n",
    "        }\n",
    "\n",
    "        # Map for merged correct/error response markers\n",
    "        merged_event_dict = {\"f_good\": 0, \"f_bad\": 1}\n",
    "\n",
    "        # Reconstruct the original events from Raw object\n",
    "        events, event_ids = mne.events_from_annotations(raw, event_id=event_dict)\n",
    "\n",
    "        # Merge correct/error response events\n",
    "        merged_events = mne.merge_events(\n",
    "            events,\n",
    "            [10002],\n",
    "            merged_event_dict[\"f_good\"],\n",
    "            replace_events=True,\n",
    "        )\n",
    "\n",
    "        merged_events = mne.merge_events(\n",
    "            merged_events,\n",
    "            [10001],\n",
    "            merged_event_dict[\"f_bad\"],\n",
    "            replace_events=True,\n",
    "        )\n",
    "    elif task == 'GNG':\n",
    "        event_dict = {\n",
    "            'Stimulus/FB*ex*1_n*1_c_1*R': 10001,\n",
    "            'Stimulus/FB*ex*2_n*2_c_1*R': 10002,\n",
    "            'Stimulus/FG*ex*1_n*1_c_1*R': 10003,\n",
    "            'Stimulus/FG*ex*2_n*2_c_1*R': 10004,\n",
    "        }\n",
    "\n",
    "        # Map for merged correct/error response markers\n",
    "        merged_event_dict = {\"f_good\": 0, \"f_bad\": 1}\n",
    "\n",
    "        # Reconstruct the original events from Raw object\n",
    "        events, event_ids = mne.events_from_annotations(raw, event_id=event_dict)\n",
    "\n",
    "        # Merge correct/error response events\n",
    "        merged_events = mne.merge_events(\n",
    "            events,\n",
    "            [10003, 10004],\n",
    "            merged_event_dict[\"f_good\"],\n",
    "            replace_events=True,\n",
    "        )\n",
    "\n",
    "        merged_events = mne.merge_events(\n",
    "            merged_events,\n",
    "            [10001, 10002],\n",
    "            merged_event_dict[\"f_bad\"],\n",
    "            replace_events=True,\n",
    "        )\n",
    "        \n",
    "    elif task == 'FLA':\n",
    "        event_dict = {\n",
    "            'Stimulus/F_BAD___*ex**lll*l*FB': 10001,\n",
    "            'Stimulus/F_BAD___*ex**lrl*r*FB': 10002,\n",
    "            'Stimulus/F_BAD___*ex**rlr*l*FB': 10003,\n",
    "            'Stimulus/F_BAD___*ex**rrr*r*FB': 10004,\n",
    "            'Stimulus/F_GOOD__*ex**lll*l*FG': 10005,\n",
    "            'Stimulus/F_GOOD__*ex**lrl*r*FG': 10006,\n",
    "            'Stimulus/F_GOOD__*ex**rlr*l*FG': 10007,\n",
    "            'Stimulus/F_GOOD__*ex**rrr*r*FG': 10008,\n",
    "        }\n",
    "\n",
    "        # Map for merged correct/error response markers\n",
    "        merged_event_dict = {\"f_good\": 0, \"f_bad\": 1}\n",
    "\n",
    "        # Reconstruct the original events from Raw object\n",
    "        events, event_ids = mne.events_from_annotations(raw, event_id=event_dict)\n",
    "\n",
    "        # Merge correct/error response events\n",
    "        merged_events = mne.merge_events(\n",
    "            events,\n",
    "            [10005, 10006, 10007, 10008],\n",
    "            merged_event_dict[\"f_good\"],\n",
    "            replace_events=True,\n",
    "        )\n",
    "\n",
    "        merged_events = mne.merge_events(\n",
    "            merged_events,\n",
    "            [10001, 10002, 10003, 10004],\n",
    "            merged_event_dict[\"f_bad\"],\n",
    "            replace_events=True,\n",
    "        )\n",
    "    return merged_events, merged_event_dict      "
   ]
  },
  {
   "cell_type": "code",
   "execution_count": 8,
   "metadata": {},
   "outputs": [],
   "source": [
    "def load_epochs_from_file(file, task, reject_by_annotation=True, mask=None):\n",
    "    \"\"\"Load epochs from a header file.\n",
    "\n",
    "    Args:\n",
    "        file: path to a header file (.vhdr)\n",
    "        reject_bad_segments: 'auto' means that bad segments are rejected automatically.\n",
    "\n",
    "    Returns:\n",
    "        mne Epochs\n",
    "\n",
    "    \"\"\"\n",
    "    # Import the BrainVision data into an MNE Raw object\n",
    "    raw = mne.io.read_raw_brainvision(file, eog=('HEOG', 'VEOG'))\n",
    "\n",
    "    # Construct annotation filename\n",
    "    annot_file = file[:-4] + \"vmrk\"\n",
    "\n",
    "    # Read in the event information as MNE annotations\n",
    "    annotations = mne.read_annotations(annot_file)\n",
    "\n",
    "    # Add the annotations to our raw object so we can use them with the data\n",
    "    raw.set_annotations(annotations)\n",
    "\n",
    "    # Map with response markers only GNG\n",
    "    merged_events, merged_event_dict = get_merged_events(raw, task)\n",
    "    \n",
    "    tmin=None\n",
    "    tmax=None\n",
    "    \n",
    "    if task == 'FLA' or task == 'GNG':\n",
    "        tmin, tmax = -0.25, 0.7  # Start and end of the segments\n",
    "    elif task == 'MID':\n",
    "        tmin, tmax = -0.2, 0.8  # Start and end of the segments\n",
    "\n",
    "    # Read epochs\n",
    "    epochs = mne.Epochs(\n",
    "        raw=raw,\n",
    "        events=merged_events,\n",
    "        event_id=merged_event_dict,\n",
    "        tmin=tmin,\n",
    "        tmax=tmax,\n",
    "        baseline=None,\n",
    "        reject_by_annotation=reject_by_annotation,\n",
    "        preload=True,\n",
    "        verbose=0,\n",
    "    )\n",
    "    \n",
    "    if not reject_by_annotation:\n",
    "        ar = AutoReject(random_state=random_state, n_jobs=7, verbose=0)\n",
    "        epochs_ar, reject_log = ar.fit_transform(epochs, return_log=True)\n",
    "        epochs = epochs_ar\n",
    "\n",
    "    return epochs"
   ]
  },
  {
   "cell_type": "code",
   "execution_count": 9,
   "metadata": {},
   "outputs": [],
   "source": [
    "load_autoreject_data = True\n",
    "task = 'FLA'"
   ]
  },
  {
   "cell_type": "code",
   "execution_count": 10,
   "metadata": {},
   "outputs": [
    {
     "name": "stdout",
     "output_type": "stream",
     "text": [
      "Pickled file found. Loading pickled data...\n",
      "Done\n"
     ]
    }
   ],
   "source": [
    "# %%capture\n",
    "info_filename = 'data/sonata_data/questionnaires.csv'\n",
    "\n",
    "if load_autoreject_data:\n",
    "    df_name = f'sonata_data_{task}_autoreject'\n",
    "    dir_name = f'data/sonata_data/feedback_export_{task}/'\n",
    "    pickled_data_filename = 'data/sonata_data/' + df_name + '.pkl'\n",
    "\n",
    "    if os.path.isfile(pickled_data_filename):\n",
    "        print(\"Pickled file found. Loading pickled data...\")\n",
    "        data_df = pd.read_pickle(pickled_data_filename)\n",
    "        data_df.name = df_name\n",
    "        print(\"Done\")\n",
    "        pass\n",
    "    else:\n",
    "        print(\"Pickled file not found. Loading data...\")\n",
    "        data_df = create_df_data(\n",
    "            dir_path=dir_name, \n",
    "            info=\"all\", \n",
    "            personal=False, \n",
    "            info_filename=info_filename, \n",
    "            task=task,\n",
    "            reject_by_annotation = False\n",
    "        )\n",
    "        \n",
    "        data_df.name = df_name\n",
    "        # save loaded data into a pickle file\n",
    "        data_df.to_pickle(\"data/sonata_data/\" + data_df.name + \".pkl\")\n",
    "        print(\"Done. Pickle file created\")\n",
    "else:\n",
    "    \n",
    "    df_name = f'sonata_data_{task}'\n",
    "    dir_name = f'data/sonata_data/feedback_export_{task}/'\n",
    "    pickled_data_filename = 'data/sonata_data/' + df_name + '.pkl'\n",
    "\n",
    "    if os.path.isfile(pickled_data_filename):\n",
    "        print(\"Pickled file found. Loading pickled data...\")\n",
    "        data_df = pd.read_pickle(pickled_data_filename)\n",
    "        data_df.name = df_name\n",
    "        print(\"Done\")\n",
    "        pass\n",
    "    else:\n",
    "        print(\"Pickled file not found. Loading data...\")\n",
    "        data_df = create_df_data(\n",
    "            dir_path=dir_name, \n",
    "            info=\"all\", \n",
    "            personal=False, \n",
    "            info_filename=info_filename, \n",
    "            task=task,\n",
    "            reject_by_annotation = True\n",
    "        )\n",
    "        data_df.name = df_name\n",
    "        # save loaded data into a pickle file\n",
    "        data_df.to_pickle(\"data/sonata_data/\" + data_df.name + \".pkl\")\n",
    "        print(\"Done. Pickle file created\")"
   ]
  },
  {
   "cell_type": "code",
   "execution_count": 11,
   "metadata": {},
   "outputs": [
    {
     "data": {
      "text/html": [
       "<div>\n",
       "<style scoped>\n",
       "    .dataframe tbody tr th:only-of-type {\n",
       "        vertical-align: middle;\n",
       "    }\n",
       "\n",
       "    .dataframe tbody tr th {\n",
       "        vertical-align: top;\n",
       "    }\n",
       "\n",
       "    .dataframe thead th {\n",
       "        text-align: right;\n",
       "    }\n",
       "</style>\n",
       "<table border=\"1\" class=\"dataframe\">\n",
       "  <thead>\n",
       "    <tr style=\"text-align: right;\">\n",
       "      <th></th>\n",
       "      <th>id</th>\n",
       "      <th>epochs</th>\n",
       "      <th>Demo_kod</th>\n",
       "      <th>BDI</th>\n",
       "      <th>BDI_cognitive</th>\n",
       "      <th>BDI_affective</th>\n",
       "      <th>BDI_affect_cog</th>\n",
       "      <th>BDI_somatic</th>\n",
       "      <th>STAI</th>\n",
       "    </tr>\n",
       "  </thead>\n",
       "  <tbody>\n",
       "    <tr>\n",
       "      <th>0</th>\n",
       "      <td>000</td>\n",
       "      <td>&lt;Epochs |  252 events (all good), -0.25 - 0.69...</td>\n",
       "      <td>000</td>\n",
       "      <td>6.0</td>\n",
       "      <td>0.17</td>\n",
       "      <td>0.67</td>\n",
       "      <td>0.83</td>\n",
       "      <td>0.50</td>\n",
       "      <td>40.0</td>\n",
       "    </tr>\n",
       "    <tr>\n",
       "      <th>1</th>\n",
       "      <td>001</td>\n",
       "      <td>&lt;Epochs |  273 events (all good), -0.25 - 0.69...</td>\n",
       "      <td>001</td>\n",
       "      <td>17.0</td>\n",
       "      <td>0.67</td>\n",
       "      <td>1.00</td>\n",
       "      <td>1.67</td>\n",
       "      <td>0.83</td>\n",
       "      <td>52.0</td>\n",
       "    </tr>\n",
       "    <tr>\n",
       "      <th>2</th>\n",
       "      <td>002</td>\n",
       "      <td>&lt;Epochs |  258 events (all good), -0.25 - 0.69...</td>\n",
       "      <td>002</td>\n",
       "      <td>4.0</td>\n",
       "      <td>0.33</td>\n",
       "      <td>0.33</td>\n",
       "      <td>0.67</td>\n",
       "      <td>0.00</td>\n",
       "      <td>50.0</td>\n",
       "    </tr>\n",
       "    <tr>\n",
       "      <th>3</th>\n",
       "      <td>003</td>\n",
       "      <td>&lt;Epochs |  281 events (all good), -0.25 - 0.69...</td>\n",
       "      <td>003</td>\n",
       "      <td>1.0</td>\n",
       "      <td>0.00</td>\n",
       "      <td>0.00</td>\n",
       "      <td>0.00</td>\n",
       "      <td>0.17</td>\n",
       "      <td>32.0</td>\n",
       "    </tr>\n",
       "    <tr>\n",
       "      <th>4</th>\n",
       "      <td>004</td>\n",
       "      <td>&lt;Epochs |  242 events (all good), -0.25 - 0.69...</td>\n",
       "      <td>004</td>\n",
       "      <td>5.0</td>\n",
       "      <td>0.33</td>\n",
       "      <td>0.33</td>\n",
       "      <td>0.67</td>\n",
       "      <td>0.00</td>\n",
       "      <td>46.0</td>\n",
       "    </tr>\n",
       "    <tr>\n",
       "      <th>...</th>\n",
       "      <td>...</td>\n",
       "      <td>...</td>\n",
       "      <td>...</td>\n",
       "      <td>...</td>\n",
       "      <td>...</td>\n",
       "      <td>...</td>\n",
       "      <td>...</td>\n",
       "      <td>...</td>\n",
       "      <td>...</td>\n",
       "    </tr>\n",
       "    <tr>\n",
       "      <th>216</th>\n",
       "      <td>220</td>\n",
       "      <td>&lt;Epochs |  275 events (all good), -0.25 - 0.69...</td>\n",
       "      <td>220</td>\n",
       "      <td>7.0</td>\n",
       "      <td>0.33</td>\n",
       "      <td>0.33</td>\n",
       "      <td>0.67</td>\n",
       "      <td>0.33</td>\n",
       "      <td>38.0</td>\n",
       "    </tr>\n",
       "    <tr>\n",
       "      <th>217</th>\n",
       "      <td>221</td>\n",
       "      <td>&lt;Epochs |  259 events (all good), -0.25 - 0.69...</td>\n",
       "      <td>221</td>\n",
       "      <td>27.0</td>\n",
       "      <td>0.67</td>\n",
       "      <td>1.67</td>\n",
       "      <td>2.33</td>\n",
       "      <td>1.83</td>\n",
       "      <td>54.0</td>\n",
       "    </tr>\n",
       "    <tr>\n",
       "      <th>218</th>\n",
       "      <td>222</td>\n",
       "      <td>&lt;Epochs |  261 events (all good), -0.25 - 0.69...</td>\n",
       "      <td>222</td>\n",
       "      <td>12.0</td>\n",
       "      <td>0.17</td>\n",
       "      <td>0.00</td>\n",
       "      <td>0.17</td>\n",
       "      <td>1.50</td>\n",
       "      <td>49.0</td>\n",
       "    </tr>\n",
       "    <tr>\n",
       "      <th>219</th>\n",
       "      <td>223</td>\n",
       "      <td>&lt;Epochs |  269 events (all good), -0.25 - 0.69...</td>\n",
       "      <td>223</td>\n",
       "      <td>0.0</td>\n",
       "      <td>0.00</td>\n",
       "      <td>0.00</td>\n",
       "      <td>0.00</td>\n",
       "      <td>0.00</td>\n",
       "      <td>31.0</td>\n",
       "    </tr>\n",
       "    <tr>\n",
       "      <th>220</th>\n",
       "      <td>224</td>\n",
       "      <td>&lt;Epochs |  274 events (all good), -0.25 - 0.69...</td>\n",
       "      <td>224</td>\n",
       "      <td>14.0</td>\n",
       "      <td>0.17</td>\n",
       "      <td>0.67</td>\n",
       "      <td>0.83</td>\n",
       "      <td>1.00</td>\n",
       "      <td>40.0</td>\n",
       "    </tr>\n",
       "  </tbody>\n",
       "</table>\n",
       "<p>221 rows × 9 columns</p>\n",
       "</div>"
      ],
      "text/plain": [
       "      id                                             epochs Demo_kod   BDI  \\\n",
       "0    000  <Epochs |  252 events (all good), -0.25 - 0.69...      000   6.0   \n",
       "1    001  <Epochs |  273 events (all good), -0.25 - 0.69...      001  17.0   \n",
       "2    002  <Epochs |  258 events (all good), -0.25 - 0.69...      002   4.0   \n",
       "3    003  <Epochs |  281 events (all good), -0.25 - 0.69...      003   1.0   \n",
       "4    004  <Epochs |  242 events (all good), -0.25 - 0.69...      004   5.0   \n",
       "..   ...                                                ...      ...   ...   \n",
       "216  220  <Epochs |  275 events (all good), -0.25 - 0.69...      220   7.0   \n",
       "217  221  <Epochs |  259 events (all good), -0.25 - 0.69...      221  27.0   \n",
       "218  222  <Epochs |  261 events (all good), -0.25 - 0.69...      222  12.0   \n",
       "219  223  <Epochs |  269 events (all good), -0.25 - 0.69...      223   0.0   \n",
       "220  224  <Epochs |  274 events (all good), -0.25 - 0.69...      224  14.0   \n",
       "\n",
       "     BDI_cognitive  BDI_affective  BDI_affect_cog  BDI_somatic  STAI  \n",
       "0             0.17           0.67            0.83         0.50  40.0  \n",
       "1             0.67           1.00            1.67         0.83  52.0  \n",
       "2             0.33           0.33            0.67         0.00  50.0  \n",
       "3             0.00           0.00            0.00         0.17  32.0  \n",
       "4             0.33           0.33            0.67         0.00  46.0  \n",
       "..             ...            ...             ...          ...   ...  \n",
       "216           0.33           0.33            0.67         0.33  38.0  \n",
       "217           0.67           1.67            2.33         1.83  54.0  \n",
       "218           0.17           0.00            0.17         1.50  49.0  \n",
       "219           0.00           0.00            0.00         0.00  31.0  \n",
       "220           0.17           0.67            0.83         1.00  40.0  \n",
       "\n",
       "[221 rows x 9 columns]"
      ]
     },
     "execution_count": 11,
     "metadata": {},
     "output_type": "execute_result"
    }
   ],
   "source": [
    "data_df"
   ]
  },
  {
   "cell_type": "markdown",
   "metadata": {},
   "source": [
    "## Define groups"
   ]
  },
  {
   "cell_type": "code",
   "execution_count": 177,
   "metadata": {},
   "outputs": [],
   "source": [
    "data_df = pd.read_pickle(\"data/sonata_data/sonata_data_FLA.pkl\")"
   ]
  },
  {
   "cell_type": "code",
   "execution_count": 178,
   "metadata": {},
   "outputs": [],
   "source": [
    "# data_df = data_mid_df.copy()"
   ]
  },
  {
   "cell_type": "code",
   "execution_count": 57,
   "metadata": {
    "colab": {
     "base_uri": "https://localhost:8080/"
    },
    "executionInfo": {
     "elapsed": 9,
     "status": "ok",
     "timestamp": 1677518482887,
     "user": {
      "displayName": "Anna Grabowska",
      "userId": "15734344613010880864"
     },
     "user_tz": -60
    },
    "id": "99n0TtUK9ksT",
    "outputId": "f3ba7a7e-1df9-40f7-8cb7-531dc5568a22"
   },
   "outputs": [
    {
     "data": {
      "text/plain": [
       "73"
      ]
     },
     "execution_count": 57,
     "metadata": {},
     "output_type": "execute_result"
    }
   ],
   "source": [
    "dep = data_df[(data_df['BDI'] > 13) & (data_df['STAI'] > 41)]\n",
    "len(dep)"
   ]
  },
  {
   "cell_type": "code",
   "execution_count": 58,
   "metadata": {
    "colab": {
     "base_uri": "https://localhost:8080/"
    },
    "executionInfo": {
     "elapsed": 1634,
     "status": "ok",
     "timestamp": 1677518482441,
     "user": {
      "displayName": "Anna Grabowska",
      "userId": "15734344613010880864"
     },
     "user_tz": -60
    },
    "id": "bwQTP8md9TcN",
    "outputId": "06ef3c64-6497-4112-f932-479b0402bb64"
   },
   "outputs": [
    {
     "data": {
      "text/plain": [
       "73"
      ]
     },
     "execution_count": 58,
     "metadata": {},
     "output_type": "execute_result"
    }
   ],
   "source": [
    "ctrl_dep = data_df[(data_df['BDI'] <= 13) & (data_df['STAI'] > 41)]\n",
    "len(ctrl_dep)"
   ]
  },
  {
   "cell_type": "code",
   "execution_count": 59,
   "metadata": {
    "colab": {
     "base_uri": "https://localhost:8080/"
    },
    "executionInfo": {
     "elapsed": 10,
     "status": "ok",
     "timestamp": 1677518484019,
     "user": {
      "displayName": "Anna Grabowska",
      "userId": "15734344613010880864"
     },
     "user_tz": -60
    },
    "id": "97mJ2ng_AbGE",
    "outputId": "ede2577b-dae5-436c-ab09-f410d82f70cb"
   },
   "outputs": [
    {
     "data": {
      "text/plain": [
       "59"
      ]
     },
     "execution_count": 59,
     "metadata": {},
     "output_type": "execute_result"
    }
   ],
   "source": [
    "anx = data_df[(data_df['BDI'] <= 11) & (data_df['STAI'] > 42)]\n",
    "len(anx)"
   ]
  },
  {
   "cell_type": "code",
   "execution_count": 60,
   "metadata": {
    "colab": {
     "base_uri": "https://localhost:8080/"
    },
    "executionInfo": {
     "elapsed": 9,
     "status": "ok",
     "timestamp": 1677518484020,
     "user": {
      "displayName": "Anna Grabowska",
      "userId": "15734344613010880864"
     },
     "user_tz": -60
    },
    "id": "G7I_H8GE4A1B",
    "outputId": "71543e90-f1c3-41a1-e05d-65646b48b9eb"
   },
   "outputs": [
    {
     "data": {
      "text/plain": [
       "64"
      ]
     },
     "execution_count": 60,
     "metadata": {},
     "output_type": "execute_result"
    }
   ],
   "source": [
    "ctrl_anx = data_df[(data_df['BDI'] <= 11) & (data_df['STAI'] < 41)]\n",
    "len(ctrl_anx)"
   ]
  },
  {
   "cell_type": "markdown",
   "metadata": {},
   "source": [
    "### Visualize data"
   ]
  },
  {
   "cell_type": "markdown",
   "metadata": {},
   "source": [
    "- all Sonata"
   ]
  },
  {
   "cell_type": "code",
   "execution_count": 16,
   "metadata": {},
   "outputs": [],
   "source": [
    "data_rewp = [epoch['f_good'].average().get_data(tmin=-0.1, tmax=0.6, picks='FCz') for epoch in data_df['epochs']]\n",
    "data_frn = [epoch['f_bad'].average().get_data(tmin=-0.1, tmax=0.6, picks='FCz') for epoch in data_df['epochs']]"
   ]
  },
  {
   "cell_type": "code",
   "execution_count": 17,
   "metadata": {
    "tags": []
   },
   "outputs": [
    {
     "data": {
      "text/plain": [
       "[<matplotlib.lines.Line2D at 0x7f4f0141cc40>]"
      ]
     },
     "execution_count": 17,
     "metadata": {},
     "output_type": "execute_result"
    },
    {
     "data": {
      "image/png": "[encoded data removed]",
      "text/plain": [
       "<Figure size 432x288 with 1 Axes>"
      ]
     },
     "metadata": {
      "needs_background": "light"
     },
     "output_type": "display_data"
    }
   ],
   "source": [
    "plt.plot(np.linspace(-0.1, 0.6, 179), np.nanmean(data_rewp, axis=0)[0])\n",
    "plt.plot(np.linspace(-0.1, 0.6, 179), np.nanmean(data_frn, axis=0)[0])"
   ]
  },
  {
   "cell_type": "markdown",
   "metadata": {},
   "source": [
    "- depression"
   ]
  },
  {
   "cell_type": "code",
   "execution_count": 18,
   "metadata": {},
   "outputs": [],
   "source": [
    "dep_data_rewp = [epoch['f_good'].average().get_data(tmin=-0.1, tmax=0.6, picks='FCz') for epoch in dep['epochs']]\n",
    "dep_data_frn = [epoch['f_bad'].average().get_data(tmin=-0.1, tmax=0.6, picks='FCz') for epoch in dep['epochs']]\n",
    "ctrl_dep_data_rewp = [epoch['f_good'].average().get_data(tmin=-0.1, tmax=0.6, picks='FCz') for epoch in ctrl_dep['epochs']]\n",
    "ctrl_dep_data_frn = [epoch['f_bad'].average().get_data(tmin=-0.1, tmax=0.6, picks='FCz') for epoch in ctrl_dep['epochs']]"
   ]
  },
  {
   "cell_type": "code",
   "execution_count": 19,
   "metadata": {},
   "outputs": [
    {
     "data": {
      "text/plain": [
       "[<matplotlib.lines.Line2D at 0x7f4eedc4d730>]"
      ]
     },
     "execution_count": 19,
     "metadata": {},
     "output_type": "execute_result"
    },
    {
     "data": {
      "image/png": "[encoded data removed]",
      "text/plain": [
       "<Figure size 432x288 with 1 Axes>"
      ]
     },
     "metadata": {
      "needs_background": "light"
     },
     "output_type": "display_data"
    }
   ],
   "source": [
    "plt.plot(np.linspace(-0.1, 0.6, 179), np.nanmean(dep_data_rewp, axis=0)[0], color='r')\n",
    "# plt.plot(np.linspace(-0.1, 0.6, 179), np.nanmean(dep_data_frn, axis=0)[0])\n",
    "plt.plot(np.linspace(-0.1, 0.6, 179), np.nanmean(ctrl_dep_data_rewp, axis=0)[0], color='b')\n",
    "# plt.plot(np.linspace(-0.1, 0.6, 179), np.nanmean(ctrl_dep_data_frn, axis=0)[0])"
   ]
  },
  {
   "cell_type": "code",
   "execution_count": 20,
   "metadata": {},
   "outputs": [
    {
     "data": {
      "text/plain": [
       "[<matplotlib.lines.Line2D at 0x7f4ee5536640>]"
      ]
     },
     "execution_count": 20,
     "metadata": {},
     "output_type": "execute_result"
    },
    {
     "data": {
      "image/png": "[encoded data removed]",
      "text/plain": [
       "<Figure size 432x288 with 1 Axes>"
      ]
     },
     "metadata": {
      "needs_background": "light"
     },
     "output_type": "display_data"
    }
   ],
   "source": [
    "# plt.plot(np.linspace(-0.1, 0.6, 179), np.nanmean(dep_data_rewp, axis=0)[0])\n",
    "plt.plot(np.linspace(-0.1, 0.6, 179), np.nanmean(dep_data_frn, axis=0)[0], color='r')\n",
    "# plt.plot(np.linspace(-0.1, 0.6, 179), np.nanmean(ctrl_dep_data_rewp, axis=0)[0])\n",
    "plt.plot(np.linspace(-0.1, 0.6, 179), np.nanmean(ctrl_dep_data_frn, axis=0)[0], color='b')"
   ]
  },
  {
   "cell_type": "code",
   "execution_count": 21,
   "metadata": {},
   "outputs": [
    {
     "data": {
      "text/plain": [
       "[<matplotlib.lines.Line2D at 0x7f4ef4783ac0>]"
      ]
     },
     "execution_count": 21,
     "metadata": {},
     "output_type": "execute_result"
    },
    {
     "data": {
      "image/png": "[encoded data removed]",
      "text/plain": [
       "<Figure size 432x288 with 1 Axes>"
      ]
     },
     "metadata": {
      "needs_background": "light"
     },
     "output_type": "display_data"
    }
   ],
   "source": [
    "plt.plot(np.linspace(-0.1, 0.6, 179), (np.nanmean(dep_data_rewp, axis=0)[0] - np.nanmean(dep_data_frn, axis=0)[0]), color='r')\n",
    "plt.plot(np.linspace(-0.1, 0.6, 179), (np.nanmean(ctrl_dep_data_rewp, axis=0)[0] - np.nanmean(ctrl_dep_data_frn, axis=0)[0]), color='b')"
   ]
  },
  {
   "cell_type": "markdown",
   "metadata": {},
   "source": [
    "- anxiety"
   ]
  },
  {
   "cell_type": "code",
   "execution_count": 34,
   "metadata": {},
   "outputs": [],
   "source": [
    "anx_data_rewp = [epoch['f_good'].average().get_data(tmin=-0.1, tmax=0.6, picks='FCz') for epoch in anx['epochs']]\n",
    "anx_data_frn = [epoch['f_bad'].average().get_data(tmin=-0.1, tmax=0.6, picks='FCz') for epoch in anx['epochs']]\n",
    "ctrl_anx_data_rewp = [epoch['f_good'].average().get_data(tmin=-0.1, tmax=0.6, picks='FCz') for epoch in ctrl_anx['epochs']]\n",
    "ctrl_anx_data_frn = [epoch['f_bad'].average().get_data(tmin=-0.1, tmax=0.6, picks='FCz') for epoch in ctrl_anx['epochs']]"
   ]
  },
  {
   "cell_type": "code",
   "execution_count": 35,
   "metadata": {},
   "outputs": [
    {
     "data": {
      "text/plain": [
       "[<matplotlib.lines.Line2D at 0x7f4e8e4b36d0>]"
      ]
     },
     "execution_count": 35,
     "metadata": {},
     "output_type": "execute_result"
    },
    {
     "data": {
      "image/png": "[encoded data removed]",
      "text/plain": [
       "<Figure size 432x288 with 1 Axes>"
      ]
     },
     "metadata": {
      "needs_background": "light"
     },
     "output_type": "display_data"
    }
   ],
   "source": [
    "plt.plot(np.linspace(-0.1, 0.6, 179), np.nanmean(anx_data_rewp, axis=0).reshape(-1), color = 'r')\n",
    "# plt.plot(np.linspace(-0.1, 0.6, 179), np.mean(anx_data_frn, axis=0)[0])\n",
    "plt.plot(np.linspace(-0.1, 0.6, 179), np.nanmean(ctrl_anx_data_rewp, axis=0).reshape(-1), color = 'b')\n",
    "# plt.plot(np.linspace(-0.1, 0.6, 179), np.mean(ctrl_anx_data_frn, axis=0)[0])"
   ]
  },
  {
   "cell_type": "code",
   "execution_count": 36,
   "metadata": {},
   "outputs": [
    {
     "data": {
      "text/plain": [
       "[<matplotlib.lines.Line2D at 0x7f4e81484130>]"
      ]
     },
     "execution_count": 36,
     "metadata": {},
     "output_type": "execute_result"
    },
    {
     "data": {
      "image/png": "[encoded data removed]",
      "text/plain": [
       "<Figure size 432x288 with 1 Axes>"
      ]
     },
     "metadata": {
      "needs_background": "light"
     },
     "output_type": "display_data"
    }
   ],
   "source": [
    "# plt.plot(np.linspace(-0.1, 0.6, 179), np.mean(anx_data_rewp, axis=0)[0])\n",
    "plt.plot(np.linspace(-0.1, 0.6, 179), np.nanmean(anx_data_frn, axis=0)[0], color='r')\n",
    "# plt.plot(np.linspace(-0.1, 0.6, 179), np.mean(ctrl_anx_data_rewp, axis=0)[0])\n",
    "plt.plot(np.linspace(-0.1, 0.6, 179), np.nanmean(ctrl_anx_data_frn, axis=0)[0], color='b')"
   ]
  },
  {
   "cell_type": "code",
   "execution_count": 37,
   "metadata": {},
   "outputs": [
    {
     "data": {
      "text/plain": [
       "[<matplotlib.lines.Line2D at 0x7f4e787832b0>]"
      ]
     },
     "execution_count": 37,
     "metadata": {},
     "output_type": "execute_result"
    },
    {
     "data": {
      "image/png": "[encoded data removed]",
      "text/plain": [
       "<Figure size 432x288 with 1 Axes>"
      ]
     },
     "metadata": {
      "needs_background": "light"
     },
     "output_type": "display_data"
    }
   ],
   "source": [
    "plt.plot(np.linspace(-0.1, 0.6, 179), (np.nanmean(anx_data_rewp, axis=0)[0] - np.nanmean(anx_data_frn, axis=0)[0]), color='r')\n",
    "plt.plot(np.linspace(-0.1, 0.6, 179), (np.nanmean(ctrl_anx_data_rewp, axis=0)[0] - np.nanmean(ctrl_anx_data_frn, axis=0)[0]), color='b')"
   ]
  },
  {
   "cell_type": "markdown",
   "metadata": {},
   "source": [
    "## Classification"
   ]
  },
  {
   "cell_type": "code",
   "execution_count": 38,
   "metadata": {},
   "outputs": [],
   "source": [
    "# Calculating p-value with permutation test from sci-kit learn\n",
    "\n",
    "def calculate_p_permutations(estimator, X, y, cv=3, n_permutations=1000, n_jobs=1):\n",
    "\n",
    "    score_, perm_scores_, pvalue_ = permutation_test_score(\n",
    "        estimator, X, y, cv=cv, n_permutations=n_permutations, n_jobs=n_jobs\n",
    "    )\n",
    "\n",
    "    # summarize\n",
    "    print(f\"     The permutation P-value is = {pvalue_:.4f}\")\n",
    "    print(f\"     The permutation score is = {score_:.4f}\\n\")\n",
    "\n",
    "    return score_, pvalue_"
   ]
  },
  {
   "cell_type": "code",
   "execution_count": 39,
   "metadata": {
    "id": "5ES-E98N1UR5"
   },
   "outputs": [],
   "source": [
    "def evaluate_GS_model(\n",
    "    pipe,\n",
    "    X_train, \n",
    "    y_train, \n",
    "    X_test, \n",
    "    y_test, \n",
    "    classifier_params,\n",
    "    pipeline_name,\n",
    "    cv=StratifiedKFold(n_splits=5),\n",
    "    predict_test = True,\n",
    "    predict_train = True,\n",
    "    ):\n",
    "    \n",
    "    # define grid search\n",
    "    grid_search_model = GridSearchCV(\n",
    "        pipe,\n",
    "        classifier_params,\n",
    "        cv=cv,\n",
    "        scoring={\"roc_auc\", \"balanced_accuracy\", \"precision\", \"recall\"},\n",
    "        refit=\"balanced_accuracy\",\n",
    "        return_train_score=True,\n",
    "        verbose=10,\n",
    "        n_jobs=1,\n",
    "        \n",
    "    )\n",
    "\n",
    "    # fit model\n",
    "    grid_search_model.fit(X_train, y_train)\n",
    "\n",
    "    # predict test data\n",
    "    # y_test_pred = grid_search_model.predict(X_test) if predict_test is True else None\n",
    "    # test_score = roc_auc_score(y_test, y_test_pred) if predict_test is True else None\n",
    "\n",
    "    # predict train data\n",
    "    y_train_pred = grid_search_model.predict(X_train) if predict_train is True else None\n",
    "    train_score = roc_auc_score(y_train, y_train_pred) if predict_train is True else None \n",
    "\n",
    "    # extract mean cv scores\n",
    "    mean_cv_score = grid_search_model.best_score_\n",
    "    \n",
    "    # report\n",
    "    # classification_report_ = classification_report(y_test, y_test_pred, labels=[0,1])\n",
    "\n",
    "    # extract splits scores\n",
    "    # ta linijka wyciąga z cv_results, czyli z DF z wynikami wszystkich testowanych \n",
    "    # w GS parametrów scory na kolejnych splitach cross-validacji\n",
    "    cv_results_df = pd.DataFrame(grid_search_model.cv_results_).iloc[[grid_search_model.best_index_]]\n",
    "    cv_splits_scores_df = cv_results_df.filter(regex=r\"split\\d*_test_roc_auc\").reset_index(drop=True) \n",
    "\n",
    "    # wyciąganie scorów na teście dla matryk zdefiniowanych w scoring\n",
    "    metrics_results_df = cv_results_df.filter(regex=r\"mean_test_*\").reset_index(drop=True)\n",
    "    \n",
    "    # calculate p-value\n",
    "    scores_, pvalue_ = calculate_p_permutations(\n",
    "            grid_search_model.best_estimator_, X_train, y_train, cv=cv\n",
    "        )\n",
    "\n",
    "\n",
    "    # save results in dataframe\n",
    "    this_result = pd.concat(\n",
    "        [\n",
    "            pd.DataFrame({\n",
    "            \"model_name\": [pipe.steps[-1][0]],\n",
    "            \"pipeline_name\": [pipeline_name],\n",
    "            \"train score\": [train_score],\n",
    "            \"mean_cv_score\": [mean_cv_score],\n",
    "            # \"test_score\": [test_score],\n",
    "            \"best_model\": [grid_search_model.best_estimator_],\n",
    "            \"parameters\": [grid_search_model.best_params_],\n",
    "            \"pvalue\":[pvalue_],    \n",
    "            }),\n",
    "         cv_splits_scores_df,\n",
    "         metrics_results_df,\n",
    "        ],\n",
    "    axis=1\n",
    "    ) \n",
    "\n",
    "    return this_result"
   ]
  },
  {
   "cell_type": "markdown",
   "metadata": {
    "id": "RcHAwa6LOvqm"
   },
   "source": [
    "Define estimators"
   ]
  },
  {
   "cell_type": "code",
   "execution_count": 61,
   "metadata": {
    "id": "DtsaDVEdPHXs"
   },
   "outputs": [],
   "source": [
    "lg = ('lg', LogisticRegression(penalty='l1', solver='liblinear', multi_class='auto'))\n",
    "lg_params = dict()\n",
    "\n",
    "svc = ('svc' , SVC())\n",
    "svc_params = dict(\n",
    "    svc__kernel=[\"linear\", \"rbf\"],\n",
    "    svc__C=[0.0001, 0.001, 0.01, 0.1, 1, 10, 100, 1000]\n",
    ")\n",
    "\n",
    "lda = (\"lda\", LinearDiscriminantAnalysis())\n",
    "lda_params = dict(\n",
    "    lda__solver = [\"lsqr\", \"eigen\"],\n",
    "    lda__shrinkage = [\"auto\"],\n",
    ")\n",
    "\n",
    "\n",
    "estimators = [\n",
    "    # (lg, lg_params),\n",
    "    (svc, svc_params),\n",
    "    # (lda, lda_params)\n",
    "]"
   ]
  },
  {
   "cell_type": "markdown",
   "metadata": {},
   "source": [
    "Define CSP"
   ]
  },
  {
   "cell_type": "code",
   "execution_count": 62,
   "metadata": {},
   "outputs": [],
   "source": [
    "csp = ('csp', CSP(log=None, norm_trace=False))\n",
    "csp_params = dict(\n",
    "    csp__n_components = [1,2,3,4],\n",
    "    csp__reg = [0.001, 0.01, 0.1, 1]\n",
    ")"
   ]
  },
  {
   "cell_type": "markdown",
   "metadata": {
    "id": "g-Hb8Rb_Ei8j"
   },
   "source": [
    "### Depression vs Control"
   ]
  },
  {
   "cell_type": "markdown",
   "metadata": {
    "id": "O7C3WZvf1irT"
   },
   "source": [
    "#### RewP"
   ]
  },
  {
   "cell_type": "code",
   "execution_count": 63,
   "metadata": {},
   "outputs": [],
   "source": [
    "tmin = 0.20\n",
    "tmax = 0.30"
   ]
  },
  {
   "cell_type": "code",
   "execution_count": 64,
   "metadata": {},
   "outputs": [],
   "source": [
    "rewp_depression_datasets = []\n",
    "\n",
    "dep_data = [epoch['f_good'].average().get_data(tmin=tmin, tmax=tmax,) for epoch in dep['epochs'].to_numpy()]\n",
    "ctrl_data = [epoch['f_good'].average().get_data(tmin=tmin, tmax=tmax,) for epoch in ctrl_dep['epochs'].to_numpy()]\n",
    "\n",
    "X = np.array(dep_data + ctrl_data)\n",
    "rewp_depression_datasets.append(X)"
   ]
  },
  {
   "cell_type": "code",
   "execution_count": 65,
   "metadata": {},
   "outputs": [],
   "source": [
    "%%capture\n",
    "\n",
    "vec = Vectorizer()\n",
    "cv = StratifiedKFold(n_splits=3, shuffle=True, random_state=random_state)\n",
    "\n",
    "results_dep_rewp_df = pd.DataFrame()\n",
    "\n",
    "global_params = csp_params\n",
    "\n",
    "for index, dataset in enumerate(rewp_depression_datasets):\n",
    "\n",
    "    X = dataset\n",
    "    y = np.array(len(dep) * [1] +  len(ctrl_dep) * [0])\n",
    "    \n",
    "    for (estimator, params) in estimators:\n",
    "        print(f\"Rating {estimator} \\n\")\n",
    "\n",
    "        pipeline_name = \"RewP_Depression_band_\" + str(index) + \"_\" + estimator[0]\n",
    "\n",
    "        clf = Pipeline([csp] + [('vec', vec)] + [estimator])\n",
    "        classifier_params = {**global_params, **params}\n",
    "\n",
    "        # enter to grid search\n",
    "        grid_result = evaluate_GS_model(\n",
    "            clf,\n",
    "            X,\n",
    "            y,\n",
    "            [],\n",
    "            [],\n",
    "            classifier_params = classifier_params,\n",
    "            pipeline_name = pipeline_name,\n",
    "            cv=cv,\n",
    "        )\n",
    "\n",
    "        print(grid_result)\n",
    "\n",
    "        results_dep_rewp_df = pd.concat([results_dep_rewp_df, grid_result])"
   ]
  },
  {
   "cell_type": "code",
   "execution_count": 66,
   "metadata": {},
   "outputs": [
    {
     "data": {
      "text/html": [
       "<div>\n",
       "<style scoped>\n",
       "    .dataframe tbody tr th:only-of-type {\n",
       "        vertical-align: middle;\n",
       "    }\n",
       "\n",
       "    .dataframe tbody tr th {\n",
       "        vertical-align: top;\n",
       "    }\n",
       "\n",
       "    .dataframe thead th {\n",
       "        text-align: right;\n",
       "    }\n",
       "</style>\n",
       "<table border=\"1\" class=\"dataframe\">\n",
       "  <thead>\n",
       "    <tr style=\"text-align: right;\">\n",
       "      <th></th>\n",
       "      <th>model_name</th>\n",
       "      <th>pipeline_name</th>\n",
       "      <th>train score</th>\n",
       "      <th>mean_cv_score</th>\n",
       "      <th>best_model</th>\n",
       "      <th>parameters</th>\n",
       "      <th>pvalue</th>\n",
       "      <th>split0_test_roc_auc</th>\n",
       "      <th>split1_test_roc_auc</th>\n",
       "      <th>split2_test_roc_auc</th>\n",
       "      <th>mean_test_precision</th>\n",
       "      <th>mean_test_roc_auc</th>\n",
       "      <th>mean_test_balanced_accuracy</th>\n",
       "      <th>mean_test_recall</th>\n",
       "    </tr>\n",
       "  </thead>\n",
       "  <tbody>\n",
       "    <tr>\n",
       "      <th>0</th>\n",
       "      <td>svc</td>\n",
       "      <td>RewP_Depression_band_0_svc</td>\n",
       "      <td>0.760274</td>\n",
       "      <td>0.604722</td>\n",
       "      <td>(CSP({'component_order': 'mutual_info',\\n 'cov...</td>\n",
       "      <td>{'csp__n_components': 3, 'csp__reg': 0.01, 'sv...</td>\n",
       "      <td>0.012987</td>\n",
       "      <td>0.563333</td>\n",
       "      <td>0.58</td>\n",
       "      <td>0.678819</td>\n",
       "      <td>0.588966</td>\n",
       "      <td>0.607384</td>\n",
       "      <td>0.604722</td>\n",
       "      <td>0.687222</td>\n",
       "    </tr>\n",
       "  </tbody>\n",
       "</table>\n",
       "</div>"
      ],
      "text/plain": [
       "  model_name               pipeline_name  train score  mean_cv_score  \\\n",
       "0        svc  RewP_Depression_band_0_svc     0.760274       0.604722   \n",
       "\n",
       "                                          best_model  \\\n",
       "0  (CSP({'component_order': 'mutual_info',\\n 'cov...   \n",
       "\n",
       "                                          parameters    pvalue  \\\n",
       "0  {'csp__n_components': 3, 'csp__reg': 0.01, 'sv...  0.012987   \n",
       "\n",
       "   split0_test_roc_auc  split1_test_roc_auc  split2_test_roc_auc  \\\n",
       "0             0.563333                 0.58             0.678819   \n",
       "\n",
       "   mean_test_precision  mean_test_roc_auc  mean_test_balanced_accuracy  \\\n",
       "0             0.588966           0.607384                     0.604722   \n",
       "\n",
       "   mean_test_recall  \n",
       "0          0.687222  "
      ]
     },
     "execution_count": 66,
     "metadata": {},
     "output_type": "execute_result"
    }
   ],
   "source": [
    "results_dep_rewp_df # 20 - 30"
   ]
  },
  {
   "cell_type": "code",
   "execution_count": 35,
   "metadata": {},
   "outputs": [],
   "source": [
    "results_dep_rewp_df.to_pickle(f\"data/sonata_data/results/{task}/depression_rewp_csp_results_t20-t30_19_04.pkl\")"
   ]
  },
  {
   "cell_type": "markdown",
   "metadata": {
    "id": "LdOE13g71oii"
   },
   "source": [
    "#### FRN"
   ]
  },
  {
   "cell_type": "code",
   "execution_count": 67,
   "metadata": {
    "id": "vcTUfJ4x1oij"
   },
   "outputs": [],
   "source": [
    "tmin = 0.20\n",
    "tmax = 0.30"
   ]
  },
  {
   "cell_type": "code",
   "execution_count": 68,
   "metadata": {},
   "outputs": [],
   "source": [
    "frn_depression_datasets = []\n",
    "\n",
    "dep_data = [epoch['f_bad'].average().get_data(tmin=tmin, tmax=tmax,) for epoch in dep['epochs'].to_numpy()]\n",
    "ctrl_data = [epoch['f_bad'].average().get_data(tmin=tmin, tmax=tmax,) for epoch in ctrl_dep['epochs'].to_numpy()]\n",
    "\n",
    "X = np.array(dep_data + ctrl_data)\n",
    "frn_depression_datasets.append(X)"
   ]
  },
  {
   "cell_type": "code",
   "execution_count": 69,
   "metadata": {},
   "outputs": [],
   "source": [
    "%%capture\n",
    "\n",
    "vec = Vectorizer()\n",
    "cv = StratifiedKFold(n_splits=3, shuffle=True, random_state=random_state)\n",
    "\n",
    "results_dep_frn_df = pd.DataFrame()\n",
    "\n",
    "global_params = csp_params\n",
    "\n",
    "for index, dataset in enumerate(frn_depression_datasets):\n",
    "\n",
    "    X = dataset\n",
    "    y = np.array(len(dep) * [1] +  len(ctrl_dep) * [0])\n",
    "    \n",
    "    for (estimator, params) in estimators:\n",
    "        print(f\"Rating {estimator} \\n\")\n",
    "\n",
    "        pipeline_name = \"FRN_Depression_band_\" + str(index) + \"_\" + estimator[0]\n",
    "\n",
    "        clf = Pipeline([csp] + [('vec', vec)] + [estimator])\n",
    "        classifier_params = {**global_params, **params}\n",
    "\n",
    "        # enter to grid search\n",
    "        grid_result = evaluate_GS_model(\n",
    "            clf,\n",
    "            X,\n",
    "            y,\n",
    "            [],\n",
    "            [],\n",
    "            classifier_params = classifier_params,\n",
    "            pipeline_name = pipeline_name,\n",
    "            cv=cv,\n",
    "        )\n",
    "\n",
    "        print(grid_result)\n",
    "\n",
    "        results_dep_frn_df = pd.concat([results_dep_frn_df, grid_result])"
   ]
  },
  {
   "cell_type": "code",
   "execution_count": 70,
   "metadata": {},
   "outputs": [
    {
     "data": {
      "text/html": [
       "<div>\n",
       "<style scoped>\n",
       "    .dataframe tbody tr th:only-of-type {\n",
       "        vertical-align: middle;\n",
       "    }\n",
       "\n",
       "    .dataframe tbody tr th {\n",
       "        vertical-align: top;\n",
       "    }\n",
       "\n",
       "    .dataframe thead th {\n",
       "        text-align: right;\n",
       "    }\n",
       "</style>\n",
       "<table border=\"1\" class=\"dataframe\">\n",
       "  <thead>\n",
       "    <tr style=\"text-align: right;\">\n",
       "      <th></th>\n",
       "      <th>model_name</th>\n",
       "      <th>pipeline_name</th>\n",
       "      <th>train score</th>\n",
       "      <th>mean_cv_score</th>\n",
       "      <th>best_model</th>\n",
       "      <th>parameters</th>\n",
       "      <th>pvalue</th>\n",
       "      <th>split0_test_roc_auc</th>\n",
       "      <th>split1_test_roc_auc</th>\n",
       "      <th>split2_test_roc_auc</th>\n",
       "      <th>mean_test_precision</th>\n",
       "      <th>mean_test_roc_auc</th>\n",
       "      <th>mean_test_balanced_accuracy</th>\n",
       "      <th>mean_test_recall</th>\n",
       "    </tr>\n",
       "  </thead>\n",
       "  <tbody>\n",
       "    <tr>\n",
       "      <th>0</th>\n",
       "      <td>svc</td>\n",
       "      <td>FRN_Depression_band_0_svc</td>\n",
       "      <td>0.794521</td>\n",
       "      <td>0.603611</td>\n",
       "      <td>(CSP({'component_order': 'mutual_info',\\n 'cov...</td>\n",
       "      <td>{'csp__n_components': 4, 'csp__reg': 0.1, 'svc...</td>\n",
       "      <td>0.008991</td>\n",
       "      <td>0.603333</td>\n",
       "      <td>0.473333</td>\n",
       "      <td>0.659722</td>\n",
       "      <td>0.608116</td>\n",
       "      <td>0.578796</td>\n",
       "      <td>0.603611</td>\n",
       "      <td>0.589444</td>\n",
       "    </tr>\n",
       "  </tbody>\n",
       "</table>\n",
       "</div>"
      ],
      "text/plain": [
       "  model_name              pipeline_name  train score  mean_cv_score  \\\n",
       "0        svc  FRN_Depression_band_0_svc     0.794521       0.603611   \n",
       "\n",
       "                                          best_model  \\\n",
       "0  (CSP({'component_order': 'mutual_info',\\n 'cov...   \n",
       "\n",
       "                                          parameters    pvalue  \\\n",
       "0  {'csp__n_components': 4, 'csp__reg': 0.1, 'svc...  0.008991   \n",
       "\n",
       "   split0_test_roc_auc  split1_test_roc_auc  split2_test_roc_auc  \\\n",
       "0             0.603333             0.473333             0.659722   \n",
       "\n",
       "   mean_test_precision  mean_test_roc_auc  mean_test_balanced_accuracy  \\\n",
       "0             0.608116           0.578796                     0.603611   \n",
       "\n",
       "   mean_test_recall  \n",
       "0          0.589444  "
      ]
     },
     "execution_count": 70,
     "metadata": {},
     "output_type": "execute_result"
    }
   ],
   "source": [
    "results_dep_frn_df # 20 - 30"
   ]
  },
  {
   "cell_type": "code",
   "execution_count": 40,
   "metadata": {},
   "outputs": [],
   "source": [
    "results_dep_frn_df.to_pickle(f\"data/sonata_data/results/{task}/depression_frn_results_csp_t20-t30_19_04.pkl\")"
   ]
  },
  {
   "cell_type": "markdown",
   "metadata": {
    "id": "R5fwZt2kEwXU"
   },
   "source": [
    "### Anxiety vs Control"
   ]
  },
  {
   "cell_type": "markdown",
   "metadata": {
    "id": "6OCw34QnEwXV"
   },
   "source": [
    "#### RewP"
   ]
  },
  {
   "cell_type": "code",
   "execution_count": 41,
   "metadata": {},
   "outputs": [],
   "source": [
    "tmin = 0.20\n",
    "tmax = 0.30"
   ]
  },
  {
   "cell_type": "code",
   "execution_count": 42,
   "metadata": {},
   "outputs": [],
   "source": [
    "rewp_anxiety_datasets = []\n",
    "\n",
    "anx_data = [epoch['f_good'].average().get_data(tmin=tmin, tmax=tmax,) for epoch in anx['epochs'].to_numpy()]\n",
    "ctrl_data = [epoch['f_good'].average().get_data(tmin=tmin, tmax=tmax,) for epoch in ctrl_anx['epochs'].to_numpy()]\n",
    "\n",
    "X = np.array(anx_data + ctrl_data)\n",
    "rewp_anxiety_datasets.append(X)"
   ]
  },
  {
   "cell_type": "code",
   "execution_count": 41,
   "metadata": {},
   "outputs": [],
   "source": [
    "np.save('data/rewp_anxiety_datasets.npy', rewp_anxiety_datasets)    # .npy extension is added if not given"
   ]
  },
  {
   "cell_type": "code",
   "execution_count": 43,
   "metadata": {},
   "outputs": [],
   "source": [
    "%%capture\n",
    "\n",
    "vec = Vectorizer()\n",
    "cv = StratifiedKFold(n_splits=3, shuffle=True, random_state=random_state)\n",
    "\n",
    "results_anx_rewp_df = pd.DataFrame()\n",
    "\n",
    "global_params = csp_params\n",
    "\n",
    "for index, dataset in enumerate(rewp_anxiety_datasets):\n",
    "\n",
    "    X = dataset\n",
    "    y = np.array(len(anx) * [1] +  len(ctrl_anx) * [0])\n",
    "    \n",
    "    for (estimator, params) in estimators:\n",
    "        print(f\"Rating {estimator} \\n\")\n",
    "\n",
    "        pipeline_name = \"RewP_Anxiety_band_\" + str(index) + \"_\" + estimator[0]\n",
    "\n",
    "        clf = Pipeline([csp] + [('vec', vec)] + [estimator])\n",
    "        classifier_params = {**global_params, **params}\n",
    "\n",
    "        # enter to grid search\n",
    "        grid_result = evaluate_GS_model(\n",
    "            clf,\n",
    "            X,\n",
    "            y,\n",
    "            [],\n",
    "            [],\n",
    "            classifier_params = classifier_params,\n",
    "            pipeline_name = pipeline_name,\n",
    "            cv=cv,\n",
    "        )\n",
    "\n",
    "        print(grid_result)\n",
    "\n",
    "        results_anx_rewp_df = pd.concat([results_anx_rewp_df, grid_result])"
   ]
  },
  {
   "cell_type": "code",
   "execution_count": 44,
   "metadata": {},
   "outputs": [
    {
     "data": {
      "text/html": [
       "<div>\n",
       "<style scoped>\n",
       "    .dataframe tbody tr th:only-of-type {\n",
       "        vertical-align: middle;\n",
       "    }\n",
       "\n",
       "    .dataframe tbody tr th {\n",
       "        vertical-align: top;\n",
       "    }\n",
       "\n",
       "    .dataframe thead th {\n",
       "        text-align: right;\n",
       "    }\n",
       "</style>\n",
       "<table border=\"1\" class=\"dataframe\">\n",
       "  <thead>\n",
       "    <tr style=\"text-align: right;\">\n",
       "      <th></th>\n",
       "      <th>model_name</th>\n",
       "      <th>pipeline_name</th>\n",
       "      <th>train score</th>\n",
       "      <th>mean_cv_score</th>\n",
       "      <th>best_model</th>\n",
       "      <th>parameters</th>\n",
       "      <th>pvalue</th>\n",
       "      <th>split0_test_roc_auc</th>\n",
       "      <th>split1_test_roc_auc</th>\n",
       "      <th>split2_test_roc_auc</th>\n",
       "      <th>mean_test_recall</th>\n",
       "      <th>mean_test_balanced_accuracy</th>\n",
       "      <th>mean_test_roc_auc</th>\n",
       "      <th>mean_test_precision</th>\n",
       "    </tr>\n",
       "  </thead>\n",
       "  <tbody>\n",
       "    <tr>\n",
       "      <th>0</th>\n",
       "      <td>svc</td>\n",
       "      <td>RewP_Anxiety_band_0_svc</td>\n",
       "      <td>0.648972</td>\n",
       "      <td>0.621032</td>\n",
       "      <td>(CSP({'component_order': 'mutual_info',\\n 'cov...</td>\n",
       "      <td>{'csp__n_components': 1, 'csp__reg': 0.1, 'svc...</td>\n",
       "      <td>0.004995</td>\n",
       "      <td>0.473923</td>\n",
       "      <td>0.680952</td>\n",
       "      <td>0.67381</td>\n",
       "      <td>0.746032</td>\n",
       "      <td>0.621032</td>\n",
       "      <td>0.609562</td>\n",
       "      <td>0.615359</td>\n",
       "    </tr>\n",
       "  </tbody>\n",
       "</table>\n",
       "</div>"
      ],
      "text/plain": [
       "  model_name            pipeline_name  train score  mean_cv_score  \\\n",
       "0        svc  RewP_Anxiety_band_0_svc     0.648972       0.621032   \n",
       "\n",
       "                                          best_model  \\\n",
       "0  (CSP({'component_order': 'mutual_info',\\n 'cov...   \n",
       "\n",
       "                                          parameters    pvalue  \\\n",
       "0  {'csp__n_components': 1, 'csp__reg': 0.1, 'svc...  0.004995   \n",
       "\n",
       "   split0_test_roc_auc  split1_test_roc_auc  split2_test_roc_auc  \\\n",
       "0             0.473923             0.680952              0.67381   \n",
       "\n",
       "   mean_test_recall  mean_test_balanced_accuracy  mean_test_roc_auc  \\\n",
       "0          0.746032                     0.621032           0.609562   \n",
       "\n",
       "   mean_test_precision  \n",
       "0             0.615359  "
      ]
     },
     "execution_count": 44,
     "metadata": {},
     "output_type": "execute_result"
    }
   ],
   "source": [
    "results_anx_rewp_df # 20 - 30"
   ]
  },
  {
   "cell_type": "code",
   "execution_count": 45,
   "metadata": {},
   "outputs": [],
   "source": [
    "results_anx_rewp_df.to_pickle(f\"data/sonata_data/results/{task}/anxiety_rewp_csp_results_t20-t30_19_04.pkl\")"
   ]
  },
  {
   "cell_type": "markdown",
   "metadata": {
    "id": "UYZ2N89QEwXW"
   },
   "source": [
    "#### FRN"
   ]
  },
  {
   "cell_type": "code",
   "execution_count": 46,
   "metadata": {
    "id": "oc3KbAaiorwd"
   },
   "outputs": [],
   "source": [
    "tmin = 0.20\n",
    "tmax = 0.30"
   ]
  },
  {
   "cell_type": "code",
   "execution_count": 47,
   "metadata": {},
   "outputs": [],
   "source": [
    "frn_anxiety_datasets = []\n",
    "\n",
    "anx_data = [epoch['f_bad'].average().get_data(tmin=tmin, tmax=tmax,) for epoch in anx['epochs'].to_numpy()]\n",
    "ctrl_data = [epoch['f_bad'].average().get_data(tmin=tmin, tmax=tmax,) for epoch in ctrl_anx['epochs'].to_numpy()]\n",
    "\n",
    "X = np.array(anx_data + ctrl_data)\n",
    "frn_anxiety_datasets.append(X)"
   ]
  },
  {
   "cell_type": "code",
   "execution_count": 44,
   "metadata": {},
   "outputs": [],
   "source": [
    "np.save('data/frn_anxiety_datasets.npy', frn_anxiety_datasets)    # .npy extension is added if not given"
   ]
  },
  {
   "cell_type": "code",
   "execution_count": 48,
   "metadata": {},
   "outputs": [],
   "source": [
    "%%capture\n",
    "\n",
    "vec = Vectorizer()\n",
    "cv = StratifiedKFold(n_splits=3, shuffle=True, random_state=random_state)\n",
    "\n",
    "results_anx_frn_df = pd.DataFrame()\n",
    "\n",
    "global_params = csp_params\n",
    "\n",
    "for index, dataset in enumerate(frn_anxiety_datasets):\n",
    "\n",
    "    X = dataset\n",
    "    y = np.array(len(anx) * [1] +  len(ctrl_anx) * [0])\n",
    "    \n",
    "    for (estimator, params) in estimators:\n",
    "        print(f\"Rating {estimator} \\n\")\n",
    "\n",
    "        pipeline_name = \"FRN_Anxiety_band_\" + str(index) + \"_\" + estimator[0]\n",
    "\n",
    "        clf = Pipeline([csp] + [('vec', vec)] + [estimator])\n",
    "        classifier_params = {**global_params, **params}\n",
    "\n",
    "        # enter to grid search\n",
    "        grid_result = evaluate_GS_model(\n",
    "            clf,\n",
    "            X,\n",
    "            y,\n",
    "            [],\n",
    "            [],\n",
    "            classifier_params = classifier_params,\n",
    "            pipeline_name = pipeline_name,\n",
    "            cv=cv,\n",
    "        )\n",
    "\n",
    "        print(grid_result)\n",
    "\n",
    "        results_anx_frn_df = pd.concat([results_anx_frn_df, grid_result])"
   ]
  },
  {
   "cell_type": "code",
   "execution_count": 49,
   "metadata": {},
   "outputs": [
    {
     "data": {
      "text/html": [
       "<div>\n",
       "<style scoped>\n",
       "    .dataframe tbody tr th:only-of-type {\n",
       "        vertical-align: middle;\n",
       "    }\n",
       "\n",
       "    .dataframe tbody tr th {\n",
       "        vertical-align: top;\n",
       "    }\n",
       "\n",
       "    .dataframe thead th {\n",
       "        text-align: right;\n",
       "    }\n",
       "</style>\n",
       "<table border=\"1\" class=\"dataframe\">\n",
       "  <thead>\n",
       "    <tr style=\"text-align: right;\">\n",
       "      <th></th>\n",
       "      <th>model_name</th>\n",
       "      <th>pipeline_name</th>\n",
       "      <th>train score</th>\n",
       "      <th>mean_cv_score</th>\n",
       "      <th>best_model</th>\n",
       "      <th>parameters</th>\n",
       "      <th>pvalue</th>\n",
       "      <th>split0_test_roc_auc</th>\n",
       "      <th>split1_test_roc_auc</th>\n",
       "      <th>split2_test_roc_auc</th>\n",
       "      <th>mean_test_recall</th>\n",
       "      <th>mean_test_balanced_accuracy</th>\n",
       "      <th>mean_test_roc_auc</th>\n",
       "      <th>mean_test_precision</th>\n",
       "    </tr>\n",
       "  </thead>\n",
       "  <tbody>\n",
       "    <tr>\n",
       "      <th>0</th>\n",
       "      <td>svc</td>\n",
       "      <td>FRN_Anxiety_band_0_svc</td>\n",
       "      <td>0.92649</td>\n",
       "      <td>0.573016</td>\n",
       "      <td>(CSP({'component_order': 'mutual_info',\\n 'cov...</td>\n",
       "      <td>{'csp__n_components': 3, 'csp__reg': 0.1, 'svc...</td>\n",
       "      <td>0.081918</td>\n",
       "      <td>0.45805</td>\n",
       "      <td>0.566667</td>\n",
       "      <td>0.62381</td>\n",
       "      <td>0.571429</td>\n",
       "      <td>0.573016</td>\n",
       "      <td>0.549509</td>\n",
       "      <td>0.579479</td>\n",
       "    </tr>\n",
       "  </tbody>\n",
       "</table>\n",
       "</div>"
      ],
      "text/plain": [
       "  model_name           pipeline_name  train score  mean_cv_score  \\\n",
       "0        svc  FRN_Anxiety_band_0_svc      0.92649       0.573016   \n",
       "\n",
       "                                          best_model  \\\n",
       "0  (CSP({'component_order': 'mutual_info',\\n 'cov...   \n",
       "\n",
       "                                          parameters    pvalue  \\\n",
       "0  {'csp__n_components': 3, 'csp__reg': 0.1, 'svc...  0.081918   \n",
       "\n",
       "   split0_test_roc_auc  split1_test_roc_auc  split2_test_roc_auc  \\\n",
       "0              0.45805             0.566667              0.62381   \n",
       "\n",
       "   mean_test_recall  mean_test_balanced_accuracy  mean_test_roc_auc  \\\n",
       "0          0.571429                     0.573016           0.549509   \n",
       "\n",
       "   mean_test_precision  \n",
       "0             0.579479  "
      ]
     },
     "execution_count": 49,
     "metadata": {},
     "output_type": "execute_result"
    }
   ],
   "source": [
    "results_anx_frn_df # 20 - 30"
   ]
  },
  {
   "cell_type": "code",
   "execution_count": 50,
   "metadata": {},
   "outputs": [],
   "source": [
    "results_anx_frn_df.to_pickle(f\"data/sonata_data/results/{task}/anxiety_frn_csp_results_t20-t30_19_04.pkl\")"
   ]
  },
  {
   "cell_type": "markdown",
   "metadata": {},
   "source": [
    "## Test statistical differences between models"
   ]
  },
  {
   "cell_type": "code",
   "execution_count": 71,
   "metadata": {},
   "outputs": [],
   "source": [
    "def paired_ttest_nandeu(\n",
    "    estimator1,\n",
    "    estimator2,\n",
    "    X_1,\n",
    "    X_2,\n",
    "    y,\n",
    "    scoring='accuracy',\n",
    "    random_state=0  \n",
    "):\n",
    "    \"\"\"Computes paired-ttest using Nadeau and Bengio's approach.\n",
    "\n",
    "    Parameters\n",
    "    ----------\n",
    "    estimator1 : estimator object implementing 'fit'\n",
    "        The object to use to fit the data.\n",
    "    estimator2 :  estimator object implementing 'fit'\n",
    "        The object to use to fit the data.\n",
    "    X : array-like of shape at least 2D\n",
    "        The data to fit.\n",
    "    y : array-like of shape (n_samples,)\n",
    "        The target variable to try to predict\n",
    "    random_state: int\n",
    "\n",
    "\n",
    "    Returns\n",
    "    -------\n",
    "    t_stat : float\n",
    "        Variance-corrected t-statistic.\n",
    "    p_value : float\n",
    "        Variance-corrected p-value.\n",
    "    \"\"\"\n",
    "\n",
    "    cv = RepeatedStratifiedKFold(n_splits=10, n_repeats=10, random_state=random_state)\n",
    "\n",
    "    cv_scores_1 = cross_val_score(estimator1, X_1, y, cv=cv, scoring=scoring)\n",
    "    cv_scores_2 = cross_val_score(estimator2, X_2, y, cv=cv, scoring=scoring)\n",
    "\n",
    "    differences = cv_scores_1 - cv_scores_2\n",
    "\n",
    "    n = differences.shape[0]  # number of test sets\n",
    "    df = n - 1\n",
    "    n_train = len(list(cv.split(X_1, y))[0][0])\n",
    "    n_test = len(list(cv.split(X_1, y))[0][1])\n",
    "\n",
    "    t_stat, p_value = compute_corrected_ttest(differences, df, n_train, n_test)\n",
    "\n",
    "    return t_stat, p_value\n",
    "\n",
    "\n",
    "def corrected_std(differences, n_train, n_test):\n",
    "    \"\"\"Corrects standard deviation using Nadeau and Bengio's approach.\n",
    "\n",
    "    Parameters\n",
    "    ----------\n",
    "    differences : ndarray of shape (n_samples,)\n",
    "        Vector containing the differences in the score metrics of two models.\n",
    "    n_train : int\n",
    "        Number of samples in the training set.\n",
    "    n_test : int\n",
    "        Number of samples in the testing set.\n",
    "\n",
    "    Returns\n",
    "    -------\n",
    "    corrected_std : float\n",
    "        Variance-corrected standard deviation of the set of differences.\n",
    "    \"\"\"\n",
    "    # kr = k times r, r times repeated k-fold crossvalidation,\n",
    "    # kr equals the number of times the model was evaluated\n",
    "    kr = len(differences)\n",
    "    corrected_var = np.var(differences, ddof=1) * ((1 / kr) + (n_test / n_train))\n",
    "    corrected_std = np.sqrt(corrected_var)\n",
    "    return corrected_std\n",
    "\n",
    "\n",
    "def compute_corrected_ttest(differences, df, n_train, n_test):\n",
    "    \"\"\"Computes right-tailed paired t-test with corrected variance.\n",
    "\n",
    "    Parameters\n",
    "    ----------\n",
    "    differences : array-like of shape (n_samples,)\n",
    "        Vector containing the differences in the score metrics of two models.\n",
    "    df : int\n",
    "        Degrees of freedom.\n",
    "    n_train : int\n",
    "        Number of samples in the training set.\n",
    "    n_test : int\n",
    "        Number of samples in the testing set.\n",
    "\n",
    "    Returns\n",
    "    -------\n",
    "    t_stat : float\n",
    "        Variance-corrected t-statistic.\n",
    "    p_val : float\n",
    "        Variance-corrected p-value.\n",
    "    \"\"\"\n",
    "    mean = np.mean(differences)\n",
    "    std = corrected_std(differences, n_train, n_test)\n",
    "    t_stat = mean / std\n",
    "    p_val = stats.t.sf(np.abs(t_stat), df)  # right-tailed t-test\n",
    "    return t_stat, p_val"
   ]
  },
  {
   "cell_type": "code",
   "execution_count": 52,
   "metadata": {},
   "outputs": [],
   "source": [
    "# results_dep_rewp_df = pd.read_pickle(\"data/depression_rewp_results_3_02_03_24-00.pkl\")\n",
    "# results_dep_frn_df = pd.read_pickle(\"data/depression_frn_results_3_02_03_24-00.pkl\")\n",
    "# results_anx_rewp_df = pd.read_pickle(\"data/anxiety_rewp_results.pkl\")\n",
    "# results_anx_frn_df = pd.read_pickle(\"data/anxiety_frn_results_25_37.pkl\")"
   ]
  },
  {
   "cell_type": "markdown",
   "metadata": {
    "tags": []
   },
   "source": [
    "### Depression RewP vs FRN"
   ]
  },
  {
   "cell_type": "code",
   "execution_count": 72,
   "metadata": {},
   "outputs": [],
   "source": [
    "y = np.array(len(dep) * [1] +  len(ctrl_dep) * [0])"
   ]
  },
  {
   "cell_type": "markdown",
   "metadata": {},
   "source": [
    "#### Plot differences between all Depression Models\n",
    "To see which RewP and FRN models are the best"
   ]
  },
  {
   "cell_type": "code",
   "execution_count": 73,
   "metadata": {
    "colab": {
     "base_uri": "https://localhost:8080/"
    },
    "executionInfo": {
     "elapsed": 4,
     "status": "ok",
     "timestamp": 1677516452928,
     "user": {
      "displayName": "Anna Grabowska",
      "userId": "15734344613010880864"
     },
     "user_tz": -60
    },
    "id": "824FRKiAweds",
    "outputId": "a8affbdc-2c93-462c-d952-df11bc0ff221",
    "tags": []
   },
   "outputs": [],
   "source": [
    "%%capture\n",
    "\n",
    "cv = RepeatedStratifiedKFold(n_splits=10, n_repeats=10, random_state=random_state)\n",
    "\n",
    "cv_results_df = pd.DataFrame()\n",
    "\n",
    "cv_scores_rewp_delta = cross_val_score(results_dep_rewp_df.iloc[0].best_model, rewp_depression_datasets[0], y, cv=cv, scoring='balanced_accuracy')\n",
    "# cv_scores_rewp_theta = cross_val_score(results_dep_rewp_df.iloc[1].best_model, rewp_depression_datasets[1], y, cv=cv, scoring='balanced_accuracy')\n",
    "cv_scores_frn_delta = cross_val_score(results_dep_frn_df.iloc[0].best_model, frn_depression_datasets[0], y, cv=cv, scoring='balanced_accuracy')\n",
    "# cv_scores_frn_theta = cross_val_score(results_dep_frn_df.iloc[1].best_model, frn_depression_datasets[1], y, cv=cv,scoring='balanced_accuracy')\n",
    "    \n",
    "cv_results_df[\"RewP\"] = cv_scores_rewp_delta\n",
    "# cv_results_df[\"RewP_theta\"] = cv_scores_rewp_theta\n",
    "cv_results_df[\"FRN\"] = cv_scores_frn_delta\n",
    "# cv_results_df[\"FRN_theta\"] = cv_scores_frn_theta"
   ]
  },
  {
   "cell_type": "code",
   "execution_count": 74,
   "metadata": {
    "tags": []
   },
   "outputs": [
    {
     "data": {
      "text/html": [
       "<div>\n",
       "<style scoped>\n",
       "    .dataframe tbody tr th:only-of-type {\n",
       "        vertical-align: middle;\n",
       "    }\n",
       "\n",
       "    .dataframe tbody tr th {\n",
       "        vertical-align: top;\n",
       "    }\n",
       "\n",
       "    .dataframe thead th {\n",
       "        text-align: right;\n",
       "    }\n",
       "</style>\n",
       "<table border=\"1\" class=\"dataframe\">\n",
       "  <thead>\n",
       "    <tr style=\"text-align: right;\">\n",
       "      <th></th>\n",
       "      <th>RewP</th>\n",
       "      <th>FRN</th>\n",
       "    </tr>\n",
       "  </thead>\n",
       "  <tbody>\n",
       "    <tr>\n",
       "      <th>0</th>\n",
       "      <td>0.464286</td>\n",
       "      <td>0.205357</td>\n",
       "    </tr>\n",
       "    <tr>\n",
       "      <th>1</th>\n",
       "      <td>0.330357</td>\n",
       "      <td>0.616071</td>\n",
       "    </tr>\n",
       "    <tr>\n",
       "      <th>2</th>\n",
       "      <td>0.455357</td>\n",
       "      <td>0.723214</td>\n",
       "    </tr>\n",
       "    <tr>\n",
       "      <th>3</th>\n",
       "      <td>0.330357</td>\n",
       "      <td>0.678571</td>\n",
       "    </tr>\n",
       "    <tr>\n",
       "      <th>4</th>\n",
       "      <td>0.267857</td>\n",
       "      <td>0.392857</td>\n",
       "    </tr>\n",
       "  </tbody>\n",
       "</table>\n",
       "</div>"
      ],
      "text/plain": [
       "       RewP       FRN\n",
       "0  0.464286  0.205357\n",
       "1  0.330357  0.616071\n",
       "2  0.455357  0.723214\n",
       "3  0.330357  0.678571\n",
       "4  0.267857  0.392857"
      ]
     },
     "execution_count": 74,
     "metadata": {},
     "output_type": "execute_result"
    }
   ],
   "source": [
    "cv_results_df.head()"
   ]
  },
  {
   "cell_type": "code",
   "execution_count": 75,
   "metadata": {},
   "outputs": [
    {
     "data": {
      "image/png": "[encoded data removed]",
      "text/plain": [
       "<Figure size 432x288 with 1 Axes>"
      ]
     },
     "metadata": {
      "needs_background": "light"
     },
     "output_type": "display_data"
    }
   ],
   "source": [
    "fig = sns.histplot(data=cv_results_df, bins=5, kde=True)"
   ]
  },
  {
   "cell_type": "markdown",
   "metadata": {},
   "source": [
    "#### Test differences between the best models"
   ]
  },
  {
   "cell_type": "markdown",
   "metadata": {},
   "source": [
    "Chose the best models"
   ]
  },
  {
   "cell_type": "code",
   "execution_count": 76,
   "metadata": {},
   "outputs": [
    {
     "data": {
      "text/html": [
       "<div>\n",
       "<style scoped>\n",
       "    .dataframe tbody tr th:only-of-type {\n",
       "        vertical-align: middle;\n",
       "    }\n",
       "\n",
       "    .dataframe tbody tr th {\n",
       "        vertical-align: top;\n",
       "    }\n",
       "\n",
       "    .dataframe thead th {\n",
       "        text-align: right;\n",
       "    }\n",
       "</style>\n",
       "<table border=\"1\" class=\"dataframe\">\n",
       "  <thead>\n",
       "    <tr style=\"text-align: right;\">\n",
       "      <th></th>\n",
       "      <th>model_name</th>\n",
       "      <th>pipeline_name</th>\n",
       "      <th>train score</th>\n",
       "      <th>mean_cv_score</th>\n",
       "      <th>best_model</th>\n",
       "      <th>parameters</th>\n",
       "      <th>pvalue</th>\n",
       "      <th>split0_test_roc_auc</th>\n",
       "      <th>split1_test_roc_auc</th>\n",
       "      <th>split2_test_roc_auc</th>\n",
       "      <th>mean_test_precision</th>\n",
       "      <th>mean_test_roc_auc</th>\n",
       "      <th>mean_test_balanced_accuracy</th>\n",
       "      <th>mean_test_recall</th>\n",
       "    </tr>\n",
       "  </thead>\n",
       "  <tbody>\n",
       "    <tr>\n",
       "      <th>0</th>\n",
       "      <td>svc</td>\n",
       "      <td>RewP_Depression_band_0_svc</td>\n",
       "      <td>0.760274</td>\n",
       "      <td>0.604722</td>\n",
       "      <td>(CSP({'component_order': 'mutual_info',\\n 'cov...</td>\n",
       "      <td>{'csp__n_components': 3, 'csp__reg': 0.01, 'sv...</td>\n",
       "      <td>0.012987</td>\n",
       "      <td>0.563333</td>\n",
       "      <td>0.58</td>\n",
       "      <td>0.678819</td>\n",
       "      <td>0.588966</td>\n",
       "      <td>0.607384</td>\n",
       "      <td>0.604722</td>\n",
       "      <td>0.687222</td>\n",
       "    </tr>\n",
       "  </tbody>\n",
       "</table>\n",
       "</div>"
      ],
      "text/plain": [
       "  model_name               pipeline_name  train score  mean_cv_score  \\\n",
       "0        svc  RewP_Depression_band_0_svc     0.760274       0.604722   \n",
       "\n",
       "                                          best_model  \\\n",
       "0  (CSP({'component_order': 'mutual_info',\\n 'cov...   \n",
       "\n",
       "                                          parameters    pvalue  \\\n",
       "0  {'csp__n_components': 3, 'csp__reg': 0.01, 'sv...  0.012987   \n",
       "\n",
       "   split0_test_roc_auc  split1_test_roc_auc  split2_test_roc_auc  \\\n",
       "0             0.563333                 0.58             0.678819   \n",
       "\n",
       "   mean_test_precision  mean_test_roc_auc  mean_test_balanced_accuracy  \\\n",
       "0             0.588966           0.607384                     0.604722   \n",
       "\n",
       "   mean_test_recall  \n",
       "0          0.687222  "
      ]
     },
     "execution_count": 76,
     "metadata": {},
     "output_type": "execute_result"
    }
   ],
   "source": [
    "results_dep_rewp_df"
   ]
  },
  {
   "cell_type": "code",
   "execution_count": 77,
   "metadata": {},
   "outputs": [
    {
     "data": {
      "text/html": [
       "<div>\n",
       "<style scoped>\n",
       "    .dataframe tbody tr th:only-of-type {\n",
       "        vertical-align: middle;\n",
       "    }\n",
       "\n",
       "    .dataframe tbody tr th {\n",
       "        vertical-align: top;\n",
       "    }\n",
       "\n",
       "    .dataframe thead th {\n",
       "        text-align: right;\n",
       "    }\n",
       "</style>\n",
       "<table border=\"1\" class=\"dataframe\">\n",
       "  <thead>\n",
       "    <tr style=\"text-align: right;\">\n",
       "      <th></th>\n",
       "      <th>model_name</th>\n",
       "      <th>pipeline_name</th>\n",
       "      <th>train score</th>\n",
       "      <th>mean_cv_score</th>\n",
       "      <th>best_model</th>\n",
       "      <th>parameters</th>\n",
       "      <th>pvalue</th>\n",
       "      <th>split0_test_roc_auc</th>\n",
       "      <th>split1_test_roc_auc</th>\n",
       "      <th>split2_test_roc_auc</th>\n",
       "      <th>mean_test_precision</th>\n",
       "      <th>mean_test_roc_auc</th>\n",
       "      <th>mean_test_balanced_accuracy</th>\n",
       "      <th>mean_test_recall</th>\n",
       "    </tr>\n",
       "  </thead>\n",
       "  <tbody>\n",
       "    <tr>\n",
       "      <th>0</th>\n",
       "      <td>svc</td>\n",
       "      <td>FRN_Depression_band_0_svc</td>\n",
       "      <td>0.794521</td>\n",
       "      <td>0.603611</td>\n",
       "      <td>(CSP({'component_order': 'mutual_info',\\n 'cov...</td>\n",
       "      <td>{'csp__n_components': 4, 'csp__reg': 0.1, 'svc...</td>\n",
       "      <td>0.008991</td>\n",
       "      <td>0.603333</td>\n",
       "      <td>0.473333</td>\n",
       "      <td>0.659722</td>\n",
       "      <td>0.608116</td>\n",
       "      <td>0.578796</td>\n",
       "      <td>0.603611</td>\n",
       "      <td>0.589444</td>\n",
       "    </tr>\n",
       "  </tbody>\n",
       "</table>\n",
       "</div>"
      ],
      "text/plain": [
       "  model_name              pipeline_name  train score  mean_cv_score  \\\n",
       "0        svc  FRN_Depression_band_0_svc     0.794521       0.603611   \n",
       "\n",
       "                                          best_model  \\\n",
       "0  (CSP({'component_order': 'mutual_info',\\n 'cov...   \n",
       "\n",
       "                                          parameters    pvalue  \\\n",
       "0  {'csp__n_components': 4, 'csp__reg': 0.1, 'svc...  0.008991   \n",
       "\n",
       "   split0_test_roc_auc  split1_test_roc_auc  split2_test_roc_auc  \\\n",
       "0             0.603333             0.473333             0.659722   \n",
       "\n",
       "   mean_test_precision  mean_test_roc_auc  mean_test_balanced_accuracy  \\\n",
       "0             0.608116           0.578796                     0.603611   \n",
       "\n",
       "   mean_test_recall  \n",
       "0          0.589444  "
      ]
     },
     "execution_count": 77,
     "metadata": {},
     "output_type": "execute_result"
    }
   ],
   "source": [
    "results_dep_frn_df"
   ]
  },
  {
   "cell_type": "code",
   "execution_count": 81,
   "metadata": {},
   "outputs": [],
   "source": [
    "index = 0"
   ]
  },
  {
   "cell_type": "code",
   "execution_count": 82,
   "metadata": {},
   "outputs": [
    {
     "data": {
      "text/html": [
       "<style>#sk-container-id-1 {color: black;background-color: white;}#sk-container-id-1 pre{padding: 0;}#sk-container-id-1 div.sk-toggleable {background-color: white;}#sk-container-id-1 label.sk-toggleable__label {cursor: pointer;display: block;width: 100%;margin-bottom: 0;padding: 0.3em;box-sizing: border-box;text-align: center;}#sk-container-id-1 label.sk-toggleable__label-arrow:before {content: \"▸\";float: left;margin-right: 0.25em;color: #696969;}#sk-container-id-1 label.sk-toggleable__label-arrow:hover:before {color: black;}#sk-container-id-1 div.sk-estimator:hover label.sk-toggleable__label-arrow:before {color: black;}#sk-container-id-1 div.sk-toggleable__content {max-height: 0;max-width: 0;overflow: hidden;text-align: left;background-color: #f0f8ff;}#sk-container-id-1 div.sk-toggleable__content pre {margin: 0.2em;color: black;border-radius: 0.25em;background-color: #f0f8ff;}#sk-container-id-1 input.sk-toggleable__control:checked~div.sk-toggleable__content {max-height: 200px;max-width: 100%;overflow: auto;}#sk-container-id-1 input.sk-toggleable__control:checked~label.sk-toggleable__label-arrow:before {content: \"▾\";}#sk-container-id-1 div.sk-estimator input.sk-toggleable__control:checked~label.sk-toggleable__label {background-color: #d4ebff;}#sk-container-id-1 div.sk-label input.sk-toggleable__control:checked~label.sk-toggleable__label {background-color: #d4ebff;}#sk-container-id-1 input.sk-hidden--visually {border: 0;clip: rect(1px 1px 1px 1px);clip: rect(1px, 1px, 1px, 1px);height: 1px;margin: -1px;overflow: hidden;padding: 0;position: absolute;width: 1px;}#sk-container-id-1 div.sk-estimator {font-family: monospace;background-color: #f0f8ff;border: 1px dotted black;border-radius: 0.25em;box-sizing: border-box;margin-bottom: 0.5em;}#sk-container-id-1 div.sk-estimator:hover {background-color: #d4ebff;}#sk-container-id-1 div.sk-parallel-item::after {content: \"\";width: 100%;border-bottom: 1px solid gray;flex-grow: 1;}#sk-container-id-1 div.sk-label:hover label.sk-toggleable__label {background-color: #d4ebff;}#sk-container-id-1 div.sk-serial::before {content: \"\";position: absolute;border-left: 1px solid gray;box-sizing: border-box;top: 0;bottom: 0;left: 50%;z-index: 0;}#sk-container-id-1 div.sk-serial {display: flex;flex-direction: column;align-items: center;background-color: white;padding-right: 0.2em;padding-left: 0.2em;position: relative;}#sk-container-id-1 div.sk-item {position: relative;z-index: 1;}#sk-container-id-1 div.sk-parallel {display: flex;align-items: stretch;justify-content: center;background-color: white;position: relative;}#sk-container-id-1 div.sk-item::before, #sk-container-id-1 div.sk-parallel-item::before {content: \"\";position: absolute;border-left: 1px solid gray;box-sizing: border-box;top: 0;bottom: 0;left: 50%;z-index: -1;}#sk-container-id-1 div.sk-parallel-item {display: flex;flex-direction: column;z-index: 1;position: relative;background-color: white;}#sk-container-id-1 div.sk-parallel-item:first-child::after {align-self: flex-end;width: 50%;}#sk-container-id-1 div.sk-parallel-item:last-child::after {align-self: flex-start;width: 50%;}#sk-container-id-1 div.sk-parallel-item:only-child::after {width: 0;}#sk-container-id-1 div.sk-dashed-wrapped {border: 1px dashed gray;margin: 0 0.4em 0.5em 0.4em;box-sizing: border-box;padding-bottom: 0.4em;background-color: white;}#sk-container-id-1 div.sk-label label {font-family: monospace;font-weight: bold;display: inline-block;line-height: 1.2em;}#sk-container-id-1 div.sk-label-container {text-align: center;}#sk-container-id-1 div.sk-container {/* jupyter's `normalize.less` sets `[hidden] { display: none; }` but bootstrap.min.css set `[hidden] { display: none !important; }` so we also need the `!important` here to be able to override the default hidden behavior on the sphinx rendered scikit-learn.org. See: https://github.com/scikit-learn/scikit-learn/issues/21755 */display: inline-block !important;position: relative;}#sk-container-id-1 div.sk-text-repr-fallback {display: none;}</style><div id=\"sk-container-id-1\" class=\"sk-top-container\"><div class=\"sk-text-repr-fallback\"><pre>Pipeline(steps=[(&#x27;csp&#x27;,\n",
       "                 CSP({&#x27;component_order&#x27;: &#x27;mutual_info&#x27;,\n",
       " &#x27;cov_est&#x27;: &#x27;concat&#x27;,\n",
       " &#x27;cov_method_params&#x27;: None,\n",
       " &#x27;log&#x27;: None,\n",
       " &#x27;n_components&#x27;: 3,\n",
       " &#x27;norm_trace&#x27;: False,\n",
       " &#x27;rank&#x27;: None,\n",
       " &#x27;reg&#x27;: 0.01,\n",
       " &#x27;transform_into&#x27;: &#x27;average_power&#x27;})),\n",
       "                (&#x27;vec&#x27;,\n",
       "                 &lt;mne.decoding.transformer.Vectorizer object at 0x7f4e5d3e1e20&gt;),\n",
       "                (&#x27;svc&#x27;, SVC(C=1))])</pre><b>In a Jupyter environment, please rerun this cell to show the HTML representation or trust the notebook. <br />On GitHub, the HTML representation is unable to render, please try loading this page with nbviewer.org.</b></div><div class=\"sk-container\" hidden><div class=\"sk-item sk-dashed-wrapped\"><div class=\"sk-label-container\"><div class=\"sk-label sk-toggleable\"><input class=\"sk-toggleable__control sk-hidden--visually\" id=\"sk-estimator-id-1\" type=\"checkbox\" ><label for=\"sk-estimator-id-1\" class=\"sk-toggleable__label sk-toggleable__label-arrow\">Pipeline</label><div class=\"sk-toggleable__content\"><pre>Pipeline(steps=[(&#x27;csp&#x27;,\n",
       "                 CSP({&#x27;component_order&#x27;: &#x27;mutual_info&#x27;,\n",
       " &#x27;cov_est&#x27;: &#x27;concat&#x27;,\n",
       " &#x27;cov_method_params&#x27;: None,\n",
       " &#x27;log&#x27;: None,\n",
       " &#x27;n_components&#x27;: 3,\n",
       " &#x27;norm_trace&#x27;: False,\n",
       " &#x27;rank&#x27;: None,\n",
       " &#x27;reg&#x27;: 0.01,\n",
       " &#x27;transform_into&#x27;: &#x27;average_power&#x27;})),\n",
       "                (&#x27;vec&#x27;,\n",
       "                 &lt;mne.decoding.transformer.Vectorizer object at 0x7f4e5d3e1e20&gt;),\n",
       "                (&#x27;svc&#x27;, SVC(C=1))])</pre></div></div></div><div class=\"sk-serial\"><div class=\"sk-item\"><div class=\"sk-estimator sk-toggleable\"><input class=\"sk-toggleable__control sk-hidden--visually\" id=\"sk-estimator-id-2\" type=\"checkbox\" ><label for=\"sk-estimator-id-2\" class=\"sk-toggleable__label sk-toggleable__label-arrow\">CSP</label><div class=\"sk-toggleable__content\"><pre>CSP({&#x27;component_order&#x27;: &#x27;mutual_info&#x27;,\n",
       " &#x27;cov_est&#x27;: &#x27;concat&#x27;,\n",
       " &#x27;cov_method_params&#x27;: None,\n",
       " &#x27;log&#x27;: None,\n",
       " &#x27;n_components&#x27;: 3,\n",
       " &#x27;norm_trace&#x27;: False,\n",
       " &#x27;rank&#x27;: None,\n",
       " &#x27;reg&#x27;: 0.01,\n",
       " &#x27;transform_into&#x27;: &#x27;average_power&#x27;})</pre></div></div></div><div class=\"sk-item\"><div class=\"sk-estimator sk-toggleable\"><input class=\"sk-toggleable__control sk-hidden--visually\" id=\"sk-estimator-id-3\" type=\"checkbox\" ><label for=\"sk-estimator-id-3\" class=\"sk-toggleable__label sk-toggleable__label-arrow\">Vectorizer</label><div class=\"sk-toggleable__content\"><pre>&lt;mne.decoding.transformer.Vectorizer object at 0x7f4e5d3e1e20&gt;</pre></div></div></div><div class=\"sk-item\"><div class=\"sk-estimator sk-toggleable\"><input class=\"sk-toggleable__control sk-hidden--visually\" id=\"sk-estimator-id-4\" type=\"checkbox\" ><label for=\"sk-estimator-id-4\" class=\"sk-toggleable__label sk-toggleable__label-arrow\">SVC</label><div class=\"sk-toggleable__content\"><pre>SVC(C=1)</pre></div></div></div></div></div></div></div>"
      ],
      "text/plain": [
       "Pipeline(steps=[('csp',\n",
       "                 CSP({'component_order': 'mutual_info',\n",
       " 'cov_est': 'concat',\n",
       " 'cov_method_params': None,\n",
       " 'log': None,\n",
       " 'n_components': 3,\n",
       " 'norm_trace': False,\n",
       " 'rank': None,\n",
       " 'reg': 0.01,\n",
       " 'transform_into': 'average_power'})),\n",
       "                ('vec',\n",
       "                 <mne.decoding.transformer.Vectorizer object at 0x7f4e5d3e1e20>),\n",
       "                ('svc', SVC(C=1))])"
      ]
     },
     "execution_count": 82,
     "metadata": {},
     "output_type": "execute_result"
    }
   ],
   "source": [
    "dep_rewp_model = results_dep_rewp_df.iloc[index].best_model\n",
    "dep_rewp_model"
   ]
  },
  {
   "cell_type": "code",
   "execution_count": 83,
   "metadata": {},
   "outputs": [
    {
     "data": {
      "text/html": [
       "<style>#sk-container-id-2 {color: black;background-color: white;}#sk-container-id-2 pre{padding: 0;}#sk-container-id-2 div.sk-toggleable {background-color: white;}#sk-container-id-2 label.sk-toggleable__label {cursor: pointer;display: block;width: 100%;margin-bottom: 0;padding: 0.3em;box-sizing: border-box;text-align: center;}#sk-container-id-2 label.sk-toggleable__label-arrow:before {content: \"▸\";float: left;margin-right: 0.25em;color: #696969;}#sk-container-id-2 label.sk-toggleable__label-arrow:hover:before {color: black;}#sk-container-id-2 div.sk-estimator:hover label.sk-toggleable__label-arrow:before {color: black;}#sk-container-id-2 div.sk-toggleable__content {max-height: 0;max-width: 0;overflow: hidden;text-align: left;background-color: #f0f8ff;}#sk-container-id-2 div.sk-toggleable__content pre {margin: 0.2em;color: black;border-radius: 0.25em;background-color: #f0f8ff;}#sk-container-id-2 input.sk-toggleable__control:checked~div.sk-toggleable__content {max-height: 200px;max-width: 100%;overflow: auto;}#sk-container-id-2 input.sk-toggleable__control:checked~label.sk-toggleable__label-arrow:before {content: \"▾\";}#sk-container-id-2 div.sk-estimator input.sk-toggleable__control:checked~label.sk-toggleable__label {background-color: #d4ebff;}#sk-container-id-2 div.sk-label input.sk-toggleable__control:checked~label.sk-toggleable__label {background-color: #d4ebff;}#sk-container-id-2 input.sk-hidden--visually {border: 0;clip: rect(1px 1px 1px 1px);clip: rect(1px, 1px, 1px, 1px);height: 1px;margin: -1px;overflow: hidden;padding: 0;position: absolute;width: 1px;}#sk-container-id-2 div.sk-estimator {font-family: monospace;background-color: #f0f8ff;border: 1px dotted black;border-radius: 0.25em;box-sizing: border-box;margin-bottom: 0.5em;}#sk-container-id-2 div.sk-estimator:hover {background-color: #d4ebff;}#sk-container-id-2 div.sk-parallel-item::after {content: \"\";width: 100%;border-bottom: 1px solid gray;flex-grow: 1;}#sk-container-id-2 div.sk-label:hover label.sk-toggleable__label {background-color: #d4ebff;}#sk-container-id-2 div.sk-serial::before {content: \"\";position: absolute;border-left: 1px solid gray;box-sizing: border-box;top: 0;bottom: 0;left: 50%;z-index: 0;}#sk-container-id-2 div.sk-serial {display: flex;flex-direction: column;align-items: center;background-color: white;padding-right: 0.2em;padding-left: 0.2em;position: relative;}#sk-container-id-2 div.sk-item {position: relative;z-index: 1;}#sk-container-id-2 div.sk-parallel {display: flex;align-items: stretch;justify-content: center;background-color: white;position: relative;}#sk-container-id-2 div.sk-item::before, #sk-container-id-2 div.sk-parallel-item::before {content: \"\";position: absolute;border-left: 1px solid gray;box-sizing: border-box;top: 0;bottom: 0;left: 50%;z-index: -1;}#sk-container-id-2 div.sk-parallel-item {display: flex;flex-direction: column;z-index: 1;position: relative;background-color: white;}#sk-container-id-2 div.sk-parallel-item:first-child::after {align-self: flex-end;width: 50%;}#sk-container-id-2 div.sk-parallel-item:last-child::after {align-self: flex-start;width: 50%;}#sk-container-id-2 div.sk-parallel-item:only-child::after {width: 0;}#sk-container-id-2 div.sk-dashed-wrapped {border: 1px dashed gray;margin: 0 0.4em 0.5em 0.4em;box-sizing: border-box;padding-bottom: 0.4em;background-color: white;}#sk-container-id-2 div.sk-label label {font-family: monospace;font-weight: bold;display: inline-block;line-height: 1.2em;}#sk-container-id-2 div.sk-label-container {text-align: center;}#sk-container-id-2 div.sk-container {/* jupyter's `normalize.less` sets `[hidden] { display: none; }` but bootstrap.min.css set `[hidden] { display: none !important; }` so we also need the `!important` here to be able to override the default hidden behavior on the sphinx rendered scikit-learn.org. See: https://github.com/scikit-learn/scikit-learn/issues/21755 */display: inline-block !important;position: relative;}#sk-container-id-2 div.sk-text-repr-fallback {display: none;}</style><div id=\"sk-container-id-2\" class=\"sk-top-container\"><div class=\"sk-text-repr-fallback\"><pre>Pipeline(steps=[(&#x27;csp&#x27;,\n",
       "                 CSP({&#x27;component_order&#x27;: &#x27;mutual_info&#x27;,\n",
       " &#x27;cov_est&#x27;: &#x27;concat&#x27;,\n",
       " &#x27;cov_method_params&#x27;: None,\n",
       " &#x27;log&#x27;: None,\n",
       " &#x27;n_components&#x27;: 4,\n",
       " &#x27;norm_trace&#x27;: False,\n",
       " &#x27;rank&#x27;: None,\n",
       " &#x27;reg&#x27;: 0.1,\n",
       " &#x27;transform_into&#x27;: &#x27;average_power&#x27;})),\n",
       "                (&#x27;vec&#x27;,\n",
       "                 &lt;mne.decoding.transformer.Vectorizer object at 0x7f4e5d3bdd60&gt;),\n",
       "                (&#x27;svc&#x27;, SVC(C=0.1))])</pre><b>In a Jupyter environment, please rerun this cell to show the HTML representation or trust the notebook. <br />On GitHub, the HTML representation is unable to render, please try loading this page with nbviewer.org.</b></div><div class=\"sk-container\" hidden><div class=\"sk-item sk-dashed-wrapped\"><div class=\"sk-label-container\"><div class=\"sk-label sk-toggleable\"><input class=\"sk-toggleable__control sk-hidden--visually\" id=\"sk-estimator-id-5\" type=\"checkbox\" ><label for=\"sk-estimator-id-5\" class=\"sk-toggleable__label sk-toggleable__label-arrow\">Pipeline</label><div class=\"sk-toggleable__content\"><pre>Pipeline(steps=[(&#x27;csp&#x27;,\n",
       "                 CSP({&#x27;component_order&#x27;: &#x27;mutual_info&#x27;,\n",
       " &#x27;cov_est&#x27;: &#x27;concat&#x27;,\n",
       " &#x27;cov_method_params&#x27;: None,\n",
       " &#x27;log&#x27;: None,\n",
       " &#x27;n_components&#x27;: 4,\n",
       " &#x27;norm_trace&#x27;: False,\n",
       " &#x27;rank&#x27;: None,\n",
       " &#x27;reg&#x27;: 0.1,\n",
       " &#x27;transform_into&#x27;: &#x27;average_power&#x27;})),\n",
       "                (&#x27;vec&#x27;,\n",
       "                 &lt;mne.decoding.transformer.Vectorizer object at 0x7f4e5d3bdd60&gt;),\n",
       "                (&#x27;svc&#x27;, SVC(C=0.1))])</pre></div></div></div><div class=\"sk-serial\"><div class=\"sk-item\"><div class=\"sk-estimator sk-toggleable\"><input class=\"sk-toggleable__control sk-hidden--visually\" id=\"sk-estimator-id-6\" type=\"checkbox\" ><label for=\"sk-estimator-id-6\" class=\"sk-toggleable__label sk-toggleable__label-arrow\">CSP</label><div class=\"sk-toggleable__content\"><pre>CSP({&#x27;component_order&#x27;: &#x27;mutual_info&#x27;,\n",
       " &#x27;cov_est&#x27;: &#x27;concat&#x27;,\n",
       " &#x27;cov_method_params&#x27;: None,\n",
       " &#x27;log&#x27;: None,\n",
       " &#x27;n_components&#x27;: 4,\n",
       " &#x27;norm_trace&#x27;: False,\n",
       " &#x27;rank&#x27;: None,\n",
       " &#x27;reg&#x27;: 0.1,\n",
       " &#x27;transform_into&#x27;: &#x27;average_power&#x27;})</pre></div></div></div><div class=\"sk-item\"><div class=\"sk-estimator sk-toggleable\"><input class=\"sk-toggleable__control sk-hidden--visually\" id=\"sk-estimator-id-7\" type=\"checkbox\" ><label for=\"sk-estimator-id-7\" class=\"sk-toggleable__label sk-toggleable__label-arrow\">Vectorizer</label><div class=\"sk-toggleable__content\"><pre>&lt;mne.decoding.transformer.Vectorizer object at 0x7f4e5d3bdd60&gt;</pre></div></div></div><div class=\"sk-item\"><div class=\"sk-estimator sk-toggleable\"><input class=\"sk-toggleable__control sk-hidden--visually\" id=\"sk-estimator-id-8\" type=\"checkbox\" ><label for=\"sk-estimator-id-8\" class=\"sk-toggleable__label sk-toggleable__label-arrow\">SVC</label><div class=\"sk-toggleable__content\"><pre>SVC(C=0.1)</pre></div></div></div></div></div></div></div>"
      ],
      "text/plain": [
       "Pipeline(steps=[('csp',\n",
       "                 CSP({'component_order': 'mutual_info',\n",
       " 'cov_est': 'concat',\n",
       " 'cov_method_params': None,\n",
       " 'log': None,\n",
       " 'n_components': 4,\n",
       " 'norm_trace': False,\n",
       " 'rank': None,\n",
       " 'reg': 0.1,\n",
       " 'transform_into': 'average_power'})),\n",
       "                ('vec',\n",
       "                 <mne.decoding.transformer.Vectorizer object at 0x7f4e5d3bdd60>),\n",
       "                ('svc', SVC(C=0.1))])"
      ]
     },
     "execution_count": 83,
     "metadata": {},
     "output_type": "execute_result"
    }
   ],
   "source": [
    "dep_frn_model = results_dep_frn_df.iloc[index].best_model\n",
    "dep_frn_model"
   ]
  },
  {
   "cell_type": "code",
   "execution_count": 84,
   "metadata": {},
   "outputs": [],
   "source": [
    "X_rewp = rewp_depression_datasets[index]\n",
    "X_frn = frn_depression_datasets[index]"
   ]
  },
  {
   "cell_type": "markdown",
   "metadata": {},
   "source": [
    "- Balanced Accuracy"
   ]
  },
  {
   "cell_type": "code",
   "execution_count": 279,
   "metadata": {},
   "outputs": [],
   "source": [
    "%%capture\n",
    "\n",
    "t, p = paired_ttest_nandeu(\n",
    "    estimator1=dep_rewp_model,\n",
    "    estimator2=dep_frn_model,\n",
    "    X_1=X_rewp,\n",
    "    X_2=X_frn, \n",
    "    y=y,\n",
    "    random_state=random_state,\n",
    "    scoring='balanced_accuracy'\n",
    ")"
   ]
  },
  {
   "cell_type": "code",
   "execution_count": 280,
   "metadata": {},
   "outputs": [
    {
     "name": "stdout",
     "output_type": "stream",
     "text": [
      "t statistic: -0.523\n",
      "p value: 0.301\n"
     ]
    }
   ],
   "source": [
    "print('t statistic: %.3f' % t)\n",
    "print('p value: %.3f' % p)"
   ]
  },
  {
   "cell_type": "markdown",
   "metadata": {},
   "source": [
    "- Roc AUC"
   ]
  },
  {
   "cell_type": "code",
   "execution_count": 281,
   "metadata": {},
   "outputs": [],
   "source": [
    "%%capture\n",
    "\n",
    "t, p = paired_ttest_nandeu(\n",
    "    estimator1=dep_rewp_model,\n",
    "    estimator2=dep_frn_model,\n",
    "    X_1=X_rewp,\n",
    "    X_2=X_frn, \n",
    "    y=y,\n",
    "    random_state=random_state,\n",
    "    scoring='roc_auc'\n",
    ")"
   ]
  },
  {
   "cell_type": "code",
   "execution_count": 282,
   "metadata": {},
   "outputs": [
    {
     "name": "stdout",
     "output_type": "stream",
     "text": [
      "t statistic: -0.450\n",
      "p value: 0.327\n"
     ]
    }
   ],
   "source": [
    "print('t statistic: %.3f' % t)\n",
    "print('p value: %.3f' % p)"
   ]
  },
  {
   "cell_type": "markdown",
   "metadata": {},
   "source": [
    "- precision"
   ]
  },
  {
   "cell_type": "code",
   "execution_count": 283,
   "metadata": {},
   "outputs": [],
   "source": [
    "%%capture\n",
    "\n",
    "t, p = paired_ttest_nandeu(\n",
    "    estimator1=dep_rewp_model,\n",
    "    estimator2=dep_frn_model,\n",
    "    X_1=X_rewp,\n",
    "    X_2=X_frn, \n",
    "    y=y,\n",
    "    random_state=random_state,\n",
    "    scoring='precision'\n",
    ")"
   ]
  },
  {
   "cell_type": "code",
   "execution_count": 284,
   "metadata": {},
   "outputs": [
    {
     "name": "stdout",
     "output_type": "stream",
     "text": [
      "t statistic: -0.524\n",
      "p value: 0.301\n"
     ]
    }
   ],
   "source": [
    "print('t statistic: %.3f' % t)\n",
    "print('p value: %.3f' % p)"
   ]
  },
  {
   "cell_type": "markdown",
   "metadata": {},
   "source": [
    "- recall"
   ]
  },
  {
   "cell_type": "code",
   "execution_count": 285,
   "metadata": {},
   "outputs": [],
   "source": [
    "%%capture\n",
    "\n",
    "t, p = paired_ttest_nandeu(\n",
    "    estimator1=dep_rewp_model,\n",
    "    estimator2=dep_frn_model,\n",
    "    X_1=X_rewp,\n",
    "    X_2=X_frn, \n",
    "    y=y,\n",
    "    random_state=random_state,\n",
    "    scoring='recall'\n",
    ")"
   ]
  },
  {
   "cell_type": "code",
   "execution_count": 286,
   "metadata": {},
   "outputs": [
    {
     "name": "stdout",
     "output_type": "stream",
     "text": [
      "t statistic: -0.087\n",
      "p value: 0.465\n"
     ]
    }
   ],
   "source": [
    "print('t statistic: %.3f' % t)\n",
    "print('p value: %.3f' % p)"
   ]
  },
  {
   "cell_type": "markdown",
   "metadata": {},
   "source": [
    "- F1"
   ]
  },
  {
   "cell_type": "code",
   "execution_count": 287,
   "metadata": {},
   "outputs": [],
   "source": [
    "%%capture\n",
    "\n",
    "t, p = paired_ttest_nandeu(\n",
    "    estimator1=dep_rewp_model,\n",
    "    estimator2=dep_frn_model,\n",
    "    X_1=X_rewp,\n",
    "    X_2=X_frn, \n",
    "    y=y,\n",
    "    random_state=random_state,\n",
    "    scoring='f1'\n",
    ")"
   ]
  },
  {
   "cell_type": "code",
   "execution_count": 288,
   "metadata": {},
   "outputs": [
    {
     "name": "stdout",
     "output_type": "stream",
     "text": [
      "t statistic: -0.309\n",
      "p value: 0.379\n"
     ]
    }
   ],
   "source": [
    "print('t statistic: %.3f' % t)\n",
    "print('p value: %.3f' % p)"
   ]
  },
  {
   "cell_type": "markdown",
   "metadata": {},
   "source": [
    "Visualize difference between FRN and RewP models"
   ]
  },
  {
   "cell_type": "code",
   "execution_count": 85,
   "metadata": {
    "colab": {
     "base_uri": "https://localhost:8080/"
    },
    "executionInfo": {
     "elapsed": 4,
     "status": "ok",
     "timestamp": 1677516452928,
     "user": {
      "displayName": "Anna Grabowska",
      "userId": "15734344613010880864"
     },
     "user_tz": -60
    },
    "id": "824FRKiAweds",
    "outputId": "a8affbdc-2c93-462c-d952-df11bc0ff221"
   },
   "outputs": [],
   "source": [
    "%%capture\n",
    "\n",
    "cv = RepeatedStratifiedKFold(n_splits=10, n_repeats=10, random_state=random_state)\n",
    "\n",
    "cv_scores_1 = cross_val_score(dep_rewp_model, X_rewp, y, cv=cv, scoring='balanced_accuracy')\n",
    "cv_scores_2 = cross_val_score(dep_frn_model, X_frn, y, cv=cv,  scoring='balanced_accuracy')"
   ]
  },
  {
   "cell_type": "code",
   "execution_count": 86,
   "metadata": {},
   "outputs": [],
   "source": [
    "cv_results_df = pd.DataFrame({\n",
    "    \"RewP\": cv_scores_1,\n",
    "    \"FRN\": cv_scores_2,\n",
    "})"
   ]
  },
  {
   "cell_type": "code",
   "execution_count": 87,
   "metadata": {},
   "outputs": [
    {
     "data": {
      "image/png": "[encoded data removed]",
      "text/plain": [
       "<Figure size 432x288 with 1 Axes>"
      ]
     },
     "metadata": {
      "needs_background": "light"
     },
     "output_type": "display_data"
    }
   ],
   "source": [
    "fig = sns.histplot(data=cv_results_df, bins=9, kde=True)"
   ]
  },
  {
   "cell_type": "code",
   "execution_count": 88,
   "metadata": {
    "colab": {
     "base_uri": "https://localhost:8080/"
    },
    "executionInfo": {
     "elapsed": 4,
     "status": "ok",
     "timestamp": 1677516452928,
     "user": {
      "displayName": "Anna Grabowska",
      "userId": "15734344613010880864"
     },
     "user_tz": -60
    },
    "id": "824FRKiAweds",
    "outputId": "a8affbdc-2c93-462c-d952-df11bc0ff221"
   },
   "outputs": [],
   "source": [
    "%%capture\n",
    "\n",
    "cv = RepeatedStratifiedKFold(n_splits=10, n_repeats=10, random_state=random_state)\n",
    "\n",
    "cv_scores_1 = cross_val_score(dep_rewp_model, X_rewp, y, cv=cv, scoring='roc_auc')\n",
    "cv_scores_2 = cross_val_score(dep_frn_model, X_frn, y, cv=cv,  scoring='roc_auc')"
   ]
  },
  {
   "cell_type": "code",
   "execution_count": 89,
   "metadata": {},
   "outputs": [],
   "source": [
    "cv_results_df = pd.DataFrame({\n",
    "    \"RewP\": cv_scores_1,\n",
    "    \"FRN\": cv_scores_2,\n",
    "})"
   ]
  },
  {
   "cell_type": "code",
   "execution_count": 90,
   "metadata": {},
   "outputs": [
    {
     "data": {
      "image/png": "[encoded data removed]",
      "text/plain": [
       "<Figure size 432x288 with 1 Axes>"
      ]
     },
     "metadata": {
      "needs_background": "light"
     },
     "output_type": "display_data"
    }
   ],
   "source": [
    "fig = sns.histplot(data=cv_results_df, bins=9, kde=True)"
   ]
  },
  {
   "cell_type": "markdown",
   "metadata": {},
   "source": [
    "### Anxiety RewP vs FRN"
   ]
  },
  {
   "cell_type": "code",
   "execution_count": 66,
   "metadata": {},
   "outputs": [],
   "source": [
    "y = np.array(len(anx) * [1] +  len(ctrl_anx) * [0])"
   ]
  },
  {
   "cell_type": "markdown",
   "metadata": {},
   "source": [
    "#### Plot differences between all Anxiety Models\n",
    "To see which RewP and FRN models are the best"
   ]
  },
  {
   "cell_type": "code",
   "execution_count": 67,
   "metadata": {
    "colab": {
     "base_uri": "https://localhost:8080/"
    },
    "executionInfo": {
     "elapsed": 4,
     "status": "ok",
     "timestamp": 1677516452928,
     "user": {
      "displayName": "Anna Grabowska",
      "userId": "15734344613010880864"
     },
     "user_tz": -60
    },
    "id": "824FRKiAweds",
    "outputId": "a8affbdc-2c93-462c-d952-df11bc0ff221",
    "tags": []
   },
   "outputs": [],
   "source": [
    "%%capture\n",
    "\n",
    "cv = RepeatedStratifiedKFold(n_splits=10, n_repeats=10, random_state=random_state)\n",
    "\n",
    "cv_results_df = pd.DataFrame()\n",
    "\n",
    "cv_scores_rewp_delta = cross_val_score(results_anx_rewp_df.iloc[0].best_model, rewp_anxiety_datasets[0], y, cv=cv, scoring='balanced_accuracy')\n",
    "# cv_scores_rewp_theta = cross_val_score(results_anx_rewp_df.iloc[1].best_model, rewp_anxiety_datasets[1], y, cv=cv, scoring='balanced_accuracy')\n",
    "cv_scores_frn_delta = cross_val_score(results_anx_frn_df.iloc[0].best_model, frn_anxiety_datasets[0], y, cv=cv, scoring='balanced_accuracy')\n",
    "# cv_scores_frn_theta = cross_val_score(results_anx_frn_df.iloc[1].best_model, frn_anxiety_datasets[1], y, cv=cv,scoring='balanced_accuracy')\n",
    "    \n",
    "cv_results_df[\"RewP_delta\"] = cv_scores_rewp_delta\n",
    "# cv_results_df[\"RewP_theta\"] = cv_scores_rewp_theta\n",
    "cv_results_df[\"FRN_delta\"] = cv_scores_frn_delta\n",
    "# cv_results_df[\"FRN_theta\"] = cv_scores_frn_theta"
   ]
  },
  {
   "cell_type": "code",
   "execution_count": 68,
   "metadata": {
    "tags": []
   },
   "outputs": [
    {
     "data": {
      "text/html": [
       "<div>\n",
       "<style scoped>\n",
       "    .dataframe tbody tr th:only-of-type {\n",
       "        vertical-align: middle;\n",
       "    }\n",
       "\n",
       "    .dataframe tbody tr th {\n",
       "        vertical-align: top;\n",
       "    }\n",
       "\n",
       "    .dataframe thead th {\n",
       "        text-align: right;\n",
       "    }\n",
       "</style>\n",
       "<table border=\"1\" class=\"dataframe\">\n",
       "  <thead>\n",
       "    <tr style=\"text-align: right;\">\n",
       "      <th></th>\n",
       "      <th>RewP_delta</th>\n",
       "      <th>FRN_delta</th>\n",
       "    </tr>\n",
       "  </thead>\n",
       "  <tbody>\n",
       "    <tr>\n",
       "      <th>0</th>\n",
       "      <td>0.488095</td>\n",
       "      <td>0.380952</td>\n",
       "    </tr>\n",
       "    <tr>\n",
       "      <th>1</th>\n",
       "      <td>0.297619</td>\n",
       "      <td>0.392857</td>\n",
       "    </tr>\n",
       "    <tr>\n",
       "      <th>2</th>\n",
       "      <td>0.380952</td>\n",
       "      <td>0.464286</td>\n",
       "    </tr>\n",
       "    <tr>\n",
       "      <th>3</th>\n",
       "      <td>0.464286</td>\n",
       "      <td>0.547619</td>\n",
       "    </tr>\n",
       "    <tr>\n",
       "      <th>4</th>\n",
       "      <td>0.666667</td>\n",
       "      <td>0.583333</td>\n",
       "    </tr>\n",
       "  </tbody>\n",
       "</table>\n",
       "</div>"
      ],
      "text/plain": [
       "   RewP_delta  FRN_delta\n",
       "0    0.488095   0.380952\n",
       "1    0.297619   0.392857\n",
       "2    0.380952   0.464286\n",
       "3    0.464286   0.547619\n",
       "4    0.666667   0.583333"
      ]
     },
     "execution_count": 68,
     "metadata": {},
     "output_type": "execute_result"
    }
   ],
   "source": [
    "cv_results_df.head()"
   ]
  },
  {
   "cell_type": "code",
   "execution_count": 69,
   "metadata": {},
   "outputs": [
    {
     "data": {
      "image/png": "[encoded data removed]",
      "text/plain": [
       "<Figure size 432x288 with 1 Axes>"
      ]
     },
     "metadata": {
      "needs_background": "light"
     },
     "output_type": "display_data"
    }
   ],
   "source": [
    "fig = sns.histplot(data=cv_results_df, bins=5, kde=True)"
   ]
  },
  {
   "cell_type": "markdown",
   "metadata": {},
   "source": [
    "#### Test differences between the best models"
   ]
  },
  {
   "cell_type": "markdown",
   "metadata": {},
   "source": [
    "Chose the best models"
   ]
  },
  {
   "cell_type": "code",
   "execution_count": 70,
   "metadata": {},
   "outputs": [
    {
     "data": {
      "text/html": [
       "<div>\n",
       "<style scoped>\n",
       "    .dataframe tbody tr th:only-of-type {\n",
       "        vertical-align: middle;\n",
       "    }\n",
       "\n",
       "    .dataframe tbody tr th {\n",
       "        vertical-align: top;\n",
       "    }\n",
       "\n",
       "    .dataframe thead th {\n",
       "        text-align: right;\n",
       "    }\n",
       "</style>\n",
       "<table border=\"1\" class=\"dataframe\">\n",
       "  <thead>\n",
       "    <tr style=\"text-align: right;\">\n",
       "      <th></th>\n",
       "      <th>model_name</th>\n",
       "      <th>pipeline_name</th>\n",
       "      <th>train score</th>\n",
       "      <th>mean_cv_score</th>\n",
       "      <th>best_model</th>\n",
       "      <th>parameters</th>\n",
       "      <th>pvalue</th>\n",
       "      <th>split0_test_roc_auc</th>\n",
       "      <th>split1_test_roc_auc</th>\n",
       "      <th>split2_test_roc_auc</th>\n",
       "      <th>mean_test_recall</th>\n",
       "      <th>mean_test_balanced_accuracy</th>\n",
       "      <th>mean_test_roc_auc</th>\n",
       "      <th>mean_test_precision</th>\n",
       "    </tr>\n",
       "  </thead>\n",
       "  <tbody>\n",
       "    <tr>\n",
       "      <th>0</th>\n",
       "      <td>svc</td>\n",
       "      <td>RewP_Anxiety_band_0_svc</td>\n",
       "      <td>0.648972</td>\n",
       "      <td>0.621032</td>\n",
       "      <td>(CSP({'component_order': 'mutual_info',\\n 'cov...</td>\n",
       "      <td>{'csp__n_components': 1, 'csp__reg': 0.1, 'svc...</td>\n",
       "      <td>0.004995</td>\n",
       "      <td>0.473923</td>\n",
       "      <td>0.680952</td>\n",
       "      <td>0.67381</td>\n",
       "      <td>0.746032</td>\n",
       "      <td>0.621032</td>\n",
       "      <td>0.609562</td>\n",
       "      <td>0.615359</td>\n",
       "    </tr>\n",
       "  </tbody>\n",
       "</table>\n",
       "</div>"
      ],
      "text/plain": [
       "  model_name            pipeline_name  train score  mean_cv_score  \\\n",
       "0        svc  RewP_Anxiety_band_0_svc     0.648972       0.621032   \n",
       "\n",
       "                                          best_model  \\\n",
       "0  (CSP({'component_order': 'mutual_info',\\n 'cov...   \n",
       "\n",
       "                                          parameters    pvalue  \\\n",
       "0  {'csp__n_components': 1, 'csp__reg': 0.1, 'svc...  0.004995   \n",
       "\n",
       "   split0_test_roc_auc  split1_test_roc_auc  split2_test_roc_auc  \\\n",
       "0             0.473923             0.680952              0.67381   \n",
       "\n",
       "   mean_test_recall  mean_test_balanced_accuracy  mean_test_roc_auc  \\\n",
       "0          0.746032                     0.621032           0.609562   \n",
       "\n",
       "   mean_test_precision  \n",
       "0             0.615359  "
      ]
     },
     "execution_count": 70,
     "metadata": {},
     "output_type": "execute_result"
    }
   ],
   "source": [
    "results_anx_rewp_df"
   ]
  },
  {
   "cell_type": "code",
   "execution_count": 71,
   "metadata": {},
   "outputs": [
    {
     "data": {
      "text/html": [
       "<div>\n",
       "<style scoped>\n",
       "    .dataframe tbody tr th:only-of-type {\n",
       "        vertical-align: middle;\n",
       "    }\n",
       "\n",
       "    .dataframe tbody tr th {\n",
       "        vertical-align: top;\n",
       "    }\n",
       "\n",
       "    .dataframe thead th {\n",
       "        text-align: right;\n",
       "    }\n",
       "</style>\n",
       "<table border=\"1\" class=\"dataframe\">\n",
       "  <thead>\n",
       "    <tr style=\"text-align: right;\">\n",
       "      <th></th>\n",
       "      <th>model_name</th>\n",
       "      <th>pipeline_name</th>\n",
       "      <th>train score</th>\n",
       "      <th>mean_cv_score</th>\n",
       "      <th>best_model</th>\n",
       "      <th>parameters</th>\n",
       "      <th>pvalue</th>\n",
       "      <th>split0_test_roc_auc</th>\n",
       "      <th>split1_test_roc_auc</th>\n",
       "      <th>split2_test_roc_auc</th>\n",
       "      <th>mean_test_recall</th>\n",
       "      <th>mean_test_balanced_accuracy</th>\n",
       "      <th>mean_test_roc_auc</th>\n",
       "      <th>mean_test_precision</th>\n",
       "    </tr>\n",
       "  </thead>\n",
       "  <tbody>\n",
       "    <tr>\n",
       "      <th>0</th>\n",
       "      <td>svc</td>\n",
       "      <td>FRN_Anxiety_band_0_svc</td>\n",
       "      <td>0.92649</td>\n",
       "      <td>0.573016</td>\n",
       "      <td>(CSP({'component_order': 'mutual_info',\\n 'cov...</td>\n",
       "      <td>{'csp__n_components': 3, 'csp__reg': 0.1, 'svc...</td>\n",
       "      <td>0.081918</td>\n",
       "      <td>0.45805</td>\n",
       "      <td>0.566667</td>\n",
       "      <td>0.62381</td>\n",
       "      <td>0.571429</td>\n",
       "      <td>0.573016</td>\n",
       "      <td>0.549509</td>\n",
       "      <td>0.579479</td>\n",
       "    </tr>\n",
       "  </tbody>\n",
       "</table>\n",
       "</div>"
      ],
      "text/plain": [
       "  model_name           pipeline_name  train score  mean_cv_score  \\\n",
       "0        svc  FRN_Anxiety_band_0_svc      0.92649       0.573016   \n",
       "\n",
       "                                          best_model  \\\n",
       "0  (CSP({'component_order': 'mutual_info',\\n 'cov...   \n",
       "\n",
       "                                          parameters    pvalue  \\\n",
       "0  {'csp__n_components': 3, 'csp__reg': 0.1, 'svc...  0.081918   \n",
       "\n",
       "   split0_test_roc_auc  split1_test_roc_auc  split2_test_roc_auc  \\\n",
       "0              0.45805             0.566667              0.62381   \n",
       "\n",
       "   mean_test_recall  mean_test_balanced_accuracy  mean_test_roc_auc  \\\n",
       "0          0.571429                     0.573016           0.549509   \n",
       "\n",
       "   mean_test_precision  \n",
       "0             0.579479  "
      ]
     },
     "execution_count": 71,
     "metadata": {},
     "output_type": "execute_result"
    }
   ],
   "source": [
    "results_anx_frn_df"
   ]
  },
  {
   "cell_type": "code",
   "execution_count": 72,
   "metadata": {},
   "outputs": [],
   "source": [
    "index = 0"
   ]
  },
  {
   "cell_type": "code",
   "execution_count": 73,
   "metadata": {},
   "outputs": [
    {
     "data": {
      "text/html": [
       "<style>#sk-container-id-3 {color: black;background-color: white;}#sk-container-id-3 pre{padding: 0;}#sk-container-id-3 div.sk-toggleable {background-color: white;}#sk-container-id-3 label.sk-toggleable__label {cursor: pointer;display: block;width: 100%;margin-bottom: 0;padding: 0.3em;box-sizing: border-box;text-align: center;}#sk-container-id-3 label.sk-toggleable__label-arrow:before {content: \"▸\";float: left;margin-right: 0.25em;color: #696969;}#sk-container-id-3 label.sk-toggleable__label-arrow:hover:before {color: black;}#sk-container-id-3 div.sk-estimator:hover label.sk-toggleable__label-arrow:before {color: black;}#sk-container-id-3 div.sk-toggleable__content {max-height: 0;max-width: 0;overflow: hidden;text-align: left;background-color: #f0f8ff;}#sk-container-id-3 div.sk-toggleable__content pre {margin: 0.2em;color: black;border-radius: 0.25em;background-color: #f0f8ff;}#sk-container-id-3 input.sk-toggleable__control:checked~div.sk-toggleable__content {max-height: 200px;max-width: 100%;overflow: auto;}#sk-container-id-3 input.sk-toggleable__control:checked~label.sk-toggleable__label-arrow:before {content: \"▾\";}#sk-container-id-3 div.sk-estimator input.sk-toggleable__control:checked~label.sk-toggleable__label {background-color: #d4ebff;}#sk-container-id-3 div.sk-label input.sk-toggleable__control:checked~label.sk-toggleable__label {background-color: #d4ebff;}#sk-container-id-3 input.sk-hidden--visually {border: 0;clip: rect(1px 1px 1px 1px);clip: rect(1px, 1px, 1px, 1px);height: 1px;margin: -1px;overflow: hidden;padding: 0;position: absolute;width: 1px;}#sk-container-id-3 div.sk-estimator {font-family: monospace;background-color: #f0f8ff;border: 1px dotted black;border-radius: 0.25em;box-sizing: border-box;margin-bottom: 0.5em;}#sk-container-id-3 div.sk-estimator:hover {background-color: #d4ebff;}#sk-container-id-3 div.sk-parallel-item::after {content: \"\";width: 100%;border-bottom: 1px solid gray;flex-grow: 1;}#sk-container-id-3 div.sk-label:hover label.sk-toggleable__label {background-color: #d4ebff;}#sk-container-id-3 div.sk-serial::before {content: \"\";position: absolute;border-left: 1px solid gray;box-sizing: border-box;top: 0;bottom: 0;left: 50%;z-index: 0;}#sk-container-id-3 div.sk-serial {display: flex;flex-direction: column;align-items: center;background-color: white;padding-right: 0.2em;padding-left: 0.2em;position: relative;}#sk-container-id-3 div.sk-item {position: relative;z-index: 1;}#sk-container-id-3 div.sk-parallel {display: flex;align-items: stretch;justify-content: center;background-color: white;position: relative;}#sk-container-id-3 div.sk-item::before, #sk-container-id-3 div.sk-parallel-item::before {content: \"\";position: absolute;border-left: 1px solid gray;box-sizing: border-box;top: 0;bottom: 0;left: 50%;z-index: -1;}#sk-container-id-3 div.sk-parallel-item {display: flex;flex-direction: column;z-index: 1;position: relative;background-color: white;}#sk-container-id-3 div.sk-parallel-item:first-child::after {align-self: flex-end;width: 50%;}#sk-container-id-3 div.sk-parallel-item:last-child::after {align-self: flex-start;width: 50%;}#sk-container-id-3 div.sk-parallel-item:only-child::after {width: 0;}#sk-container-id-3 div.sk-dashed-wrapped {border: 1px dashed gray;margin: 0 0.4em 0.5em 0.4em;box-sizing: border-box;padding-bottom: 0.4em;background-color: white;}#sk-container-id-3 div.sk-label label {font-family: monospace;font-weight: bold;display: inline-block;line-height: 1.2em;}#sk-container-id-3 div.sk-label-container {text-align: center;}#sk-container-id-3 div.sk-container {/* jupyter's `normalize.less` sets `[hidden] { display: none; }` but bootstrap.min.css set `[hidden] { display: none !important; }` so we also need the `!important` here to be able to override the default hidden behavior on the sphinx rendered scikit-learn.org. See: https://github.com/scikit-learn/scikit-learn/issues/21755 */display: inline-block !important;position: relative;}#sk-container-id-3 div.sk-text-repr-fallback {display: none;}</style><div id=\"sk-container-id-3\" class=\"sk-top-container\"><div class=\"sk-text-repr-fallback\"><pre>Pipeline(steps=[(&#x27;csp&#x27;,\n",
       "                 CSP({&#x27;component_order&#x27;: &#x27;mutual_info&#x27;,\n",
       " &#x27;cov_est&#x27;: &#x27;concat&#x27;,\n",
       " &#x27;cov_method_params&#x27;: None,\n",
       " &#x27;log&#x27;: None,\n",
       " &#x27;n_components&#x27;: 1,\n",
       " &#x27;norm_trace&#x27;: False,\n",
       " &#x27;rank&#x27;: None,\n",
       " &#x27;reg&#x27;: 0.1,\n",
       " &#x27;transform_into&#x27;: &#x27;average_power&#x27;})),\n",
       "                (&#x27;vec&#x27;,\n",
       "                 &lt;mne.decoding.transformer.Vectorizer object at 0x7f56e4a12730&gt;),\n",
       "                (&#x27;svc&#x27;, SVC(C=10))])</pre><b>In a Jupyter environment, please rerun this cell to show the HTML representation or trust the notebook. <br />On GitHub, the HTML representation is unable to render, please try loading this page with nbviewer.org.</b></div><div class=\"sk-container\" hidden><div class=\"sk-item sk-dashed-wrapped\"><div class=\"sk-label-container\"><div class=\"sk-label sk-toggleable\"><input class=\"sk-toggleable__control sk-hidden--visually\" id=\"sk-estimator-id-9\" type=\"checkbox\" ><label for=\"sk-estimator-id-9\" class=\"sk-toggleable__label sk-toggleable__label-arrow\">Pipeline</label><div class=\"sk-toggleable__content\"><pre>Pipeline(steps=[(&#x27;csp&#x27;,\n",
       "                 CSP({&#x27;component_order&#x27;: &#x27;mutual_info&#x27;,\n",
       " &#x27;cov_est&#x27;: &#x27;concat&#x27;,\n",
       " &#x27;cov_method_params&#x27;: None,\n",
       " &#x27;log&#x27;: None,\n",
       " &#x27;n_components&#x27;: 1,\n",
       " &#x27;norm_trace&#x27;: False,\n",
       " &#x27;rank&#x27;: None,\n",
       " &#x27;reg&#x27;: 0.1,\n",
       " &#x27;transform_into&#x27;: &#x27;average_power&#x27;})),\n",
       "                (&#x27;vec&#x27;,\n",
       "                 &lt;mne.decoding.transformer.Vectorizer object at 0x7f56e4a12730&gt;),\n",
       "                (&#x27;svc&#x27;, SVC(C=10))])</pre></div></div></div><div class=\"sk-serial\"><div class=\"sk-item\"><div class=\"sk-estimator sk-toggleable\"><input class=\"sk-toggleable__control sk-hidden--visually\" id=\"sk-estimator-id-10\" type=\"checkbox\" ><label for=\"sk-estimator-id-10\" class=\"sk-toggleable__label sk-toggleable__label-arrow\">CSP</label><div class=\"sk-toggleable__content\"><pre>CSP({&#x27;component_order&#x27;: &#x27;mutual_info&#x27;,\n",
       " &#x27;cov_est&#x27;: &#x27;concat&#x27;,\n",
       " &#x27;cov_method_params&#x27;: None,\n",
       " &#x27;log&#x27;: None,\n",
       " &#x27;n_components&#x27;: 1,\n",
       " &#x27;norm_trace&#x27;: False,\n",
       " &#x27;rank&#x27;: None,\n",
       " &#x27;reg&#x27;: 0.1,\n",
       " &#x27;transform_into&#x27;: &#x27;average_power&#x27;})</pre></div></div></div><div class=\"sk-item\"><div class=\"sk-estimator sk-toggleable\"><input class=\"sk-toggleable__control sk-hidden--visually\" id=\"sk-estimator-id-11\" type=\"checkbox\" ><label for=\"sk-estimator-id-11\" class=\"sk-toggleable__label sk-toggleable__label-arrow\">Vectorizer</label><div class=\"sk-toggleable__content\"><pre>&lt;mne.decoding.transformer.Vectorizer object at 0x7f56e4a12730&gt;</pre></div></div></div><div class=\"sk-item\"><div class=\"sk-estimator sk-toggleable\"><input class=\"sk-toggleable__control sk-hidden--visually\" id=\"sk-estimator-id-12\" type=\"checkbox\" ><label for=\"sk-estimator-id-12\" class=\"sk-toggleable__label sk-toggleable__label-arrow\">SVC</label><div class=\"sk-toggleable__content\"><pre>SVC(C=10)</pre></div></div></div></div></div></div></div>"
      ],
      "text/plain": [
       "Pipeline(steps=[('csp',\n",
       "                 CSP({'component_order': 'mutual_info',\n",
       " 'cov_est': 'concat',\n",
       " 'cov_method_params': None,\n",
       " 'log': None,\n",
       " 'n_components': 1,\n",
       " 'norm_trace': False,\n",
       " 'rank': None,\n",
       " 'reg': 0.1,\n",
       " 'transform_into': 'average_power'})),\n",
       "                ('vec',\n",
       "                 <mne.decoding.transformer.Vectorizer object at 0x7f56e4a12730>),\n",
       "                ('svc', SVC(C=10))])"
      ]
     },
     "execution_count": 73,
     "metadata": {},
     "output_type": "execute_result"
    }
   ],
   "source": [
    "anx_rewp_model = results_anx_rewp_df.iloc[index].best_model\n",
    "anx_rewp_model"
   ]
  },
  {
   "cell_type": "code",
   "execution_count": 74,
   "metadata": {},
   "outputs": [
    {
     "data": {
      "text/html": [
       "<style>#sk-container-id-4 {color: black;background-color: white;}#sk-container-id-4 pre{padding: 0;}#sk-container-id-4 div.sk-toggleable {background-color: white;}#sk-container-id-4 label.sk-toggleable__label {cursor: pointer;display: block;width: 100%;margin-bottom: 0;padding: 0.3em;box-sizing: border-box;text-align: center;}#sk-container-id-4 label.sk-toggleable__label-arrow:before {content: \"▸\";float: left;margin-right: 0.25em;color: #696969;}#sk-container-id-4 label.sk-toggleable__label-arrow:hover:before {color: black;}#sk-container-id-4 div.sk-estimator:hover label.sk-toggleable__label-arrow:before {color: black;}#sk-container-id-4 div.sk-toggleable__content {max-height: 0;max-width: 0;overflow: hidden;text-align: left;background-color: #f0f8ff;}#sk-container-id-4 div.sk-toggleable__content pre {margin: 0.2em;color: black;border-radius: 0.25em;background-color: #f0f8ff;}#sk-container-id-4 input.sk-toggleable__control:checked~div.sk-toggleable__content {max-height: 200px;max-width: 100%;overflow: auto;}#sk-container-id-4 input.sk-toggleable__control:checked~label.sk-toggleable__label-arrow:before {content: \"▾\";}#sk-container-id-4 div.sk-estimator input.sk-toggleable__control:checked~label.sk-toggleable__label {background-color: #d4ebff;}#sk-container-id-4 div.sk-label input.sk-toggleable__control:checked~label.sk-toggleable__label {background-color: #d4ebff;}#sk-container-id-4 input.sk-hidden--visually {border: 0;clip: rect(1px 1px 1px 1px);clip: rect(1px, 1px, 1px, 1px);height: 1px;margin: -1px;overflow: hidden;padding: 0;position: absolute;width: 1px;}#sk-container-id-4 div.sk-estimator {font-family: monospace;background-color: #f0f8ff;border: 1px dotted black;border-radius: 0.25em;box-sizing: border-box;margin-bottom: 0.5em;}#sk-container-id-4 div.sk-estimator:hover {background-color: #d4ebff;}#sk-container-id-4 div.sk-parallel-item::after {content: \"\";width: 100%;border-bottom: 1px solid gray;flex-grow: 1;}#sk-container-id-4 div.sk-label:hover label.sk-toggleable__label {background-color: #d4ebff;}#sk-container-id-4 div.sk-serial::before {content: \"\";position: absolute;border-left: 1px solid gray;box-sizing: border-box;top: 0;bottom: 0;left: 50%;z-index: 0;}#sk-container-id-4 div.sk-serial {display: flex;flex-direction: column;align-items: center;background-color: white;padding-right: 0.2em;padding-left: 0.2em;position: relative;}#sk-container-id-4 div.sk-item {position: relative;z-index: 1;}#sk-container-id-4 div.sk-parallel {display: flex;align-items: stretch;justify-content: center;background-color: white;position: relative;}#sk-container-id-4 div.sk-item::before, #sk-container-id-4 div.sk-parallel-item::before {content: \"\";position: absolute;border-left: 1px solid gray;box-sizing: border-box;top: 0;bottom: 0;left: 50%;z-index: -1;}#sk-container-id-4 div.sk-parallel-item {display: flex;flex-direction: column;z-index: 1;position: relative;background-color: white;}#sk-container-id-4 div.sk-parallel-item:first-child::after {align-self: flex-end;width: 50%;}#sk-container-id-4 div.sk-parallel-item:last-child::after {align-self: flex-start;width: 50%;}#sk-container-id-4 div.sk-parallel-item:only-child::after {width: 0;}#sk-container-id-4 div.sk-dashed-wrapped {border: 1px dashed gray;margin: 0 0.4em 0.5em 0.4em;box-sizing: border-box;padding-bottom: 0.4em;background-color: white;}#sk-container-id-4 div.sk-label label {font-family: monospace;font-weight: bold;display: inline-block;line-height: 1.2em;}#sk-container-id-4 div.sk-label-container {text-align: center;}#sk-container-id-4 div.sk-container {/* jupyter's `normalize.less` sets `[hidden] { display: none; }` but bootstrap.min.css set `[hidden] { display: none !important; }` so we also need the `!important` here to be able to override the default hidden behavior on the sphinx rendered scikit-learn.org. See: https://github.com/scikit-learn/scikit-learn/issues/21755 */display: inline-block !important;position: relative;}#sk-container-id-4 div.sk-text-repr-fallback {display: none;}</style><div id=\"sk-container-id-4\" class=\"sk-top-container\"><div class=\"sk-text-repr-fallback\"><pre>Pipeline(steps=[(&#x27;csp&#x27;,\n",
       "                 CSP({&#x27;component_order&#x27;: &#x27;mutual_info&#x27;,\n",
       " &#x27;cov_est&#x27;: &#x27;concat&#x27;,\n",
       " &#x27;cov_method_params&#x27;: None,\n",
       " &#x27;log&#x27;: None,\n",
       " &#x27;n_components&#x27;: 3,\n",
       " &#x27;norm_trace&#x27;: False,\n",
       " &#x27;rank&#x27;: None,\n",
       " &#x27;reg&#x27;: 0.1,\n",
       " &#x27;transform_into&#x27;: &#x27;average_power&#x27;})),\n",
       "                (&#x27;vec&#x27;,\n",
       "                 &lt;mne.decoding.transformer.Vectorizer object at 0x7f56e2c09f10&gt;),\n",
       "                (&#x27;svc&#x27;, SVC(C=1000))])</pre><b>In a Jupyter environment, please rerun this cell to show the HTML representation or trust the notebook. <br />On GitHub, the HTML representation is unable to render, please try loading this page with nbviewer.org.</b></div><div class=\"sk-container\" hidden><div class=\"sk-item sk-dashed-wrapped\"><div class=\"sk-label-container\"><div class=\"sk-label sk-toggleable\"><input class=\"sk-toggleable__control sk-hidden--visually\" id=\"sk-estimator-id-13\" type=\"checkbox\" ><label for=\"sk-estimator-id-13\" class=\"sk-toggleable__label sk-toggleable__label-arrow\">Pipeline</label><div class=\"sk-toggleable__content\"><pre>Pipeline(steps=[(&#x27;csp&#x27;,\n",
       "                 CSP({&#x27;component_order&#x27;: &#x27;mutual_info&#x27;,\n",
       " &#x27;cov_est&#x27;: &#x27;concat&#x27;,\n",
       " &#x27;cov_method_params&#x27;: None,\n",
       " &#x27;log&#x27;: None,\n",
       " &#x27;n_components&#x27;: 3,\n",
       " &#x27;norm_trace&#x27;: False,\n",
       " &#x27;rank&#x27;: None,\n",
       " &#x27;reg&#x27;: 0.1,\n",
       " &#x27;transform_into&#x27;: &#x27;average_power&#x27;})),\n",
       "                (&#x27;vec&#x27;,\n",
       "                 &lt;mne.decoding.transformer.Vectorizer object at 0x7f56e2c09f10&gt;),\n",
       "                (&#x27;svc&#x27;, SVC(C=1000))])</pre></div></div></div><div class=\"sk-serial\"><div class=\"sk-item\"><div class=\"sk-estimator sk-toggleable\"><input class=\"sk-toggleable__control sk-hidden--visually\" id=\"sk-estimator-id-14\" type=\"checkbox\" ><label for=\"sk-estimator-id-14\" class=\"sk-toggleable__label sk-toggleable__label-arrow\">CSP</label><div class=\"sk-toggleable__content\"><pre>CSP({&#x27;component_order&#x27;: &#x27;mutual_info&#x27;,\n",
       " &#x27;cov_est&#x27;: &#x27;concat&#x27;,\n",
       " &#x27;cov_method_params&#x27;: None,\n",
       " &#x27;log&#x27;: None,\n",
       " &#x27;n_components&#x27;: 3,\n",
       " &#x27;norm_trace&#x27;: False,\n",
       " &#x27;rank&#x27;: None,\n",
       " &#x27;reg&#x27;: 0.1,\n",
       " &#x27;transform_into&#x27;: &#x27;average_power&#x27;})</pre></div></div></div><div class=\"sk-item\"><div class=\"sk-estimator sk-toggleable\"><input class=\"sk-toggleable__control sk-hidden--visually\" id=\"sk-estimator-id-15\" type=\"checkbox\" ><label for=\"sk-estimator-id-15\" class=\"sk-toggleable__label sk-toggleable__label-arrow\">Vectorizer</label><div class=\"sk-toggleable__content\"><pre>&lt;mne.decoding.transformer.Vectorizer object at 0x7f56e2c09f10&gt;</pre></div></div></div><div class=\"sk-item\"><div class=\"sk-estimator sk-toggleable\"><input class=\"sk-toggleable__control sk-hidden--visually\" id=\"sk-estimator-id-16\" type=\"checkbox\" ><label for=\"sk-estimator-id-16\" class=\"sk-toggleable__label sk-toggleable__label-arrow\">SVC</label><div class=\"sk-toggleable__content\"><pre>SVC(C=1000)</pre></div></div></div></div></div></div></div>"
      ],
      "text/plain": [
       "Pipeline(steps=[('csp',\n",
       "                 CSP({'component_order': 'mutual_info',\n",
       " 'cov_est': 'concat',\n",
       " 'cov_method_params': None,\n",
       " 'log': None,\n",
       " 'n_components': 3,\n",
       " 'norm_trace': False,\n",
       " 'rank': None,\n",
       " 'reg': 0.1,\n",
       " 'transform_into': 'average_power'})),\n",
       "                ('vec',\n",
       "                 <mne.decoding.transformer.Vectorizer object at 0x7f56e2c09f10>),\n",
       "                ('svc', SVC(C=1000))])"
      ]
     },
     "execution_count": 74,
     "metadata": {},
     "output_type": "execute_result"
    }
   ],
   "source": [
    "anx_frn_model = results_anx_frn_df.iloc[index].best_model\n",
    "anx_frn_model"
   ]
  },
  {
   "cell_type": "code",
   "execution_count": 304,
   "metadata": {},
   "outputs": [],
   "source": [
    "X_rewp = rewp_anxiety_datasets[index]\n",
    "X_frn = frn_anxiety_datasets[index]"
   ]
  },
  {
   "cell_type": "markdown",
   "metadata": {},
   "source": [
    "- Balanced Accuracy"
   ]
  },
  {
   "cell_type": "code",
   "execution_count": 305,
   "metadata": {},
   "outputs": [],
   "source": [
    "%%capture\n",
    "\n",
    "t, p = paired_ttest_nandeu(\n",
    "    estimator1=anx_rewp_model,\n",
    "    estimator2=anx_frn_model,\n",
    "    X_1=X_rewp,\n",
    "    X_2=X_frn, \n",
    "    y=y,\n",
    "    random_state=random_state,\n",
    "    scoring='balanced_accuracy'\n",
    ")"
   ]
  },
  {
   "cell_type": "code",
   "execution_count": 306,
   "metadata": {},
   "outputs": [
    {
     "name": "stdout",
     "output_type": "stream",
     "text": [
      "t statistic: -0.788\n",
      "p value: 0.216\n"
     ]
    }
   ],
   "source": [
    "print('t statistic: %.3f' % t)\n",
    "print('p value: %.3f' % p)"
   ]
  },
  {
   "cell_type": "markdown",
   "metadata": {},
   "source": [
    "- Roc AUC"
   ]
  },
  {
   "cell_type": "code",
   "execution_count": 307,
   "metadata": {},
   "outputs": [],
   "source": [
    "%%capture\n",
    "\n",
    "t, p = paired_ttest_nandeu(\n",
    "    estimator1=anx_rewp_model,\n",
    "    estimator2=anx_frn_model,\n",
    "    X_1=X_rewp,\n",
    "    X_2=X_frn, \n",
    "    y=y,\n",
    "    random_state=random_state,\n",
    "    scoring='roc_auc'\n",
    ")"
   ]
  },
  {
   "cell_type": "code",
   "execution_count": 308,
   "metadata": {},
   "outputs": [
    {
     "name": "stdout",
     "output_type": "stream",
     "text": [
      "t statistic: -0.633\n",
      "p value: 0.264\n"
     ]
    }
   ],
   "source": [
    "print('t statistic: %.3f' % t)\n",
    "print('p value: %.3f' % p)"
   ]
  },
  {
   "cell_type": "markdown",
   "metadata": {},
   "source": [
    "- precision"
   ]
  },
  {
   "cell_type": "code",
   "execution_count": 309,
   "metadata": {},
   "outputs": [],
   "source": [
    "%%capture\n",
    "\n",
    "t, p = paired_ttest_nandeu(\n",
    "    estimator1=anx_rewp_model,\n",
    "    estimator2=anx_frn_model,\n",
    "    X_1=X_rewp,\n",
    "    X_2=X_frn, \n",
    "    y=y,\n",
    "    random_state=random_state,\n",
    "    scoring='precision'\n",
    ")"
   ]
  },
  {
   "cell_type": "code",
   "execution_count": 310,
   "metadata": {},
   "outputs": [
    {
     "name": "stdout",
     "output_type": "stream",
     "text": [
      "t statistic: -1.054\n",
      "p value: 0.147\n"
     ]
    }
   ],
   "source": [
    "print('t statistic: %.3f' % t)\n",
    "print('p value: %.3f' % p)"
   ]
  },
  {
   "cell_type": "markdown",
   "metadata": {},
   "source": [
    "- recall"
   ]
  },
  {
   "cell_type": "code",
   "execution_count": 311,
   "metadata": {},
   "outputs": [],
   "source": [
    "%%capture\n",
    "\n",
    "t, p = paired_ttest_nandeu(\n",
    "    estimator1=anx_rewp_model,\n",
    "    estimator2=anx_frn_model,\n",
    "    X_1=X_rewp,\n",
    "    X_2=X_frn, \n",
    "    y=y,\n",
    "    random_state=random_state,\n",
    "    scoring='recall'\n",
    ")"
   ]
  },
  {
   "cell_type": "code",
   "execution_count": 312,
   "metadata": {},
   "outputs": [
    {
     "name": "stdout",
     "output_type": "stream",
     "text": [
      "t statistic: 0.312\n",
      "p value: 0.378\n"
     ]
    }
   ],
   "source": [
    "print('t statistic: %.3f' % t)\n",
    "print('p value: %.3f' % p)"
   ]
  },
  {
   "cell_type": "markdown",
   "metadata": {},
   "source": [
    "- F1"
   ]
  },
  {
   "cell_type": "code",
   "execution_count": 313,
   "metadata": {},
   "outputs": [],
   "source": [
    "%%capture\n",
    "\n",
    "t, p = paired_ttest_nandeu(\n",
    "    estimator1=anx_rewp_model,\n",
    "    estimator2=anx_frn_model,\n",
    "    X_1=X_rewp,\n",
    "    X_2=X_frn, \n",
    "    y=y,\n",
    "    random_state=random_state,\n",
    "    scoring='f1'\n",
    ")"
   ]
  },
  {
   "cell_type": "code",
   "execution_count": 314,
   "metadata": {},
   "outputs": [
    {
     "name": "stdout",
     "output_type": "stream",
     "text": [
      "t statistic: -0.334\n",
      "p value: 0.369\n"
     ]
    }
   ],
   "source": [
    "print('t statistic: %.3f' % t)\n",
    "print('p value: %.3f' % p)"
   ]
  },
  {
   "cell_type": "markdown",
   "metadata": {},
   "source": [
    "Visualize difference between FRN and RewP models"
   ]
  },
  {
   "cell_type": "code",
   "execution_count": 315,
   "metadata": {
    "colab": {
     "base_uri": "https://localhost:8080/"
    },
    "executionInfo": {
     "elapsed": 4,
     "status": "ok",
     "timestamp": 1677516452928,
     "user": {
      "displayName": "Anna Grabowska",
      "userId": "15734344613010880864"
     },
     "user_tz": -60
    },
    "id": "824FRKiAweds",
    "outputId": "a8affbdc-2c93-462c-d952-df11bc0ff221"
   },
   "outputs": [],
   "source": [
    "%%capture\n",
    "\n",
    "cv = RepeatedStratifiedKFold(n_splits=10, n_repeats=10, random_state=random_state)\n",
    "\n",
    "cv_scores_1 = cross_val_score(anx_rewp_model, X_rewp, y, cv=cv, scoring='balanced_accuracy')\n",
    "cv_scores_2 = cross_val_score(anx_frn_model, X_frn, y, cv=cv,  scoring='balanced_accuracy')"
   ]
  },
  {
   "cell_type": "code",
   "execution_count": 316,
   "metadata": {},
   "outputs": [],
   "source": [
    "cv_results_df = pd.DataFrame({\n",
    "    \"RewP\": cv_scores_1,\n",
    "    \"FRN\": cv_scores_2,\n",
    "})"
   ]
  },
  {
   "cell_type": "code",
   "execution_count": 317,
   "metadata": {},
   "outputs": [
    {
     "data": {
      "image/png": "[encoded data removed]",
      "text/plain": [
       "<Figure size 432x288 with 1 Axes>"
      ]
     },
     "metadata": {
      "needs_background": "light"
     },
     "output_type": "display_data"
    }
   ],
   "source": [
    "fig = sns.histplot(data=cv_results_df, bins=9, kde=True)"
   ]
  },
  {
   "cell_type": "code",
   "execution_count": 318,
   "metadata": {
    "colab": {
     "base_uri": "https://localhost:8080/"
    },
    "executionInfo": {
     "elapsed": 4,
     "status": "ok",
     "timestamp": 1677516452928,
     "user": {
      "displayName": "Anna Grabowska",
      "userId": "15734344613010880864"
     },
     "user_tz": -60
    },
    "id": "824FRKiAweds",
    "outputId": "a8affbdc-2c93-462c-d952-df11bc0ff221"
   },
   "outputs": [],
   "source": [
    "%%capture\n",
    "\n",
    "cv = RepeatedStratifiedKFold(n_splits=10, n_repeats=10, random_state=random_state)\n",
    "\n",
    "cv_scores_1 = cross_val_score(anx_rewp_model, X_rewp, y, cv=cv, scoring='roc_auc')\n",
    "cv_scores_2 = cross_val_score(anx_frn_model, X_frn, y, cv=cv,  scoring='roc_auc')"
   ]
  },
  {
   "cell_type": "code",
   "execution_count": 319,
   "metadata": {},
   "outputs": [],
   "source": [
    "cv_results_df = pd.DataFrame({\n",
    "    \"RewP\": cv_scores_1,\n",
    "    \"FRN\": cv_scores_2,\n",
    "})"
   ]
  },
  {
   "cell_type": "code",
   "execution_count": 320,
   "metadata": {},
   "outputs": [
    {
     "data": {
      "image/png": "[encoded data removed]",
      "text/plain": [
       "<Figure size 432x288 with 1 Axes>"
      ]
     },
     "metadata": {
      "needs_background": "light"
     },
     "output_type": "display_data"
    }
   ],
   "source": [
    "fig = sns.histplot(data=cv_results_df, bins=9, kde=True)"
   ]
  },
  {
   "cell_type": "code",
   "execution_count": null,
   "metadata": {},
   "outputs": [],
   "source": []
  },
  {
   "cell_type": "code",
   "execution_count": null,
   "metadata": {},
   "outputs": [],
   "source": []
  },
  {
   "cell_type": "code",
   "execution_count": null,
   "metadata": {},
   "outputs": [],
   "source": []
  },
  {
   "cell_type": "markdown",
   "metadata": {},
   "source": [
    "---"
   ]
  },
  {
   "cell_type": "code",
   "execution_count": 579,
   "metadata": {
    "id": "5xtHJW4tugMm"
   },
   "outputs": [],
   "source": [
    "tmin = 0.25\n",
    "tmax = 0.35\n",
    "\n",
    "anx_rewp_data = [epoch['good'].average().get_data(tmin=tmin, tmax=tmax,) for epoch in anx_epochs]\n",
    "ctrl_rewp_data = [epoch['good'].average().get_data(tmin=tmin, tmax=tmax,) for epoch in ctrl_anx_epochs]"
   ]
  },
  {
   "cell_type": "code",
   "execution_count": 580,
   "metadata": {
    "colab": {
     "background_save": true
    },
    "id": "MpZMrKhCsKGO",
    "tags": []
   },
   "outputs": [],
   "source": [
    "X_rewp = np.array(anx_rewp_data + ctrl_rewp_data)"
   ]
  },
  {
   "cell_type": "code",
   "execution_count": 581,
   "metadata": {
    "id": "vcTUfJ4x1oij"
   },
   "outputs": [],
   "source": [
    "tmin = 0.25\n",
    "tmax = 0.37\n",
    "\n",
    "anx_frn_data = [epoch['bad'].average().get_data(tmin=tmin, tmax=tmax,) for epoch in anx_epochs]\n",
    "ctrl_frn_data = [epoch['bad'].average().get_data(tmin=tmin, tmax=tmax,) for epoch in ctrl_anx_epochs]"
   ]
  },
  {
   "cell_type": "code",
   "execution_count": 582,
   "metadata": {
    "id": "1L-jv3Vx1oij"
   },
   "outputs": [],
   "source": [
    "X_frn = np.array(anx_frn_data + ctrl_frn_data)"
   ]
  },
  {
   "cell_type": "markdown",
   "metadata": {},
   "source": [
    "#### Plot differences between all Anxiety Models\n",
    "To see which RewP and FRN models are the best"
   ]
  },
  {
   "cell_type": "code",
   "execution_count": 160,
   "metadata": {
    "colab": {
     "base_uri": "https://localhost:8080/"
    },
    "executionInfo": {
     "elapsed": 4,
     "status": "ok",
     "timestamp": 1677516452928,
     "user": {
      "displayName": "Anna Grabowska",
      "userId": "15734344613010880864"
     },
     "user_tz": -60
    },
    "id": "824FRKiAweds",
    "outputId": "a8affbdc-2c93-462c-d952-df11bc0ff221"
   },
   "outputs": [],
   "source": [
    "%%capture\n",
    "\n",
    "cv = RepeatedStratifiedKFold(n_splits=10, n_repeats=10, random_state=random_state)\n",
    "\n",
    "cv_results_df = pd.DataFrame()\n",
    "\n",
    "cv_scores_rewp_delta = cross_val_score(results_anx_rewp_df.iloc[0].best_model, rewp_anxiety_datasets[0], y, cv=cv, scoring='balanced_accuracy')\n",
    "cv_scores_rewp_theta = cross_val_score(results_anx_rewp_df.iloc[1].best_model, rewp_anxiety_datasets[1], y, cv=cv, scoring='balanced_accuracy')\n",
    "cv_scores_frn_delta = cross_val_score(results_anx_frn_df.iloc[0].best_model, frn_anxiety_datasets[0], y, cv=cv, scoring='balanced_accuracy')\n",
    "cv_scores_frn_theta = cross_val_score(results_anx_frn_df.iloc[1].best_model, frn_anxiety_datasets[1], y, cv=cv,scoring='balanced_accuracy')\n",
    "    \n",
    "cv_results_df[\"RewP_delta\"] = cv_scores_rewp_delta\n",
    "cv_results_df[\"RewP_theta\"] = cv_scores_rewp_theta\n",
    "cv_results_df[\"FRN_delta\"] = cv_scores_frn_delta\n",
    "cv_results_df[\"FRN_theta\"] = cv_scores_frn_theta"
   ]
  },
  {
   "cell_type": "code",
   "execution_count": 161,
   "metadata": {
    "tags": []
   },
   "outputs": [
    {
     "data": {
      "text/html": [
       "<div>\n",
       "<style scoped>\n",
       "    .dataframe tbody tr th:only-of-type {\n",
       "        vertical-align: middle;\n",
       "    }\n",
       "\n",
       "    .dataframe tbody tr th {\n",
       "        vertical-align: top;\n",
       "    }\n",
       "\n",
       "    .dataframe thead th {\n",
       "        text-align: right;\n",
       "    }\n",
       "</style>\n",
       "<table border=\"1\" class=\"dataframe\">\n",
       "  <thead>\n",
       "    <tr style=\"text-align: right;\">\n",
       "      <th></th>\n",
       "      <th>RewP_delta</th>\n",
       "      <th>RewP_theta</th>\n",
       "      <th>FRN_delta</th>\n",
       "      <th>FRN_theta</th>\n",
       "    </tr>\n",
       "  </thead>\n",
       "  <tbody>\n",
       "    <tr>\n",
       "      <th>0</th>\n",
       "      <td>0.666667</td>\n",
       "      <td>0.166667</td>\n",
       "      <td>0.500000</td>\n",
       "      <td>0.833333</td>\n",
       "    </tr>\n",
       "    <tr>\n",
       "      <th>1</th>\n",
       "      <td>0.833333</td>\n",
       "      <td>0.166667</td>\n",
       "      <td>0.666667</td>\n",
       "      <td>0.500000</td>\n",
       "    </tr>\n",
       "    <tr>\n",
       "      <th>2</th>\n",
       "      <td>0.500000</td>\n",
       "      <td>0.500000</td>\n",
       "      <td>0.500000</td>\n",
       "      <td>0.833333</td>\n",
       "    </tr>\n",
       "    <tr>\n",
       "      <th>3</th>\n",
       "      <td>0.833333</td>\n",
       "      <td>0.333333</td>\n",
       "      <td>0.500000</td>\n",
       "      <td>0.500000</td>\n",
       "    </tr>\n",
       "    <tr>\n",
       "      <th>4</th>\n",
       "      <td>0.666667</td>\n",
       "      <td>0.666667</td>\n",
       "      <td>0.666667</td>\n",
       "      <td>0.666667</td>\n",
       "    </tr>\n",
       "    <tr>\n",
       "      <th>...</th>\n",
       "      <td>...</td>\n",
       "      <td>...</td>\n",
       "      <td>...</td>\n",
       "      <td>...</td>\n",
       "    </tr>\n",
       "    <tr>\n",
       "      <th>95</th>\n",
       "      <td>0.666667</td>\n",
       "      <td>0.500000</td>\n",
       "      <td>0.166667</td>\n",
       "      <td>0.666667</td>\n",
       "    </tr>\n",
       "    <tr>\n",
       "      <th>96</th>\n",
       "      <td>0.833333</td>\n",
       "      <td>0.500000</td>\n",
       "      <td>1.000000</td>\n",
       "      <td>0.666667</td>\n",
       "    </tr>\n",
       "    <tr>\n",
       "      <th>97</th>\n",
       "      <td>0.333333</td>\n",
       "      <td>0.333333</td>\n",
       "      <td>0.833333</td>\n",
       "      <td>0.500000</td>\n",
       "    </tr>\n",
       "    <tr>\n",
       "      <th>98</th>\n",
       "      <td>0.166667</td>\n",
       "      <td>0.500000</td>\n",
       "      <td>0.583333</td>\n",
       "      <td>0.833333</td>\n",
       "    </tr>\n",
       "    <tr>\n",
       "      <th>99</th>\n",
       "      <td>0.583333</td>\n",
       "      <td>0.250000</td>\n",
       "      <td>0.583333</td>\n",
       "      <td>0.500000</td>\n",
       "    </tr>\n",
       "  </tbody>\n",
       "</table>\n",
       "<p>100 rows × 4 columns</p>\n",
       "</div>"
      ],
      "text/plain": [
       "    RewP_delta  RewP_theta  FRN_delta  FRN_theta\n",
       "0     0.666667    0.166667   0.500000   0.833333\n",
       "1     0.833333    0.166667   0.666667   0.500000\n",
       "2     0.500000    0.500000   0.500000   0.833333\n",
       "3     0.833333    0.333333   0.500000   0.500000\n",
       "4     0.666667    0.666667   0.666667   0.666667\n",
       "..         ...         ...        ...        ...\n",
       "95    0.666667    0.500000   0.166667   0.666667\n",
       "96    0.833333    0.500000   1.000000   0.666667\n",
       "97    0.333333    0.333333   0.833333   0.500000\n",
       "98    0.166667    0.500000   0.583333   0.833333\n",
       "99    0.583333    0.250000   0.583333   0.500000\n",
       "\n",
       "[100 rows x 4 columns]"
      ]
     },
     "execution_count": 161,
     "metadata": {},
     "output_type": "execute_result"
    }
   ],
   "source": [
    "cv_results_df"
   ]
  },
  {
   "cell_type": "code",
   "execution_count": 162,
   "metadata": {},
   "outputs": [
    {
     "data": {
      "image/png": "[encoded data removed]",
      "text/plain": [
       "<Figure size 432x288 with 1 Axes>"
      ]
     },
     "metadata": {
      "needs_background": "light"
     },
     "output_type": "display_data"
    }
   ],
   "source": [
    "fig = sns.histplot(data=cv_results_df, bins=5, kde=True)"
   ]
  },
  {
   "cell_type": "markdown",
   "metadata": {},
   "source": [
    "#### Test differences between the best models"
   ]
  },
  {
   "cell_type": "markdown",
   "metadata": {},
   "source": [
    "Chose the best models"
   ]
  },
  {
   "cell_type": "code",
   "execution_count": 228,
   "metadata": {},
   "outputs": [
    {
     "data": {
      "text/html": [
       "<div>\n",
       "<style scoped>\n",
       "    .dataframe tbody tr th:only-of-type {\n",
       "        vertical-align: middle;\n",
       "    }\n",
       "\n",
       "    .dataframe tbody tr th {\n",
       "        vertical-align: top;\n",
       "    }\n",
       "\n",
       "    .dataframe thead th {\n",
       "        text-align: right;\n",
       "    }\n",
       "</style>\n",
       "<table border=\"1\" class=\"dataframe\">\n",
       "  <thead>\n",
       "    <tr style=\"text-align: right;\">\n",
       "      <th></th>\n",
       "      <th>model_name</th>\n",
       "      <th>pipeline_name</th>\n",
       "      <th>train score</th>\n",
       "      <th>mean_cv_score</th>\n",
       "      <th>best_model</th>\n",
       "      <th>parameters</th>\n",
       "      <th>pvalue</th>\n",
       "      <th>split0_test_roc_auc</th>\n",
       "      <th>split1_test_roc_auc</th>\n",
       "      <th>split2_test_roc_auc</th>\n",
       "      <th>mean_test_precision</th>\n",
       "      <th>mean_test_roc_auc</th>\n",
       "      <th>mean_test_recall</th>\n",
       "      <th>mean_test_balanced_accuracy</th>\n",
       "    </tr>\n",
       "  </thead>\n",
       "  <tbody>\n",
       "    <tr>\n",
       "      <th>0</th>\n",
       "      <td>svc</td>\n",
       "      <td>RewP_Anxiety_band_0_svc</td>\n",
       "      <td>0.741379</td>\n",
       "      <td>0.653704</td>\n",
       "      <td>(CSP({'component_order': 'mutual_info',\\n 'cov...</td>\n",
       "      <td>{'csp__n_components': 3, 'csp__reg': 0.1, 'svc...</td>\n",
       "      <td>0.013986</td>\n",
       "      <td>0.74</td>\n",
       "      <td>0.822222</td>\n",
       "      <td>0.566667</td>\n",
       "      <td>0.634343</td>\n",
       "      <td>0.709630</td>\n",
       "      <td>0.722222</td>\n",
       "      <td>0.653704</td>\n",
       "    </tr>\n",
       "    <tr>\n",
       "      <th>0</th>\n",
       "      <td>svc</td>\n",
       "      <td>RewP_Anxiety_band_1_svc</td>\n",
       "      <td>0.827586</td>\n",
       "      <td>0.620370</td>\n",
       "      <td>(CSP({'component_order': 'mutual_info',\\n 'cov...</td>\n",
       "      <td>{'csp__n_components': 2, 'csp__reg': 0.01, 'sv...</td>\n",
       "      <td>0.035964</td>\n",
       "      <td>0.55</td>\n",
       "      <td>0.433333</td>\n",
       "      <td>0.855556</td>\n",
       "      <td>0.590354</td>\n",
       "      <td>0.612963</td>\n",
       "      <td>0.800000</td>\n",
       "      <td>0.620370</td>\n",
       "    </tr>\n",
       "  </tbody>\n",
       "</table>\n",
       "</div>"
      ],
      "text/plain": [
       "  model_name            pipeline_name  train score  mean_cv_score  \\\n",
       "0        svc  RewP_Anxiety_band_0_svc     0.741379       0.653704   \n",
       "0        svc  RewP_Anxiety_band_1_svc     0.827586       0.620370   \n",
       "\n",
       "                                          best_model  \\\n",
       "0  (CSP({'component_order': 'mutual_info',\\n 'cov...   \n",
       "0  (CSP({'component_order': 'mutual_info',\\n 'cov...   \n",
       "\n",
       "                                          parameters    pvalue  \\\n",
       "0  {'csp__n_components': 3, 'csp__reg': 0.1, 'svc...  0.013986   \n",
       "0  {'csp__n_components': 2, 'csp__reg': 0.01, 'sv...  0.035964   \n",
       "\n",
       "   split0_test_roc_auc  split1_test_roc_auc  split2_test_roc_auc  \\\n",
       "0                 0.74             0.822222             0.566667   \n",
       "0                 0.55             0.433333             0.855556   \n",
       "\n",
       "   mean_test_precision  mean_test_roc_auc  mean_test_recall  \\\n",
       "0             0.634343           0.709630          0.722222   \n",
       "0             0.590354           0.612963          0.800000   \n",
       "\n",
       "   mean_test_balanced_accuracy  \n",
       "0                     0.653704  \n",
       "0                     0.620370  "
      ]
     },
     "execution_count": 228,
     "metadata": {},
     "output_type": "execute_result"
    }
   ],
   "source": [
    "results_anx_rewp_df"
   ]
  },
  {
   "cell_type": "code",
   "execution_count": 229,
   "metadata": {},
   "outputs": [
    {
     "data": {
      "text/html": [
       "<div>\n",
       "<style scoped>\n",
       "    .dataframe tbody tr th:only-of-type {\n",
       "        vertical-align: middle;\n",
       "    }\n",
       "\n",
       "    .dataframe tbody tr th {\n",
       "        vertical-align: top;\n",
       "    }\n",
       "\n",
       "    .dataframe thead th {\n",
       "        text-align: right;\n",
       "    }\n",
       "</style>\n",
       "<table border=\"1\" class=\"dataframe\">\n",
       "  <thead>\n",
       "    <tr style=\"text-align: right;\">\n",
       "      <th></th>\n",
       "      <th>model_name</th>\n",
       "      <th>pipeline_name</th>\n",
       "      <th>train score</th>\n",
       "      <th>mean_cv_score</th>\n",
       "      <th>best_model</th>\n",
       "      <th>parameters</th>\n",
       "      <th>pvalue</th>\n",
       "      <th>split0_test_roc_auc</th>\n",
       "      <th>split1_test_roc_auc</th>\n",
       "      <th>split2_test_roc_auc</th>\n",
       "      <th>mean_test_precision</th>\n",
       "      <th>mean_test_roc_auc</th>\n",
       "      <th>mean_test_recall</th>\n",
       "      <th>mean_test_balanced_accuracy</th>\n",
       "    </tr>\n",
       "  </thead>\n",
       "  <tbody>\n",
       "    <tr>\n",
       "      <th>0</th>\n",
       "      <td>svc</td>\n",
       "      <td>FRN_Anxiety_band_0_svc</td>\n",
       "      <td>0.827586</td>\n",
       "      <td>0.670370</td>\n",
       "      <td>(CSP({'component_order': 'mutual_info',\\n 'cov...</td>\n",
       "      <td>{'csp__n_components': 2, 'csp__reg': 0.1, 'svc...</td>\n",
       "      <td>0.009990</td>\n",
       "      <td>0.52</td>\n",
       "      <td>0.700000</td>\n",
       "      <td>0.600000</td>\n",
       "      <td>0.660943</td>\n",
       "      <td>0.606667</td>\n",
       "      <td>0.685185</td>\n",
       "      <td>0.670370</td>\n",
       "    </tr>\n",
       "    <tr>\n",
       "      <th>0</th>\n",
       "      <td>svc</td>\n",
       "      <td>FRN_Anxiety_band_1_svc</td>\n",
       "      <td>0.775862</td>\n",
       "      <td>0.642593</td>\n",
       "      <td>(CSP({'component_order': 'mutual_info',\\n 'cov...</td>\n",
       "      <td>{'csp__n_components': 2, 'csp__reg': 1, 'svc__...</td>\n",
       "      <td>0.056943</td>\n",
       "      <td>0.81</td>\n",
       "      <td>0.722222</td>\n",
       "      <td>0.655556</td>\n",
       "      <td>0.650000</td>\n",
       "      <td>0.729259</td>\n",
       "      <td>0.729630</td>\n",
       "      <td>0.642593</td>\n",
       "    </tr>\n",
       "  </tbody>\n",
       "</table>\n",
       "</div>"
      ],
      "text/plain": [
       "  model_name           pipeline_name  train score  mean_cv_score  \\\n",
       "0        svc  FRN_Anxiety_band_0_svc     0.827586       0.670370   \n",
       "0        svc  FRN_Anxiety_band_1_svc     0.775862       0.642593   \n",
       "\n",
       "                                          best_model  \\\n",
       "0  (CSP({'component_order': 'mutual_info',\\n 'cov...   \n",
       "0  (CSP({'component_order': 'mutual_info',\\n 'cov...   \n",
       "\n",
       "                                          parameters    pvalue  \\\n",
       "0  {'csp__n_components': 2, 'csp__reg': 0.1, 'svc...  0.009990   \n",
       "0  {'csp__n_components': 2, 'csp__reg': 1, 'svc__...  0.056943   \n",
       "\n",
       "   split0_test_roc_auc  split1_test_roc_auc  split2_test_roc_auc  \\\n",
       "0                 0.52             0.700000             0.600000   \n",
       "0                 0.81             0.722222             0.655556   \n",
       "\n",
       "   mean_test_precision  mean_test_roc_auc  mean_test_recall  \\\n",
       "0             0.660943           0.606667          0.685185   \n",
       "0             0.650000           0.729259          0.729630   \n",
       "\n",
       "   mean_test_balanced_accuracy  \n",
       "0                     0.670370  \n",
       "0                     0.642593  "
      ]
     },
     "execution_count": 229,
     "metadata": {},
     "output_type": "execute_result"
    }
   ],
   "source": [
    "results_anx_frn_df"
   ]
  },
  {
   "cell_type": "code",
   "execution_count": 242,
   "metadata": {},
   "outputs": [],
   "source": [
    "index = 1"
   ]
  },
  {
   "cell_type": "code",
   "execution_count": 243,
   "metadata": {},
   "outputs": [
    {
     "data": {
      "text/html": [
       "<style>#sk-container-id-32 {color: black;background-color: white;}#sk-container-id-32 pre{padding: 0;}#sk-container-id-32 div.sk-toggleable {background-color: white;}#sk-container-id-32 label.sk-toggleable__label {cursor: pointer;display: block;width: 100%;margin-bottom: 0;padding: 0.3em;box-sizing: border-box;text-align: center;}#sk-container-id-32 label.sk-toggleable__label-arrow:before {content: \"▸\";float: left;margin-right: 0.25em;color: #696969;}#sk-container-id-32 label.sk-toggleable__label-arrow:hover:before {color: black;}#sk-container-id-32 div.sk-estimator:hover label.sk-toggleable__label-arrow:before {color: black;}#sk-container-id-32 div.sk-toggleable__content {max-height: 0;max-width: 0;overflow: hidden;text-align: left;background-color: #f0f8ff;}#sk-container-id-32 div.sk-toggleable__content pre {margin: 0.2em;color: black;border-radius: 0.25em;background-color: #f0f8ff;}#sk-container-id-32 input.sk-toggleable__control:checked~div.sk-toggleable__content {max-height: 200px;max-width: 100%;overflow: auto;}#sk-container-id-32 input.sk-toggleable__control:checked~label.sk-toggleable__label-arrow:before {content: \"▾\";}#sk-container-id-32 div.sk-estimator input.sk-toggleable__control:checked~label.sk-toggleable__label {background-color: #d4ebff;}#sk-container-id-32 div.sk-label input.sk-toggleable__control:checked~label.sk-toggleable__label {background-color: #d4ebff;}#sk-container-id-32 input.sk-hidden--visually {border: 0;clip: rect(1px 1px 1px 1px);clip: rect(1px, 1px, 1px, 1px);height: 1px;margin: -1px;overflow: hidden;padding: 0;position: absolute;width: 1px;}#sk-container-id-32 div.sk-estimator {font-family: monospace;background-color: #f0f8ff;border: 1px dotted black;border-radius: 0.25em;box-sizing: border-box;margin-bottom: 0.5em;}#sk-container-id-32 div.sk-estimator:hover {background-color: #d4ebff;}#sk-container-id-32 div.sk-parallel-item::after {content: \"\";width: 100%;border-bottom: 1px solid gray;flex-grow: 1;}#sk-container-id-32 div.sk-label:hover label.sk-toggleable__label {background-color: #d4ebff;}#sk-container-id-32 div.sk-serial::before {content: \"\";position: absolute;border-left: 1px solid gray;box-sizing: border-box;top: 0;bottom: 0;left: 50%;z-index: 0;}#sk-container-id-32 div.sk-serial {display: flex;flex-direction: column;align-items: center;background-color: white;padding-right: 0.2em;padding-left: 0.2em;position: relative;}#sk-container-id-32 div.sk-item {position: relative;z-index: 1;}#sk-container-id-32 div.sk-parallel {display: flex;align-items: stretch;justify-content: center;background-color: white;position: relative;}#sk-container-id-32 div.sk-item::before, #sk-container-id-32 div.sk-parallel-item::before {content: \"\";position: absolute;border-left: 1px solid gray;box-sizing: border-box;top: 0;bottom: 0;left: 50%;z-index: -1;}#sk-container-id-32 div.sk-parallel-item {display: flex;flex-direction: column;z-index: 1;position: relative;background-color: white;}#sk-container-id-32 div.sk-parallel-item:first-child::after {align-self: flex-end;width: 50%;}#sk-container-id-32 div.sk-parallel-item:last-child::after {align-self: flex-start;width: 50%;}#sk-container-id-32 div.sk-parallel-item:only-child::after {width: 0;}#sk-container-id-32 div.sk-dashed-wrapped {border: 1px dashed gray;margin: 0 0.4em 0.5em 0.4em;box-sizing: border-box;padding-bottom: 0.4em;background-color: white;}#sk-container-id-32 div.sk-label label {font-family: monospace;font-weight: bold;display: inline-block;line-height: 1.2em;}#sk-container-id-32 div.sk-label-container {text-align: center;}#sk-container-id-32 div.sk-container {/* jupyter's `normalize.less` sets `[hidden] { display: none; }` but bootstrap.min.css set `[hidden] { display: none !important; }` so we also need the `!important` here to be able to override the default hidden behavior on the sphinx rendered scikit-learn.org. See: https://github.com/scikit-learn/scikit-learn/issues/21755 */display: inline-block !important;position: relative;}#sk-container-id-32 div.sk-text-repr-fallback {display: none;}</style><div id=\"sk-container-id-32\" class=\"sk-top-container\"><div class=\"sk-text-repr-fallback\"><pre>Pipeline(steps=[(&#x27;csp&#x27;,\n",
       "                 CSP({&#x27;component_order&#x27;: &#x27;mutual_info&#x27;,\n",
       " &#x27;cov_est&#x27;: &#x27;concat&#x27;,\n",
       " &#x27;cov_method_params&#x27;: None,\n",
       " &#x27;log&#x27;: None,\n",
       " &#x27;n_components&#x27;: 2,\n",
       " &#x27;norm_trace&#x27;: False,\n",
       " &#x27;rank&#x27;: None,\n",
       " &#x27;reg&#x27;: 0.01,\n",
       " &#x27;transform_into&#x27;: &#x27;average_power&#x27;})),\n",
       "                (&#x27;vec&#x27;,\n",
       "                 &lt;mne.decoding.transformer.Vectorizer object at 0x7f42f934a490&gt;),\n",
       "                (&#x27;svc&#x27;, SVC(C=1, kernel=&#x27;linear&#x27;))])</pre><b>In a Jupyter environment, please rerun this cell to show the HTML representation or trust the notebook. <br />On GitHub, the HTML representation is unable to render, please try loading this page with nbviewer.org.</b></div><div class=\"sk-container\" hidden><div class=\"sk-item sk-dashed-wrapped\"><div class=\"sk-label-container\"><div class=\"sk-label sk-toggleable\"><input class=\"sk-toggleable__control sk-hidden--visually\" id=\"sk-estimator-id-125\" type=\"checkbox\" ><label for=\"sk-estimator-id-125\" class=\"sk-toggleable__label sk-toggleable__label-arrow\">Pipeline</label><div class=\"sk-toggleable__content\"><pre>Pipeline(steps=[(&#x27;csp&#x27;,\n",
       "                 CSP({&#x27;component_order&#x27;: &#x27;mutual_info&#x27;,\n",
       " &#x27;cov_est&#x27;: &#x27;concat&#x27;,\n",
       " &#x27;cov_method_params&#x27;: None,\n",
       " &#x27;log&#x27;: None,\n",
       " &#x27;n_components&#x27;: 2,\n",
       " &#x27;norm_trace&#x27;: False,\n",
       " &#x27;rank&#x27;: None,\n",
       " &#x27;reg&#x27;: 0.01,\n",
       " &#x27;transform_into&#x27;: &#x27;average_power&#x27;})),\n",
       "                (&#x27;vec&#x27;,\n",
       "                 &lt;mne.decoding.transformer.Vectorizer object at 0x7f42f934a490&gt;),\n",
       "                (&#x27;svc&#x27;, SVC(C=1, kernel=&#x27;linear&#x27;))])</pre></div></div></div><div class=\"sk-serial\"><div class=\"sk-item\"><div class=\"sk-estimator sk-toggleable\"><input class=\"sk-toggleable__control sk-hidden--visually\" id=\"sk-estimator-id-126\" type=\"checkbox\" ><label for=\"sk-estimator-id-126\" class=\"sk-toggleable__label sk-toggleable__label-arrow\">CSP</label><div class=\"sk-toggleable__content\"><pre>CSP({&#x27;component_order&#x27;: &#x27;mutual_info&#x27;,\n",
       " &#x27;cov_est&#x27;: &#x27;concat&#x27;,\n",
       " &#x27;cov_method_params&#x27;: None,\n",
       " &#x27;log&#x27;: None,\n",
       " &#x27;n_components&#x27;: 2,\n",
       " &#x27;norm_trace&#x27;: False,\n",
       " &#x27;rank&#x27;: None,\n",
       " &#x27;reg&#x27;: 0.01,\n",
       " &#x27;transform_into&#x27;: &#x27;average_power&#x27;})</pre></div></div></div><div class=\"sk-item\"><div class=\"sk-estimator sk-toggleable\"><input class=\"sk-toggleable__control sk-hidden--visually\" id=\"sk-estimator-id-127\" type=\"checkbox\" ><label for=\"sk-estimator-id-127\" class=\"sk-toggleable__label sk-toggleable__label-arrow\">Vectorizer</label><div class=\"sk-toggleable__content\"><pre>&lt;mne.decoding.transformer.Vectorizer object at 0x7f42f934a490&gt;</pre></div></div></div><div class=\"sk-item\"><div class=\"sk-estimator sk-toggleable\"><input class=\"sk-toggleable__control sk-hidden--visually\" id=\"sk-estimator-id-128\" type=\"checkbox\" ><label for=\"sk-estimator-id-128\" class=\"sk-toggleable__label sk-toggleable__label-arrow\">SVC</label><div class=\"sk-toggleable__content\"><pre>SVC(C=1, kernel=&#x27;linear&#x27;)</pre></div></div></div></div></div></div></div>"
      ],
      "text/plain": [
       "Pipeline(steps=[('csp',\n",
       "                 CSP({'component_order': 'mutual_info',\n",
       " 'cov_est': 'concat',\n",
       " 'cov_method_params': None,\n",
       " 'log': None,\n",
       " 'n_components': 2,\n",
       " 'norm_trace': False,\n",
       " 'rank': None,\n",
       " 'reg': 0.01,\n",
       " 'transform_into': 'average_power'})),\n",
       "                ('vec',\n",
       "                 <mne.decoding.transformer.Vectorizer object at 0x7f42f934a490>),\n",
       "                ('svc', SVC(C=1, kernel='linear'))])"
      ]
     },
     "execution_count": 243,
     "metadata": {},
     "output_type": "execute_result"
    }
   ],
   "source": [
    "anx_rewp_model = results_anx_rewp_df.iloc[index].best_model\n",
    "anx_rewp_model"
   ]
  },
  {
   "cell_type": "code",
   "execution_count": 244,
   "metadata": {},
   "outputs": [
    {
     "data": {
      "text/html": [
       "<style>#sk-container-id-33 {color: black;background-color: white;}#sk-container-id-33 pre{padding: 0;}#sk-container-id-33 div.sk-toggleable {background-color: white;}#sk-container-id-33 label.sk-toggleable__label {cursor: pointer;display: block;width: 100%;margin-bottom: 0;padding: 0.3em;box-sizing: border-box;text-align: center;}#sk-container-id-33 label.sk-toggleable__label-arrow:before {content: \"▸\";float: left;margin-right: 0.25em;color: #696969;}#sk-container-id-33 label.sk-toggleable__label-arrow:hover:before {color: black;}#sk-container-id-33 div.sk-estimator:hover label.sk-toggleable__label-arrow:before {color: black;}#sk-container-id-33 div.sk-toggleable__content {max-height: 0;max-width: 0;overflow: hidden;text-align: left;background-color: #f0f8ff;}#sk-container-id-33 div.sk-toggleable__content pre {margin: 0.2em;color: black;border-radius: 0.25em;background-color: #f0f8ff;}#sk-container-id-33 input.sk-toggleable__control:checked~div.sk-toggleable__content {max-height: 200px;max-width: 100%;overflow: auto;}#sk-container-id-33 input.sk-toggleable__control:checked~label.sk-toggleable__label-arrow:before {content: \"▾\";}#sk-container-id-33 div.sk-estimator input.sk-toggleable__control:checked~label.sk-toggleable__label {background-color: #d4ebff;}#sk-container-id-33 div.sk-label input.sk-toggleable__control:checked~label.sk-toggleable__label {background-color: #d4ebff;}#sk-container-id-33 input.sk-hidden--visually {border: 0;clip: rect(1px 1px 1px 1px);clip: rect(1px, 1px, 1px, 1px);height: 1px;margin: -1px;overflow: hidden;padding: 0;position: absolute;width: 1px;}#sk-container-id-33 div.sk-estimator {font-family: monospace;background-color: #f0f8ff;border: 1px dotted black;border-radius: 0.25em;box-sizing: border-box;margin-bottom: 0.5em;}#sk-container-id-33 div.sk-estimator:hover {background-color: #d4ebff;}#sk-container-id-33 div.sk-parallel-item::after {content: \"\";width: 100%;border-bottom: 1px solid gray;flex-grow: 1;}#sk-container-id-33 div.sk-label:hover label.sk-toggleable__label {background-color: #d4ebff;}#sk-container-id-33 div.sk-serial::before {content: \"\";position: absolute;border-left: 1px solid gray;box-sizing: border-box;top: 0;bottom: 0;left: 50%;z-index: 0;}#sk-container-id-33 div.sk-serial {display: flex;flex-direction: column;align-items: center;background-color: white;padding-right: 0.2em;padding-left: 0.2em;position: relative;}#sk-container-id-33 div.sk-item {position: relative;z-index: 1;}#sk-container-id-33 div.sk-parallel {display: flex;align-items: stretch;justify-content: center;background-color: white;position: relative;}#sk-container-id-33 div.sk-item::before, #sk-container-id-33 div.sk-parallel-item::before {content: \"\";position: absolute;border-left: 1px solid gray;box-sizing: border-box;top: 0;bottom: 0;left: 50%;z-index: -1;}#sk-container-id-33 div.sk-parallel-item {display: flex;flex-direction: column;z-index: 1;position: relative;background-color: white;}#sk-container-id-33 div.sk-parallel-item:first-child::after {align-self: flex-end;width: 50%;}#sk-container-id-33 div.sk-parallel-item:last-child::after {align-self: flex-start;width: 50%;}#sk-container-id-33 div.sk-parallel-item:only-child::after {width: 0;}#sk-container-id-33 div.sk-dashed-wrapped {border: 1px dashed gray;margin: 0 0.4em 0.5em 0.4em;box-sizing: border-box;padding-bottom: 0.4em;background-color: white;}#sk-container-id-33 div.sk-label label {font-family: monospace;font-weight: bold;display: inline-block;line-height: 1.2em;}#sk-container-id-33 div.sk-label-container {text-align: center;}#sk-container-id-33 div.sk-container {/* jupyter's `normalize.less` sets `[hidden] { display: none; }` but bootstrap.min.css set `[hidden] { display: none !important; }` so we also need the `!important` here to be able to override the default hidden behavior on the sphinx rendered scikit-learn.org. See: https://github.com/scikit-learn/scikit-learn/issues/21755 */display: inline-block !important;position: relative;}#sk-container-id-33 div.sk-text-repr-fallback {display: none;}</style><div id=\"sk-container-id-33\" class=\"sk-top-container\"><div class=\"sk-text-repr-fallback\"><pre>Pipeline(steps=[(&#x27;csp&#x27;,\n",
       "                 CSP({&#x27;component_order&#x27;: &#x27;mutual_info&#x27;,\n",
       " &#x27;cov_est&#x27;: &#x27;concat&#x27;,\n",
       " &#x27;cov_method_params&#x27;: None,\n",
       " &#x27;log&#x27;: None,\n",
       " &#x27;n_components&#x27;: 2,\n",
       " &#x27;norm_trace&#x27;: False,\n",
       " &#x27;rank&#x27;: None,\n",
       " &#x27;reg&#x27;: 1,\n",
       " &#x27;transform_into&#x27;: &#x27;average_power&#x27;})),\n",
       "                (&#x27;vec&#x27;,\n",
       "                 &lt;mne.decoding.transformer.Vectorizer object at 0x7f42f9128f70&gt;),\n",
       "                (&#x27;svc&#x27;, SVC(C=10))])</pre><b>In a Jupyter environment, please rerun this cell to show the HTML representation or trust the notebook. <br />On GitHub, the HTML representation is unable to render, please try loading this page with nbviewer.org.</b></div><div class=\"sk-container\" hidden><div class=\"sk-item sk-dashed-wrapped\"><div class=\"sk-label-container\"><div class=\"sk-label sk-toggleable\"><input class=\"sk-toggleable__control sk-hidden--visually\" id=\"sk-estimator-id-129\" type=\"checkbox\" ><label for=\"sk-estimator-id-129\" class=\"sk-toggleable__label sk-toggleable__label-arrow\">Pipeline</label><div class=\"sk-toggleable__content\"><pre>Pipeline(steps=[(&#x27;csp&#x27;,\n",
       "                 CSP({&#x27;component_order&#x27;: &#x27;mutual_info&#x27;,\n",
       " &#x27;cov_est&#x27;: &#x27;concat&#x27;,\n",
       " &#x27;cov_method_params&#x27;: None,\n",
       " &#x27;log&#x27;: None,\n",
       " &#x27;n_components&#x27;: 2,\n",
       " &#x27;norm_trace&#x27;: False,\n",
       " &#x27;rank&#x27;: None,\n",
       " &#x27;reg&#x27;: 1,\n",
       " &#x27;transform_into&#x27;: &#x27;average_power&#x27;})),\n",
       "                (&#x27;vec&#x27;,\n",
       "                 &lt;mne.decoding.transformer.Vectorizer object at 0x7f42f9128f70&gt;),\n",
       "                (&#x27;svc&#x27;, SVC(C=10))])</pre></div></div></div><div class=\"sk-serial\"><div class=\"sk-item\"><div class=\"sk-estimator sk-toggleable\"><input class=\"sk-toggleable__control sk-hidden--visually\" id=\"sk-estimator-id-130\" type=\"checkbox\" ><label for=\"sk-estimator-id-130\" class=\"sk-toggleable__label sk-toggleable__label-arrow\">CSP</label><div class=\"sk-toggleable__content\"><pre>CSP({&#x27;component_order&#x27;: &#x27;mutual_info&#x27;,\n",
       " &#x27;cov_est&#x27;: &#x27;concat&#x27;,\n",
       " &#x27;cov_method_params&#x27;: None,\n",
       " &#x27;log&#x27;: None,\n",
       " &#x27;n_components&#x27;: 2,\n",
       " &#x27;norm_trace&#x27;: False,\n",
       " &#x27;rank&#x27;: None,\n",
       " &#x27;reg&#x27;: 1,\n",
       " &#x27;transform_into&#x27;: &#x27;average_power&#x27;})</pre></div></div></div><div class=\"sk-item\"><div class=\"sk-estimator sk-toggleable\"><input class=\"sk-toggleable__control sk-hidden--visually\" id=\"sk-estimator-id-131\" type=\"checkbox\" ><label for=\"sk-estimator-id-131\" class=\"sk-toggleable__label sk-toggleable__label-arrow\">Vectorizer</label><div class=\"sk-toggleable__content\"><pre>&lt;mne.decoding.transformer.Vectorizer object at 0x7f42f9128f70&gt;</pre></div></div></div><div class=\"sk-item\"><div class=\"sk-estimator sk-toggleable\"><input class=\"sk-toggleable__control sk-hidden--visually\" id=\"sk-estimator-id-132\" type=\"checkbox\" ><label for=\"sk-estimator-id-132\" class=\"sk-toggleable__label sk-toggleable__label-arrow\">SVC</label><div class=\"sk-toggleable__content\"><pre>SVC(C=10)</pre></div></div></div></div></div></div></div>"
      ],
      "text/plain": [
       "Pipeline(steps=[('csp',\n",
       "                 CSP({'component_order': 'mutual_info',\n",
       " 'cov_est': 'concat',\n",
       " 'cov_method_params': None,\n",
       " 'log': None,\n",
       " 'n_components': 2,\n",
       " 'norm_trace': False,\n",
       " 'rank': None,\n",
       " 'reg': 1,\n",
       " 'transform_into': 'average_power'})),\n",
       "                ('vec',\n",
       "                 <mne.decoding.transformer.Vectorizer object at 0x7f42f9128f70>),\n",
       "                ('svc', SVC(C=10))])"
      ]
     },
     "execution_count": 244,
     "metadata": {},
     "output_type": "execute_result"
    }
   ],
   "source": [
    "anx_frn_model = results_anx_frn_df.iloc[index].best_model\n",
    "anx_frn_model"
   ]
  },
  {
   "cell_type": "code",
   "execution_count": 245,
   "metadata": {},
   "outputs": [],
   "source": [
    "X_rewp = rewp_anxiety_datasets[index]\n",
    "X_frn = frn_anxiety_datasets[index]"
   ]
  },
  {
   "cell_type": "markdown",
   "metadata": {},
   "source": [
    "- Balanced Accuracy"
   ]
  },
  {
   "cell_type": "code",
   "execution_count": 246,
   "metadata": {},
   "outputs": [],
   "source": [
    "%%capture\n",
    "\n",
    "t, p = paired_ttest_nandeu(\n",
    "    estimator1=anx_rewp_model,\n",
    "    estimator2=anx_frn_model,\n",
    "    X_1=X_rewp,\n",
    "    X_2=X_frn, \n",
    "    y=y,\n",
    "    random_state=random_state,\n",
    "    scoring='balanced_accuracy'\n",
    ")"
   ]
  },
  {
   "cell_type": "code",
   "execution_count": 247,
   "metadata": {},
   "outputs": [
    {
     "name": "stdout",
     "output_type": "stream",
     "text": [
      "t statistic: -0.972\n",
      "p value: 0.167\n"
     ]
    }
   ],
   "source": [
    "print('t statistic: %.3f' % t)\n",
    "print('p value: %.3f' % p)"
   ]
  },
  {
   "cell_type": "markdown",
   "metadata": {},
   "source": [
    "- Roc AUC"
   ]
  },
  {
   "cell_type": "code",
   "execution_count": 248,
   "metadata": {},
   "outputs": [],
   "source": [
    "%%capture\n",
    "\n",
    "t, p = paired_ttest_nandeu(\n",
    "    estimator1=anx_rewp_model,\n",
    "    estimator2=anx_frn_model,\n",
    "    X_1=X_rewp,\n",
    "    X_2=X_frn, \n",
    "    y=y,\n",
    "    random_state=random_state,\n",
    "    scoring='roc_auc'\n",
    ")"
   ]
  },
  {
   "cell_type": "code",
   "execution_count": 249,
   "metadata": {},
   "outputs": [
    {
     "name": "stdout",
     "output_type": "stream",
     "text": [
      "t statistic: -1.180\n",
      "p value: 0.120\n"
     ]
    }
   ],
   "source": [
    "print('t statistic: %.3f' % t)\n",
    "print('p value: %.3f' % p)"
   ]
  },
  {
   "cell_type": "markdown",
   "metadata": {},
   "source": [
    "- precision"
   ]
  },
  {
   "cell_type": "code",
   "execution_count": 250,
   "metadata": {},
   "outputs": [],
   "source": [
    "%%capture\n",
    "\n",
    "t, p = paired_ttest_nandeu(\n",
    "    estimator1=anx_rewp_model,\n",
    "    estimator2=anx_frn_model,\n",
    "    X_1=X_rewp,\n",
    "    X_2=X_frn, \n",
    "    y=y,\n",
    "    random_state=random_state,\n",
    "    scoring='precision'\n",
    ")"
   ]
  },
  {
   "cell_type": "code",
   "execution_count": 251,
   "metadata": {},
   "outputs": [
    {
     "name": "stdout",
     "output_type": "stream",
     "text": [
      "t statistic: -0.716\n",
      "p value: 0.238\n"
     ]
    }
   ],
   "source": [
    "print('t statistic: %.3f' % t)\n",
    "print('p value: %.3f' % p)"
   ]
  },
  {
   "cell_type": "markdown",
   "metadata": {},
   "source": [
    "- recall"
   ]
  },
  {
   "cell_type": "code",
   "execution_count": 252,
   "metadata": {},
   "outputs": [],
   "source": [
    "%%capture\n",
    "\n",
    "t, p = paired_ttest_nandeu(\n",
    "    estimator1=anx_rewp_model,\n",
    "    estimator2=anx_frn_model,\n",
    "    X_1=X_rewp,\n",
    "    X_2=X_frn, \n",
    "    y=y,\n",
    "    random_state=random_state,\n",
    "    scoring='recall'\n",
    ")"
   ]
  },
  {
   "cell_type": "code",
   "execution_count": 253,
   "metadata": {},
   "outputs": [
    {
     "name": "stdout",
     "output_type": "stream",
     "text": [
      "t statistic: 0.564\n",
      "p value: 0.287\n"
     ]
    }
   ],
   "source": [
    "print('t statistic: %.3f' % t)\n",
    "print('p value: %.3f' % p)"
   ]
  },
  {
   "cell_type": "markdown",
   "metadata": {},
   "source": [
    "- F1"
   ]
  },
  {
   "cell_type": "code",
   "execution_count": 604,
   "metadata": {},
   "outputs": [],
   "source": [
    "%%capture\n",
    "\n",
    "t, p = paired_ttest_nandeu(\n",
    "    estimator1=anx_rewp_model,\n",
    "    estimator2=anx_frn_model,\n",
    "    X_1=X_rewp,\n",
    "    X_2=X_frn, \n",
    "    y=y,\n",
    "    random_state=random_state,\n",
    "    scoring='f1'\n",
    ")"
   ]
  },
  {
   "cell_type": "code",
   "execution_count": 605,
   "metadata": {},
   "outputs": [
    {
     "name": "stdout",
     "output_type": "stream",
     "text": [
      "t statistic: 0.101\n",
      "p value: 0.460\n"
     ]
    }
   ],
   "source": [
    "print('t statistic: %.3f' % t)\n",
    "print('p value: %.3f' % p)"
   ]
  },
  {
   "cell_type": "markdown",
   "metadata": {},
   "source": [
    "Visualize difference between FRN and RewP models"
   ]
  },
  {
   "cell_type": "code",
   "execution_count": 592,
   "metadata": {
    "colab": {
     "base_uri": "https://localhost:8080/"
    },
    "executionInfo": {
     "elapsed": 4,
     "status": "ok",
     "timestamp": 1677516452928,
     "user": {
      "displayName": "Anna Grabowska",
      "userId": "15734344613010880864"
     },
     "user_tz": -60
    },
    "id": "824FRKiAweds",
    "outputId": "a8affbdc-2c93-462c-d952-df11bc0ff221"
   },
   "outputs": [],
   "source": [
    "%%capture\n",
    "\n",
    "cv = RepeatedStratifiedKFold(n_splits=10, n_repeats=10, random_state=random_state)\n",
    "\n",
    "cv_scores_1 = cross_val_score(anx_rewp_model, X_rewp, y, cv=cv, scoring='balanced_accuracy')\n",
    "cv_scores_2 = cross_val_score(anx_frn_model, X_frn, y, cv=cv,  scoring='balanced_accuracy')"
   ]
  },
  {
   "cell_type": "code",
   "execution_count": 593,
   "metadata": {},
   "outputs": [],
   "source": [
    "cv_results_df = pd.DataFrame({\n",
    "    \"RewP\": cv_scores_1,\n",
    "    \"FRN\": cv_scores_2,\n",
    "})"
   ]
  },
  {
   "cell_type": "code",
   "execution_count": 594,
   "metadata": {},
   "outputs": [
    {
     "data": {
      "image/png": "[encoded data removed]",
      "text/plain": [
       "<Figure size 432x288 with 1 Axes>"
      ]
     },
     "metadata": {
      "needs_background": "light"
     },
     "output_type": "display_data"
    }
   ],
   "source": [
    "fig = sns.histplot(data=cv_results_df, bins=9, kde=True)"
   ]
  },
  {
   "cell_type": "code",
   "execution_count": 595,
   "metadata": {
    "colab": {
     "base_uri": "https://localhost:8080/"
    },
    "executionInfo": {
     "elapsed": 4,
     "status": "ok",
     "timestamp": 1677516452928,
     "user": {
      "displayName": "Anna Grabowska",
      "userId": "15734344613010880864"
     },
     "user_tz": -60
    },
    "id": "824FRKiAweds",
    "outputId": "a8affbdc-2c93-462c-d952-df11bc0ff221"
   },
   "outputs": [],
   "source": [
    "%%capture\n",
    "\n",
    "cv = RepeatedStratifiedKFold(n_splits=10, n_repeats=10, random_state=random_state)\n",
    "\n",
    "cv_scores_1 = cross_val_score(anx_rewp_model, X_rewp, y, cv=cv, scoring='roc_auc')\n",
    "cv_scores_2 = cross_val_score(anx_frn_model, X_frn, y, cv=cv,  scoring='roc_auc')"
   ]
  },
  {
   "cell_type": "code",
   "execution_count": 596,
   "metadata": {},
   "outputs": [],
   "source": [
    "cv_results_df = pd.DataFrame({\n",
    "    \"RewP\": cv_scores_1,\n",
    "    \"FRN\": cv_scores_2,\n",
    "})"
   ]
  },
  {
   "cell_type": "code",
   "execution_count": 597,
   "metadata": {},
   "outputs": [
    {
     "data": {
      "image/png": "[encoded data removed]",
      "text/plain": [
       "<Figure size 432x288 with 1 Axes>"
      ]
     },
     "metadata": {
      "needs_background": "light"
     },
     "output_type": "display_data"
    }
   ],
   "source": [
    "fig = sns.histplot(data=cv_results_df, bins=9, kde=True)"
   ]
  },
  {
   "cell_type": "code",
   "execution_count": null,
   "metadata": {},
   "outputs": [],
   "source": []
  }
 ],
 "metadata": {
  "colab": {
   "collapsed_sections": [
    "74g2chqQWa48",
    "3irne7dXaoIt"
   ],
   "name": "",
   "provenance": [
    {
     "file_id": "13OESwog1Uwt1WAcNW9QEaphoYxPyNplr",
     "timestamp": 1677327376830
    }
   ],
   "toc_visible": true,
   "version": ""
  },
  "kernelspec": {
   "display_name": "bluish",
   "language": "python",
   "name": "bluish"
  },
  "language_info": {
   "codemirror_mode": {
    "name": "ipython",
    "version": 3
   },
   "file_extension": ".py",
   "mimetype": "text/x-python",
   "name": "python",
   "nbconvert_exporter": "python",
   "pygments_lexer": "ipython3",
   "version": "3.8.10"
  }
 },
 "nbformat": 4,
 "nbformat_minor": 4
}
