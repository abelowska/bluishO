{
 "cells": [
  {
   "cell_type": "markdown",
   "metadata": {
    "id": "aVAPtMDTYvRD"
   },
   "source": [
    "# Depression and Anxiety classification with CSP spatial filter and different frequancy bands"
   ]
  },
  {
   "cell_type": "markdown",
   "metadata": {},
   "source": [
    "Based on the study by [Cavanagh et al. (2019)](https://www.ncbi.nlm.nih.gov/pmc/articles/PMC6515849/)"
   ]
  },
  {
   "cell_type": "markdown",
   "metadata": {
    "id": "FcABdbTciWqA"
   },
   "source": [
    "Import packages"
   ]
  },
  {
   "cell_type": "code",
   "execution_count": 50,
   "metadata": {
    "executionInfo": {
     "elapsed": 316,
     "status": "ok",
     "timestamp": 1677517783528,
     "user": {
      "displayName": "Anna Grabowska",
      "userId": "15734344613010880864"
     },
     "user_tz": -60
    },
    "id": "N_cSZrE3hRG1"
   },
   "outputs": [],
   "source": [
    "import io\n",
    "import os\n",
    "import mne\n",
    "import copy\n",
    "import glob\n",
    "import array\n",
    "import matplotlib\n",
    "import numpy as np\n",
    "import pandas as pd\n",
    "import sklearn.metrics\n",
    "import seaborn as sns\n",
    "import scipy.io as sio\n",
    "import plotly.express as px\n",
    "import matplotlib.pyplot as plt\n",
    "\n",
    "\n",
    "from itertools import chain\n",
    "from sklearn.svm import SVC\n",
    "from scipy.io import loadmat\n",
    "from sklearn import set_config\n",
    "\n",
    "from sklearn import preprocessing\n",
    "from sklearn.pipeline import Pipeline\n",
    "from sklearn.metrics import roc_auc_score, classification_report\n",
    "from sklearn.preprocessing import MinMaxScaler\n",
    "from sklearn.model_selection import GridSearchCV, ShuffleSplit\n",
    "from sklearn.model_selection import StratifiedKFold\n",
    "from sklearn.linear_model import LogisticRegression\n",
    "from sklearn.model_selection import train_test_split\n",
    "from sklearn.preprocessing import StandardScaler\n",
    "from sklearn.neighbors import KNeighborsClassifier\n",
    "from sklearn.model_selection import permutation_test_score\n",
    "\n",
    "\n",
    "import numpy as np\n",
    "import matplotlib.pyplot as plt\n",
    "\n",
    "from sklearn.pipeline import Pipeline\n",
    "from sklearn.discriminant_analysis import LinearDiscriminantAnalysis\n",
    "from sklearn.model_selection import ShuffleSplit, cross_val_score, RepeatedStratifiedKFold\n",
    "from sklearn.utils import resample\n",
    "\n",
    "from mne import Epochs, pick_types, events_from_annotations\n",
    "from mne.channels import make_standard_montage\n",
    "from mne.io import concatenate_raws, read_raw_edf\n",
    "from mne.datasets import eegbci\n",
    "from mne.decoding import CSP\n",
    "\n",
    "from mne.preprocessing import Xdawn\n",
    "from mne.decoding import Vectorizer\n",
    "\n",
    "from mne.decoding import UnsupervisedSpatialFilter\n",
    "\n",
    "from sklearn.decomposition import PCA, FastICA\n",
    "\n",
    "from scipy import stats\n",
    "\n",
    "# parameters for plotting\n",
    "plt.rcParams[\"figure.figsize\"] = (10,7)\n",
    "\n",
    "import seaborn as sns\n",
    "sns.set_theme(style=\"whitegrid\", palette=\"deep\")"
   ]
  },
  {
   "cell_type": "markdown",
   "metadata": {},
   "source": [
    "Constatnts"
   ]
  },
  {
   "cell_type": "code",
   "execution_count": 51,
   "metadata": {},
   "outputs": [],
   "source": [
    "random_state = 42"
   ]
  },
  {
   "cell_type": "markdown",
   "metadata": {
    "id": "TUmealuGFBRa"
   },
   "source": [
    "## Load questionnarie data"
   ]
  },
  {
   "cell_type": "code",
   "execution_count": 52,
   "metadata": {
    "executionInfo": {
     "elapsed": 371,
     "status": "ok",
     "timestamp": 1677517793023,
     "user": {
      "displayName": "Anna Grabowska",
      "userId": "15734344613010880864"
     },
     "user_tz": -60
    },
    "id": "6WPawPUjhVDt"
   },
   "outputs": [],
   "source": [
    "data = pd.read_csv('data/q_data.csv')"
   ]
  },
  {
   "cell_type": "code",
   "execution_count": 53,
   "metadata": {
    "colab": {
     "base_uri": "https://localhost:8080/"
    },
    "executionInfo": {
     "elapsed": 13,
     "status": "ok",
     "timestamp": 1677517794980,
     "user": {
      "displayName": "Anna Grabowska",
      "userId": "15734344613010880864"
     },
     "user_tz": -60
    },
    "id": "OOjJa80rp9by",
    "outputId": "4b2431d0-c305-4687-94b0-1c9ffe6b5839"
   },
   "outputs": [
    {
     "name": "stderr",
     "output_type": "stream",
     "text": [
      "/tmp/ipykernel_4647/1494664159.py:6: SettingWithCopyWarning: \n",
      "A value is trying to be set on a copy of a slice from a DataFrame\n",
      "\n",
      "See the caveats in the documentation: https://pandas.pydata.org/pandas-docs/stable/user_guide/indexing.html#returning-a-view-versus-a-copy\n",
      "  data['disorder'][i] = 0\n",
      "/tmp/ipykernel_4647/1494664159.py:4: SettingWithCopyWarning: \n",
      "A value is trying to be set on a copy of a slice from a DataFrame\n",
      "\n",
      "See the caveats in the documentation: https://pandas.pydata.org/pandas-docs/stable/user_guide/indexing.html#returning-a-view-versus-a-copy\n",
      "  data['disorder'][i] = 1\n"
     ]
    }
   ],
   "source": [
    "data['disorder'] = 0\n",
    "for i in range(len(data)):\n",
    "    if data['BDI'][i] != '#NULL!' and data['BDI'][i] >= 13:\n",
    "        data['disorder'][i] = 1\n",
    "    else:\n",
    "        data['disorder'][i] = 0"
   ]
  },
  {
   "cell_type": "code",
   "execution_count": 54,
   "metadata": {
    "colab": {
     "base_uri": "https://localhost:8080/",
     "height": 540
    },
    "executionInfo": {
     "elapsed": 9,
     "status": "ok",
     "timestamp": 1677517797176,
     "user": {
      "displayName": "Anna Grabowska",
      "userId": "15734344613010880864"
     },
     "user_tz": -60
    },
    "id": "vwwgmlA3iqsw",
    "outputId": "b49c5f67-f2a9-4184-a0a6-aa497ed3b508"
   },
   "outputs": [
    {
     "data": {
      "text/html": [
       "<div>\n",
       "<style scoped>\n",
       "    .dataframe tbody tr th:only-of-type {\n",
       "        vertical-align: middle;\n",
       "    }\n",
       "\n",
       "    .dataframe tbody tr th {\n",
       "        vertical-align: top;\n",
       "    }\n",
       "\n",
       "    .dataframe thead th {\n",
       "        text-align: right;\n",
       "    }\n",
       "</style>\n",
       "<table border=\"1\" class=\"dataframe\">\n",
       "  <thead>\n",
       "    <tr style=\"text-align: right;\">\n",
       "      <th></th>\n",
       "      <th>id</th>\n",
       "      <th>SCID</th>\n",
       "      <th>SCID_note</th>\n",
       "      <th>sex</th>\n",
       "      <th>age</th>\n",
       "      <th>BDI</th>\n",
       "      <th>BDI_cog</th>\n",
       "      <th>BDI_aff</th>\n",
       "      <th>BDI_som</th>\n",
       "      <th>TAI</th>\n",
       "      <th>...</th>\n",
       "      <th>loconf_rt</th>\n",
       "      <th>pos_rt</th>\n",
       "      <th>neg_rt</th>\n",
       "      <th>hiconf_pos_rt</th>\n",
       "      <th>loconf_pos_rt</th>\n",
       "      <th>hiconf_neg_rt</th>\n",
       "      <th>loconf_neg_rt</th>\n",
       "      <th>TST_aG</th>\n",
       "      <th>TST_aL</th>\n",
       "      <th>disorder</th>\n",
       "    </tr>\n",
       "  </thead>\n",
       "  <tbody>\n",
       "    <tr>\n",
       "      <th>0</th>\n",
       "      <td>507</td>\n",
       "      <td>99</td>\n",
       "      <td>NaN</td>\n",
       "      <td>1</td>\n",
       "      <td>19</td>\n",
       "      <td>0</td>\n",
       "      <td>0.00</td>\n",
       "      <td>0.00</td>\n",
       "      <td>0.00</td>\n",
       "      <td>23</td>\n",
       "      <td>...</td>\n",
       "      <td>753.41</td>\n",
       "      <td>722.02</td>\n",
       "      <td>828.73</td>\n",
       "      <td>728.22</td>\n",
       "      <td>721.10</td>\n",
       "      <td>905.28</td>\n",
       "      <td>785.73</td>\n",
       "      <td>0.12</td>\n",
       "      <td>0.00</td>\n",
       "      <td>0</td>\n",
       "    </tr>\n",
       "    <tr>\n",
       "      <th>1</th>\n",
       "      <td>508</td>\n",
       "      <td>99</td>\n",
       "      <td>NaN</td>\n",
       "      <td>1</td>\n",
       "      <td>18</td>\n",
       "      <td>4</td>\n",
       "      <td>0.00</td>\n",
       "      <td>0.67</td>\n",
       "      <td>0.17</td>\n",
       "      <td>47</td>\n",
       "      <td>...</td>\n",
       "      <td>932.63</td>\n",
       "      <td>772.36</td>\n",
       "      <td>986.75</td>\n",
       "      <td>771.2</td>\n",
       "      <td>896.43</td>\n",
       "      <td>1202.03</td>\n",
       "      <td>968.84</td>\n",
       "      <td>0.28</td>\n",
       "      <td>0.93</td>\n",
       "      <td>0</td>\n",
       "    </tr>\n",
       "    <tr>\n",
       "      <th>2</th>\n",
       "      <td>509</td>\n",
       "      <td>99</td>\n",
       "      <td>NaN</td>\n",
       "      <td>1</td>\n",
       "      <td>18</td>\n",
       "      <td>7</td>\n",
       "      <td>0.17</td>\n",
       "      <td>0.00</td>\n",
       "      <td>0.67</td>\n",
       "      <td>44</td>\n",
       "      <td>...</td>\n",
       "      <td>739.20</td>\n",
       "      <td>739.28</td>\n",
       "      <td>830.53</td>\n",
       "      <td>794.16</td>\n",
       "      <td>736.67</td>\n",
       "      <td>830.53</td>\n",
       "      <td>741.74</td>\n",
       "      <td>0.07</td>\n",
       "      <td>0.05</td>\n",
       "      <td>0</td>\n",
       "    </tr>\n",
       "    <tr>\n",
       "      <th>3</th>\n",
       "      <td>510</td>\n",
       "      <td>99</td>\n",
       "      <td>NaN</td>\n",
       "      <td>1</td>\n",
       "      <td>19</td>\n",
       "      <td>1</td>\n",
       "      <td>0.00</td>\n",
       "      <td>0.00</td>\n",
       "      <td>0.17</td>\n",
       "      <td>27</td>\n",
       "      <td>...</td>\n",
       "      <td>1239.09</td>\n",
       "      <td>1231.04</td>\n",
       "      <td>1500.54</td>\n",
       "      <td>1113.41</td>\n",
       "      <td>1123.20</td>\n",
       "      <td>1035.47</td>\n",
       "      <td>1354.97</td>\n",
       "      <td>0.37</td>\n",
       "      <td>0.63</td>\n",
       "      <td>0</td>\n",
       "    </tr>\n",
       "    <tr>\n",
       "      <th>4</th>\n",
       "      <td>511</td>\n",
       "      <td>99</td>\n",
       "      <td>NaN</td>\n",
       "      <td>2</td>\n",
       "      <td>22</td>\n",
       "      <td>1</td>\n",
       "      <td>0.00</td>\n",
       "      <td>0.00</td>\n",
       "      <td>0.17</td>\n",
       "      <td>23</td>\n",
       "      <td>...</td>\n",
       "      <td>1527.80</td>\n",
       "      <td>1908.43</td>\n",
       "      <td>1305.88</td>\n",
       "      <td>1885.73</td>\n",
       "      <td>1731.81</td>\n",
       "      <td>1297.05</td>\n",
       "      <td>1323.80</td>\n",
       "      <td>0.95</td>\n",
       "      <td>0.00</td>\n",
       "      <td>0</td>\n",
       "    </tr>\n",
       "    <tr>\n",
       "      <th>...</th>\n",
       "      <td>...</td>\n",
       "      <td>...</td>\n",
       "      <td>...</td>\n",
       "      <td>...</td>\n",
       "      <td>...</td>\n",
       "      <td>...</td>\n",
       "      <td>...</td>\n",
       "      <td>...</td>\n",
       "      <td>...</td>\n",
       "      <td>...</td>\n",
       "      <td>...</td>\n",
       "      <td>...</td>\n",
       "      <td>...</td>\n",
       "      <td>...</td>\n",
       "      <td>...</td>\n",
       "      <td>...</td>\n",
       "      <td>...</td>\n",
       "      <td>...</td>\n",
       "      <td>...</td>\n",
       "      <td>...</td>\n",
       "      <td>...</td>\n",
       "    </tr>\n",
       "    <tr>\n",
       "      <th>114</th>\n",
       "      <td>624</td>\n",
       "      <td>1</td>\n",
       "      <td>NaN</td>\n",
       "      <td>1</td>\n",
       "      <td>20</td>\n",
       "      <td>23</td>\n",
       "      <td>1.33</td>\n",
       "      <td>1.00</td>\n",
       "      <td>0.67</td>\n",
       "      <td>60</td>\n",
       "      <td>...</td>\n",
       "      <td>696.15</td>\n",
       "      <td>685.56</td>\n",
       "      <td>799.69</td>\n",
       "      <td>764.35</td>\n",
       "      <td>645.86</td>\n",
       "      <td>843.43</td>\n",
       "      <td>746.44</td>\n",
       "      <td>0.65</td>\n",
       "      <td>0.81</td>\n",
       "      <td>1</td>\n",
       "    </tr>\n",
       "    <tr>\n",
       "      <th>115</th>\n",
       "      <td>625</td>\n",
       "      <td>2</td>\n",
       "      <td>subsyndromal current</td>\n",
       "      <td>1</td>\n",
       "      <td>19</td>\n",
       "      <td>16</td>\n",
       "      <td>0.67</td>\n",
       "      <td>1.00</td>\n",
       "      <td>0.83</td>\n",
       "      <td>60</td>\n",
       "      <td>...</td>\n",
       "      <td>1149.39</td>\n",
       "      <td>1130.02</td>\n",
       "      <td>1153.62</td>\n",
       "      <td>1159.48</td>\n",
       "      <td>1116.37</td>\n",
       "      <td>1139.42</td>\n",
       "      <td>1182.42</td>\n",
       "      <td>0.69</td>\n",
       "      <td>1.00</td>\n",
       "      <td>1</td>\n",
       "    </tr>\n",
       "    <tr>\n",
       "      <th>116</th>\n",
       "      <td>626</td>\n",
       "      <td>1</td>\n",
       "      <td>NaN</td>\n",
       "      <td>1</td>\n",
       "      <td>18</td>\n",
       "      <td>14</td>\n",
       "      <td>0.33</td>\n",
       "      <td>1.00</td>\n",
       "      <td>0.83</td>\n",
       "      <td>41</td>\n",
       "      <td>...</td>\n",
       "      <td>1805.77</td>\n",
       "      <td>1878.83</td>\n",
       "      <td>1732.71</td>\n",
       "      <td>1071.52</td>\n",
       "      <td>1878.83</td>\n",
       "      <td>1780.84</td>\n",
       "      <td>1732.71</td>\n",
       "      <td>0.70</td>\n",
       "      <td>0.38</td>\n",
       "      <td>1</td>\n",
       "    </tr>\n",
       "    <tr>\n",
       "      <th>117</th>\n",
       "      <td>627</td>\n",
       "      <td>2</td>\n",
       "      <td>NaN</td>\n",
       "      <td>2</td>\n",
       "      <td>19</td>\n",
       "      <td>30</td>\n",
       "      <td>1.00</td>\n",
       "      <td>1.33</td>\n",
       "      <td>2.17</td>\n",
       "      <td>47</td>\n",
       "      <td>...</td>\n",
       "      <td>2131.00</td>\n",
       "      <td>2065.05</td>\n",
       "      <td>2270.20</td>\n",
       "      <td>2167.89</td>\n",
       "      <td>1941.75</td>\n",
       "      <td>2261.39</td>\n",
       "      <td>2320.25</td>\n",
       "      <td>0.10</td>\n",
       "      <td>0.61</td>\n",
       "      <td>1</td>\n",
       "    </tr>\n",
       "    <tr>\n",
       "      <th>118</th>\n",
       "      <td>628</td>\n",
       "      <td>1</td>\n",
       "      <td>dysthymic, Hx Alc curr cannabis</td>\n",
       "      <td>2</td>\n",
       "      <td>18</td>\n",
       "      <td>19</td>\n",
       "      <td>0.50</td>\n",
       "      <td>0.67</td>\n",
       "      <td>1.67</td>\n",
       "      <td>56</td>\n",
       "      <td>...</td>\n",
       "      <td>1003.15</td>\n",
       "      <td>1118.97</td>\n",
       "      <td>1010.33</td>\n",
       "      <td>862.58</td>\n",
       "      <td>1118.97</td>\n",
       "      <td>1181.48</td>\n",
       "      <td>887.32</td>\n",
       "      <td>0.00</td>\n",
       "      <td>0.00</td>\n",
       "      <td>1</td>\n",
       "    </tr>\n",
       "  </tbody>\n",
       "</table>\n",
       "<p>119 rows × 36 columns</p>\n",
       "</div>"
      ],
      "text/plain": [
       "      id  SCID                        SCID_note  sex age  BDI  BDI_cog  \\\n",
       "0    507    99                              NaN    1  19    0     0.00   \n",
       "1    508    99                              NaN    1  18    4     0.00   \n",
       "2    509    99                              NaN    1  18    7     0.17   \n",
       "3    510    99                              NaN    1  19    1     0.00   \n",
       "4    511    99                              NaN    2  22    1     0.00   \n",
       "..   ...   ...                              ...  ...  ..  ...      ...   \n",
       "114  624     1                              NaN    1  20   23     1.33   \n",
       "115  625     2             subsyndromal current    1  19   16     0.67   \n",
       "116  626     1                              NaN    1  18   14     0.33   \n",
       "117  627     2                              NaN    2  19   30     1.00   \n",
       "118  628     1  dysthymic, Hx Alc curr cannabis    2  18   19     0.50   \n",
       "\n",
       "     BDI_aff  BDI_som  TAI  ...  loconf_rt   pos_rt   neg_rt  hiconf_pos_rt  \\\n",
       "0       0.00     0.00   23  ...     753.41   722.02   828.73         728.22   \n",
       "1       0.67     0.17   47  ...     932.63   772.36   986.75          771.2   \n",
       "2       0.00     0.67   44  ...     739.20   739.28   830.53         794.16   \n",
       "3       0.00     0.17   27  ...    1239.09  1231.04  1500.54        1113.41   \n",
       "4       0.00     0.17   23  ...    1527.80  1908.43  1305.88        1885.73   \n",
       "..       ...      ...  ...  ...        ...      ...      ...            ...   \n",
       "114     1.00     0.67   60  ...     696.15   685.56   799.69         764.35   \n",
       "115     1.00     0.83   60  ...    1149.39  1130.02  1153.62        1159.48   \n",
       "116     1.00     0.83   41  ...    1805.77  1878.83  1732.71        1071.52   \n",
       "117     1.33     2.17   47  ...    2131.00  2065.05  2270.20        2167.89   \n",
       "118     0.67     1.67   56  ...    1003.15  1118.97  1010.33         862.58   \n",
       "\n",
       "     loconf_pos_rt  hiconf_neg_rt  loconf_neg_rt  TST_aG  TST_aL  disorder  \n",
       "0           721.10         905.28         785.73    0.12    0.00         0  \n",
       "1           896.43        1202.03         968.84    0.28    0.93         0  \n",
       "2           736.67         830.53         741.74    0.07    0.05         0  \n",
       "3          1123.20        1035.47        1354.97    0.37    0.63         0  \n",
       "4          1731.81        1297.05        1323.80    0.95    0.00         0  \n",
       "..             ...            ...            ...     ...     ...       ...  \n",
       "114         645.86         843.43         746.44    0.65    0.81         1  \n",
       "115        1116.37        1139.42        1182.42    0.69    1.00         1  \n",
       "116        1878.83        1780.84        1732.71    0.70    0.38         1  \n",
       "117        1941.75        2261.39        2320.25    0.10    0.61         1  \n",
       "118        1118.97        1181.48         887.32    0.00    0.00         1  \n",
       "\n",
       "[119 rows x 36 columns]"
      ]
     },
     "execution_count": 54,
     "metadata": {},
     "output_type": "execute_result"
    }
   ],
   "source": [
    "data"
   ]
  },
  {
   "cell_type": "code",
   "execution_count": 55,
   "metadata": {
    "executionInfo": {
     "elapsed": 2,
     "status": "ok",
     "timestamp": 1677517800596,
     "user": {
      "displayName": "Anna Grabowska",
      "userId": "15734344613010880864"
     },
     "user_tz": -60
    },
    "id": "4wVOizBbnthp"
   },
   "outputs": [],
   "source": [
    "ids = data['id'][:].astype(int)"
   ]
  },
  {
   "cell_type": "markdown",
   "metadata": {
    "id": "wDt-UDhFqu0g"
   },
   "source": [
    "## Load EEG data"
   ]
  },
  {
   "cell_type": "code",
   "execution_count": 56,
   "metadata": {},
   "outputs": [],
   "source": [
    "def read_epochs(group):\n",
    "    epochs = []\n",
    "    data_df = group.copy()\n",
    "    for i in range(len(group)):\n",
    "        fname = str(int(group.values[i, 0])) + \"-epo.fif\"\n",
    "        print(fname)\n",
    "        # this one doesn't exist|\n",
    "        if fname == \"599-epo.fif\" or fname == \"600-epo.fif\":\n",
    "            continue  \n",
    "        epochs.append(mne.read_epochs('data/' + fname))\n",
    "    data_df['epochs'] = epochs\n",
    "    \n",
    "    return data_df"
   ]
  },
  {
   "cell_type": "code",
   "execution_count": 57,
   "metadata": {},
   "outputs": [],
   "source": [
    "%%capture\n",
    "df_name = 'replication_data'\n",
    "pickled_data_filename = 'data/' + df_name + '.pkl'\n",
    "\n",
    "if os.path.isfile(pickled_data_filename):\n",
    "    print(\"Pickled file found. Loading pickled data...\")\n",
    "    data_df = pd.read_pickle(pickled_data_filename)\n",
    "    print(\"Done\")\n",
    "    pass\n",
    "else:\n",
    "    print(\"Pickled file not found. Loading data...\")\n",
    "    data_df = read_epochs (data)\n",
    "    data_df.name = df_name\n",
    "    # save loaded data into a pickle file\n",
    "    data_df.to_pickle(\"data/\" + data_df.name + \".pkl\")\n",
    "    print(\"Done. Pickle file created\")"
   ]
  },
  {
   "cell_type": "code",
   "execution_count": 58,
   "metadata": {},
   "outputs": [
    {
     "data": {
      "text/html": [
       "<div>\n",
       "<style scoped>\n",
       "    .dataframe tbody tr th:only-of-type {\n",
       "        vertical-align: middle;\n",
       "    }\n",
       "\n",
       "    .dataframe tbody tr th {\n",
       "        vertical-align: top;\n",
       "    }\n",
       "\n",
       "    .dataframe thead th {\n",
       "        text-align: right;\n",
       "    }\n",
       "</style>\n",
       "<table border=\"1\" class=\"dataframe\">\n",
       "  <thead>\n",
       "    <tr style=\"text-align: right;\">\n",
       "      <th></th>\n",
       "      <th>id</th>\n",
       "      <th>SCID</th>\n",
       "      <th>SCID_note</th>\n",
       "      <th>sex</th>\n",
       "      <th>age</th>\n",
       "      <th>BDI</th>\n",
       "      <th>BDI_cog</th>\n",
       "      <th>BDI_aff</th>\n",
       "      <th>BDI_som</th>\n",
       "      <th>TAI</th>\n",
       "      <th>...</th>\n",
       "      <th>hiconf_pos_rt</th>\n",
       "      <th>loconf_pos_rt</th>\n",
       "      <th>hiconf_neg_rt</th>\n",
       "      <th>loconf_neg_rt</th>\n",
       "      <th>TST_aG</th>\n",
       "      <th>TST_aL</th>\n",
       "      <th>disorder</th>\n",
       "      <th>epochs</th>\n",
       "      <th>delta</th>\n",
       "      <th>theta</th>\n",
       "    </tr>\n",
       "  </thead>\n",
       "  <tbody>\n",
       "    <tr>\n",
       "      <th>0</th>\n",
       "      <td>507</td>\n",
       "      <td>99</td>\n",
       "      <td>NaN</td>\n",
       "      <td>1</td>\n",
       "      <td>19</td>\n",
       "      <td>0</td>\n",
       "      <td>0.00</td>\n",
       "      <td>0.00</td>\n",
       "      <td>0.00</td>\n",
       "      <td>23</td>\n",
       "      <td>...</td>\n",
       "      <td>728.22</td>\n",
       "      <td>721.10</td>\n",
       "      <td>905.28</td>\n",
       "      <td>785.73</td>\n",
       "      <td>0.12</td>\n",
       "      <td>0.00</td>\n",
       "      <td>0</td>\n",
       "      <td>&lt;EpochsFIF |  107 events (all good), -0.5 - 1 ...</td>\n",
       "      <td>&lt;EpochsFIF |  107 events (all good), -0.5 - 1 ...</td>\n",
       "      <td>&lt;EpochsFIF |  107 events (all good), -0.5 - 1 ...</td>\n",
       "    </tr>\n",
       "    <tr>\n",
       "      <th>1</th>\n",
       "      <td>508</td>\n",
       "      <td>99</td>\n",
       "      <td>NaN</td>\n",
       "      <td>1</td>\n",
       "      <td>18</td>\n",
       "      <td>4</td>\n",
       "      <td>0.00</td>\n",
       "      <td>0.67</td>\n",
       "      <td>0.17</td>\n",
       "      <td>47</td>\n",
       "      <td>...</td>\n",
       "      <td>771.2</td>\n",
       "      <td>896.43</td>\n",
       "      <td>1202.03</td>\n",
       "      <td>968.84</td>\n",
       "      <td>0.28</td>\n",
       "      <td>0.93</td>\n",
       "      <td>0</td>\n",
       "      <td>&lt;EpochsFIF |  354 events (all good), -0.5 - 1 ...</td>\n",
       "      <td>&lt;EpochsFIF |  354 events (all good), -0.5 - 1 ...</td>\n",
       "      <td>&lt;EpochsFIF |  354 events (all good), -0.5 - 1 ...</td>\n",
       "    </tr>\n",
       "    <tr>\n",
       "      <th>2</th>\n",
       "      <td>509</td>\n",
       "      <td>99</td>\n",
       "      <td>NaN</td>\n",
       "      <td>1</td>\n",
       "      <td>18</td>\n",
       "      <td>7</td>\n",
       "      <td>0.17</td>\n",
       "      <td>0.00</td>\n",
       "      <td>0.67</td>\n",
       "      <td>44</td>\n",
       "      <td>...</td>\n",
       "      <td>794.16</td>\n",
       "      <td>736.67</td>\n",
       "      <td>830.53</td>\n",
       "      <td>741.74</td>\n",
       "      <td>0.07</td>\n",
       "      <td>0.05</td>\n",
       "      <td>0</td>\n",
       "      <td>&lt;EpochsFIF |  58 events (all good), -0.5 - 1 s...</td>\n",
       "      <td>&lt;EpochsFIF |  58 events (all good), -0.5 - 1 s...</td>\n",
       "      <td>&lt;EpochsFIF |  58 events (all good), -0.5 - 1 s...</td>\n",
       "    </tr>\n",
       "    <tr>\n",
       "      <th>3</th>\n",
       "      <td>510</td>\n",
       "      <td>99</td>\n",
       "      <td>NaN</td>\n",
       "      <td>1</td>\n",
       "      <td>19</td>\n",
       "      <td>1</td>\n",
       "      <td>0.00</td>\n",
       "      <td>0.00</td>\n",
       "      <td>0.17</td>\n",
       "      <td>27</td>\n",
       "      <td>...</td>\n",
       "      <td>1113.41</td>\n",
       "      <td>1123.20</td>\n",
       "      <td>1035.47</td>\n",
       "      <td>1354.97</td>\n",
       "      <td>0.37</td>\n",
       "      <td>0.63</td>\n",
       "      <td>0</td>\n",
       "      <td>&lt;EpochsFIF |  180 events (all good), -0.5 - 1 ...</td>\n",
       "      <td>&lt;EpochsFIF |  180 events (all good), -0.5 - 1 ...</td>\n",
       "      <td>&lt;EpochsFIF |  180 events (all good), -0.5 - 1 ...</td>\n",
       "    </tr>\n",
       "    <tr>\n",
       "      <th>4</th>\n",
       "      <td>511</td>\n",
       "      <td>99</td>\n",
       "      <td>NaN</td>\n",
       "      <td>2</td>\n",
       "      <td>22</td>\n",
       "      <td>1</td>\n",
       "      <td>0.00</td>\n",
       "      <td>0.00</td>\n",
       "      <td>0.17</td>\n",
       "      <td>23</td>\n",
       "      <td>...</td>\n",
       "      <td>1885.73</td>\n",
       "      <td>1731.81</td>\n",
       "      <td>1297.05</td>\n",
       "      <td>1323.80</td>\n",
       "      <td>0.95</td>\n",
       "      <td>0.00</td>\n",
       "      <td>0</td>\n",
       "      <td>&lt;EpochsFIF |  348 events (all good), -0.5 - 1 ...</td>\n",
       "      <td>&lt;EpochsFIF |  348 events (all good), -0.5 - 1 ...</td>\n",
       "      <td>&lt;EpochsFIF |  348 events (all good), -0.5 - 1 ...</td>\n",
       "    </tr>\n",
       "  </tbody>\n",
       "</table>\n",
       "<p>5 rows × 39 columns</p>\n",
       "</div>"
      ],
      "text/plain": [
       "    id  SCID SCID_note  sex age  BDI  BDI_cog  BDI_aff  BDI_som  TAI  ...  \\\n",
       "0  507    99       NaN    1  19    0     0.00     0.00     0.00   23  ...   \n",
       "1  508    99       NaN    1  18    4     0.00     0.67     0.17   47  ...   \n",
       "2  509    99       NaN    1  18    7     0.17     0.00     0.67   44  ...   \n",
       "3  510    99       NaN    1  19    1     0.00     0.00     0.17   27  ...   \n",
       "4  511    99       NaN    2  22    1     0.00     0.00     0.17   23  ...   \n",
       "\n",
       "   hiconf_pos_rt  loconf_pos_rt  hiconf_neg_rt  loconf_neg_rt  TST_aG  TST_aL  \\\n",
       "0         728.22         721.10         905.28         785.73    0.12    0.00   \n",
       "1          771.2         896.43        1202.03         968.84    0.28    0.93   \n",
       "2         794.16         736.67         830.53         741.74    0.07    0.05   \n",
       "3        1113.41        1123.20        1035.47        1354.97    0.37    0.63   \n",
       "4        1885.73        1731.81        1297.05        1323.80    0.95    0.00   \n",
       "\n",
       "   disorder                                             epochs  \\\n",
       "0         0  <EpochsFIF |  107 events (all good), -0.5 - 1 ...   \n",
       "1         0  <EpochsFIF |  354 events (all good), -0.5 - 1 ...   \n",
       "2         0  <EpochsFIF |  58 events (all good), -0.5 - 1 s...   \n",
       "3         0  <EpochsFIF |  180 events (all good), -0.5 - 1 ...   \n",
       "4         0  <EpochsFIF |  348 events (all good), -0.5 - 1 ...   \n",
       "\n",
       "                                               delta  \\\n",
       "0  <EpochsFIF |  107 events (all good), -0.5 - 1 ...   \n",
       "1  <EpochsFIF |  354 events (all good), -0.5 - 1 ...   \n",
       "2  <EpochsFIF |  58 events (all good), -0.5 - 1 s...   \n",
       "3  <EpochsFIF |  180 events (all good), -0.5 - 1 ...   \n",
       "4  <EpochsFIF |  348 events (all good), -0.5 - 1 ...   \n",
       "\n",
       "                                               theta  \n",
       "0  <EpochsFIF |  107 events (all good), -0.5 - 1 ...  \n",
       "1  <EpochsFIF |  354 events (all good), -0.5 - 1 ...  \n",
       "2  <EpochsFIF |  58 events (all good), -0.5 - 1 s...  \n",
       "3  <EpochsFIF |  180 events (all good), -0.5 - 1 ...  \n",
       "4  <EpochsFIF |  348 events (all good), -0.5 - 1 ...  \n",
       "\n",
       "[5 rows x 39 columns]"
      ]
     },
     "execution_count": 58,
     "metadata": {},
     "output_type": "execute_result"
    }
   ],
   "source": [
    "data_df.head()"
   ]
  },
  {
   "cell_type": "markdown",
   "metadata": {},
   "source": [
    "### Add frequency data"
   ]
  },
  {
   "cell_type": "code",
   "execution_count": 10,
   "metadata": {},
   "outputs": [],
   "source": [
    "freq_ranges = [(0.0,3.5), (4.0,9.0)]"
   ]
  },
  {
   "cell_type": "markdown",
   "metadata": {},
   "source": [
    "- add delta"
   ]
  },
  {
   "cell_type": "code",
   "execution_count": 11,
   "metadata": {},
   "outputs": [],
   "source": [
    "%%capture\n",
    "\n",
    "data_df['delta'] = data_df['epochs'].apply(lambda x: x.copy().filter(\n",
    "    freq_ranges[0][0], \n",
    "    freq_ranges[0][1], \n",
    "    fir_design='firwin', \n",
    "    skip_by_annotation='edge',\n",
    "    h_trans_bandwidth = 2.2,\n",
    "))"
   ]
  },
  {
   "cell_type": "code",
   "execution_count": 12,
   "metadata": {},
   "outputs": [
    {
     "data": {
      "text/html": [
       "<div>\n",
       "<style scoped>\n",
       "    .dataframe tbody tr th:only-of-type {\n",
       "        vertical-align: middle;\n",
       "    }\n",
       "\n",
       "    .dataframe tbody tr th {\n",
       "        vertical-align: top;\n",
       "    }\n",
       "\n",
       "    .dataframe thead th {\n",
       "        text-align: right;\n",
       "    }\n",
       "</style>\n",
       "<table border=\"1\" class=\"dataframe\">\n",
       "  <thead>\n",
       "    <tr style=\"text-align: right;\">\n",
       "      <th></th>\n",
       "      <th>id</th>\n",
       "      <th>SCID</th>\n",
       "      <th>SCID_note</th>\n",
       "      <th>sex</th>\n",
       "      <th>age</th>\n",
       "      <th>BDI</th>\n",
       "      <th>BDI_cog</th>\n",
       "      <th>BDI_aff</th>\n",
       "      <th>BDI_som</th>\n",
       "      <th>TAI</th>\n",
       "      <th>...</th>\n",
       "      <th>neg_rt</th>\n",
       "      <th>hiconf_pos_rt</th>\n",
       "      <th>loconf_pos_rt</th>\n",
       "      <th>hiconf_neg_rt</th>\n",
       "      <th>loconf_neg_rt</th>\n",
       "      <th>TST_aG</th>\n",
       "      <th>TST_aL</th>\n",
       "      <th>disorder</th>\n",
       "      <th>epochs</th>\n",
       "      <th>delta</th>\n",
       "    </tr>\n",
       "  </thead>\n",
       "  <tbody>\n",
       "    <tr>\n",
       "      <th>0</th>\n",
       "      <td>507</td>\n",
       "      <td>99</td>\n",
       "      <td>NaN</td>\n",
       "      <td>1</td>\n",
       "      <td>19</td>\n",
       "      <td>0</td>\n",
       "      <td>0.00</td>\n",
       "      <td>0.00</td>\n",
       "      <td>0.00</td>\n",
       "      <td>23</td>\n",
       "      <td>...</td>\n",
       "      <td>828.73</td>\n",
       "      <td>728.22</td>\n",
       "      <td>721.10</td>\n",
       "      <td>905.28</td>\n",
       "      <td>785.73</td>\n",
       "      <td>0.12</td>\n",
       "      <td>0.00</td>\n",
       "      <td>0</td>\n",
       "      <td>&lt;EpochsFIF |  107 events (all good), -0.5 - 1 ...</td>\n",
       "      <td>&lt;EpochsFIF |  107 events (all good), -0.5 - 1 ...</td>\n",
       "    </tr>\n",
       "    <tr>\n",
       "      <th>1</th>\n",
       "      <td>508</td>\n",
       "      <td>99</td>\n",
       "      <td>NaN</td>\n",
       "      <td>1</td>\n",
       "      <td>18</td>\n",
       "      <td>4</td>\n",
       "      <td>0.00</td>\n",
       "      <td>0.67</td>\n",
       "      <td>0.17</td>\n",
       "      <td>47</td>\n",
       "      <td>...</td>\n",
       "      <td>986.75</td>\n",
       "      <td>771.2</td>\n",
       "      <td>896.43</td>\n",
       "      <td>1202.03</td>\n",
       "      <td>968.84</td>\n",
       "      <td>0.28</td>\n",
       "      <td>0.93</td>\n",
       "      <td>0</td>\n",
       "      <td>&lt;EpochsFIF |  354 events (all good), -0.5 - 1 ...</td>\n",
       "      <td>&lt;EpochsFIF |  354 events (all good), -0.5 - 1 ...</td>\n",
       "    </tr>\n",
       "    <tr>\n",
       "      <th>2</th>\n",
       "      <td>509</td>\n",
       "      <td>99</td>\n",
       "      <td>NaN</td>\n",
       "      <td>1</td>\n",
       "      <td>18</td>\n",
       "      <td>7</td>\n",
       "      <td>0.17</td>\n",
       "      <td>0.00</td>\n",
       "      <td>0.67</td>\n",
       "      <td>44</td>\n",
       "      <td>...</td>\n",
       "      <td>830.53</td>\n",
       "      <td>794.16</td>\n",
       "      <td>736.67</td>\n",
       "      <td>830.53</td>\n",
       "      <td>741.74</td>\n",
       "      <td>0.07</td>\n",
       "      <td>0.05</td>\n",
       "      <td>0</td>\n",
       "      <td>&lt;EpochsFIF |  58 events (all good), -0.5 - 1 s...</td>\n",
       "      <td>&lt;EpochsFIF |  58 events (all good), -0.5 - 1 s...</td>\n",
       "    </tr>\n",
       "    <tr>\n",
       "      <th>3</th>\n",
       "      <td>510</td>\n",
       "      <td>99</td>\n",
       "      <td>NaN</td>\n",
       "      <td>1</td>\n",
       "      <td>19</td>\n",
       "      <td>1</td>\n",
       "      <td>0.00</td>\n",
       "      <td>0.00</td>\n",
       "      <td>0.17</td>\n",
       "      <td>27</td>\n",
       "      <td>...</td>\n",
       "      <td>1500.54</td>\n",
       "      <td>1113.41</td>\n",
       "      <td>1123.20</td>\n",
       "      <td>1035.47</td>\n",
       "      <td>1354.97</td>\n",
       "      <td>0.37</td>\n",
       "      <td>0.63</td>\n",
       "      <td>0</td>\n",
       "      <td>&lt;EpochsFIF |  180 events (all good), -0.5 - 1 ...</td>\n",
       "      <td>&lt;EpochsFIF |  180 events (all good), -0.5 - 1 ...</td>\n",
       "    </tr>\n",
       "    <tr>\n",
       "      <th>4</th>\n",
       "      <td>511</td>\n",
       "      <td>99</td>\n",
       "      <td>NaN</td>\n",
       "      <td>2</td>\n",
       "      <td>22</td>\n",
       "      <td>1</td>\n",
       "      <td>0.00</td>\n",
       "      <td>0.00</td>\n",
       "      <td>0.17</td>\n",
       "      <td>23</td>\n",
       "      <td>...</td>\n",
       "      <td>1305.88</td>\n",
       "      <td>1885.73</td>\n",
       "      <td>1731.81</td>\n",
       "      <td>1297.05</td>\n",
       "      <td>1323.80</td>\n",
       "      <td>0.95</td>\n",
       "      <td>0.00</td>\n",
       "      <td>0</td>\n",
       "      <td>&lt;EpochsFIF |  348 events (all good), -0.5 - 1 ...</td>\n",
       "      <td>&lt;EpochsFIF |  348 events (all good), -0.5 - 1 ...</td>\n",
       "    </tr>\n",
       "  </tbody>\n",
       "</table>\n",
       "<p>5 rows × 38 columns</p>\n",
       "</div>"
      ],
      "text/plain": [
       "    id  SCID SCID_note  sex age  BDI  BDI_cog  BDI_aff  BDI_som  TAI  ...  \\\n",
       "0  507    99       NaN    1  19    0     0.00     0.00     0.00   23  ...   \n",
       "1  508    99       NaN    1  18    4     0.00     0.67     0.17   47  ...   \n",
       "2  509    99       NaN    1  18    7     0.17     0.00     0.67   44  ...   \n",
       "3  510    99       NaN    1  19    1     0.00     0.00     0.17   27  ...   \n",
       "4  511    99       NaN    2  22    1     0.00     0.00     0.17   23  ...   \n",
       "\n",
       "    neg_rt  hiconf_pos_rt  loconf_pos_rt  hiconf_neg_rt  loconf_neg_rt  \\\n",
       "0   828.73         728.22         721.10         905.28         785.73   \n",
       "1   986.75          771.2         896.43        1202.03         968.84   \n",
       "2   830.53         794.16         736.67         830.53         741.74   \n",
       "3  1500.54        1113.41        1123.20        1035.47        1354.97   \n",
       "4  1305.88        1885.73        1731.81        1297.05        1323.80   \n",
       "\n",
       "   TST_aG  TST_aL  disorder  \\\n",
       "0    0.12    0.00         0   \n",
       "1    0.28    0.93         0   \n",
       "2    0.07    0.05         0   \n",
       "3    0.37    0.63         0   \n",
       "4    0.95    0.00         0   \n",
       "\n",
       "                                              epochs  \\\n",
       "0  <EpochsFIF |  107 events (all good), -0.5 - 1 ...   \n",
       "1  <EpochsFIF |  354 events (all good), -0.5 - 1 ...   \n",
       "2  <EpochsFIF |  58 events (all good), -0.5 - 1 s...   \n",
       "3  <EpochsFIF |  180 events (all good), -0.5 - 1 ...   \n",
       "4  <EpochsFIF |  348 events (all good), -0.5 - 1 ...   \n",
       "\n",
       "                                               delta  \n",
       "0  <EpochsFIF |  107 events (all good), -0.5 - 1 ...  \n",
       "1  <EpochsFIF |  354 events (all good), -0.5 - 1 ...  \n",
       "2  <EpochsFIF |  58 events (all good), -0.5 - 1 s...  \n",
       "3  <EpochsFIF |  180 events (all good), -0.5 - 1 ...  \n",
       "4  <EpochsFIF |  348 events (all good), -0.5 - 1 ...  \n",
       "\n",
       "[5 rows x 38 columns]"
      ]
     },
     "execution_count": 12,
     "metadata": {},
     "output_type": "execute_result"
    }
   ],
   "source": [
    "data_df.head()"
   ]
  },
  {
   "cell_type": "markdown",
   "metadata": {},
   "source": [
    "- add theta"
   ]
  },
  {
   "cell_type": "code",
   "execution_count": 13,
   "metadata": {},
   "outputs": [],
   "source": [
    "%%capture\n",
    "\n",
    "data_df['theta'] = data_df['epochs'].apply(lambda x: x.copy().filter(\n",
    "    freq_ranges[1][0], \n",
    "    freq_ranges[1][1], \n",
    "    fir_design='firwin', \n",
    "    skip_by_annotation='edge',\n",
    "))"
   ]
  },
  {
   "cell_type": "code",
   "execution_count": 14,
   "metadata": {},
   "outputs": [
    {
     "data": {
      "text/html": [
       "<div>\n",
       "<style scoped>\n",
       "    .dataframe tbody tr th:only-of-type {\n",
       "        vertical-align: middle;\n",
       "    }\n",
       "\n",
       "    .dataframe tbody tr th {\n",
       "        vertical-align: top;\n",
       "    }\n",
       "\n",
       "    .dataframe thead th {\n",
       "        text-align: right;\n",
       "    }\n",
       "</style>\n",
       "<table border=\"1\" class=\"dataframe\">\n",
       "  <thead>\n",
       "    <tr style=\"text-align: right;\">\n",
       "      <th></th>\n",
       "      <th>id</th>\n",
       "      <th>SCID</th>\n",
       "      <th>SCID_note</th>\n",
       "      <th>sex</th>\n",
       "      <th>age</th>\n",
       "      <th>BDI</th>\n",
       "      <th>BDI_cog</th>\n",
       "      <th>BDI_aff</th>\n",
       "      <th>BDI_som</th>\n",
       "      <th>TAI</th>\n",
       "      <th>...</th>\n",
       "      <th>hiconf_pos_rt</th>\n",
       "      <th>loconf_pos_rt</th>\n",
       "      <th>hiconf_neg_rt</th>\n",
       "      <th>loconf_neg_rt</th>\n",
       "      <th>TST_aG</th>\n",
       "      <th>TST_aL</th>\n",
       "      <th>disorder</th>\n",
       "      <th>epochs</th>\n",
       "      <th>delta</th>\n",
       "      <th>theta</th>\n",
       "    </tr>\n",
       "  </thead>\n",
       "  <tbody>\n",
       "    <tr>\n",
       "      <th>0</th>\n",
       "      <td>507</td>\n",
       "      <td>99</td>\n",
       "      <td>NaN</td>\n",
       "      <td>1</td>\n",
       "      <td>19</td>\n",
       "      <td>0</td>\n",
       "      <td>0.00</td>\n",
       "      <td>0.00</td>\n",
       "      <td>0.00</td>\n",
       "      <td>23</td>\n",
       "      <td>...</td>\n",
       "      <td>728.22</td>\n",
       "      <td>721.10</td>\n",
       "      <td>905.28</td>\n",
       "      <td>785.73</td>\n",
       "      <td>0.12</td>\n",
       "      <td>0.00</td>\n",
       "      <td>0</td>\n",
       "      <td>&lt;EpochsFIF |  107 events (all good), -0.5 - 1 ...</td>\n",
       "      <td>&lt;EpochsFIF |  107 events (all good), -0.5 - 1 ...</td>\n",
       "      <td>&lt;EpochsFIF |  107 events (all good), -0.5 - 1 ...</td>\n",
       "    </tr>\n",
       "    <tr>\n",
       "      <th>1</th>\n",
       "      <td>508</td>\n",
       "      <td>99</td>\n",
       "      <td>NaN</td>\n",
       "      <td>1</td>\n",
       "      <td>18</td>\n",
       "      <td>4</td>\n",
       "      <td>0.00</td>\n",
       "      <td>0.67</td>\n",
       "      <td>0.17</td>\n",
       "      <td>47</td>\n",
       "      <td>...</td>\n",
       "      <td>771.2</td>\n",
       "      <td>896.43</td>\n",
       "      <td>1202.03</td>\n",
       "      <td>968.84</td>\n",
       "      <td>0.28</td>\n",
       "      <td>0.93</td>\n",
       "      <td>0</td>\n",
       "      <td>&lt;EpochsFIF |  354 events (all good), -0.5 - 1 ...</td>\n",
       "      <td>&lt;EpochsFIF |  354 events (all good), -0.5 - 1 ...</td>\n",
       "      <td>&lt;EpochsFIF |  354 events (all good), -0.5 - 1 ...</td>\n",
       "    </tr>\n",
       "    <tr>\n",
       "      <th>2</th>\n",
       "      <td>509</td>\n",
       "      <td>99</td>\n",
       "      <td>NaN</td>\n",
       "      <td>1</td>\n",
       "      <td>18</td>\n",
       "      <td>7</td>\n",
       "      <td>0.17</td>\n",
       "      <td>0.00</td>\n",
       "      <td>0.67</td>\n",
       "      <td>44</td>\n",
       "      <td>...</td>\n",
       "      <td>794.16</td>\n",
       "      <td>736.67</td>\n",
       "      <td>830.53</td>\n",
       "      <td>741.74</td>\n",
       "      <td>0.07</td>\n",
       "      <td>0.05</td>\n",
       "      <td>0</td>\n",
       "      <td>&lt;EpochsFIF |  58 events (all good), -0.5 - 1 s...</td>\n",
       "      <td>&lt;EpochsFIF |  58 events (all good), -0.5 - 1 s...</td>\n",
       "      <td>&lt;EpochsFIF |  58 events (all good), -0.5 - 1 s...</td>\n",
       "    </tr>\n",
       "    <tr>\n",
       "      <th>3</th>\n",
       "      <td>510</td>\n",
       "      <td>99</td>\n",
       "      <td>NaN</td>\n",
       "      <td>1</td>\n",
       "      <td>19</td>\n",
       "      <td>1</td>\n",
       "      <td>0.00</td>\n",
       "      <td>0.00</td>\n",
       "      <td>0.17</td>\n",
       "      <td>27</td>\n",
       "      <td>...</td>\n",
       "      <td>1113.41</td>\n",
       "      <td>1123.20</td>\n",
       "      <td>1035.47</td>\n",
       "      <td>1354.97</td>\n",
       "      <td>0.37</td>\n",
       "      <td>0.63</td>\n",
       "      <td>0</td>\n",
       "      <td>&lt;EpochsFIF |  180 events (all good), -0.5 - 1 ...</td>\n",
       "      <td>&lt;EpochsFIF |  180 events (all good), -0.5 - 1 ...</td>\n",
       "      <td>&lt;EpochsFIF |  180 events (all good), -0.5 - 1 ...</td>\n",
       "    </tr>\n",
       "    <tr>\n",
       "      <th>4</th>\n",
       "      <td>511</td>\n",
       "      <td>99</td>\n",
       "      <td>NaN</td>\n",
       "      <td>2</td>\n",
       "      <td>22</td>\n",
       "      <td>1</td>\n",
       "      <td>0.00</td>\n",
       "      <td>0.00</td>\n",
       "      <td>0.17</td>\n",
       "      <td>23</td>\n",
       "      <td>...</td>\n",
       "      <td>1885.73</td>\n",
       "      <td>1731.81</td>\n",
       "      <td>1297.05</td>\n",
       "      <td>1323.80</td>\n",
       "      <td>0.95</td>\n",
       "      <td>0.00</td>\n",
       "      <td>0</td>\n",
       "      <td>&lt;EpochsFIF |  348 events (all good), -0.5 - 1 ...</td>\n",
       "      <td>&lt;EpochsFIF |  348 events (all good), -0.5 - 1 ...</td>\n",
       "      <td>&lt;EpochsFIF |  348 events (all good), -0.5 - 1 ...</td>\n",
       "    </tr>\n",
       "  </tbody>\n",
       "</table>\n",
       "<p>5 rows × 39 columns</p>\n",
       "</div>"
      ],
      "text/plain": [
       "    id  SCID SCID_note  sex age  BDI  BDI_cog  BDI_aff  BDI_som  TAI  ...  \\\n",
       "0  507    99       NaN    1  19    0     0.00     0.00     0.00   23  ...   \n",
       "1  508    99       NaN    1  18    4     0.00     0.67     0.17   47  ...   \n",
       "2  509    99       NaN    1  18    7     0.17     0.00     0.67   44  ...   \n",
       "3  510    99       NaN    1  19    1     0.00     0.00     0.17   27  ...   \n",
       "4  511    99       NaN    2  22    1     0.00     0.00     0.17   23  ...   \n",
       "\n",
       "   hiconf_pos_rt  loconf_pos_rt  hiconf_neg_rt  loconf_neg_rt  TST_aG  TST_aL  \\\n",
       "0         728.22         721.10         905.28         785.73    0.12    0.00   \n",
       "1          771.2         896.43        1202.03         968.84    0.28    0.93   \n",
       "2         794.16         736.67         830.53         741.74    0.07    0.05   \n",
       "3        1113.41        1123.20        1035.47        1354.97    0.37    0.63   \n",
       "4        1885.73        1731.81        1297.05        1323.80    0.95    0.00   \n",
       "\n",
       "   disorder                                             epochs  \\\n",
       "0         0  <EpochsFIF |  107 events (all good), -0.5 - 1 ...   \n",
       "1         0  <EpochsFIF |  354 events (all good), -0.5 - 1 ...   \n",
       "2         0  <EpochsFIF |  58 events (all good), -0.5 - 1 s...   \n",
       "3         0  <EpochsFIF |  180 events (all good), -0.5 - 1 ...   \n",
       "4         0  <EpochsFIF |  348 events (all good), -0.5 - 1 ...   \n",
       "\n",
       "                                               delta  \\\n",
       "0  <EpochsFIF |  107 events (all good), -0.5 - 1 ...   \n",
       "1  <EpochsFIF |  354 events (all good), -0.5 - 1 ...   \n",
       "2  <EpochsFIF |  58 events (all good), -0.5 - 1 s...   \n",
       "3  <EpochsFIF |  180 events (all good), -0.5 - 1 ...   \n",
       "4  <EpochsFIF |  348 events (all good), -0.5 - 1 ...   \n",
       "\n",
       "                                               theta  \n",
       "0  <EpochsFIF |  107 events (all good), -0.5 - 1 ...  \n",
       "1  <EpochsFIF |  354 events (all good), -0.5 - 1 ...  \n",
       "2  <EpochsFIF |  58 events (all good), -0.5 - 1 s...  \n",
       "3  <EpochsFIF |  180 events (all good), -0.5 - 1 ...  \n",
       "4  <EpochsFIF |  348 events (all good), -0.5 - 1 ...  \n",
       "\n",
       "[5 rows x 39 columns]"
      ]
     },
     "execution_count": 14,
     "metadata": {},
     "output_type": "execute_result"
    }
   ],
   "source": [
    "data_df.head()"
   ]
  },
  {
   "cell_type": "code",
   "execution_count": 18,
   "metadata": {},
   "outputs": [],
   "source": [
    "data_df.to_pickle(\"data/\" + df_name + \".pkl\")"
   ]
  },
  {
   "cell_type": "markdown",
   "metadata": {},
   "source": [
    "## Define groups"
   ]
  },
  {
   "cell_type": "code",
   "execution_count": 59,
   "metadata": {
    "colab": {
     "base_uri": "https://localhost:8080/"
    },
    "executionInfo": {
     "elapsed": 1634,
     "status": "ok",
     "timestamp": 1677518482441,
     "user": {
      "displayName": "Anna Grabowska",
      "userId": "15734344613010880864"
     },
     "user_tz": -60
    },
    "id": "bwQTP8md9TcN",
    "outputId": "06ef3c64-6497-4112-f932-479b0402bb64"
   },
   "outputs": [
    {
     "data": {
      "text/plain": [
       "45"
      ]
     },
     "execution_count": 59,
     "metadata": {},
     "output_type": "execute_result"
    }
   ],
   "source": [
    "ctrl_dep = data_df[(data_df['BDI'] <= 13) & (data_df['TAI'] > 28)]\n",
    "len(ctrl_dep)"
   ]
  },
  {
   "cell_type": "code",
   "execution_count": 60,
   "metadata": {
    "colab": {
     "base_uri": "https://localhost:8080/"
    },
    "executionInfo": {
     "elapsed": 9,
     "status": "ok",
     "timestamp": 1677518482887,
     "user": {
      "displayName": "Anna Grabowska",
      "userId": "15734344613010880864"
     },
     "user_tz": -60
    },
    "id": "99n0TtUK9ksT",
    "outputId": "f3ba7a7e-1df9-40f7-8cb7-531dc5568a22"
   },
   "outputs": [
    {
     "data": {
      "text/plain": [
       "45"
      ]
     },
     "execution_count": 60,
     "metadata": {},
     "output_type": "execute_result"
    }
   ],
   "source": [
    "dep = data_df[(data_df['BDI'] > 13) & (data_df['TAI'] > 28)]\n",
    "len(dep)"
   ]
  },
  {
   "cell_type": "code",
   "execution_count": 61,
   "metadata": {
    "colab": {
     "base_uri": "https://localhost:8080/"
    },
    "executionInfo": {
     "elapsed": 10,
     "status": "ok",
     "timestamp": 1677518484019,
     "user": {
      "displayName": "Anna Grabowska",
      "userId": "15734344613010880864"
     },
     "user_tz": -60
    },
    "id": "97mJ2ng_AbGE",
    "outputId": "ede2577b-dae5-436c-ab09-f410d82f70cb"
   },
   "outputs": [
    {
     "data": {
      "text/plain": [
       "29"
      ]
     },
     "execution_count": 61,
     "metadata": {},
     "output_type": "execute_result"
    }
   ],
   "source": [
    "anx = data_df[(data_df['BDI'] < 7) & (data_df['TAI'] > 31)]\n",
    "len(anx)"
   ]
  },
  {
   "cell_type": "code",
   "execution_count": 62,
   "metadata": {
    "colab": {
     "base_uri": "https://localhost:8080/"
    },
    "executionInfo": {
     "elapsed": 9,
     "status": "ok",
     "timestamp": 1677518484020,
     "user": {
      "displayName": "Anna Grabowska",
      "userId": "15734344613010880864"
     },
     "user_tz": -60
    },
    "id": "G7I_H8GE4A1B",
    "outputId": "71543e90-f1c3-41a1-e05d-65646b48b9eb"
   },
   "outputs": [
    {
     "data": {
      "text/plain": [
       "29"
      ]
     },
     "execution_count": 62,
     "metadata": {},
     "output_type": "execute_result"
    }
   ],
   "source": [
    "ctrl_anx = data_df[(data_df['BDI'] < 7) & (data_df['TAI'] < 29)]\n",
    "len(ctrl_anx)"
   ]
  },
  {
   "cell_type": "markdown",
   "metadata": {},
   "source": [
    "## Classification"
   ]
  },
  {
   "cell_type": "code",
   "execution_count": 63,
   "metadata": {},
   "outputs": [],
   "source": [
    "# Calculating p-value with permutation test from sci-kit learn\n",
    "\n",
    "def calculate_p_permutations(estimator, X, y, cv=3, n_permutations=1000, n_jobs=1):\n",
    "\n",
    "    score_, perm_scores_, pvalue_ = permutation_test_score(\n",
    "        estimator, X, y, cv=cv, n_permutations=n_permutations, n_jobs=n_jobs\n",
    "    )\n",
    "\n",
    "    # summarize\n",
    "    print(f\"     The permutation P-value is = {pvalue_:.4f}\")\n",
    "    print(f\"     The permutation score is = {score_:.4f}\\n\")\n",
    "\n",
    "    return score_, pvalue_"
   ]
  },
  {
   "cell_type": "code",
   "execution_count": 64,
   "metadata": {
    "id": "5ES-E98N1UR5"
   },
   "outputs": [],
   "source": [
    "def evaluate_GS_model(\n",
    "    pipe,\n",
    "    X_train, \n",
    "    y_train, \n",
    "    X_test, \n",
    "    y_test, \n",
    "    classifier_params,\n",
    "    pipeline_name,\n",
    "    cv=StratifiedKFold(n_splits=5),\n",
    "    predict_test = True,\n",
    "    predict_train = True,\n",
    "    ):\n",
    "    \n",
    "    # define grid search\n",
    "    grid_search_model = GridSearchCV(\n",
    "        pipe,\n",
    "        classifier_params,\n",
    "        cv=cv,\n",
    "        scoring={\"roc_auc\", \"balanced_accuracy\", \"precision\", \"recall\"},\n",
    "        refit=\"balanced_accuracy\",\n",
    "        return_train_score=True,\n",
    "        verbose=10,\n",
    "        n_jobs=1,\n",
    "        \n",
    "    )\n",
    "\n",
    "    # fit model\n",
    "    grid_search_model.fit(X_train, y_train)\n",
    "\n",
    "    # predict test data\n",
    "    # y_test_pred = grid_search_model.predict(X_test) if predict_test is True else None\n",
    "    # test_score = roc_auc_score(y_test, y_test_pred) if predict_test is True else None\n",
    "\n",
    "    # predict train data\n",
    "    y_train_pred = grid_search_model.predict(X_train) if predict_train is True else None\n",
    "    train_score = roc_auc_score(y_train, y_train_pred) if predict_train is True else None \n",
    "\n",
    "    # extract mean cv scores\n",
    "    mean_cv_score = grid_search_model.best_score_\n",
    "    \n",
    "    # report\n",
    "    # classification_report_ = classification_report(y_test, y_test_pred, labels=[0,1])\n",
    "\n",
    "    # extract splits scores\n",
    "    # ta linijka wyciąga z cv_results, czyli z DF z wynikami wszystkich testowanych \n",
    "    # w GS parametrów scory na kolejnych splitach cross-validacji\n",
    "    cv_results_df = pd.DataFrame(grid_search_model.cv_results_).iloc[[grid_search_model.best_index_]]\n",
    "    cv_splits_scores_df = cv_results_df.filter(regex=r\"split\\d*_test_roc_auc\").reset_index(drop=True) \n",
    "\n",
    "    # wyciąganie scorów na teście dla matryk zdefiniowanych w scoring\n",
    "    metrics_results_df = cv_results_df.filter(regex=r\"mean_test_*\").reset_index(drop=True)\n",
    "    \n",
    "    # calculate p-value\n",
    "    scores_, pvalue_ = calculate_p_permutations(\n",
    "            grid_search_model.best_estimator_, X_train, y_train, cv=cv\n",
    "        )\n",
    "\n",
    "\n",
    "    # save results in dataframe\n",
    "    this_result = pd.concat(\n",
    "        [\n",
    "            pd.DataFrame({\n",
    "            \"model_name\": [pipe.steps[-1][0]],\n",
    "            \"pipeline_name\": [pipeline_name],\n",
    "            \"train score\": [train_score],\n",
    "            \"mean_cv_score\": [mean_cv_score],\n",
    "            # \"test_score\": [test_score],\n",
    "            \"best_model\": [grid_search_model.best_estimator_],\n",
    "            \"parameters\": [grid_search_model.best_params_],\n",
    "            \"pvalue\":[pvalue_],    \n",
    "            }),\n",
    "         cv_splits_scores_df,\n",
    "         metrics_results_df,\n",
    "        ],\n",
    "    axis=1\n",
    "    ) \n",
    "\n",
    "    return this_result"
   ]
  },
  {
   "cell_type": "markdown",
   "metadata": {
    "id": "RcHAwa6LOvqm"
   },
   "source": [
    "Define estimators"
   ]
  },
  {
   "cell_type": "code",
   "execution_count": 65,
   "metadata": {
    "id": "DtsaDVEdPHXs"
   },
   "outputs": [],
   "source": [
    "lg = ('lg', LogisticRegression(penalty='l1', solver='liblinear', multi_class='auto'))\n",
    "lg_params = dict()\n",
    "\n",
    "svc = ('svc' , SVC())\n",
    "svc_params = dict(\n",
    "    svc__kernel=[\"linear\", \"rbf\"],\n",
    "    svc__C=[0.0001, 0.001, 0.01, 0.1, 1, 10, 100, 1000]\n",
    ")\n",
    "\n",
    "lda = (\"lda\", LinearDiscriminantAnalysis())\n",
    "lda_params = dict(\n",
    "    lda__solver = [\"lsqr\", \"eigen\"],\n",
    "    lda__shrinkage = [\"auto\"],\n",
    ")\n",
    "\n",
    "\n",
    "estimators = [\n",
    "    # (lg, lg_params),\n",
    "    (svc, svc_params),\n",
    "    # (lda, lda_params)\n",
    "]"
   ]
  },
  {
   "cell_type": "markdown",
   "metadata": {},
   "source": [
    "Define CSP"
   ]
  },
  {
   "cell_type": "code",
   "execution_count": 66,
   "metadata": {},
   "outputs": [],
   "source": [
    "csp = ('csp', CSP(log=None, norm_trace=False))\n",
    "csp_params = dict(\n",
    "    csp__n_components = [1,2,3,4],\n",
    "    csp__reg = [0.0001, 0.001, 0.01, 0.1, 1, 10]\n",
    ")"
   ]
  },
  {
   "cell_type": "markdown",
   "metadata": {
    "id": "g-Hb8Rb_Ei8j"
   },
   "source": [
    "### Depression vs Control"
   ]
  },
  {
   "cell_type": "markdown",
   "metadata": {
    "id": "O7C3WZvf1irT"
   },
   "source": [
    "#### RewP"
   ]
  },
  {
   "cell_type": "code",
   "execution_count": 67,
   "metadata": {},
   "outputs": [],
   "source": [
    "tmin = 0.25\n",
    "tmax = 0.35"
   ]
  },
  {
   "cell_type": "code",
   "execution_count": 68,
   "metadata": {},
   "outputs": [],
   "source": [
    "rewp_depression_datasets = []\n",
    "frequencies = ['delta', 'theta']\n",
    "\n",
    "for freq in frequencies:\n",
    "    dep_data = [epoch['good'].average().get_data(tmin=tmin, tmax=tmax,) for epoch in dep[freq].to_numpy()]\n",
    "    ctrl_data = [epoch['good'].average().get_data(tmin=tmin, tmax=tmax,) for epoch in ctrl_dep[freq].to_numpy()]\n",
    "\n",
    "    X = np.array(dep_data + ctrl_data)\n",
    "    rewp_depression_datasets.append(X)"
   ]
  },
  {
   "cell_type": "code",
   "execution_count": 414,
   "metadata": {},
   "outputs": [],
   "source": [
    "# rewp_depression_datasets = []\n",
    "# frequencies = ['delta', 'theta']\n",
    "\n",
    "# for freq in frequencies:\n",
    "#     dep_data = [mne.filter.resample(epoch['good'].average().get_data(tmin=tmin, tmax=tmax,), down=2.0) for epoch in dep[freq].to_numpy()]\n",
    "#     ctrl_data = [mne.filter.resample(epoch['good'].average().get_data(tmin=tmin, tmax=tmax,), down=2.0) for epoch in ctrl_dep[freq].to_numpy()]\n",
    "\n",
    "#     X = np.array(dep_data + ctrl_data)\n",
    "#     rewp_depression_datasets.append(X)"
   ]
  },
  {
   "cell_type": "code",
   "execution_count": 69,
   "metadata": {},
   "outputs": [],
   "source": [
    "np.save('data/frequency_data/rewp_depression_dataset_25-35.npy', rewp_depression_datasets)    # .npy extension is added if not given"
   ]
  },
  {
   "cell_type": "code",
   "execution_count": 342,
   "metadata": {},
   "outputs": [],
   "source": [
    "# rewp_depression_datasets = np.load('data/frequency_data/rewp_depression_dataset_22-35_down.npy')"
   ]
  },
  {
   "cell_type": "code",
   "execution_count": 29,
   "metadata": {},
   "outputs": [],
   "source": [
    "%%capture\n",
    "\n",
    "vec = Vectorizer()\n",
    "cv = StratifiedKFold(n_splits=3, shuffle=True, random_state=random_state)\n",
    "\n",
    "results_dep_rewp_df = pd.DataFrame()\n",
    "\n",
    "global_params = csp_params\n",
    "\n",
    "for index, dataset in enumerate(rewp_depression_datasets):\n",
    "\n",
    "    X = dataset\n",
    "    class_len = int(np.array(rewp_depression_datasets).shape[1]/2)\n",
    "    y = np.array(class_len * [1] +  class_len * [0])\n",
    "    \n",
    "    for (estimator, params) in estimators:\n",
    "        print(f\"Rating {estimator} \\n\")\n",
    "\n",
    "        pipeline_name = \"RewP_Depression_band_\" + str(index) + \"_\" + estimator[0]\n",
    "\n",
    "        clf = Pipeline([csp] + [('vec', vec)] + [estimator])\n",
    "        classifier_params = {**global_params, **params}\n",
    "\n",
    "        # enter to grid search\n",
    "        grid_result = evaluate_GS_model(\n",
    "            clf,\n",
    "            X,\n",
    "            y,\n",
    "            [],\n",
    "            [],\n",
    "            classifier_params = classifier_params,\n",
    "            pipeline_name = pipeline_name,\n",
    "            cv=cv,\n",
    "        )\n",
    "\n",
    "        print(grid_result)\n",
    "\n",
    "        results_dep_rewp_df = pd.concat([results_dep_rewp_df, grid_result])"
   ]
  },
  {
   "cell_type": "code",
   "execution_count": 355,
   "metadata": {},
   "outputs": [
    {
     "data": {
      "text/html": [
       "<div>\n",
       "<style scoped>\n",
       "    .dataframe tbody tr th:only-of-type {\n",
       "        vertical-align: middle;\n",
       "    }\n",
       "\n",
       "    .dataframe tbody tr th {\n",
       "        vertical-align: top;\n",
       "    }\n",
       "\n",
       "    .dataframe thead th {\n",
       "        text-align: right;\n",
       "    }\n",
       "</style>\n",
       "<table border=\"1\" class=\"dataframe\">\n",
       "  <thead>\n",
       "    <tr style=\"text-align: right;\">\n",
       "      <th></th>\n",
       "      <th>model_name</th>\n",
       "      <th>pipeline_name</th>\n",
       "      <th>train score</th>\n",
       "      <th>mean_cv_score</th>\n",
       "      <th>best_model</th>\n",
       "      <th>parameters</th>\n",
       "      <th>pvalue</th>\n",
       "      <th>split0_test_roc_auc</th>\n",
       "      <th>split1_test_roc_auc</th>\n",
       "      <th>split2_test_roc_auc</th>\n",
       "      <th>mean_test_roc_auc</th>\n",
       "      <th>mean_test_recall</th>\n",
       "      <th>mean_test_balanced_accuracy</th>\n",
       "      <th>mean_test_precision</th>\n",
       "    </tr>\n",
       "  </thead>\n",
       "  <tbody>\n",
       "    <tr>\n",
       "      <th>0</th>\n",
       "      <td>svc</td>\n",
       "      <td>RewP_Depression_band_0_svc</td>\n",
       "      <td>0.722222</td>\n",
       "      <td>0.622222</td>\n",
       "      <td>(CSP({'component_order': 'mutual_info',\\n 'cov...</td>\n",
       "      <td>{'csp__n_components': 2, 'csp__reg': 1, 'svc__...</td>\n",
       "      <td>0.039960</td>\n",
       "      <td>0.555556</td>\n",
       "      <td>0.706667</td>\n",
       "      <td>0.573333</td>\n",
       "      <td>0.611852</td>\n",
       "      <td>0.666667</td>\n",
       "      <td>0.622222</td>\n",
       "      <td>0.610648</td>\n",
       "    </tr>\n",
       "    <tr>\n",
       "      <th>0</th>\n",
       "      <td>svc</td>\n",
       "      <td>RewP_Depression_band_1_svc</td>\n",
       "      <td>0.877778</td>\n",
       "      <td>0.666667</td>\n",
       "      <td>(CSP({'component_order': 'mutual_info',\\n 'cov...</td>\n",
       "      <td>{'csp__n_components': 4, 'csp__reg': 0.1, 'svc...</td>\n",
       "      <td>0.004995</td>\n",
       "      <td>0.773333</td>\n",
       "      <td>0.573333</td>\n",
       "      <td>0.688889</td>\n",
       "      <td>0.678519</td>\n",
       "      <td>0.644444</td>\n",
       "      <td>0.666667</td>\n",
       "      <td>0.688375</td>\n",
       "    </tr>\n",
       "  </tbody>\n",
       "</table>\n",
       "</div>"
      ],
      "text/plain": [
       "  model_name               pipeline_name  train score  mean_cv_score  \\\n",
       "0        svc  RewP_Depression_band_0_svc     0.722222       0.622222   \n",
       "0        svc  RewP_Depression_band_1_svc     0.877778       0.666667   \n",
       "\n",
       "                                          best_model  \\\n",
       "0  (CSP({'component_order': 'mutual_info',\\n 'cov...   \n",
       "0  (CSP({'component_order': 'mutual_info',\\n 'cov...   \n",
       "\n",
       "                                          parameters    pvalue  \\\n",
       "0  {'csp__n_components': 2, 'csp__reg': 1, 'svc__...  0.039960   \n",
       "0  {'csp__n_components': 4, 'csp__reg': 0.1, 'svc...  0.004995   \n",
       "\n",
       "   split0_test_roc_auc  split1_test_roc_auc  split2_test_roc_auc  \\\n",
       "0             0.555556             0.706667             0.573333   \n",
       "0             0.773333             0.573333             0.688889   \n",
       "\n",
       "   mean_test_roc_auc  mean_test_recall  mean_test_balanced_accuracy  \\\n",
       "0           0.611852          0.666667                     0.622222   \n",
       "0           0.678519          0.644444                     0.666667   \n",
       "\n",
       "   mean_test_precision  \n",
       "0             0.610648  \n",
       "0             0.688375  "
      ]
     },
     "execution_count": 355,
     "metadata": {},
     "output_type": "execute_result"
    }
   ],
   "source": [
    "results_dep_rewp_df # 23 - 35  down 2"
   ]
  },
  {
   "cell_type": "code",
   "execution_count": 416,
   "metadata": {},
   "outputs": [
    {
     "data": {
      "text/html": [
       "<div>\n",
       "<style scoped>\n",
       "    .dataframe tbody tr th:only-of-type {\n",
       "        vertical-align: middle;\n",
       "    }\n",
       "\n",
       "    .dataframe tbody tr th {\n",
       "        vertical-align: top;\n",
       "    }\n",
       "\n",
       "    .dataframe thead th {\n",
       "        text-align: right;\n",
       "    }\n",
       "</style>\n",
       "<table border=\"1\" class=\"dataframe\">\n",
       "  <thead>\n",
       "    <tr style=\"text-align: right;\">\n",
       "      <th></th>\n",
       "      <th>model_name</th>\n",
       "      <th>pipeline_name</th>\n",
       "      <th>train score</th>\n",
       "      <th>mean_cv_score</th>\n",
       "      <th>best_model</th>\n",
       "      <th>parameters</th>\n",
       "      <th>pvalue</th>\n",
       "      <th>split0_test_roc_auc</th>\n",
       "      <th>split1_test_roc_auc</th>\n",
       "      <th>split2_test_roc_auc</th>\n",
       "      <th>mean_test_roc_auc</th>\n",
       "      <th>mean_test_recall</th>\n",
       "      <th>mean_test_balanced_accuracy</th>\n",
       "      <th>mean_test_precision</th>\n",
       "    </tr>\n",
       "  </thead>\n",
       "  <tbody>\n",
       "    <tr>\n",
       "      <th>0</th>\n",
       "      <td>svc</td>\n",
       "      <td>RewP_Depression_band_0_svc</td>\n",
       "      <td>0.677778</td>\n",
       "      <td>0.600000</td>\n",
       "      <td>(CSP({'component_order': 'mutual_info',\\n 'cov...</td>\n",
       "      <td>{'csp__n_components': 1, 'csp__reg': 0.01, 'sv...</td>\n",
       "      <td>0.028971</td>\n",
       "      <td>0.613333</td>\n",
       "      <td>0.533333</td>\n",
       "      <td>0.586667</td>\n",
       "      <td>0.577778</td>\n",
       "      <td>0.644444</td>\n",
       "      <td>0.600000</td>\n",
       "      <td>0.600198</td>\n",
       "    </tr>\n",
       "    <tr>\n",
       "      <th>0</th>\n",
       "      <td>svc</td>\n",
       "      <td>RewP_Depression_band_1_svc</td>\n",
       "      <td>0.811111</td>\n",
       "      <td>0.644444</td>\n",
       "      <td>(CSP({'component_order': 'mutual_info',\\n 'cov...</td>\n",
       "      <td>{'csp__n_components': 4, 'csp__reg': 0.1, 'svc...</td>\n",
       "      <td>0.005994</td>\n",
       "      <td>0.742222</td>\n",
       "      <td>0.591111</td>\n",
       "      <td>0.786667</td>\n",
       "      <td>0.706667</td>\n",
       "      <td>0.666667</td>\n",
       "      <td>0.644444</td>\n",
       "      <td>0.643732</td>\n",
       "    </tr>\n",
       "  </tbody>\n",
       "</table>\n",
       "</div>"
      ],
      "text/plain": [
       "  model_name               pipeline_name  train score  mean_cv_score  \\\n",
       "0        svc  RewP_Depression_band_0_svc     0.677778       0.600000   \n",
       "0        svc  RewP_Depression_band_1_svc     0.811111       0.644444   \n",
       "\n",
       "                                          best_model  \\\n",
       "0  (CSP({'component_order': 'mutual_info',\\n 'cov...   \n",
       "0  (CSP({'component_order': 'mutual_info',\\n 'cov...   \n",
       "\n",
       "                                          parameters    pvalue  \\\n",
       "0  {'csp__n_components': 1, 'csp__reg': 0.01, 'sv...  0.028971   \n",
       "0  {'csp__n_components': 4, 'csp__reg': 0.1, 'svc...  0.005994   \n",
       "\n",
       "   split0_test_roc_auc  split1_test_roc_auc  split2_test_roc_auc  \\\n",
       "0             0.613333             0.533333             0.586667   \n",
       "0             0.742222             0.591111             0.786667   \n",
       "\n",
       "   mean_test_roc_auc  mean_test_recall  mean_test_balanced_accuracy  \\\n",
       "0           0.577778          0.644444                     0.600000   \n",
       "0           0.706667          0.666667                     0.644444   \n",
       "\n",
       "   mean_test_precision  \n",
       "0             0.600198  \n",
       "0             0.643732  "
      ]
     },
     "execution_count": 416,
     "metadata": {},
     "output_type": "execute_result"
    }
   ],
   "source": [
    "results_dep_rewp_df # 25 - 35  down 2"
   ]
  },
  {
   "cell_type": "code",
   "execution_count": 30,
   "metadata": {},
   "outputs": [
    {
     "data": {
      "text/html": [
       "<div>\n",
       "<style scoped>\n",
       "    .dataframe tbody tr th:only-of-type {\n",
       "        vertical-align: middle;\n",
       "    }\n",
       "\n",
       "    .dataframe tbody tr th {\n",
       "        vertical-align: top;\n",
       "    }\n",
       "\n",
       "    .dataframe thead th {\n",
       "        text-align: right;\n",
       "    }\n",
       "</style>\n",
       "<table border=\"1\" class=\"dataframe\">\n",
       "  <thead>\n",
       "    <tr style=\"text-align: right;\">\n",
       "      <th></th>\n",
       "      <th>model_name</th>\n",
       "      <th>pipeline_name</th>\n",
       "      <th>train score</th>\n",
       "      <th>mean_cv_score</th>\n",
       "      <th>best_model</th>\n",
       "      <th>parameters</th>\n",
       "      <th>pvalue</th>\n",
       "      <th>split0_test_roc_auc</th>\n",
       "      <th>split1_test_roc_auc</th>\n",
       "      <th>split2_test_roc_auc</th>\n",
       "      <th>mean_test_roc_auc</th>\n",
       "      <th>mean_test_recall</th>\n",
       "      <th>mean_test_precision</th>\n",
       "      <th>mean_test_balanced_accuracy</th>\n",
       "    </tr>\n",
       "  </thead>\n",
       "  <tbody>\n",
       "    <tr>\n",
       "      <th>0</th>\n",
       "      <td>svc</td>\n",
       "      <td>RewP_Depression_band_0_svc</td>\n",
       "      <td>0.666667</td>\n",
       "      <td>0.600000</td>\n",
       "      <td>(CSP({'component_order': 'mutual_info',\\n 'cov...</td>\n",
       "      <td>{'csp__n_components': 1, 'csp__reg': 0.01, 'sv...</td>\n",
       "      <td>0.034965</td>\n",
       "      <td>0.608889</td>\n",
       "      <td>0.591111</td>\n",
       "      <td>0.551111</td>\n",
       "      <td>0.583704</td>\n",
       "      <td>0.644444</td>\n",
       "      <td>0.600198</td>\n",
       "      <td>0.600000</td>\n",
       "    </tr>\n",
       "    <tr>\n",
       "      <th>0</th>\n",
       "      <td>svc</td>\n",
       "      <td>RewP_Depression_band_1_svc</td>\n",
       "      <td>0.811111</td>\n",
       "      <td>0.655556</td>\n",
       "      <td>(CSP({'component_order': 'mutual_info',\\n 'cov...</td>\n",
       "      <td>{'csp__n_components': 4, 'csp__reg': 0.1, 'svc...</td>\n",
       "      <td>0.004995</td>\n",
       "      <td>0.742222</td>\n",
       "      <td>0.586667</td>\n",
       "      <td>0.808889</td>\n",
       "      <td>0.712593</td>\n",
       "      <td>0.666667</td>\n",
       "      <td>0.662048</td>\n",
       "      <td>0.655556</td>\n",
       "    </tr>\n",
       "  </tbody>\n",
       "</table>\n",
       "</div>"
      ],
      "text/plain": [
       "  model_name               pipeline_name  train score  mean_cv_score  \\\n",
       "0        svc  RewP_Depression_band_0_svc     0.666667       0.600000   \n",
       "0        svc  RewP_Depression_band_1_svc     0.811111       0.655556   \n",
       "\n",
       "                                          best_model  \\\n",
       "0  (CSP({'component_order': 'mutual_info',\\n 'cov...   \n",
       "0  (CSP({'component_order': 'mutual_info',\\n 'cov...   \n",
       "\n",
       "                                          parameters    pvalue  \\\n",
       "0  {'csp__n_components': 1, 'csp__reg': 0.01, 'sv...  0.034965   \n",
       "0  {'csp__n_components': 4, 'csp__reg': 0.1, 'svc...  0.004995   \n",
       "\n",
       "   split0_test_roc_auc  split1_test_roc_auc  split2_test_roc_auc  \\\n",
       "0             0.608889             0.591111             0.551111   \n",
       "0             0.742222             0.586667             0.808889   \n",
       "\n",
       "   mean_test_roc_auc  mean_test_recall  mean_test_precision  \\\n",
       "0           0.583704          0.644444             0.600198   \n",
       "0           0.712593          0.666667             0.662048   \n",
       "\n",
       "   mean_test_balanced_accuracy  \n",
       "0                     0.600000  \n",
       "0                     0.655556  "
      ]
     },
     "execution_count": 30,
     "metadata": {},
     "output_type": "execute_result"
    }
   ],
   "source": [
    "results_dep_rewp_df # 25 - 35 "
   ]
  },
  {
   "cell_type": "code",
   "execution_count": 356,
   "metadata": {},
   "outputs": [],
   "source": [
    "results_dep_rewp_df.to_pickle(\"data/depression_rewp_freq_results_12_04_down.pkl\")"
   ]
  },
  {
   "cell_type": "markdown",
   "metadata": {
    "id": "LdOE13g71oii"
   },
   "source": [
    "#### FRN"
   ]
  },
  {
   "cell_type": "code",
   "execution_count": 70,
   "metadata": {
    "id": "vcTUfJ4x1oij"
   },
   "outputs": [],
   "source": [
    "tmin = 0.26\n",
    "tmax = 0.38"
   ]
  },
  {
   "cell_type": "code",
   "execution_count": 71,
   "metadata": {},
   "outputs": [],
   "source": [
    "frn_depression_datasets = []\n",
    "frequencies = ['delta', 'theta']\n",
    "\n",
    "for freq in frequencies:\n",
    "    dep_data = [epoch['bad'].average().get_data(tmin=tmin, tmax=tmax,) for epoch in dep[freq].to_numpy()]\n",
    "    ctrl_data = [epoch['bad'].average().get_data(tmin=tmin, tmax=tmax,) for epoch in ctrl_dep[freq].to_numpy()]\n",
    "\n",
    "    X = np.array(dep_data + ctrl_data)\n",
    "    frn_depression_datasets.append(X)"
   ]
  },
  {
   "cell_type": "code",
   "execution_count": 358,
   "metadata": {},
   "outputs": [],
   "source": [
    "# frn_depression_datasets = []\n",
    "# frequencies = ['delta', 'theta']\n",
    "\n",
    "# for freq in frequencies:\n",
    "#     dep_data = [mne.filter.resample(epoch['bad'].average().get_data(tmin=tmin, tmax=tmax,), down=2.0) for epoch in dep[freq].to_numpy()]\n",
    "#     ctrl_data = [mne.filter.resample(epoch['bad'].average().get_data(tmin=tmin, tmax=tmax,), down=2.0) for epoch in ctrl_dep[freq].to_numpy()]\n",
    "\n",
    "#     X = np.array(dep_data + ctrl_data)\n",
    "#     frn_depression_datasets.append(X)"
   ]
  },
  {
   "cell_type": "code",
   "execution_count": 72,
   "metadata": {},
   "outputs": [],
   "source": [
    "np.save('data/frequency_data/frn_depression_datasets_26-38.npy', frn_depression_datasets)    # .npy extension is added if not given"
   ]
  },
  {
   "cell_type": "code",
   "execution_count": 135,
   "metadata": {},
   "outputs": [],
   "source": [
    "frn_depression_datasets = np.load('data/frequency_data/frn_depression_datasets_25-38.npy')"
   ]
  },
  {
   "cell_type": "code",
   "execution_count": 33,
   "metadata": {},
   "outputs": [],
   "source": [
    "%%capture\n",
    "\n",
    "vec = Vectorizer()\n",
    "cv = StratifiedKFold(n_splits=3, shuffle=True, random_state=random_state)\n",
    "\n",
    "results_dep_frn_df = pd.DataFrame()\n",
    "\n",
    "global_params = csp_params\n",
    "\n",
    "for index, dataset in enumerate(frn_depression_datasets):\n",
    "\n",
    "    X = dataset\n",
    "    y = np.array(len(dep_data) * [1] +  len(ctrl_data) * [0])\n",
    "    \n",
    "    for (estimator, params) in estimators:\n",
    "        print(f\"Rating {estimator} \\n\")\n",
    "\n",
    "        pipeline_name = \"FRN_Depression_band_\" + str(index) + \"_\" + estimator[0]\n",
    "\n",
    "        clf = Pipeline([csp] + [('vec', vec)] + [estimator])\n",
    "        classifier_params = {**global_params, **params}\n",
    "\n",
    "        # enter to grid search\n",
    "        grid_result = evaluate_GS_model(\n",
    "            clf,\n",
    "            X,\n",
    "            y,\n",
    "            [],\n",
    "            [],\n",
    "            classifier_params = classifier_params,\n",
    "            pipeline_name = pipeline_name,\n",
    "            cv=cv,\n",
    "        )\n",
    "\n",
    "        print(grid_result)\n",
    "\n",
    "        results_dep_frn_df = pd.concat([results_dep_frn_df, grid_result])"
   ]
  },
  {
   "cell_type": "code",
   "execution_count": 360,
   "metadata": {},
   "outputs": [
    {
     "data": {
      "text/html": [
       "<div>\n",
       "<style scoped>\n",
       "    .dataframe tbody tr th:only-of-type {\n",
       "        vertical-align: middle;\n",
       "    }\n",
       "\n",
       "    .dataframe tbody tr th {\n",
       "        vertical-align: top;\n",
       "    }\n",
       "\n",
       "    .dataframe thead th {\n",
       "        text-align: right;\n",
       "    }\n",
       "</style>\n",
       "<table border=\"1\" class=\"dataframe\">\n",
       "  <thead>\n",
       "    <tr style=\"text-align: right;\">\n",
       "      <th></th>\n",
       "      <th>model_name</th>\n",
       "      <th>pipeline_name</th>\n",
       "      <th>train score</th>\n",
       "      <th>mean_cv_score</th>\n",
       "      <th>best_model</th>\n",
       "      <th>parameters</th>\n",
       "      <th>pvalue</th>\n",
       "      <th>split0_test_roc_auc</th>\n",
       "      <th>split1_test_roc_auc</th>\n",
       "      <th>split2_test_roc_auc</th>\n",
       "      <th>mean_test_roc_auc</th>\n",
       "      <th>mean_test_recall</th>\n",
       "      <th>mean_test_balanced_accuracy</th>\n",
       "      <th>mean_test_precision</th>\n",
       "    </tr>\n",
       "  </thead>\n",
       "  <tbody>\n",
       "    <tr>\n",
       "      <th>0</th>\n",
       "      <td>svc</td>\n",
       "      <td>FRN_Depression_band_0_svc</td>\n",
       "      <td>0.922222</td>\n",
       "      <td>0.600000</td>\n",
       "      <td>(CSP({'component_order': 'mutual_info',\\n 'cov...</td>\n",
       "      <td>{'csp__n_components': 3, 'csp__reg': 0.01, 'sv...</td>\n",
       "      <td>0.040959</td>\n",
       "      <td>0.515556</td>\n",
       "      <td>0.626667</td>\n",
       "      <td>0.697778</td>\n",
       "      <td>0.613333</td>\n",
       "      <td>0.488889</td>\n",
       "      <td>0.600000</td>\n",
       "      <td>0.633333</td>\n",
       "    </tr>\n",
       "    <tr>\n",
       "      <th>0</th>\n",
       "      <td>svc</td>\n",
       "      <td>FRN_Depression_band_1_svc</td>\n",
       "      <td>0.622222</td>\n",
       "      <td>0.622222</td>\n",
       "      <td>(CSP({'component_order': 'mutual_info',\\n 'cov...</td>\n",
       "      <td>{'csp__n_components': 1, 'csp__reg': 0.1, 'svc...</td>\n",
       "      <td>0.006993</td>\n",
       "      <td>0.528889</td>\n",
       "      <td>0.693333</td>\n",
       "      <td>0.608889</td>\n",
       "      <td>0.610370</td>\n",
       "      <td>0.733333</td>\n",
       "      <td>0.622222</td>\n",
       "      <td>0.596925</td>\n",
       "    </tr>\n",
       "  </tbody>\n",
       "</table>\n",
       "</div>"
      ],
      "text/plain": [
       "  model_name              pipeline_name  train score  mean_cv_score  \\\n",
       "0        svc  FRN_Depression_band_0_svc     0.922222       0.600000   \n",
       "0        svc  FRN_Depression_band_1_svc     0.622222       0.622222   \n",
       "\n",
       "                                          best_model  \\\n",
       "0  (CSP({'component_order': 'mutual_info',\\n 'cov...   \n",
       "0  (CSP({'component_order': 'mutual_info',\\n 'cov...   \n",
       "\n",
       "                                          parameters    pvalue  \\\n",
       "0  {'csp__n_components': 3, 'csp__reg': 0.01, 'sv...  0.040959   \n",
       "0  {'csp__n_components': 1, 'csp__reg': 0.1, 'svc...  0.006993   \n",
       "\n",
       "   split0_test_roc_auc  split1_test_roc_auc  split2_test_roc_auc  \\\n",
       "0             0.515556             0.626667             0.697778   \n",
       "0             0.528889             0.693333             0.608889   \n",
       "\n",
       "   mean_test_roc_auc  mean_test_recall  mean_test_balanced_accuracy  \\\n",
       "0           0.613333          0.488889                     0.600000   \n",
       "0           0.610370          0.733333                     0.622222   \n",
       "\n",
       "   mean_test_precision  \n",
       "0             0.633333  \n",
       "0             0.596925  "
      ]
     },
     "execution_count": 360,
     "metadata": {},
     "output_type": "execute_result"
    }
   ],
   "source": [
    "results_dep_frn_df # 26 - 38 down 2.0"
   ]
  },
  {
   "cell_type": "code",
   "execution_count": 34,
   "metadata": {},
   "outputs": [
    {
     "data": {
      "text/html": [
       "<div>\n",
       "<style scoped>\n",
       "    .dataframe tbody tr th:only-of-type {\n",
       "        vertical-align: middle;\n",
       "    }\n",
       "\n",
       "    .dataframe tbody tr th {\n",
       "        vertical-align: top;\n",
       "    }\n",
       "\n",
       "    .dataframe thead th {\n",
       "        text-align: right;\n",
       "    }\n",
       "</style>\n",
       "<table border=\"1\" class=\"dataframe\">\n",
       "  <thead>\n",
       "    <tr style=\"text-align: right;\">\n",
       "      <th></th>\n",
       "      <th>model_name</th>\n",
       "      <th>pipeline_name</th>\n",
       "      <th>train score</th>\n",
       "      <th>mean_cv_score</th>\n",
       "      <th>best_model</th>\n",
       "      <th>parameters</th>\n",
       "      <th>pvalue</th>\n",
       "      <th>split0_test_roc_auc</th>\n",
       "      <th>split1_test_roc_auc</th>\n",
       "      <th>split2_test_roc_auc</th>\n",
       "      <th>mean_test_roc_auc</th>\n",
       "      <th>mean_test_recall</th>\n",
       "      <th>mean_test_precision</th>\n",
       "      <th>mean_test_balanced_accuracy</th>\n",
       "    </tr>\n",
       "  </thead>\n",
       "  <tbody>\n",
       "    <tr>\n",
       "      <th>0</th>\n",
       "      <td>svc</td>\n",
       "      <td>FRN_Depression_band_0_svc</td>\n",
       "      <td>0.922222</td>\n",
       "      <td>0.611111</td>\n",
       "      <td>(CSP({'component_order': 'mutual_info',\\n 'cov...</td>\n",
       "      <td>{'csp__n_components': 3, 'csp__reg': 0.01, 'sv...</td>\n",
       "      <td>0.017982</td>\n",
       "      <td>0.515556</td>\n",
       "      <td>0.622222</td>\n",
       "      <td>0.693333</td>\n",
       "      <td>0.61037</td>\n",
       "      <td>0.488889</td>\n",
       "      <td>0.655363</td>\n",
       "      <td>0.611111</td>\n",
       "    </tr>\n",
       "    <tr>\n",
       "      <th>0</th>\n",
       "      <td>svc</td>\n",
       "      <td>FRN_Depression_band_1_svc</td>\n",
       "      <td>0.622222</td>\n",
       "      <td>0.633333</td>\n",
       "      <td>(CSP({'component_order': 'mutual_info',\\n 'cov...</td>\n",
       "      <td>{'csp__n_components': 1, 'csp__reg': 0.1, 'svc...</td>\n",
       "      <td>0.002997</td>\n",
       "      <td>0.533333</td>\n",
       "      <td>0.688889</td>\n",
       "      <td>0.608889</td>\n",
       "      <td>0.61037</td>\n",
       "      <td>0.733333</td>\n",
       "      <td>0.607026</td>\n",
       "      <td>0.633333</td>\n",
       "    </tr>\n",
       "  </tbody>\n",
       "</table>\n",
       "</div>"
      ],
      "text/plain": [
       "  model_name              pipeline_name  train score  mean_cv_score  \\\n",
       "0        svc  FRN_Depression_band_0_svc     0.922222       0.611111   \n",
       "0        svc  FRN_Depression_band_1_svc     0.622222       0.633333   \n",
       "\n",
       "                                          best_model  \\\n",
       "0  (CSP({'component_order': 'mutual_info',\\n 'cov...   \n",
       "0  (CSP({'component_order': 'mutual_info',\\n 'cov...   \n",
       "\n",
       "                                          parameters    pvalue  \\\n",
       "0  {'csp__n_components': 3, 'csp__reg': 0.01, 'sv...  0.017982   \n",
       "0  {'csp__n_components': 1, 'csp__reg': 0.1, 'svc...  0.002997   \n",
       "\n",
       "   split0_test_roc_auc  split1_test_roc_auc  split2_test_roc_auc  \\\n",
       "0             0.515556             0.622222             0.693333   \n",
       "0             0.533333             0.688889             0.608889   \n",
       "\n",
       "   mean_test_roc_auc  mean_test_recall  mean_test_precision  \\\n",
       "0            0.61037          0.488889             0.655363   \n",
       "0            0.61037          0.733333             0.607026   \n",
       "\n",
       "   mean_test_balanced_accuracy  \n",
       "0                     0.611111  \n",
       "0                     0.633333  "
      ]
     },
     "execution_count": 34,
     "metadata": {},
     "output_type": "execute_result"
    }
   ],
   "source": [
    "results_dep_frn_df # 26 - 38"
   ]
  },
  {
   "cell_type": "code",
   "execution_count": 361,
   "metadata": {},
   "outputs": [],
   "source": [
    "results_dep_frn_df.to_pickle(\"data/depression_frn_results_freq_12_04_down.pkl\")"
   ]
  },
  {
   "cell_type": "markdown",
   "metadata": {
    "id": "R5fwZt2kEwXU"
   },
   "source": [
    "### Anxiety vs Control"
   ]
  },
  {
   "cell_type": "markdown",
   "metadata": {
    "id": "6OCw34QnEwXV"
   },
   "source": [
    "#### RewP"
   ]
  },
  {
   "cell_type": "code",
   "execution_count": 83,
   "metadata": {},
   "outputs": [],
   "source": [
    "tmin = 0.25\n",
    "tmax = 0.35"
   ]
  },
  {
   "cell_type": "code",
   "execution_count": 84,
   "metadata": {},
   "outputs": [],
   "source": [
    "rewp_anxiety_datasets = []\n",
    "frequencies = ['delta', 'theta']\n",
    "\n",
    "for freq in frequencies:\n",
    "    anx_data = [epoch['good'].average().get_data(tmin=tmin, tmax=tmax,) for epoch in anx[freq].to_numpy()]\n",
    "    ctrl_data = [epoch['good'].average().get_data(tmin=tmin, tmax=tmax,) for epoch in ctrl_anx[freq].to_numpy()]\n",
    "\n",
    "    X = np.array(anx_data + ctrl_data)\n",
    "    rewp_anxiety_datasets.append(X)"
   ]
  },
  {
   "cell_type": "code",
   "execution_count": 85,
   "metadata": {},
   "outputs": [],
   "source": [
    "np.save('data/frequency_data/rewp_anxiety_datasets_25-35.npy', rewp_anxiety_datasets)    # .npy extension is added if not given"
   ]
  },
  {
   "cell_type": "code",
   "execution_count": 364,
   "metadata": {},
   "outputs": [],
   "source": [
    "%%capture\n",
    "\n",
    "vec = Vectorizer()\n",
    "cv = StratifiedKFold(n_splits=3, shuffle=True, random_state=random_state)\n",
    "\n",
    "results_anx_rewp_df = pd.DataFrame()\n",
    "\n",
    "global_params = csp_params\n",
    "\n",
    "for index, dataset in enumerate(rewp_anxiety_datasets):\n",
    "\n",
    "    X = dataset\n",
    "    y = np.array(len(anx_data) * [1] +  len(ctrl_data) * [0])\n",
    "    \n",
    "    for (estimator, params) in estimators:\n",
    "        print(f\"Rating {estimator} \\n\")\n",
    "\n",
    "        pipeline_name = \"RewP_Anxiety_band_\" + str(index) + \"_\" + estimator[0]\n",
    "\n",
    "        clf = Pipeline([csp] + [('vec', vec)] + [estimator])\n",
    "        classifier_params = {**global_params, **params}\n",
    "\n",
    "        # enter to grid search\n",
    "        grid_result = evaluate_GS_model(\n",
    "            clf,\n",
    "            X,\n",
    "            y,\n",
    "            [],\n",
    "            [],\n",
    "            classifier_params = classifier_params,\n",
    "            pipeline_name = pipeline_name,\n",
    "            cv=cv,\n",
    "        )\n",
    "\n",
    "        print(grid_result)\n",
    "\n",
    "        results_anx_rewp_df = pd.concat([results_anx_rewp_df, grid_result])"
   ]
  },
  {
   "cell_type": "code",
   "execution_count": 370,
   "metadata": {},
   "outputs": [
    {
     "data": {
      "text/html": [
       "<div>\n",
       "<style scoped>\n",
       "    .dataframe tbody tr th:only-of-type {\n",
       "        vertical-align: middle;\n",
       "    }\n",
       "\n",
       "    .dataframe tbody tr th {\n",
       "        vertical-align: top;\n",
       "    }\n",
       "\n",
       "    .dataframe thead th {\n",
       "        text-align: right;\n",
       "    }\n",
       "</style>\n",
       "<table border=\"1\" class=\"dataframe\">\n",
       "  <thead>\n",
       "    <tr style=\"text-align: right;\">\n",
       "      <th></th>\n",
       "      <th>model_name</th>\n",
       "      <th>pipeline_name</th>\n",
       "      <th>train score</th>\n",
       "      <th>mean_cv_score</th>\n",
       "      <th>best_model</th>\n",
       "      <th>parameters</th>\n",
       "      <th>pvalue</th>\n",
       "      <th>split0_test_roc_auc</th>\n",
       "      <th>split1_test_roc_auc</th>\n",
       "      <th>split2_test_roc_auc</th>\n",
       "      <th>mean_test_roc_auc</th>\n",
       "      <th>mean_test_recall</th>\n",
       "      <th>mean_test_balanced_accuracy</th>\n",
       "      <th>mean_test_precision</th>\n",
       "    </tr>\n",
       "  </thead>\n",
       "  <tbody>\n",
       "    <tr>\n",
       "      <th>0</th>\n",
       "      <td>svc</td>\n",
       "      <td>RewP_Anxiety_band_0_svc</td>\n",
       "      <td>0.810345</td>\n",
       "      <td>0.638889</td>\n",
       "      <td>(CSP({'component_order': 'mutual_info',\\n 'cov...</td>\n",
       "      <td>{'csp__n_components': 4, 'csp__reg': 0.1, 'svc...</td>\n",
       "      <td>0.032967</td>\n",
       "      <td>0.63</td>\n",
       "      <td>0.700000</td>\n",
       "      <td>0.488889</td>\n",
       "      <td>0.606296</td>\n",
       "      <td>0.792593</td>\n",
       "      <td>0.638889</td>\n",
       "      <td>0.606838</td>\n",
       "    </tr>\n",
       "    <tr>\n",
       "      <th>0</th>\n",
       "      <td>svc</td>\n",
       "      <td>RewP_Anxiety_band_1_svc</td>\n",
       "      <td>0.827586</td>\n",
       "      <td>0.659259</td>\n",
       "      <td>(CSP({'component_order': 'mutual_info',\\n 'cov...</td>\n",
       "      <td>{'csp__n_components': 2, 'csp__reg': 0.01, 'sv...</td>\n",
       "      <td>0.006993</td>\n",
       "      <td>0.56</td>\n",
       "      <td>0.444444</td>\n",
       "      <td>0.922222</td>\n",
       "      <td>0.642222</td>\n",
       "      <td>0.696296</td>\n",
       "      <td>0.659259</td>\n",
       "      <td>0.647619</td>\n",
       "    </tr>\n",
       "  </tbody>\n",
       "</table>\n",
       "</div>"
      ],
      "text/plain": [
       "  model_name            pipeline_name  train score  mean_cv_score  \\\n",
       "0        svc  RewP_Anxiety_band_0_svc     0.810345       0.638889   \n",
       "0        svc  RewP_Anxiety_band_1_svc     0.827586       0.659259   \n",
       "\n",
       "                                          best_model  \\\n",
       "0  (CSP({'component_order': 'mutual_info',\\n 'cov...   \n",
       "0  (CSP({'component_order': 'mutual_info',\\n 'cov...   \n",
       "\n",
       "                                          parameters    pvalue  \\\n",
       "0  {'csp__n_components': 4, 'csp__reg': 0.1, 'svc...  0.032967   \n",
       "0  {'csp__n_components': 2, 'csp__reg': 0.01, 'sv...  0.006993   \n",
       "\n",
       "   split0_test_roc_auc  split1_test_roc_auc  split2_test_roc_auc  \\\n",
       "0                 0.63             0.700000             0.488889   \n",
       "0                 0.56             0.444444             0.922222   \n",
       "\n",
       "   mean_test_roc_auc  mean_test_recall  mean_test_balanced_accuracy  \\\n",
       "0           0.606296          0.792593                     0.638889   \n",
       "0           0.642222          0.696296                     0.659259   \n",
       "\n",
       "   mean_test_precision  \n",
       "0             0.606838  \n",
       "0             0.647619  "
      ]
     },
     "execution_count": 370,
     "metadata": {},
     "output_type": "execute_result"
    }
   ],
   "source": [
    "results_anx_rewp_df"
   ]
  },
  {
   "cell_type": "code",
   "execution_count": 365,
   "metadata": {},
   "outputs": [],
   "source": [
    "results_anx_rewp_df.to_pickle(\"data/anxiety_rewp_freq_results_12_04.pkl\")"
   ]
  },
  {
   "cell_type": "markdown",
   "metadata": {
    "id": "UYZ2N89QEwXW"
   },
   "source": [
    "#### FRN"
   ]
  },
  {
   "cell_type": "code",
   "execution_count": 80,
   "metadata": {
    "id": "oc3KbAaiorwd"
   },
   "outputs": [],
   "source": [
    "tmin = 0.26\n",
    "tmax = 0.38"
   ]
  },
  {
   "cell_type": "code",
   "execution_count": 81,
   "metadata": {},
   "outputs": [],
   "source": [
    "frn_anxiety_datasets = []\n",
    "frequencies = ['delta', 'theta']\n",
    "\n",
    "for freq in frequencies:\n",
    "    anx_data = [epoch['bad'].average().get_data(tmin=tmin, tmax=tmax,) for epoch in anx[freq].to_numpy()]\n",
    "    ctrl_data = [epoch['bad'].average().get_data(tmin=tmin, tmax=tmax,) for epoch in ctrl_anx[freq].to_numpy()]\n",
    "\n",
    "    X = np.array(anx_data + ctrl_data)\n",
    "    frn_anxiety_datasets.append(X)"
   ]
  },
  {
   "cell_type": "code",
   "execution_count": 82,
   "metadata": {},
   "outputs": [],
   "source": [
    "np.save('data/frequency_data/frn_anxiety_datasets_26-38.npy', frn_anxiety_datasets)    # .npy extension is added if not given"
   ]
  },
  {
   "cell_type": "code",
   "execution_count": 368,
   "metadata": {},
   "outputs": [],
   "source": [
    "%%capture\n",
    "\n",
    "vec = Vectorizer()\n",
    "cv = StratifiedKFold(n_splits=3, shuffle=True, random_state=random_state)\n",
    "\n",
    "results_anx_frn_df = pd.DataFrame()\n",
    "\n",
    "global_params = csp_params\n",
    "\n",
    "for index, dataset in enumerate(frn_anxiety_datasets):\n",
    "\n",
    "    X = dataset\n",
    "    y = np.array(len(anx_data) * [1] +  len(ctrl_data) * [0])\n",
    "    \n",
    "    for (estimator, params) in estimators:\n",
    "        print(f\"Rating {estimator} \\n\")\n",
    "\n",
    "        pipeline_name = \"FRN_Anxiety_band_\" + str(index) + \"_\" + estimator[0]\n",
    "\n",
    "        clf = Pipeline([csp] + [('vec', vec)] + [estimator])\n",
    "        classifier_params = {**global_params, **params}\n",
    "\n",
    "        # enter to grid search\n",
    "        grid_result = evaluate_GS_model(\n",
    "            clf,\n",
    "            X,\n",
    "            y,\n",
    "            [],\n",
    "            [],\n",
    "            classifier_params = classifier_params,\n",
    "            pipeline_name = pipeline_name,\n",
    "            cv=cv,\n",
    "        )\n",
    "\n",
    "        print(grid_result)\n",
    "\n",
    "        results_anx_frn_df = pd.concat([results_anx_frn_df, grid_result])"
   ]
  },
  {
   "cell_type": "code",
   "execution_count": 371,
   "metadata": {},
   "outputs": [
    {
     "data": {
      "text/html": [
       "<div>\n",
       "<style scoped>\n",
       "    .dataframe tbody tr th:only-of-type {\n",
       "        vertical-align: middle;\n",
       "    }\n",
       "\n",
       "    .dataframe tbody tr th {\n",
       "        vertical-align: top;\n",
       "    }\n",
       "\n",
       "    .dataframe thead th {\n",
       "        text-align: right;\n",
       "    }\n",
       "</style>\n",
       "<table border=\"1\" class=\"dataframe\">\n",
       "  <thead>\n",
       "    <tr style=\"text-align: right;\">\n",
       "      <th></th>\n",
       "      <th>model_name</th>\n",
       "      <th>pipeline_name</th>\n",
       "      <th>train score</th>\n",
       "      <th>mean_cv_score</th>\n",
       "      <th>best_model</th>\n",
       "      <th>parameters</th>\n",
       "      <th>pvalue</th>\n",
       "      <th>split0_test_roc_auc</th>\n",
       "      <th>split1_test_roc_auc</th>\n",
       "      <th>split2_test_roc_auc</th>\n",
       "      <th>mean_test_roc_auc</th>\n",
       "      <th>mean_test_recall</th>\n",
       "      <th>mean_test_balanced_accuracy</th>\n",
       "      <th>mean_test_precision</th>\n",
       "    </tr>\n",
       "  </thead>\n",
       "  <tbody>\n",
       "    <tr>\n",
       "      <th>0</th>\n",
       "      <td>svc</td>\n",
       "      <td>FRN_Anxiety_band_0_svc</td>\n",
       "      <td>0.810345</td>\n",
       "      <td>0.672222</td>\n",
       "      <td>(CSP({'component_order': 'mutual_info',\\n 'cov...</td>\n",
       "      <td>{'csp__n_components': 2, 'csp__reg': 0.1, 'svc...</td>\n",
       "      <td>0.008991</td>\n",
       "      <td>0.66</td>\n",
       "      <td>0.711111</td>\n",
       "      <td>0.555556</td>\n",
       "      <td>0.642222</td>\n",
       "      <td>0.722222</td>\n",
       "      <td>0.672222</td>\n",
       "      <td>0.654545</td>\n",
       "    </tr>\n",
       "    <tr>\n",
       "      <th>0</th>\n",
       "      <td>svc</td>\n",
       "      <td>FRN_Anxiety_band_1_svc</td>\n",
       "      <td>0.775862</td>\n",
       "      <td>0.644444</td>\n",
       "      <td>(CSP({'component_order': 'mutual_info',\\n 'cov...</td>\n",
       "      <td>{'csp__n_components': 2, 'csp__reg': 1, 'svc__...</td>\n",
       "      <td>0.051948</td>\n",
       "      <td>0.76</td>\n",
       "      <td>0.744444</td>\n",
       "      <td>0.655556</td>\n",
       "      <td>0.720000</td>\n",
       "      <td>0.625926</td>\n",
       "      <td>0.644444</td>\n",
       "      <td>0.713889</td>\n",
       "    </tr>\n",
       "  </tbody>\n",
       "</table>\n",
       "</div>"
      ],
      "text/plain": [
       "  model_name           pipeline_name  train score  mean_cv_score  \\\n",
       "0        svc  FRN_Anxiety_band_0_svc     0.810345       0.672222   \n",
       "0        svc  FRN_Anxiety_band_1_svc     0.775862       0.644444   \n",
       "\n",
       "                                          best_model  \\\n",
       "0  (CSP({'component_order': 'mutual_info',\\n 'cov...   \n",
       "0  (CSP({'component_order': 'mutual_info',\\n 'cov...   \n",
       "\n",
       "                                          parameters    pvalue  \\\n",
       "0  {'csp__n_components': 2, 'csp__reg': 0.1, 'svc...  0.008991   \n",
       "0  {'csp__n_components': 2, 'csp__reg': 1, 'svc__...  0.051948   \n",
       "\n",
       "   split0_test_roc_auc  split1_test_roc_auc  split2_test_roc_auc  \\\n",
       "0                 0.66             0.711111             0.555556   \n",
       "0                 0.76             0.744444             0.655556   \n",
       "\n",
       "   mean_test_roc_auc  mean_test_recall  mean_test_balanced_accuracy  \\\n",
       "0           0.642222          0.722222                     0.672222   \n",
       "0           0.720000          0.625926                     0.644444   \n",
       "\n",
       "   mean_test_precision  \n",
       "0             0.654545  \n",
       "0             0.713889  "
      ]
     },
     "execution_count": 371,
     "metadata": {},
     "output_type": "execute_result"
    }
   ],
   "source": [
    "results_anx_frn_df"
   ]
  },
  {
   "cell_type": "code",
   "execution_count": 369,
   "metadata": {},
   "outputs": [],
   "source": [
    "results_anx_frn_df.to_pickle(\"data/anxiety_frn_freq_results_12_04.pkl\")"
   ]
  },
  {
   "cell_type": "markdown",
   "metadata": {},
   "source": [
    "## Test statistical differences between models"
   ]
  },
  {
   "cell_type": "code",
   "execution_count": 35,
   "metadata": {},
   "outputs": [],
   "source": [
    "def paired_ttest_nandeu(\n",
    "    estimator1,\n",
    "    estimator2,\n",
    "    X_1,\n",
    "    X_2,\n",
    "    y,\n",
    "    scoring='accuracy',\n",
    "    random_state=0  \n",
    "):\n",
    "    \"\"\"Computes paired-ttest using Nadeau and Bengio's approach.\n",
    "\n",
    "    Parameters\n",
    "    ----------\n",
    "    estimator1 : estimator object implementing 'fit'\n",
    "        The object to use to fit the data.\n",
    "    estimator2 :  estimator object implementing 'fit'\n",
    "        The object to use to fit the data.\n",
    "    X : array-like of shape at least 2D\n",
    "        The data to fit.\n",
    "    y : array-like of shape (n_samples,)\n",
    "        The target variable to try to predict\n",
    "    random_state: int\n",
    "\n",
    "\n",
    "    Returns\n",
    "    -------\n",
    "    t_stat : float\n",
    "        Variance-corrected t-statistic.\n",
    "    p_value : float\n",
    "        Variance-corrected p-value.\n",
    "    \"\"\"\n",
    "\n",
    "    cv = RepeatedStratifiedKFold(n_splits=10, n_repeats=10, random_state=random_state)\n",
    "\n",
    "    cv_scores_1 = cross_val_score(estimator1, X_1, y, cv=cv, scoring=scoring)\n",
    "    cv_scores_2 = cross_val_score(estimator2, X_2, y, cv=cv, scoring=scoring)\n",
    "\n",
    "    differences = cv_scores_1 - cv_scores_2\n",
    "\n",
    "    n = differences.shape[0]  # number of test sets\n",
    "    df = n - 1\n",
    "    n_train = len(list(cv.split(X_1, y))[0][0])\n",
    "    n_test = len(list(cv.split(X_1, y))[0][1])\n",
    "\n",
    "    t_stat, p_value = compute_corrected_ttest(differences, df, n_train, n_test)\n",
    "\n",
    "    return t_stat, p_value\n",
    "\n",
    "\n",
    "def corrected_std(differences, n_train, n_test):\n",
    "    \"\"\"Corrects standard deviation using Nadeau and Bengio's approach.\n",
    "\n",
    "    Parameters\n",
    "    ----------\n",
    "    differences : ndarray of shape (n_samples,)\n",
    "        Vector containing the differences in the score metrics of two models.\n",
    "    n_train : int\n",
    "        Number of samples in the training set.\n",
    "    n_test : int\n",
    "        Number of samples in the testing set.\n",
    "\n",
    "    Returns\n",
    "    -------\n",
    "    corrected_std : float\n",
    "        Variance-corrected standard deviation of the set of differences.\n",
    "    \"\"\"\n",
    "    # kr = k times r, r times repeated k-fold crossvalidation,\n",
    "    # kr equals the number of times the model was evaluated\n",
    "    kr = len(differences)\n",
    "    corrected_var = np.var(differences, ddof=1) * ((1 / kr) + (n_test / n_train))\n",
    "    corrected_std = np.sqrt(corrected_var)\n",
    "    return corrected_std\n",
    "\n",
    "\n",
    "def compute_corrected_ttest(differences, df, n_train, n_test):\n",
    "    \"\"\"Computes right-tailed paired t-test with corrected variance.\n",
    "\n",
    "    Parameters\n",
    "    ----------\n",
    "    differences : array-like of shape (n_samples,)\n",
    "        Vector containing the differences in the score metrics of two models.\n",
    "    df : int\n",
    "        Degrees of freedom.\n",
    "    n_train : int\n",
    "        Number of samples in the training set.\n",
    "    n_test : int\n",
    "        Number of samples in the testing set.\n",
    "\n",
    "    Returns\n",
    "    -------\n",
    "    t_stat : float\n",
    "        Variance-corrected t-statistic.\n",
    "    p_val : float\n",
    "        Variance-corrected p-value.\n",
    "    \"\"\"\n",
    "    mean = np.mean(differences)\n",
    "    std = corrected_std(differences, n_train, n_test)\n",
    "    t_stat = mean / std\n",
    "    p_val = stats.t.sf(np.abs(t_stat), df)  # right-tailed t-test\n",
    "    return t_stat, p_val"
   ]
  },
  {
   "cell_type": "code",
   "execution_count": 53,
   "metadata": {},
   "outputs": [],
   "source": [
    "# results_dep_rewp_df = pd.read_pickle(\"data/depression_rewp_results_3_02_03_24-00.pkl\")\n",
    "# results_dep_frn_df = pd.read_pickle(\"data/depression_frn_results_3_02_03_24-00.pkl\")\n",
    "# results_anx_rewp_df = pd.read_pickle(\"data/anxiety_rewp_results.pkl\")\n",
    "# results_anx_frn_df = pd.read_pickle(\"data/anxiety_frn_results_25_37.pkl\")"
   ]
  },
  {
   "cell_type": "markdown",
   "metadata": {
    "tags": []
   },
   "source": [
    "### Depression RewP vs FRN"
   ]
  },
  {
   "cell_type": "code",
   "execution_count": 36,
   "metadata": {},
   "outputs": [],
   "source": [
    "y = np.array(len(dep) * [1] +  len(ctrl_dep) * [0])"
   ]
  },
  {
   "cell_type": "markdown",
   "metadata": {},
   "source": [
    "#### Plot differences between all Depression Models\n",
    "To see which RewP and FRN models are the best"
   ]
  },
  {
   "cell_type": "code",
   "execution_count": 37,
   "metadata": {
    "colab": {
     "base_uri": "https://localhost:8080/"
    },
    "executionInfo": {
     "elapsed": 4,
     "status": "ok",
     "timestamp": 1677516452928,
     "user": {
      "displayName": "Anna Grabowska",
      "userId": "15734344613010880864"
     },
     "user_tz": -60
    },
    "id": "824FRKiAweds",
    "outputId": "a8affbdc-2c93-462c-d952-df11bc0ff221",
    "tags": []
   },
   "outputs": [],
   "source": [
    "%%capture\n",
    "\n",
    "cv = RepeatedStratifiedKFold(n_splits=10, n_repeats=10, random_state=random_state)\n",
    "\n",
    "cv_results_df = pd.DataFrame()\n",
    "\n",
    "cv_scores_rewp_delta = cross_val_score(results_dep_rewp_df.iloc[0].best_model, rewp_depression_datasets[0], y, cv=cv, scoring='balanced_accuracy')\n",
    "cv_scores_rewp_theta = cross_val_score(results_dep_rewp_df.iloc[1].best_model, rewp_depression_datasets[1], y, cv=cv, scoring='balanced_accuracy')\n",
    "cv_scores_frn_delta = cross_val_score(results_dep_frn_df.iloc[0].best_model, frn_depression_datasets[0], y, cv=cv, scoring='balanced_accuracy')\n",
    "cv_scores_frn_theta = cross_val_score(results_dep_frn_df.iloc[1].best_model, frn_depression_datasets[1], y, cv=cv,scoring='balanced_accuracy')\n",
    "    \n",
    "cv_results_df[\"RewP_delta\"] = cv_scores_rewp_delta\n",
    "cv_results_df[\"RewP_theta\"] = cv_scores_rewp_theta\n",
    "cv_results_df[\"FRN_delta\"] = cv_scores_frn_delta\n",
    "cv_results_df[\"FRN_theta\"] = cv_scores_frn_theta"
   ]
  },
  {
   "cell_type": "code",
   "execution_count": 298,
   "metadata": {
    "tags": []
   },
   "outputs": [
    {
     "data": {
      "text/html": [
       "<div>\n",
       "<style scoped>\n",
       "    .dataframe tbody tr th:only-of-type {\n",
       "        vertical-align: middle;\n",
       "    }\n",
       "\n",
       "    .dataframe tbody tr th {\n",
       "        vertical-align: top;\n",
       "    }\n",
       "\n",
       "    .dataframe thead th {\n",
       "        text-align: right;\n",
       "    }\n",
       "</style>\n",
       "<table border=\"1\" class=\"dataframe\">\n",
       "  <thead>\n",
       "    <tr style=\"text-align: right;\">\n",
       "      <th></th>\n",
       "      <th>RewP_delta</th>\n",
       "      <th>RewP_theta</th>\n",
       "      <th>FRN_delta</th>\n",
       "      <th>FRN_theta</th>\n",
       "    </tr>\n",
       "  </thead>\n",
       "  <tbody>\n",
       "    <tr>\n",
       "      <th>0</th>\n",
       "      <td>0.325</td>\n",
       "      <td>0.675</td>\n",
       "      <td>0.575</td>\n",
       "      <td>0.475</td>\n",
       "    </tr>\n",
       "    <tr>\n",
       "      <th>1</th>\n",
       "      <td>0.450</td>\n",
       "      <td>0.575</td>\n",
       "      <td>0.600</td>\n",
       "      <td>0.700</td>\n",
       "    </tr>\n",
       "    <tr>\n",
       "      <th>2</th>\n",
       "      <td>0.625</td>\n",
       "      <td>0.750</td>\n",
       "      <td>0.350</td>\n",
       "      <td>0.425</td>\n",
       "    </tr>\n",
       "    <tr>\n",
       "      <th>3</th>\n",
       "      <td>0.875</td>\n",
       "      <td>0.575</td>\n",
       "      <td>0.575</td>\n",
       "      <td>0.675</td>\n",
       "    </tr>\n",
       "    <tr>\n",
       "      <th>4</th>\n",
       "      <td>0.400</td>\n",
       "      <td>0.225</td>\n",
       "      <td>0.475</td>\n",
       "      <td>0.625</td>\n",
       "    </tr>\n",
       "  </tbody>\n",
       "</table>\n",
       "</div>"
      ],
      "text/plain": [
       "   RewP_delta  RewP_theta  FRN_delta  FRN_theta\n",
       "0       0.325       0.675      0.575      0.475\n",
       "1       0.450       0.575      0.600      0.700\n",
       "2       0.625       0.750      0.350      0.425\n",
       "3       0.875       0.575      0.575      0.675\n",
       "4       0.400       0.225      0.475      0.625"
      ]
     },
     "execution_count": 298,
     "metadata": {},
     "output_type": "execute_result"
    }
   ],
   "source": [
    "cv_results_df.head()"
   ]
  },
  {
   "cell_type": "code",
   "execution_count": 427,
   "metadata": {},
   "outputs": [
    {
     "data": {
      "image/png": "[encoded data removed]",
      "text/plain": [
       "<Figure size 432x288 with 1 Axes>"
      ]
     },
     "metadata": {
      "needs_background": "light"
     },
     "output_type": "display_data"
    }
   ],
   "source": [
    "fig = sns.histplot(data=cv_results_df, bins=5, kde=True)"
   ]
  },
  {
   "cell_type": "code",
   "execution_count": 38,
   "metadata": {},
   "outputs": [
    {
     "data": {
      "image/png": "[encoded data removed]",
      "text/plain": [
       "<Figure size 432x288 with 1 Axes>"
      ]
     },
     "metadata": {
      "needs_background": "light"
     },
     "output_type": "display_data"
    }
   ],
   "source": [
    "fig = sns.histplot(data=cv_results_df, bins=5, kde=True)"
   ]
  },
  {
   "cell_type": "markdown",
   "metadata": {},
   "source": [
    "#### Test differences between the best models"
   ]
  },
  {
   "cell_type": "markdown",
   "metadata": {},
   "source": [
    "Chose the best models"
   ]
  },
  {
   "cell_type": "code",
   "execution_count": 419,
   "metadata": {},
   "outputs": [
    {
     "data": {
      "text/html": [
       "<div>\n",
       "<style scoped>\n",
       "    .dataframe tbody tr th:only-of-type {\n",
       "        vertical-align: middle;\n",
       "    }\n",
       "\n",
       "    .dataframe tbody tr th {\n",
       "        vertical-align: top;\n",
       "    }\n",
       "\n",
       "    .dataframe thead th {\n",
       "        text-align: right;\n",
       "    }\n",
       "</style>\n",
       "<table border=\"1\" class=\"dataframe\">\n",
       "  <thead>\n",
       "    <tr style=\"text-align: right;\">\n",
       "      <th></th>\n",
       "      <th>model_name</th>\n",
       "      <th>pipeline_name</th>\n",
       "      <th>train score</th>\n",
       "      <th>mean_cv_score</th>\n",
       "      <th>best_model</th>\n",
       "      <th>parameters</th>\n",
       "      <th>pvalue</th>\n",
       "      <th>split0_test_roc_auc</th>\n",
       "      <th>split1_test_roc_auc</th>\n",
       "      <th>split2_test_roc_auc</th>\n",
       "      <th>mean_test_roc_auc</th>\n",
       "      <th>mean_test_recall</th>\n",
       "      <th>mean_test_balanced_accuracy</th>\n",
       "      <th>mean_test_precision</th>\n",
       "    </tr>\n",
       "  </thead>\n",
       "  <tbody>\n",
       "    <tr>\n",
       "      <th>0</th>\n",
       "      <td>svc</td>\n",
       "      <td>RewP_Depression_band_0_svc</td>\n",
       "      <td>0.677778</td>\n",
       "      <td>0.600000</td>\n",
       "      <td>(CSP({'component_order': 'mutual_info',\\n 'cov...</td>\n",
       "      <td>{'csp__n_components': 1, 'csp__reg': 0.01, 'sv...</td>\n",
       "      <td>0.028971</td>\n",
       "      <td>0.613333</td>\n",
       "      <td>0.533333</td>\n",
       "      <td>0.586667</td>\n",
       "      <td>0.577778</td>\n",
       "      <td>0.644444</td>\n",
       "      <td>0.600000</td>\n",
       "      <td>0.600198</td>\n",
       "    </tr>\n",
       "    <tr>\n",
       "      <th>0</th>\n",
       "      <td>svc</td>\n",
       "      <td>RewP_Depression_band_1_svc</td>\n",
       "      <td>0.811111</td>\n",
       "      <td>0.644444</td>\n",
       "      <td>(CSP({'component_order': 'mutual_info',\\n 'cov...</td>\n",
       "      <td>{'csp__n_components': 4, 'csp__reg': 0.1, 'svc...</td>\n",
       "      <td>0.005994</td>\n",
       "      <td>0.742222</td>\n",
       "      <td>0.591111</td>\n",
       "      <td>0.786667</td>\n",
       "      <td>0.706667</td>\n",
       "      <td>0.666667</td>\n",
       "      <td>0.644444</td>\n",
       "      <td>0.643732</td>\n",
       "    </tr>\n",
       "  </tbody>\n",
       "</table>\n",
       "</div>"
      ],
      "text/plain": [
       "  model_name               pipeline_name  train score  mean_cv_score  \\\n",
       "0        svc  RewP_Depression_band_0_svc     0.677778       0.600000   \n",
       "0        svc  RewP_Depression_band_1_svc     0.811111       0.644444   \n",
       "\n",
       "                                          best_model  \\\n",
       "0  (CSP({'component_order': 'mutual_info',\\n 'cov...   \n",
       "0  (CSP({'component_order': 'mutual_info',\\n 'cov...   \n",
       "\n",
       "                                          parameters    pvalue  \\\n",
       "0  {'csp__n_components': 1, 'csp__reg': 0.01, 'sv...  0.028971   \n",
       "0  {'csp__n_components': 4, 'csp__reg': 0.1, 'svc...  0.005994   \n",
       "\n",
       "   split0_test_roc_auc  split1_test_roc_auc  split2_test_roc_auc  \\\n",
       "0             0.613333             0.533333             0.586667   \n",
       "0             0.742222             0.591111             0.786667   \n",
       "\n",
       "   mean_test_roc_auc  mean_test_recall  mean_test_balanced_accuracy  \\\n",
       "0           0.577778          0.644444                     0.600000   \n",
       "0           0.706667          0.666667                     0.644444   \n",
       "\n",
       "   mean_test_precision  \n",
       "0             0.600198  \n",
       "0             0.643732  "
      ]
     },
     "execution_count": 419,
     "metadata": {},
     "output_type": "execute_result"
    }
   ],
   "source": [
    "results_dep_rewp_df"
   ]
  },
  {
   "cell_type": "code",
   "execution_count": 420,
   "metadata": {},
   "outputs": [
    {
     "data": {
      "text/html": [
       "<div>\n",
       "<style scoped>\n",
       "    .dataframe tbody tr th:only-of-type {\n",
       "        vertical-align: middle;\n",
       "    }\n",
       "\n",
       "    .dataframe tbody tr th {\n",
       "        vertical-align: top;\n",
       "    }\n",
       "\n",
       "    .dataframe thead th {\n",
       "        text-align: right;\n",
       "    }\n",
       "</style>\n",
       "<table border=\"1\" class=\"dataframe\">\n",
       "  <thead>\n",
       "    <tr style=\"text-align: right;\">\n",
       "      <th></th>\n",
       "      <th>model_name</th>\n",
       "      <th>pipeline_name</th>\n",
       "      <th>train score</th>\n",
       "      <th>mean_cv_score</th>\n",
       "      <th>best_model</th>\n",
       "      <th>parameters</th>\n",
       "      <th>pvalue</th>\n",
       "      <th>split0_test_roc_auc</th>\n",
       "      <th>split1_test_roc_auc</th>\n",
       "      <th>split2_test_roc_auc</th>\n",
       "      <th>mean_test_roc_auc</th>\n",
       "      <th>mean_test_recall</th>\n",
       "      <th>mean_test_balanced_accuracy</th>\n",
       "      <th>mean_test_precision</th>\n",
       "    </tr>\n",
       "  </thead>\n",
       "  <tbody>\n",
       "    <tr>\n",
       "      <th>0</th>\n",
       "      <td>svc</td>\n",
       "      <td>FRN_Depression_band_0_svc</td>\n",
       "      <td>0.922222</td>\n",
       "      <td>0.600000</td>\n",
       "      <td>(CSP({'component_order': 'mutual_info',\\n 'cov...</td>\n",
       "      <td>{'csp__n_components': 3, 'csp__reg': 0.01, 'sv...</td>\n",
       "      <td>0.040959</td>\n",
       "      <td>0.515556</td>\n",
       "      <td>0.626667</td>\n",
       "      <td>0.697778</td>\n",
       "      <td>0.613333</td>\n",
       "      <td>0.488889</td>\n",
       "      <td>0.600000</td>\n",
       "      <td>0.633333</td>\n",
       "    </tr>\n",
       "    <tr>\n",
       "      <th>0</th>\n",
       "      <td>svc</td>\n",
       "      <td>FRN_Depression_band_1_svc</td>\n",
       "      <td>0.622222</td>\n",
       "      <td>0.622222</td>\n",
       "      <td>(CSP({'component_order': 'mutual_info',\\n 'cov...</td>\n",
       "      <td>{'csp__n_components': 1, 'csp__reg': 0.1, 'svc...</td>\n",
       "      <td>0.006993</td>\n",
       "      <td>0.528889</td>\n",
       "      <td>0.693333</td>\n",
       "      <td>0.608889</td>\n",
       "      <td>0.610370</td>\n",
       "      <td>0.733333</td>\n",
       "      <td>0.622222</td>\n",
       "      <td>0.596925</td>\n",
       "    </tr>\n",
       "  </tbody>\n",
       "</table>\n",
       "</div>"
      ],
      "text/plain": [
       "  model_name              pipeline_name  train score  mean_cv_score  \\\n",
       "0        svc  FRN_Depression_band_0_svc     0.922222       0.600000   \n",
       "0        svc  FRN_Depression_band_1_svc     0.622222       0.622222   \n",
       "\n",
       "                                          best_model  \\\n",
       "0  (CSP({'component_order': 'mutual_info',\\n 'cov...   \n",
       "0  (CSP({'component_order': 'mutual_info',\\n 'cov...   \n",
       "\n",
       "                                          parameters    pvalue  \\\n",
       "0  {'csp__n_components': 3, 'csp__reg': 0.01, 'sv...  0.040959   \n",
       "0  {'csp__n_components': 1, 'csp__reg': 0.1, 'svc...  0.006993   \n",
       "\n",
       "   split0_test_roc_auc  split1_test_roc_auc  split2_test_roc_auc  \\\n",
       "0             0.515556             0.626667             0.697778   \n",
       "0             0.528889             0.693333             0.608889   \n",
       "\n",
       "   mean_test_roc_auc  mean_test_recall  mean_test_balanced_accuracy  \\\n",
       "0           0.613333          0.488889                     0.600000   \n",
       "0           0.610370          0.733333                     0.622222   \n",
       "\n",
       "   mean_test_precision  \n",
       "0             0.633333  \n",
       "0             0.596925  "
      ]
     },
     "execution_count": 420,
     "metadata": {},
     "output_type": "execute_result"
    }
   ],
   "source": [
    "results_dep_frn_df"
   ]
  },
  {
   "cell_type": "code",
   "execution_count": 41,
   "metadata": {},
   "outputs": [],
   "source": [
    "index = 1"
   ]
  },
  {
   "cell_type": "code",
   "execution_count": 42,
   "metadata": {},
   "outputs": [
    {
     "data": {
      "text/html": [
       "<style>#sk-container-id-1 {color: black;background-color: white;}#sk-container-id-1 pre{padding: 0;}#sk-container-id-1 div.sk-toggleable {background-color: white;}#sk-container-id-1 label.sk-toggleable__label {cursor: pointer;display: block;width: 100%;margin-bottom: 0;padding: 0.3em;box-sizing: border-box;text-align: center;}#sk-container-id-1 label.sk-toggleable__label-arrow:before {content: \"▸\";float: left;margin-right: 0.25em;color: #696969;}#sk-container-id-1 label.sk-toggleable__label-arrow:hover:before {color: black;}#sk-container-id-1 div.sk-estimator:hover label.sk-toggleable__label-arrow:before {color: black;}#sk-container-id-1 div.sk-toggleable__content {max-height: 0;max-width: 0;overflow: hidden;text-align: left;background-color: #f0f8ff;}#sk-container-id-1 div.sk-toggleable__content pre {margin: 0.2em;color: black;border-radius: 0.25em;background-color: #f0f8ff;}#sk-container-id-1 input.sk-toggleable__control:checked~div.sk-toggleable__content {max-height: 200px;max-width: 100%;overflow: auto;}#sk-container-id-1 input.sk-toggleable__control:checked~label.sk-toggleable__label-arrow:before {content: \"▾\";}#sk-container-id-1 div.sk-estimator input.sk-toggleable__control:checked~label.sk-toggleable__label {background-color: #d4ebff;}#sk-container-id-1 div.sk-label input.sk-toggleable__control:checked~label.sk-toggleable__label {background-color: #d4ebff;}#sk-container-id-1 input.sk-hidden--visually {border: 0;clip: rect(1px 1px 1px 1px);clip: rect(1px, 1px, 1px, 1px);height: 1px;margin: -1px;overflow: hidden;padding: 0;position: absolute;width: 1px;}#sk-container-id-1 div.sk-estimator {font-family: monospace;background-color: #f0f8ff;border: 1px dotted black;border-radius: 0.25em;box-sizing: border-box;margin-bottom: 0.5em;}#sk-container-id-1 div.sk-estimator:hover {background-color: #d4ebff;}#sk-container-id-1 div.sk-parallel-item::after {content: \"\";width: 100%;border-bottom: 1px solid gray;flex-grow: 1;}#sk-container-id-1 div.sk-label:hover label.sk-toggleable__label {background-color: #d4ebff;}#sk-container-id-1 div.sk-serial::before {content: \"\";position: absolute;border-left: 1px solid gray;box-sizing: border-box;top: 0;bottom: 0;left: 50%;z-index: 0;}#sk-container-id-1 div.sk-serial {display: flex;flex-direction: column;align-items: center;background-color: white;padding-right: 0.2em;padding-left: 0.2em;position: relative;}#sk-container-id-1 div.sk-item {position: relative;z-index: 1;}#sk-container-id-1 div.sk-parallel {display: flex;align-items: stretch;justify-content: center;background-color: white;position: relative;}#sk-container-id-1 div.sk-item::before, #sk-container-id-1 div.sk-parallel-item::before {content: \"\";position: absolute;border-left: 1px solid gray;box-sizing: border-box;top: 0;bottom: 0;left: 50%;z-index: -1;}#sk-container-id-1 div.sk-parallel-item {display: flex;flex-direction: column;z-index: 1;position: relative;background-color: white;}#sk-container-id-1 div.sk-parallel-item:first-child::after {align-self: flex-end;width: 50%;}#sk-container-id-1 div.sk-parallel-item:last-child::after {align-self: flex-start;width: 50%;}#sk-container-id-1 div.sk-parallel-item:only-child::after {width: 0;}#sk-container-id-1 div.sk-dashed-wrapped {border: 1px dashed gray;margin: 0 0.4em 0.5em 0.4em;box-sizing: border-box;padding-bottom: 0.4em;background-color: white;}#sk-container-id-1 div.sk-label label {font-family: monospace;font-weight: bold;display: inline-block;line-height: 1.2em;}#sk-container-id-1 div.sk-label-container {text-align: center;}#sk-container-id-1 div.sk-container {/* jupyter's `normalize.less` sets `[hidden] { display: none; }` but bootstrap.min.css set `[hidden] { display: none !important; }` so we also need the `!important` here to be able to override the default hidden behavior on the sphinx rendered scikit-learn.org. See: https://github.com/scikit-learn/scikit-learn/issues/21755 */display: inline-block !important;position: relative;}#sk-container-id-1 div.sk-text-repr-fallback {display: none;}</style><div id=\"sk-container-id-1\" class=\"sk-top-container\"><div class=\"sk-text-repr-fallback\"><pre>Pipeline(steps=[(&#x27;csp&#x27;,\n",
       "                 CSP({&#x27;component_order&#x27;: &#x27;mutual_info&#x27;,\n",
       " &#x27;cov_est&#x27;: &#x27;concat&#x27;,\n",
       " &#x27;cov_method_params&#x27;: None,\n",
       " &#x27;log&#x27;: None,\n",
       " &#x27;n_components&#x27;: 4,\n",
       " &#x27;norm_trace&#x27;: False,\n",
       " &#x27;rank&#x27;: None,\n",
       " &#x27;reg&#x27;: 0.1,\n",
       " &#x27;transform_into&#x27;: &#x27;average_power&#x27;})),\n",
       "                (&#x27;vec&#x27;,\n",
       "                 &lt;mne.decoding.transformer.Vectorizer object at 0x7fa58b7aae50&gt;),\n",
       "                (&#x27;svc&#x27;, SVC(C=1))])</pre><b>In a Jupyter environment, please rerun this cell to show the HTML representation or trust the notebook. <br />On GitHub, the HTML representation is unable to render, please try loading this page with nbviewer.org.</b></div><div class=\"sk-container\" hidden><div class=\"sk-item sk-dashed-wrapped\"><div class=\"sk-label-container\"><div class=\"sk-label sk-toggleable\"><input class=\"sk-toggleable__control sk-hidden--visually\" id=\"sk-estimator-id-1\" type=\"checkbox\" ><label for=\"sk-estimator-id-1\" class=\"sk-toggleable__label sk-toggleable__label-arrow\">Pipeline</label><div class=\"sk-toggleable__content\"><pre>Pipeline(steps=[(&#x27;csp&#x27;,\n",
       "                 CSP({&#x27;component_order&#x27;: &#x27;mutual_info&#x27;,\n",
       " &#x27;cov_est&#x27;: &#x27;concat&#x27;,\n",
       " &#x27;cov_method_params&#x27;: None,\n",
       " &#x27;log&#x27;: None,\n",
       " &#x27;n_components&#x27;: 4,\n",
       " &#x27;norm_trace&#x27;: False,\n",
       " &#x27;rank&#x27;: None,\n",
       " &#x27;reg&#x27;: 0.1,\n",
       " &#x27;transform_into&#x27;: &#x27;average_power&#x27;})),\n",
       "                (&#x27;vec&#x27;,\n",
       "                 &lt;mne.decoding.transformer.Vectorizer object at 0x7fa58b7aae50&gt;),\n",
       "                (&#x27;svc&#x27;, SVC(C=1))])</pre></div></div></div><div class=\"sk-serial\"><div class=\"sk-item\"><div class=\"sk-estimator sk-toggleable\"><input class=\"sk-toggleable__control sk-hidden--visually\" id=\"sk-estimator-id-2\" type=\"checkbox\" ><label for=\"sk-estimator-id-2\" class=\"sk-toggleable__label sk-toggleable__label-arrow\">CSP</label><div class=\"sk-toggleable__content\"><pre>CSP({&#x27;component_order&#x27;: &#x27;mutual_info&#x27;,\n",
       " &#x27;cov_est&#x27;: &#x27;concat&#x27;,\n",
       " &#x27;cov_method_params&#x27;: None,\n",
       " &#x27;log&#x27;: None,\n",
       " &#x27;n_components&#x27;: 4,\n",
       " &#x27;norm_trace&#x27;: False,\n",
       " &#x27;rank&#x27;: None,\n",
       " &#x27;reg&#x27;: 0.1,\n",
       " &#x27;transform_into&#x27;: &#x27;average_power&#x27;})</pre></div></div></div><div class=\"sk-item\"><div class=\"sk-estimator sk-toggleable\"><input class=\"sk-toggleable__control sk-hidden--visually\" id=\"sk-estimator-id-3\" type=\"checkbox\" ><label for=\"sk-estimator-id-3\" class=\"sk-toggleable__label sk-toggleable__label-arrow\">Vectorizer</label><div class=\"sk-toggleable__content\"><pre>&lt;mne.decoding.transformer.Vectorizer object at 0x7fa58b7aae50&gt;</pre></div></div></div><div class=\"sk-item\"><div class=\"sk-estimator sk-toggleable\"><input class=\"sk-toggleable__control sk-hidden--visually\" id=\"sk-estimator-id-4\" type=\"checkbox\" ><label for=\"sk-estimator-id-4\" class=\"sk-toggleable__label sk-toggleable__label-arrow\">SVC</label><div class=\"sk-toggleable__content\"><pre>SVC(C=1)</pre></div></div></div></div></div></div></div>"
      ],
      "text/plain": [
       "Pipeline(steps=[('csp',\n",
       "                 CSP({'component_order': 'mutual_info',\n",
       " 'cov_est': 'concat',\n",
       " 'cov_method_params': None,\n",
       " 'log': None,\n",
       " 'n_components': 4,\n",
       " 'norm_trace': False,\n",
       " 'rank': None,\n",
       " 'reg': 0.1,\n",
       " 'transform_into': 'average_power'})),\n",
       "                ('vec',\n",
       "                 <mne.decoding.transformer.Vectorizer object at 0x7fa58b7aae50>),\n",
       "                ('svc', SVC(C=1))])"
      ]
     },
     "execution_count": 42,
     "metadata": {},
     "output_type": "execute_result"
    }
   ],
   "source": [
    "dep_rewp_model = results_dep_rewp_df.iloc[index].best_model\n",
    "dep_rewp_model"
   ]
  },
  {
   "cell_type": "code",
   "execution_count": 43,
   "metadata": {},
   "outputs": [
    {
     "data": {
      "text/html": [
       "<style>#sk-container-id-2 {color: black;background-color: white;}#sk-container-id-2 pre{padding: 0;}#sk-container-id-2 div.sk-toggleable {background-color: white;}#sk-container-id-2 label.sk-toggleable__label {cursor: pointer;display: block;width: 100%;margin-bottom: 0;padding: 0.3em;box-sizing: border-box;text-align: center;}#sk-container-id-2 label.sk-toggleable__label-arrow:before {content: \"▸\";float: left;margin-right: 0.25em;color: #696969;}#sk-container-id-2 label.sk-toggleable__label-arrow:hover:before {color: black;}#sk-container-id-2 div.sk-estimator:hover label.sk-toggleable__label-arrow:before {color: black;}#sk-container-id-2 div.sk-toggleable__content {max-height: 0;max-width: 0;overflow: hidden;text-align: left;background-color: #f0f8ff;}#sk-container-id-2 div.sk-toggleable__content pre {margin: 0.2em;color: black;border-radius: 0.25em;background-color: #f0f8ff;}#sk-container-id-2 input.sk-toggleable__control:checked~div.sk-toggleable__content {max-height: 200px;max-width: 100%;overflow: auto;}#sk-container-id-2 input.sk-toggleable__control:checked~label.sk-toggleable__label-arrow:before {content: \"▾\";}#sk-container-id-2 div.sk-estimator input.sk-toggleable__control:checked~label.sk-toggleable__label {background-color: #d4ebff;}#sk-container-id-2 div.sk-label input.sk-toggleable__control:checked~label.sk-toggleable__label {background-color: #d4ebff;}#sk-container-id-2 input.sk-hidden--visually {border: 0;clip: rect(1px 1px 1px 1px);clip: rect(1px, 1px, 1px, 1px);height: 1px;margin: -1px;overflow: hidden;padding: 0;position: absolute;width: 1px;}#sk-container-id-2 div.sk-estimator {font-family: monospace;background-color: #f0f8ff;border: 1px dotted black;border-radius: 0.25em;box-sizing: border-box;margin-bottom: 0.5em;}#sk-container-id-2 div.sk-estimator:hover {background-color: #d4ebff;}#sk-container-id-2 div.sk-parallel-item::after {content: \"\";width: 100%;border-bottom: 1px solid gray;flex-grow: 1;}#sk-container-id-2 div.sk-label:hover label.sk-toggleable__label {background-color: #d4ebff;}#sk-container-id-2 div.sk-serial::before {content: \"\";position: absolute;border-left: 1px solid gray;box-sizing: border-box;top: 0;bottom: 0;left: 50%;z-index: 0;}#sk-container-id-2 div.sk-serial {display: flex;flex-direction: column;align-items: center;background-color: white;padding-right: 0.2em;padding-left: 0.2em;position: relative;}#sk-container-id-2 div.sk-item {position: relative;z-index: 1;}#sk-container-id-2 div.sk-parallel {display: flex;align-items: stretch;justify-content: center;background-color: white;position: relative;}#sk-container-id-2 div.sk-item::before, #sk-container-id-2 div.sk-parallel-item::before {content: \"\";position: absolute;border-left: 1px solid gray;box-sizing: border-box;top: 0;bottom: 0;left: 50%;z-index: -1;}#sk-container-id-2 div.sk-parallel-item {display: flex;flex-direction: column;z-index: 1;position: relative;background-color: white;}#sk-container-id-2 div.sk-parallel-item:first-child::after {align-self: flex-end;width: 50%;}#sk-container-id-2 div.sk-parallel-item:last-child::after {align-self: flex-start;width: 50%;}#sk-container-id-2 div.sk-parallel-item:only-child::after {width: 0;}#sk-container-id-2 div.sk-dashed-wrapped {border: 1px dashed gray;margin: 0 0.4em 0.5em 0.4em;box-sizing: border-box;padding-bottom: 0.4em;background-color: white;}#sk-container-id-2 div.sk-label label {font-family: monospace;font-weight: bold;display: inline-block;line-height: 1.2em;}#sk-container-id-2 div.sk-label-container {text-align: center;}#sk-container-id-2 div.sk-container {/* jupyter's `normalize.less` sets `[hidden] { display: none; }` but bootstrap.min.css set `[hidden] { display: none !important; }` so we also need the `!important` here to be able to override the default hidden behavior on the sphinx rendered scikit-learn.org. See: https://github.com/scikit-learn/scikit-learn/issues/21755 */display: inline-block !important;position: relative;}#sk-container-id-2 div.sk-text-repr-fallback {display: none;}</style><div id=\"sk-container-id-2\" class=\"sk-top-container\"><div class=\"sk-text-repr-fallback\"><pre>Pipeline(steps=[(&#x27;csp&#x27;,\n",
       "                 CSP({&#x27;component_order&#x27;: &#x27;mutual_info&#x27;,\n",
       " &#x27;cov_est&#x27;: &#x27;concat&#x27;,\n",
       " &#x27;cov_method_params&#x27;: None,\n",
       " &#x27;log&#x27;: None,\n",
       " &#x27;n_components&#x27;: 1,\n",
       " &#x27;norm_trace&#x27;: False,\n",
       " &#x27;rank&#x27;: None,\n",
       " &#x27;reg&#x27;: 0.1,\n",
       " &#x27;transform_into&#x27;: &#x27;average_power&#x27;})),\n",
       "                (&#x27;vec&#x27;,\n",
       "                 &lt;mne.decoding.transformer.Vectorizer object at 0x7fa58b3e0ee0&gt;),\n",
       "                (&#x27;svc&#x27;, SVC(C=1, kernel=&#x27;linear&#x27;))])</pre><b>In a Jupyter environment, please rerun this cell to show the HTML representation or trust the notebook. <br />On GitHub, the HTML representation is unable to render, please try loading this page with nbviewer.org.</b></div><div class=\"sk-container\" hidden><div class=\"sk-item sk-dashed-wrapped\"><div class=\"sk-label-container\"><div class=\"sk-label sk-toggleable\"><input class=\"sk-toggleable__control sk-hidden--visually\" id=\"sk-estimator-id-5\" type=\"checkbox\" ><label for=\"sk-estimator-id-5\" class=\"sk-toggleable__label sk-toggleable__label-arrow\">Pipeline</label><div class=\"sk-toggleable__content\"><pre>Pipeline(steps=[(&#x27;csp&#x27;,\n",
       "                 CSP({&#x27;component_order&#x27;: &#x27;mutual_info&#x27;,\n",
       " &#x27;cov_est&#x27;: &#x27;concat&#x27;,\n",
       " &#x27;cov_method_params&#x27;: None,\n",
       " &#x27;log&#x27;: None,\n",
       " &#x27;n_components&#x27;: 1,\n",
       " &#x27;norm_trace&#x27;: False,\n",
       " &#x27;rank&#x27;: None,\n",
       " &#x27;reg&#x27;: 0.1,\n",
       " &#x27;transform_into&#x27;: &#x27;average_power&#x27;})),\n",
       "                (&#x27;vec&#x27;,\n",
       "                 &lt;mne.decoding.transformer.Vectorizer object at 0x7fa58b3e0ee0&gt;),\n",
       "                (&#x27;svc&#x27;, SVC(C=1, kernel=&#x27;linear&#x27;))])</pre></div></div></div><div class=\"sk-serial\"><div class=\"sk-item\"><div class=\"sk-estimator sk-toggleable\"><input class=\"sk-toggleable__control sk-hidden--visually\" id=\"sk-estimator-id-6\" type=\"checkbox\" ><label for=\"sk-estimator-id-6\" class=\"sk-toggleable__label sk-toggleable__label-arrow\">CSP</label><div class=\"sk-toggleable__content\"><pre>CSP({&#x27;component_order&#x27;: &#x27;mutual_info&#x27;,\n",
       " &#x27;cov_est&#x27;: &#x27;concat&#x27;,\n",
       " &#x27;cov_method_params&#x27;: None,\n",
       " &#x27;log&#x27;: None,\n",
       " &#x27;n_components&#x27;: 1,\n",
       " &#x27;norm_trace&#x27;: False,\n",
       " &#x27;rank&#x27;: None,\n",
       " &#x27;reg&#x27;: 0.1,\n",
       " &#x27;transform_into&#x27;: &#x27;average_power&#x27;})</pre></div></div></div><div class=\"sk-item\"><div class=\"sk-estimator sk-toggleable\"><input class=\"sk-toggleable__control sk-hidden--visually\" id=\"sk-estimator-id-7\" type=\"checkbox\" ><label for=\"sk-estimator-id-7\" class=\"sk-toggleable__label sk-toggleable__label-arrow\">Vectorizer</label><div class=\"sk-toggleable__content\"><pre>&lt;mne.decoding.transformer.Vectorizer object at 0x7fa58b3e0ee0&gt;</pre></div></div></div><div class=\"sk-item\"><div class=\"sk-estimator sk-toggleable\"><input class=\"sk-toggleable__control sk-hidden--visually\" id=\"sk-estimator-id-8\" type=\"checkbox\" ><label for=\"sk-estimator-id-8\" class=\"sk-toggleable__label sk-toggleable__label-arrow\">SVC</label><div class=\"sk-toggleable__content\"><pre>SVC(C=1, kernel=&#x27;linear&#x27;)</pre></div></div></div></div></div></div></div>"
      ],
      "text/plain": [
       "Pipeline(steps=[('csp',\n",
       "                 CSP({'component_order': 'mutual_info',\n",
       " 'cov_est': 'concat',\n",
       " 'cov_method_params': None,\n",
       " 'log': None,\n",
       " 'n_components': 1,\n",
       " 'norm_trace': False,\n",
       " 'rank': None,\n",
       " 'reg': 0.1,\n",
       " 'transform_into': 'average_power'})),\n",
       "                ('vec',\n",
       "                 <mne.decoding.transformer.Vectorizer object at 0x7fa58b3e0ee0>),\n",
       "                ('svc', SVC(C=1, kernel='linear'))])"
      ]
     },
     "execution_count": 43,
     "metadata": {},
     "output_type": "execute_result"
    }
   ],
   "source": [
    "dep_frn_model = results_dep_frn_df.iloc[index].best_model\n",
    "dep_frn_model"
   ]
  },
  {
   "cell_type": "code",
   "execution_count": 44,
   "metadata": {},
   "outputs": [],
   "source": [
    "X_rewp = rewp_depression_datasets[index]\n",
    "X_frn = frn_depression_datasets[index]"
   ]
  },
  {
   "cell_type": "markdown",
   "metadata": {},
   "source": [
    "- Balanced Accuracy"
   ]
  },
  {
   "cell_type": "code",
   "execution_count": 48,
   "metadata": {},
   "outputs": [],
   "source": [
    "%%capture\n",
    "\n",
    "t, p = paired_ttest_nandeu(\n",
    "    estimator1=dep_rewp_model,\n",
    "    estimator2=dep_frn_model,\n",
    "    X_1=X_rewp,\n",
    "    X_2=X_frn, \n",
    "    y=y,\n",
    "    random_state=random_state,\n",
    "    scoring='balanced_accuracy'\n",
    ")"
   ]
  },
  {
   "cell_type": "code",
   "execution_count": 49,
   "metadata": {},
   "outputs": [
    {
     "name": "stdout",
     "output_type": "stream",
     "text": [
      "t statistic: 0.806\n",
      "p value: 0.211\n"
     ]
    }
   ],
   "source": [
    "print('t statistic: %.3f' % t)\n",
    "print('p value: %.3f' % p)"
   ]
  },
  {
   "cell_type": "markdown",
   "metadata": {},
   "source": [
    "- Roc AUC"
   ]
  },
  {
   "cell_type": "code",
   "execution_count": 328,
   "metadata": {},
   "outputs": [],
   "source": [
    "%%capture\n",
    "\n",
    "t, p = paired_ttest_nandeu(\n",
    "    estimator1=dep_rewp_model,\n",
    "    estimator2=dep_frn_model,\n",
    "    X_1=X_rewp,\n",
    "    X_2=X_frn, \n",
    "    y=y,\n",
    "    random_state=random_state,\n",
    "    scoring='roc_auc'\n",
    ")"
   ]
  },
  {
   "cell_type": "code",
   "execution_count": 329,
   "metadata": {},
   "outputs": [
    {
     "name": "stdout",
     "output_type": "stream",
     "text": [
      "t statistic: 0.672\n",
      "p value: 0.251\n"
     ]
    }
   ],
   "source": [
    "print('t statistic: %.3f' % t)\n",
    "print('p value: %.3f' % p)"
   ]
  },
  {
   "cell_type": "markdown",
   "metadata": {},
   "source": [
    "- precision"
   ]
  },
  {
   "cell_type": "code",
   "execution_count": 272,
   "metadata": {},
   "outputs": [],
   "source": [
    "%%capture\n",
    "\n",
    "t, p = paired_ttest_nandeu(\n",
    "    estimator1=dep_rewp_model,\n",
    "    estimator2=dep_frn_model,\n",
    "    X_1=X_rewp,\n",
    "    X_2=X_frn, \n",
    "    y=y,\n",
    "    random_state=random_state,\n",
    "    scoring='precision'\n",
    ")"
   ]
  },
  {
   "cell_type": "code",
   "execution_count": 273,
   "metadata": {},
   "outputs": [
    {
     "name": "stdout",
     "output_type": "stream",
     "text": [
      "t statistic: 0.294\n",
      "p value: 0.385\n"
     ]
    }
   ],
   "source": [
    "print('t statistic: %.3f' % t)\n",
    "print('p value: %.3f' % p)"
   ]
  },
  {
   "cell_type": "markdown",
   "metadata": {},
   "source": [
    "- recall"
   ]
  },
  {
   "cell_type": "code",
   "execution_count": 274,
   "metadata": {},
   "outputs": [],
   "source": [
    "%%capture\n",
    "\n",
    "t, p = paired_ttest_nandeu(\n",
    "    estimator1=dep_rewp_model,\n",
    "    estimator2=dep_frn_model,\n",
    "    X_1=X_rewp,\n",
    "    X_2=X_frn, \n",
    "    y=y,\n",
    "    random_state=random_state,\n",
    "    scoring='recall'\n",
    ")"
   ]
  },
  {
   "cell_type": "code",
   "execution_count": 275,
   "metadata": {},
   "outputs": [
    {
     "name": "stdout",
     "output_type": "stream",
     "text": [
      "t statistic: 0.202\n",
      "p value: 0.420\n"
     ]
    }
   ],
   "source": [
    "print('t statistic: %.3f' % t)\n",
    "print('p value: %.3f' % p)"
   ]
  },
  {
   "cell_type": "markdown",
   "metadata": {},
   "source": [
    "- F1"
   ]
  },
  {
   "cell_type": "code",
   "execution_count": 276,
   "metadata": {},
   "outputs": [],
   "source": [
    "%%capture\n",
    "\n",
    "t, p = paired_ttest_nandeu(\n",
    "    estimator1=dep_rewp_model,\n",
    "    estimator2=dep_frn_model,\n",
    "    X_1=X_rewp,\n",
    "    X_2=X_frn, \n",
    "    y=y,\n",
    "    random_state=random_state,\n",
    "    scoring='f1'\n",
    ")"
   ]
  },
  {
   "cell_type": "code",
   "execution_count": 277,
   "metadata": {},
   "outputs": [
    {
     "name": "stdout",
     "output_type": "stream",
     "text": [
      "t statistic: 0.302\n",
      "p value: 0.382\n"
     ]
    }
   ],
   "source": [
    "print('t statistic: %.3f' % t)\n",
    "print('p value: %.3f' % p)"
   ]
  },
  {
   "cell_type": "markdown",
   "metadata": {},
   "source": [
    "Visualize difference between FRN and RewP models"
   ]
  },
  {
   "cell_type": "code",
   "execution_count": 45,
   "metadata": {
    "colab": {
     "base_uri": "https://localhost:8080/"
    },
    "executionInfo": {
     "elapsed": 4,
     "status": "ok",
     "timestamp": 1677516452928,
     "user": {
      "displayName": "Anna Grabowska",
      "userId": "15734344613010880864"
     },
     "user_tz": -60
    },
    "id": "824FRKiAweds",
    "outputId": "a8affbdc-2c93-462c-d952-df11bc0ff221"
   },
   "outputs": [],
   "source": [
    "%%capture\n",
    "\n",
    "cv = RepeatedStratifiedKFold(n_splits=10, n_repeats=10, random_state=random_state)\n",
    "\n",
    "cv_scores_1 = cross_val_score(dep_rewp_model, X_rewp, y, cv=cv, scoring='balanced_accuracy')\n",
    "cv_scores_2 = cross_val_score(dep_frn_model, X_frn, y, cv=cv,  scoring='balanced_accuracy')"
   ]
  },
  {
   "cell_type": "code",
   "execution_count": 46,
   "metadata": {},
   "outputs": [],
   "source": [
    "cv_results_df = pd.DataFrame({\n",
    "    \"RewP\": cv_scores_1,\n",
    "    \"FRN\": cv_scores_2,\n",
    "})"
   ]
  },
  {
   "cell_type": "code",
   "execution_count": 324,
   "metadata": {},
   "outputs": [
    {
     "data": {
      "image/png": "[encoded data removed]",
      "text/plain": [
       "<Figure size 432x288 with 1 Axes>"
      ]
     },
     "metadata": {
      "needs_background": "light"
     },
     "output_type": "display_data"
    }
   ],
   "source": [
    "fig = sns.histplot(data=cv_results_df, bins=9, kde=True)"
   ]
  },
  {
   "cell_type": "code",
   "execution_count": 430,
   "metadata": {},
   "outputs": [
    {
     "data": {
      "image/png": "[encoded data removed]",
      "text/plain": [
       "<Figure size 432x288 with 1 Axes>"
      ]
     },
     "metadata": {
      "needs_background": "light"
     },
     "output_type": "display_data"
    }
   ],
   "source": [
    "fig = sns.histplot(data=cv_results_df, bins=9, kde=True)"
   ]
  },
  {
   "cell_type": "code",
   "execution_count": 47,
   "metadata": {},
   "outputs": [
    {
     "data": {
      "image/png": "[encoded data removed]",
      "text/plain": [
       "<Figure size 432x288 with 1 Axes>"
      ]
     },
     "metadata": {
      "needs_background": "light"
     },
     "output_type": "display_data"
    }
   ],
   "source": [
    "fig = sns.histplot(data=cv_results_df, bins=9, kde=True)"
   ]
  },
  {
   "cell_type": "code",
   "execution_count": 325,
   "metadata": {
    "colab": {
     "base_uri": "https://localhost:8080/"
    },
    "executionInfo": {
     "elapsed": 4,
     "status": "ok",
     "timestamp": 1677516452928,
     "user": {
      "displayName": "Anna Grabowska",
      "userId": "15734344613010880864"
     },
     "user_tz": -60
    },
    "id": "824FRKiAweds",
    "outputId": "a8affbdc-2c93-462c-d952-df11bc0ff221"
   },
   "outputs": [],
   "source": [
    "%%capture\n",
    "\n",
    "cv = RepeatedStratifiedKFold(n_splits=10, n_repeats=10, random_state=random_state)\n",
    "\n",
    "cv_scores_1 = cross_val_score(dep_rewp_model, X_rewp, y, cv=cv, scoring='roc_auc')\n",
    "cv_scores_2 = cross_val_score(dep_frn_model, X_frn, y, cv=cv,  scoring='roc_auc')"
   ]
  },
  {
   "cell_type": "code",
   "execution_count": 326,
   "metadata": {},
   "outputs": [],
   "source": [
    "cv_results_df = pd.DataFrame({\n",
    "    \"RewP\": cv_scores_1,\n",
    "    \"FRN\": cv_scores_2,\n",
    "})"
   ]
  },
  {
   "cell_type": "code",
   "execution_count": 327,
   "metadata": {},
   "outputs": [
    {
     "data": {
      "image/png": "[encoded data removed]",
      "text/plain": [
       "<Figure size 432x288 with 1 Axes>"
      ]
     },
     "metadata": {
      "needs_background": "light"
     },
     "output_type": "display_data"
    }
   ],
   "source": [
    "fig = sns.histplot(data=cv_results_df, bins=9, kde=True)"
   ]
  },
  {
   "cell_type": "markdown",
   "metadata": {},
   "source": [
    "### Anxiety RewP vs FRN"
   ]
  },
  {
   "cell_type": "code",
   "execution_count": 373,
   "metadata": {},
   "outputs": [],
   "source": [
    "y = np.array(len(anx) * [1] +  len(ctrl_anx) * [0])"
   ]
  },
  {
   "cell_type": "markdown",
   "metadata": {},
   "source": [
    "#### Plot differences between all Anxiety Models\n",
    "To see which RewP and FRN models are the best"
   ]
  },
  {
   "cell_type": "code",
   "execution_count": 374,
   "metadata": {
    "colab": {
     "base_uri": "https://localhost:8080/"
    },
    "executionInfo": {
     "elapsed": 4,
     "status": "ok",
     "timestamp": 1677516452928,
     "user": {
      "displayName": "Anna Grabowska",
      "userId": "15734344613010880864"
     },
     "user_tz": -60
    },
    "id": "824FRKiAweds",
    "outputId": "a8affbdc-2c93-462c-d952-df11bc0ff221",
    "tags": []
   },
   "outputs": [],
   "source": [
    "%%capture\n",
    "\n",
    "cv = RepeatedStratifiedKFold(n_splits=10, n_repeats=10, random_state=random_state)\n",
    "\n",
    "cv_results_df = pd.DataFrame()\n",
    "\n",
    "cv_scores_rewp_delta = cross_val_score(results_anx_rewp_df.iloc[0].best_model, rewp_anxiety_datasets[0], y, cv=cv, scoring='balanced_accuracy')\n",
    "cv_scores_rewp_theta = cross_val_score(results_anx_rewp_df.iloc[1].best_model, rewp_anxiety_datasets[1], y, cv=cv, scoring='balanced_accuracy')\n",
    "cv_scores_frn_delta = cross_val_score(results_anx_frn_df.iloc[0].best_model, frn_anxiety_datasets[0], y, cv=cv, scoring='balanced_accuracy')\n",
    "cv_scores_frn_theta = cross_val_score(results_anx_frn_df.iloc[1].best_model, frn_anxiety_datasets[1], y, cv=cv,scoring='balanced_accuracy')\n",
    "    \n",
    "cv_results_df[\"RewP_delta\"] = cv_scores_rewp_delta\n",
    "cv_results_df[\"RewP_theta\"] = cv_scores_rewp_theta\n",
    "cv_results_df[\"FRN_delta\"] = cv_scores_frn_delta\n",
    "cv_results_df[\"FRN_theta\"] = cv_scores_frn_theta"
   ]
  },
  {
   "cell_type": "code",
   "execution_count": 375,
   "metadata": {
    "tags": []
   },
   "outputs": [
    {
     "data": {
      "text/html": [
       "<div>\n",
       "<style scoped>\n",
       "    .dataframe tbody tr th:only-of-type {\n",
       "        vertical-align: middle;\n",
       "    }\n",
       "\n",
       "    .dataframe tbody tr th {\n",
       "        vertical-align: top;\n",
       "    }\n",
       "\n",
       "    .dataframe thead th {\n",
       "        text-align: right;\n",
       "    }\n",
       "</style>\n",
       "<table border=\"1\" class=\"dataframe\">\n",
       "  <thead>\n",
       "    <tr style=\"text-align: right;\">\n",
       "      <th></th>\n",
       "      <th>RewP_delta</th>\n",
       "      <th>RewP_theta</th>\n",
       "      <th>FRN_delta</th>\n",
       "      <th>FRN_theta</th>\n",
       "    </tr>\n",
       "  </thead>\n",
       "  <tbody>\n",
       "    <tr>\n",
       "      <th>0</th>\n",
       "      <td>0.666667</td>\n",
       "      <td>0.500000</td>\n",
       "      <td>0.500000</td>\n",
       "      <td>0.666667</td>\n",
       "    </tr>\n",
       "    <tr>\n",
       "      <th>1</th>\n",
       "      <td>0.500000</td>\n",
       "      <td>0.500000</td>\n",
       "      <td>0.666667</td>\n",
       "      <td>0.500000</td>\n",
       "    </tr>\n",
       "    <tr>\n",
       "      <th>2</th>\n",
       "      <td>0.500000</td>\n",
       "      <td>0.666667</td>\n",
       "      <td>0.333333</td>\n",
       "      <td>0.833333</td>\n",
       "    </tr>\n",
       "    <tr>\n",
       "      <th>3</th>\n",
       "      <td>0.666667</td>\n",
       "      <td>0.333333</td>\n",
       "      <td>0.666667</td>\n",
       "      <td>0.500000</td>\n",
       "    </tr>\n",
       "    <tr>\n",
       "      <th>4</th>\n",
       "      <td>0.833333</td>\n",
       "      <td>0.500000</td>\n",
       "      <td>0.666667</td>\n",
       "      <td>0.666667</td>\n",
       "    </tr>\n",
       "  </tbody>\n",
       "</table>\n",
       "</div>"
      ],
      "text/plain": [
       "   RewP_delta  RewP_theta  FRN_delta  FRN_theta\n",
       "0    0.666667    0.500000   0.500000   0.666667\n",
       "1    0.500000    0.500000   0.666667   0.500000\n",
       "2    0.500000    0.666667   0.333333   0.833333\n",
       "3    0.666667    0.333333   0.666667   0.500000\n",
       "4    0.833333    0.500000   0.666667   0.666667"
      ]
     },
     "execution_count": 375,
     "metadata": {},
     "output_type": "execute_result"
    }
   ],
   "source": [
    "cv_results_df.head()"
   ]
  },
  {
   "cell_type": "code",
   "execution_count": 376,
   "metadata": {},
   "outputs": [
    {
     "data": {
      "image/png": "[encoded data removed]",
      "text/plain": [
       "<Figure size 432x288 with 1 Axes>"
      ]
     },
     "metadata": {
      "needs_background": "light"
     },
     "output_type": "display_data"
    }
   ],
   "source": [
    "fig = sns.histplot(data=cv_results_df, bins=5, kde=True)"
   ]
  },
  {
   "cell_type": "markdown",
   "metadata": {},
   "source": [
    "#### Test differences between the best models"
   ]
  },
  {
   "cell_type": "markdown",
   "metadata": {},
   "source": [
    "Chose the best models"
   ]
  },
  {
   "cell_type": "code",
   "execution_count": 377,
   "metadata": {},
   "outputs": [
    {
     "data": {
      "text/html": [
       "<div>\n",
       "<style scoped>\n",
       "    .dataframe tbody tr th:only-of-type {\n",
       "        vertical-align: middle;\n",
       "    }\n",
       "\n",
       "    .dataframe tbody tr th {\n",
       "        vertical-align: top;\n",
       "    }\n",
       "\n",
       "    .dataframe thead th {\n",
       "        text-align: right;\n",
       "    }\n",
       "</style>\n",
       "<table border=\"1\" class=\"dataframe\">\n",
       "  <thead>\n",
       "    <tr style=\"text-align: right;\">\n",
       "      <th></th>\n",
       "      <th>model_name</th>\n",
       "      <th>pipeline_name</th>\n",
       "      <th>train score</th>\n",
       "      <th>mean_cv_score</th>\n",
       "      <th>best_model</th>\n",
       "      <th>parameters</th>\n",
       "      <th>pvalue</th>\n",
       "      <th>split0_test_roc_auc</th>\n",
       "      <th>split1_test_roc_auc</th>\n",
       "      <th>split2_test_roc_auc</th>\n",
       "      <th>mean_test_roc_auc</th>\n",
       "      <th>mean_test_recall</th>\n",
       "      <th>mean_test_balanced_accuracy</th>\n",
       "      <th>mean_test_precision</th>\n",
       "    </tr>\n",
       "  </thead>\n",
       "  <tbody>\n",
       "    <tr>\n",
       "      <th>0</th>\n",
       "      <td>svc</td>\n",
       "      <td>RewP_Anxiety_band_0_svc</td>\n",
       "      <td>0.810345</td>\n",
       "      <td>0.638889</td>\n",
       "      <td>(CSP({'component_order': 'mutual_info',\\n 'cov...</td>\n",
       "      <td>{'csp__n_components': 4, 'csp__reg': 0.1, 'svc...</td>\n",
       "      <td>0.032967</td>\n",
       "      <td>0.63</td>\n",
       "      <td>0.700000</td>\n",
       "      <td>0.488889</td>\n",
       "      <td>0.606296</td>\n",
       "      <td>0.792593</td>\n",
       "      <td>0.638889</td>\n",
       "      <td>0.606838</td>\n",
       "    </tr>\n",
       "    <tr>\n",
       "      <th>0</th>\n",
       "      <td>svc</td>\n",
       "      <td>RewP_Anxiety_band_1_svc</td>\n",
       "      <td>0.827586</td>\n",
       "      <td>0.659259</td>\n",
       "      <td>(CSP({'component_order': 'mutual_info',\\n 'cov...</td>\n",
       "      <td>{'csp__n_components': 2, 'csp__reg': 0.01, 'sv...</td>\n",
       "      <td>0.006993</td>\n",
       "      <td>0.56</td>\n",
       "      <td>0.444444</td>\n",
       "      <td>0.922222</td>\n",
       "      <td>0.642222</td>\n",
       "      <td>0.696296</td>\n",
       "      <td>0.659259</td>\n",
       "      <td>0.647619</td>\n",
       "    </tr>\n",
       "  </tbody>\n",
       "</table>\n",
       "</div>"
      ],
      "text/plain": [
       "  model_name            pipeline_name  train score  mean_cv_score  \\\n",
       "0        svc  RewP_Anxiety_band_0_svc     0.810345       0.638889   \n",
       "0        svc  RewP_Anxiety_band_1_svc     0.827586       0.659259   \n",
       "\n",
       "                                          best_model  \\\n",
       "0  (CSP({'component_order': 'mutual_info',\\n 'cov...   \n",
       "0  (CSP({'component_order': 'mutual_info',\\n 'cov...   \n",
       "\n",
       "                                          parameters    pvalue  \\\n",
       "0  {'csp__n_components': 4, 'csp__reg': 0.1, 'svc...  0.032967   \n",
       "0  {'csp__n_components': 2, 'csp__reg': 0.01, 'sv...  0.006993   \n",
       "\n",
       "   split0_test_roc_auc  split1_test_roc_auc  split2_test_roc_auc  \\\n",
       "0                 0.63             0.700000             0.488889   \n",
       "0                 0.56             0.444444             0.922222   \n",
       "\n",
       "   mean_test_roc_auc  mean_test_recall  mean_test_balanced_accuracy  \\\n",
       "0           0.606296          0.792593                     0.638889   \n",
       "0           0.642222          0.696296                     0.659259   \n",
       "\n",
       "   mean_test_precision  \n",
       "0             0.606838  \n",
       "0             0.647619  "
      ]
     },
     "execution_count": 377,
     "metadata": {},
     "output_type": "execute_result"
    }
   ],
   "source": [
    "results_anx_rewp_df"
   ]
  },
  {
   "cell_type": "code",
   "execution_count": 378,
   "metadata": {},
   "outputs": [
    {
     "data": {
      "text/html": [
       "<div>\n",
       "<style scoped>\n",
       "    .dataframe tbody tr th:only-of-type {\n",
       "        vertical-align: middle;\n",
       "    }\n",
       "\n",
       "    .dataframe tbody tr th {\n",
       "        vertical-align: top;\n",
       "    }\n",
       "\n",
       "    .dataframe thead th {\n",
       "        text-align: right;\n",
       "    }\n",
       "</style>\n",
       "<table border=\"1\" class=\"dataframe\">\n",
       "  <thead>\n",
       "    <tr style=\"text-align: right;\">\n",
       "      <th></th>\n",
       "      <th>model_name</th>\n",
       "      <th>pipeline_name</th>\n",
       "      <th>train score</th>\n",
       "      <th>mean_cv_score</th>\n",
       "      <th>best_model</th>\n",
       "      <th>parameters</th>\n",
       "      <th>pvalue</th>\n",
       "      <th>split0_test_roc_auc</th>\n",
       "      <th>split1_test_roc_auc</th>\n",
       "      <th>split2_test_roc_auc</th>\n",
       "      <th>mean_test_roc_auc</th>\n",
       "      <th>mean_test_recall</th>\n",
       "      <th>mean_test_balanced_accuracy</th>\n",
       "      <th>mean_test_precision</th>\n",
       "    </tr>\n",
       "  </thead>\n",
       "  <tbody>\n",
       "    <tr>\n",
       "      <th>0</th>\n",
       "      <td>svc</td>\n",
       "      <td>FRN_Anxiety_band_0_svc</td>\n",
       "      <td>0.810345</td>\n",
       "      <td>0.672222</td>\n",
       "      <td>(CSP({'component_order': 'mutual_info',\\n 'cov...</td>\n",
       "      <td>{'csp__n_components': 2, 'csp__reg': 0.1, 'svc...</td>\n",
       "      <td>0.008991</td>\n",
       "      <td>0.66</td>\n",
       "      <td>0.711111</td>\n",
       "      <td>0.555556</td>\n",
       "      <td>0.642222</td>\n",
       "      <td>0.722222</td>\n",
       "      <td>0.672222</td>\n",
       "      <td>0.654545</td>\n",
       "    </tr>\n",
       "    <tr>\n",
       "      <th>0</th>\n",
       "      <td>svc</td>\n",
       "      <td>FRN_Anxiety_band_1_svc</td>\n",
       "      <td>0.775862</td>\n",
       "      <td>0.644444</td>\n",
       "      <td>(CSP({'component_order': 'mutual_info',\\n 'cov...</td>\n",
       "      <td>{'csp__n_components': 2, 'csp__reg': 1, 'svc__...</td>\n",
       "      <td>0.051948</td>\n",
       "      <td>0.76</td>\n",
       "      <td>0.744444</td>\n",
       "      <td>0.655556</td>\n",
       "      <td>0.720000</td>\n",
       "      <td>0.625926</td>\n",
       "      <td>0.644444</td>\n",
       "      <td>0.713889</td>\n",
       "    </tr>\n",
       "  </tbody>\n",
       "</table>\n",
       "</div>"
      ],
      "text/plain": [
       "  model_name           pipeline_name  train score  mean_cv_score  \\\n",
       "0        svc  FRN_Anxiety_band_0_svc     0.810345       0.672222   \n",
       "0        svc  FRN_Anxiety_band_1_svc     0.775862       0.644444   \n",
       "\n",
       "                                          best_model  \\\n",
       "0  (CSP({'component_order': 'mutual_info',\\n 'cov...   \n",
       "0  (CSP({'component_order': 'mutual_info',\\n 'cov...   \n",
       "\n",
       "                                          parameters    pvalue  \\\n",
       "0  {'csp__n_components': 2, 'csp__reg': 0.1, 'svc...  0.008991   \n",
       "0  {'csp__n_components': 2, 'csp__reg': 1, 'svc__...  0.051948   \n",
       "\n",
       "   split0_test_roc_auc  split1_test_roc_auc  split2_test_roc_auc  \\\n",
       "0                 0.66             0.711111             0.555556   \n",
       "0                 0.76             0.744444             0.655556   \n",
       "\n",
       "   mean_test_roc_auc  mean_test_recall  mean_test_balanced_accuracy  \\\n",
       "0           0.642222          0.722222                     0.672222   \n",
       "0           0.720000          0.625926                     0.644444   \n",
       "\n",
       "   mean_test_precision  \n",
       "0             0.654545  \n",
       "0             0.713889  "
      ]
     },
     "execution_count": 378,
     "metadata": {},
     "output_type": "execute_result"
    }
   ],
   "source": [
    "results_anx_frn_df"
   ]
  },
  {
   "cell_type": "code",
   "execution_count": 403,
   "metadata": {},
   "outputs": [],
   "source": [
    "index = 0"
   ]
  },
  {
   "cell_type": "code",
   "execution_count": 404,
   "metadata": {},
   "outputs": [
    {
     "data": {
      "text/html": [
       "<style>#sk-container-id-18 {color: black;background-color: white;}#sk-container-id-18 pre{padding: 0;}#sk-container-id-18 div.sk-toggleable {background-color: white;}#sk-container-id-18 label.sk-toggleable__label {cursor: pointer;display: block;width: 100%;margin-bottom: 0;padding: 0.3em;box-sizing: border-box;text-align: center;}#sk-container-id-18 label.sk-toggleable__label-arrow:before {content: \"▸\";float: left;margin-right: 0.25em;color: #696969;}#sk-container-id-18 label.sk-toggleable__label-arrow:hover:before {color: black;}#sk-container-id-18 div.sk-estimator:hover label.sk-toggleable__label-arrow:before {color: black;}#sk-container-id-18 div.sk-toggleable__content {max-height: 0;max-width: 0;overflow: hidden;text-align: left;background-color: #f0f8ff;}#sk-container-id-18 div.sk-toggleable__content pre {margin: 0.2em;color: black;border-radius: 0.25em;background-color: #f0f8ff;}#sk-container-id-18 input.sk-toggleable__control:checked~div.sk-toggleable__content {max-height: 200px;max-width: 100%;overflow: auto;}#sk-container-id-18 input.sk-toggleable__control:checked~label.sk-toggleable__label-arrow:before {content: \"▾\";}#sk-container-id-18 div.sk-estimator input.sk-toggleable__control:checked~label.sk-toggleable__label {background-color: #d4ebff;}#sk-container-id-18 div.sk-label input.sk-toggleable__control:checked~label.sk-toggleable__label {background-color: #d4ebff;}#sk-container-id-18 input.sk-hidden--visually {border: 0;clip: rect(1px 1px 1px 1px);clip: rect(1px, 1px, 1px, 1px);height: 1px;margin: -1px;overflow: hidden;padding: 0;position: absolute;width: 1px;}#sk-container-id-18 div.sk-estimator {font-family: monospace;background-color: #f0f8ff;border: 1px dotted black;border-radius: 0.25em;box-sizing: border-box;margin-bottom: 0.5em;}#sk-container-id-18 div.sk-estimator:hover {background-color: #d4ebff;}#sk-container-id-18 div.sk-parallel-item::after {content: \"\";width: 100%;border-bottom: 1px solid gray;flex-grow: 1;}#sk-container-id-18 div.sk-label:hover label.sk-toggleable__label {background-color: #d4ebff;}#sk-container-id-18 div.sk-serial::before {content: \"\";position: absolute;border-left: 1px solid gray;box-sizing: border-box;top: 0;bottom: 0;left: 50%;z-index: 0;}#sk-container-id-18 div.sk-serial {display: flex;flex-direction: column;align-items: center;background-color: white;padding-right: 0.2em;padding-left: 0.2em;position: relative;}#sk-container-id-18 div.sk-item {position: relative;z-index: 1;}#sk-container-id-18 div.sk-parallel {display: flex;align-items: stretch;justify-content: center;background-color: white;position: relative;}#sk-container-id-18 div.sk-item::before, #sk-container-id-18 div.sk-parallel-item::before {content: \"\";position: absolute;border-left: 1px solid gray;box-sizing: border-box;top: 0;bottom: 0;left: 50%;z-index: -1;}#sk-container-id-18 div.sk-parallel-item {display: flex;flex-direction: column;z-index: 1;position: relative;background-color: white;}#sk-container-id-18 div.sk-parallel-item:first-child::after {align-self: flex-end;width: 50%;}#sk-container-id-18 div.sk-parallel-item:last-child::after {align-self: flex-start;width: 50%;}#sk-container-id-18 div.sk-parallel-item:only-child::after {width: 0;}#sk-container-id-18 div.sk-dashed-wrapped {border: 1px dashed gray;margin: 0 0.4em 0.5em 0.4em;box-sizing: border-box;padding-bottom: 0.4em;background-color: white;}#sk-container-id-18 div.sk-label label {font-family: monospace;font-weight: bold;display: inline-block;line-height: 1.2em;}#sk-container-id-18 div.sk-label-container {text-align: center;}#sk-container-id-18 div.sk-container {/* jupyter's `normalize.less` sets `[hidden] { display: none; }` but bootstrap.min.css set `[hidden] { display: none !important; }` so we also need the `!important` here to be able to override the default hidden behavior on the sphinx rendered scikit-learn.org. See: https://github.com/scikit-learn/scikit-learn/issues/21755 */display: inline-block !important;position: relative;}#sk-container-id-18 div.sk-text-repr-fallback {display: none;}</style><div id=\"sk-container-id-18\" class=\"sk-top-container\"><div class=\"sk-text-repr-fallback\"><pre>Pipeline(steps=[(&#x27;csp&#x27;,\n",
       "                 CSP({&#x27;component_order&#x27;: &#x27;mutual_info&#x27;,\n",
       " &#x27;cov_est&#x27;: &#x27;concat&#x27;,\n",
       " &#x27;cov_method_params&#x27;: None,\n",
       " &#x27;log&#x27;: None,\n",
       " &#x27;n_components&#x27;: 4,\n",
       " &#x27;norm_trace&#x27;: False,\n",
       " &#x27;rank&#x27;: None,\n",
       " &#x27;reg&#x27;: 0.1,\n",
       " &#x27;transform_into&#x27;: &#x27;average_power&#x27;})),\n",
       "                (&#x27;vec&#x27;,\n",
       "                 &lt;mne.decoding.transformer.Vectorizer object at 0x7fefda3e52b0&gt;),\n",
       "                (&#x27;svc&#x27;, SVC(C=10, kernel=&#x27;linear&#x27;))])</pre><b>In a Jupyter environment, please rerun this cell to show the HTML representation or trust the notebook. <br />On GitHub, the HTML representation is unable to render, please try loading this page with nbviewer.org.</b></div><div class=\"sk-container\" hidden><div class=\"sk-item sk-dashed-wrapped\"><div class=\"sk-label-container\"><div class=\"sk-label sk-toggleable\"><input class=\"sk-toggleable__control sk-hidden--visually\" id=\"sk-estimator-id-69\" type=\"checkbox\" ><label for=\"sk-estimator-id-69\" class=\"sk-toggleable__label sk-toggleable__label-arrow\">Pipeline</label><div class=\"sk-toggleable__content\"><pre>Pipeline(steps=[(&#x27;csp&#x27;,\n",
       "                 CSP({&#x27;component_order&#x27;: &#x27;mutual_info&#x27;,\n",
       " &#x27;cov_est&#x27;: &#x27;concat&#x27;,\n",
       " &#x27;cov_method_params&#x27;: None,\n",
       " &#x27;log&#x27;: None,\n",
       " &#x27;n_components&#x27;: 4,\n",
       " &#x27;norm_trace&#x27;: False,\n",
       " &#x27;rank&#x27;: None,\n",
       " &#x27;reg&#x27;: 0.1,\n",
       " &#x27;transform_into&#x27;: &#x27;average_power&#x27;})),\n",
       "                (&#x27;vec&#x27;,\n",
       "                 &lt;mne.decoding.transformer.Vectorizer object at 0x7fefda3e52b0&gt;),\n",
       "                (&#x27;svc&#x27;, SVC(C=10, kernel=&#x27;linear&#x27;))])</pre></div></div></div><div class=\"sk-serial\"><div class=\"sk-item\"><div class=\"sk-estimator sk-toggleable\"><input class=\"sk-toggleable__control sk-hidden--visually\" id=\"sk-estimator-id-70\" type=\"checkbox\" ><label for=\"sk-estimator-id-70\" class=\"sk-toggleable__label sk-toggleable__label-arrow\">CSP</label><div class=\"sk-toggleable__content\"><pre>CSP({&#x27;component_order&#x27;: &#x27;mutual_info&#x27;,\n",
       " &#x27;cov_est&#x27;: &#x27;concat&#x27;,\n",
       " &#x27;cov_method_params&#x27;: None,\n",
       " &#x27;log&#x27;: None,\n",
       " &#x27;n_components&#x27;: 4,\n",
       " &#x27;norm_trace&#x27;: False,\n",
       " &#x27;rank&#x27;: None,\n",
       " &#x27;reg&#x27;: 0.1,\n",
       " &#x27;transform_into&#x27;: &#x27;average_power&#x27;})</pre></div></div></div><div class=\"sk-item\"><div class=\"sk-estimator sk-toggleable\"><input class=\"sk-toggleable__control sk-hidden--visually\" id=\"sk-estimator-id-71\" type=\"checkbox\" ><label for=\"sk-estimator-id-71\" class=\"sk-toggleable__label sk-toggleable__label-arrow\">Vectorizer</label><div class=\"sk-toggleable__content\"><pre>&lt;mne.decoding.transformer.Vectorizer object at 0x7fefda3e52b0&gt;</pre></div></div></div><div class=\"sk-item\"><div class=\"sk-estimator sk-toggleable\"><input class=\"sk-toggleable__control sk-hidden--visually\" id=\"sk-estimator-id-72\" type=\"checkbox\" ><label for=\"sk-estimator-id-72\" class=\"sk-toggleable__label sk-toggleable__label-arrow\">SVC</label><div class=\"sk-toggleable__content\"><pre>SVC(C=10, kernel=&#x27;linear&#x27;)</pre></div></div></div></div></div></div></div>"
      ],
      "text/plain": [
       "Pipeline(steps=[('csp',\n",
       "                 CSP({'component_order': 'mutual_info',\n",
       " 'cov_est': 'concat',\n",
       " 'cov_method_params': None,\n",
       " 'log': None,\n",
       " 'n_components': 4,\n",
       " 'norm_trace': False,\n",
       " 'rank': None,\n",
       " 'reg': 0.1,\n",
       " 'transform_into': 'average_power'})),\n",
       "                ('vec',\n",
       "                 <mne.decoding.transformer.Vectorizer object at 0x7fefda3e52b0>),\n",
       "                ('svc', SVC(C=10, kernel='linear'))])"
      ]
     },
     "execution_count": 404,
     "metadata": {},
     "output_type": "execute_result"
    }
   ],
   "source": [
    "anx_rewp_model = results_anx_rewp_df.iloc[index].best_model\n",
    "anx_rewp_model"
   ]
  },
  {
   "cell_type": "code",
   "execution_count": 405,
   "metadata": {},
   "outputs": [
    {
     "data": {
      "text/html": [
       "<style>#sk-container-id-19 {color: black;background-color: white;}#sk-container-id-19 pre{padding: 0;}#sk-container-id-19 div.sk-toggleable {background-color: white;}#sk-container-id-19 label.sk-toggleable__label {cursor: pointer;display: block;width: 100%;margin-bottom: 0;padding: 0.3em;box-sizing: border-box;text-align: center;}#sk-container-id-19 label.sk-toggleable__label-arrow:before {content: \"▸\";float: left;margin-right: 0.25em;color: #696969;}#sk-container-id-19 label.sk-toggleable__label-arrow:hover:before {color: black;}#sk-container-id-19 div.sk-estimator:hover label.sk-toggleable__label-arrow:before {color: black;}#sk-container-id-19 div.sk-toggleable__content {max-height: 0;max-width: 0;overflow: hidden;text-align: left;background-color: #f0f8ff;}#sk-container-id-19 div.sk-toggleable__content pre {margin: 0.2em;color: black;border-radius: 0.25em;background-color: #f0f8ff;}#sk-container-id-19 input.sk-toggleable__control:checked~div.sk-toggleable__content {max-height: 200px;max-width: 100%;overflow: auto;}#sk-container-id-19 input.sk-toggleable__control:checked~label.sk-toggleable__label-arrow:before {content: \"▾\";}#sk-container-id-19 div.sk-estimator input.sk-toggleable__control:checked~label.sk-toggleable__label {background-color: #d4ebff;}#sk-container-id-19 div.sk-label input.sk-toggleable__control:checked~label.sk-toggleable__label {background-color: #d4ebff;}#sk-container-id-19 input.sk-hidden--visually {border: 0;clip: rect(1px 1px 1px 1px);clip: rect(1px, 1px, 1px, 1px);height: 1px;margin: -1px;overflow: hidden;padding: 0;position: absolute;width: 1px;}#sk-container-id-19 div.sk-estimator {font-family: monospace;background-color: #f0f8ff;border: 1px dotted black;border-radius: 0.25em;box-sizing: border-box;margin-bottom: 0.5em;}#sk-container-id-19 div.sk-estimator:hover {background-color: #d4ebff;}#sk-container-id-19 div.sk-parallel-item::after {content: \"\";width: 100%;border-bottom: 1px solid gray;flex-grow: 1;}#sk-container-id-19 div.sk-label:hover label.sk-toggleable__label {background-color: #d4ebff;}#sk-container-id-19 div.sk-serial::before {content: \"\";position: absolute;border-left: 1px solid gray;box-sizing: border-box;top: 0;bottom: 0;left: 50%;z-index: 0;}#sk-container-id-19 div.sk-serial {display: flex;flex-direction: column;align-items: center;background-color: white;padding-right: 0.2em;padding-left: 0.2em;position: relative;}#sk-container-id-19 div.sk-item {position: relative;z-index: 1;}#sk-container-id-19 div.sk-parallel {display: flex;align-items: stretch;justify-content: center;background-color: white;position: relative;}#sk-container-id-19 div.sk-item::before, #sk-container-id-19 div.sk-parallel-item::before {content: \"\";position: absolute;border-left: 1px solid gray;box-sizing: border-box;top: 0;bottom: 0;left: 50%;z-index: -1;}#sk-container-id-19 div.sk-parallel-item {display: flex;flex-direction: column;z-index: 1;position: relative;background-color: white;}#sk-container-id-19 div.sk-parallel-item:first-child::after {align-self: flex-end;width: 50%;}#sk-container-id-19 div.sk-parallel-item:last-child::after {align-self: flex-start;width: 50%;}#sk-container-id-19 div.sk-parallel-item:only-child::after {width: 0;}#sk-container-id-19 div.sk-dashed-wrapped {border: 1px dashed gray;margin: 0 0.4em 0.5em 0.4em;box-sizing: border-box;padding-bottom: 0.4em;background-color: white;}#sk-container-id-19 div.sk-label label {font-family: monospace;font-weight: bold;display: inline-block;line-height: 1.2em;}#sk-container-id-19 div.sk-label-container {text-align: center;}#sk-container-id-19 div.sk-container {/* jupyter's `normalize.less` sets `[hidden] { display: none; }` but bootstrap.min.css set `[hidden] { display: none !important; }` so we also need the `!important` here to be able to override the default hidden behavior on the sphinx rendered scikit-learn.org. See: https://github.com/scikit-learn/scikit-learn/issues/21755 */display: inline-block !important;position: relative;}#sk-container-id-19 div.sk-text-repr-fallback {display: none;}</style><div id=\"sk-container-id-19\" class=\"sk-top-container\"><div class=\"sk-text-repr-fallback\"><pre>Pipeline(steps=[(&#x27;csp&#x27;,\n",
       "                 CSP({&#x27;component_order&#x27;: &#x27;mutual_info&#x27;,\n",
       " &#x27;cov_est&#x27;: &#x27;concat&#x27;,\n",
       " &#x27;cov_method_params&#x27;: None,\n",
       " &#x27;log&#x27;: None,\n",
       " &#x27;n_components&#x27;: 2,\n",
       " &#x27;norm_trace&#x27;: False,\n",
       " &#x27;rank&#x27;: None,\n",
       " &#x27;reg&#x27;: 0.1,\n",
       " &#x27;transform_into&#x27;: &#x27;average_power&#x27;})),\n",
       "                (&#x27;vec&#x27;,\n",
       "                 &lt;mne.decoding.transformer.Vectorizer object at 0x7fefd9e5b8e0&gt;),\n",
       "                (&#x27;svc&#x27;, SVC(C=1))])</pre><b>In a Jupyter environment, please rerun this cell to show the HTML representation or trust the notebook. <br />On GitHub, the HTML representation is unable to render, please try loading this page with nbviewer.org.</b></div><div class=\"sk-container\" hidden><div class=\"sk-item sk-dashed-wrapped\"><div class=\"sk-label-container\"><div class=\"sk-label sk-toggleable\"><input class=\"sk-toggleable__control sk-hidden--visually\" id=\"sk-estimator-id-73\" type=\"checkbox\" ><label for=\"sk-estimator-id-73\" class=\"sk-toggleable__label sk-toggleable__label-arrow\">Pipeline</label><div class=\"sk-toggleable__content\"><pre>Pipeline(steps=[(&#x27;csp&#x27;,\n",
       "                 CSP({&#x27;component_order&#x27;: &#x27;mutual_info&#x27;,\n",
       " &#x27;cov_est&#x27;: &#x27;concat&#x27;,\n",
       " &#x27;cov_method_params&#x27;: None,\n",
       " &#x27;log&#x27;: None,\n",
       " &#x27;n_components&#x27;: 2,\n",
       " &#x27;norm_trace&#x27;: False,\n",
       " &#x27;rank&#x27;: None,\n",
       " &#x27;reg&#x27;: 0.1,\n",
       " &#x27;transform_into&#x27;: &#x27;average_power&#x27;})),\n",
       "                (&#x27;vec&#x27;,\n",
       "                 &lt;mne.decoding.transformer.Vectorizer object at 0x7fefd9e5b8e0&gt;),\n",
       "                (&#x27;svc&#x27;, SVC(C=1))])</pre></div></div></div><div class=\"sk-serial\"><div class=\"sk-item\"><div class=\"sk-estimator sk-toggleable\"><input class=\"sk-toggleable__control sk-hidden--visually\" id=\"sk-estimator-id-74\" type=\"checkbox\" ><label for=\"sk-estimator-id-74\" class=\"sk-toggleable__label sk-toggleable__label-arrow\">CSP</label><div class=\"sk-toggleable__content\"><pre>CSP({&#x27;component_order&#x27;: &#x27;mutual_info&#x27;,\n",
       " &#x27;cov_est&#x27;: &#x27;concat&#x27;,\n",
       " &#x27;cov_method_params&#x27;: None,\n",
       " &#x27;log&#x27;: None,\n",
       " &#x27;n_components&#x27;: 2,\n",
       " &#x27;norm_trace&#x27;: False,\n",
       " &#x27;rank&#x27;: None,\n",
       " &#x27;reg&#x27;: 0.1,\n",
       " &#x27;transform_into&#x27;: &#x27;average_power&#x27;})</pre></div></div></div><div class=\"sk-item\"><div class=\"sk-estimator sk-toggleable\"><input class=\"sk-toggleable__control sk-hidden--visually\" id=\"sk-estimator-id-75\" type=\"checkbox\" ><label for=\"sk-estimator-id-75\" class=\"sk-toggleable__label sk-toggleable__label-arrow\">Vectorizer</label><div class=\"sk-toggleable__content\"><pre>&lt;mne.decoding.transformer.Vectorizer object at 0x7fefd9e5b8e0&gt;</pre></div></div></div><div class=\"sk-item\"><div class=\"sk-estimator sk-toggleable\"><input class=\"sk-toggleable__control sk-hidden--visually\" id=\"sk-estimator-id-76\" type=\"checkbox\" ><label for=\"sk-estimator-id-76\" class=\"sk-toggleable__label sk-toggleable__label-arrow\">SVC</label><div class=\"sk-toggleable__content\"><pre>SVC(C=1)</pre></div></div></div></div></div></div></div>"
      ],
      "text/plain": [
       "Pipeline(steps=[('csp',\n",
       "                 CSP({'component_order': 'mutual_info',\n",
       " 'cov_est': 'concat',\n",
       " 'cov_method_params': None,\n",
       " 'log': None,\n",
       " 'n_components': 2,\n",
       " 'norm_trace': False,\n",
       " 'rank': None,\n",
       " 'reg': 0.1,\n",
       " 'transform_into': 'average_power'})),\n",
       "                ('vec',\n",
       "                 <mne.decoding.transformer.Vectorizer object at 0x7fefd9e5b8e0>),\n",
       "                ('svc', SVC(C=1))])"
      ]
     },
     "execution_count": 405,
     "metadata": {},
     "output_type": "execute_result"
    }
   ],
   "source": [
    "anx_frn_model = results_anx_frn_df.iloc[index].best_model\n",
    "anx_frn_model"
   ]
  },
  {
   "cell_type": "code",
   "execution_count": 406,
   "metadata": {},
   "outputs": [],
   "source": [
    "X_rewp = rewp_anxiety_datasets[index]\n",
    "X_frn = frn_anxiety_datasets[index]"
   ]
  },
  {
   "cell_type": "markdown",
   "metadata": {},
   "source": [
    "- Balanced Accuracy"
   ]
  },
  {
   "cell_type": "code",
   "execution_count": 407,
   "metadata": {},
   "outputs": [],
   "source": [
    "%%capture\n",
    "\n",
    "t, p = paired_ttest_nandeu(\n",
    "    estimator1=anx_rewp_model,\n",
    "    estimator2=anx_frn_model,\n",
    "    X_1=X_rewp,\n",
    "    X_2=X_frn, \n",
    "    y=y,\n",
    "    random_state=random_state,\n",
    "    scoring='balanced_accuracy'\n",
    ")"
   ]
  },
  {
   "cell_type": "code",
   "execution_count": 408,
   "metadata": {},
   "outputs": [
    {
     "name": "stdout",
     "output_type": "stream",
     "text": [
      "t statistic: 0.070\n",
      "p value: 0.472\n"
     ]
    }
   ],
   "source": [
    "print('t statistic: %.3f' % t)\n",
    "print('p value: %.3f' % p)"
   ]
  },
  {
   "cell_type": "markdown",
   "metadata": {},
   "source": [
    "- Roc AUC"
   ]
  },
  {
   "cell_type": "code",
   "execution_count": 387,
   "metadata": {},
   "outputs": [],
   "source": [
    "%%capture\n",
    "\n",
    "t, p = paired_ttest_nandeu(\n",
    "    estimator1=anx_rewp_model,\n",
    "    estimator2=anx_frn_model,\n",
    "    X_1=X_rewp,\n",
    "    X_2=X_frn, \n",
    "    y=y,\n",
    "    random_state=random_state,\n",
    "    scoring='roc_auc'\n",
    ")"
   ]
  },
  {
   "cell_type": "code",
   "execution_count": 388,
   "metadata": {},
   "outputs": [
    {
     "name": "stdout",
     "output_type": "stream",
     "text": [
      "t statistic: -1.021\n",
      "p value: 0.155\n"
     ]
    }
   ],
   "source": [
    "print('t statistic: %.3f' % t)\n",
    "print('p value: %.3f' % p)"
   ]
  },
  {
   "cell_type": "markdown",
   "metadata": {},
   "source": [
    "- precision"
   ]
  },
  {
   "cell_type": "code",
   "execution_count": 389,
   "metadata": {},
   "outputs": [],
   "source": [
    "%%capture\n",
    "\n",
    "t, p = paired_ttest_nandeu(\n",
    "    estimator1=anx_rewp_model,\n",
    "    estimator2=anx_frn_model,\n",
    "    X_1=X_rewp,\n",
    "    X_2=X_frn, \n",
    "    y=y,\n",
    "    random_state=random_state,\n",
    "    scoring='precision'\n",
    ")"
   ]
  },
  {
   "cell_type": "code",
   "execution_count": 390,
   "metadata": {},
   "outputs": [
    {
     "name": "stdout",
     "output_type": "stream",
     "text": [
      "t statistic: -0.553\n",
      "p value: 0.291\n"
     ]
    }
   ],
   "source": [
    "print('t statistic: %.3f' % t)\n",
    "print('p value: %.3f' % p)"
   ]
  },
  {
   "cell_type": "markdown",
   "metadata": {},
   "source": [
    "- recall"
   ]
  },
  {
   "cell_type": "code",
   "execution_count": 391,
   "metadata": {},
   "outputs": [],
   "source": [
    "%%capture\n",
    "\n",
    "t, p = paired_ttest_nandeu(\n",
    "    estimator1=anx_rewp_model,\n",
    "    estimator2=anx_frn_model,\n",
    "    X_1=X_rewp,\n",
    "    X_2=X_frn, \n",
    "    y=y,\n",
    "    random_state=random_state,\n",
    "    scoring='recall'\n",
    ")"
   ]
  },
  {
   "cell_type": "code",
   "execution_count": 392,
   "metadata": {},
   "outputs": [
    {
     "name": "stdout",
     "output_type": "stream",
     "text": [
      "t statistic: -0.342\n",
      "p value: 0.367\n"
     ]
    }
   ],
   "source": [
    "print('t statistic: %.3f' % t)\n",
    "print('p value: %.3f' % p)"
   ]
  },
  {
   "cell_type": "markdown",
   "metadata": {},
   "source": [
    "- F1"
   ]
  },
  {
   "cell_type": "code",
   "execution_count": 393,
   "metadata": {},
   "outputs": [],
   "source": [
    "%%capture\n",
    "\n",
    "t, p = paired_ttest_nandeu(\n",
    "    estimator1=anx_rewp_model,\n",
    "    estimator2=anx_frn_model,\n",
    "    X_1=X_rewp,\n",
    "    X_2=X_frn, \n",
    "    y=y,\n",
    "    random_state=random_state,\n",
    "    scoring='f1'\n",
    ")"
   ]
  },
  {
   "cell_type": "code",
   "execution_count": 394,
   "metadata": {},
   "outputs": [
    {
     "name": "stdout",
     "output_type": "stream",
     "text": [
      "t statistic: -0.528\n",
      "p value: 0.299\n"
     ]
    }
   ],
   "source": [
    "print('t statistic: %.3f' % t)\n",
    "print('p value: %.3f' % p)"
   ]
  },
  {
   "cell_type": "markdown",
   "metadata": {},
   "source": [
    "Visualize difference between FRN and RewP models"
   ]
  },
  {
   "cell_type": "code",
   "execution_count": 409,
   "metadata": {
    "colab": {
     "base_uri": "https://localhost:8080/"
    },
    "executionInfo": {
     "elapsed": 4,
     "status": "ok",
     "timestamp": 1677516452928,
     "user": {
      "displayName": "Anna Grabowska",
      "userId": "15734344613010880864"
     },
     "user_tz": -60
    },
    "id": "824FRKiAweds",
    "outputId": "a8affbdc-2c93-462c-d952-df11bc0ff221"
   },
   "outputs": [],
   "source": [
    "%%capture\n",
    "\n",
    "cv = RepeatedStratifiedKFold(n_splits=10, n_repeats=10, random_state=random_state)\n",
    "\n",
    "cv_scores_1 = cross_val_score(anx_rewp_model, X_rewp, y, cv=cv, scoring='balanced_accuracy')\n",
    "cv_scores_2 = cross_val_score(anx_frn_model, X_frn, y, cv=cv,  scoring='balanced_accuracy')"
   ]
  },
  {
   "cell_type": "code",
   "execution_count": 410,
   "metadata": {},
   "outputs": [],
   "source": [
    "cv_results_df = pd.DataFrame({\n",
    "    \"RewP\": cv_scores_1,\n",
    "    \"FRN\": cv_scores_2,\n",
    "})"
   ]
  },
  {
   "cell_type": "code",
   "execution_count": 411,
   "metadata": {},
   "outputs": [
    {
     "data": {
      "image/png": "[encoded data removed]",
      "text/plain": [
       "<Figure size 432x288 with 1 Axes>"
      ]
     },
     "metadata": {
      "needs_background": "light"
     },
     "output_type": "display_data"
    }
   ],
   "source": [
    "fig = sns.histplot(data=cv_results_df, bins=9, kde=True)"
   ]
  },
  {
   "cell_type": "code",
   "execution_count": 398,
   "metadata": {
    "colab": {
     "base_uri": "https://localhost:8080/"
    },
    "executionInfo": {
     "elapsed": 4,
     "status": "ok",
     "timestamp": 1677516452928,
     "user": {
      "displayName": "Anna Grabowska",
      "userId": "15734344613010880864"
     },
     "user_tz": -60
    },
    "id": "824FRKiAweds",
    "outputId": "a8affbdc-2c93-462c-d952-df11bc0ff221"
   },
   "outputs": [],
   "source": [
    "%%capture\n",
    "\n",
    "cv = RepeatedStratifiedKFold(n_splits=10, n_repeats=10, random_state=random_state)\n",
    "\n",
    "cv_scores_1 = cross_val_score(anx_rewp_model, X_rewp, y, cv=cv, scoring='roc_auc')\n",
    "cv_scores_2 = cross_val_score(anx_frn_model, X_frn, y, cv=cv,  scoring='roc_auc')"
   ]
  },
  {
   "cell_type": "code",
   "execution_count": 399,
   "metadata": {},
   "outputs": [],
   "source": [
    "cv_results_df = pd.DataFrame({\n",
    "    \"RewP\": cv_scores_1,\n",
    "    \"FRN\": cv_scores_2,\n",
    "})"
   ]
  },
  {
   "cell_type": "code",
   "execution_count": 400,
   "metadata": {},
   "outputs": [
    {
     "data": {
      "image/png": "[encoded data removed]",
      "text/plain": [
       "<Figure size 432x288 with 1 Axes>"
      ]
     },
     "metadata": {
      "needs_background": "light"
     },
     "output_type": "display_data"
    }
   ],
   "source": [
    "fig = sns.histplot(data=cv_results_df, bins=9, kde=True)"
   ]
  },
  {
   "cell_type": "code",
   "execution_count": null,
   "metadata": {},
   "outputs": [],
   "source": []
  },
  {
   "cell_type": "code",
   "execution_count": null,
   "metadata": {},
   "outputs": [],
   "source": []
  },
  {
   "cell_type": "code",
   "execution_count": null,
   "metadata": {},
   "outputs": [],
   "source": []
  },
  {
   "cell_type": "markdown",
   "metadata": {},
   "source": [
    "---"
   ]
  },
  {
   "cell_type": "code",
   "execution_count": 579,
   "metadata": {
    "id": "5xtHJW4tugMm"
   },
   "outputs": [],
   "source": [
    "tmin = 0.25\n",
    "tmax = 0.35\n",
    "\n",
    "anx_rewp_data = [epoch['good'].average().get_data(tmin=tmin, tmax=tmax,) for epoch in anx_epochs]\n",
    "ctrl_rewp_data = [epoch['good'].average().get_data(tmin=tmin, tmax=tmax,) for epoch in ctrl_anx_epochs]"
   ]
  },
  {
   "cell_type": "code",
   "execution_count": 580,
   "metadata": {
    "colab": {
     "background_save": true
    },
    "id": "MpZMrKhCsKGO",
    "tags": []
   },
   "outputs": [],
   "source": [
    "X_rewp = np.array(anx_rewp_data + ctrl_rewp_data)"
   ]
  },
  {
   "cell_type": "code",
   "execution_count": 581,
   "metadata": {
    "id": "vcTUfJ4x1oij"
   },
   "outputs": [],
   "source": [
    "tmin = 0.25\n",
    "tmax = 0.37\n",
    "\n",
    "anx_frn_data = [epoch['bad'].average().get_data(tmin=tmin, tmax=tmax,) for epoch in anx_epochs]\n",
    "ctrl_frn_data = [epoch['bad'].average().get_data(tmin=tmin, tmax=tmax,) for epoch in ctrl_anx_epochs]"
   ]
  },
  {
   "cell_type": "code",
   "execution_count": 582,
   "metadata": {
    "id": "1L-jv3Vx1oij"
   },
   "outputs": [],
   "source": [
    "X_frn = np.array(anx_frn_data + ctrl_frn_data)"
   ]
  },
  {
   "cell_type": "markdown",
   "metadata": {},
   "source": [
    "#### Plot differences between all Anxiety Models\n",
    "To see which RewP and FRN models are the best"
   ]
  },
  {
   "cell_type": "code",
   "execution_count": 160,
   "metadata": {
    "colab": {
     "base_uri": "https://localhost:8080/"
    },
    "executionInfo": {
     "elapsed": 4,
     "status": "ok",
     "timestamp": 1677516452928,
     "user": {
      "displayName": "Anna Grabowska",
      "userId": "15734344613010880864"
     },
     "user_tz": -60
    },
    "id": "824FRKiAweds",
    "outputId": "a8affbdc-2c93-462c-d952-df11bc0ff221"
   },
   "outputs": [],
   "source": [
    "%%capture\n",
    "\n",
    "cv = RepeatedStratifiedKFold(n_splits=10, n_repeats=10, random_state=random_state)\n",
    "\n",
    "cv_results_df = pd.DataFrame()\n",
    "\n",
    "cv_scores_rewp_delta = cross_val_score(results_anx_rewp_df.iloc[0].best_model, rewp_anxiety_datasets[0], y, cv=cv, scoring='balanced_accuracy')\n",
    "cv_scores_rewp_theta = cross_val_score(results_anx_rewp_df.iloc[1].best_model, rewp_anxiety_datasets[1], y, cv=cv, scoring='balanced_accuracy')\n",
    "cv_scores_frn_delta = cross_val_score(results_anx_frn_df.iloc[0].best_model, frn_anxiety_datasets[0], y, cv=cv, scoring='balanced_accuracy')\n",
    "cv_scores_frn_theta = cross_val_score(results_anx_frn_df.iloc[1].best_model, frn_anxiety_datasets[1], y, cv=cv,scoring='balanced_accuracy')\n",
    "    \n",
    "cv_results_df[\"RewP_delta\"] = cv_scores_rewp_delta\n",
    "cv_results_df[\"RewP_theta\"] = cv_scores_rewp_theta\n",
    "cv_results_df[\"FRN_delta\"] = cv_scores_frn_delta\n",
    "cv_results_df[\"FRN_theta\"] = cv_scores_frn_theta"
   ]
  },
  {
   "cell_type": "code",
   "execution_count": 161,
   "metadata": {
    "tags": []
   },
   "outputs": [
    {
     "data": {
      "text/html": [
       "<div>\n",
       "<style scoped>\n",
       "    .dataframe tbody tr th:only-of-type {\n",
       "        vertical-align: middle;\n",
       "    }\n",
       "\n",
       "    .dataframe tbody tr th {\n",
       "        vertical-align: top;\n",
       "    }\n",
       "\n",
       "    .dataframe thead th {\n",
       "        text-align: right;\n",
       "    }\n",
       "</style>\n",
       "<table border=\"1\" class=\"dataframe\">\n",
       "  <thead>\n",
       "    <tr style=\"text-align: right;\">\n",
       "      <th></th>\n",
       "      <th>RewP_delta</th>\n",
       "      <th>RewP_theta</th>\n",
       "      <th>FRN_delta</th>\n",
       "      <th>FRN_theta</th>\n",
       "    </tr>\n",
       "  </thead>\n",
       "  <tbody>\n",
       "    <tr>\n",
       "      <th>0</th>\n",
       "      <td>0.666667</td>\n",
       "      <td>0.166667</td>\n",
       "      <td>0.500000</td>\n",
       "      <td>0.833333</td>\n",
       "    </tr>\n",
       "    <tr>\n",
       "      <th>1</th>\n",
       "      <td>0.833333</td>\n",
       "      <td>0.166667</td>\n",
       "      <td>0.666667</td>\n",
       "      <td>0.500000</td>\n",
       "    </tr>\n",
       "    <tr>\n",
       "      <th>2</th>\n",
       "      <td>0.500000</td>\n",
       "      <td>0.500000</td>\n",
       "      <td>0.500000</td>\n",
       "      <td>0.833333</td>\n",
       "    </tr>\n",
       "    <tr>\n",
       "      <th>3</th>\n",
       "      <td>0.833333</td>\n",
       "      <td>0.333333</td>\n",
       "      <td>0.500000</td>\n",
       "      <td>0.500000</td>\n",
       "    </tr>\n",
       "    <tr>\n",
       "      <th>4</th>\n",
       "      <td>0.666667</td>\n",
       "      <td>0.666667</td>\n",
       "      <td>0.666667</td>\n",
       "      <td>0.666667</td>\n",
       "    </tr>\n",
       "    <tr>\n",
       "      <th>...</th>\n",
       "      <td>...</td>\n",
       "      <td>...</td>\n",
       "      <td>...</td>\n",
       "      <td>...</td>\n",
       "    </tr>\n",
       "    <tr>\n",
       "      <th>95</th>\n",
       "      <td>0.666667</td>\n",
       "      <td>0.500000</td>\n",
       "      <td>0.166667</td>\n",
       "      <td>0.666667</td>\n",
       "    </tr>\n",
       "    <tr>\n",
       "      <th>96</th>\n",
       "      <td>0.833333</td>\n",
       "      <td>0.500000</td>\n",
       "      <td>1.000000</td>\n",
       "      <td>0.666667</td>\n",
       "    </tr>\n",
       "    <tr>\n",
       "      <th>97</th>\n",
       "      <td>0.333333</td>\n",
       "      <td>0.333333</td>\n",
       "      <td>0.833333</td>\n",
       "      <td>0.500000</td>\n",
       "    </tr>\n",
       "    <tr>\n",
       "      <th>98</th>\n",
       "      <td>0.166667</td>\n",
       "      <td>0.500000</td>\n",
       "      <td>0.583333</td>\n",
       "      <td>0.833333</td>\n",
       "    </tr>\n",
       "    <tr>\n",
       "      <th>99</th>\n",
       "      <td>0.583333</td>\n",
       "      <td>0.250000</td>\n",
       "      <td>0.583333</td>\n",
       "      <td>0.500000</td>\n",
       "    </tr>\n",
       "  </tbody>\n",
       "</table>\n",
       "<p>100 rows × 4 columns</p>\n",
       "</div>"
      ],
      "text/plain": [
       "    RewP_delta  RewP_theta  FRN_delta  FRN_theta\n",
       "0     0.666667    0.166667   0.500000   0.833333\n",
       "1     0.833333    0.166667   0.666667   0.500000\n",
       "2     0.500000    0.500000   0.500000   0.833333\n",
       "3     0.833333    0.333333   0.500000   0.500000\n",
       "4     0.666667    0.666667   0.666667   0.666667\n",
       "..         ...         ...        ...        ...\n",
       "95    0.666667    0.500000   0.166667   0.666667\n",
       "96    0.833333    0.500000   1.000000   0.666667\n",
       "97    0.333333    0.333333   0.833333   0.500000\n",
       "98    0.166667    0.500000   0.583333   0.833333\n",
       "99    0.583333    0.250000   0.583333   0.500000\n",
       "\n",
       "[100 rows x 4 columns]"
      ]
     },
     "execution_count": 161,
     "metadata": {},
     "output_type": "execute_result"
    }
   ],
   "source": [
    "cv_results_df"
   ]
  },
  {
   "cell_type": "code",
   "execution_count": 162,
   "metadata": {},
   "outputs": [
    {
     "data": {
      "image/png": "[encoded data removed]",
      "text/plain": [
       "<Figure size 432x288 with 1 Axes>"
      ]
     },
     "metadata": {
      "needs_background": "light"
     },
     "output_type": "display_data"
    }
   ],
   "source": [
    "fig = sns.histplot(data=cv_results_df, bins=5, kde=True)"
   ]
  },
  {
   "cell_type": "markdown",
   "metadata": {},
   "source": [
    "#### Test differences between the best models"
   ]
  },
  {
   "cell_type": "markdown",
   "metadata": {},
   "source": [
    "Chose the best models"
   ]
  },
  {
   "cell_type": "code",
   "execution_count": 228,
   "metadata": {},
   "outputs": [
    {
     "data": {
      "text/html": [
       "<div>\n",
       "<style scoped>\n",
       "    .dataframe tbody tr th:only-of-type {\n",
       "        vertical-align: middle;\n",
       "    }\n",
       "\n",
       "    .dataframe tbody tr th {\n",
       "        vertical-align: top;\n",
       "    }\n",
       "\n",
       "    .dataframe thead th {\n",
       "        text-align: right;\n",
       "    }\n",
       "</style>\n",
       "<table border=\"1\" class=\"dataframe\">\n",
       "  <thead>\n",
       "    <tr style=\"text-align: right;\">\n",
       "      <th></th>\n",
       "      <th>model_name</th>\n",
       "      <th>pipeline_name</th>\n",
       "      <th>train score</th>\n",
       "      <th>mean_cv_score</th>\n",
       "      <th>best_model</th>\n",
       "      <th>parameters</th>\n",
       "      <th>pvalue</th>\n",
       "      <th>split0_test_roc_auc</th>\n",
       "      <th>split1_test_roc_auc</th>\n",
       "      <th>split2_test_roc_auc</th>\n",
       "      <th>mean_test_precision</th>\n",
       "      <th>mean_test_roc_auc</th>\n",
       "      <th>mean_test_recall</th>\n",
       "      <th>mean_test_balanced_accuracy</th>\n",
       "    </tr>\n",
       "  </thead>\n",
       "  <tbody>\n",
       "    <tr>\n",
       "      <th>0</th>\n",
       "      <td>svc</td>\n",
       "      <td>RewP_Anxiety_band_0_svc</td>\n",
       "      <td>0.741379</td>\n",
       "      <td>0.653704</td>\n",
       "      <td>(CSP({'component_order': 'mutual_info',\\n 'cov...</td>\n",
       "      <td>{'csp__n_components': 3, 'csp__reg': 0.1, 'svc...</td>\n",
       "      <td>0.013986</td>\n",
       "      <td>0.74</td>\n",
       "      <td>0.822222</td>\n",
       "      <td>0.566667</td>\n",
       "      <td>0.634343</td>\n",
       "      <td>0.709630</td>\n",
       "      <td>0.722222</td>\n",
       "      <td>0.653704</td>\n",
       "    </tr>\n",
       "    <tr>\n",
       "      <th>0</th>\n",
       "      <td>svc</td>\n",
       "      <td>RewP_Anxiety_band_1_svc</td>\n",
       "      <td>0.827586</td>\n",
       "      <td>0.620370</td>\n",
       "      <td>(CSP({'component_order': 'mutual_info',\\n 'cov...</td>\n",
       "      <td>{'csp__n_components': 2, 'csp__reg': 0.01, 'sv...</td>\n",
       "      <td>0.035964</td>\n",
       "      <td>0.55</td>\n",
       "      <td>0.433333</td>\n",
       "      <td>0.855556</td>\n",
       "      <td>0.590354</td>\n",
       "      <td>0.612963</td>\n",
       "      <td>0.800000</td>\n",
       "      <td>0.620370</td>\n",
       "    </tr>\n",
       "  </tbody>\n",
       "</table>\n",
       "</div>"
      ],
      "text/plain": [
       "  model_name            pipeline_name  train score  mean_cv_score  \\\n",
       "0        svc  RewP_Anxiety_band_0_svc     0.741379       0.653704   \n",
       "0        svc  RewP_Anxiety_band_1_svc     0.827586       0.620370   \n",
       "\n",
       "                                          best_model  \\\n",
       "0  (CSP({'component_order': 'mutual_info',\\n 'cov...   \n",
       "0  (CSP({'component_order': 'mutual_info',\\n 'cov...   \n",
       "\n",
       "                                          parameters    pvalue  \\\n",
       "0  {'csp__n_components': 3, 'csp__reg': 0.1, 'svc...  0.013986   \n",
       "0  {'csp__n_components': 2, 'csp__reg': 0.01, 'sv...  0.035964   \n",
       "\n",
       "   split0_test_roc_auc  split1_test_roc_auc  split2_test_roc_auc  \\\n",
       "0                 0.74             0.822222             0.566667   \n",
       "0                 0.55             0.433333             0.855556   \n",
       "\n",
       "   mean_test_precision  mean_test_roc_auc  mean_test_recall  \\\n",
       "0             0.634343           0.709630          0.722222   \n",
       "0             0.590354           0.612963          0.800000   \n",
       "\n",
       "   mean_test_balanced_accuracy  \n",
       "0                     0.653704  \n",
       "0                     0.620370  "
      ]
     },
     "execution_count": 228,
     "metadata": {},
     "output_type": "execute_result"
    }
   ],
   "source": [
    "results_anx_rewp_df"
   ]
  },
  {
   "cell_type": "code",
   "execution_count": 229,
   "metadata": {},
   "outputs": [
    {
     "data": {
      "text/html": [
       "<div>\n",
       "<style scoped>\n",
       "    .dataframe tbody tr th:only-of-type {\n",
       "        vertical-align: middle;\n",
       "    }\n",
       "\n",
       "    .dataframe tbody tr th {\n",
       "        vertical-align: top;\n",
       "    }\n",
       "\n",
       "    .dataframe thead th {\n",
       "        text-align: right;\n",
       "    }\n",
       "</style>\n",
       "<table border=\"1\" class=\"dataframe\">\n",
       "  <thead>\n",
       "    <tr style=\"text-align: right;\">\n",
       "      <th></th>\n",
       "      <th>model_name</th>\n",
       "      <th>pipeline_name</th>\n",
       "      <th>train score</th>\n",
       "      <th>mean_cv_score</th>\n",
       "      <th>best_model</th>\n",
       "      <th>parameters</th>\n",
       "      <th>pvalue</th>\n",
       "      <th>split0_test_roc_auc</th>\n",
       "      <th>split1_test_roc_auc</th>\n",
       "      <th>split2_test_roc_auc</th>\n",
       "      <th>mean_test_precision</th>\n",
       "      <th>mean_test_roc_auc</th>\n",
       "      <th>mean_test_recall</th>\n",
       "      <th>mean_test_balanced_accuracy</th>\n",
       "    </tr>\n",
       "  </thead>\n",
       "  <tbody>\n",
       "    <tr>\n",
       "      <th>0</th>\n",
       "      <td>svc</td>\n",
       "      <td>FRN_Anxiety_band_0_svc</td>\n",
       "      <td>0.827586</td>\n",
       "      <td>0.670370</td>\n",
       "      <td>(CSP({'component_order': 'mutual_info',\\n 'cov...</td>\n",
       "      <td>{'csp__n_components': 2, 'csp__reg': 0.1, 'svc...</td>\n",
       "      <td>0.009990</td>\n",
       "      <td>0.52</td>\n",
       "      <td>0.700000</td>\n",
       "      <td>0.600000</td>\n",
       "      <td>0.660943</td>\n",
       "      <td>0.606667</td>\n",
       "      <td>0.685185</td>\n",
       "      <td>0.670370</td>\n",
       "    </tr>\n",
       "    <tr>\n",
       "      <th>0</th>\n",
       "      <td>svc</td>\n",
       "      <td>FRN_Anxiety_band_1_svc</td>\n",
       "      <td>0.775862</td>\n",
       "      <td>0.642593</td>\n",
       "      <td>(CSP({'component_order': 'mutual_info',\\n 'cov...</td>\n",
       "      <td>{'csp__n_components': 2, 'csp__reg': 1, 'svc__...</td>\n",
       "      <td>0.056943</td>\n",
       "      <td>0.81</td>\n",
       "      <td>0.722222</td>\n",
       "      <td>0.655556</td>\n",
       "      <td>0.650000</td>\n",
       "      <td>0.729259</td>\n",
       "      <td>0.729630</td>\n",
       "      <td>0.642593</td>\n",
       "    </tr>\n",
       "  </tbody>\n",
       "</table>\n",
       "</div>"
      ],
      "text/plain": [
       "  model_name           pipeline_name  train score  mean_cv_score  \\\n",
       "0        svc  FRN_Anxiety_band_0_svc     0.827586       0.670370   \n",
       "0        svc  FRN_Anxiety_band_1_svc     0.775862       0.642593   \n",
       "\n",
       "                                          best_model  \\\n",
       "0  (CSP({'component_order': 'mutual_info',\\n 'cov...   \n",
       "0  (CSP({'component_order': 'mutual_info',\\n 'cov...   \n",
       "\n",
       "                                          parameters    pvalue  \\\n",
       "0  {'csp__n_components': 2, 'csp__reg': 0.1, 'svc...  0.009990   \n",
       "0  {'csp__n_components': 2, 'csp__reg': 1, 'svc__...  0.056943   \n",
       "\n",
       "   split0_test_roc_auc  split1_test_roc_auc  split2_test_roc_auc  \\\n",
       "0                 0.52             0.700000             0.600000   \n",
       "0                 0.81             0.722222             0.655556   \n",
       "\n",
       "   mean_test_precision  mean_test_roc_auc  mean_test_recall  \\\n",
       "0             0.660943           0.606667          0.685185   \n",
       "0             0.650000           0.729259          0.729630   \n",
       "\n",
       "   mean_test_balanced_accuracy  \n",
       "0                     0.670370  \n",
       "0                     0.642593  "
      ]
     },
     "execution_count": 229,
     "metadata": {},
     "output_type": "execute_result"
    }
   ],
   "source": [
    "results_anx_frn_df"
   ]
  },
  {
   "cell_type": "code",
   "execution_count": 242,
   "metadata": {},
   "outputs": [],
   "source": [
    "index = 1"
   ]
  },
  {
   "cell_type": "code",
   "execution_count": 243,
   "metadata": {},
   "outputs": [
    {
     "data": {
      "text/html": [
       "<style>#sk-container-id-32 {color: black;background-color: white;}#sk-container-id-32 pre{padding: 0;}#sk-container-id-32 div.sk-toggleable {background-color: white;}#sk-container-id-32 label.sk-toggleable__label {cursor: pointer;display: block;width: 100%;margin-bottom: 0;padding: 0.3em;box-sizing: border-box;text-align: center;}#sk-container-id-32 label.sk-toggleable__label-arrow:before {content: \"▸\";float: left;margin-right: 0.25em;color: #696969;}#sk-container-id-32 label.sk-toggleable__label-arrow:hover:before {color: black;}#sk-container-id-32 div.sk-estimator:hover label.sk-toggleable__label-arrow:before {color: black;}#sk-container-id-32 div.sk-toggleable__content {max-height: 0;max-width: 0;overflow: hidden;text-align: left;background-color: #f0f8ff;}#sk-container-id-32 div.sk-toggleable__content pre {margin: 0.2em;color: black;border-radius: 0.25em;background-color: #f0f8ff;}#sk-container-id-32 input.sk-toggleable__control:checked~div.sk-toggleable__content {max-height: 200px;max-width: 100%;overflow: auto;}#sk-container-id-32 input.sk-toggleable__control:checked~label.sk-toggleable__label-arrow:before {content: \"▾\";}#sk-container-id-32 div.sk-estimator input.sk-toggleable__control:checked~label.sk-toggleable__label {background-color: #d4ebff;}#sk-container-id-32 div.sk-label input.sk-toggleable__control:checked~label.sk-toggleable__label {background-color: #d4ebff;}#sk-container-id-32 input.sk-hidden--visually {border: 0;clip: rect(1px 1px 1px 1px);clip: rect(1px, 1px, 1px, 1px);height: 1px;margin: -1px;overflow: hidden;padding: 0;position: absolute;width: 1px;}#sk-container-id-32 div.sk-estimator {font-family: monospace;background-color: #f0f8ff;border: 1px dotted black;border-radius: 0.25em;box-sizing: border-box;margin-bottom: 0.5em;}#sk-container-id-32 div.sk-estimator:hover {background-color: #d4ebff;}#sk-container-id-32 div.sk-parallel-item::after {content: \"\";width: 100%;border-bottom: 1px solid gray;flex-grow: 1;}#sk-container-id-32 div.sk-label:hover label.sk-toggleable__label {background-color: #d4ebff;}#sk-container-id-32 div.sk-serial::before {content: \"\";position: absolute;border-left: 1px solid gray;box-sizing: border-box;top: 0;bottom: 0;left: 50%;z-index: 0;}#sk-container-id-32 div.sk-serial {display: flex;flex-direction: column;align-items: center;background-color: white;padding-right: 0.2em;padding-left: 0.2em;position: relative;}#sk-container-id-32 div.sk-item {position: relative;z-index: 1;}#sk-container-id-32 div.sk-parallel {display: flex;align-items: stretch;justify-content: center;background-color: white;position: relative;}#sk-container-id-32 div.sk-item::before, #sk-container-id-32 div.sk-parallel-item::before {content: \"\";position: absolute;border-left: 1px solid gray;box-sizing: border-box;top: 0;bottom: 0;left: 50%;z-index: -1;}#sk-container-id-32 div.sk-parallel-item {display: flex;flex-direction: column;z-index: 1;position: relative;background-color: white;}#sk-container-id-32 div.sk-parallel-item:first-child::after {align-self: flex-end;width: 50%;}#sk-container-id-32 div.sk-parallel-item:last-child::after {align-self: flex-start;width: 50%;}#sk-container-id-32 div.sk-parallel-item:only-child::after {width: 0;}#sk-container-id-32 div.sk-dashed-wrapped {border: 1px dashed gray;margin: 0 0.4em 0.5em 0.4em;box-sizing: border-box;padding-bottom: 0.4em;background-color: white;}#sk-container-id-32 div.sk-label label {font-family: monospace;font-weight: bold;display: inline-block;line-height: 1.2em;}#sk-container-id-32 div.sk-label-container {text-align: center;}#sk-container-id-32 div.sk-container {/* jupyter's `normalize.less` sets `[hidden] { display: none; }` but bootstrap.min.css set `[hidden] { display: none !important; }` so we also need the `!important` here to be able to override the default hidden behavior on the sphinx rendered scikit-learn.org. See: https://github.com/scikit-learn/scikit-learn/issues/21755 */display: inline-block !important;position: relative;}#sk-container-id-32 div.sk-text-repr-fallback {display: none;}</style><div id=\"sk-container-id-32\" class=\"sk-top-container\"><div class=\"sk-text-repr-fallback\"><pre>Pipeline(steps=[(&#x27;csp&#x27;,\n",
       "                 CSP({&#x27;component_order&#x27;: &#x27;mutual_info&#x27;,\n",
       " &#x27;cov_est&#x27;: &#x27;concat&#x27;,\n",
       " &#x27;cov_method_params&#x27;: None,\n",
       " &#x27;log&#x27;: None,\n",
       " &#x27;n_components&#x27;: 2,\n",
       " &#x27;norm_trace&#x27;: False,\n",
       " &#x27;rank&#x27;: None,\n",
       " &#x27;reg&#x27;: 0.01,\n",
       " &#x27;transform_into&#x27;: &#x27;average_power&#x27;})),\n",
       "                (&#x27;vec&#x27;,\n",
       "                 &lt;mne.decoding.transformer.Vectorizer object at 0x7f42f934a490&gt;),\n",
       "                (&#x27;svc&#x27;, SVC(C=1, kernel=&#x27;linear&#x27;))])</pre><b>In a Jupyter environment, please rerun this cell to show the HTML representation or trust the notebook. <br />On GitHub, the HTML representation is unable to render, please try loading this page with nbviewer.org.</b></div><div class=\"sk-container\" hidden><div class=\"sk-item sk-dashed-wrapped\"><div class=\"sk-label-container\"><div class=\"sk-label sk-toggleable\"><input class=\"sk-toggleable__control sk-hidden--visually\" id=\"sk-estimator-id-125\" type=\"checkbox\" ><label for=\"sk-estimator-id-125\" class=\"sk-toggleable__label sk-toggleable__label-arrow\">Pipeline</label><div class=\"sk-toggleable__content\"><pre>Pipeline(steps=[(&#x27;csp&#x27;,\n",
       "                 CSP({&#x27;component_order&#x27;: &#x27;mutual_info&#x27;,\n",
       " &#x27;cov_est&#x27;: &#x27;concat&#x27;,\n",
       " &#x27;cov_method_params&#x27;: None,\n",
       " &#x27;log&#x27;: None,\n",
       " &#x27;n_components&#x27;: 2,\n",
       " &#x27;norm_trace&#x27;: False,\n",
       " &#x27;rank&#x27;: None,\n",
       " &#x27;reg&#x27;: 0.01,\n",
       " &#x27;transform_into&#x27;: &#x27;average_power&#x27;})),\n",
       "                (&#x27;vec&#x27;,\n",
       "                 &lt;mne.decoding.transformer.Vectorizer object at 0x7f42f934a490&gt;),\n",
       "                (&#x27;svc&#x27;, SVC(C=1, kernel=&#x27;linear&#x27;))])</pre></div></div></div><div class=\"sk-serial\"><div class=\"sk-item\"><div class=\"sk-estimator sk-toggleable\"><input class=\"sk-toggleable__control sk-hidden--visually\" id=\"sk-estimator-id-126\" type=\"checkbox\" ><label for=\"sk-estimator-id-126\" class=\"sk-toggleable__label sk-toggleable__label-arrow\">CSP</label><div class=\"sk-toggleable__content\"><pre>CSP({&#x27;component_order&#x27;: &#x27;mutual_info&#x27;,\n",
       " &#x27;cov_est&#x27;: &#x27;concat&#x27;,\n",
       " &#x27;cov_method_params&#x27;: None,\n",
       " &#x27;log&#x27;: None,\n",
       " &#x27;n_components&#x27;: 2,\n",
       " &#x27;norm_trace&#x27;: False,\n",
       " &#x27;rank&#x27;: None,\n",
       " &#x27;reg&#x27;: 0.01,\n",
       " &#x27;transform_into&#x27;: &#x27;average_power&#x27;})</pre></div></div></div><div class=\"sk-item\"><div class=\"sk-estimator sk-toggleable\"><input class=\"sk-toggleable__control sk-hidden--visually\" id=\"sk-estimator-id-127\" type=\"checkbox\" ><label for=\"sk-estimator-id-127\" class=\"sk-toggleable__label sk-toggleable__label-arrow\">Vectorizer</label><div class=\"sk-toggleable__content\"><pre>&lt;mne.decoding.transformer.Vectorizer object at 0x7f42f934a490&gt;</pre></div></div></div><div class=\"sk-item\"><div class=\"sk-estimator sk-toggleable\"><input class=\"sk-toggleable__control sk-hidden--visually\" id=\"sk-estimator-id-128\" type=\"checkbox\" ><label for=\"sk-estimator-id-128\" class=\"sk-toggleable__label sk-toggleable__label-arrow\">SVC</label><div class=\"sk-toggleable__content\"><pre>SVC(C=1, kernel=&#x27;linear&#x27;)</pre></div></div></div></div></div></div></div>"
      ],
      "text/plain": [
       "Pipeline(steps=[('csp',\n",
       "                 CSP({'component_order': 'mutual_info',\n",
       " 'cov_est': 'concat',\n",
       " 'cov_method_params': None,\n",
       " 'log': None,\n",
       " 'n_components': 2,\n",
       " 'norm_trace': False,\n",
       " 'rank': None,\n",
       " 'reg': 0.01,\n",
       " 'transform_into': 'average_power'})),\n",
       "                ('vec',\n",
       "                 <mne.decoding.transformer.Vectorizer object at 0x7f42f934a490>),\n",
       "                ('svc', SVC(C=1, kernel='linear'))])"
      ]
     },
     "execution_count": 243,
     "metadata": {},
     "output_type": "execute_result"
    }
   ],
   "source": [
    "anx_rewp_model = results_anx_rewp_df.iloc[index].best_model\n",
    "anx_rewp_model"
   ]
  },
  {
   "cell_type": "code",
   "execution_count": 244,
   "metadata": {},
   "outputs": [
    {
     "data": {
      "text/html": [
       "<style>#sk-container-id-33 {color: black;background-color: white;}#sk-container-id-33 pre{padding: 0;}#sk-container-id-33 div.sk-toggleable {background-color: white;}#sk-container-id-33 label.sk-toggleable__label {cursor: pointer;display: block;width: 100%;margin-bottom: 0;padding: 0.3em;box-sizing: border-box;text-align: center;}#sk-container-id-33 label.sk-toggleable__label-arrow:before {content: \"▸\";float: left;margin-right: 0.25em;color: #696969;}#sk-container-id-33 label.sk-toggleable__label-arrow:hover:before {color: black;}#sk-container-id-33 div.sk-estimator:hover label.sk-toggleable__label-arrow:before {color: black;}#sk-container-id-33 div.sk-toggleable__content {max-height: 0;max-width: 0;overflow: hidden;text-align: left;background-color: #f0f8ff;}#sk-container-id-33 div.sk-toggleable__content pre {margin: 0.2em;color: black;border-radius: 0.25em;background-color: #f0f8ff;}#sk-container-id-33 input.sk-toggleable__control:checked~div.sk-toggleable__content {max-height: 200px;max-width: 100%;overflow: auto;}#sk-container-id-33 input.sk-toggleable__control:checked~label.sk-toggleable__label-arrow:before {content: \"▾\";}#sk-container-id-33 div.sk-estimator input.sk-toggleable__control:checked~label.sk-toggleable__label {background-color: #d4ebff;}#sk-container-id-33 div.sk-label input.sk-toggleable__control:checked~label.sk-toggleable__label {background-color: #d4ebff;}#sk-container-id-33 input.sk-hidden--visually {border: 0;clip: rect(1px 1px 1px 1px);clip: rect(1px, 1px, 1px, 1px);height: 1px;margin: -1px;overflow: hidden;padding: 0;position: absolute;width: 1px;}#sk-container-id-33 div.sk-estimator {font-family: monospace;background-color: #f0f8ff;border: 1px dotted black;border-radius: 0.25em;box-sizing: border-box;margin-bottom: 0.5em;}#sk-container-id-33 div.sk-estimator:hover {background-color: #d4ebff;}#sk-container-id-33 div.sk-parallel-item::after {content: \"\";width: 100%;border-bottom: 1px solid gray;flex-grow: 1;}#sk-container-id-33 div.sk-label:hover label.sk-toggleable__label {background-color: #d4ebff;}#sk-container-id-33 div.sk-serial::before {content: \"\";position: absolute;border-left: 1px solid gray;box-sizing: border-box;top: 0;bottom: 0;left: 50%;z-index: 0;}#sk-container-id-33 div.sk-serial {display: flex;flex-direction: column;align-items: center;background-color: white;padding-right: 0.2em;padding-left: 0.2em;position: relative;}#sk-container-id-33 div.sk-item {position: relative;z-index: 1;}#sk-container-id-33 div.sk-parallel {display: flex;align-items: stretch;justify-content: center;background-color: white;position: relative;}#sk-container-id-33 div.sk-item::before, #sk-container-id-33 div.sk-parallel-item::before {content: \"\";position: absolute;border-left: 1px solid gray;box-sizing: border-box;top: 0;bottom: 0;left: 50%;z-index: -1;}#sk-container-id-33 div.sk-parallel-item {display: flex;flex-direction: column;z-index: 1;position: relative;background-color: white;}#sk-container-id-33 div.sk-parallel-item:first-child::after {align-self: flex-end;width: 50%;}#sk-container-id-33 div.sk-parallel-item:last-child::after {align-self: flex-start;width: 50%;}#sk-container-id-33 div.sk-parallel-item:only-child::after {width: 0;}#sk-container-id-33 div.sk-dashed-wrapped {border: 1px dashed gray;margin: 0 0.4em 0.5em 0.4em;box-sizing: border-box;padding-bottom: 0.4em;background-color: white;}#sk-container-id-33 div.sk-label label {font-family: monospace;font-weight: bold;display: inline-block;line-height: 1.2em;}#sk-container-id-33 div.sk-label-container {text-align: center;}#sk-container-id-33 div.sk-container {/* jupyter's `normalize.less` sets `[hidden] { display: none; }` but bootstrap.min.css set `[hidden] { display: none !important; }` so we also need the `!important` here to be able to override the default hidden behavior on the sphinx rendered scikit-learn.org. See: https://github.com/scikit-learn/scikit-learn/issues/21755 */display: inline-block !important;position: relative;}#sk-container-id-33 div.sk-text-repr-fallback {display: none;}</style><div id=\"sk-container-id-33\" class=\"sk-top-container\"><div class=\"sk-text-repr-fallback\"><pre>Pipeline(steps=[(&#x27;csp&#x27;,\n",
       "                 CSP({&#x27;component_order&#x27;: &#x27;mutual_info&#x27;,\n",
       " &#x27;cov_est&#x27;: &#x27;concat&#x27;,\n",
       " &#x27;cov_method_params&#x27;: None,\n",
       " &#x27;log&#x27;: None,\n",
       " &#x27;n_components&#x27;: 2,\n",
       " &#x27;norm_trace&#x27;: False,\n",
       " &#x27;rank&#x27;: None,\n",
       " &#x27;reg&#x27;: 1,\n",
       " &#x27;transform_into&#x27;: &#x27;average_power&#x27;})),\n",
       "                (&#x27;vec&#x27;,\n",
       "                 &lt;mne.decoding.transformer.Vectorizer object at 0x7f42f9128f70&gt;),\n",
       "                (&#x27;svc&#x27;, SVC(C=10))])</pre><b>In a Jupyter environment, please rerun this cell to show the HTML representation or trust the notebook. <br />On GitHub, the HTML representation is unable to render, please try loading this page with nbviewer.org.</b></div><div class=\"sk-container\" hidden><div class=\"sk-item sk-dashed-wrapped\"><div class=\"sk-label-container\"><div class=\"sk-label sk-toggleable\"><input class=\"sk-toggleable__control sk-hidden--visually\" id=\"sk-estimator-id-129\" type=\"checkbox\" ><label for=\"sk-estimator-id-129\" class=\"sk-toggleable__label sk-toggleable__label-arrow\">Pipeline</label><div class=\"sk-toggleable__content\"><pre>Pipeline(steps=[(&#x27;csp&#x27;,\n",
       "                 CSP({&#x27;component_order&#x27;: &#x27;mutual_info&#x27;,\n",
       " &#x27;cov_est&#x27;: &#x27;concat&#x27;,\n",
       " &#x27;cov_method_params&#x27;: None,\n",
       " &#x27;log&#x27;: None,\n",
       " &#x27;n_components&#x27;: 2,\n",
       " &#x27;norm_trace&#x27;: False,\n",
       " &#x27;rank&#x27;: None,\n",
       " &#x27;reg&#x27;: 1,\n",
       " &#x27;transform_into&#x27;: &#x27;average_power&#x27;})),\n",
       "                (&#x27;vec&#x27;,\n",
       "                 &lt;mne.decoding.transformer.Vectorizer object at 0x7f42f9128f70&gt;),\n",
       "                (&#x27;svc&#x27;, SVC(C=10))])</pre></div></div></div><div class=\"sk-serial\"><div class=\"sk-item\"><div class=\"sk-estimator sk-toggleable\"><input class=\"sk-toggleable__control sk-hidden--visually\" id=\"sk-estimator-id-130\" type=\"checkbox\" ><label for=\"sk-estimator-id-130\" class=\"sk-toggleable__label sk-toggleable__label-arrow\">CSP</label><div class=\"sk-toggleable__content\"><pre>CSP({&#x27;component_order&#x27;: &#x27;mutual_info&#x27;,\n",
       " &#x27;cov_est&#x27;: &#x27;concat&#x27;,\n",
       " &#x27;cov_method_params&#x27;: None,\n",
       " &#x27;log&#x27;: None,\n",
       " &#x27;n_components&#x27;: 2,\n",
       " &#x27;norm_trace&#x27;: False,\n",
       " &#x27;rank&#x27;: None,\n",
       " &#x27;reg&#x27;: 1,\n",
       " &#x27;transform_into&#x27;: &#x27;average_power&#x27;})</pre></div></div></div><div class=\"sk-item\"><div class=\"sk-estimator sk-toggleable\"><input class=\"sk-toggleable__control sk-hidden--visually\" id=\"sk-estimator-id-131\" type=\"checkbox\" ><label for=\"sk-estimator-id-131\" class=\"sk-toggleable__label sk-toggleable__label-arrow\">Vectorizer</label><div class=\"sk-toggleable__content\"><pre>&lt;mne.decoding.transformer.Vectorizer object at 0x7f42f9128f70&gt;</pre></div></div></div><div class=\"sk-item\"><div class=\"sk-estimator sk-toggleable\"><input class=\"sk-toggleable__control sk-hidden--visually\" id=\"sk-estimator-id-132\" type=\"checkbox\" ><label for=\"sk-estimator-id-132\" class=\"sk-toggleable__label sk-toggleable__label-arrow\">SVC</label><div class=\"sk-toggleable__content\"><pre>SVC(C=10)</pre></div></div></div></div></div></div></div>"
      ],
      "text/plain": [
       "Pipeline(steps=[('csp',\n",
       "                 CSP({'component_order': 'mutual_info',\n",
       " 'cov_est': 'concat',\n",
       " 'cov_method_params': None,\n",
       " 'log': None,\n",
       " 'n_components': 2,\n",
       " 'norm_trace': False,\n",
       " 'rank': None,\n",
       " 'reg': 1,\n",
       " 'transform_into': 'average_power'})),\n",
       "                ('vec',\n",
       "                 <mne.decoding.transformer.Vectorizer object at 0x7f42f9128f70>),\n",
       "                ('svc', SVC(C=10))])"
      ]
     },
     "execution_count": 244,
     "metadata": {},
     "output_type": "execute_result"
    }
   ],
   "source": [
    "anx_frn_model = results_anx_frn_df.iloc[index].best_model\n",
    "anx_frn_model"
   ]
  },
  {
   "cell_type": "code",
   "execution_count": 245,
   "metadata": {},
   "outputs": [],
   "source": [
    "X_rewp = rewp_anxiety_datasets[index]\n",
    "X_frn = frn_anxiety_datasets[index]"
   ]
  },
  {
   "cell_type": "markdown",
   "metadata": {},
   "source": [
    "- Balanced Accuracy"
   ]
  },
  {
   "cell_type": "code",
   "execution_count": 246,
   "metadata": {},
   "outputs": [],
   "source": [
    "%%capture\n",
    "\n",
    "t, p = paired_ttest_nandeu(\n",
    "    estimator1=anx_rewp_model,\n",
    "    estimator2=anx_frn_model,\n",
    "    X_1=X_rewp,\n",
    "    X_2=X_frn, \n",
    "    y=y,\n",
    "    random_state=random_state,\n",
    "    scoring='balanced_accuracy'\n",
    ")"
   ]
  },
  {
   "cell_type": "code",
   "execution_count": 247,
   "metadata": {},
   "outputs": [
    {
     "name": "stdout",
     "output_type": "stream",
     "text": [
      "t statistic: -0.972\n",
      "p value: 0.167\n"
     ]
    }
   ],
   "source": [
    "print('t statistic: %.3f' % t)\n",
    "print('p value: %.3f' % p)"
   ]
  },
  {
   "cell_type": "markdown",
   "metadata": {},
   "source": [
    "- Roc AUC"
   ]
  },
  {
   "cell_type": "code",
   "execution_count": 248,
   "metadata": {},
   "outputs": [],
   "source": [
    "%%capture\n",
    "\n",
    "t, p = paired_ttest_nandeu(\n",
    "    estimator1=anx_rewp_model,\n",
    "    estimator2=anx_frn_model,\n",
    "    X_1=X_rewp,\n",
    "    X_2=X_frn, \n",
    "    y=y,\n",
    "    random_state=random_state,\n",
    "    scoring='roc_auc'\n",
    ")"
   ]
  },
  {
   "cell_type": "code",
   "execution_count": 249,
   "metadata": {},
   "outputs": [
    {
     "name": "stdout",
     "output_type": "stream",
     "text": [
      "t statistic: -1.180\n",
      "p value: 0.120\n"
     ]
    }
   ],
   "source": [
    "print('t statistic: %.3f' % t)\n",
    "print('p value: %.3f' % p)"
   ]
  },
  {
   "cell_type": "markdown",
   "metadata": {},
   "source": [
    "- precision"
   ]
  },
  {
   "cell_type": "code",
   "execution_count": 250,
   "metadata": {},
   "outputs": [],
   "source": [
    "%%capture\n",
    "\n",
    "t, p = paired_ttest_nandeu(\n",
    "    estimator1=anx_rewp_model,\n",
    "    estimator2=anx_frn_model,\n",
    "    X_1=X_rewp,\n",
    "    X_2=X_frn, \n",
    "    y=y,\n",
    "    random_state=random_state,\n",
    "    scoring='precision'\n",
    ")"
   ]
  },
  {
   "cell_type": "code",
   "execution_count": 251,
   "metadata": {},
   "outputs": [
    {
     "name": "stdout",
     "output_type": "stream",
     "text": [
      "t statistic: -0.716\n",
      "p value: 0.238\n"
     ]
    }
   ],
   "source": [
    "print('t statistic: %.3f' % t)\n",
    "print('p value: %.3f' % p)"
   ]
  },
  {
   "cell_type": "markdown",
   "metadata": {},
   "source": [
    "- recall"
   ]
  },
  {
   "cell_type": "code",
   "execution_count": 252,
   "metadata": {},
   "outputs": [],
   "source": [
    "%%capture\n",
    "\n",
    "t, p = paired_ttest_nandeu(\n",
    "    estimator1=anx_rewp_model,\n",
    "    estimator2=anx_frn_model,\n",
    "    X_1=X_rewp,\n",
    "    X_2=X_frn, \n",
    "    y=y,\n",
    "    random_state=random_state,\n",
    "    scoring='recall'\n",
    ")"
   ]
  },
  {
   "cell_type": "code",
   "execution_count": 253,
   "metadata": {},
   "outputs": [
    {
     "name": "stdout",
     "output_type": "stream",
     "text": [
      "t statistic: 0.564\n",
      "p value: 0.287\n"
     ]
    }
   ],
   "source": [
    "print('t statistic: %.3f' % t)\n",
    "print('p value: %.3f' % p)"
   ]
  },
  {
   "cell_type": "markdown",
   "metadata": {},
   "source": [
    "- F1"
   ]
  },
  {
   "cell_type": "code",
   "execution_count": 604,
   "metadata": {},
   "outputs": [],
   "source": [
    "%%capture\n",
    "\n",
    "t, p = paired_ttest_nandeu(\n",
    "    estimator1=anx_rewp_model,\n",
    "    estimator2=anx_frn_model,\n",
    "    X_1=X_rewp,\n",
    "    X_2=X_frn, \n",
    "    y=y,\n",
    "    random_state=random_state,\n",
    "    scoring='f1'\n",
    ")"
   ]
  },
  {
   "cell_type": "code",
   "execution_count": 605,
   "metadata": {},
   "outputs": [
    {
     "name": "stdout",
     "output_type": "stream",
     "text": [
      "t statistic: 0.101\n",
      "p value: 0.460\n"
     ]
    }
   ],
   "source": [
    "print('t statistic: %.3f' % t)\n",
    "print('p value: %.3f' % p)"
   ]
  },
  {
   "cell_type": "markdown",
   "metadata": {},
   "source": [
    "Visualize difference between FRN and RewP models"
   ]
  },
  {
   "cell_type": "code",
   "execution_count": 592,
   "metadata": {
    "colab": {
     "base_uri": "https://localhost:8080/"
    },
    "executionInfo": {
     "elapsed": 4,
     "status": "ok",
     "timestamp": 1677516452928,
     "user": {
      "displayName": "Anna Grabowska",
      "userId": "15734344613010880864"
     },
     "user_tz": -60
    },
    "id": "824FRKiAweds",
    "outputId": "a8affbdc-2c93-462c-d952-df11bc0ff221"
   },
   "outputs": [],
   "source": [
    "%%capture\n",
    "\n",
    "cv = RepeatedStratifiedKFold(n_splits=10, n_repeats=10, random_state=random_state)\n",
    "\n",
    "cv_scores_1 = cross_val_score(anx_rewp_model, X_rewp, y, cv=cv, scoring='balanced_accuracy')\n",
    "cv_scores_2 = cross_val_score(anx_frn_model, X_frn, y, cv=cv,  scoring='balanced_accuracy')"
   ]
  },
  {
   "cell_type": "code",
   "execution_count": 593,
   "metadata": {},
   "outputs": [],
   "source": [
    "cv_results_df = pd.DataFrame({\n",
    "    \"RewP\": cv_scores_1,\n",
    "    \"FRN\": cv_scores_2,\n",
    "})"
   ]
  },
  {
   "cell_type": "code",
   "execution_count": 594,
   "metadata": {},
   "outputs": [
    {
     "data": {
      "image/png": "[encoded data removed]",
      "text/plain": [
       "<Figure size 432x288 with 1 Axes>"
      ]
     },
     "metadata": {
      "needs_background": "light"
     },
     "output_type": "display_data"
    }
   ],
   "source": [
    "fig = sns.histplot(data=cv_results_df, bins=9, kde=True)"
   ]
  },
  {
   "cell_type": "code",
   "execution_count": 595,
   "metadata": {
    "colab": {
     "base_uri": "https://localhost:8080/"
    },
    "executionInfo": {
     "elapsed": 4,
     "status": "ok",
     "timestamp": 1677516452928,
     "user": {
      "displayName": "Anna Grabowska",
      "userId": "15734344613010880864"
     },
     "user_tz": -60
    },
    "id": "824FRKiAweds",
    "outputId": "a8affbdc-2c93-462c-d952-df11bc0ff221"
   },
   "outputs": [],
   "source": [
    "%%capture\n",
    "\n",
    "cv = RepeatedStratifiedKFold(n_splits=10, n_repeats=10, random_state=random_state)\n",
    "\n",
    "cv_scores_1 = cross_val_score(anx_rewp_model, X_rewp, y, cv=cv, scoring='roc_auc')\n",
    "cv_scores_2 = cross_val_score(anx_frn_model, X_frn, y, cv=cv,  scoring='roc_auc')"
   ]
  },
  {
   "cell_type": "code",
   "execution_count": 596,
   "metadata": {},
   "outputs": [],
   "source": [
    "cv_results_df = pd.DataFrame({\n",
    "    \"RewP\": cv_scores_1,\n",
    "    \"FRN\": cv_scores_2,\n",
    "})"
   ]
  },
  {
   "cell_type": "code",
   "execution_count": 597,
   "metadata": {},
   "outputs": [
    {
     "data": {
      "image/png": "[encoded data removed]",
      "text/plain": [
       "<Figure size 432x288 with 1 Axes>"
      ]
     },
     "metadata": {
      "needs_background": "light"
     },
     "output_type": "display_data"
    }
   ],
   "source": [
    "fig = sns.histplot(data=cv_results_df, bins=9, kde=True)"
   ]
  },
  {
   "cell_type": "code",
   "execution_count": null,
   "metadata": {},
   "outputs": [],
   "source": []
  }
 ],
 "metadata": {
  "colab": {
   "collapsed_sections": [
    "74g2chqQWa48",
    "3irne7dXaoIt"
   ],
   "name": "",
   "provenance": [
    {
     "file_id": "13OESwog1Uwt1WAcNW9QEaphoYxPyNplr",
     "timestamp": 1677327376830
    }
   ],
   "toc_visible": true,
   "version": ""
  },
  "kernelspec": {
   "display_name": "bluish",
   "language": "python",
   "name": "bluish"
  },
  "language_info": {
   "codemirror_mode": {
    "name": "ipython",
    "version": 3
   },
   "file_extension": ".py",
   "mimetype": "text/x-python",
   "name": "python",
   "nbconvert_exporter": "python",
   "pygments_lexer": "ipython3",
   "version": "3.8.10"
  }
 },
 "nbformat": 4,
 "nbformat_minor": 4
}
