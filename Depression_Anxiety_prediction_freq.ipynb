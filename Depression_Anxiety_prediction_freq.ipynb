{
 "cells": [
  {
   "cell_type": "markdown",
   "metadata": {
    "id": "aVAPtMDTYvRD"
   },
   "source": [
    "# Depression and Anxiety classification with different frequancy bands"
   ]
  },
  {
   "cell_type": "markdown",
   "metadata": {},
   "source": [
    "Based on the study by [Cavanagh et al. (2019)](https://www.ncbi.nlm.nih.gov/pmc/articles/PMC6515849/)"
   ]
  },
  {
   "cell_type": "markdown",
   "metadata": {
    "id": "FcABdbTciWqA"
   },
   "source": [
    "Import packages"
   ]
  },
  {
   "cell_type": "code",
   "execution_count": 60,
   "metadata": {
    "executionInfo": {
     "elapsed": 316,
     "status": "ok",
     "timestamp": 1677517783528,
     "user": {
      "displayName": "Anna Grabowska",
      "userId": "15734344613010880864"
     },
     "user_tz": -60
    },
    "id": "N_cSZrE3hRG1"
   },
   "outputs": [],
   "source": [
    "import io\n",
    "import mne\n",
    "import copy\n",
    "import glob\n",
    "import array\n",
    "import matplotlib\n",
    "import numpy as np\n",
    "import pandas as pd\n",
    "import sklearn.metrics\n",
    "import seaborn as sns\n",
    "import scipy.io as sio\n",
    "import plotly.express as px\n",
    "import matplotlib.pyplot as plt\n",
    "\n",
    "\n",
    "from itertools import chain\n",
    "from sklearn.svm import SVC\n",
    "from scipy.io import loadmat\n",
    "from sklearn import set_config\n",
    "\n",
    "from sklearn import preprocessing\n",
    "from sklearn.pipeline import Pipeline\n",
    "from sklearn.metrics import roc_auc_score, classification_report\n",
    "from sklearn.preprocessing import MinMaxScaler\n",
    "from sklearn.model_selection import GridSearchCV, ShuffleSplit\n",
    "from sklearn.model_selection import StratifiedKFold\n",
    "from sklearn.linear_model import LogisticRegression\n",
    "from sklearn.model_selection import train_test_split\n",
    "from sklearn.preprocessing import StandardScaler\n",
    "from sklearn.neighbors import KNeighborsClassifier\n",
    "from sklearn.model_selection import permutation_test_score\n",
    "\n",
    "\n",
    "import numpy as np\n",
    "import matplotlib.pyplot as plt\n",
    "\n",
    "from sklearn.pipeline import Pipeline\n",
    "from sklearn.discriminant_analysis import LinearDiscriminantAnalysis\n",
    "from sklearn.model_selection import ShuffleSplit, cross_val_score, RepeatedStratifiedKFold\n",
    "from sklearn.utils import resample\n",
    "\n",
    "from mne import Epochs, pick_types, events_from_annotations\n",
    "from mne.channels import make_standard_montage\n",
    "from mne.io import concatenate_raws, read_raw_edf\n",
    "from mne.datasets import eegbci\n",
    "from mne.decoding import CSP\n",
    "\n",
    "from mne.preprocessing import Xdawn\n",
    "from mne.decoding import Vectorizer\n",
    "\n",
    "from mne.decoding import UnsupervisedSpatialFilter\n",
    "\n",
    "from sklearn.decomposition import PCA, FastICA\n",
    "\n",
    "from scipy import stats\n",
    "\n",
    "# parameters for plotting\n",
    "plt.rcParams[\"figure.figsize\"] = (10,7)\n",
    "\n",
    "import seaborn as sns\n",
    "sns.set_theme(style=\"whitegrid\", palette=\"deep\")"
   ]
  },
  {
   "cell_type": "markdown",
   "metadata": {},
   "source": [
    "Constatnts"
   ]
  },
  {
   "cell_type": "code",
   "execution_count": 61,
   "metadata": {},
   "outputs": [],
   "source": [
    "random_state = 42"
   ]
  },
  {
   "cell_type": "markdown",
   "metadata": {
    "id": "TUmealuGFBRa"
   },
   "source": [
    "## Load questionnarie data"
   ]
  },
  {
   "cell_type": "code",
   "execution_count": 62,
   "metadata": {
    "executionInfo": {
     "elapsed": 371,
     "status": "ok",
     "timestamp": 1677517793023,
     "user": {
      "displayName": "Anna Grabowska",
      "userId": "15734344613010880864"
     },
     "user_tz": -60
    },
    "id": "6WPawPUjhVDt"
   },
   "outputs": [],
   "source": [
    "data = pd.read_csv('data/q_data.csv')"
   ]
  },
  {
   "cell_type": "code",
   "execution_count": 63,
   "metadata": {
    "colab": {
     "base_uri": "https://localhost:8080/"
    },
    "executionInfo": {
     "elapsed": 13,
     "status": "ok",
     "timestamp": 1677517794980,
     "user": {
      "displayName": "Anna Grabowska",
      "userId": "15734344613010880864"
     },
     "user_tz": -60
    },
    "id": "OOjJa80rp9by",
    "outputId": "4b2431d0-c305-4687-94b0-1c9ffe6b5839"
   },
   "outputs": [
    {
     "name": "stderr",
     "output_type": "stream",
     "text": [
      "/tmp/ipykernel_5066/1494664159.py:6: SettingWithCopyWarning: \n",
      "A value is trying to be set on a copy of a slice from a DataFrame\n",
      "\n",
      "See the caveats in the documentation: https://pandas.pydata.org/pandas-docs/stable/user_guide/indexing.html#returning-a-view-versus-a-copy\n",
      "  data['disorder'][i] = 0\n",
      "/tmp/ipykernel_5066/1494664159.py:4: SettingWithCopyWarning: \n",
      "A value is trying to be set on a copy of a slice from a DataFrame\n",
      "\n",
      "See the caveats in the documentation: https://pandas.pydata.org/pandas-docs/stable/user_guide/indexing.html#returning-a-view-versus-a-copy\n",
      "  data['disorder'][i] = 1\n"
     ]
    }
   ],
   "source": [
    "data['disorder'] = 0\n",
    "for i in range(len(data)):\n",
    "    if data['BDI'][i] != '#NULL!' and data['BDI'][i] >= 13:\n",
    "        data['disorder'][i] = 1\n",
    "    else:\n",
    "        data['disorder'][i] = 0"
   ]
  },
  {
   "cell_type": "code",
   "execution_count": 64,
   "metadata": {
    "colab": {
     "base_uri": "https://localhost:8080/",
     "height": 540
    },
    "executionInfo": {
     "elapsed": 9,
     "status": "ok",
     "timestamp": 1677517797176,
     "user": {
      "displayName": "Anna Grabowska",
      "userId": "15734344613010880864"
     },
     "user_tz": -60
    },
    "id": "vwwgmlA3iqsw",
    "outputId": "b49c5f67-f2a9-4184-a0a6-aa497ed3b508"
   },
   "outputs": [
    {
     "data": {
      "text/html": [
       "<div>\n",
       "<style scoped>\n",
       "    .dataframe tbody tr th:only-of-type {\n",
       "        vertical-align: middle;\n",
       "    }\n",
       "\n",
       "    .dataframe tbody tr th {\n",
       "        vertical-align: top;\n",
       "    }\n",
       "\n",
       "    .dataframe thead th {\n",
       "        text-align: right;\n",
       "    }\n",
       "</style>\n",
       "<table border=\"1\" class=\"dataframe\">\n",
       "  <thead>\n",
       "    <tr style=\"text-align: right;\">\n",
       "      <th></th>\n",
       "      <th>id</th>\n",
       "      <th>SCID</th>\n",
       "      <th>SCID_note</th>\n",
       "      <th>sex</th>\n",
       "      <th>age</th>\n",
       "      <th>BDI</th>\n",
       "      <th>BDI_cog</th>\n",
       "      <th>BDI_aff</th>\n",
       "      <th>BDI_som</th>\n",
       "      <th>TAI</th>\n",
       "      <th>...</th>\n",
       "      <th>loconf_rt</th>\n",
       "      <th>pos_rt</th>\n",
       "      <th>neg_rt</th>\n",
       "      <th>hiconf_pos_rt</th>\n",
       "      <th>loconf_pos_rt</th>\n",
       "      <th>hiconf_neg_rt</th>\n",
       "      <th>loconf_neg_rt</th>\n",
       "      <th>TST_aG</th>\n",
       "      <th>TST_aL</th>\n",
       "      <th>disorder</th>\n",
       "    </tr>\n",
       "  </thead>\n",
       "  <tbody>\n",
       "    <tr>\n",
       "      <th>0</th>\n",
       "      <td>507</td>\n",
       "      <td>99</td>\n",
       "      <td>NaN</td>\n",
       "      <td>1</td>\n",
       "      <td>19</td>\n",
       "      <td>0</td>\n",
       "      <td>0.00</td>\n",
       "      <td>0.00</td>\n",
       "      <td>0.00</td>\n",
       "      <td>23</td>\n",
       "      <td>...</td>\n",
       "      <td>753.41</td>\n",
       "      <td>722.02</td>\n",
       "      <td>828.73</td>\n",
       "      <td>728.22</td>\n",
       "      <td>721.10</td>\n",
       "      <td>905.28</td>\n",
       "      <td>785.73</td>\n",
       "      <td>0.12</td>\n",
       "      <td>0.00</td>\n",
       "      <td>0</td>\n",
       "    </tr>\n",
       "    <tr>\n",
       "      <th>1</th>\n",
       "      <td>508</td>\n",
       "      <td>99</td>\n",
       "      <td>NaN</td>\n",
       "      <td>1</td>\n",
       "      <td>18</td>\n",
       "      <td>4</td>\n",
       "      <td>0.00</td>\n",
       "      <td>0.67</td>\n",
       "      <td>0.17</td>\n",
       "      <td>47</td>\n",
       "      <td>...</td>\n",
       "      <td>932.63</td>\n",
       "      <td>772.36</td>\n",
       "      <td>986.75</td>\n",
       "      <td>771.2</td>\n",
       "      <td>896.43</td>\n",
       "      <td>1202.03</td>\n",
       "      <td>968.84</td>\n",
       "      <td>0.28</td>\n",
       "      <td>0.93</td>\n",
       "      <td>0</td>\n",
       "    </tr>\n",
       "    <tr>\n",
       "      <th>2</th>\n",
       "      <td>509</td>\n",
       "      <td>99</td>\n",
       "      <td>NaN</td>\n",
       "      <td>1</td>\n",
       "      <td>18</td>\n",
       "      <td>7</td>\n",
       "      <td>0.17</td>\n",
       "      <td>0.00</td>\n",
       "      <td>0.67</td>\n",
       "      <td>44</td>\n",
       "      <td>...</td>\n",
       "      <td>739.20</td>\n",
       "      <td>739.28</td>\n",
       "      <td>830.53</td>\n",
       "      <td>794.16</td>\n",
       "      <td>736.67</td>\n",
       "      <td>830.53</td>\n",
       "      <td>741.74</td>\n",
       "      <td>0.07</td>\n",
       "      <td>0.05</td>\n",
       "      <td>0</td>\n",
       "    </tr>\n",
       "    <tr>\n",
       "      <th>3</th>\n",
       "      <td>510</td>\n",
       "      <td>99</td>\n",
       "      <td>NaN</td>\n",
       "      <td>1</td>\n",
       "      <td>19</td>\n",
       "      <td>1</td>\n",
       "      <td>0.00</td>\n",
       "      <td>0.00</td>\n",
       "      <td>0.17</td>\n",
       "      <td>27</td>\n",
       "      <td>...</td>\n",
       "      <td>1239.09</td>\n",
       "      <td>1231.04</td>\n",
       "      <td>1500.54</td>\n",
       "      <td>1113.41</td>\n",
       "      <td>1123.20</td>\n",
       "      <td>1035.47</td>\n",
       "      <td>1354.97</td>\n",
       "      <td>0.37</td>\n",
       "      <td>0.63</td>\n",
       "      <td>0</td>\n",
       "    </tr>\n",
       "    <tr>\n",
       "      <th>4</th>\n",
       "      <td>511</td>\n",
       "      <td>99</td>\n",
       "      <td>NaN</td>\n",
       "      <td>2</td>\n",
       "      <td>22</td>\n",
       "      <td>1</td>\n",
       "      <td>0.00</td>\n",
       "      <td>0.00</td>\n",
       "      <td>0.17</td>\n",
       "      <td>23</td>\n",
       "      <td>...</td>\n",
       "      <td>1527.80</td>\n",
       "      <td>1908.43</td>\n",
       "      <td>1305.88</td>\n",
       "      <td>1885.73</td>\n",
       "      <td>1731.81</td>\n",
       "      <td>1297.05</td>\n",
       "      <td>1323.80</td>\n",
       "      <td>0.95</td>\n",
       "      <td>0.00</td>\n",
       "      <td>0</td>\n",
       "    </tr>\n",
       "    <tr>\n",
       "      <th>...</th>\n",
       "      <td>...</td>\n",
       "      <td>...</td>\n",
       "      <td>...</td>\n",
       "      <td>...</td>\n",
       "      <td>...</td>\n",
       "      <td>...</td>\n",
       "      <td>...</td>\n",
       "      <td>...</td>\n",
       "      <td>...</td>\n",
       "      <td>...</td>\n",
       "      <td>...</td>\n",
       "      <td>...</td>\n",
       "      <td>...</td>\n",
       "      <td>...</td>\n",
       "      <td>...</td>\n",
       "      <td>...</td>\n",
       "      <td>...</td>\n",
       "      <td>...</td>\n",
       "      <td>...</td>\n",
       "      <td>...</td>\n",
       "      <td>...</td>\n",
       "    </tr>\n",
       "    <tr>\n",
       "      <th>114</th>\n",
       "      <td>624</td>\n",
       "      <td>1</td>\n",
       "      <td>NaN</td>\n",
       "      <td>1</td>\n",
       "      <td>20</td>\n",
       "      <td>23</td>\n",
       "      <td>1.33</td>\n",
       "      <td>1.00</td>\n",
       "      <td>0.67</td>\n",
       "      <td>60</td>\n",
       "      <td>...</td>\n",
       "      <td>696.15</td>\n",
       "      <td>685.56</td>\n",
       "      <td>799.69</td>\n",
       "      <td>764.35</td>\n",
       "      <td>645.86</td>\n",
       "      <td>843.43</td>\n",
       "      <td>746.44</td>\n",
       "      <td>0.65</td>\n",
       "      <td>0.81</td>\n",
       "      <td>1</td>\n",
       "    </tr>\n",
       "    <tr>\n",
       "      <th>115</th>\n",
       "      <td>625</td>\n",
       "      <td>2</td>\n",
       "      <td>subsyndromal current</td>\n",
       "      <td>1</td>\n",
       "      <td>19</td>\n",
       "      <td>16</td>\n",
       "      <td>0.67</td>\n",
       "      <td>1.00</td>\n",
       "      <td>0.83</td>\n",
       "      <td>60</td>\n",
       "      <td>...</td>\n",
       "      <td>1149.39</td>\n",
       "      <td>1130.02</td>\n",
       "      <td>1153.62</td>\n",
       "      <td>1159.48</td>\n",
       "      <td>1116.37</td>\n",
       "      <td>1139.42</td>\n",
       "      <td>1182.42</td>\n",
       "      <td>0.69</td>\n",
       "      <td>1.00</td>\n",
       "      <td>1</td>\n",
       "    </tr>\n",
       "    <tr>\n",
       "      <th>116</th>\n",
       "      <td>626</td>\n",
       "      <td>1</td>\n",
       "      <td>NaN</td>\n",
       "      <td>1</td>\n",
       "      <td>18</td>\n",
       "      <td>14</td>\n",
       "      <td>0.33</td>\n",
       "      <td>1.00</td>\n",
       "      <td>0.83</td>\n",
       "      <td>41</td>\n",
       "      <td>...</td>\n",
       "      <td>1805.77</td>\n",
       "      <td>1878.83</td>\n",
       "      <td>1732.71</td>\n",
       "      <td>1071.52</td>\n",
       "      <td>1878.83</td>\n",
       "      <td>1780.84</td>\n",
       "      <td>1732.71</td>\n",
       "      <td>0.70</td>\n",
       "      <td>0.38</td>\n",
       "      <td>1</td>\n",
       "    </tr>\n",
       "    <tr>\n",
       "      <th>117</th>\n",
       "      <td>627</td>\n",
       "      <td>2</td>\n",
       "      <td>NaN</td>\n",
       "      <td>2</td>\n",
       "      <td>19</td>\n",
       "      <td>30</td>\n",
       "      <td>1.00</td>\n",
       "      <td>1.33</td>\n",
       "      <td>2.17</td>\n",
       "      <td>47</td>\n",
       "      <td>...</td>\n",
       "      <td>2131.00</td>\n",
       "      <td>2065.05</td>\n",
       "      <td>2270.20</td>\n",
       "      <td>2167.89</td>\n",
       "      <td>1941.75</td>\n",
       "      <td>2261.39</td>\n",
       "      <td>2320.25</td>\n",
       "      <td>0.10</td>\n",
       "      <td>0.61</td>\n",
       "      <td>1</td>\n",
       "    </tr>\n",
       "    <tr>\n",
       "      <th>118</th>\n",
       "      <td>628</td>\n",
       "      <td>1</td>\n",
       "      <td>dysthymic, Hx Alc curr cannabis</td>\n",
       "      <td>2</td>\n",
       "      <td>18</td>\n",
       "      <td>19</td>\n",
       "      <td>0.50</td>\n",
       "      <td>0.67</td>\n",
       "      <td>1.67</td>\n",
       "      <td>56</td>\n",
       "      <td>...</td>\n",
       "      <td>1003.15</td>\n",
       "      <td>1118.97</td>\n",
       "      <td>1010.33</td>\n",
       "      <td>862.58</td>\n",
       "      <td>1118.97</td>\n",
       "      <td>1181.48</td>\n",
       "      <td>887.32</td>\n",
       "      <td>0.00</td>\n",
       "      <td>0.00</td>\n",
       "      <td>1</td>\n",
       "    </tr>\n",
       "  </tbody>\n",
       "</table>\n",
       "<p>119 rows × 36 columns</p>\n",
       "</div>"
      ],
      "text/plain": [
       "      id  SCID                        SCID_note  sex age  BDI  BDI_cog  \\\n",
       "0    507    99                              NaN    1  19    0     0.00   \n",
       "1    508    99                              NaN    1  18    4     0.00   \n",
       "2    509    99                              NaN    1  18    7     0.17   \n",
       "3    510    99                              NaN    1  19    1     0.00   \n",
       "4    511    99                              NaN    2  22    1     0.00   \n",
       "..   ...   ...                              ...  ...  ..  ...      ...   \n",
       "114  624     1                              NaN    1  20   23     1.33   \n",
       "115  625     2             subsyndromal current    1  19   16     0.67   \n",
       "116  626     1                              NaN    1  18   14     0.33   \n",
       "117  627     2                              NaN    2  19   30     1.00   \n",
       "118  628     1  dysthymic, Hx Alc curr cannabis    2  18   19     0.50   \n",
       "\n",
       "     BDI_aff  BDI_som  TAI  ...  loconf_rt   pos_rt   neg_rt  hiconf_pos_rt  \\\n",
       "0       0.00     0.00   23  ...     753.41   722.02   828.73         728.22   \n",
       "1       0.67     0.17   47  ...     932.63   772.36   986.75          771.2   \n",
       "2       0.00     0.67   44  ...     739.20   739.28   830.53         794.16   \n",
       "3       0.00     0.17   27  ...    1239.09  1231.04  1500.54        1113.41   \n",
       "4       0.00     0.17   23  ...    1527.80  1908.43  1305.88        1885.73   \n",
       "..       ...      ...  ...  ...        ...      ...      ...            ...   \n",
       "114     1.00     0.67   60  ...     696.15   685.56   799.69         764.35   \n",
       "115     1.00     0.83   60  ...    1149.39  1130.02  1153.62        1159.48   \n",
       "116     1.00     0.83   41  ...    1805.77  1878.83  1732.71        1071.52   \n",
       "117     1.33     2.17   47  ...    2131.00  2065.05  2270.20        2167.89   \n",
       "118     0.67     1.67   56  ...    1003.15  1118.97  1010.33         862.58   \n",
       "\n",
       "     loconf_pos_rt  hiconf_neg_rt  loconf_neg_rt  TST_aG  TST_aL  disorder  \n",
       "0           721.10         905.28         785.73    0.12    0.00         0  \n",
       "1           896.43        1202.03         968.84    0.28    0.93         0  \n",
       "2           736.67         830.53         741.74    0.07    0.05         0  \n",
       "3          1123.20        1035.47        1354.97    0.37    0.63         0  \n",
       "4          1731.81        1297.05        1323.80    0.95    0.00         0  \n",
       "..             ...            ...            ...     ...     ...       ...  \n",
       "114         645.86         843.43         746.44    0.65    0.81         1  \n",
       "115        1116.37        1139.42        1182.42    0.69    1.00         1  \n",
       "116        1878.83        1780.84        1732.71    0.70    0.38         1  \n",
       "117        1941.75        2261.39        2320.25    0.10    0.61         1  \n",
       "118        1118.97        1181.48         887.32    0.00    0.00         1  \n",
       "\n",
       "[119 rows x 36 columns]"
      ]
     },
     "execution_count": 64,
     "metadata": {},
     "output_type": "execute_result"
    }
   ],
   "source": [
    "data"
   ]
  },
  {
   "cell_type": "code",
   "execution_count": 65,
   "metadata": {
    "executionInfo": {
     "elapsed": 2,
     "status": "ok",
     "timestamp": 1677517800596,
     "user": {
      "displayName": "Anna Grabowska",
      "userId": "15734344613010880864"
     },
     "user_tz": -60
    },
    "id": "4wVOizBbnthp"
   },
   "outputs": [],
   "source": [
    "ids = data['id'][:].astype(int)"
   ]
  },
  {
   "cell_type": "markdown",
   "metadata": {
    "id": "wDt-UDhFqu0g"
   },
   "source": [
    "## Load EEG data"
   ]
  },
  {
   "cell_type": "code",
   "execution_count": 66,
   "metadata": {
    "colab": {
     "base_uri": "https://localhost:8080/"
    },
    "executionInfo": {
     "elapsed": 1634,
     "status": "ok",
     "timestamp": 1677518482441,
     "user": {
      "displayName": "Anna Grabowska",
      "userId": "15734344613010880864"
     },
     "user_tz": -60
    },
    "id": "bwQTP8md9TcN",
    "outputId": "06ef3c64-6497-4112-f932-479b0402bb64"
   },
   "outputs": [
    {
     "data": {
      "text/plain": [
       "45"
      ]
     },
     "execution_count": 66,
     "metadata": {},
     "output_type": "execute_result"
    }
   ],
   "source": [
    "ctrl_dep = [data.iloc[part] for part in range(len(data)) if data['BDI'][part] <= 13 and data['TAI'][part] > 28]\n",
    "ctrl_dep = pd.DataFrame(ctrl_dep)\n",
    "len(ctrl_dep)"
   ]
  },
  {
   "cell_type": "code",
   "execution_count": 67,
   "metadata": {},
   "outputs": [
    {
     "data": {
      "text/plain": [
       "array([ 4,  7,  5,  5,  1,  6,  0,  1,  3,  2,  0,  1,  1,  1,  1,  1,  5,\n",
       "        2,  2,  2,  0,  1,  0,  0,  1,  0,  5,  2,  3,  2,  4,  1,  1,  2,\n",
       "        4,  5,  0,  1,  4,  3,  3,  3,  0,  1, 13])"
      ]
     },
     "execution_count": 67,
     "metadata": {},
     "output_type": "execute_result"
    }
   ],
   "source": [
    "ctrl_dep['BDI'].to_numpy()"
   ]
  },
  {
   "cell_type": "code",
   "execution_count": 68,
   "metadata": {
    "colab": {
     "base_uri": "https://localhost:8080/"
    },
    "executionInfo": {
     "elapsed": 9,
     "status": "ok",
     "timestamp": 1677518482887,
     "user": {
      "displayName": "Anna Grabowska",
      "userId": "15734344613010880864"
     },
     "user_tz": -60
    },
    "id": "99n0TtUK9ksT",
    "outputId": "f3ba7a7e-1df9-40f7-8cb7-531dc5568a22"
   },
   "outputs": [
    {
     "data": {
      "text/plain": [
       "45"
      ]
     },
     "execution_count": 68,
     "metadata": {},
     "output_type": "execute_result"
    }
   ],
   "source": [
    "dep = [data.iloc[part] for part in range(len(data)) if data['BDI'][part] > 13.0 and data['TAI'][part] > 28]\n",
    "dep = pd.DataFrame(dep)\n",
    "len(dep)"
   ]
  },
  {
   "cell_type": "code",
   "execution_count": 69,
   "metadata": {
    "colab": {
     "base_uri": "https://localhost:8080/"
    },
    "executionInfo": {
     "elapsed": 10,
     "status": "ok",
     "timestamp": 1677518484019,
     "user": {
      "displayName": "Anna Grabowska",
      "userId": "15734344613010880864"
     },
     "user_tz": -60
    },
    "id": "97mJ2ng_AbGE",
    "outputId": "ede2577b-dae5-436c-ab09-f410d82f70cb"
   },
   "outputs": [
    {
     "data": {
      "text/plain": [
       "30"
      ]
     },
     "execution_count": 69,
     "metadata": {},
     "output_type": "execute_result"
    }
   ],
   "source": [
    "anx = [data.iloc[part] for part in range(len(data)) if (data['TAI'][part] > 32) and (data['BDI'][part] <= 13)] # tai > 30\n",
    "anx = pd.DataFrame(anx)\n",
    "len(anx)"
   ]
  },
  {
   "cell_type": "code",
   "execution_count": 70,
   "metadata": {
    "colab": {
     "base_uri": "https://localhost:8080/"
    },
    "executionInfo": {
     "elapsed": 9,
     "status": "ok",
     "timestamp": 1677518484020,
     "user": {
      "displayName": "Anna Grabowska",
      "userId": "15734344613010880864"
     },
     "user_tz": -60
    },
    "id": "G7I_H8GE4A1B",
    "outputId": "71543e90-f1c3-41a1-e05d-65646b48b9eb"
   },
   "outputs": [
    {
     "data": {
      "text/plain": [
       "29"
      ]
     },
     "execution_count": 70,
     "metadata": {},
     "output_type": "execute_result"
    }
   ],
   "source": [
    "ctrl_anx = [data.iloc[part] for part in range(len(data)) if data['TAI'][part] < 29 and data['BDI'][part] <= 13] # tai < 30\n",
    "ctrl_anx = pd.DataFrame(ctrl_anx)\n",
    "len(ctrl_anx)"
   ]
  },
  {
   "cell_type": "code",
   "execution_count": 71,
   "metadata": {},
   "outputs": [],
   "source": [
    "# dep jak oryginalnie, anx tak, żeby bdi <7"
   ]
  },
  {
   "cell_type": "code",
   "execution_count": null,
   "metadata": {},
   "outputs": [],
   "source": []
  },
  {
   "cell_type": "code",
   "execution_count": null,
   "metadata": {},
   "outputs": [],
   "source": []
  },
  {
   "cell_type": "code",
   "execution_count": 72,
   "metadata": {
    "colab": {
     "base_uri": "https://localhost:8080/"
    },
    "executionInfo": {
     "elapsed": 10,
     "status": "ok",
     "timestamp": 1677518484019,
     "user": {
      "displayName": "Anna Grabowska",
      "userId": "15734344613010880864"
     },
     "user_tz": -60
    },
    "id": "97mJ2ng_AbGE",
    "outputId": "ede2577b-dae5-436c-ab09-f410d82f70cb"
   },
   "outputs": [
    {
     "data": {
      "text/plain": [
       "29"
      ]
     },
     "execution_count": 72,
     "metadata": {},
     "output_type": "execute_result"
    }
   ],
   "source": [
    "anx = [data.iloc[part] for part in range(len(data)) if (data['TAI'][part] > 31) and (data['BDI'][part] < 7)]\n",
    "anx = pd.DataFrame(anx)\n",
    "len(anx)"
   ]
  },
  {
   "cell_type": "code",
   "execution_count": 73,
   "metadata": {},
   "outputs": [
    {
     "data": {
      "text/plain": [
       "29"
      ]
     },
     "execution_count": 73,
     "metadata": {},
     "output_type": "execute_result"
    }
   ],
   "source": [
    "anx = anx[(anx['id'] != 599) & (anx['id'] != 600)]\n",
    "len(anx)"
   ]
  },
  {
   "cell_type": "code",
   "execution_count": 74,
   "metadata": {
    "colab": {
     "base_uri": "https://localhost:8080/"
    },
    "executionInfo": {
     "elapsed": 9,
     "status": "ok",
     "timestamp": 1677518484020,
     "user": {
      "displayName": "Anna Grabowska",
      "userId": "15734344613010880864"
     },
     "user_tz": -60
    },
    "id": "G7I_H8GE4A1B",
    "outputId": "71543e90-f1c3-41a1-e05d-65646b48b9eb"
   },
   "outputs": [
    {
     "data": {
      "text/plain": [
       "29"
      ]
     },
     "execution_count": 74,
     "metadata": {},
     "output_type": "execute_result"
    }
   ],
   "source": [
    "ctrl_anx = [data.iloc[part] for part in range(len(data)) if (data['TAI'][part] < 29) and (data['BDI'][part] < 7)]\n",
    "ctrl_anx = pd.DataFrame(ctrl_anx)\n",
    "len(ctrl_anx)"
   ]
  },
  {
   "cell_type": "code",
   "execution_count": 75,
   "metadata": {
    "executionInfo": {
     "elapsed": 1922,
     "status": "ok",
     "timestamp": 1677518495182,
     "user": {
      "displayName": "Anna Grabowska",
      "userId": "15734344613010880864"
     },
     "user_tz": -60
    },
    "id": "UYjxw6kCotJ9"
   },
   "outputs": [],
   "source": [
    "def read_epochs(arr, group):\n",
    "    for i in range(len(group)):\n",
    "        fname = str(int(group.values[i, 0])) + \"-epo.fif\"\n",
    "        print(\"\\n\\n\" + fname)\n",
    "        # this one doesn't exist\n",
    "        if fname == \"599-epo.fif\" or fname == \"600-epo.fif\":\n",
    "            continue\n",
    "        arr.append(mne.read_epochs('data/' + fname))"
   ]
  },
  {
   "cell_type": "code",
   "execution_count": 76,
   "metadata": {
    "colab": {
     "base_uri": "https://localhost:8080/"
    },
    "executionInfo": {
     "elapsed": 23652,
     "status": "ok",
     "timestamp": 1677518532666,
     "user": {
      "displayName": "Anna Grabowska",
      "userId": "15734344613010880864"
     },
     "user_tz": -60
    },
    "id": "YRDp3katpHh3",
    "outputId": "d88b2060-1678-4799-8b16-8566a896fb9c"
   },
   "outputs": [],
   "source": [
    "%%capture\n",
    "\n",
    "dep_epochs = []\n",
    "read_epochs(dep_epochs, dep)"
   ]
  },
  {
   "cell_type": "code",
   "execution_count": 77,
   "metadata": {},
   "outputs": [
    {
     "data": {
      "text/plain": [
       "45"
      ]
     },
     "execution_count": 77,
     "metadata": {},
     "output_type": "execute_result"
    }
   ],
   "source": [
    "len(dep_epochs)"
   ]
  },
  {
   "cell_type": "code",
   "execution_count": 78,
   "metadata": {
    "colab": {
     "base_uri": "https://localhost:8080/"
    },
    "executionInfo": {
     "elapsed": 22763,
     "status": "ok",
     "timestamp": 1677518555405,
     "user": {
      "displayName": "Anna Grabowska",
      "userId": "15734344613010880864"
     },
     "user_tz": -60
    },
    "id": "y-vJS74Opvoc",
    "outputId": "2b573317-c60f-4dd6-b599-b92b08908062"
   },
   "outputs": [],
   "source": [
    "%%capture\n",
    "\n",
    "ctrl_dep_epochs = []\n",
    "read_epochs(ctrl_dep_epochs, ctrl_dep)"
   ]
  },
  {
   "cell_type": "code",
   "execution_count": 79,
   "metadata": {},
   "outputs": [
    {
     "data": {
      "text/plain": [
       "45"
      ]
     },
     "execution_count": 79,
     "metadata": {},
     "output_type": "execute_result"
    }
   ],
   "source": [
    "len(ctrl_dep_epochs)"
   ]
  },
  {
   "cell_type": "code",
   "execution_count": 80,
   "metadata": {
    "id": "YWaqAmOuBV9A"
   },
   "outputs": [],
   "source": [
    "%%capture\n",
    "\n",
    "anx_epochs = []\n",
    "read_epochs(anx_epochs, anx)"
   ]
  },
  {
   "cell_type": "code",
   "execution_count": 81,
   "metadata": {},
   "outputs": [
    {
     "data": {
      "text/plain": [
       "29"
      ]
     },
     "execution_count": 81,
     "metadata": {},
     "output_type": "execute_result"
    }
   ],
   "source": [
    "len(anx_epochs)"
   ]
  },
  {
   "cell_type": "code",
   "execution_count": 82,
   "metadata": {},
   "outputs": [],
   "source": [
    "%%capture\n",
    "\n",
    "ctrl_anx_epochs = []\n",
    "read_epochs(ctrl_anx_epochs, ctrl_anx)"
   ]
  },
  {
   "cell_type": "code",
   "execution_count": 83,
   "metadata": {},
   "outputs": [
    {
     "data": {
      "text/plain": [
       "29"
      ]
     },
     "execution_count": 83,
     "metadata": {},
     "output_type": "execute_result"
    }
   ],
   "source": [
    "len(ctrl_anx_epochs)"
   ]
  },
  {
   "cell_type": "markdown",
   "metadata": {},
   "source": [
    "## Visualize epochs"
   ]
  },
  {
   "cell_type": "markdown",
   "metadata": {},
   "source": [
    "- depression"
   ]
  },
  {
   "cell_type": "code",
   "execution_count": 84,
   "metadata": {},
   "outputs": [
    {
     "name": "stdout",
     "output_type": "stream",
     "text": [
      "Not setting metadata\n",
      "10027 matching events found\n",
      "Applying baseline correction (mode: mean)\n",
      "Not setting metadata\n",
      "8952 matching events found\n",
      "Applying baseline correction (mode: mean)\n"
     ]
    }
   ],
   "source": [
    "depression_epochs = mne.concatenate_epochs(dep_epochs)\n",
    "depression__ctr_epochs = mne.concatenate_epochs(ctrl_dep_epochs)"
   ]
  },
  {
   "cell_type": "code",
   "execution_count": 85,
   "metadata": {
    "tags": []
   },
   "outputs": [],
   "source": [
    "evokeds = [depression_epochs[name].average() for name in ('good', 'bad')]\n",
    "\n",
    "evokeds_dep = [depression_epochs[name].average() for name in ('good', 'bad')]\n",
    "evokeds_dep_ctr = [depression__ctr_epochs[name].average() for name in ('good', 'bad')]"
   ]
  },
  {
   "cell_type": "code",
   "execution_count": 86,
   "metadata": {},
   "outputs": [],
   "source": [
    "evokeds = [depression_epochs[name].copy().average() for name in ('good', 'bad')]"
   ]
  },
  {
   "cell_type": "code",
   "execution_count": 122,
   "metadata": {
    "tags": []
   },
   "outputs": [
    {
     "data": {
      "image/png": "[encoded data removed]",
      "text/plain": [
       "<Figure size 720x360 with 2 Axes>"
      ]
     },
     "metadata": {},
     "output_type": "display_data"
    },
    {
     "data": {
      "text/plain": [
       "[<Figure size 720x360 with 2 Axes>]"
      ]
     },
     "execution_count": 122,
     "metadata": {},
     "output_type": "execute_result"
    }
   ],
   "source": [
    "fig = plt.figure(figsize=(10, 5))\n",
    "\n",
    "ax = fig.add_axes([0,0,1,1], zorder=-1)\n",
    "\n",
    "ax.axvline(x=0.37, linewidth=2, color='r')\n",
    "ax.axvline(x=0.38, linewidth=2, color='r')\n",
    "ax.axvline(x=0.35, linewidth=2, color='r')\n",
    "ax.axvline(x=0.25, linewidth=2, color='r')\n",
    "ax.axvline(x=0.276, linewidth=2, color='r')\n",
    "ax.axvline(x=0.23, linewidth=2, color='r')\n",
    "\n",
    "\n",
    "mne.viz.plot_compare_evokeds(\n",
    "    evokeds, \n",
    "    picks='FCz',\n",
    "    axes=ax\n",
    ")"
   ]
  },
  {
   "cell_type": "code",
   "execution_count": 171,
   "metadata": {},
   "outputs": [
    {
     "name": "stdout",
     "output_type": "stream",
     "text": [
      "    Using multitaper spectrum estimation with 7 DPSS windows\n",
      "    Using multitaper spectrum estimation with 7 DPSS windows\n",
      "    Using multitaper spectrum estimation with 7 DPSS windows\n",
      "    Using multitaper spectrum estimation with 7 DPSS windows\n"
     ]
    }
   ],
   "source": [
    "evokeds_spectrum_dep = [evoked.compute_psd() for evoked in evokeds_dep]\n",
    "evokeds_spectrum_dep_ctr = [evoked.compute_psd() for evoked in evokeds_dep_ctr]"
   ]
  },
  {
   "cell_type": "code",
   "execution_count": 183,
   "metadata": {},
   "outputs": [
    {
     "data": {
      "text/html": [
       "<table class=\"table table-hover table-striped table-sm table-responsive small\">\n",
       "    <tr>\n",
       "        <th>Data type</th>\n",
       "        <td>Power Spectrum</td>\n",
       "    </tr>\n",
       "    <tr>\n",
       "        <th rowspan=1>Units</th>\n",
       "        <td class=\"justify\">eeg: V²/Hz</td>\n",
       "    </tr>\n",
       "    <tr>\n",
       "        <th>Data source</th>\n",
       "        <td>Evoked</td>\n",
       "    </tr><tr>\n",
       "        <th>Dims</th>\n",
       "        <td>channel, freq</td>\n",
       "    </tr>\n",
       "    <tr>\n",
       "        <th>Estimation method</th>\n",
       "        <td>multitaper</td>\n",
       "    </tr>\n",
       "    \n",
       "    <tr>\n",
       "        <th>Number of channels</th>\n",
       "        <td>62</td>\n",
       "    </tr>\n",
       "    <tr>\n",
       "        <th>Number of frequency bins</th>\n",
       "        <td>376</td>\n",
       "    </tr>\n",
       "    <tr>\n",
       "        <th>Frequency range</th>\n",
       "        <td>0.00 – 249.67 Hz</td>\n",
       "    </tr>\n",
       "</table>"
      ],
      "text/plain": [
       "<Power Spectrum (from Evoked, multitaper method) | 62 channels × 376 freqs, 0.0-249.7 Hz>"
      ]
     },
     "execution_count": 183,
     "metadata": {},
     "output_type": "execute_result"
    }
   ],
   "source": [
    "evokeds_spectrum_dep[0]"
   ]
  },
  {
   "cell_type": "code",
   "execution_count": 172,
   "metadata": {},
   "outputs": [
    {
     "data": {
      "image/png": "[encoded data removed]",
      "text/plain": [
       "<Figure size 720x108 with 10 Axes>"
      ]
     },
     "metadata": {
      "needs_background": "light"
     },
     "output_type": "display_data"
    }
   ],
   "source": [
    "fig = evokeds_spectrum_dep[0].plot_topomap(ch_type='eeg', agg_fun=np.median)"
   ]
  },
  {
   "cell_type": "code",
   "execution_count": 174,
   "metadata": {},
   "outputs": [
    {
     "data": {
      "image/png": "[encoded data removed]",
      "text/plain": [
       "<Figure size 720x108 with 10 Axes>"
      ]
     },
     "metadata": {
      "needs_background": "light"
     },
     "output_type": "display_data"
    }
   ],
   "source": [
    "fig = evokeds_spectrum_dep_ctr[0].plot_topomap(ch_type='eeg', agg_fun=np.median)"
   ]
  },
  {
   "cell_type": "code",
   "execution_count": 175,
   "metadata": {},
   "outputs": [
    {
     "data": {
      "image/png": "[encoded data removed]",
      "text/plain": [
       "<Figure size 720x108 with 10 Axes>"
      ]
     },
     "metadata": {
      "needs_background": "light"
     },
     "output_type": "display_data"
    }
   ],
   "source": [
    "fig = evokeds_spectrum_dep[1].plot_topomap(ch_type='eeg', agg_fun=np.median)"
   ]
  },
  {
   "cell_type": "code",
   "execution_count": 176,
   "metadata": {},
   "outputs": [
    {
     "data": {
      "image/png": "[encoded data removed]",
      "text/plain": [
       "<Figure size 720x108 with 10 Axes>"
      ]
     },
     "metadata": {
      "needs_background": "light"
     },
     "output_type": "display_data"
    }
   ],
   "source": [
    "fig = evokeds_spectrum_dep_ctr[1].plot_topomap(ch_type='eeg', agg_fun=np.median)"
   ]
  },
  {
   "cell_type": "code",
   "execution_count": 150,
   "metadata": {},
   "outputs": [
    {
     "name": "stdout",
     "output_type": "stream",
     "text": [
      "Applying baseline correction (mode: logratio)\n"
     ]
    },
    {
     "name": "stderr",
     "output_type": "stream",
     "text": [
      "[Parallel(n_jobs=1)]: Using backend SequentialBackend with 1 concurrent workers.\n",
      "[Parallel(n_jobs=1)]: Done   1 out of   1 | elapsed:    0.0s remaining:    0.0s\n",
      "[Parallel(n_jobs=1)]: Done   2 out of   2 | elapsed:    0.0s remaining:    0.0s\n",
      "[Parallel(n_jobs=1)]: Done   3 out of   3 | elapsed:    0.0s remaining:    0.0s\n",
      "[Parallel(n_jobs=1)]: Done   4 out of   4 | elapsed:    0.0s remaining:    0.0s\n",
      "[Parallel(n_jobs=1)]: Done  62 out of  62 | elapsed:    0.2s finished\n"
     ]
    },
    {
     "data": {
      "text/plain": [
       "<AverageTFR | time : [-0.500000, 1.000000], freq : [1.000000, 50.000000], nave : 1, channels : 62, ~6.0 MB>"
      ]
     },
     "execution_count": 150,
     "metadata": {},
     "output_type": "execute_result"
    }
   ],
   "source": [
    "from mne.time_frequency import tfr_morlet\n",
    "\n",
    "freqs = np.logspace(*np.log10([1, 50]), num=50)\n",
    "n_cycles = freqs / 2.  # different number of cycle per frequency\n",
    "power = tfr_morlet(evokeds[0], freqs=freqs, n_cycles=n_cycles, use_fft=True,return_itc=False, decim=3, n_jobs=None)\n",
    "\n",
    "power.apply_baseline(mode='logratio', baseline=(-0.3, -0.2))"
   ]
  },
  {
   "cell_type": "code",
   "execution_count": 151,
   "metadata": {},
   "outputs": [
    {
     "name": "stdout",
     "output_type": "stream",
     "text": [
      "No baseline correction applied\n"
     ]
    },
    {
     "data": {
      "image/png": "[encoded data removed]",
      "text/plain": [
       "<Figure size 432x288 with 2 Axes>"
      ]
     },
     "metadata": {
      "needs_background": "light"
     },
     "output_type": "display_data"
    },
    {
     "data": {
      "text/plain": [
       "[<Figure size 432x288 with 2 Axes>]"
      ]
     },
     "execution_count": 151,
     "metadata": {},
     "output_type": "execute_result"
    }
   ],
   "source": [
    "power.plot(picks='FCz', baseline=None, title='Fz')"
   ]
  },
  {
   "cell_type": "code",
   "execution_count": 164,
   "metadata": {},
   "outputs": [
    {
     "name": "stdout",
     "output_type": "stream",
     "text": [
      "No baseline correction applied\n",
      "No baseline correction applied\n"
     ]
    },
    {
     "name": "stderr",
     "output_type": "stream",
     "text": [
      "/tmp/ipykernel_23376/1675973354.py:12: UserWarning: Matplotlib is currently using module://matplotlib_inline.backend_inline, which is a non-GUI backend, so cannot show the figure.\n",
      "  fig.show()\n"
     ]
    },
    {
     "data": {
      "image/png": "[encoded data removed]",
      "text/plain": [
       "<Figure size 504x288 with 4 Axes>"
      ]
     },
     "metadata": {
      "needs_background": "light"
     },
     "output_type": "display_data"
    }
   ],
   "source": [
    "fig, axes = plt.subplots(1, 2, figsize=(7, 4))\n",
    "topomap_kw = dict(ch_type='eeg', tmin=0.2, tmax=0.35,\n",
    "                  baseline=None, show=False)\n",
    "\n",
    "plot_dict = dict(Delta=dict(fmin=0.5, fmax=4), Theta=dict(fmin=4, fmax=8))\n",
    "\n",
    "for ax, (title, fmin_fmax) in zip(axes, plot_dict.items()):\n",
    "    power.plot_topomap(**fmin_fmax, axes=ax, **topomap_kw)\n",
    "    ax.set_title(title)\n",
    "\n",
    "fig.tight_layout()\n",
    "fig.show()"
   ]
  },
  {
   "cell_type": "code",
   "execution_count": 157,
   "metadata": {},
   "outputs": [
    {
     "name": "stdout",
     "output_type": "stream",
     "text": [
      "Applying baseline correction (mode: logratio)\n"
     ]
    },
    {
     "name": "stderr",
     "output_type": "stream",
     "text": [
      "[Parallel(n_jobs=1)]: Using backend SequentialBackend with 1 concurrent workers.\n",
      "[Parallel(n_jobs=1)]: Done   1 out of   1 | elapsed:    0.0s remaining:    0.0s\n",
      "[Parallel(n_jobs=1)]: Done   2 out of   2 | elapsed:    0.0s remaining:    0.0s\n",
      "[Parallel(n_jobs=1)]: Done   3 out of   3 | elapsed:    0.0s remaining:    0.0s\n",
      "[Parallel(n_jobs=1)]: Done   4 out of   4 | elapsed:    0.0s remaining:    0.0s\n",
      "[Parallel(n_jobs=1)]: Done  62 out of  62 | elapsed:    0.1s finished\n"
     ]
    },
    {
     "data": {
      "text/plain": [
       "<AverageTFR | time : [-0.500000, 1.000000], freq : [1.000000, 50.000000], nave : 1, channels : 62, ~6.0 MB>"
      ]
     },
     "execution_count": 157,
     "metadata": {},
     "output_type": "execute_result"
    }
   ],
   "source": [
    "from mne.time_frequency import tfr_morlet\n",
    "\n",
    "freqs = np.logspace(*np.log10([1, 50]), num=50)\n",
    "n_cycles = freqs / 2.  # different number of cycle per frequency\n",
    "power = tfr_morlet(evokeds[1], freqs=freqs, n_cycles=n_cycles, use_fft=True,return_itc=False, decim=3, n_jobs=None)\n",
    "\n",
    "power.apply_baseline(mode='logratio', baseline=(-0.3, -0.2))"
   ]
  },
  {
   "cell_type": "code",
   "execution_count": 159,
   "metadata": {},
   "outputs": [
    {
     "name": "stdout",
     "output_type": "stream",
     "text": [
      "No baseline correction applied\n"
     ]
    },
    {
     "data": {
      "image/png": "[encoded data removed]",
      "text/plain": [
       "<Figure size 432x288 with 2 Axes>"
      ]
     },
     "metadata": {
      "needs_background": "light"
     },
     "output_type": "display_data"
    },
    {
     "data": {
      "text/plain": [
       "[<Figure size 432x288 with 2 Axes>]"
      ]
     },
     "execution_count": 159,
     "metadata": {},
     "output_type": "execute_result"
    }
   ],
   "source": [
    "power.plot(picks='FCz', baseline=None, title='Fz')"
   ]
  },
  {
   "cell_type": "code",
   "execution_count": 163,
   "metadata": {},
   "outputs": [
    {
     "name": "stdout",
     "output_type": "stream",
     "text": [
      "No baseline correction applied\n",
      "No baseline correction applied\n"
     ]
    },
    {
     "name": "stderr",
     "output_type": "stream",
     "text": [
      "/tmp/ipykernel_23376/1675973354.py:12: UserWarning: Matplotlib is currently using module://matplotlib_inline.backend_inline, which is a non-GUI backend, so cannot show the figure.\n",
      "  fig.show()\n"
     ]
    },
    {
     "data": {
      "image/png": "[encoded data removed]",
      "text/plain": [
       "<Figure size 504x288 with 4 Axes>"
      ]
     },
     "metadata": {
      "needs_background": "light"
     },
     "output_type": "display_data"
    }
   ],
   "source": [
    "fig, axes = plt.subplots(1, 2, figsize=(7, 4))\n",
    "topomap_kw = dict(ch_type='eeg', tmin=0.2, tmax=0.35,\n",
    "                  baseline=None, show=False)\n",
    "\n",
    "plot_dict = dict(Delta=dict(fmin=0.5, fmax=4), Theta=dict(fmin=4, fmax=8))\n",
    "\n",
    "for ax, (title, fmin_fmax) in zip(axes, plot_dict.items()):\n",
    "    power.plot_topomap(**fmin_fmax, axes=ax, **topomap_kw)\n",
    "    ax.set_title(title)\n",
    "\n",
    "fig.tight_layout()\n",
    "fig.show()"
   ]
  },
  {
   "cell_type": "code",
   "execution_count": null,
   "metadata": {},
   "outputs": [],
   "source": []
  },
  {
   "cell_type": "code",
   "execution_count": null,
   "metadata": {},
   "outputs": [],
   "source": []
  },
  {
   "cell_type": "markdown",
   "metadata": {},
   "source": [
    "- anxiety"
   ]
  },
  {
   "cell_type": "code",
   "execution_count": null,
   "metadata": {},
   "outputs": [],
   "source": [
    "anxiety_epochs = mne.concatenate_epochs(anx_epochs + ctrl_anx_epochs)"
   ]
  },
  {
   "cell_type": "code",
   "execution_count": null,
   "metadata": {
    "tags": []
   },
   "outputs": [],
   "source": [
    "evokeds = [anxiety_epochs[name].average() for name in ('good', 'bad')]"
   ]
  },
  {
   "cell_type": "code",
   "execution_count": null,
   "metadata": {
    "tags": []
   },
   "outputs": [],
   "source": [
    "mne.viz.plot_compare_evokeds(\n",
    "    evoked, \n",
    "    picks='Fz'\n",
    ")"
   ]
  },
  {
   "cell_type": "markdown",
   "metadata": {},
   "source": [
    "## Classification"
   ]
  },
  {
   "cell_type": "code",
   "execution_count": 30,
   "metadata": {},
   "outputs": [],
   "source": [
    "# Calculating p-value with permutation test from sci-kit learn\n",
    "\n",
    "def calculate_p_permutations(estimator, X, y, cv=3, n_permutations=1000, n_jobs=1):\n",
    "\n",
    "    score_, perm_scores_, pvalue_ = permutation_test_score(\n",
    "        estimator, X, y, cv=cv, n_permutations=n_permutations, n_jobs=n_jobs\n",
    "    )\n",
    "\n",
    "    # summarize\n",
    "    print(f\"     The permutation P-value is = {pvalue_:.4f}\")\n",
    "    print(f\"     The permutation score is = {score_:.4f}\\n\")\n",
    "\n",
    "    return score_, pvalue_"
   ]
  },
  {
   "cell_type": "code",
   "execution_count": 31,
   "metadata": {
    "id": "5ES-E98N1UR5"
   },
   "outputs": [],
   "source": [
    "def evaluate_GS_model(\n",
    "    pipe,\n",
    "    X_train, \n",
    "    y_train, \n",
    "    X_test, \n",
    "    y_test, \n",
    "    classifier_params,\n",
    "    pipeline_name,\n",
    "    cv=StratifiedKFold(n_splits=5),\n",
    "    predict_test = True,\n",
    "    predict_train = True,\n",
    "    ):\n",
    "    \n",
    "    # define grid search\n",
    "    grid_search_model = GridSearchCV(\n",
    "        pipe,\n",
    "        classifier_params,\n",
    "        cv=cv,\n",
    "        scoring={\"roc_auc\", \"balanced_accuracy\", \"precision\", \"recall\"},\n",
    "        refit=\"balanced_accuracy\",\n",
    "        return_train_score=True,\n",
    "        verbose=10,\n",
    "        n_jobs=1,\n",
    "        \n",
    "    )\n",
    "\n",
    "    # fit model\n",
    "    grid_search_model.fit(X_train, y_train)\n",
    "\n",
    "    # predict test data\n",
    "    # y_test_pred = grid_search_model.predict(X_test) if predict_test is True else None\n",
    "    # test_score = roc_auc_score(y_test, y_test_pred) if predict_test is True else None\n",
    "\n",
    "    # predict train data\n",
    "    y_train_pred = grid_search_model.predict(X_train) if predict_train is True else None\n",
    "    train_score = roc_auc_score(y_train, y_train_pred) if predict_train is True else None \n",
    "\n",
    "    # extract mean cv scores\n",
    "    mean_cv_score = grid_search_model.best_score_\n",
    "    \n",
    "    # report\n",
    "    # classification_report_ = classification_report(y_test, y_test_pred, labels=[0,1])\n",
    "\n",
    "    # extract splits scores\n",
    "    # ta linijka wyciąga z cv_results, czyli z DF z wynikami wszystkich testowanych \n",
    "    # w GS parametrów scory na kolejnych splitach cross-validacji\n",
    "    cv_results_df = pd.DataFrame(grid_search_model.cv_results_).iloc[[grid_search_model.best_index_]]\n",
    "    cv_splits_scores_df = cv_results_df.filter(regex=r\"split\\d*_test_roc_auc\").reset_index(drop=True) \n",
    "\n",
    "    # wyciąganie scorów na teście dla matryk zdefiniowanych w scoring\n",
    "    metrics_results_df = cv_results_df.filter(regex=r\"mean_test_*\").reset_index(drop=True)\n",
    "    \n",
    "    # calculate p-value\n",
    "    scores_, pvalue_ = calculate_p_permutations(\n",
    "            grid_search_model.best_estimator_, X_train, y_train, cv=cv\n",
    "        )\n",
    "\n",
    "\n",
    "    # save results in dataframe\n",
    "    this_result = pd.concat(\n",
    "        [\n",
    "            pd.DataFrame({\n",
    "            \"model_name\": [pipe.steps[-1][0]],\n",
    "            \"pipeline_name\": [pipeline_name],\n",
    "            \"train score\": [train_score],\n",
    "            \"mean_cv_score\": [mean_cv_score],\n",
    "            # \"test_score\": [test_score],\n",
    "            \"best_model\": [grid_search_model.best_estimator_],\n",
    "            \"parameters\": [grid_search_model.best_params_],\n",
    "            \"pvalue\":[pvalue_],    \n",
    "            }),\n",
    "         cv_splits_scores_df,\n",
    "         metrics_results_df,\n",
    "        ],\n",
    "    axis=1\n",
    "    ) \n",
    "\n",
    "    return this_result"
   ]
  },
  {
   "cell_type": "markdown",
   "metadata": {
    "id": "RcHAwa6LOvqm"
   },
   "source": [
    "Define estimators"
   ]
  },
  {
   "cell_type": "code",
   "execution_count": 32,
   "metadata": {
    "id": "DtsaDVEdPHXs"
   },
   "outputs": [],
   "source": [
    "lg = ('lg', LogisticRegression(penalty='l1', solver='liblinear', multi_class='auto'))\n",
    "lg_params = dict()\n",
    "\n",
    "svc = ('svc' , SVC())\n",
    "svc_params = dict(\n",
    "    svc__kernel=[\"linear\", \"rbf\"],\n",
    "    svc__C=[0.0001, 0.001, 0.01, 0.1, 1, 10, 100, 1000]\n",
    ")\n",
    "\n",
    "lda = (\"lda\", LinearDiscriminantAnalysis())\n",
    "lda_params = dict(\n",
    "    lda__solver = [\"lsqr\", \"eigen\"],\n",
    "    lda__shrinkage = [\"auto\"],\n",
    ")\n",
    "\n",
    "\n",
    "estimators = [\n",
    "    # (lg, lg_params),\n",
    "    (svc, svc_params),\n",
    "    # (lda, lda_params)\n",
    "]"
   ]
  },
  {
   "cell_type": "markdown",
   "metadata": {},
   "source": [
    "Freq"
   ]
  },
  {
   "cell_type": "code",
   "execution_count": 33,
   "metadata": {},
   "outputs": [],
   "source": [
    "def eeg_power_band(\n",
    "    epochs, \n",
    "    band = {\"delta\": [0.5, 4.5],\n",
    "            \"theta\": [4.5, 8.5],\n",
    "            \"alpha\": [8.5, 11.5],\n",
    "            \"sigma\": [11.5, 15.5],\n",
    "            \"beta\": [15.5, 30]},\n",
    "    tmin=0.1,\n",
    "    tmax=0.5\n",
    "):\n",
    "    \"\"\"EEG relative power band feature extraction.\n",
    "\n",
    "    This function takes an ``mne.Epochs`` object and creates EEG features based\n",
    "    on relative power in specific frequency bands that are compatible with\n",
    "    scikit-learn.\n",
    "\n",
    "    Parameters\n",
    "    ----------\n",
    "    epochs : Epochs\n",
    "        The data.\n",
    "\n",
    "    Returns\n",
    "    -------\n",
    "    X : numpy array of shape [n_samples, 5]\n",
    "        Transformed data.\n",
    "    \"\"\"\n",
    "    # specific frequency bands\n",
    "    FREQ_BANDS = band\n",
    "    \n",
    "    spectrum = epochs.copy().crop(tmin=tmin, tmax=tmax).compute_psd(picks='eeg', fmin=0.5, fmax=30.)\n",
    "    psds, freqs = spectrum.get_data(return_freqs=True)\n",
    "    # Normalize the PSDs\n",
    "    psds /= np.sum(psds, axis=-1, keepdims=True)\n",
    "        \n",
    "    X = []\n",
    "    for fmin, fmax in FREQ_BANDS.values():\n",
    "        psds_band = psds[:, (freqs >= fmin) & (freqs < fmax)].mean(axis=-1)\n",
    "        X.append(psds_band.reshape(len(psds), -1))\n",
    "        \n",
    "    X_ = np.concatenate(X, axis=1)\n",
    "    return X_"
   ]
  },
  {
   "cell_type": "markdown",
   "metadata": {
    "id": "g-Hb8Rb_Ei8j"
   },
   "source": [
    "### Depression vs Control"
   ]
  },
  {
   "cell_type": "markdown",
   "metadata": {
    "id": "O7C3WZvf1irT"
   },
   "source": [
    "#### RewP"
   ]
  },
  {
   "cell_type": "code",
   "execution_count": 34,
   "metadata": {},
   "outputs": [],
   "source": [
    "tmin = 0.1\n",
    "tmax = 0.4"
   ]
  },
  {
   "cell_type": "code",
   "execution_count": 48,
   "metadata": {},
   "outputs": [],
   "source": [
    "%%capture\n",
    "\n",
    "vec = Vectorizer()\n",
    "cv = StratifiedKFold(n_splits=3, shuffle=True, random_state=random_state)\n",
    "\n",
    "results_dep_rewp_df = pd.DataFrame()\n",
    "\n",
    "global_params = {}\n",
    "\n",
    "for band in ({\"delta\": [0.5, 4.5]}, {\"theta\": [4.5, 8.5]}):\n",
    "    \n",
    "    print(band)\n",
    "\n",
    "    dep_data = [epoch.copy()['good'].average().pick(['FCz']) for epoch in dep_epochs]\n",
    "    ctrl_data = [epoch.copy()['good'].average().pick(['FCz']) for epoch in ctrl_dep_epochs]\n",
    "    \n",
    "    dep_data_band = [eeg_power_band(epoch, band, tmin=tmin, tmax=tmax) for epoch in dep_data]\n",
    "    ctr_data_band = [eeg_power_band(epoch, band, tmin=tmin, tmax=tmax) for epoch in ctrl_data]\n",
    "\n",
    "    X = np.array(dep_data_band + ctr_data_band)\n",
    "    print(X)\n",
    "    y = np.array(len(dep_data) * [1] +  len(ctrl_data) * [0])\n",
    "    \n",
    "    for (estimator, params) in estimators:\n",
    "        print(f\"Rating {estimator} \\n\")\n",
    "\n",
    "        pipeline_name = \"RewP_Depression_band_\" + list(band.keys())[0] + \"_\" + estimator[0]\n",
    "\n",
    "        clf = Pipeline([('vec', vec)] + [estimator])\n",
    "        classifier_params = {**global_params, **params}\n",
    "\n",
    "        # enter to grid search\n",
    "        grid_result = evaluate_GS_model(\n",
    "            clf,\n",
    "            X,\n",
    "            y,\n",
    "            [],\n",
    "            [],\n",
    "            classifier_params = classifier_params,\n",
    "            pipeline_name = pipeline_name,\n",
    "            cv=cv,\n",
    "        )\n",
    "\n",
    "        print(grid_result)\n",
    "\n",
    "        results_dep_rewp_df = pd.concat([results_dep_rewp_df, grid_result])"
   ]
  },
  {
   "cell_type": "code",
   "execution_count": 49,
   "metadata": {},
   "outputs": [
    {
     "data": {
      "text/html": [
       "<div>\n",
       "<style scoped>\n",
       "    .dataframe tbody tr th:only-of-type {\n",
       "        vertical-align: middle;\n",
       "    }\n",
       "\n",
       "    .dataframe tbody tr th {\n",
       "        vertical-align: top;\n",
       "    }\n",
       "\n",
       "    .dataframe thead th {\n",
       "        text-align: right;\n",
       "    }\n",
       "</style>\n",
       "<table border=\"1\" class=\"dataframe\">\n",
       "  <thead>\n",
       "    <tr style=\"text-align: right;\">\n",
       "      <th></th>\n",
       "      <th>model_name</th>\n",
       "      <th>pipeline_name</th>\n",
       "      <th>train score</th>\n",
       "      <th>mean_cv_score</th>\n",
       "      <th>best_model</th>\n",
       "      <th>parameters</th>\n",
       "      <th>pvalue</th>\n",
       "      <th>split0_test_roc_auc</th>\n",
       "      <th>split1_test_roc_auc</th>\n",
       "      <th>split2_test_roc_auc</th>\n",
       "      <th>mean_test_precision</th>\n",
       "      <th>mean_test_recall</th>\n",
       "      <th>mean_test_balanced_accuracy</th>\n",
       "      <th>mean_test_roc_auc</th>\n",
       "    </tr>\n",
       "  </thead>\n",
       "  <tbody>\n",
       "    <tr>\n",
       "      <th>0</th>\n",
       "      <td>svc</td>\n",
       "      <td>RewP_Depression_band_delta_svc</td>\n",
       "      <td>0.544444</td>\n",
       "      <td>0.488889</td>\n",
       "      <td>(&lt;mne.decoding.transformer.Vectorizer object a...</td>\n",
       "      <td>{'svc__C': 100, 'svc__kernel': 'rbf'}</td>\n",
       "      <td>0.581419</td>\n",
       "      <td>0.444444</td>\n",
       "      <td>0.431111</td>\n",
       "      <td>0.346667</td>\n",
       "      <td>0.481481</td>\n",
       "      <td>0.355556</td>\n",
       "      <td>0.488889</td>\n",
       "      <td>0.407407</td>\n",
       "    </tr>\n",
       "    <tr>\n",
       "      <th>0</th>\n",
       "      <td>svc</td>\n",
       "      <td>RewP_Depression_band_theta_svc</td>\n",
       "      <td>0.700000</td>\n",
       "      <td>0.655556</td>\n",
       "      <td>(&lt;mne.decoding.transformer.Vectorizer object a...</td>\n",
       "      <td>{'svc__C': 100, 'svc__kernel': 'rbf'}</td>\n",
       "      <td>0.004995</td>\n",
       "      <td>0.702222</td>\n",
       "      <td>0.631111</td>\n",
       "      <td>0.635556</td>\n",
       "      <td>0.702742</td>\n",
       "      <td>0.533333</td>\n",
       "      <td>0.655556</td>\n",
       "      <td>0.656296</td>\n",
       "    </tr>\n",
       "  </tbody>\n",
       "</table>\n",
       "</div>"
      ],
      "text/plain": [
       "  model_name                   pipeline_name  train score  mean_cv_score  \\\n",
       "0        svc  RewP_Depression_band_delta_svc     0.544444       0.488889   \n",
       "0        svc  RewP_Depression_band_theta_svc     0.700000       0.655556   \n",
       "\n",
       "                                          best_model  \\\n",
       "0  (<mne.decoding.transformer.Vectorizer object a...   \n",
       "0  (<mne.decoding.transformer.Vectorizer object a...   \n",
       "\n",
       "                              parameters    pvalue  split0_test_roc_auc  \\\n",
       "0  {'svc__C': 100, 'svc__kernel': 'rbf'}  0.581419             0.444444   \n",
       "0  {'svc__C': 100, 'svc__kernel': 'rbf'}  0.004995             0.702222   \n",
       "\n",
       "   split1_test_roc_auc  split2_test_roc_auc  mean_test_precision  \\\n",
       "0             0.431111             0.346667             0.481481   \n",
       "0             0.631111             0.635556             0.702742   \n",
       "\n",
       "   mean_test_recall  mean_test_balanced_accuracy  mean_test_roc_auc  \n",
       "0          0.355556                     0.488889           0.407407  \n",
       "0          0.533333                     0.655556           0.656296  "
      ]
     },
     "execution_count": 49,
     "metadata": {},
     "output_type": "execute_result"
    }
   ],
   "source": [
    "results_dep_rewp_df"
   ]
  },
  {
   "cell_type": "code",
   "execution_count": 124,
   "metadata": {},
   "outputs": [
    {
     "data": {
      "text/html": [
       "<div>\n",
       "<style scoped>\n",
       "    .dataframe tbody tr th:only-of-type {\n",
       "        vertical-align: middle;\n",
       "    }\n",
       "\n",
       "    .dataframe tbody tr th {\n",
       "        vertical-align: top;\n",
       "    }\n",
       "\n",
       "    .dataframe thead th {\n",
       "        text-align: right;\n",
       "    }\n",
       "</style>\n",
       "<table border=\"1\" class=\"dataframe\">\n",
       "  <thead>\n",
       "    <tr style=\"text-align: right;\">\n",
       "      <th></th>\n",
       "      <th>model_name</th>\n",
       "      <th>pipeline_name</th>\n",
       "      <th>train score</th>\n",
       "      <th>mean_cv_score</th>\n",
       "      <th>best_model</th>\n",
       "      <th>parameters</th>\n",
       "      <th>pvalue</th>\n",
       "      <th>split0_test_roc_auc</th>\n",
       "      <th>split1_test_roc_auc</th>\n",
       "      <th>split2_test_roc_auc</th>\n",
       "      <th>mean_test_recall</th>\n",
       "      <th>mean_test_balanced_accuracy</th>\n",
       "      <th>mean_test_roc_auc</th>\n",
       "      <th>mean_test_precision</th>\n",
       "    </tr>\n",
       "  </thead>\n",
       "  <tbody>\n",
       "    <tr>\n",
       "      <th>0</th>\n",
       "      <td>svc</td>\n",
       "      <td>RewP_Depression_band_delta_svc</td>\n",
       "      <td>1.000000</td>\n",
       "      <td>0.577778</td>\n",
       "      <td>(&lt;mne.decoding.transformer.Vectorizer object a...</td>\n",
       "      <td>{'svc__C': 1000, 'svc__kernel': 'rbf'}</td>\n",
       "      <td>0.112887</td>\n",
       "      <td>0.56</td>\n",
       "      <td>0.595556</td>\n",
       "      <td>0.471111</td>\n",
       "      <td>0.644444</td>\n",
       "      <td>0.577778</td>\n",
       "      <td>0.542222</td>\n",
       "      <td>0.568644</td>\n",
       "    </tr>\n",
       "    <tr>\n",
       "      <th>0</th>\n",
       "      <td>svc</td>\n",
       "      <td>RewP_Depression_band_theta_svc</td>\n",
       "      <td>0.877778</td>\n",
       "      <td>0.622222</td>\n",
       "      <td>(&lt;mne.decoding.transformer.Vectorizer object a...</td>\n",
       "      <td>{'svc__C': 1000, 'svc__kernel': 'linear'}</td>\n",
       "      <td>0.025974</td>\n",
       "      <td>0.72</td>\n",
       "      <td>0.520000</td>\n",
       "      <td>0.608889</td>\n",
       "      <td>0.622222</td>\n",
       "      <td>0.622222</td>\n",
       "      <td>0.616296</td>\n",
       "      <td>0.625522</td>\n",
       "    </tr>\n",
       "  </tbody>\n",
       "</table>\n",
       "</div>"
      ],
      "text/plain": [
       "  model_name                   pipeline_name  train score  mean_cv_score  \\\n",
       "0        svc  RewP_Depression_band_delta_svc     1.000000       0.577778   \n",
       "0        svc  RewP_Depression_band_theta_svc     0.877778       0.622222   \n",
       "\n",
       "                                          best_model  \\\n",
       "0  (<mne.decoding.transformer.Vectorizer object a...   \n",
       "0  (<mne.decoding.transformer.Vectorizer object a...   \n",
       "\n",
       "                                  parameters    pvalue  split0_test_roc_auc  \\\n",
       "0     {'svc__C': 1000, 'svc__kernel': 'rbf'}  0.112887                 0.56   \n",
       "0  {'svc__C': 1000, 'svc__kernel': 'linear'}  0.025974                 0.72   \n",
       "\n",
       "   split1_test_roc_auc  split2_test_roc_auc  mean_test_recall  \\\n",
       "0             0.595556             0.471111          0.644444   \n",
       "0             0.520000             0.608889          0.622222   \n",
       "\n",
       "   mean_test_balanced_accuracy  mean_test_roc_auc  mean_test_precision  \n",
       "0                     0.577778           0.542222             0.568644  \n",
       "0                     0.622222           0.616296             0.625522  "
      ]
     },
     "execution_count": 124,
     "metadata": {},
     "output_type": "execute_result"
    }
   ],
   "source": [
    "results_dep_rewp_df"
   ]
  },
  {
   "cell_type": "code",
   "execution_count": 150,
   "metadata": {},
   "outputs": [],
   "source": [
    "results_dep_rewp_df.to_pickle(\"data/depression_rewp_freq_results_3_29_03_14-50.pkl\")"
   ]
  },
  {
   "cell_type": "markdown",
   "metadata": {
    "id": "LdOE13g71oii"
   },
   "source": [
    "#### FRN"
   ]
  },
  {
   "cell_type": "code",
   "execution_count": 57,
   "metadata": {
    "id": "vcTUfJ4x1oij"
   },
   "outputs": [],
   "source": [
    "tmin = 0.1\n",
    "tmax = 0.4"
   ]
  },
  {
   "cell_type": "code",
   "execution_count": 58,
   "metadata": {},
   "outputs": [],
   "source": [
    "%%capture\n",
    "\n",
    "vec = Vectorizer()\n",
    "cv = StratifiedKFold(n_splits=3, shuffle=True, random_state=random_state)\n",
    "\n",
    "results_dep_frn_df = pd.DataFrame()\n",
    "\n",
    "global_params = {}\n",
    "\n",
    "for band in ({\"delta\": [0.5, 4.5]}, {\"theta\": [4.5, 8.5]}):\n",
    "    \n",
    "    print(band)\n",
    "\n",
    "    dep_data = [epoch.copy()['bad'].average().pick(['FCz']) for epoch in dep_epochs]\n",
    "    ctrl_data = [epoch.copy()['bad'].average().pick(['FCz']) for epoch in ctrl_dep_epochs]\n",
    "    \n",
    "    dep_data_band = [eeg_power_band(epoch, band, tmin=tmin, tmax=tmax) for epoch in dep_data]\n",
    "    ctr_data_band = [eeg_power_band(epoch, band, tmin=tmin, tmax=tmax) for epoch in ctrl_data]\n",
    "\n",
    "    X = np.array(dep_data_band + ctr_data_band)\n",
    "    print(X)\n",
    "    y = np.array(len(dep_data) * [1] +  len(ctrl_data) * [0])\n",
    "    \n",
    "    for (estimator, params) in estimators:\n",
    "        print(f\"Rating {estimator} \\n\")\n",
    "\n",
    "        pipeline_name = \"FRN_Depression_band_\" + list(band.keys())[0] + \"_\" + estimator[0]\n",
    "\n",
    "        clf = Pipeline([('vec', vec)] + [estimator])\n",
    "        classifier_params = {**global_params, **params}\n",
    "\n",
    "        # enter to grid search\n",
    "        grid_result = evaluate_GS_model(\n",
    "            clf,\n",
    "            X,\n",
    "            y,\n",
    "            [],\n",
    "            [],\n",
    "            classifier_params = classifier_params,\n",
    "            pipeline_name = pipeline_name,\n",
    "            cv=cv,\n",
    "        )\n",
    "\n",
    "        print(grid_result)\n",
    "\n",
    "        results_dep_frn_df = pd.concat([results_dep_frn_df, grid_result])"
   ]
  },
  {
   "cell_type": "code",
   "execution_count": 59,
   "metadata": {},
   "outputs": [
    {
     "data": {
      "text/html": [
       "<div>\n",
       "<style scoped>\n",
       "    .dataframe tbody tr th:only-of-type {\n",
       "        vertical-align: middle;\n",
       "    }\n",
       "\n",
       "    .dataframe tbody tr th {\n",
       "        vertical-align: top;\n",
       "    }\n",
       "\n",
       "    .dataframe thead th {\n",
       "        text-align: right;\n",
       "    }\n",
       "</style>\n",
       "<table border=\"1\" class=\"dataframe\">\n",
       "  <thead>\n",
       "    <tr style=\"text-align: right;\">\n",
       "      <th></th>\n",
       "      <th>model_name</th>\n",
       "      <th>pipeline_name</th>\n",
       "      <th>train score</th>\n",
       "      <th>mean_cv_score</th>\n",
       "      <th>best_model</th>\n",
       "      <th>parameters</th>\n",
       "      <th>pvalue</th>\n",
       "      <th>split0_test_roc_auc</th>\n",
       "      <th>split1_test_roc_auc</th>\n",
       "      <th>split2_test_roc_auc</th>\n",
       "      <th>mean_test_precision</th>\n",
       "      <th>mean_test_recall</th>\n",
       "      <th>mean_test_balanced_accuracy</th>\n",
       "      <th>mean_test_roc_auc</th>\n",
       "    </tr>\n",
       "  </thead>\n",
       "  <tbody>\n",
       "    <tr>\n",
       "      <th>0</th>\n",
       "      <td>svc</td>\n",
       "      <td>FRN_Depression_band_delta_svc</td>\n",
       "      <td>0.655556</td>\n",
       "      <td>0.588889</td>\n",
       "      <td>(&lt;mne.decoding.transformer.Vectorizer object a...</td>\n",
       "      <td>{'svc__C': 1000, 'svc__kernel': 'rbf'}</td>\n",
       "      <td>0.099900</td>\n",
       "      <td>0.688889</td>\n",
       "      <td>0.577778</td>\n",
       "      <td>0.528889</td>\n",
       "      <td>0.580803</td>\n",
       "      <td>0.622222</td>\n",
       "      <td>0.588889</td>\n",
       "      <td>0.598519</td>\n",
       "    </tr>\n",
       "    <tr>\n",
       "      <th>0</th>\n",
       "      <td>svc</td>\n",
       "      <td>FRN_Depression_band_theta_svc</td>\n",
       "      <td>0.588889</td>\n",
       "      <td>0.622222</td>\n",
       "      <td>(&lt;mne.decoding.transformer.Vectorizer object a...</td>\n",
       "      <td>{'svc__C': 1000, 'svc__kernel': 'linear'}</td>\n",
       "      <td>0.025974</td>\n",
       "      <td>0.777778</td>\n",
       "      <td>0.555556</td>\n",
       "      <td>0.560000</td>\n",
       "      <td>0.650794</td>\n",
       "      <td>0.533333</td>\n",
       "      <td>0.622222</td>\n",
       "      <td>0.631111</td>\n",
       "    </tr>\n",
       "  </tbody>\n",
       "</table>\n",
       "</div>"
      ],
      "text/plain": [
       "  model_name                  pipeline_name  train score  mean_cv_score  \\\n",
       "0        svc  FRN_Depression_band_delta_svc     0.655556       0.588889   \n",
       "0        svc  FRN_Depression_band_theta_svc     0.588889       0.622222   \n",
       "\n",
       "                                          best_model  \\\n",
       "0  (<mne.decoding.transformer.Vectorizer object a...   \n",
       "0  (<mne.decoding.transformer.Vectorizer object a...   \n",
       "\n",
       "                                  parameters    pvalue  split0_test_roc_auc  \\\n",
       "0     {'svc__C': 1000, 'svc__kernel': 'rbf'}  0.099900             0.688889   \n",
       "0  {'svc__C': 1000, 'svc__kernel': 'linear'}  0.025974             0.777778   \n",
       "\n",
       "   split1_test_roc_auc  split2_test_roc_auc  mean_test_precision  \\\n",
       "0             0.577778             0.528889             0.580803   \n",
       "0             0.555556             0.560000             0.650794   \n",
       "\n",
       "   mean_test_recall  mean_test_balanced_accuracy  mean_test_roc_auc  \n",
       "0          0.622222                     0.588889           0.598519  \n",
       "0          0.533333                     0.622222           0.631111  "
      ]
     },
     "execution_count": 59,
     "metadata": {},
     "output_type": "execute_result"
    }
   ],
   "source": [
    "results_dep_frn_df"
   ]
  },
  {
   "cell_type": "code",
   "execution_count": 126,
   "metadata": {},
   "outputs": [
    {
     "data": {
      "text/html": [
       "<div>\n",
       "<style scoped>\n",
       "    .dataframe tbody tr th:only-of-type {\n",
       "        vertical-align: middle;\n",
       "    }\n",
       "\n",
       "    .dataframe tbody tr th {\n",
       "        vertical-align: top;\n",
       "    }\n",
       "\n",
       "    .dataframe thead th {\n",
       "        text-align: right;\n",
       "    }\n",
       "</style>\n",
       "<table border=\"1\" class=\"dataframe\">\n",
       "  <thead>\n",
       "    <tr style=\"text-align: right;\">\n",
       "      <th></th>\n",
       "      <th>model_name</th>\n",
       "      <th>pipeline_name</th>\n",
       "      <th>train score</th>\n",
       "      <th>mean_cv_score</th>\n",
       "      <th>best_model</th>\n",
       "      <th>parameters</th>\n",
       "      <th>pvalue</th>\n",
       "      <th>split0_test_roc_auc</th>\n",
       "      <th>split1_test_roc_auc</th>\n",
       "      <th>split2_test_roc_auc</th>\n",
       "      <th>mean_test_recall</th>\n",
       "      <th>mean_test_balanced_accuracy</th>\n",
       "      <th>mean_test_roc_auc</th>\n",
       "      <th>mean_test_precision</th>\n",
       "    </tr>\n",
       "  </thead>\n",
       "  <tbody>\n",
       "    <tr>\n",
       "      <th>0</th>\n",
       "      <td>svc</td>\n",
       "      <td>FRN_Depression_band_delta_svc</td>\n",
       "      <td>0.833333</td>\n",
       "      <td>0.600000</td>\n",
       "      <td>(&lt;mne.decoding.transformer.Vectorizer object a...</td>\n",
       "      <td>{'svc__C': 1, 'svc__kernel': 'rbf'}</td>\n",
       "      <td>0.089910</td>\n",
       "      <td>0.671111</td>\n",
       "      <td>0.680000</td>\n",
       "      <td>0.551111</td>\n",
       "      <td>0.666667</td>\n",
       "      <td>0.600000</td>\n",
       "      <td>0.634074</td>\n",
       "      <td>0.591675</td>\n",
       "    </tr>\n",
       "    <tr>\n",
       "      <th>0</th>\n",
       "      <td>svc</td>\n",
       "      <td>FRN_Depression_band_theta_svc</td>\n",
       "      <td>0.655556</td>\n",
       "      <td>0.544444</td>\n",
       "      <td>(&lt;mne.decoding.transformer.Vectorizer object a...</td>\n",
       "      <td>{'svc__C': 0.0001, 'svc__kernel': 'rbf'}</td>\n",
       "      <td>0.314685</td>\n",
       "      <td>0.471111</td>\n",
       "      <td>0.506667</td>\n",
       "      <td>0.453333</td>\n",
       "      <td>0.511111</td>\n",
       "      <td>0.544444</td>\n",
       "      <td>0.477037</td>\n",
       "      <td>0.550000</td>\n",
       "    </tr>\n",
       "  </tbody>\n",
       "</table>\n",
       "</div>"
      ],
      "text/plain": [
       "  model_name                  pipeline_name  train score  mean_cv_score  \\\n",
       "0        svc  FRN_Depression_band_delta_svc     0.833333       0.600000   \n",
       "0        svc  FRN_Depression_band_theta_svc     0.655556       0.544444   \n",
       "\n",
       "                                          best_model  \\\n",
       "0  (<mne.decoding.transformer.Vectorizer object a...   \n",
       "0  (<mne.decoding.transformer.Vectorizer object a...   \n",
       "\n",
       "                                 parameters    pvalue  split0_test_roc_auc  \\\n",
       "0       {'svc__C': 1, 'svc__kernel': 'rbf'}  0.089910             0.671111   \n",
       "0  {'svc__C': 0.0001, 'svc__kernel': 'rbf'}  0.314685             0.471111   \n",
       "\n",
       "   split1_test_roc_auc  split2_test_roc_auc  mean_test_recall  \\\n",
       "0             0.680000             0.551111          0.666667   \n",
       "0             0.506667             0.453333          0.511111   \n",
       "\n",
       "   mean_test_balanced_accuracy  mean_test_roc_auc  mean_test_precision  \n",
       "0                     0.600000           0.634074             0.591675  \n",
       "0                     0.544444           0.477037             0.550000  "
      ]
     },
     "execution_count": 126,
     "metadata": {},
     "output_type": "execute_result"
    }
   ],
   "source": [
    "results_dep_frn_df"
   ]
  },
  {
   "cell_type": "code",
   "execution_count": 156,
   "metadata": {},
   "outputs": [],
   "source": [
    "results_dep_frn_df.to_pickle(\"data/depression_frn_results_3_23_03_13-48.pkl\")"
   ]
  },
  {
   "cell_type": "code",
   "execution_count": null,
   "metadata": {
    "colab": {
     "base_uri": "https://localhost:8080/",
     "height": 430
    },
    "executionInfo": {
     "elapsed": 1305,
     "status": "ok",
     "timestamp": 1677515512621,
     "user": {
      "displayName": "Anna Grabowska",
      "userId": "15734344613010880864"
     },
     "user_tz": -60
    },
    "id": "m584lVoB1xma",
    "outputId": "24857eac-a993-40cc-b658-e08fbcdd1012"
   },
   "outputs": [],
   "source": [
    "# # plot CSP patterns estimated on full data for visualization\n",
    "# epochs_train = dep_epochs[0]['bad'].copy().crop(tmin=tmin, tmax=tmax).pick_types(eeg=True)\n",
    "# epochs_train.info\n",
    "\n",
    "# csp.fit_transform(evoked_data, y)\n",
    "\n",
    "# fig = csp.plot_patterns(epochs_train.info, ch_type='eeg', units='Patterns (AU)', size=1.5)"
   ]
  },
  {
   "cell_type": "code",
   "execution_count": null,
   "metadata": {
    "colab": {
     "base_uri": "https://localhost:8080/"
    },
    "executionInfo": {
     "elapsed": 331,
     "status": "ok",
     "timestamp": 1677515515907,
     "user": {
      "displayName": "Anna Grabowska",
      "userId": "15734344613010880864"
     },
     "user_tz": -60
    },
    "id": "HsxL6xb-48u9",
    "outputId": "d55ccc18-69fc-4e4f-dbf8-4b47f52ee8a0"
   },
   "outputs": [],
   "source": [
    "# clf.fit(evoked_data, y)\n",
    "\n",
    "# clf[-1].coef_"
   ]
  },
  {
   "cell_type": "markdown",
   "metadata": {
    "id": "R5fwZt2kEwXU"
   },
   "source": [
    "### Anxiety vs Control"
   ]
  },
  {
   "cell_type": "markdown",
   "metadata": {
    "id": "6OCw34QnEwXV"
   },
   "source": [
    "#### RewP"
   ]
  },
  {
   "cell_type": "code",
   "execution_count": 568,
   "metadata": {
    "id": "hsYnAfpMEwXV"
   },
   "outputs": [],
   "source": [
    "tmin = 0.25\n",
    "tmax = 0.35\n",
    "\n",
    "anx_data = [epoch['good'].average().get_data(tmin=tmin, tmax=tmax,) for epoch in anx_epochs]\n",
    "ctrl_data = [epoch['good'].average().get_data(tmin=tmin, tmax=tmax,) for epoch in ctrl_anx_epochs]"
   ]
  },
  {
   "cell_type": "code",
   "execution_count": 569,
   "metadata": {
    "id": "091yTXsHEwXV"
   },
   "outputs": [],
   "source": [
    "X = np.array(anx_data + ctrl_data)\n",
    "y = np.array(len(anx_data) * [1] +  len(ctrl_data) * [0])"
   ]
  },
  {
   "cell_type": "code",
   "execution_count": 570,
   "metadata": {
    "colab": {
     "base_uri": "https://localhost:8080/"
    },
    "executionInfo": {
     "elapsed": 8,
     "status": "ok",
     "timestamp": 1677515661486,
     "user": {
      "displayName": "Anna Grabowska",
      "userId": "15734344613010880864"
     },
     "user_tz": -60
    },
    "id": "X16n3nQgEwXV",
    "outputId": "5e318afa-ff71-4824-91fc-a5f91dddfeb3"
   },
   "outputs": [
    {
     "name": "stdout",
     "output_type": "stream",
     "text": [
      "ANX len: 29\n",
      "CTR len: 29\n"
     ]
    }
   ],
   "source": [
    "print(f\"ANX len: {len(anx_data)}\\nCTR len: {len(ctrl_data)}\")"
   ]
  },
  {
   "cell_type": "code",
   "execution_count": 571,
   "metadata": {},
   "outputs": [],
   "source": [
    "%%capture\n",
    "vec = Vectorizer()\n",
    "# cv = ShuffleSplit(3, test_size=0.2, random_state=42)\n",
    "cv = StratifiedKFold(n_splits=3, shuffle=True, random_state=random_state)\n",
    "\n",
    "\n",
    "results_anx_rewp_df = pd.DataFrame()\n",
    "\n",
    "global_params = csp_params\n",
    "\n",
    "for (estimator, params) in estimators:\n",
    "    print(f\"Rating {estimator} \\n\")\n",
    "\n",
    "    pipeline_name = \"RewP_Anxiety_\" + estimator[0]\n",
    "\n",
    "    clf = Pipeline([csp] + [('vec', vec)] + [estimator])\n",
    "    classifier_params = {**global_params, **params}\n",
    "    \n",
    "    # enter to grid search\n",
    "    grid_result = evaluate_GS_model(\n",
    "        clf,\n",
    "        X,\n",
    "        y,\n",
    "        [],\n",
    "        [],\n",
    "        classifier_params = classifier_params,\n",
    "        pipeline_name = pipeline_name,\n",
    "        cv=cv,\n",
    "    )\n",
    "    \n",
    "    print(grid_result)\n",
    "\n",
    "    results_anx_rewp_df = pd.concat([results_anx_rewp_df, grid_result])"
   ]
  },
  {
   "cell_type": "code",
   "execution_count": 572,
   "metadata": {},
   "outputs": [
    {
     "data": {
      "text/html": [
       "<div>\n",
       "<style scoped>\n",
       "    .dataframe tbody tr th:only-of-type {\n",
       "        vertical-align: middle;\n",
       "    }\n",
       "\n",
       "    .dataframe tbody tr th {\n",
       "        vertical-align: top;\n",
       "    }\n",
       "\n",
       "    .dataframe thead th {\n",
       "        text-align: right;\n",
       "    }\n",
       "</style>\n",
       "<table border=\"1\" class=\"dataframe\">\n",
       "  <thead>\n",
       "    <tr style=\"text-align: right;\">\n",
       "      <th></th>\n",
       "      <th>model_name</th>\n",
       "      <th>pipeline_name</th>\n",
       "      <th>train score</th>\n",
       "      <th>mean_cv_score</th>\n",
       "      <th>best_model</th>\n",
       "      <th>parameters</th>\n",
       "      <th>pvalue</th>\n",
       "      <th>split0_test_roc_auc</th>\n",
       "      <th>split1_test_roc_auc</th>\n",
       "      <th>split2_test_roc_auc</th>\n",
       "      <th>mean_test_recall</th>\n",
       "      <th>mean_test_precision</th>\n",
       "      <th>mean_test_roc_auc</th>\n",
       "      <th>mean_test_balanced_accuracy</th>\n",
       "    </tr>\n",
       "  </thead>\n",
       "  <tbody>\n",
       "    <tr>\n",
       "      <th>0</th>\n",
       "      <td>lg</td>\n",
       "      <td>RewP_Anxiety_lg</td>\n",
       "      <td>0.879310</td>\n",
       "      <td>0.620370</td>\n",
       "      <td>(CSP({'component_order': 'mutual_info',\\n 'cov...</td>\n",
       "      <td>{'csp__n_components': 1, 'csp__reg': 0.001}</td>\n",
       "      <td>0.028971</td>\n",
       "      <td>0.56</td>\n",
       "      <td>0.544444</td>\n",
       "      <td>0.722222</td>\n",
       "      <td>0.825926</td>\n",
       "      <td>0.603216</td>\n",
       "      <td>0.608889</td>\n",
       "      <td>0.620370</td>\n",
       "    </tr>\n",
       "    <tr>\n",
       "      <th>0</th>\n",
       "      <td>svc</td>\n",
       "      <td>RewP_Anxiety_svc</td>\n",
       "      <td>0.896552</td>\n",
       "      <td>0.635185</td>\n",
       "      <td>(CSP({'component_order': 'mutual_info',\\n 'cov...</td>\n",
       "      <td>{'csp__n_components': 1, 'csp__reg': 0.001, 's...</td>\n",
       "      <td>0.008991</td>\n",
       "      <td>0.52</td>\n",
       "      <td>0.633333</td>\n",
       "      <td>0.711111</td>\n",
       "      <td>0.892593</td>\n",
       "      <td>0.608772</td>\n",
       "      <td>0.621481</td>\n",
       "      <td>0.635185</td>\n",
       "    </tr>\n",
       "    <tr>\n",
       "      <th>0</th>\n",
       "      <td>lda</td>\n",
       "      <td>RewP_Anxiety_lda</td>\n",
       "      <td>0.896552</td>\n",
       "      <td>0.620370</td>\n",
       "      <td>(CSP({'component_order': 'mutual_info',\\n 'cov...</td>\n",
       "      <td>{'csp__n_components': 1, 'csp__reg': 0.001, 'l...</td>\n",
       "      <td>0.025974</td>\n",
       "      <td>0.56</td>\n",
       "      <td>0.544444</td>\n",
       "      <td>0.722222</td>\n",
       "      <td>0.825926</td>\n",
       "      <td>0.603216</td>\n",
       "      <td>0.608889</td>\n",
       "      <td>0.620370</td>\n",
       "    </tr>\n",
       "  </tbody>\n",
       "</table>\n",
       "</div>"
      ],
      "text/plain": [
       "  model_name     pipeline_name  train score  mean_cv_score  \\\n",
       "0         lg   RewP_Anxiety_lg     0.879310       0.620370   \n",
       "0        svc  RewP_Anxiety_svc     0.896552       0.635185   \n",
       "0        lda  RewP_Anxiety_lda     0.896552       0.620370   \n",
       "\n",
       "                                          best_model  \\\n",
       "0  (CSP({'component_order': 'mutual_info',\\n 'cov...   \n",
       "0  (CSP({'component_order': 'mutual_info',\\n 'cov...   \n",
       "0  (CSP({'component_order': 'mutual_info',\\n 'cov...   \n",
       "\n",
       "                                          parameters    pvalue  \\\n",
       "0        {'csp__n_components': 1, 'csp__reg': 0.001}  0.028971   \n",
       "0  {'csp__n_components': 1, 'csp__reg': 0.001, 's...  0.008991   \n",
       "0  {'csp__n_components': 1, 'csp__reg': 0.001, 'l...  0.025974   \n",
       "\n",
       "   split0_test_roc_auc  split1_test_roc_auc  split2_test_roc_auc  \\\n",
       "0                 0.56             0.544444             0.722222   \n",
       "0                 0.52             0.633333             0.711111   \n",
       "0                 0.56             0.544444             0.722222   \n",
       "\n",
       "   mean_test_recall  mean_test_precision  mean_test_roc_auc  \\\n",
       "0          0.825926             0.603216           0.608889   \n",
       "0          0.892593             0.608772           0.621481   \n",
       "0          0.825926             0.603216           0.608889   \n",
       "\n",
       "   mean_test_balanced_accuracy  \n",
       "0                     0.620370  \n",
       "0                     0.635185  \n",
       "0                     0.620370  "
      ]
     },
     "execution_count": 572,
     "metadata": {},
     "output_type": "execute_result"
    }
   ],
   "source": [
    "results_anx_rewp_df"
   ]
  },
  {
   "cell_type": "code",
   "execution_count": 162,
   "metadata": {},
   "outputs": [],
   "source": [
    "results_anx_rewp_df.to_pickle(\"data/anxiety_rewp_results_3_23_03_13-48.pkl\")"
   ]
  },
  {
   "cell_type": "markdown",
   "metadata": {
    "id": "UYZ2N89QEwXW"
   },
   "source": [
    "#### FRN"
   ]
  },
  {
   "cell_type": "code",
   "execution_count": 573,
   "metadata": {
    "id": "oc3KbAaiorwd"
   },
   "outputs": [],
   "source": [
    "tmin = 0.25\n",
    "tmax = 0.37\n",
    "\n",
    "anx_data = [epoch['bad'].average().get_data(tmin=tmin, tmax=tmax,) for epoch in anx_epochs]\n",
    "ctrl_data = [epoch['bad'].average().get_data(tmin=tmin, tmax=tmax,) for epoch in ctrl_anx_epochs]"
   ]
  },
  {
   "cell_type": "code",
   "execution_count": 574,
   "metadata": {
    "id": "pOm_Nr-IEwXX"
   },
   "outputs": [],
   "source": [
    "X = np.array(anx_data + ctrl_data)\n",
    "y = np.array(len(anx_data) * [1] +  len(ctrl_data) * [0])"
   ]
  },
  {
   "cell_type": "code",
   "execution_count": 575,
   "metadata": {
    "colab": {
     "base_uri": "https://localhost:8080/"
    },
    "executionInfo": {
     "elapsed": 8,
     "status": "ok",
     "timestamp": 1677516201542,
     "user": {
      "displayName": "Anna Grabowska",
      "userId": "15734344613010880864"
     },
     "user_tz": -60
    },
    "id": "FX7xoJuCEwXX",
    "outputId": "451ef77a-d519-4372-918e-b904596a671c"
   },
   "outputs": [
    {
     "name": "stdout",
     "output_type": "stream",
     "text": [
      "ANX len: 29\n",
      "CTR len: 29\n"
     ]
    }
   ],
   "source": [
    "print(f\"ANX len: {len(anx_data)}\\nCTR len: {len(ctrl_data)}\")"
   ]
  },
  {
   "cell_type": "code",
   "execution_count": 576,
   "metadata": {},
   "outputs": [],
   "source": [
    "%%capture\n",
    "\n",
    "vec = Vectorizer()\n",
    "# cv = ShuffleSplit(3, test_size=0.2, random_state=42)\n",
    "cv = StratifiedKFold(n_splits=3, shuffle=True, random_state=random_state)\n",
    "\n",
    "\n",
    "results_anx_frn_df = pd.DataFrame()\n",
    "\n",
    "global_params = csp_params\n",
    "\n",
    "for (estimator, params) in estimators:\n",
    "    print(f\"Rating {estimator} \\n\")\n",
    "\n",
    "    pipeline_name = \"FRN_Anxiety_\" + estimator[0]\n",
    "\n",
    "    clf = Pipeline([csp] + [('vec', vec)] + [estimator])\n",
    "    classifier_params = {**global_params, **params}\n",
    "    \n",
    "    # enter to grid search\n",
    "    grid_result = evaluate_GS_model(\n",
    "        clf,\n",
    "        X,\n",
    "        y,\n",
    "        [],\n",
    "        [],\n",
    "        classifier_params = classifier_params,\n",
    "        pipeline_name = pipeline_name,\n",
    "        cv=cv,\n",
    "    )\n",
    "    \n",
    "    print(grid_result)\n",
    "\n",
    "    results_anx_frn_df = pd.concat([results_anx_frn_df, grid_result])"
   ]
  },
  {
   "cell_type": "code",
   "execution_count": 577,
   "metadata": {},
   "outputs": [
    {
     "data": {
      "text/html": [
       "<div>\n",
       "<style scoped>\n",
       "    .dataframe tbody tr th:only-of-type {\n",
       "        vertical-align: middle;\n",
       "    }\n",
       "\n",
       "    .dataframe tbody tr th {\n",
       "        vertical-align: top;\n",
       "    }\n",
       "\n",
       "    .dataframe thead th {\n",
       "        text-align: right;\n",
       "    }\n",
       "</style>\n",
       "<table border=\"1\" class=\"dataframe\">\n",
       "  <thead>\n",
       "    <tr style=\"text-align: right;\">\n",
       "      <th></th>\n",
       "      <th>model_name</th>\n",
       "      <th>pipeline_name</th>\n",
       "      <th>train score</th>\n",
       "      <th>mean_cv_score</th>\n",
       "      <th>best_model</th>\n",
       "      <th>parameters</th>\n",
       "      <th>pvalue</th>\n",
       "      <th>split0_test_roc_auc</th>\n",
       "      <th>split1_test_roc_auc</th>\n",
       "      <th>split2_test_roc_auc</th>\n",
       "      <th>mean_test_recall</th>\n",
       "      <th>mean_test_precision</th>\n",
       "      <th>mean_test_roc_auc</th>\n",
       "      <th>mean_test_balanced_accuracy</th>\n",
       "    </tr>\n",
       "  </thead>\n",
       "  <tbody>\n",
       "    <tr>\n",
       "      <th>0</th>\n",
       "      <td>lg</td>\n",
       "      <td>FRN_Anxiety_lg</td>\n",
       "      <td>0.810345</td>\n",
       "      <td>0.618519</td>\n",
       "      <td>(CSP({'component_order': 'mutual_info',\\n 'cov...</td>\n",
       "      <td>{'csp__n_components': 2, 'csp__reg': 0.1}</td>\n",
       "      <td>0.051948</td>\n",
       "      <td>0.70</td>\n",
       "      <td>0.711111</td>\n",
       "      <td>0.522222</td>\n",
       "      <td>0.688889</td>\n",
       "      <td>0.609169</td>\n",
       "      <td>0.644444</td>\n",
       "      <td>0.618519</td>\n",
       "    </tr>\n",
       "    <tr>\n",
       "      <th>0</th>\n",
       "      <td>svc</td>\n",
       "      <td>FRN_Anxiety_svc</td>\n",
       "      <td>0.913793</td>\n",
       "      <td>0.659259</td>\n",
       "      <td>(CSP({'component_order': 'mutual_info',\\n 'cov...</td>\n",
       "      <td>{'csp__n_components': 4, 'csp__reg': 0.1, 'svc...</td>\n",
       "      <td>0.012987</td>\n",
       "      <td>0.54</td>\n",
       "      <td>0.777778</td>\n",
       "      <td>0.655556</td>\n",
       "      <td>0.792593</td>\n",
       "      <td>0.636630</td>\n",
       "      <td>0.657778</td>\n",
       "      <td>0.659259</td>\n",
       "    </tr>\n",
       "    <tr>\n",
       "      <th>0</th>\n",
       "      <td>lda</td>\n",
       "      <td>FRN_Anxiety_lda</td>\n",
       "      <td>0.844828</td>\n",
       "      <td>0.618519</td>\n",
       "      <td>(CSP({'component_order': 'mutual_info',\\n 'cov...</td>\n",
       "      <td>{'csp__n_components': 2, 'csp__reg': 0.1, 'lda...</td>\n",
       "      <td>0.056943</td>\n",
       "      <td>0.70</td>\n",
       "      <td>0.633333</td>\n",
       "      <td>0.544444</td>\n",
       "      <td>0.688889</td>\n",
       "      <td>0.609596</td>\n",
       "      <td>0.625926</td>\n",
       "      <td>0.618519</td>\n",
       "    </tr>\n",
       "  </tbody>\n",
       "</table>\n",
       "</div>"
      ],
      "text/plain": [
       "  model_name    pipeline_name  train score  mean_cv_score  \\\n",
       "0         lg   FRN_Anxiety_lg     0.810345       0.618519   \n",
       "0        svc  FRN_Anxiety_svc     0.913793       0.659259   \n",
       "0        lda  FRN_Anxiety_lda     0.844828       0.618519   \n",
       "\n",
       "                                          best_model  \\\n",
       "0  (CSP({'component_order': 'mutual_info',\\n 'cov...   \n",
       "0  (CSP({'component_order': 'mutual_info',\\n 'cov...   \n",
       "0  (CSP({'component_order': 'mutual_info',\\n 'cov...   \n",
       "\n",
       "                                          parameters    pvalue  \\\n",
       "0          {'csp__n_components': 2, 'csp__reg': 0.1}  0.051948   \n",
       "0  {'csp__n_components': 4, 'csp__reg': 0.1, 'svc...  0.012987   \n",
       "0  {'csp__n_components': 2, 'csp__reg': 0.1, 'lda...  0.056943   \n",
       "\n",
       "   split0_test_roc_auc  split1_test_roc_auc  split2_test_roc_auc  \\\n",
       "0                 0.70             0.711111             0.522222   \n",
       "0                 0.54             0.777778             0.655556   \n",
       "0                 0.70             0.633333             0.544444   \n",
       "\n",
       "   mean_test_recall  mean_test_precision  mean_test_roc_auc  \\\n",
       "0          0.688889             0.609169           0.644444   \n",
       "0          0.792593             0.636630           0.657778   \n",
       "0          0.688889             0.609596           0.625926   \n",
       "\n",
       "   mean_test_balanced_accuracy  \n",
       "0                     0.618519  \n",
       "0                     0.659259  \n",
       "0                     0.618519  "
      ]
     },
     "execution_count": 577,
     "metadata": {},
     "output_type": "execute_result"
    }
   ],
   "source": [
    "results_anx_frn_df"
   ]
  },
  {
   "cell_type": "code",
   "execution_count": 168,
   "metadata": {},
   "outputs": [],
   "source": [
    "results_anx_frn_df.to_pickle(\"data/anxiety_frn_results_3_23_03_13-49.pkl\")"
   ]
  },
  {
   "cell_type": "code",
   "execution_count": null,
   "metadata": {
    "colab": {
     "base_uri": "https://localhost:8080/",
     "height": 423
    },
    "executionInfo": {
     "elapsed": 2902,
     "status": "ok",
     "timestamp": 1677516221853,
     "user": {
      "displayName": "Anna Grabowska",
      "userId": "15734344613010880864"
     },
     "user_tz": -60
    },
    "id": "YdLI-KrjEwXX",
    "outputId": "5b3f85ad-d9d7-4223-e466-3102e245b86d"
   },
   "outputs": [],
   "source": [
    "# # plot CSP patterns estimated on full data for visualization\n",
    "# # epochs_train = anx_epochs[0]['bad'].copy().crop(tmin=tmin, tmax=tmax).pick_types(eeg=True)\n",
    "# epochs_train = anx_epochs[0]['bad'].copy().crop(tmin=tmin, tmax=tmax).pick_channels(['P1', 'P2', 'P4', 'P3', 'CP3', 'CP4', 'CP1', 'CP2', 'Pz', 'CPz',])\n",
    "\n",
    "# epochs_train.info\n",
    "\n",
    "# csp.fit_transform(evoked_data, y)\n",
    "\n",
    "# fig = csp.plot_patterns(epochs_train.info, ch_type='eeg', units='Patterns (AU)', size=1.5)"
   ]
  },
  {
   "cell_type": "markdown",
   "metadata": {},
   "source": [
    "## Test statistical differences between models"
   ]
  },
  {
   "cell_type": "code",
   "execution_count": 53,
   "metadata": {},
   "outputs": [],
   "source": [
    "def paired_ttest_nandeu(\n",
    "    estimator1,\n",
    "    estimator2,\n",
    "    X_1,\n",
    "    X_2,\n",
    "    y,\n",
    "    scoring='accuracy',\n",
    "    random_state=0  \n",
    "):\n",
    "    \"\"\"Computes paired-ttest using Nadeau and Bengio's approach.\n",
    "\n",
    "    Parameters\n",
    "    ----------\n",
    "    estimator1 : estimator object implementing 'fit'\n",
    "        The object to use to fit the data.\n",
    "    estimator2 :  estimator object implementing 'fit'\n",
    "        The object to use to fit the data.\n",
    "    X : array-like of shape at least 2D\n",
    "        The data to fit.\n",
    "    y : array-like of shape (n_samples,)\n",
    "        The target variable to try to predict\n",
    "    random_state: int\n",
    "\n",
    "\n",
    "    Returns\n",
    "    -------\n",
    "    t_stat : float\n",
    "        Variance-corrected t-statistic.\n",
    "    p_value : float\n",
    "        Variance-corrected p-value.\n",
    "    \"\"\"\n",
    "\n",
    "    cv = RepeatedStratifiedKFold(n_splits=10, n_repeats=10, random_state=random_state)\n",
    "\n",
    "    cv_scores_1 = cross_val_score(estimator1, X_1, y, cv=cv, scoring=scoring)\n",
    "    cv_scores_2 = cross_val_score(estimator2, X_2, y, cv=cv, scoring=scoring)\n",
    "\n",
    "    differences = cv_scores_1 - cv_scores_2\n",
    "\n",
    "    n = differences.shape[0]  # number of test sets\n",
    "    df = n - 1\n",
    "    n_train = len(list(cv.split(X_1, y))[0][0])\n",
    "    n_test = len(list(cv.split(X_1, y))[0][1])\n",
    "\n",
    "    t_stat, p_value = compute_corrected_ttest(differences, df, n_train, n_test)\n",
    "\n",
    "    return t_stat, p_value\n",
    "\n",
    "\n",
    "def corrected_std(differences, n_train, n_test):\n",
    "    \"\"\"Corrects standard deviation using Nadeau and Bengio's approach.\n",
    "\n",
    "    Parameters\n",
    "    ----------\n",
    "    differences : ndarray of shape (n_samples,)\n",
    "        Vector containing the differences in the score metrics of two models.\n",
    "    n_train : int\n",
    "        Number of samples in the training set.\n",
    "    n_test : int\n",
    "        Number of samples in the testing set.\n",
    "\n",
    "    Returns\n",
    "    -------\n",
    "    corrected_std : float\n",
    "        Variance-corrected standard deviation of the set of differences.\n",
    "    \"\"\"\n",
    "    # kr = k times r, r times repeated k-fold crossvalidation,\n",
    "    # kr equals the number of times the model was evaluated\n",
    "    kr = len(differences)\n",
    "    corrected_var = np.var(differences, ddof=1) * ((1 / kr) + (n_test / n_train))\n",
    "    corrected_std = np.sqrt(corrected_var)\n",
    "    return corrected_std\n",
    "\n",
    "\n",
    "def compute_corrected_ttest(differences, df, n_train, n_test):\n",
    "    \"\"\"Computes right-tailed paired t-test with corrected variance.\n",
    "\n",
    "    Parameters\n",
    "    ----------\n",
    "    differences : array-like of shape (n_samples,)\n",
    "        Vector containing the differences in the score metrics of two models.\n",
    "    df : int\n",
    "        Degrees of freedom.\n",
    "    n_train : int\n",
    "        Number of samples in the training set.\n",
    "    n_test : int\n",
    "        Number of samples in the testing set.\n",
    "\n",
    "    Returns\n",
    "    -------\n",
    "    t_stat : float\n",
    "        Variance-corrected t-statistic.\n",
    "    p_val : float\n",
    "        Variance-corrected p-value.\n",
    "    \"\"\"\n",
    "    mean = np.mean(differences)\n",
    "    std = corrected_std(differences, n_train, n_test)\n",
    "    t_stat = mean / std\n",
    "    p_val = stats.t.sf(np.abs(t_stat), df)  # right-tailed t-test\n",
    "    return t_stat, p_val"
   ]
  },
  {
   "cell_type": "code",
   "execution_count": 54,
   "metadata": {},
   "outputs": [],
   "source": [
    "results_dep_rewp_df = pd.read_pickle(\"data/depression_rewp_results_3_02_03_24-00.pkl\")\n",
    "results_dep_frn_df = pd.read_pickle(\"data/depression_frn_results_3_02_03_24-00.pkl\")\n",
    "results_anx_rewp_df = pd.read_pickle(\"data/anxiety_rewp_results.pkl\")\n",
    "results_anx_frn_df = pd.read_pickle(\"data/anxiety_frn_results_25_37.pkl\")"
   ]
  },
  {
   "cell_type": "markdown",
   "metadata": {},
   "source": [
    "### Depression RewP vs FRN"
   ]
  },
  {
   "cell_type": "code",
   "execution_count": 39,
   "metadata": {},
   "outputs": [],
   "source": [
    "y = np.array(len(dep_epochs) * [1] +  len(ctrl_dep_epochs) * [0])"
   ]
  },
  {
   "cell_type": "code",
   "execution_count": 40,
   "metadata": {
    "id": "5xtHJW4tugMm"
   },
   "outputs": [],
   "source": [
    "tmin = 0.25\n",
    "tmax = 0.35\n",
    "\n",
    "dep_rewp_data = [epoch['good'].average().get_data(tmin=tmin, tmax=tmax,) for epoch in dep_epochs]\n",
    "ctrl_rewp_data = [epoch['good'].average().get_data(tmin=tmin, tmax=tmax,) for epoch in ctrl_dep_epochs]"
   ]
  },
  {
   "cell_type": "code",
   "execution_count": 41,
   "metadata": {
    "colab": {
     "background_save": true
    },
    "id": "MpZMrKhCsKGO",
    "tags": []
   },
   "outputs": [],
   "source": [
    "X_rewp = np.array(dep_rewp_data + ctrl_rewp_data)"
   ]
  },
  {
   "cell_type": "code",
   "execution_count": 42,
   "metadata": {
    "id": "vcTUfJ4x1oij"
   },
   "outputs": [],
   "source": [
    "tmin = 0.25\n",
    "tmax = 0.37\n",
    "\n",
    "dep_frn_data = [epoch['bad'].average().get_data(tmin=tmin, tmax=tmax,) for epoch in dep_epochs]\n",
    "ctrl_frn_data = [epoch['bad'].average().get_data(tmin=tmin, tmax=tmax,) for epoch in ctrl_dep_epochs]"
   ]
  },
  {
   "cell_type": "code",
   "execution_count": 43,
   "metadata": {
    "id": "1L-jv3Vx1oij"
   },
   "outputs": [],
   "source": [
    "X_frn = np.array(dep_frn_data + ctrl_frn_data)"
   ]
  },
  {
   "cell_type": "markdown",
   "metadata": {},
   "source": [
    "#### Plot differences between all Depression Models\n",
    "To see which RewP and FRN models are the best"
   ]
  },
  {
   "cell_type": "code",
   "execution_count": 44,
   "metadata": {
    "colab": {
     "base_uri": "https://localhost:8080/"
    },
    "executionInfo": {
     "elapsed": 4,
     "status": "ok",
     "timestamp": 1677516452928,
     "user": {
      "displayName": "Anna Grabowska",
      "userId": "15734344613010880864"
     },
     "user_tz": -60
    },
    "id": "824FRKiAweds",
    "outputId": "a8affbdc-2c93-462c-d952-df11bc0ff221"
   },
   "outputs": [],
   "source": [
    "%%capture\n",
    "\n",
    "cv = RepeatedStratifiedKFold(n_splits=10, n_repeats=10, random_state=random_state)\n",
    "\n",
    "cv_results_df = pd.DataFrame()\n",
    "\n",
    "for i in range(0,len(results_dep_rewp_df)):\n",
    "    cv_scores_rewp = cross_val_score(results_dep_rewp_df.iloc[i].best_model, X_rewp, y, cv=cv, scoring='balanced_accuracy')\n",
    "    cv_scores_frn = cross_val_score(results_dep_frn_df.iloc[i].best_model, X_frn, y, cv=cv,  scoring='balanced_accuracy')\n",
    "    \n",
    "    cv_results_df[\"RewP_\" + str(i)] = cv_scores_rewp\n",
    "    cv_results_df[\"FRN_\" + str(i)] = cv_scores_frn"
   ]
  },
  {
   "cell_type": "code",
   "execution_count": 45,
   "metadata": {
    "tags": []
   },
   "outputs": [
    {
     "data": {
      "text/html": [
       "<div>\n",
       "<style scoped>\n",
       "    .dataframe tbody tr th:only-of-type {\n",
       "        vertical-align: middle;\n",
       "    }\n",
       "\n",
       "    .dataframe tbody tr th {\n",
       "        vertical-align: top;\n",
       "    }\n",
       "\n",
       "    .dataframe thead th {\n",
       "        text-align: right;\n",
       "    }\n",
       "</style>\n",
       "<table border=\"1\" class=\"dataframe\">\n",
       "  <thead>\n",
       "    <tr style=\"text-align: right;\">\n",
       "      <th></th>\n",
       "      <th>RewP_0</th>\n",
       "      <th>FRN_0</th>\n",
       "      <th>RewP_1</th>\n",
       "      <th>FRN_1</th>\n",
       "      <th>RewP_2</th>\n",
       "      <th>FRN_2</th>\n",
       "    </tr>\n",
       "  </thead>\n",
       "  <tbody>\n",
       "    <tr>\n",
       "      <th>0</th>\n",
       "      <td>0.500</td>\n",
       "      <td>0.475</td>\n",
       "      <td>0.575</td>\n",
       "      <td>0.575</td>\n",
       "      <td>0.600</td>\n",
       "      <td>0.575</td>\n",
       "    </tr>\n",
       "    <tr>\n",
       "      <th>1</th>\n",
       "      <td>0.450</td>\n",
       "      <td>0.575</td>\n",
       "      <td>0.625</td>\n",
       "      <td>0.700</td>\n",
       "      <td>0.350</td>\n",
       "      <td>0.700</td>\n",
       "    </tr>\n",
       "    <tr>\n",
       "      <th>2</th>\n",
       "      <td>0.500</td>\n",
       "      <td>0.775</td>\n",
       "      <td>0.675</td>\n",
       "      <td>0.475</td>\n",
       "      <td>0.650</td>\n",
       "      <td>0.475</td>\n",
       "    </tr>\n",
       "    <tr>\n",
       "      <th>3</th>\n",
       "      <td>0.575</td>\n",
       "      <td>0.450</td>\n",
       "      <td>0.675</td>\n",
       "      <td>0.575</td>\n",
       "      <td>0.525</td>\n",
       "      <td>0.575</td>\n",
       "    </tr>\n",
       "    <tr>\n",
       "      <th>4</th>\n",
       "      <td>0.350</td>\n",
       "      <td>0.450</td>\n",
       "      <td>0.325</td>\n",
       "      <td>0.375</td>\n",
       "      <td>0.550</td>\n",
       "      <td>0.475</td>\n",
       "    </tr>\n",
       "    <tr>\n",
       "      <th>...</th>\n",
       "      <td>...</td>\n",
       "      <td>...</td>\n",
       "      <td>...</td>\n",
       "      <td>...</td>\n",
       "      <td>...</td>\n",
       "      <td>...</td>\n",
       "    </tr>\n",
       "    <tr>\n",
       "      <th>95</th>\n",
       "      <td>0.300</td>\n",
       "      <td>0.300</td>\n",
       "      <td>0.800</td>\n",
       "      <td>0.525</td>\n",
       "      <td>0.675</td>\n",
       "      <td>0.425</td>\n",
       "    </tr>\n",
       "    <tr>\n",
       "      <th>96</th>\n",
       "      <td>0.400</td>\n",
       "      <td>0.325</td>\n",
       "      <td>0.650</td>\n",
       "      <td>0.250</td>\n",
       "      <td>0.550</td>\n",
       "      <td>0.250</td>\n",
       "    </tr>\n",
       "    <tr>\n",
       "      <th>97</th>\n",
       "      <td>0.650</td>\n",
       "      <td>0.450</td>\n",
       "      <td>0.625</td>\n",
       "      <td>0.325</td>\n",
       "      <td>0.575</td>\n",
       "      <td>0.325</td>\n",
       "    </tr>\n",
       "    <tr>\n",
       "      <th>98</th>\n",
       "      <td>0.650</td>\n",
       "      <td>0.300</td>\n",
       "      <td>0.550</td>\n",
       "      <td>0.325</td>\n",
       "      <td>0.550</td>\n",
       "      <td>0.450</td>\n",
       "    </tr>\n",
       "    <tr>\n",
       "      <th>99</th>\n",
       "      <td>0.400</td>\n",
       "      <td>0.300</td>\n",
       "      <td>0.750</td>\n",
       "      <td>0.400</td>\n",
       "      <td>0.550</td>\n",
       "      <td>0.400</td>\n",
       "    </tr>\n",
       "  </tbody>\n",
       "</table>\n",
       "<p>100 rows × 6 columns</p>\n",
       "</div>"
      ],
      "text/plain": [
       "    RewP_0  FRN_0  RewP_1  FRN_1  RewP_2  FRN_2\n",
       "0    0.500  0.475   0.575  0.575   0.600  0.575\n",
       "1    0.450  0.575   0.625  0.700   0.350  0.700\n",
       "2    0.500  0.775   0.675  0.475   0.650  0.475\n",
       "3    0.575  0.450   0.675  0.575   0.525  0.575\n",
       "4    0.350  0.450   0.325  0.375   0.550  0.475\n",
       "..     ...    ...     ...    ...     ...    ...\n",
       "95   0.300  0.300   0.800  0.525   0.675  0.425\n",
       "96   0.400  0.325   0.650  0.250   0.550  0.250\n",
       "97   0.650  0.450   0.625  0.325   0.575  0.325\n",
       "98   0.650  0.300   0.550  0.325   0.550  0.450\n",
       "99   0.400  0.300   0.750  0.400   0.550  0.400\n",
       "\n",
       "[100 rows x 6 columns]"
      ]
     },
     "execution_count": 45,
     "metadata": {},
     "output_type": "execute_result"
    }
   ],
   "source": [
    "cv_results_df"
   ]
  },
  {
   "cell_type": "code",
   "execution_count": 46,
   "metadata": {},
   "outputs": [
    {
     "data": {
      "image/png": "[encoded data removed]",
      "text/plain": [
       "<Figure size 432x288 with 1 Axes>"
      ]
     },
     "metadata": {
      "needs_background": "light"
     },
     "output_type": "display_data"
    }
   ],
   "source": [
    "fig = sns.histplot(data=cv_results_df, bins=5, kde=True)"
   ]
  },
  {
   "cell_type": "markdown",
   "metadata": {},
   "source": [
    "#### Test differences between the best models"
   ]
  },
  {
   "cell_type": "markdown",
   "metadata": {},
   "source": [
    "Chose the best models"
   ]
  },
  {
   "cell_type": "code",
   "execution_count": 47,
   "metadata": {},
   "outputs": [
    {
     "data": {
      "text/html": [
       "<div>\n",
       "<style scoped>\n",
       "    .dataframe tbody tr th:only-of-type {\n",
       "        vertical-align: middle;\n",
       "    }\n",
       "\n",
       "    .dataframe tbody tr th {\n",
       "        vertical-align: top;\n",
       "    }\n",
       "\n",
       "    .dataframe thead th {\n",
       "        text-align: right;\n",
       "    }\n",
       "</style>\n",
       "<table border=\"1\" class=\"dataframe\">\n",
       "  <thead>\n",
       "    <tr style=\"text-align: right;\">\n",
       "      <th></th>\n",
       "      <th>model_name</th>\n",
       "      <th>pipeline_name</th>\n",
       "      <th>train score</th>\n",
       "      <th>mean_cv_score</th>\n",
       "      <th>best_model</th>\n",
       "      <th>parameters</th>\n",
       "      <th>pvalue</th>\n",
       "      <th>split0_test_roc_auc</th>\n",
       "      <th>split1_test_roc_auc</th>\n",
       "      <th>split2_test_roc_auc</th>\n",
       "      <th>mean_test_roc_auc</th>\n",
       "      <th>mean_test_recall</th>\n",
       "      <th>mean_test_precision</th>\n",
       "      <th>mean_test_balanced_accuracy</th>\n",
       "    </tr>\n",
       "  </thead>\n",
       "  <tbody>\n",
       "    <tr>\n",
       "      <th>0</th>\n",
       "      <td>lg</td>\n",
       "      <td>RewP_Depression_lg</td>\n",
       "      <td>0.822222</td>\n",
       "      <td>0.611111</td>\n",
       "      <td>(CSP({'component_order': 'mutual_info',\\n 'cov...</td>\n",
       "      <td>{'csp__n_components': 3, 'csp__reg': 0.001}</td>\n",
       "      <td>0.027972</td>\n",
       "      <td>0.453333</td>\n",
       "      <td>0.582222</td>\n",
       "      <td>0.573333</td>\n",
       "      <td>0.536296</td>\n",
       "      <td>0.488889</td>\n",
       "      <td>0.646128</td>\n",
       "      <td>0.611111</td>\n",
       "    </tr>\n",
       "    <tr>\n",
       "      <th>0</th>\n",
       "      <td>svc</td>\n",
       "      <td>RewP_Depression_svc</td>\n",
       "      <td>0.711111</td>\n",
       "      <td>0.644444</td>\n",
       "      <td>(CSP({'component_order': 'mutual_info',\\n 'cov...</td>\n",
       "      <td>{'csp__n_components': 4, 'csp__reg': 1, 'svc__...</td>\n",
       "      <td>0.014985</td>\n",
       "      <td>0.755556</td>\n",
       "      <td>0.626667</td>\n",
       "      <td>0.582222</td>\n",
       "      <td>0.654815</td>\n",
       "      <td>0.600000</td>\n",
       "      <td>0.658120</td>\n",
       "      <td>0.644444</td>\n",
       "    </tr>\n",
       "    <tr>\n",
       "      <th>0</th>\n",
       "      <td>lda</td>\n",
       "      <td>RewP_Depression_lda</td>\n",
       "      <td>0.611111</td>\n",
       "      <td>0.577778</td>\n",
       "      <td>(CSP({'component_order': 'mutual_info',\\n 'cov...</td>\n",
       "      <td>{'csp__n_components': 1, 'csp__reg': 0.1, 'lda...</td>\n",
       "      <td>0.090909</td>\n",
       "      <td>0.551111</td>\n",
       "      <td>0.675556</td>\n",
       "      <td>0.448889</td>\n",
       "      <td>0.558519</td>\n",
       "      <td>0.511111</td>\n",
       "      <td>0.567677</td>\n",
       "      <td>0.577778</td>\n",
       "    </tr>\n",
       "  </tbody>\n",
       "</table>\n",
       "</div>"
      ],
      "text/plain": [
       "  model_name        pipeline_name  train score  mean_cv_score  \\\n",
       "0         lg   RewP_Depression_lg     0.822222       0.611111   \n",
       "0        svc  RewP_Depression_svc     0.711111       0.644444   \n",
       "0        lda  RewP_Depression_lda     0.611111       0.577778   \n",
       "\n",
       "                                          best_model  \\\n",
       "0  (CSP({'component_order': 'mutual_info',\\n 'cov...   \n",
       "0  (CSP({'component_order': 'mutual_info',\\n 'cov...   \n",
       "0  (CSP({'component_order': 'mutual_info',\\n 'cov...   \n",
       "\n",
       "                                          parameters    pvalue  \\\n",
       "0        {'csp__n_components': 3, 'csp__reg': 0.001}  0.027972   \n",
       "0  {'csp__n_components': 4, 'csp__reg': 1, 'svc__...  0.014985   \n",
       "0  {'csp__n_components': 1, 'csp__reg': 0.1, 'lda...  0.090909   \n",
       "\n",
       "   split0_test_roc_auc  split1_test_roc_auc  split2_test_roc_auc  \\\n",
       "0             0.453333             0.582222             0.573333   \n",
       "0             0.755556             0.626667             0.582222   \n",
       "0             0.551111             0.675556             0.448889   \n",
       "\n",
       "   mean_test_roc_auc  mean_test_recall  mean_test_precision  \\\n",
       "0           0.536296          0.488889             0.646128   \n",
       "0           0.654815          0.600000             0.658120   \n",
       "0           0.558519          0.511111             0.567677   \n",
       "\n",
       "   mean_test_balanced_accuracy  \n",
       "0                     0.611111  \n",
       "0                     0.644444  \n",
       "0                     0.577778  "
      ]
     },
     "execution_count": 47,
     "metadata": {},
     "output_type": "execute_result"
    }
   ],
   "source": [
    "results_dep_rewp_df"
   ]
  },
  {
   "cell_type": "code",
   "execution_count": 48,
   "metadata": {},
   "outputs": [
    {
     "data": {
      "text/html": [
       "<div>\n",
       "<style scoped>\n",
       "    .dataframe tbody tr th:only-of-type {\n",
       "        vertical-align: middle;\n",
       "    }\n",
       "\n",
       "    .dataframe tbody tr th {\n",
       "        vertical-align: top;\n",
       "    }\n",
       "\n",
       "    .dataframe thead th {\n",
       "        text-align: right;\n",
       "    }\n",
       "</style>\n",
       "<table border=\"1\" class=\"dataframe\">\n",
       "  <thead>\n",
       "    <tr style=\"text-align: right;\">\n",
       "      <th></th>\n",
       "      <th>model_name</th>\n",
       "      <th>pipeline_name</th>\n",
       "      <th>train score</th>\n",
       "      <th>mean_cv_score</th>\n",
       "      <th>best_model</th>\n",
       "      <th>parameters</th>\n",
       "      <th>pvalue</th>\n",
       "      <th>split0_test_roc_auc</th>\n",
       "      <th>split1_test_roc_auc</th>\n",
       "      <th>split2_test_roc_auc</th>\n",
       "      <th>mean_test_roc_auc</th>\n",
       "      <th>mean_test_recall</th>\n",
       "      <th>mean_test_precision</th>\n",
       "      <th>mean_test_balanced_accuracy</th>\n",
       "    </tr>\n",
       "  </thead>\n",
       "  <tbody>\n",
       "    <tr>\n",
       "      <th>0</th>\n",
       "      <td>lg</td>\n",
       "      <td>FRN_Depression_lg</td>\n",
       "      <td>0.733333</td>\n",
       "      <td>0.577778</td>\n",
       "      <td>(CSP({'component_order': 'mutual_info',\\n 'cov...</td>\n",
       "      <td>{'csp__n_components': 3, 'csp__reg': 0.01}</td>\n",
       "      <td>0.082917</td>\n",
       "      <td>0.604444</td>\n",
       "      <td>0.551111</td>\n",
       "      <td>0.573333</td>\n",
       "      <td>0.576296</td>\n",
       "      <td>0.466667</td>\n",
       "      <td>0.595604</td>\n",
       "      <td>0.577778</td>\n",
       "    </tr>\n",
       "    <tr>\n",
       "      <th>0</th>\n",
       "      <td>svc</td>\n",
       "      <td>FRN_Depression_svc</td>\n",
       "      <td>0.866667</td>\n",
       "      <td>0.611111</td>\n",
       "      <td>(CSP({'component_order': 'mutual_info',\\n 'cov...</td>\n",
       "      <td>{'csp__n_components': 3, 'csp__reg': 0.001, 's...</td>\n",
       "      <td>0.024975</td>\n",
       "      <td>0.600000</td>\n",
       "      <td>0.564444</td>\n",
       "      <td>0.622222</td>\n",
       "      <td>0.595556</td>\n",
       "      <td>0.466667</td>\n",
       "      <td>0.652778</td>\n",
       "      <td>0.611111</td>\n",
       "    </tr>\n",
       "    <tr>\n",
       "      <th>0</th>\n",
       "      <td>lda</td>\n",
       "      <td>FRN_Depression_lda</td>\n",
       "      <td>0.877778</td>\n",
       "      <td>0.588889</td>\n",
       "      <td>(CSP({'component_order': 'mutual_info',\\n 'cov...</td>\n",
       "      <td>{'csp__n_components': 3, 'csp__reg': 0.001, 'l...</td>\n",
       "      <td>0.053946</td>\n",
       "      <td>0.600000</td>\n",
       "      <td>0.568889</td>\n",
       "      <td>0.622222</td>\n",
       "      <td>0.597037</td>\n",
       "      <td>0.422222</td>\n",
       "      <td>0.621032</td>\n",
       "      <td>0.588889</td>\n",
       "    </tr>\n",
       "  </tbody>\n",
       "</table>\n",
       "</div>"
      ],
      "text/plain": [
       "  model_name       pipeline_name  train score  mean_cv_score  \\\n",
       "0         lg   FRN_Depression_lg     0.733333       0.577778   \n",
       "0        svc  FRN_Depression_svc     0.866667       0.611111   \n",
       "0        lda  FRN_Depression_lda     0.877778       0.588889   \n",
       "\n",
       "                                          best_model  \\\n",
       "0  (CSP({'component_order': 'mutual_info',\\n 'cov...   \n",
       "0  (CSP({'component_order': 'mutual_info',\\n 'cov...   \n",
       "0  (CSP({'component_order': 'mutual_info',\\n 'cov...   \n",
       "\n",
       "                                          parameters    pvalue  \\\n",
       "0         {'csp__n_components': 3, 'csp__reg': 0.01}  0.082917   \n",
       "0  {'csp__n_components': 3, 'csp__reg': 0.001, 's...  0.024975   \n",
       "0  {'csp__n_components': 3, 'csp__reg': 0.001, 'l...  0.053946   \n",
       "\n",
       "   split0_test_roc_auc  split1_test_roc_auc  split2_test_roc_auc  \\\n",
       "0             0.604444             0.551111             0.573333   \n",
       "0             0.600000             0.564444             0.622222   \n",
       "0             0.600000             0.568889             0.622222   \n",
       "\n",
       "   mean_test_roc_auc  mean_test_recall  mean_test_precision  \\\n",
       "0           0.576296          0.466667             0.595604   \n",
       "0           0.595556          0.466667             0.652778   \n",
       "0           0.597037          0.422222             0.621032   \n",
       "\n",
       "   mean_test_balanced_accuracy  \n",
       "0                     0.577778  \n",
       "0                     0.611111  \n",
       "0                     0.588889  "
      ]
     },
     "execution_count": 48,
     "metadata": {},
     "output_type": "execute_result"
    }
   ],
   "source": [
    "results_dep_frn_df"
   ]
  },
  {
   "cell_type": "code",
   "execution_count": 49,
   "metadata": {},
   "outputs": [
    {
     "data": {
      "text/html": [
       "<style>#sk-container-id-1 {color: black;background-color: white;}#sk-container-id-1 pre{padding: 0;}#sk-container-id-1 div.sk-toggleable {background-color: white;}#sk-container-id-1 label.sk-toggleable__label {cursor: pointer;display: block;width: 100%;margin-bottom: 0;padding: 0.3em;box-sizing: border-box;text-align: center;}#sk-container-id-1 label.sk-toggleable__label-arrow:before {content: \"▸\";float: left;margin-right: 0.25em;color: #696969;}#sk-container-id-1 label.sk-toggleable__label-arrow:hover:before {color: black;}#sk-container-id-1 div.sk-estimator:hover label.sk-toggleable__label-arrow:before {color: black;}#sk-container-id-1 div.sk-toggleable__content {max-height: 0;max-width: 0;overflow: hidden;text-align: left;background-color: #f0f8ff;}#sk-container-id-1 div.sk-toggleable__content pre {margin: 0.2em;color: black;border-radius: 0.25em;background-color: #f0f8ff;}#sk-container-id-1 input.sk-toggleable__control:checked~div.sk-toggleable__content {max-height: 200px;max-width: 100%;overflow: auto;}#sk-container-id-1 input.sk-toggleable__control:checked~label.sk-toggleable__label-arrow:before {content: \"▾\";}#sk-container-id-1 div.sk-estimator input.sk-toggleable__control:checked~label.sk-toggleable__label {background-color: #d4ebff;}#sk-container-id-1 div.sk-label input.sk-toggleable__control:checked~label.sk-toggleable__label {background-color: #d4ebff;}#sk-container-id-1 input.sk-hidden--visually {border: 0;clip: rect(1px 1px 1px 1px);clip: rect(1px, 1px, 1px, 1px);height: 1px;margin: -1px;overflow: hidden;padding: 0;position: absolute;width: 1px;}#sk-container-id-1 div.sk-estimator {font-family: monospace;background-color: #f0f8ff;border: 1px dotted black;border-radius: 0.25em;box-sizing: border-box;margin-bottom: 0.5em;}#sk-container-id-1 div.sk-estimator:hover {background-color: #d4ebff;}#sk-container-id-1 div.sk-parallel-item::after {content: \"\";width: 100%;border-bottom: 1px solid gray;flex-grow: 1;}#sk-container-id-1 div.sk-label:hover label.sk-toggleable__label {background-color: #d4ebff;}#sk-container-id-1 div.sk-serial::before {content: \"\";position: absolute;border-left: 1px solid gray;box-sizing: border-box;top: 0;bottom: 0;left: 50%;z-index: 0;}#sk-container-id-1 div.sk-serial {display: flex;flex-direction: column;align-items: center;background-color: white;padding-right: 0.2em;padding-left: 0.2em;position: relative;}#sk-container-id-1 div.sk-item {position: relative;z-index: 1;}#sk-container-id-1 div.sk-parallel {display: flex;align-items: stretch;justify-content: center;background-color: white;position: relative;}#sk-container-id-1 div.sk-item::before, #sk-container-id-1 div.sk-parallel-item::before {content: \"\";position: absolute;border-left: 1px solid gray;box-sizing: border-box;top: 0;bottom: 0;left: 50%;z-index: -1;}#sk-container-id-1 div.sk-parallel-item {display: flex;flex-direction: column;z-index: 1;position: relative;background-color: white;}#sk-container-id-1 div.sk-parallel-item:first-child::after {align-self: flex-end;width: 50%;}#sk-container-id-1 div.sk-parallel-item:last-child::after {align-self: flex-start;width: 50%;}#sk-container-id-1 div.sk-parallel-item:only-child::after {width: 0;}#sk-container-id-1 div.sk-dashed-wrapped {border: 1px dashed gray;margin: 0 0.4em 0.5em 0.4em;box-sizing: border-box;padding-bottom: 0.4em;background-color: white;}#sk-container-id-1 div.sk-label label {font-family: monospace;font-weight: bold;display: inline-block;line-height: 1.2em;}#sk-container-id-1 div.sk-label-container {text-align: center;}#sk-container-id-1 div.sk-container {/* jupyter's `normalize.less` sets `[hidden] { display: none; }` but bootstrap.min.css set `[hidden] { display: none !important; }` so we also need the `!important` here to be able to override the default hidden behavior on the sphinx rendered scikit-learn.org. See: https://github.com/scikit-learn/scikit-learn/issues/21755 */display: inline-block !important;position: relative;}#sk-container-id-1 div.sk-text-repr-fallback {display: none;}</style><div id=\"sk-container-id-1\" class=\"sk-top-container\"><div class=\"sk-text-repr-fallback\"><pre>Pipeline(steps=[(&#x27;csp&#x27;,\n",
       "                 CSP({&#x27;component_order&#x27;: &#x27;mutual_info&#x27;,\n",
       " &#x27;cov_est&#x27;: &#x27;concat&#x27;,\n",
       " &#x27;cov_method_params&#x27;: None,\n",
       " &#x27;log&#x27;: None,\n",
       " &#x27;n_components&#x27;: 4,\n",
       " &#x27;norm_trace&#x27;: False,\n",
       " &#x27;rank&#x27;: None,\n",
       " &#x27;reg&#x27;: 1,\n",
       " &#x27;transform_into&#x27;: &#x27;average_power&#x27;})),\n",
       "                (&#x27;vec&#x27;,\n",
       "                 &lt;mne.decoding.transformer.Vectorizer object at 0x7f40994853d0&gt;),\n",
       "                (&#x27;svc&#x27;, SVC(C=100, kernel=&#x27;linear&#x27;))])</pre><b>In a Jupyter environment, please rerun this cell to show the HTML representation or trust the notebook. <br />On GitHub, the HTML representation is unable to render, please try loading this page with nbviewer.org.</b></div><div class=\"sk-container\" hidden><div class=\"sk-item sk-dashed-wrapped\"><div class=\"sk-label-container\"><div class=\"sk-label sk-toggleable\"><input class=\"sk-toggleable__control sk-hidden--visually\" id=\"sk-estimator-id-1\" type=\"checkbox\" ><label for=\"sk-estimator-id-1\" class=\"sk-toggleable__label sk-toggleable__label-arrow\">Pipeline</label><div class=\"sk-toggleable__content\"><pre>Pipeline(steps=[(&#x27;csp&#x27;,\n",
       "                 CSP({&#x27;component_order&#x27;: &#x27;mutual_info&#x27;,\n",
       " &#x27;cov_est&#x27;: &#x27;concat&#x27;,\n",
       " &#x27;cov_method_params&#x27;: None,\n",
       " &#x27;log&#x27;: None,\n",
       " &#x27;n_components&#x27;: 4,\n",
       " &#x27;norm_trace&#x27;: False,\n",
       " &#x27;rank&#x27;: None,\n",
       " &#x27;reg&#x27;: 1,\n",
       " &#x27;transform_into&#x27;: &#x27;average_power&#x27;})),\n",
       "                (&#x27;vec&#x27;,\n",
       "                 &lt;mne.decoding.transformer.Vectorizer object at 0x7f40994853d0&gt;),\n",
       "                (&#x27;svc&#x27;, SVC(C=100, kernel=&#x27;linear&#x27;))])</pre></div></div></div><div class=\"sk-serial\"><div class=\"sk-item\"><div class=\"sk-estimator sk-toggleable\"><input class=\"sk-toggleable__control sk-hidden--visually\" id=\"sk-estimator-id-2\" type=\"checkbox\" ><label for=\"sk-estimator-id-2\" class=\"sk-toggleable__label sk-toggleable__label-arrow\">CSP</label><div class=\"sk-toggleable__content\"><pre>CSP({&#x27;component_order&#x27;: &#x27;mutual_info&#x27;,\n",
       " &#x27;cov_est&#x27;: &#x27;concat&#x27;,\n",
       " &#x27;cov_method_params&#x27;: None,\n",
       " &#x27;log&#x27;: None,\n",
       " &#x27;n_components&#x27;: 4,\n",
       " &#x27;norm_trace&#x27;: False,\n",
       " &#x27;rank&#x27;: None,\n",
       " &#x27;reg&#x27;: 1,\n",
       " &#x27;transform_into&#x27;: &#x27;average_power&#x27;})</pre></div></div></div><div class=\"sk-item\"><div class=\"sk-estimator sk-toggleable\"><input class=\"sk-toggleable__control sk-hidden--visually\" id=\"sk-estimator-id-3\" type=\"checkbox\" ><label for=\"sk-estimator-id-3\" class=\"sk-toggleable__label sk-toggleable__label-arrow\">Vectorizer</label><div class=\"sk-toggleable__content\"><pre>&lt;mne.decoding.transformer.Vectorizer object at 0x7f40994853d0&gt;</pre></div></div></div><div class=\"sk-item\"><div class=\"sk-estimator sk-toggleable\"><input class=\"sk-toggleable__control sk-hidden--visually\" id=\"sk-estimator-id-4\" type=\"checkbox\" ><label for=\"sk-estimator-id-4\" class=\"sk-toggleable__label sk-toggleable__label-arrow\">SVC</label><div class=\"sk-toggleable__content\"><pre>SVC(C=100, kernel=&#x27;linear&#x27;)</pre></div></div></div></div></div></div></div>"
      ],
      "text/plain": [
       "Pipeline(steps=[('csp',\n",
       "                 CSP({'component_order': 'mutual_info',\n",
       " 'cov_est': 'concat',\n",
       " 'cov_method_params': None,\n",
       " 'log': None,\n",
       " 'n_components': 4,\n",
       " 'norm_trace': False,\n",
       " 'rank': None,\n",
       " 'reg': 1,\n",
       " 'transform_into': 'average_power'})),\n",
       "                ('vec',\n",
       "                 <mne.decoding.transformer.Vectorizer object at 0x7f40994853d0>),\n",
       "                ('svc', SVC(C=100, kernel='linear'))])"
      ]
     },
     "execution_count": 49,
     "metadata": {},
     "output_type": "execute_result"
    }
   ],
   "source": [
    "dep_rewp_model = results_dep_rewp_df.iloc[1].best_model\n",
    "dep_rewp_model"
   ]
  },
  {
   "cell_type": "code",
   "execution_count": 50,
   "metadata": {},
   "outputs": [
    {
     "data": {
      "text/html": [
       "<style>#sk-container-id-2 {color: black;background-color: white;}#sk-container-id-2 pre{padding: 0;}#sk-container-id-2 div.sk-toggleable {background-color: white;}#sk-container-id-2 label.sk-toggleable__label {cursor: pointer;display: block;width: 100%;margin-bottom: 0;padding: 0.3em;box-sizing: border-box;text-align: center;}#sk-container-id-2 label.sk-toggleable__label-arrow:before {content: \"▸\";float: left;margin-right: 0.25em;color: #696969;}#sk-container-id-2 label.sk-toggleable__label-arrow:hover:before {color: black;}#sk-container-id-2 div.sk-estimator:hover label.sk-toggleable__label-arrow:before {color: black;}#sk-container-id-2 div.sk-toggleable__content {max-height: 0;max-width: 0;overflow: hidden;text-align: left;background-color: #f0f8ff;}#sk-container-id-2 div.sk-toggleable__content pre {margin: 0.2em;color: black;border-radius: 0.25em;background-color: #f0f8ff;}#sk-container-id-2 input.sk-toggleable__control:checked~div.sk-toggleable__content {max-height: 200px;max-width: 100%;overflow: auto;}#sk-container-id-2 input.sk-toggleable__control:checked~label.sk-toggleable__label-arrow:before {content: \"▾\";}#sk-container-id-2 div.sk-estimator input.sk-toggleable__control:checked~label.sk-toggleable__label {background-color: #d4ebff;}#sk-container-id-2 div.sk-label input.sk-toggleable__control:checked~label.sk-toggleable__label {background-color: #d4ebff;}#sk-container-id-2 input.sk-hidden--visually {border: 0;clip: rect(1px 1px 1px 1px);clip: rect(1px, 1px, 1px, 1px);height: 1px;margin: -1px;overflow: hidden;padding: 0;position: absolute;width: 1px;}#sk-container-id-2 div.sk-estimator {font-family: monospace;background-color: #f0f8ff;border: 1px dotted black;border-radius: 0.25em;box-sizing: border-box;margin-bottom: 0.5em;}#sk-container-id-2 div.sk-estimator:hover {background-color: #d4ebff;}#sk-container-id-2 div.sk-parallel-item::after {content: \"\";width: 100%;border-bottom: 1px solid gray;flex-grow: 1;}#sk-container-id-2 div.sk-label:hover label.sk-toggleable__label {background-color: #d4ebff;}#sk-container-id-2 div.sk-serial::before {content: \"\";position: absolute;border-left: 1px solid gray;box-sizing: border-box;top: 0;bottom: 0;left: 50%;z-index: 0;}#sk-container-id-2 div.sk-serial {display: flex;flex-direction: column;align-items: center;background-color: white;padding-right: 0.2em;padding-left: 0.2em;position: relative;}#sk-container-id-2 div.sk-item {position: relative;z-index: 1;}#sk-container-id-2 div.sk-parallel {display: flex;align-items: stretch;justify-content: center;background-color: white;position: relative;}#sk-container-id-2 div.sk-item::before, #sk-container-id-2 div.sk-parallel-item::before {content: \"\";position: absolute;border-left: 1px solid gray;box-sizing: border-box;top: 0;bottom: 0;left: 50%;z-index: -1;}#sk-container-id-2 div.sk-parallel-item {display: flex;flex-direction: column;z-index: 1;position: relative;background-color: white;}#sk-container-id-2 div.sk-parallel-item:first-child::after {align-self: flex-end;width: 50%;}#sk-container-id-2 div.sk-parallel-item:last-child::after {align-self: flex-start;width: 50%;}#sk-container-id-2 div.sk-parallel-item:only-child::after {width: 0;}#sk-container-id-2 div.sk-dashed-wrapped {border: 1px dashed gray;margin: 0 0.4em 0.5em 0.4em;box-sizing: border-box;padding-bottom: 0.4em;background-color: white;}#sk-container-id-2 div.sk-label label {font-family: monospace;font-weight: bold;display: inline-block;line-height: 1.2em;}#sk-container-id-2 div.sk-label-container {text-align: center;}#sk-container-id-2 div.sk-container {/* jupyter's `normalize.less` sets `[hidden] { display: none; }` but bootstrap.min.css set `[hidden] { display: none !important; }` so we also need the `!important` here to be able to override the default hidden behavior on the sphinx rendered scikit-learn.org. See: https://github.com/scikit-learn/scikit-learn/issues/21755 */display: inline-block !important;position: relative;}#sk-container-id-2 div.sk-text-repr-fallback {display: none;}</style><div id=\"sk-container-id-2\" class=\"sk-top-container\"><div class=\"sk-text-repr-fallback\"><pre>Pipeline(steps=[(&#x27;csp&#x27;,\n",
       "                 CSP({&#x27;component_order&#x27;: &#x27;mutual_info&#x27;,\n",
       " &#x27;cov_est&#x27;: &#x27;concat&#x27;,\n",
       " &#x27;cov_method_params&#x27;: None,\n",
       " &#x27;log&#x27;: None,\n",
       " &#x27;n_components&#x27;: 3,\n",
       " &#x27;norm_trace&#x27;: False,\n",
       " &#x27;rank&#x27;: None,\n",
       " &#x27;reg&#x27;: 0.001,\n",
       " &#x27;transform_into&#x27;: &#x27;average_power&#x27;})),\n",
       "                (&#x27;vec&#x27;,\n",
       "                 &lt;mne.decoding.transformer.Vectorizer object at 0x7f40998fdaf0&gt;),\n",
       "                (&#x27;svc&#x27;, SVC(C=0.01, kernel=&#x27;linear&#x27;))])</pre><b>In a Jupyter environment, please rerun this cell to show the HTML representation or trust the notebook. <br />On GitHub, the HTML representation is unable to render, please try loading this page with nbviewer.org.</b></div><div class=\"sk-container\" hidden><div class=\"sk-item sk-dashed-wrapped\"><div class=\"sk-label-container\"><div class=\"sk-label sk-toggleable\"><input class=\"sk-toggleable__control sk-hidden--visually\" id=\"sk-estimator-id-5\" type=\"checkbox\" ><label for=\"sk-estimator-id-5\" class=\"sk-toggleable__label sk-toggleable__label-arrow\">Pipeline</label><div class=\"sk-toggleable__content\"><pre>Pipeline(steps=[(&#x27;csp&#x27;,\n",
       "                 CSP({&#x27;component_order&#x27;: &#x27;mutual_info&#x27;,\n",
       " &#x27;cov_est&#x27;: &#x27;concat&#x27;,\n",
       " &#x27;cov_method_params&#x27;: None,\n",
       " &#x27;log&#x27;: None,\n",
       " &#x27;n_components&#x27;: 3,\n",
       " &#x27;norm_trace&#x27;: False,\n",
       " &#x27;rank&#x27;: None,\n",
       " &#x27;reg&#x27;: 0.001,\n",
       " &#x27;transform_into&#x27;: &#x27;average_power&#x27;})),\n",
       "                (&#x27;vec&#x27;,\n",
       "                 &lt;mne.decoding.transformer.Vectorizer object at 0x7f40998fdaf0&gt;),\n",
       "                (&#x27;svc&#x27;, SVC(C=0.01, kernel=&#x27;linear&#x27;))])</pre></div></div></div><div class=\"sk-serial\"><div class=\"sk-item\"><div class=\"sk-estimator sk-toggleable\"><input class=\"sk-toggleable__control sk-hidden--visually\" id=\"sk-estimator-id-6\" type=\"checkbox\" ><label for=\"sk-estimator-id-6\" class=\"sk-toggleable__label sk-toggleable__label-arrow\">CSP</label><div class=\"sk-toggleable__content\"><pre>CSP({&#x27;component_order&#x27;: &#x27;mutual_info&#x27;,\n",
       " &#x27;cov_est&#x27;: &#x27;concat&#x27;,\n",
       " &#x27;cov_method_params&#x27;: None,\n",
       " &#x27;log&#x27;: None,\n",
       " &#x27;n_components&#x27;: 3,\n",
       " &#x27;norm_trace&#x27;: False,\n",
       " &#x27;rank&#x27;: None,\n",
       " &#x27;reg&#x27;: 0.001,\n",
       " &#x27;transform_into&#x27;: &#x27;average_power&#x27;})</pre></div></div></div><div class=\"sk-item\"><div class=\"sk-estimator sk-toggleable\"><input class=\"sk-toggleable__control sk-hidden--visually\" id=\"sk-estimator-id-7\" type=\"checkbox\" ><label for=\"sk-estimator-id-7\" class=\"sk-toggleable__label sk-toggleable__label-arrow\">Vectorizer</label><div class=\"sk-toggleable__content\"><pre>&lt;mne.decoding.transformer.Vectorizer object at 0x7f40998fdaf0&gt;</pre></div></div></div><div class=\"sk-item\"><div class=\"sk-estimator sk-toggleable\"><input class=\"sk-toggleable__control sk-hidden--visually\" id=\"sk-estimator-id-8\" type=\"checkbox\" ><label for=\"sk-estimator-id-8\" class=\"sk-toggleable__label sk-toggleable__label-arrow\">SVC</label><div class=\"sk-toggleable__content\"><pre>SVC(C=0.01, kernel=&#x27;linear&#x27;)</pre></div></div></div></div></div></div></div>"
      ],
      "text/plain": [
       "Pipeline(steps=[('csp',\n",
       "                 CSP({'component_order': 'mutual_info',\n",
       " 'cov_est': 'concat',\n",
       " 'cov_method_params': None,\n",
       " 'log': None,\n",
       " 'n_components': 3,\n",
       " 'norm_trace': False,\n",
       " 'rank': None,\n",
       " 'reg': 0.001,\n",
       " 'transform_into': 'average_power'})),\n",
       "                ('vec',\n",
       "                 <mne.decoding.transformer.Vectorizer object at 0x7f40998fdaf0>),\n",
       "                ('svc', SVC(C=0.01, kernel='linear'))])"
      ]
     },
     "execution_count": 50,
     "metadata": {},
     "output_type": "execute_result"
    }
   ],
   "source": [
    "dep_frn_model = results_dep_frn_df.iloc[1].best_model\n",
    "dep_frn_model"
   ]
  },
  {
   "cell_type": "markdown",
   "metadata": {},
   "source": [
    "- Balanced Accuracy"
   ]
  },
  {
   "cell_type": "code",
   "execution_count": 55,
   "metadata": {},
   "outputs": [],
   "source": [
    "%%capture\n",
    "\n",
    "t, p = paired_ttest_nandeu(\n",
    "    estimator1=dep_rewp_model,\n",
    "    estimator2=dep_frn_model,\n",
    "    X_1=X_rewp,\n",
    "    X_2=X_frn, \n",
    "    y=y,\n",
    "    random_state=random_state,\n",
    "    scoring='balanced_accuracy'\n",
    ")"
   ]
  },
  {
   "cell_type": "code",
   "execution_count": 56,
   "metadata": {},
   "outputs": [
    {
     "name": "stdout",
     "output_type": "stream",
     "text": [
      "t statistic: 0.809\n",
      "p value: 0.210\n"
     ]
    }
   ],
   "source": [
    "print('t statistic: %.3f' % t)\n",
    "print('p value: %.3f' % p)"
   ]
  },
  {
   "cell_type": "markdown",
   "metadata": {},
   "source": [
    "- Roc AUC"
   ]
  },
  {
   "cell_type": "code",
   "execution_count": 57,
   "metadata": {},
   "outputs": [],
   "source": [
    "%%capture\n",
    "\n",
    "t, p = paired_ttest_nandeu(\n",
    "    estimator1=dep_rewp_model,\n",
    "    estimator2=dep_frn_model,\n",
    "    X_1=X_rewp,\n",
    "    X_2=X_frn, \n",
    "    y=y,\n",
    "    random_state=random_state,\n",
    "    scoring='roc_auc'\n",
    ")"
   ]
  },
  {
   "cell_type": "code",
   "execution_count": 58,
   "metadata": {},
   "outputs": [
    {
     "name": "stdout",
     "output_type": "stream",
     "text": [
      "t statistic: 0.566\n",
      "p value: 0.286\n"
     ]
    }
   ],
   "source": [
    "print('t statistic: %.3f' % t)\n",
    "print('p value: %.3f' % p)"
   ]
  },
  {
   "cell_type": "markdown",
   "metadata": {},
   "source": [
    "- precision"
   ]
  },
  {
   "cell_type": "code",
   "execution_count": 59,
   "metadata": {},
   "outputs": [],
   "source": [
    "%%capture\n",
    "\n",
    "t, p = paired_ttest_nandeu(\n",
    "    estimator1=dep_rewp_model,\n",
    "    estimator2=dep_frn_model,\n",
    "    X_1=X_rewp,\n",
    "    X_2=X_frn, \n",
    "    y=y,\n",
    "    random_state=random_state,\n",
    "    scoring='precision'\n",
    ")"
   ]
  },
  {
   "cell_type": "code",
   "execution_count": 60,
   "metadata": {},
   "outputs": [
    {
     "name": "stdout",
     "output_type": "stream",
     "text": [
      "t statistic: 0.566\n",
      "p value: 0.286\n"
     ]
    }
   ],
   "source": [
    "print('t statistic: %.3f' % t)\n",
    "print('p value: %.3f' % p)"
   ]
  },
  {
   "cell_type": "markdown",
   "metadata": {},
   "source": [
    "- recall"
   ]
  },
  {
   "cell_type": "code",
   "execution_count": 61,
   "metadata": {},
   "outputs": [],
   "source": [
    "%%capture\n",
    "\n",
    "t, p = paired_ttest_nandeu(\n",
    "    estimator1=dep_rewp_model,\n",
    "    estimator2=dep_frn_model,\n",
    "    X_1=X_rewp,\n",
    "    X_2=X_frn, \n",
    "    y=y,\n",
    "    random_state=random_state,\n",
    "    scoring='recall'\n",
    ")"
   ]
  },
  {
   "cell_type": "code",
   "execution_count": 62,
   "metadata": {},
   "outputs": [
    {
     "name": "stdout",
     "output_type": "stream",
     "text": [
      "t statistic: 1.592\n",
      "p value: 0.057\n"
     ]
    }
   ],
   "source": [
    "print('t statistic: %.3f' % t)\n",
    "print('p value: %.3f' % p)"
   ]
  },
  {
   "cell_type": "markdown",
   "metadata": {},
   "source": [
    "- F1"
   ]
  },
  {
   "cell_type": "code",
   "execution_count": 63,
   "metadata": {},
   "outputs": [],
   "source": [
    "%%capture\n",
    "\n",
    "t, p = paired_ttest_nandeu(\n",
    "    estimator1=dep_rewp_model,\n",
    "    estimator2=dep_frn_model,\n",
    "    X_1=X_rewp,\n",
    "    X_2=X_frn, \n",
    "    y=y,\n",
    "    random_state=random_state,\n",
    "    scoring='f1'\n",
    ")"
   ]
  },
  {
   "cell_type": "code",
   "execution_count": 64,
   "metadata": {},
   "outputs": [
    {
     "name": "stdout",
     "output_type": "stream",
     "text": [
      "t statistic: 1.414\n",
      "p value: 0.080\n"
     ]
    }
   ],
   "source": [
    "print('t statistic: %.3f' % t)\n",
    "print('p value: %.3f' % p)"
   ]
  },
  {
   "cell_type": "markdown",
   "metadata": {},
   "source": [
    "Visualize difference between FRN and RewP models"
   ]
  },
  {
   "cell_type": "code",
   "execution_count": 65,
   "metadata": {
    "colab": {
     "base_uri": "https://localhost:8080/"
    },
    "executionInfo": {
     "elapsed": 4,
     "status": "ok",
     "timestamp": 1677516452928,
     "user": {
      "displayName": "Anna Grabowska",
      "userId": "15734344613010880864"
     },
     "user_tz": -60
    },
    "id": "824FRKiAweds",
    "outputId": "a8affbdc-2c93-462c-d952-df11bc0ff221"
   },
   "outputs": [],
   "source": [
    "%%capture\n",
    "\n",
    "cv = RepeatedStratifiedKFold(n_splits=10, n_repeats=10, random_state=random_state)\n",
    "\n",
    "cv_scores_1 = cross_val_score(dep_rewp_model, X_rewp, y, cv=cv, scoring='balanced_accuracy')\n",
    "cv_scores_2 = cross_val_score(dep_frn_model, X_frn, y, cv=cv,  scoring='balanced_accuracy')"
   ]
  },
  {
   "cell_type": "code",
   "execution_count": 66,
   "metadata": {},
   "outputs": [],
   "source": [
    "cv_results_df = pd.DataFrame({\n",
    "    \"RewP\": cv_scores_1,\n",
    "    \"FRN\": cv_scores_2,\n",
    "})"
   ]
  },
  {
   "cell_type": "code",
   "execution_count": 67,
   "metadata": {},
   "outputs": [
    {
     "data": {
      "image/png": "[encoded data removed]",
      "text/plain": [
       "<Figure size 432x288 with 1 Axes>"
      ]
     },
     "metadata": {
      "needs_background": "light"
     },
     "output_type": "display_data"
    }
   ],
   "source": [
    "fig = sns.histplot(data=cv_results_df, bins=9, kde=True)"
   ]
  },
  {
   "cell_type": "code",
   "execution_count": 68,
   "metadata": {
    "colab": {
     "base_uri": "https://localhost:8080/"
    },
    "executionInfo": {
     "elapsed": 4,
     "status": "ok",
     "timestamp": 1677516452928,
     "user": {
      "displayName": "Anna Grabowska",
      "userId": "15734344613010880864"
     },
     "user_tz": -60
    },
    "id": "824FRKiAweds",
    "outputId": "a8affbdc-2c93-462c-d952-df11bc0ff221"
   },
   "outputs": [],
   "source": [
    "%%capture\n",
    "\n",
    "cv = RepeatedStratifiedKFold(n_splits=10, n_repeats=10, random_state=random_state)\n",
    "\n",
    "cv_scores_1 = cross_val_score(dep_rewp_model, X_rewp, y, cv=cv, scoring='roc_auc')\n",
    "cv_scores_2 = cross_val_score(dep_frn_model, X_frn, y, cv=cv,  scoring='roc_auc')"
   ]
  },
  {
   "cell_type": "code",
   "execution_count": 69,
   "metadata": {},
   "outputs": [],
   "source": [
    "cv_results_df = pd.DataFrame({\n",
    "    \"RewP\": cv_scores_1,\n",
    "    \"FRN\": cv_scores_2,\n",
    "})"
   ]
  },
  {
   "cell_type": "code",
   "execution_count": 70,
   "metadata": {},
   "outputs": [
    {
     "data": {
      "image/png": "[encoded data removed]",
      "text/plain": [
       "<Figure size 432x288 with 1 Axes>"
      ]
     },
     "metadata": {
      "needs_background": "light"
     },
     "output_type": "display_data"
    }
   ],
   "source": [
    "fig = sns.histplot(data=cv_results_df, bins=9, kde=True)"
   ]
  },
  {
   "cell_type": "markdown",
   "metadata": {},
   "source": [
    "### Anxiety RewP vs FRN"
   ]
  },
  {
   "cell_type": "code",
   "execution_count": 578,
   "metadata": {},
   "outputs": [],
   "source": [
    "y = np.array(len(anx_epochs) * [1] +  len(ctrl_anx_epochs) * [0])"
   ]
  },
  {
   "cell_type": "code",
   "execution_count": 579,
   "metadata": {
    "id": "5xtHJW4tugMm"
   },
   "outputs": [],
   "source": [
    "tmin = 0.25\n",
    "tmax = 0.35\n",
    "\n",
    "anx_rewp_data = [epoch['good'].average().get_data(tmin=tmin, tmax=tmax,) for epoch in anx_epochs]\n",
    "ctrl_rewp_data = [epoch['good'].average().get_data(tmin=tmin, tmax=tmax,) for epoch in ctrl_anx_epochs]"
   ]
  },
  {
   "cell_type": "code",
   "execution_count": 580,
   "metadata": {
    "colab": {
     "background_save": true
    },
    "id": "MpZMrKhCsKGO",
    "tags": []
   },
   "outputs": [],
   "source": [
    "X_rewp = np.array(anx_rewp_data + ctrl_rewp_data)"
   ]
  },
  {
   "cell_type": "code",
   "execution_count": 581,
   "metadata": {
    "id": "vcTUfJ4x1oij"
   },
   "outputs": [],
   "source": [
    "tmin = 0.25\n",
    "tmax = 0.37\n",
    "\n",
    "anx_frn_data = [epoch['bad'].average().get_data(tmin=tmin, tmax=tmax,) for epoch in anx_epochs]\n",
    "ctrl_frn_data = [epoch['bad'].average().get_data(tmin=tmin, tmax=tmax,) for epoch in ctrl_anx_epochs]"
   ]
  },
  {
   "cell_type": "code",
   "execution_count": 582,
   "metadata": {
    "id": "1L-jv3Vx1oij"
   },
   "outputs": [],
   "source": [
    "X_frn = np.array(anx_frn_data + ctrl_frn_data)"
   ]
  },
  {
   "cell_type": "markdown",
   "metadata": {},
   "source": [
    "#### Plot differences between all Anxiety Models\n",
    "To see which RewP and FRN models are the best"
   ]
  },
  {
   "cell_type": "code",
   "execution_count": 583,
   "metadata": {
    "colab": {
     "base_uri": "https://localhost:8080/"
    },
    "executionInfo": {
     "elapsed": 4,
     "status": "ok",
     "timestamp": 1677516452928,
     "user": {
      "displayName": "Anna Grabowska",
      "userId": "15734344613010880864"
     },
     "user_tz": -60
    },
    "id": "824FRKiAweds",
    "outputId": "a8affbdc-2c93-462c-d952-df11bc0ff221"
   },
   "outputs": [],
   "source": [
    "%%capture\n",
    "\n",
    "cv = RepeatedStratifiedKFold(n_splits=10, n_repeats=10, random_state=random_state)\n",
    "\n",
    "cv_results_df = pd.DataFrame()\n",
    "\n",
    "for i in range(0,len(results_anx_rewp_df)):\n",
    "    cv_scores_rewp = cross_val_score(results_anx_rewp_df.iloc[i].best_model, X_rewp, y, cv=cv, scoring='balanced_accuracy')\n",
    "    cv_scores_frn = cross_val_score(results_anx_frn_df.iloc[i].best_model, X_frn, y, cv=cv,  scoring='balanced_accuracy')\n",
    "    \n",
    "    cv_results_df[\"RewP_\" + str(i)] = cv_scores_rewp\n",
    "    cv_results_df[\"FRN_\" + str(i)] = cv_scores_frn"
   ]
  },
  {
   "cell_type": "code",
   "execution_count": 584,
   "metadata": {
    "tags": []
   },
   "outputs": [
    {
     "data": {
      "text/html": [
       "<div>\n",
       "<style scoped>\n",
       "    .dataframe tbody tr th:only-of-type {\n",
       "        vertical-align: middle;\n",
       "    }\n",
       "\n",
       "    .dataframe tbody tr th {\n",
       "        vertical-align: top;\n",
       "    }\n",
       "\n",
       "    .dataframe thead th {\n",
       "        text-align: right;\n",
       "    }\n",
       "</style>\n",
       "<table border=\"1\" class=\"dataframe\">\n",
       "  <thead>\n",
       "    <tr style=\"text-align: right;\">\n",
       "      <th></th>\n",
       "      <th>RewP_0</th>\n",
       "      <th>FRN_0</th>\n",
       "      <th>RewP_1</th>\n",
       "      <th>FRN_1</th>\n",
       "      <th>RewP_2</th>\n",
       "      <th>FRN_2</th>\n",
       "    </tr>\n",
       "  </thead>\n",
       "  <tbody>\n",
       "    <tr>\n",
       "      <th>0</th>\n",
       "      <td>0.500000</td>\n",
       "      <td>0.833333</td>\n",
       "      <td>0.500000</td>\n",
       "      <td>0.666667</td>\n",
       "      <td>0.500000</td>\n",
       "      <td>0.666667</td>\n",
       "    </tr>\n",
       "    <tr>\n",
       "      <th>1</th>\n",
       "      <td>0.666667</td>\n",
       "      <td>0.500000</td>\n",
       "      <td>0.666667</td>\n",
       "      <td>0.833333</td>\n",
       "      <td>0.666667</td>\n",
       "      <td>0.500000</td>\n",
       "    </tr>\n",
       "    <tr>\n",
       "      <th>2</th>\n",
       "      <td>0.666667</td>\n",
       "      <td>0.500000</td>\n",
       "      <td>0.666667</td>\n",
       "      <td>0.666667</td>\n",
       "      <td>0.666667</td>\n",
       "      <td>0.500000</td>\n",
       "    </tr>\n",
       "    <tr>\n",
       "      <th>3</th>\n",
       "      <td>0.666667</td>\n",
       "      <td>0.666667</td>\n",
       "      <td>0.666667</td>\n",
       "      <td>0.666667</td>\n",
       "      <td>0.666667</td>\n",
       "      <td>0.666667</td>\n",
       "    </tr>\n",
       "    <tr>\n",
       "      <th>4</th>\n",
       "      <td>0.500000</td>\n",
       "      <td>0.500000</td>\n",
       "      <td>0.500000</td>\n",
       "      <td>0.666667</td>\n",
       "      <td>0.500000</td>\n",
       "      <td>0.500000</td>\n",
       "    </tr>\n",
       "    <tr>\n",
       "      <th>...</th>\n",
       "      <td>...</td>\n",
       "      <td>...</td>\n",
       "      <td>...</td>\n",
       "      <td>...</td>\n",
       "      <td>...</td>\n",
       "      <td>...</td>\n",
       "    </tr>\n",
       "    <tr>\n",
       "      <th>95</th>\n",
       "      <td>0.666667</td>\n",
       "      <td>0.666667</td>\n",
       "      <td>0.666667</td>\n",
       "      <td>0.666667</td>\n",
       "      <td>0.666667</td>\n",
       "      <td>0.500000</td>\n",
       "    </tr>\n",
       "    <tr>\n",
       "      <th>96</th>\n",
       "      <td>0.666667</td>\n",
       "      <td>0.333333</td>\n",
       "      <td>0.833333</td>\n",
       "      <td>0.666667</td>\n",
       "      <td>0.666667</td>\n",
       "      <td>0.333333</td>\n",
       "    </tr>\n",
       "    <tr>\n",
       "      <th>97</th>\n",
       "      <td>0.666667</td>\n",
       "      <td>0.666667</td>\n",
       "      <td>0.666667</td>\n",
       "      <td>0.500000</td>\n",
       "      <td>0.666667</td>\n",
       "      <td>0.666667</td>\n",
       "    </tr>\n",
       "    <tr>\n",
       "      <th>98</th>\n",
       "      <td>0.166667</td>\n",
       "      <td>0.750000</td>\n",
       "      <td>0.166667</td>\n",
       "      <td>1.000000</td>\n",
       "      <td>0.166667</td>\n",
       "      <td>0.750000</td>\n",
       "    </tr>\n",
       "    <tr>\n",
       "      <th>99</th>\n",
       "      <td>0.833333</td>\n",
       "      <td>0.750000</td>\n",
       "      <td>0.833333</td>\n",
       "      <td>0.583333</td>\n",
       "      <td>0.833333</td>\n",
       "      <td>0.750000</td>\n",
       "    </tr>\n",
       "  </tbody>\n",
       "</table>\n",
       "<p>100 rows × 6 columns</p>\n",
       "</div>"
      ],
      "text/plain": [
       "      RewP_0     FRN_0    RewP_1     FRN_1    RewP_2     FRN_2\n",
       "0   0.500000  0.833333  0.500000  0.666667  0.500000  0.666667\n",
       "1   0.666667  0.500000  0.666667  0.833333  0.666667  0.500000\n",
       "2   0.666667  0.500000  0.666667  0.666667  0.666667  0.500000\n",
       "3   0.666667  0.666667  0.666667  0.666667  0.666667  0.666667\n",
       "4   0.500000  0.500000  0.500000  0.666667  0.500000  0.500000\n",
       "..       ...       ...       ...       ...       ...       ...\n",
       "95  0.666667  0.666667  0.666667  0.666667  0.666667  0.500000\n",
       "96  0.666667  0.333333  0.833333  0.666667  0.666667  0.333333\n",
       "97  0.666667  0.666667  0.666667  0.500000  0.666667  0.666667\n",
       "98  0.166667  0.750000  0.166667  1.000000  0.166667  0.750000\n",
       "99  0.833333  0.750000  0.833333  0.583333  0.833333  0.750000\n",
       "\n",
       "[100 rows x 6 columns]"
      ]
     },
     "execution_count": 584,
     "metadata": {},
     "output_type": "execute_result"
    }
   ],
   "source": [
    "cv_results_df"
   ]
  },
  {
   "cell_type": "code",
   "execution_count": 585,
   "metadata": {},
   "outputs": [
    {
     "data": {
      "image/png": "[encoded data removed]",
      "text/plain": [
       "<Figure size 432x288 with 1 Axes>"
      ]
     },
     "metadata": {
      "needs_background": "light"
     },
     "output_type": "display_data"
    }
   ],
   "source": [
    "fig = sns.histplot(data=cv_results_df, bins=5, kde=True)"
   ]
  },
  {
   "cell_type": "markdown",
   "metadata": {},
   "source": [
    "#### Test differences between the best models"
   ]
  },
  {
   "cell_type": "markdown",
   "metadata": {},
   "source": [
    "Chose the best models"
   ]
  },
  {
   "cell_type": "code",
   "execution_count": 586,
   "metadata": {},
   "outputs": [
    {
     "data": {
      "text/html": [
       "<div>\n",
       "<style scoped>\n",
       "    .dataframe tbody tr th:only-of-type {\n",
       "        vertical-align: middle;\n",
       "    }\n",
       "\n",
       "    .dataframe tbody tr th {\n",
       "        vertical-align: top;\n",
       "    }\n",
       "\n",
       "    .dataframe thead th {\n",
       "        text-align: right;\n",
       "    }\n",
       "</style>\n",
       "<table border=\"1\" class=\"dataframe\">\n",
       "  <thead>\n",
       "    <tr style=\"text-align: right;\">\n",
       "      <th></th>\n",
       "      <th>model_name</th>\n",
       "      <th>pipeline_name</th>\n",
       "      <th>train score</th>\n",
       "      <th>mean_cv_score</th>\n",
       "      <th>best_model</th>\n",
       "      <th>parameters</th>\n",
       "      <th>pvalue</th>\n",
       "      <th>split0_test_roc_auc</th>\n",
       "      <th>split1_test_roc_auc</th>\n",
       "      <th>split2_test_roc_auc</th>\n",
       "      <th>mean_test_recall</th>\n",
       "      <th>mean_test_precision</th>\n",
       "      <th>mean_test_roc_auc</th>\n",
       "      <th>mean_test_balanced_accuracy</th>\n",
       "    </tr>\n",
       "  </thead>\n",
       "  <tbody>\n",
       "    <tr>\n",
       "      <th>0</th>\n",
       "      <td>lg</td>\n",
       "      <td>RewP_Anxiety_lg</td>\n",
       "      <td>0.879310</td>\n",
       "      <td>0.620370</td>\n",
       "      <td>(CSP({'component_order': 'mutual_info',\\n 'cov...</td>\n",
       "      <td>{'csp__n_components': 1, 'csp__reg': 0.001}</td>\n",
       "      <td>0.028971</td>\n",
       "      <td>0.56</td>\n",
       "      <td>0.544444</td>\n",
       "      <td>0.722222</td>\n",
       "      <td>0.825926</td>\n",
       "      <td>0.603216</td>\n",
       "      <td>0.608889</td>\n",
       "      <td>0.620370</td>\n",
       "    </tr>\n",
       "    <tr>\n",
       "      <th>0</th>\n",
       "      <td>svc</td>\n",
       "      <td>RewP_Anxiety_svc</td>\n",
       "      <td>0.896552</td>\n",
       "      <td>0.635185</td>\n",
       "      <td>(CSP({'component_order': 'mutual_info',\\n 'cov...</td>\n",
       "      <td>{'csp__n_components': 1, 'csp__reg': 0.001, 's...</td>\n",
       "      <td>0.008991</td>\n",
       "      <td>0.52</td>\n",
       "      <td>0.633333</td>\n",
       "      <td>0.711111</td>\n",
       "      <td>0.892593</td>\n",
       "      <td>0.608772</td>\n",
       "      <td>0.621481</td>\n",
       "      <td>0.635185</td>\n",
       "    </tr>\n",
       "    <tr>\n",
       "      <th>0</th>\n",
       "      <td>lda</td>\n",
       "      <td>RewP_Anxiety_lda</td>\n",
       "      <td>0.896552</td>\n",
       "      <td>0.620370</td>\n",
       "      <td>(CSP({'component_order': 'mutual_info',\\n 'cov...</td>\n",
       "      <td>{'csp__n_components': 1, 'csp__reg': 0.001, 'l...</td>\n",
       "      <td>0.025974</td>\n",
       "      <td>0.56</td>\n",
       "      <td>0.544444</td>\n",
       "      <td>0.722222</td>\n",
       "      <td>0.825926</td>\n",
       "      <td>0.603216</td>\n",
       "      <td>0.608889</td>\n",
       "      <td>0.620370</td>\n",
       "    </tr>\n",
       "  </tbody>\n",
       "</table>\n",
       "</div>"
      ],
      "text/plain": [
       "  model_name     pipeline_name  train score  mean_cv_score  \\\n",
       "0         lg   RewP_Anxiety_lg     0.879310       0.620370   \n",
       "0        svc  RewP_Anxiety_svc     0.896552       0.635185   \n",
       "0        lda  RewP_Anxiety_lda     0.896552       0.620370   \n",
       "\n",
       "                                          best_model  \\\n",
       "0  (CSP({'component_order': 'mutual_info',\\n 'cov...   \n",
       "0  (CSP({'component_order': 'mutual_info',\\n 'cov...   \n",
       "0  (CSP({'component_order': 'mutual_info',\\n 'cov...   \n",
       "\n",
       "                                          parameters    pvalue  \\\n",
       "0        {'csp__n_components': 1, 'csp__reg': 0.001}  0.028971   \n",
       "0  {'csp__n_components': 1, 'csp__reg': 0.001, 's...  0.008991   \n",
       "0  {'csp__n_components': 1, 'csp__reg': 0.001, 'l...  0.025974   \n",
       "\n",
       "   split0_test_roc_auc  split1_test_roc_auc  split2_test_roc_auc  \\\n",
       "0                 0.56             0.544444             0.722222   \n",
       "0                 0.52             0.633333             0.711111   \n",
       "0                 0.56             0.544444             0.722222   \n",
       "\n",
       "   mean_test_recall  mean_test_precision  mean_test_roc_auc  \\\n",
       "0          0.825926             0.603216           0.608889   \n",
       "0          0.892593             0.608772           0.621481   \n",
       "0          0.825926             0.603216           0.608889   \n",
       "\n",
       "   mean_test_balanced_accuracy  \n",
       "0                     0.620370  \n",
       "0                     0.635185  \n",
       "0                     0.620370  "
      ]
     },
     "execution_count": 586,
     "metadata": {},
     "output_type": "execute_result"
    }
   ],
   "source": [
    "results_anx_rewp_df"
   ]
  },
  {
   "cell_type": "code",
   "execution_count": 587,
   "metadata": {},
   "outputs": [
    {
     "data": {
      "text/html": [
       "<div>\n",
       "<style scoped>\n",
       "    .dataframe tbody tr th:only-of-type {\n",
       "        vertical-align: middle;\n",
       "    }\n",
       "\n",
       "    .dataframe tbody tr th {\n",
       "        vertical-align: top;\n",
       "    }\n",
       "\n",
       "    .dataframe thead th {\n",
       "        text-align: right;\n",
       "    }\n",
       "</style>\n",
       "<table border=\"1\" class=\"dataframe\">\n",
       "  <thead>\n",
       "    <tr style=\"text-align: right;\">\n",
       "      <th></th>\n",
       "      <th>model_name</th>\n",
       "      <th>pipeline_name</th>\n",
       "      <th>train score</th>\n",
       "      <th>mean_cv_score</th>\n",
       "      <th>best_model</th>\n",
       "      <th>parameters</th>\n",
       "      <th>pvalue</th>\n",
       "      <th>split0_test_roc_auc</th>\n",
       "      <th>split1_test_roc_auc</th>\n",
       "      <th>split2_test_roc_auc</th>\n",
       "      <th>mean_test_recall</th>\n",
       "      <th>mean_test_precision</th>\n",
       "      <th>mean_test_roc_auc</th>\n",
       "      <th>mean_test_balanced_accuracy</th>\n",
       "    </tr>\n",
       "  </thead>\n",
       "  <tbody>\n",
       "    <tr>\n",
       "      <th>0</th>\n",
       "      <td>lg</td>\n",
       "      <td>FRN_Anxiety_lg</td>\n",
       "      <td>0.810345</td>\n",
       "      <td>0.618519</td>\n",
       "      <td>(CSP({'component_order': 'mutual_info',\\n 'cov...</td>\n",
       "      <td>{'csp__n_components': 2, 'csp__reg': 0.1}</td>\n",
       "      <td>0.051948</td>\n",
       "      <td>0.70</td>\n",
       "      <td>0.711111</td>\n",
       "      <td>0.522222</td>\n",
       "      <td>0.688889</td>\n",
       "      <td>0.609169</td>\n",
       "      <td>0.644444</td>\n",
       "      <td>0.618519</td>\n",
       "    </tr>\n",
       "    <tr>\n",
       "      <th>0</th>\n",
       "      <td>svc</td>\n",
       "      <td>FRN_Anxiety_svc</td>\n",
       "      <td>0.913793</td>\n",
       "      <td>0.659259</td>\n",
       "      <td>(CSP({'component_order': 'mutual_info',\\n 'cov...</td>\n",
       "      <td>{'csp__n_components': 4, 'csp__reg': 0.1, 'svc...</td>\n",
       "      <td>0.012987</td>\n",
       "      <td>0.54</td>\n",
       "      <td>0.777778</td>\n",
       "      <td>0.655556</td>\n",
       "      <td>0.792593</td>\n",
       "      <td>0.636630</td>\n",
       "      <td>0.657778</td>\n",
       "      <td>0.659259</td>\n",
       "    </tr>\n",
       "    <tr>\n",
       "      <th>0</th>\n",
       "      <td>lda</td>\n",
       "      <td>FRN_Anxiety_lda</td>\n",
       "      <td>0.844828</td>\n",
       "      <td>0.618519</td>\n",
       "      <td>(CSP({'component_order': 'mutual_info',\\n 'cov...</td>\n",
       "      <td>{'csp__n_components': 2, 'csp__reg': 0.1, 'lda...</td>\n",
       "      <td>0.056943</td>\n",
       "      <td>0.70</td>\n",
       "      <td>0.633333</td>\n",
       "      <td>0.544444</td>\n",
       "      <td>0.688889</td>\n",
       "      <td>0.609596</td>\n",
       "      <td>0.625926</td>\n",
       "      <td>0.618519</td>\n",
       "    </tr>\n",
       "  </tbody>\n",
       "</table>\n",
       "</div>"
      ],
      "text/plain": [
       "  model_name    pipeline_name  train score  mean_cv_score  \\\n",
       "0         lg   FRN_Anxiety_lg     0.810345       0.618519   \n",
       "0        svc  FRN_Anxiety_svc     0.913793       0.659259   \n",
       "0        lda  FRN_Anxiety_lda     0.844828       0.618519   \n",
       "\n",
       "                                          best_model  \\\n",
       "0  (CSP({'component_order': 'mutual_info',\\n 'cov...   \n",
       "0  (CSP({'component_order': 'mutual_info',\\n 'cov...   \n",
       "0  (CSP({'component_order': 'mutual_info',\\n 'cov...   \n",
       "\n",
       "                                          parameters    pvalue  \\\n",
       "0          {'csp__n_components': 2, 'csp__reg': 0.1}  0.051948   \n",
       "0  {'csp__n_components': 4, 'csp__reg': 0.1, 'svc...  0.012987   \n",
       "0  {'csp__n_components': 2, 'csp__reg': 0.1, 'lda...  0.056943   \n",
       "\n",
       "   split0_test_roc_auc  split1_test_roc_auc  split2_test_roc_auc  \\\n",
       "0                 0.70             0.711111             0.522222   \n",
       "0                 0.54             0.777778             0.655556   \n",
       "0                 0.70             0.633333             0.544444   \n",
       "\n",
       "   mean_test_recall  mean_test_precision  mean_test_roc_auc  \\\n",
       "0          0.688889             0.609169           0.644444   \n",
       "0          0.792593             0.636630           0.657778   \n",
       "0          0.688889             0.609596           0.625926   \n",
       "\n",
       "   mean_test_balanced_accuracy  \n",
       "0                     0.618519  \n",
       "0                     0.659259  \n",
       "0                     0.618519  "
      ]
     },
     "execution_count": 587,
     "metadata": {},
     "output_type": "execute_result"
    }
   ],
   "source": [
    "results_anx_frn_df"
   ]
  },
  {
   "cell_type": "code",
   "execution_count": 588,
   "metadata": {},
   "outputs": [
    {
     "data": {
      "text/html": [
       "<style>#sk-container-id-20 {color: black;background-color: white;}#sk-container-id-20 pre{padding: 0;}#sk-container-id-20 div.sk-toggleable {background-color: white;}#sk-container-id-20 label.sk-toggleable__label {cursor: pointer;display: block;width: 100%;margin-bottom: 0;padding: 0.3em;box-sizing: border-box;text-align: center;}#sk-container-id-20 label.sk-toggleable__label-arrow:before {content: \"▸\";float: left;margin-right: 0.25em;color: #696969;}#sk-container-id-20 label.sk-toggleable__label-arrow:hover:before {color: black;}#sk-container-id-20 div.sk-estimator:hover label.sk-toggleable__label-arrow:before {color: black;}#sk-container-id-20 div.sk-toggleable__content {max-height: 0;max-width: 0;overflow: hidden;text-align: left;background-color: #f0f8ff;}#sk-container-id-20 div.sk-toggleable__content pre {margin: 0.2em;color: black;border-radius: 0.25em;background-color: #f0f8ff;}#sk-container-id-20 input.sk-toggleable__control:checked~div.sk-toggleable__content {max-height: 200px;max-width: 100%;overflow: auto;}#sk-container-id-20 input.sk-toggleable__control:checked~label.sk-toggleable__label-arrow:before {content: \"▾\";}#sk-container-id-20 div.sk-estimator input.sk-toggleable__control:checked~label.sk-toggleable__label {background-color: #d4ebff;}#sk-container-id-20 div.sk-label input.sk-toggleable__control:checked~label.sk-toggleable__label {background-color: #d4ebff;}#sk-container-id-20 input.sk-hidden--visually {border: 0;clip: rect(1px 1px 1px 1px);clip: rect(1px, 1px, 1px, 1px);height: 1px;margin: -1px;overflow: hidden;padding: 0;position: absolute;width: 1px;}#sk-container-id-20 div.sk-estimator {font-family: monospace;background-color: #f0f8ff;border: 1px dotted black;border-radius: 0.25em;box-sizing: border-box;margin-bottom: 0.5em;}#sk-container-id-20 div.sk-estimator:hover {background-color: #d4ebff;}#sk-container-id-20 div.sk-parallel-item::after {content: \"\";width: 100%;border-bottom: 1px solid gray;flex-grow: 1;}#sk-container-id-20 div.sk-label:hover label.sk-toggleable__label {background-color: #d4ebff;}#sk-container-id-20 div.sk-serial::before {content: \"\";position: absolute;border-left: 1px solid gray;box-sizing: border-box;top: 0;bottom: 0;left: 50%;z-index: 0;}#sk-container-id-20 div.sk-serial {display: flex;flex-direction: column;align-items: center;background-color: white;padding-right: 0.2em;padding-left: 0.2em;position: relative;}#sk-container-id-20 div.sk-item {position: relative;z-index: 1;}#sk-container-id-20 div.sk-parallel {display: flex;align-items: stretch;justify-content: center;background-color: white;position: relative;}#sk-container-id-20 div.sk-item::before, #sk-container-id-20 div.sk-parallel-item::before {content: \"\";position: absolute;border-left: 1px solid gray;box-sizing: border-box;top: 0;bottom: 0;left: 50%;z-index: -1;}#sk-container-id-20 div.sk-parallel-item {display: flex;flex-direction: column;z-index: 1;position: relative;background-color: white;}#sk-container-id-20 div.sk-parallel-item:first-child::after {align-self: flex-end;width: 50%;}#sk-container-id-20 div.sk-parallel-item:last-child::after {align-self: flex-start;width: 50%;}#sk-container-id-20 div.sk-parallel-item:only-child::after {width: 0;}#sk-container-id-20 div.sk-dashed-wrapped {border: 1px dashed gray;margin: 0 0.4em 0.5em 0.4em;box-sizing: border-box;padding-bottom: 0.4em;background-color: white;}#sk-container-id-20 div.sk-label label {font-family: monospace;font-weight: bold;display: inline-block;line-height: 1.2em;}#sk-container-id-20 div.sk-label-container {text-align: center;}#sk-container-id-20 div.sk-container {/* jupyter's `normalize.less` sets `[hidden] { display: none; }` but bootstrap.min.css set `[hidden] { display: none !important; }` so we also need the `!important` here to be able to override the default hidden behavior on the sphinx rendered scikit-learn.org. See: https://github.com/scikit-learn/scikit-learn/issues/21755 */display: inline-block !important;position: relative;}#sk-container-id-20 div.sk-text-repr-fallback {display: none;}</style><div id=\"sk-container-id-20\" class=\"sk-top-container\"><div class=\"sk-text-repr-fallback\"><pre>Pipeline(steps=[(&#x27;csp&#x27;,\n",
       "                 CSP({&#x27;component_order&#x27;: &#x27;mutual_info&#x27;,\n",
       " &#x27;cov_est&#x27;: &#x27;concat&#x27;,\n",
       " &#x27;cov_method_params&#x27;: None,\n",
       " &#x27;log&#x27;: None,\n",
       " &#x27;n_components&#x27;: 1,\n",
       " &#x27;norm_trace&#x27;: False,\n",
       " &#x27;rank&#x27;: None,\n",
       " &#x27;reg&#x27;: 0.001,\n",
       " &#x27;transform_into&#x27;: &#x27;average_power&#x27;})),\n",
       "                (&#x27;vec&#x27;,\n",
       "                 &lt;mne.decoding.transformer.Vectorizer object at 0x7fe9802fef40&gt;),\n",
       "                (&#x27;lda&#x27;,\n",
       "                 LinearDiscriminantAnalysis(shrinkage=&#x27;auto&#x27;, solver=&#x27;lsqr&#x27;))])</pre><b>In a Jupyter environment, please rerun this cell to show the HTML representation or trust the notebook. <br />On GitHub, the HTML representation is unable to render, please try loading this page with nbviewer.org.</b></div><div class=\"sk-container\" hidden><div class=\"sk-item sk-dashed-wrapped\"><div class=\"sk-label-container\"><div class=\"sk-label sk-toggleable\"><input class=\"sk-toggleable__control sk-hidden--visually\" id=\"sk-estimator-id-77\" type=\"checkbox\" ><label for=\"sk-estimator-id-77\" class=\"sk-toggleable__label sk-toggleable__label-arrow\">Pipeline</label><div class=\"sk-toggleable__content\"><pre>Pipeline(steps=[(&#x27;csp&#x27;,\n",
       "                 CSP({&#x27;component_order&#x27;: &#x27;mutual_info&#x27;,\n",
       " &#x27;cov_est&#x27;: &#x27;concat&#x27;,\n",
       " &#x27;cov_method_params&#x27;: None,\n",
       " &#x27;log&#x27;: None,\n",
       " &#x27;n_components&#x27;: 1,\n",
       " &#x27;norm_trace&#x27;: False,\n",
       " &#x27;rank&#x27;: None,\n",
       " &#x27;reg&#x27;: 0.001,\n",
       " &#x27;transform_into&#x27;: &#x27;average_power&#x27;})),\n",
       "                (&#x27;vec&#x27;,\n",
       "                 &lt;mne.decoding.transformer.Vectorizer object at 0x7fe9802fef40&gt;),\n",
       "                (&#x27;lda&#x27;,\n",
       "                 LinearDiscriminantAnalysis(shrinkage=&#x27;auto&#x27;, solver=&#x27;lsqr&#x27;))])</pre></div></div></div><div class=\"sk-serial\"><div class=\"sk-item\"><div class=\"sk-estimator sk-toggleable\"><input class=\"sk-toggleable__control sk-hidden--visually\" id=\"sk-estimator-id-78\" type=\"checkbox\" ><label for=\"sk-estimator-id-78\" class=\"sk-toggleable__label sk-toggleable__label-arrow\">CSP</label><div class=\"sk-toggleable__content\"><pre>CSP({&#x27;component_order&#x27;: &#x27;mutual_info&#x27;,\n",
       " &#x27;cov_est&#x27;: &#x27;concat&#x27;,\n",
       " &#x27;cov_method_params&#x27;: None,\n",
       " &#x27;log&#x27;: None,\n",
       " &#x27;n_components&#x27;: 1,\n",
       " &#x27;norm_trace&#x27;: False,\n",
       " &#x27;rank&#x27;: None,\n",
       " &#x27;reg&#x27;: 0.001,\n",
       " &#x27;transform_into&#x27;: &#x27;average_power&#x27;})</pre></div></div></div><div class=\"sk-item\"><div class=\"sk-estimator sk-toggleable\"><input class=\"sk-toggleable__control sk-hidden--visually\" id=\"sk-estimator-id-79\" type=\"checkbox\" ><label for=\"sk-estimator-id-79\" class=\"sk-toggleable__label sk-toggleable__label-arrow\">Vectorizer</label><div class=\"sk-toggleable__content\"><pre>&lt;mne.decoding.transformer.Vectorizer object at 0x7fe9802fef40&gt;</pre></div></div></div><div class=\"sk-item\"><div class=\"sk-estimator sk-toggleable\"><input class=\"sk-toggleable__control sk-hidden--visually\" id=\"sk-estimator-id-80\" type=\"checkbox\" ><label for=\"sk-estimator-id-80\" class=\"sk-toggleable__label sk-toggleable__label-arrow\">LinearDiscriminantAnalysis</label><div class=\"sk-toggleable__content\"><pre>LinearDiscriminantAnalysis(shrinkage=&#x27;auto&#x27;, solver=&#x27;lsqr&#x27;)</pre></div></div></div></div></div></div></div>"
      ],
      "text/plain": [
       "Pipeline(steps=[('csp',\n",
       "                 CSP({'component_order': 'mutual_info',\n",
       " 'cov_est': 'concat',\n",
       " 'cov_method_params': None,\n",
       " 'log': None,\n",
       " 'n_components': 1,\n",
       " 'norm_trace': False,\n",
       " 'rank': None,\n",
       " 'reg': 0.001,\n",
       " 'transform_into': 'average_power'})),\n",
       "                ('vec',\n",
       "                 <mne.decoding.transformer.Vectorizer object at 0x7fe9802fef40>),\n",
       "                ('lda',\n",
       "                 LinearDiscriminantAnalysis(shrinkage='auto', solver='lsqr'))])"
      ]
     },
     "execution_count": 588,
     "metadata": {},
     "output_type": "execute_result"
    }
   ],
   "source": [
    "anx_rewp_model = results_anx_rewp_df.iloc[2].best_model\n",
    "anx_rewp_model"
   ]
  },
  {
   "cell_type": "code",
   "execution_count": 589,
   "metadata": {},
   "outputs": [
    {
     "data": {
      "text/html": [
       "<style>#sk-container-id-21 {color: black;background-color: white;}#sk-container-id-21 pre{padding: 0;}#sk-container-id-21 div.sk-toggleable {background-color: white;}#sk-container-id-21 label.sk-toggleable__label {cursor: pointer;display: block;width: 100%;margin-bottom: 0;padding: 0.3em;box-sizing: border-box;text-align: center;}#sk-container-id-21 label.sk-toggleable__label-arrow:before {content: \"▸\";float: left;margin-right: 0.25em;color: #696969;}#sk-container-id-21 label.sk-toggleable__label-arrow:hover:before {color: black;}#sk-container-id-21 div.sk-estimator:hover label.sk-toggleable__label-arrow:before {color: black;}#sk-container-id-21 div.sk-toggleable__content {max-height: 0;max-width: 0;overflow: hidden;text-align: left;background-color: #f0f8ff;}#sk-container-id-21 div.sk-toggleable__content pre {margin: 0.2em;color: black;border-radius: 0.25em;background-color: #f0f8ff;}#sk-container-id-21 input.sk-toggleable__control:checked~div.sk-toggleable__content {max-height: 200px;max-width: 100%;overflow: auto;}#sk-container-id-21 input.sk-toggleable__control:checked~label.sk-toggleable__label-arrow:before {content: \"▾\";}#sk-container-id-21 div.sk-estimator input.sk-toggleable__control:checked~label.sk-toggleable__label {background-color: #d4ebff;}#sk-container-id-21 div.sk-label input.sk-toggleable__control:checked~label.sk-toggleable__label {background-color: #d4ebff;}#sk-container-id-21 input.sk-hidden--visually {border: 0;clip: rect(1px 1px 1px 1px);clip: rect(1px, 1px, 1px, 1px);height: 1px;margin: -1px;overflow: hidden;padding: 0;position: absolute;width: 1px;}#sk-container-id-21 div.sk-estimator {font-family: monospace;background-color: #f0f8ff;border: 1px dotted black;border-radius: 0.25em;box-sizing: border-box;margin-bottom: 0.5em;}#sk-container-id-21 div.sk-estimator:hover {background-color: #d4ebff;}#sk-container-id-21 div.sk-parallel-item::after {content: \"\";width: 100%;border-bottom: 1px solid gray;flex-grow: 1;}#sk-container-id-21 div.sk-label:hover label.sk-toggleable__label {background-color: #d4ebff;}#sk-container-id-21 div.sk-serial::before {content: \"\";position: absolute;border-left: 1px solid gray;box-sizing: border-box;top: 0;bottom: 0;left: 50%;z-index: 0;}#sk-container-id-21 div.sk-serial {display: flex;flex-direction: column;align-items: center;background-color: white;padding-right: 0.2em;padding-left: 0.2em;position: relative;}#sk-container-id-21 div.sk-item {position: relative;z-index: 1;}#sk-container-id-21 div.sk-parallel {display: flex;align-items: stretch;justify-content: center;background-color: white;position: relative;}#sk-container-id-21 div.sk-item::before, #sk-container-id-21 div.sk-parallel-item::before {content: \"\";position: absolute;border-left: 1px solid gray;box-sizing: border-box;top: 0;bottom: 0;left: 50%;z-index: -1;}#sk-container-id-21 div.sk-parallel-item {display: flex;flex-direction: column;z-index: 1;position: relative;background-color: white;}#sk-container-id-21 div.sk-parallel-item:first-child::after {align-self: flex-end;width: 50%;}#sk-container-id-21 div.sk-parallel-item:last-child::after {align-self: flex-start;width: 50%;}#sk-container-id-21 div.sk-parallel-item:only-child::after {width: 0;}#sk-container-id-21 div.sk-dashed-wrapped {border: 1px dashed gray;margin: 0 0.4em 0.5em 0.4em;box-sizing: border-box;padding-bottom: 0.4em;background-color: white;}#sk-container-id-21 div.sk-label label {font-family: monospace;font-weight: bold;display: inline-block;line-height: 1.2em;}#sk-container-id-21 div.sk-label-container {text-align: center;}#sk-container-id-21 div.sk-container {/* jupyter's `normalize.less` sets `[hidden] { display: none; }` but bootstrap.min.css set `[hidden] { display: none !important; }` so we also need the `!important` here to be able to override the default hidden behavior on the sphinx rendered scikit-learn.org. See: https://github.com/scikit-learn/scikit-learn/issues/21755 */display: inline-block !important;position: relative;}#sk-container-id-21 div.sk-text-repr-fallback {display: none;}</style><div id=\"sk-container-id-21\" class=\"sk-top-container\"><div class=\"sk-text-repr-fallback\"><pre>Pipeline(steps=[(&#x27;csp&#x27;,\n",
       "                 CSP({&#x27;component_order&#x27;: &#x27;mutual_info&#x27;,\n",
       " &#x27;cov_est&#x27;: &#x27;concat&#x27;,\n",
       " &#x27;cov_method_params&#x27;: None,\n",
       " &#x27;log&#x27;: None,\n",
       " &#x27;n_components&#x27;: 4,\n",
       " &#x27;norm_trace&#x27;: False,\n",
       " &#x27;rank&#x27;: None,\n",
       " &#x27;reg&#x27;: 0.1,\n",
       " &#x27;transform_into&#x27;: &#x27;average_power&#x27;})),\n",
       "                (&#x27;vec&#x27;,\n",
       "                 &lt;mne.decoding.transformer.Vectorizer object at 0x7fe98ecec6d0&gt;),\n",
       "                (&#x27;svc&#x27;, SVC(C=1))])</pre><b>In a Jupyter environment, please rerun this cell to show the HTML representation or trust the notebook. <br />On GitHub, the HTML representation is unable to render, please try loading this page with nbviewer.org.</b></div><div class=\"sk-container\" hidden><div class=\"sk-item sk-dashed-wrapped\"><div class=\"sk-label-container\"><div class=\"sk-label sk-toggleable\"><input class=\"sk-toggleable__control sk-hidden--visually\" id=\"sk-estimator-id-81\" type=\"checkbox\" ><label for=\"sk-estimator-id-81\" class=\"sk-toggleable__label sk-toggleable__label-arrow\">Pipeline</label><div class=\"sk-toggleable__content\"><pre>Pipeline(steps=[(&#x27;csp&#x27;,\n",
       "                 CSP({&#x27;component_order&#x27;: &#x27;mutual_info&#x27;,\n",
       " &#x27;cov_est&#x27;: &#x27;concat&#x27;,\n",
       " &#x27;cov_method_params&#x27;: None,\n",
       " &#x27;log&#x27;: None,\n",
       " &#x27;n_components&#x27;: 4,\n",
       " &#x27;norm_trace&#x27;: False,\n",
       " &#x27;rank&#x27;: None,\n",
       " &#x27;reg&#x27;: 0.1,\n",
       " &#x27;transform_into&#x27;: &#x27;average_power&#x27;})),\n",
       "                (&#x27;vec&#x27;,\n",
       "                 &lt;mne.decoding.transformer.Vectorizer object at 0x7fe98ecec6d0&gt;),\n",
       "                (&#x27;svc&#x27;, SVC(C=1))])</pre></div></div></div><div class=\"sk-serial\"><div class=\"sk-item\"><div class=\"sk-estimator sk-toggleable\"><input class=\"sk-toggleable__control sk-hidden--visually\" id=\"sk-estimator-id-82\" type=\"checkbox\" ><label for=\"sk-estimator-id-82\" class=\"sk-toggleable__label sk-toggleable__label-arrow\">CSP</label><div class=\"sk-toggleable__content\"><pre>CSP({&#x27;component_order&#x27;: &#x27;mutual_info&#x27;,\n",
       " &#x27;cov_est&#x27;: &#x27;concat&#x27;,\n",
       " &#x27;cov_method_params&#x27;: None,\n",
       " &#x27;log&#x27;: None,\n",
       " &#x27;n_components&#x27;: 4,\n",
       " &#x27;norm_trace&#x27;: False,\n",
       " &#x27;rank&#x27;: None,\n",
       " &#x27;reg&#x27;: 0.1,\n",
       " &#x27;transform_into&#x27;: &#x27;average_power&#x27;})</pre></div></div></div><div class=\"sk-item\"><div class=\"sk-estimator sk-toggleable\"><input class=\"sk-toggleable__control sk-hidden--visually\" id=\"sk-estimator-id-83\" type=\"checkbox\" ><label for=\"sk-estimator-id-83\" class=\"sk-toggleable__label sk-toggleable__label-arrow\">Vectorizer</label><div class=\"sk-toggleable__content\"><pre>&lt;mne.decoding.transformer.Vectorizer object at 0x7fe98ecec6d0&gt;</pre></div></div></div><div class=\"sk-item\"><div class=\"sk-estimator sk-toggleable\"><input class=\"sk-toggleable__control sk-hidden--visually\" id=\"sk-estimator-id-84\" type=\"checkbox\" ><label for=\"sk-estimator-id-84\" class=\"sk-toggleable__label sk-toggleable__label-arrow\">SVC</label><div class=\"sk-toggleable__content\"><pre>SVC(C=1)</pre></div></div></div></div></div></div></div>"
      ],
      "text/plain": [
       "Pipeline(steps=[('csp',\n",
       "                 CSP({'component_order': 'mutual_info',\n",
       " 'cov_est': 'concat',\n",
       " 'cov_method_params': None,\n",
       " 'log': None,\n",
       " 'n_components': 4,\n",
       " 'norm_trace': False,\n",
       " 'rank': None,\n",
       " 'reg': 0.1,\n",
       " 'transform_into': 'average_power'})),\n",
       "                ('vec',\n",
       "                 <mne.decoding.transformer.Vectorizer object at 0x7fe98ecec6d0>),\n",
       "                ('svc', SVC(C=1))])"
      ]
     },
     "execution_count": 589,
     "metadata": {},
     "output_type": "execute_result"
    }
   ],
   "source": [
    "anx_frn_model = results_anx_frn_df.iloc[1].best_model\n",
    "anx_frn_model"
   ]
  },
  {
   "cell_type": "markdown",
   "metadata": {},
   "source": [
    "- Balanced Accuracy"
   ]
  },
  {
   "cell_type": "code",
   "execution_count": 590,
   "metadata": {},
   "outputs": [],
   "source": [
    "%%capture\n",
    "\n",
    "t, p = paired_ttest_nandeu(\n",
    "    estimator1=anx_rewp_model,\n",
    "    estimator2=anx_frn_model,\n",
    "    X_1=X_rewp,\n",
    "    X_2=X_frn, \n",
    "    y=y,\n",
    "    random_state=random_state,\n",
    "    scoring='balanced_accuracy'\n",
    ")"
   ]
  },
  {
   "cell_type": "code",
   "execution_count": 591,
   "metadata": {},
   "outputs": [
    {
     "name": "stdout",
     "output_type": "stream",
     "text": [
      "t statistic: -0.632\n",
      "p value: 0.265\n"
     ]
    }
   ],
   "source": [
    "print('t statistic: %.3f' % t)\n",
    "print('p value: %.3f' % p)"
   ]
  },
  {
   "cell_type": "markdown",
   "metadata": {},
   "source": [
    "- Roc AUC"
   ]
  },
  {
   "cell_type": "code",
   "execution_count": 598,
   "metadata": {},
   "outputs": [],
   "source": [
    "%%capture\n",
    "\n",
    "t, p = paired_ttest_nandeu(\n",
    "    estimator1=anx_rewp_model,\n",
    "    estimator2=anx_frn_model,\n",
    "    X_1=X_rewp,\n",
    "    X_2=X_frn, \n",
    "    y=y,\n",
    "    random_state=random_state,\n",
    "    scoring='roc_auc'\n",
    ")"
   ]
  },
  {
   "cell_type": "code",
   "execution_count": 599,
   "metadata": {},
   "outputs": [
    {
     "name": "stdout",
     "output_type": "stream",
     "text": [
      "t statistic: -0.873\n",
      "p value: 0.192\n"
     ]
    }
   ],
   "source": [
    "print('t statistic: %.3f' % t)\n",
    "print('p value: %.3f' % p)"
   ]
  },
  {
   "cell_type": "markdown",
   "metadata": {},
   "source": [
    "- precision"
   ]
  },
  {
   "cell_type": "code",
   "execution_count": 600,
   "metadata": {},
   "outputs": [],
   "source": [
    "%%capture\n",
    "\n",
    "t, p = paired_ttest_nandeu(\n",
    "    estimator1=anx_rewp_model,\n",
    "    estimator2=anx_frn_model,\n",
    "    X_1=X_rewp,\n",
    "    X_2=X_frn, \n",
    "    y=y,\n",
    "    random_state=random_state,\n",
    "    scoring='precision'\n",
    ")"
   ]
  },
  {
   "cell_type": "code",
   "execution_count": 601,
   "metadata": {},
   "outputs": [
    {
     "name": "stdout",
     "output_type": "stream",
     "text": [
      "t statistic: -0.691\n",
      "p value: 0.246\n"
     ]
    }
   ],
   "source": [
    "print('t statistic: %.3f' % t)\n",
    "print('p value: %.3f' % p)"
   ]
  },
  {
   "cell_type": "markdown",
   "metadata": {},
   "source": [
    "- recall"
   ]
  },
  {
   "cell_type": "code",
   "execution_count": 602,
   "metadata": {},
   "outputs": [],
   "source": [
    "%%capture\n",
    "\n",
    "t, p = paired_ttest_nandeu(\n",
    "    estimator1=anx_rewp_model,\n",
    "    estimator2=anx_frn_model,\n",
    "    X_1=X_rewp,\n",
    "    X_2=X_frn, \n",
    "    y=y,\n",
    "    random_state=random_state,\n",
    "    scoring='recall'\n",
    ")"
   ]
  },
  {
   "cell_type": "code",
   "execution_count": 603,
   "metadata": {},
   "outputs": [
    {
     "name": "stdout",
     "output_type": "stream",
     "text": [
      "t statistic: 0.693\n",
      "p value: 0.245\n"
     ]
    }
   ],
   "source": [
    "print('t statistic: %.3f' % t)\n",
    "print('p value: %.3f' % p)"
   ]
  },
  {
   "cell_type": "markdown",
   "metadata": {},
   "source": [
    "- F1"
   ]
  },
  {
   "cell_type": "code",
   "execution_count": 604,
   "metadata": {},
   "outputs": [],
   "source": [
    "%%capture\n",
    "\n",
    "t, p = paired_ttest_nandeu(\n",
    "    estimator1=anx_rewp_model,\n",
    "    estimator2=anx_frn_model,\n",
    "    X_1=X_rewp,\n",
    "    X_2=X_frn, \n",
    "    y=y,\n",
    "    random_state=random_state,\n",
    "    scoring='f1'\n",
    ")"
   ]
  },
  {
   "cell_type": "code",
   "execution_count": 605,
   "metadata": {},
   "outputs": [
    {
     "name": "stdout",
     "output_type": "stream",
     "text": [
      "t statistic: 0.101\n",
      "p value: 0.460\n"
     ]
    }
   ],
   "source": [
    "print('t statistic: %.3f' % t)\n",
    "print('p value: %.3f' % p)"
   ]
  },
  {
   "cell_type": "markdown",
   "metadata": {},
   "source": [
    "Visualize difference between FRN and RewP models"
   ]
  },
  {
   "cell_type": "code",
   "execution_count": 592,
   "metadata": {
    "colab": {
     "base_uri": "https://localhost:8080/"
    },
    "executionInfo": {
     "elapsed": 4,
     "status": "ok",
     "timestamp": 1677516452928,
     "user": {
      "displayName": "Anna Grabowska",
      "userId": "15734344613010880864"
     },
     "user_tz": -60
    },
    "id": "824FRKiAweds",
    "outputId": "a8affbdc-2c93-462c-d952-df11bc0ff221"
   },
   "outputs": [],
   "source": [
    "%%capture\n",
    "\n",
    "cv = RepeatedStratifiedKFold(n_splits=10, n_repeats=10, random_state=random_state)\n",
    "\n",
    "cv_scores_1 = cross_val_score(anx_rewp_model, X_rewp, y, cv=cv, scoring='balanced_accuracy')\n",
    "cv_scores_2 = cross_val_score(anx_frn_model, X_frn, y, cv=cv,  scoring='balanced_accuracy')"
   ]
  },
  {
   "cell_type": "code",
   "execution_count": 593,
   "metadata": {},
   "outputs": [],
   "source": [
    "cv_results_df = pd.DataFrame({\n",
    "    \"RewP\": cv_scores_1,\n",
    "    \"FRN\": cv_scores_2,\n",
    "})"
   ]
  },
  {
   "cell_type": "code",
   "execution_count": 594,
   "metadata": {},
   "outputs": [
    {
     "data": {
      "image/png": "[encoded data removed]",
      "text/plain": [
       "<Figure size 432x288 with 1 Axes>"
      ]
     },
     "metadata": {
      "needs_background": "light"
     },
     "output_type": "display_data"
    }
   ],
   "source": [
    "fig = sns.histplot(data=cv_results_df, bins=9, kde=True)"
   ]
  },
  {
   "cell_type": "code",
   "execution_count": 595,
   "metadata": {
    "colab": {
     "base_uri": "https://localhost:8080/"
    },
    "executionInfo": {
     "elapsed": 4,
     "status": "ok",
     "timestamp": 1677516452928,
     "user": {
      "displayName": "Anna Grabowska",
      "userId": "15734344613010880864"
     },
     "user_tz": -60
    },
    "id": "824FRKiAweds",
    "outputId": "a8affbdc-2c93-462c-d952-df11bc0ff221"
   },
   "outputs": [],
   "source": [
    "%%capture\n",
    "\n",
    "cv = RepeatedStratifiedKFold(n_splits=10, n_repeats=10, random_state=random_state)\n",
    "\n",
    "cv_scores_1 = cross_val_score(anx_rewp_model, X_rewp, y, cv=cv, scoring='roc_auc')\n",
    "cv_scores_2 = cross_val_score(anx_frn_model, X_frn, y, cv=cv,  scoring='roc_auc')"
   ]
  },
  {
   "cell_type": "code",
   "execution_count": 596,
   "metadata": {},
   "outputs": [],
   "source": [
    "cv_results_df = pd.DataFrame({\n",
    "    \"RewP\": cv_scores_1,\n",
    "    \"FRN\": cv_scores_2,\n",
    "})"
   ]
  },
  {
   "cell_type": "code",
   "execution_count": 597,
   "metadata": {},
   "outputs": [
    {
     "data": {
      "image/png": "[encoded data removed]",
      "text/plain": [
       "<Figure size 432x288 with 1 Axes>"
      ]
     },
     "metadata": {
      "needs_background": "light"
     },
     "output_type": "display_data"
    }
   ],
   "source": [
    "fig = sns.histplot(data=cv_results_df, bins=9, kde=True)"
   ]
  },
  {
   "cell_type": "code",
   "execution_count": null,
   "metadata": {},
   "outputs": [],
   "source": []
  }
 ],
 "metadata": {
  "colab": {
   "collapsed_sections": [
    "74g2chqQWa48",
    "3irne7dXaoIt"
   ],
   "name": "",
   "provenance": [
    {
     "file_id": "13OESwog1Uwt1WAcNW9QEaphoYxPyNplr",
     "timestamp": 1677327376830
    }
   ],
   "toc_visible": true,
   "version": ""
  },
  "kernelspec": {
   "display_name": "bluish",
   "language": "python",
   "name": "bluish"
  },
  "language_info": {
   "codemirror_mode": {
    "name": "ipython",
    "version": 3
   },
   "file_extension": ".py",
   "mimetype": "text/x-python",
   "name": "python",
   "nbconvert_exporter": "python",
   "pygments_lexer": "ipython3",
   "version": "3.8.10"
  }
 },
 "nbformat": 4,
 "nbformat_minor": 4
}
