{
 "cells": [
  {
   "cell_type": "markdown",
   "metadata": {
    "id": "aVAPtMDTYvRD"
   },
   "source": [
    "# Classification results visualization"
   ]
  },
  {
   "cell_type": "markdown",
   "metadata": {
    "id": "FcABdbTciWqA"
   },
   "source": [
    "Import packages"
   ]
  },
  {
   "cell_type": "code",
   "execution_count": null,
   "metadata": {
    "executionInfo": {
     "elapsed": 316,
     "status": "ok",
     "timestamp": 1677517783528,
     "user": {
      "displayName": "Anna Grabowska",
      "userId": "15734344613010880864"
     },
     "user_tz": -60
    },
    "id": "N_cSZrE3hRG1"
   },
   "outputs": [],
   "source": [
    "import io\n",
    "import mne\n",
    "import copy\n",
    "import glob\n",
    "import array\n",
    "import matplotlib\n",
    "import numpy as np\n",
    "import pandas as pd\n",
    "import sklearn.metrics\n",
    "import seaborn as sns\n",
    "import scipy.io as sio\n",
    "import plotly.express as px\n",
    "import matplotlib.pyplot as plt\n",
    "\n",
    "\n",
    "from itertools import chain\n",
    "from sklearn.svm import SVC\n",
    "from scipy.io import loadmat\n",
    "from sklearn import set_config\n",
    "\n",
    "from sklearn import preprocessing\n",
    "from sklearn.pipeline import Pipeline\n",
    "from sklearn.metrics import roc_auc_score, classification_report\n",
    "from sklearn.preprocessing import MinMaxScaler\n",
    "from sklearn.model_selection import GridSearchCV, ShuffleSplit\n",
    "from sklearn.model_selection import StratifiedKFold\n",
    "from sklearn.linear_model import LogisticRegression\n",
    "from sklearn.model_selection import train_test_split\n",
    "from sklearn.preprocessing import StandardScaler\n",
    "from sklearn.neighbors import KNeighborsClassifier\n",
    "from sklearn.model_selection import permutation_test_score\n",
    "\n",
    "from mne.time_frequency import tfr_morlet\n",
    "\n",
    "import numpy as np\n",
    "import matplotlib.pyplot as plt\n",
    "\n",
    "from sklearn.pipeline import Pipeline\n",
    "from sklearn.discriminant_analysis import LinearDiscriminantAnalysis\n",
    "from sklearn.model_selection import ShuffleSplit, cross_val_score, RepeatedStratifiedKFold\n",
    "from sklearn.utils import resample\n",
    "\n",
    "from mne import Epochs, pick_types, events_from_annotations\n",
    "from mne.channels import make_standard_montage\n",
    "from mne.io import concatenate_raws, read_raw_edf\n",
    "from mne.datasets import eegbci\n",
    "from mne.decoding import CSP\n",
    "import matplotlib.lines as lines\n",
    "from mne.preprocessing import Xdawn\n",
    "from mne.decoding import Vectorizer\n",
    "\n",
    "from mne.decoding import UnsupervisedSpatialFilter\n",
    "\n",
    "from sklearn.decomposition import PCA, FastICA\n",
    "\n",
    "from scipy import stats\n",
    "\n",
    "# parameters for plotting\n",
    "plt.rcParams[\"figure.figsize\"] = (10,7)\n",
    "\n",
    "import seaborn as sns\n",
    "sns.set_theme(style=\"whitegrid\", palette=\"deep\")"
   ]
  },
  {
   "cell_type": "markdown",
   "metadata": {
    "id": "TUmealuGFBRa"
   },
   "source": [
    "## Load data"
   ]
  },
  {
   "cell_type": "markdown",
   "metadata": {},
   "source": [
    "Load models"
   ]
  },
  {
   "cell_type": "code",
   "execution_count": null,
   "metadata": {
    "executionInfo": {
     "elapsed": 371,
     "status": "ok",
     "timestamp": 1677517793023,
     "user": {
      "displayName": "Anna Grabowska",
      "userId": "15734344613010880864"
     },
     "user_tz": -60
    },
    "id": "6WPawPUjhVDt"
   },
   "outputs": [],
   "source": [
    "results_dep_rewp_df = pd.read_pickle(\"../results/model_pickles/depression_rewp_freq_results_t20-t30_01_06_sonata.pkl\")\n",
    "results_dep_frn_df = pd.read_pickle(\"../results/model_pickles/depression_frn_results_freq_t20-t30_01_06_sonata.pkl\")\n",
    "results_anx_rewp_df = pd.read_pickle(\"../results/model_pickles/anxiety_rewp_freq_results_t20-t30_01_06_sonata.pkl\")\n",
    "results_anx_frn_df = pd.read_pickle(\"../results/model_pickles/anxiety_frn_freq_results_t20-t30_01_06_sonata.pkl\")"
   ]
  },
  {
   "cell_type": "code",
   "execution_count": null,
   "metadata": {},
   "outputs": [],
   "source": [
    "results_dep_rewp_df_lin = pd.read_pickle(\"data/sonata_data/results/GNG/depression_rewp_freq_results_t20-t30_28_06_sonata_lin.pkl\")\n",
    "results_dep_frn_df_lin = pd.read_pickle(\"data/sonata_data/results/GNG/depression_frn_results_freq_t20-t30_28_06_sonata_lin.pkl\")\n",
    "results_anx_rewp_df_lin = pd.read_pickle(\"data/sonata_data/results/GNG/anxiety_rewp_freq_results_t20-t30_28_06_sonata_lin.pkl\")\n",
    "results_anx_frn_df_lin = pd.read_pickle(\"data/sonata_data/results/GNG/anxiety_frn_freq_results_t20-t30_28_06_sonata_lin.pkl\")"
   ]
  },
  {
   "cell_type": "markdown",
   "metadata": {},
   "source": [
    "Load datasets"
   ]
  },
  {
   "cell_type": "code",
   "execution_count": null,
   "metadata": {},
   "outputs": [],
   "source": [
    "rewp_depression_datasets = np.load('data/sonata_data/freq_cropped_raw_data/rewp_depression_delta_theta_data.npy')\n",
    "frn_depression_datasets = np.load('data/sonata_data/freq_cropped_raw_data/frn_depression_delta_theta_data.npy')\n",
    "rewp_anxiety_datasets = np.load('data/sonata_data/freq_cropped_raw_data/rewp_anxiety_delta_theta_data.npy')\n",
    "frn_anxiety_datasets = np.load('data/sonata_data/freq_cropped_raw_data/frn_anxiety_delta_theta_data.npy')"
   ]
  },
  {
   "cell_type": "markdown",
   "metadata": {},
   "source": [
    "### Summary of results"
   ]
  },
  {
   "cell_type": "markdown",
   "metadata": {},
   "source": [
    "Parameters"
   ]
  },
  {
   "cell_type": "code",
   "execution_count": null,
   "metadata": {},
   "outputs": [],
   "source": [
    "column_list = [\n",
    "    'pipeline_name', \n",
    "    'train score', \n",
    "    'mean_test_balanced_accuracy', \n",
    "    'pvalue', \n",
    "    'mean_test_roc_auc', \n",
    "    'mean_test_recall', \n",
    "    'mean_test_precision',\n",
    "]"
   ]
  },
  {
   "cell_type": "code",
   "execution_count": null,
   "metadata": {},
   "outputs": [],
   "source": [
    "round_dict = {\n",
    "    'train score':2,\n",
    "    'mean_test_balanced_accuracy':2,\n",
    "    'pvalue':3,\n",
    "    'mean_test_roc_auc':2,\n",
    "    'mean_test_recall':2,\n",
    "    'mean_test_precision':2,\n",
    "}"
   ]
  },
  {
   "cell_type": "code",
   "execution_count": null,
   "metadata": {},
   "outputs": [],
   "source": [
    "columns_mapper = {\n",
    "    'train score': 'Train ACC', \n",
    "    'mean_test_balanced_accuracy': 'ACC', \n",
    "    'pvalue': 'p-value' ,\n",
    "    'mean_test_roc_auc': 'ROC AUC', \n",
    "    'mean_test_recall': 'Recall', \n",
    "    'mean_test_precision': 'Precision'\n",
    "}"
   ]
  },
  {
   "cell_type": "markdown",
   "metadata": {},
   "source": [
    "#### Depression"
   ]
  },
  {
   "cell_type": "code",
   "execution_count": null,
   "metadata": {},
   "outputs": [],
   "source": [
    "depression_results = pd.concat(\n",
    "    [results_dep_rewp_df, results_dep_frn_df], \n",
    "    axis=0, \n",
    "    ignore_index=True\n",
    ")[column_list].round(round_dict).rename(columns=columns_mapper)\n",
    "\n",
    "display(depression_results)"
   ]
  },
  {
   "cell_type": "markdown",
   "metadata": {},
   "source": [
    "#### Anxiety"
   ]
  },
  {
   "cell_type": "code",
   "execution_count": null,
   "metadata": {},
   "outputs": [],
   "source": [
    "anxiety_results = pd.concat(\n",
    "    [results_anx_rewp_df, results_anx_frn_df], \n",
    "    axis=0, \n",
    "    ignore_index=True\n",
    ")[column_list].round(round_dict).rename(columns=columns_mapper)\n",
    "\n",
    "display(anxiety_results)"
   ]
  },
  {
   "cell_type": "markdown",
   "metadata": {},
   "source": [
    "Plot results"
   ]
  },
  {
   "cell_type": "code",
   "execution_count": null,
   "metadata": {},
   "outputs": [],
   "source": [
    "data_df = pd.DataFrame()\n",
    "\n",
    "for dataset in [results_dep_rewp_df, results_dep_frn_df, results_anx_rewp_df, results_anx_frn_df]:\n",
    "    for index, row in dataset.iterrows():\n",
    "\n",
    "        metrics = ['mean_test_balanced_accuracy','mean_test_precision', 'mean_test_recall', 'mean_test_roc_auc']\n",
    "\n",
    "        for metric in metrics:\n",
    "            band = 'delta' if row.pipeline_name.split(\"_\")[3] == '0' else 'theta'\n",
    "            model_name = row.pipeline_name.split(\"_\")[0] + ' ' + band\n",
    "            this_data = pd.DataFrame({\n",
    "                'model': [model_name],\n",
    "                'dataset': [row.pipeline_name.split(\"_\")[1]],\n",
    "                'score': [row[metric]],\n",
    "                'metric': [metric],\n",
    "            })\n",
    "\n",
    "            data_df = pd.concat([data_df,this_data]) "
   ]
  },
  {
   "cell_type": "code",
   "execution_count": null,
   "metadata": {},
   "outputs": [],
   "source": [
    "names_dict = {\n",
    "    'mean_test_balanced_accuracy': 'ACC',\n",
    "    'mean_test_precision': 'precision',\n",
    "    'mean_test_roc_auc': 'R_AUC',\n",
    "    'mean_test_recall': 'recall',\n",
    "    'RewP delta': 'FP delta',\n",
    "    'RewP theta': 'FP theta',\n",
    "    'FRN delta': 'FN delta',\n",
    "    'FRN theta': 'FN theta',\n",
    "}\n",
    "\n",
    "data_df['metric'] = data_df['metric'].replace(names_dict)\n",
    "data_df['model'] = data_df['model'].replace(names_dict)"
   ]
  },
  {
   "cell_type": "code",
   "execution_count": null,
   "metadata": {},
   "outputs": [],
   "source": [
    "cm = 1/2.54\n",
    "dpi = 200\n",
    "\n",
    "plt.rcParams['figure.dpi'] = dpi\n",
    "plt.rcParams[\"font.family\"] = \"Times New Roman\"\n",
    "plt.rcParams['ytick.labelsize'] = 6\n",
    "plt.rcParams['xtick.labelsize'] = 5\n",
    "plt.rcParams['axes.labelsize'] = 8\n",
    "plt.rcParams[\"axes.edgecolor\"] = \".15\"\n",
    "plt.rcParams[\"axes.linewidth\"]  = 0.5\n",
    "plt.rc('font', size=6)\n",
    "\n",
    "sns.set_palette('Paired')\n",
    "sns.set_style(\"ticks\")\n",
    "\n",
    "data = data_df[data_df['metric'] == 'ACC']\n",
    "\n",
    "g = sns.FacetGrid(\n",
    "    data, \n",
    "    col=\"dataset\", \n",
    "    row='metric', \n",
    "    margin_titles=True,\n",
    "    # palette = 'dark',\n",
    "    despine=False,\n",
    "    sharex = True,\n",
    "    hue='model',\n",
    "    aspect=1.3\n",
    ")\n",
    "\n",
    "g.map(\n",
    "    sns.barplot,\n",
    "    'model',\n",
    "    'score',\n",
    "    order=['FP delta', 'FP theta', 'FN delta', 'FN theta'],\n",
    "    saturation=1,\n",
    "    linewidth=0.4\n",
    ")\n",
    "g.figure.subplots_adjust(wspace=.1, hspace=.05)\n",
    "\n",
    "axes = g.axes.flatten()\n",
    "\n",
    " # add vlines\n",
    "axes[0].axhline(y=0.5, color='grey', linestyle='--', linewidth = 0.7, alpha=0.8)\n",
    "axes[1].axhline(y=0.5, color='grey', linestyle='--', linewidth = 0.7, alpha=0.8)\n",
    "# axes[2].axhline(y=0.5, color='grey', linestyle='--', linewidth = 0.7, alpha=0.8)\n",
    "# axes[3].axhline(y=0.5, color='grey', linestyle='--', linewidth = 0.7, alpha=0.8)\n",
    "# axes[4].axhline(y=0.5, color='grey', linestyle='--', linewidth = 0.7, alpha=0.8)\n",
    "# axes[5].axhline(y=0.5, color='grey', linestyle='--', linewidth = 0.7, alpha=0.8)\n",
    "\n",
    "# add the annotation\n",
    "\n",
    "axes[0].bar_label(axes[0].containers[0], fmt='Mean:\\n%.2f*', label_type='center')\n",
    "axes[0].bar_label(axes[0].containers[1], fmt='Mean:\\n%.2f**', label_type='center')\n",
    "axes[0].bar_label(axes[0].containers[2], fmt='Mean:\\n%.2f*', label_type='center')\n",
    "axes[0].bar_label(axes[0].containers[3], fmt='Mean:\\n%.2f*', label_type='center')\n",
    "\n",
    "\n",
    "axes[1].bar_label(axes[1].containers[0], fmt='Mean:\\n%.2f*', label_type='center')\n",
    "axes[1].bar_label(axes[1].containers[1], fmt='Mean:\\n%.2f*', label_type='center')\n",
    "axes[1].bar_label(axes[1].containers[2], fmt='Mean:\\n%.2f**', label_type='center')\n",
    "axes[1].bar_label(axes[1].containers[3], fmt='Mean:\\n%.2f+', label_type='center')\n",
    "\n",
    "\n",
    "# for ax in axes[2:]:\n",
    "#     ax.bar_label(ax.containers[0], fmt='Mean:\\n%.2f', label_type='center')\n",
    "#     ax.bar_label(ax.containers[1], fmt='Mean:\\n%.2f', label_type='center')\n",
    "#     ax.bar_label(ax.containers[2], fmt='Mean:\\n%.2f', label_type='center')\n",
    "#     ax.bar_label(ax.containers[3], fmt='Mean:\\n%.2f', label_type='center')\n",
    "\n",
    "\n",
    "# for ax in axes:\n",
    "#     ax.add_artist(lines.Line2D([1, 2], [0.7, 0.7], color='black', linewidth=0.7))\n",
    "#     ax.add_artist(lines.Line2D([1, 3], [0.75, 0.75], color='black', linewidth=0.7))\n",
    "#     ax.add_artist(lines.Line2D([0, 2], [0.8, 0.8], color='black', linewidth=0.7))\n",
    "#     ax.add_artist(lines.Line2D([0, 3], [0.85, 0.85], color='black', linewidth=0.7))\n",
    "    \n",
    "#     ax.add_artist(lines.Line2D([1, 1], [0.685, 0.71], color='black', linewidth=0.7))\n",
    "#     ax.add_artist(lines.Line2D([2, 2], [0.685, 0.71], color='black', linewidth=0.7))\n",
    "\n",
    "#     ax.add_artist(lines.Line2D([3, 3], [0.735, 0.76], color='black', linewidth=0.7))\n",
    "#     ax.add_artist(lines.Line2D([1, 1], [0.735, 0.76], color='black', linewidth=0.7))\n",
    "\n",
    "        \n",
    "#     ax.add_artist(lines.Line2D([2, 2], [0.787, 0.81], color='black', linewidth=0.7))\n",
    "#     ax.add_artist(lines.Line2D([0, 0], [0.787, 0.81], color='black', linewidth=0.7))\n",
    "    \n",
    "#     ax.add_artist(lines.Line2D([0, 0], [0.835, 0.86], color='black', linewidth=0.7))\n",
    "#     ax.add_artist(lines.Line2D([3, 3], [0.835, 0.86], color='black', linewidth=0.7))\n",
    "    \n",
    "# add significance markers\n",
    "# ACC\n",
    "# axes[0].add_artist(lines.Line2D([1, 2], [0.7, 0.7], color='black', linewidth=0.7))\n",
    "axes[0].add_artist(lines.Line2D([1, 3], [0.75, 0.75], color='black', linewidth=0.7))\n",
    "\n",
    "# axes[0].add_artist(lines.Line2D([1, 1], [0.685, 0.71], color='black', linewidth=0.7))\n",
    "# axes[0].add_artist(lines.Line2D([2, 2], [0.685, 0.71], color='black', linewidth=0.7))\n",
    "\n",
    "axes[0].add_artist(lines.Line2D([3, 3], [0.735, 0.76], color='black', linewidth=0.7))\n",
    "axes[0].add_artist(lines.Line2D([1, 1], [0.735, 0.76], color='black', linewidth=0.7))\n",
    "\n",
    "# axes[0].text(1.45, 0.7, '+', fontsize=6)\n",
    "axes[0].text(1.9, 0.73, '*', fontsize=8)\n",
    "\n",
    "# precision\n",
    "# axes[2].add_artist(lines.Line2D([1, 3], [0.75, 0.75], color='black', linewidth=0.7))\n",
    "\n",
    "# axes[2].add_artist(lines.Line2D([3, 3], [0.735, 0.76], color='black', linewidth=0.7))\n",
    "# axes[2].add_artist(lines.Line2D([1, 1], [0.735, 0.76], color='black', linewidth=0.7))\n",
    "\n",
    "# axes[2].text(1.9, 0.73, '**', fontsize=8)\n",
    "\n",
    "#recall\n",
    "\n",
    "\n",
    "fig = g.fig\n",
    "fig.set_size_inches(7*cm, 3*cm)"
   ]
  },
  {
   "cell_type": "markdown",
   "metadata": {},
   "source": [
    "## Distributions of 10x10 CV classification metrics"
   ]
  },
  {
   "cell_type": "markdown",
   "metadata": {},
   "source": [
    "Read models"
   ]
  },
  {
   "cell_type": "code",
   "execution_count": null,
   "metadata": {},
   "outputs": [],
   "source": [
    "results_dep_rewp_df = pd.read_pickle(\"data/sonata_data/results/GNG/depression_rewp_freq_results_t20-t30_01_06_sonata.pkl\")\n",
    "results_dep_frn_df = pd.read_pickle(\"data/sonata_data/results/GNG/depression_frn_results_freq_t20-t30_01_06_sonata.pkl\")\n",
    "results_anx_rewp_df = pd.read_pickle(\"data/sonata_data/results/GNG/anxiety_rewp_freq_results_t20-t30_01_06_sonata.pkl\")\n",
    "results_anx_frn_df = pd.read_pickle(\"data/sonata_data/results/GNG/anxiety_frn_freq_results_t20-t30_01_06_sonata.pkl\")"
   ]
  },
  {
   "cell_type": "markdown",
   "metadata": {},
   "source": [
    "Read eeg data"
   ]
  },
  {
   "cell_type": "code",
   "execution_count": null,
   "metadata": {},
   "outputs": [],
   "source": [
    "rewp_depression_datasets = np.load('data/sonata_data/freq_cropped_raw_data/rewp_depression_delta_theta_data.npy')\n",
    "frn_depression_datasets = np.load('data/sonata_data/freq_cropped_raw_data/frn_depression_delta_theta_data.npy')\n",
    "rewp_anxiety_datasets = np.load('data/sonata_data/freq_cropped_raw_data/rewp_anxiety_delta_theta_data.npy')\n",
    "frn_anxiety_datasets = np.load('data/sonata_data/freq_cropped_raw_data/frn_anxiety_delta_theta_data.npy')"
   ]
  },
  {
   "cell_type": "markdown",
   "metadata": {},
   "source": [
    "Define constants"
   ]
  },
  {
   "cell_type": "code",
   "execution_count": null,
   "metadata": {},
   "outputs": [],
   "source": [
    "dep_size = 75\n",
    "dep_ctrl = 72\n",
    "anx = 65\n",
    "anx_ctrl = 66\n",
    "random_state = 42"
   ]
  },
  {
   "cell_type": "markdown",
   "metadata": {},
   "source": [
    "#### Calculate 10x10 CV scores"
   ]
  },
  {
   "cell_type": "markdown",
   "metadata": {},
   "source": [
    "Depression"
   ]
  },
  {
   "cell_type": "code",
   "execution_count": null,
   "metadata": {},
   "outputs": [],
   "source": [
    "%%capture\n",
    "long_data_df = pd.DataFrame()\n",
    "\n",
    "size = int(len(rewp_depression_datasets[0]) / 2)\n",
    "print(size)\n",
    "\n",
    "cv = RepeatedStratifiedKFold(n_splits=10, n_repeats=10, random_state=random_state)\n",
    "metrics = ['balanced_accuracy', 'roc_auc', 'precision', 'recall']\n",
    "y = np.array(dep_size * [1] +  dep_ctrl * [0])\n",
    "\n",
    "for metric in metrics:\n",
    "    for band in (0,1):\n",
    "        for estimator, dataset in [(results_dep_rewp_df, rewp_depression_datasets), (results_dep_frn_df,frn_depression_datasets)]:\n",
    "\n",
    "            cv_scores = cross_val_score(estimator.iloc[band].best_model, dataset[band], y, cv=cv, scoring=metric)\n",
    "            \n",
    "            this_band = 'delta' if band == 0 else 'theta'  \n",
    "            model_name = estimator.iloc[band].pipeline_name.split(\"_\")[0]\n",
    "            this_data = pd.DataFrame({\n",
    "                'model': [model_name] * len(cv_scores),\n",
    "                'dataset': [estimator.iloc[band].pipeline_name.split(\"_\")[1]] * len(cv_scores),\n",
    "                'band': [this_band] * len(cv_scores),\n",
    "                'scores': cv_scores,\n",
    "                'metric': [metric] * len(cv_scores),\n",
    "            })\n",
    "    \n",
    "            long_data_df = pd.concat([long_data_df,this_data]) "
   ]
  },
  {
   "cell_type": "markdown",
   "metadata": {},
   "source": [
    "Anxiety"
   ]
  },
  {
   "cell_type": "code",
   "execution_count": null,
   "metadata": {},
   "outputs": [],
   "source": [
    "%%capture\n",
    "\n",
    "size = int(len(rewp_anxiety_datasets[0]) / 2)\n",
    "print(size)\n",
    "\n",
    "cv = RepeatedStratifiedKFold(n_splits=10, n_repeats=10, random_state=random_state)\n",
    "metrics = ['balanced_accuracy', 'roc_auc', 'precision', 'recall']\n",
    "y = np.array(anx * [1] +  anx_ctrl * [0])\n",
    "\n",
    "for metric in metrics:\n",
    "    for band in (0,1):\n",
    "        for estimator, dataset in [(results_anx_rewp_df, rewp_anxiety_datasets), (results_anx_frn_df,frn_anxiety_datasets)]:\n",
    "\n",
    "            cv_scores = cross_val_score(estimator.iloc[band].best_model, dataset[band], y, cv=cv, scoring=metric)\n",
    "            \n",
    "            this_band = 'delta' if band == 0 else 'theta'\n",
    "                \n",
    "            model_name = estimator.iloc[band].pipeline_name.split(\"_\")[0]\n",
    "            this_data = pd.DataFrame({\n",
    "                'model': [model_name] * len(cv_scores),\n",
    "                'dataset': [estimator.iloc[band].pipeline_name.split(\"_\")[1]] * len(cv_scores),\n",
    "                'band': [this_band] * len(cv_scores),\n",
    "                'scores': cv_scores,\n",
    "                'metric': [metric] * len(cv_scores),\n",
    "            })\n",
    "    \n",
    "            long_data_df = pd.concat([long_data_df,this_data]) "
   ]
  },
  {
   "cell_type": "markdown",
   "metadata": {},
   "source": [
    "Summary of the results"
   ]
  },
  {
   "cell_type": "code",
   "execution_count": null,
   "metadata": {},
   "outputs": [],
   "source": [
    "long_data_df.groupby(['model', 'dataset', 'band', 'metric']).mean()"
   ]
  },
  {
   "cell_type": "markdown",
   "metadata": {},
   "source": [
    "### Visualize results"
   ]
  },
  {
   "cell_type": "markdown",
   "metadata": {},
   "source": [
    "Rename items in results dataframe"
   ]
  },
  {
   "cell_type": "code",
   "execution_count": null,
   "metadata": {},
   "outputs": [],
   "source": [
    "long_names_dict = {\n",
    "    'balanced_accuracy': 'ACC',\n",
    "    'roc_auc': 'R_AUC',\n",
    "    'RewP': 'reward',\n",
    "    'FRN': 'punishment',\n",
    "    'FP': 'reward',\n",
    "    'FN': 'punishment',\n",
    "}\n",
    "\n",
    "long_data_df['metric'] = long_data_df['metric'].replace(long_names_dict)\n",
    "long_data_df['model'] = long_data_df['model'].replace(long_names_dict)"
   ]
  },
  {
   "cell_type": "markdown",
   "metadata": {},
   "source": [
    "Plot violinplots"
   ]
  },
  {
   "cell_type": "code",
   "execution_count": null,
   "metadata": {},
   "outputs": [],
   "source": [
    "# plot parameters\n",
    "cm = 1/2.54\n",
    "dpi = 500\n",
    "\n",
    "plt.rcParams['figure.dpi'] = dpi\n",
    "plt.rcParams[\"font.family\"] = \"Times New Roman\"\n",
    "plt.rcParams['ytick.labelsize'] = 6\n",
    "plt.rcParams['xtick.labelsize'] = 6\n",
    "plt.rcParams['axes.labelsize'] = 6\n",
    "plt.rcParams[\"axes.edgecolor\"] = \".15\"\n",
    "plt.rcParams[\"axes.linewidth\"]  = 0.5\n",
    "plt.rcParams['axes.titley'] = 1.0    # y is in axes-relative coordinates.\n",
    "plt.rcParams['axes.titlepad'] = -3\n",
    "plt.rc('font', size=6)\n",
    "sns.set_style(\"white\")\n",
    "sns.set_style(\"ticks\")\n",
    "\n",
    "\n",
    "colors = [sns.color_palette(\"colorblind\")[3], sns.color_palette(\"colorblind\")[2], 'gray']\n",
    "sns.set_palette(colors)\n",
    "\n",
    "g = sns.catplot(\n",
    "    x='band', \n",
    "    y='scores', \n",
    "    hue='model',\n",
    "    row='metric', \n",
    "    col='dataset', \n",
    "    data=long_data_df, \n",
    "    kind='violin', \n",
    "    height=6,\n",
    "    split = True,\n",
    "    despine = False,\n",
    "    legend_out = False,\n",
    "    linewidth = 0.6,\n",
    "    sharex=False,\n",
    ")\n",
    "\n",
    "g.figure.subplots_adjust(wspace=.0, hspace=.25)\n",
    "\n",
    "sns.move_legend(\n",
    "    g, \"lower center\",\n",
    "    bbox_to_anchor=(.5, 1), ncol=3, title=None, frameon=False,\n",
    ")\n",
    "\n",
    "plt.setp(g._legend.get_texts(), fontsize=7)\n",
    "\n",
    "fig = g.fig\n",
    "\n",
    "for ax in fig.axes:\n",
    "    ax.tick_params(axis='x', direction='in', length=5, width=1)\n",
    "    ax.tick_params(axis='y', direction='out', length=3, width=1)\n",
    "\n",
    "\n",
    "fig.set_size_inches(10*cm, 17*cm)\n",
    "\n",
    "plt.show()\n",
    "\n",
    "fig.savefig(f'data/figure_3_metric_results/metrics', bbox_inches='tight', pad_inches=0.01)"
   ]
  }
 ],
 "metadata": {
  "colab": {
   "collapsed_sections": [
    "74g2chqQWa48",
    "3irne7dXaoIt"
   ],
   "name": "",
   "provenance": [
    {
     "file_id": "13OESwog1Uwt1WAcNW9QEaphoYxPyNplr",
     "timestamp": 1677327376830
    }
   ],
   "toc_visible": true,
   "version": ""
  },
  "kernelspec": {
   "display_name": "net",
   "language": "python",
   "name": "net"
  },
  "language_info": {
   "codemirror_mode": {
    "name": "ipython",
    "version": 3
   },
   "file_extension": ".py",
   "mimetype": "text/x-python",
   "name": "python",
   "nbconvert_exporter": "python",
   "pygments_lexer": "ipython3",
   "version": "3.8.10"
  }
 },
 "nbformat": 4,
 "nbformat_minor": 4
}
