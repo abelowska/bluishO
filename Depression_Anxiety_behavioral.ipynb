{
 "cells": [
  {
   "cell_type": "markdown",
   "metadata": {
    "id": "aVAPtMDTYvRD"
   },
   "source": [
    "# Depression and Anxiety classification with CSP spatial filter"
   ]
  },
  {
   "cell_type": "markdown",
   "metadata": {},
   "source": [
    "Based on the study by [Cavanagh et al. (2019)](https://www.ncbi.nlm.nih.gov/pmc/articles/PMC6515849/)"
   ]
  },
  {
   "cell_type": "markdown",
   "metadata": {
    "id": "FcABdbTciWqA"
   },
   "source": [
    "Import packages"
   ]
  },
  {
   "cell_type": "code",
   "execution_count": 1,
   "metadata": {
    "executionInfo": {
     "elapsed": 316,
     "status": "ok",
     "timestamp": 1677517783528,
     "user": {
      "displayName": "Anna Grabowska",
      "userId": "15734344613010880864"
     },
     "user_tz": -60
    },
    "id": "N_cSZrE3hRG1"
   },
   "outputs": [],
   "source": [
    "import io\n",
    "import mne\n",
    "import copy\n",
    "import glob\n",
    "import array\n",
    "import matplotlib\n",
    "import numpy as np\n",
    "import pandas as pd\n",
    "import sklearn.metrics\n",
    "import seaborn as sns\n",
    "import scipy.io as sio\n",
    "import plotly.express as px\n",
    "import matplotlib.pyplot as plt\n",
    "\n",
    "\n",
    "from itertools import chain\n",
    "from sklearn.svm import SVC\n",
    "from scipy.io import loadmat\n",
    "from sklearn import set_config\n",
    "\n",
    "from sklearn import preprocessing\n",
    "from sklearn.pipeline import Pipeline\n",
    "from sklearn.metrics import roc_auc_score, classification_report\n",
    "from sklearn.preprocessing import MinMaxScaler\n",
    "from sklearn.model_selection import GridSearchCV, ShuffleSplit\n",
    "from sklearn.model_selection import StratifiedKFold\n",
    "from sklearn.linear_model import LogisticRegression\n",
    "from sklearn.model_selection import train_test_split\n",
    "from sklearn.preprocessing import StandardScaler\n",
    "from sklearn.neighbors import KNeighborsClassifier\n",
    "from sklearn.model_selection import permutation_test_score\n",
    "\n",
    "\n",
    "import numpy as np\n",
    "import matplotlib.pyplot as plt\n",
    "\n",
    "from sklearn.pipeline import Pipeline\n",
    "from sklearn.discriminant_analysis import LinearDiscriminantAnalysis\n",
    "from sklearn.model_selection import ShuffleSplit, cross_val_score, RepeatedStratifiedKFold\n",
    "from sklearn.utils import resample\n",
    "\n",
    "from mne import Epochs, pick_types, events_from_annotations\n",
    "from mne.channels import make_standard_montage\n",
    "from mne.io import concatenate_raws, read_raw_edf\n",
    "from mne.datasets import eegbci\n",
    "from mne.decoding import CSP\n",
    "\n",
    "from mne.preprocessing import Xdawn\n",
    "from mne.decoding import Vectorizer\n",
    "\n",
    "from mne.decoding import UnsupervisedSpatialFilter\n",
    "\n",
    "from sklearn.decomposition import PCA, FastICA\n",
    "\n",
    "from scipy import stats\n",
    "\n",
    "# parameters for plotting\n",
    "plt.rcParams[\"figure.figsize\"] = (10,7)\n",
    "\n",
    "import seaborn as sns\n",
    "sns.set_theme(style=\"whitegrid\", palette=\"deep\")\n",
    "\n",
    "from sklearn.metrics import r2_score\n",
    "from scipy.stats import pearsonr\n",
    "from scipy.stats import ttest_ind\n",
    "from scipy.stats import ttest_rel"
   ]
  },
  {
   "cell_type": "markdown",
   "metadata": {},
   "source": [
    "Constatnts"
   ]
  },
  {
   "cell_type": "code",
   "execution_count": 2,
   "metadata": {},
   "outputs": [],
   "source": [
    "random_state = 42"
   ]
  },
  {
   "cell_type": "markdown",
   "metadata": {
    "id": "TUmealuGFBRa"
   },
   "source": [
    "## Load questionnarie data"
   ]
  },
  {
   "cell_type": "code",
   "execution_count": 11,
   "metadata": {
    "executionInfo": {
     "elapsed": 371,
     "status": "ok",
     "timestamp": 1677517793023,
     "user": {
      "displayName": "Anna Grabowska",
      "userId": "15734344613010880864"
     },
     "user_tz": -60
    },
    "id": "6WPawPUjhVDt"
   },
   "outputs": [],
   "source": [
    "data = pd.read_csv('data/sonata_data/questionnaires.csv', dtype={'Demo_kod': object})"
   ]
  },
  {
   "cell_type": "code",
   "execution_count": 12,
   "metadata": {},
   "outputs": [
    {
     "data": {
      "text/plain": [
       "218"
      ]
     },
     "execution_count": 12,
     "metadata": {},
     "output_type": "execute_result"
    }
   ],
   "source": [
    "ids_autoreject = np.load('data/sonata_data/ids/gng_fla_common_ids_autoreject.npy')\n",
    "ids_autoreject.sort()\n",
    "len(ids_autoreject)"
   ]
  },
  {
   "cell_type": "code",
   "execution_count": 13,
   "metadata": {},
   "outputs": [
    {
     "data": {
      "text/plain": [
       "190"
      ]
     },
     "execution_count": 13,
     "metadata": {},
     "output_type": "execute_result"
    }
   ],
   "source": [
    "ids_sonata = np.load('data/sonata_data/ids/gng_fla_common_ids.npy')\n",
    "ids_sonata.sort()\n",
    "len(ids_sonata)"
   ]
  },
  {
   "cell_type": "code",
   "execution_count": 14,
   "metadata": {},
   "outputs": [
    {
     "data": {
      "text/html": [
       "<div>\n",
       "<style scoped>\n",
       "    .dataframe tbody tr th:only-of-type {\n",
       "        vertical-align: middle;\n",
       "    }\n",
       "\n",
       "    .dataframe tbody tr th {\n",
       "        vertical-align: top;\n",
       "    }\n",
       "\n",
       "    .dataframe thead th {\n",
       "        text-align: right;\n",
       "    }\n",
       "</style>\n",
       "<table border=\"1\" class=\"dataframe\">\n",
       "  <thead>\n",
       "    <tr style=\"text-align: right;\">\n",
       "      <th></th>\n",
       "      <th>Demo_kod</th>\n",
       "      <th>BDI</th>\n",
       "      <th>BDI_cognitive</th>\n",
       "      <th>BDI_affective</th>\n",
       "      <th>BDI_affect_cog</th>\n",
       "      <th>BDI_somatic</th>\n",
       "      <th>STAI</th>\n",
       "    </tr>\n",
       "  </thead>\n",
       "  <tbody>\n",
       "    <tr>\n",
       "      <th>0</th>\n",
       "      <td>000</td>\n",
       "      <td>6</td>\n",
       "      <td>0.17</td>\n",
       "      <td>0.67</td>\n",
       "      <td>0.83</td>\n",
       "      <td>0.50</td>\n",
       "      <td>40</td>\n",
       "    </tr>\n",
       "    <tr>\n",
       "      <th>1</th>\n",
       "      <td>001</td>\n",
       "      <td>17</td>\n",
       "      <td>0.67</td>\n",
       "      <td>1.00</td>\n",
       "      <td>1.67</td>\n",
       "      <td>0.83</td>\n",
       "      <td>52</td>\n",
       "    </tr>\n",
       "    <tr>\n",
       "      <th>2</th>\n",
       "      <td>002</td>\n",
       "      <td>4</td>\n",
       "      <td>0.33</td>\n",
       "      <td>0.33</td>\n",
       "      <td>0.67</td>\n",
       "      <td>0.00</td>\n",
       "      <td>50</td>\n",
       "    </tr>\n",
       "    <tr>\n",
       "      <th>3</th>\n",
       "      <td>003</td>\n",
       "      <td>1</td>\n",
       "      <td>0.00</td>\n",
       "      <td>0.00</td>\n",
       "      <td>0.00</td>\n",
       "      <td>0.17</td>\n",
       "      <td>32</td>\n",
       "    </tr>\n",
       "    <tr>\n",
       "      <th>4</th>\n",
       "      <td>004</td>\n",
       "      <td>5</td>\n",
       "      <td>0.33</td>\n",
       "      <td>0.33</td>\n",
       "      <td>0.67</td>\n",
       "      <td>0.00</td>\n",
       "      <td>46</td>\n",
       "    </tr>\n",
       "    <tr>\n",
       "      <th>...</th>\n",
       "      <td>...</td>\n",
       "      <td>...</td>\n",
       "      <td>...</td>\n",
       "      <td>...</td>\n",
       "      <td>...</td>\n",
       "      <td>...</td>\n",
       "      <td>...</td>\n",
       "    </tr>\n",
       "    <tr>\n",
       "      <th>220</th>\n",
       "      <td>220</td>\n",
       "      <td>7</td>\n",
       "      <td>0.33</td>\n",
       "      <td>0.33</td>\n",
       "      <td>0.67</td>\n",
       "      <td>0.33</td>\n",
       "      <td>38</td>\n",
       "    </tr>\n",
       "    <tr>\n",
       "      <th>221</th>\n",
       "      <td>221</td>\n",
       "      <td>27</td>\n",
       "      <td>0.67</td>\n",
       "      <td>1.67</td>\n",
       "      <td>2.33</td>\n",
       "      <td>1.83</td>\n",
       "      <td>54</td>\n",
       "    </tr>\n",
       "    <tr>\n",
       "      <th>222</th>\n",
       "      <td>222</td>\n",
       "      <td>12</td>\n",
       "      <td>0.17</td>\n",
       "      <td>0.00</td>\n",
       "      <td>0.17</td>\n",
       "      <td>1.50</td>\n",
       "      <td>49</td>\n",
       "    </tr>\n",
       "    <tr>\n",
       "      <th>223</th>\n",
       "      <td>223</td>\n",
       "      <td>0</td>\n",
       "      <td>0.00</td>\n",
       "      <td>0.00</td>\n",
       "      <td>0.00</td>\n",
       "      <td>0.00</td>\n",
       "      <td>31</td>\n",
       "    </tr>\n",
       "    <tr>\n",
       "      <th>224</th>\n",
       "      <td>224</td>\n",
       "      <td>14</td>\n",
       "      <td>0.17</td>\n",
       "      <td>0.67</td>\n",
       "      <td>0.83</td>\n",
       "      <td>1.00</td>\n",
       "      <td>40</td>\n",
       "    </tr>\n",
       "  </tbody>\n",
       "</table>\n",
       "<p>225 rows × 7 columns</p>\n",
       "</div>"
      ],
      "text/plain": [
       "    Demo_kod  BDI  BDI_cognitive  BDI_affective  BDI_affect_cog  BDI_somatic  \\\n",
       "0        000    6           0.17           0.67            0.83         0.50   \n",
       "1        001   17           0.67           1.00            1.67         0.83   \n",
       "2        002    4           0.33           0.33            0.67         0.00   \n",
       "3        003    1           0.00           0.00            0.00         0.17   \n",
       "4        004    5           0.33           0.33            0.67         0.00   \n",
       "..       ...  ...            ...            ...             ...          ...   \n",
       "220      220    7           0.33           0.33            0.67         0.33   \n",
       "221      221   27           0.67           1.67            2.33         1.83   \n",
       "222      222   12           0.17           0.00            0.17         1.50   \n",
       "223      223    0           0.00           0.00            0.00         0.00   \n",
       "224      224   14           0.17           0.67            0.83         1.00   \n",
       "\n",
       "     STAI  \n",
       "0      40  \n",
       "1      52  \n",
       "2      50  \n",
       "3      32  \n",
       "4      46  \n",
       "..    ...  \n",
       "220    38  \n",
       "221    54  \n",
       "222    49  \n",
       "223    31  \n",
       "224    40  \n",
       "\n",
       "[225 rows x 7 columns]"
      ]
     },
     "execution_count": 14,
     "metadata": {},
     "output_type": "execute_result"
    }
   ],
   "source": [
    "data"
   ]
  },
  {
   "cell_type": "code",
   "execution_count": 72,
   "metadata": {},
   "outputs": [],
   "source": [
    "ids = ids_sonata"
   ]
  },
  {
   "cell_type": "code",
   "execution_count": 73,
   "metadata": {},
   "outputs": [],
   "source": [
    "data_df = data[data['Demo_kod'].isin(ids)]"
   ]
  },
  {
   "cell_type": "code",
   "execution_count": 74,
   "metadata": {
    "colab": {
     "base_uri": "https://localhost:8080/"
    },
    "executionInfo": {
     "elapsed": 9,
     "status": "ok",
     "timestamp": 1677518482887,
     "user": {
      "displayName": "Anna Grabowska",
      "userId": "15734344613010880864"
     },
     "user_tz": -60
    },
    "id": "99n0TtUK9ksT",
    "outputId": "f3ba7a7e-1df9-40f7-8cb7-531dc5568a22"
   },
   "outputs": [
    {
     "data": {
      "text/plain": [
       "61"
      ]
     },
     "execution_count": 74,
     "metadata": {},
     "output_type": "execute_result"
    }
   ],
   "source": [
    "dep = data_df[(data_df['BDI'] > 13) & (data_df['STAI'] > 41)]\n",
    "len(dep)"
   ]
  },
  {
   "cell_type": "code",
   "execution_count": 75,
   "metadata": {
    "colab": {
     "base_uri": "https://localhost:8080/"
    },
    "executionInfo": {
     "elapsed": 1634,
     "status": "ok",
     "timestamp": 1677518482441,
     "user": {
      "displayName": "Anna Grabowska",
      "userId": "15734344613010880864"
     },
     "user_tz": -60
    },
    "id": "bwQTP8md9TcN",
    "outputId": "06ef3c64-6497-4112-f932-479b0402bb64"
   },
   "outputs": [
    {
     "data": {
      "text/plain": [
       "62"
      ]
     },
     "execution_count": 75,
     "metadata": {},
     "output_type": "execute_result"
    }
   ],
   "source": [
    "ctrl_dep = data_df[(data_df['BDI'] <= 13) & (data_df['STAI'] > 41)]\n",
    "len(ctrl_dep)"
   ]
  },
  {
   "cell_type": "code",
   "execution_count": 76,
   "metadata": {
    "colab": {
     "base_uri": "https://localhost:8080/"
    },
    "executionInfo": {
     "elapsed": 10,
     "status": "ok",
     "timestamp": 1677518484019,
     "user": {
      "displayName": "Anna Grabowska",
      "userId": "15734344613010880864"
     },
     "user_tz": -60
    },
    "id": "97mJ2ng_AbGE",
    "outputId": "ede2577b-dae5-436c-ab09-f410d82f70cb"
   },
   "outputs": [
    {
     "data": {
      "text/plain": [
       "57"
      ]
     },
     "execution_count": 76,
     "metadata": {},
     "output_type": "execute_result"
    }
   ],
   "source": [
    "anx = data_df[(data_df['BDI'] <= 13) & (data_df['STAI'] > 42)]\n",
    "len(anx)"
   ]
  },
  {
   "cell_type": "code",
   "execution_count": 77,
   "metadata": {
    "colab": {
     "base_uri": "https://localhost:8080/"
    },
    "executionInfo": {
     "elapsed": 9,
     "status": "ok",
     "timestamp": 1677518484020,
     "user": {
      "displayName": "Anna Grabowska",
      "userId": "15734344613010880864"
     },
     "user_tz": -60
    },
    "id": "G7I_H8GE4A1B",
    "outputId": "71543e90-f1c3-41a1-e05d-65646b48b9eb"
   },
   "outputs": [
    {
     "data": {
      "text/plain": [
       "59"
      ]
     },
     "execution_count": 77,
     "metadata": {},
     "output_type": "execute_result"
    }
   ],
   "source": [
    "ctrl_anx = data_df[(data_df['BDI'] <= 13) & (data_df['STAI'] < 41)]\n",
    "len(ctrl_anx)"
   ]
  },
  {
   "cell_type": "markdown",
   "metadata": {},
   "source": [
    "#### Depression"
   ]
  },
  {
   "cell_type": "markdown",
   "metadata": {},
   "source": [
    "- TAI"
   ]
  },
  {
   "cell_type": "code",
   "execution_count": 78,
   "metadata": {},
   "outputs": [],
   "source": [
    "control_depression_tai = ctrl_dep['STAI'].to_numpy()\n",
    "depression_tai = dep['STAI'].to_numpy()"
   ]
  },
  {
   "cell_type": "code",
   "execution_count": 79,
   "metadata": {
    "tags": []
   },
   "outputs": [
    {
     "data": {
      "text/plain": [
       "array([50, 46, 47, 50, 45, 46, 43, 55, 45, 51, 49, 48, 51, 45, 43, 45, 48,\n",
       "       46, 45, 43, 42, 53, 48, 50, 47, 46, 50, 51, 42, 43, 45, 45, 44, 47,\n",
       "       47, 47, 45, 51, 43, 43, 46, 51, 51, 46, 55, 45, 42, 49, 49, 46, 49,\n",
       "       53, 49, 53, 52, 45, 53, 44, 42, 42, 48, 45])"
      ]
     },
     "execution_count": 79,
     "metadata": {},
     "output_type": "execute_result"
    }
   ],
   "source": [
    "control_depression_tai"
   ]
  },
  {
   "cell_type": "code",
   "execution_count": 80,
   "metadata": {
    "tags": []
   },
   "outputs": [
    {
     "data": {
      "text/plain": [
       "array([52, 56, 58, 45, 42, 42, 56, 66, 53, 58, 58, 59, 50, 68, 52, 49, 61,\n",
       "       47, 55, 56, 62, 53, 49, 51, 45, 57, 58, 58, 50, 49, 43, 70, 56, 43,\n",
       "       62, 54, 58, 62, 56, 56, 58, 57, 64, 53, 54, 46, 56, 57, 54, 47, 51,\n",
       "       57, 54, 49, 45, 56, 55, 50, 50, 62, 57])"
      ]
     },
     "execution_count": 80,
     "metadata": {},
     "output_type": "execute_result"
    }
   ],
   "source": [
    "depression_tai"
   ]
  },
  {
   "cell_type": "code",
   "execution_count": 69,
   "metadata": {
    "tags": []
   },
   "outputs": [
    {
     "name": "stdout",
     "output_type": "stream",
     "text": [
      "Depression group: mean TAI score: 54.35616438356164 SD = 6.086972081721993\n",
      "Control group: mean TAI score: 47.18055555555556 SD = 3.5052594962145767\n"
     ]
    }
   ],
   "source": [
    "print(f\"Depression group: mean TAI score: {depression_tai.mean()} SD = {depression_tai.std()}\")\n",
    "print(f\"Control group: mean TAI score: {control_depression_tai.mean()} SD = {control_depression_tai.std()}\")"
   ]
  },
  {
   "cell_type": "code",
   "execution_count": 71,
   "metadata": {
    "tags": []
   },
   "outputs": [
    {
     "name": "stdout",
     "output_type": "stream",
     "text": [
      "t(71) = 8.167449780239213, p = 8.180078726635595e-12\n"
     ]
    }
   ],
   "source": [
    "t_value, p_value = ttest_rel(depression_tai[1:], control_depression_tai)\n",
    "print(f\"t({len(control_depression_tai) -1}) = {t_value}, p = {p_value}\")"
   ]
  },
  {
   "cell_type": "code",
   "execution_count": null,
   "metadata": {},
   "outputs": [],
   "source": []
  },
  {
   "cell_type": "code",
   "execution_count": 81,
   "metadata": {},
   "outputs": [
    {
     "name": "stdout",
     "output_type": "stream",
     "text": [
      "Depression group: mean TAI score: 54.21311475409836 SD = 6.196547833463828\n",
      "Control group: mean TAI score: 47.17741935483871 SD = 3.4572233570121775\n"
     ]
    }
   ],
   "source": [
    "print(f\"Depression group: mean TAI score: {depression_tai.mean()} SD = {depression_tai.std()}\")\n",
    "print(f\"Control group: mean TAI score: {control_depression_tai.mean()} SD = {control_depression_tai.std()}\")"
   ]
  },
  {
   "cell_type": "code",
   "execution_count": 82,
   "metadata": {},
   "outputs": [
    {
     "name": "stdout",
     "output_type": "stream",
     "text": [
      "t(61) = 8.139698347152219, p = 2.8317060199842808e-11\n"
     ]
    }
   ],
   "source": [
    "t_value, p_value = ttest_rel(depression_tai, control_depression_tai[1:])\n",
    "print(f\"t({len(control_depression_tai) -1}) = {t_value}, p = {p_value}\")"
   ]
  },
  {
   "cell_type": "markdown",
   "metadata": {},
   "source": [
    "- BDI"
   ]
  },
  {
   "cell_type": "code",
   "execution_count": 83,
   "metadata": {},
   "outputs": [],
   "source": [
    "control_depression_bdi = ctrl_dep['BDI'].to_numpy()\n",
    "depression_bdi = dep['BDI'].to_numpy()"
   ]
  },
  {
   "cell_type": "code",
   "execution_count": 84,
   "metadata": {
    "tags": []
   },
   "outputs": [
    {
     "data": {
      "text/plain": [
       "array([ 4,  5,  9,  9,  9, 10,  6,  8, 13, 10, 12,  8, 11, 11,  6,  5,  7,\n",
       "        1,  8,  2,  5, 11,  4, 12,  3, 11,  7,  6, 11, 10,  3, 11,  0,  9,\n",
       "        3, 11,  2,  1,  2,  0,  2,  6, 11, 11,  6,  7, 11,  7,  4,  3,  2,\n",
       "        9,  6,  5,  5,  7,  8, 11,  3, 13, 11,  8])"
      ]
     },
     "execution_count": 84,
     "metadata": {},
     "output_type": "execute_result"
    }
   ],
   "source": [
    "control_depression_bdi"
   ]
  },
  {
   "cell_type": "code",
   "execution_count": 85,
   "metadata": {
    "tags": []
   },
   "outputs": [
    {
     "data": {
      "text/plain": [
       "array([17, 14, 17, 14, 16, 18, 21, 47, 18, 16, 17, 22, 37, 39, 20, 25, 38,\n",
       "       15, 16, 19, 21, 19, 22, 28, 14, 25, 34, 17, 14, 21, 16, 48, 16, 20,\n",
       "       44, 19, 30, 15, 26, 27, 14, 19, 25, 19, 29, 30, 25, 22, 26, 15, 19,\n",
       "       32, 27, 15, 14, 19, 33, 29, 16, 38, 17])"
      ]
     },
     "execution_count": 85,
     "metadata": {},
     "output_type": "execute_result"
    }
   ],
   "source": [
    "depression_bdi"
   ]
  },
  {
   "cell_type": "code",
   "execution_count": 30,
   "metadata": {
    "tags": []
   },
   "outputs": [
    {
     "name": "stdout",
     "output_type": "stream",
     "text": [
      "Depression group: mean BDI score: 23.71232876712329 SD = 8.78741231107252\n",
      "Control group: mean BDI score: 7.055555555555555 SD = 3.66245549418878\n"
     ]
    }
   ],
   "source": [
    "print(f\"Depression group: mean BDI score: {depression_bdi.mean()} SD = {depression_bdi.std()}\")\n",
    "print(f\"Control group: mean BDI score: {control_depression_bdi.mean()} SD = {control_depression_bdi.std()}\")"
   ]
  },
  {
   "cell_type": "code",
   "execution_count": 46,
   "metadata": {
    "tags": []
   },
   "outputs": [
    {
     "name": "stdout",
     "output_type": "stream",
     "text": [
      "t(71) = 13.939202326958592, p = 5.2141707752269915e-22\n"
     ]
    }
   ],
   "source": [
    "t_value, p_value = ttest_rel(depression_bdi[1:], control_depression_bdi)\n",
    "print(f\"t({len(depression_bdi[1:]) -1}) = {t_value}, p = {p_value}\")"
   ]
  },
  {
   "cell_type": "code",
   "execution_count": null,
   "metadata": {},
   "outputs": [],
   "source": []
  },
  {
   "cell_type": "code",
   "execution_count": 86,
   "metadata": {},
   "outputs": [
    {
     "name": "stdout",
     "output_type": "stream",
     "text": [
      "Depression group: mean BDI score: 23.0327868852459 SD = 8.606073366561992\n",
      "Control group: mean BDI score: 6.967741935483871 SD = 3.578464898553135\n"
     ]
    }
   ],
   "source": [
    "print(f\"Depression group: mean BDI score: {depression_bdi.mean()} SD = {depression_bdi.std()}\")\n",
    "print(f\"Control group: mean BDI score: {control_depression_bdi.mean()} SD = {control_depression_bdi.std()}\")"
   ]
  },
  {
   "cell_type": "code",
   "execution_count": 87,
   "metadata": {},
   "outputs": [
    {
     "name": "stdout",
     "output_type": "stream",
     "text": [
      "t(59) = 12.933271201067923, p = 5.28982380150104e-19\n"
     ]
    }
   ],
   "source": [
    "t_value, p_value = ttest_rel(depression_bdi, control_depression_bdi[1:])\n",
    "print(f\"t({len(depression_bdi[1:]) -1}) = {t_value}, p = {p_value}\")"
   ]
  },
  {
   "cell_type": "markdown",
   "metadata": {},
   "source": [
    "#### Anxiety"
   ]
  },
  {
   "cell_type": "markdown",
   "metadata": {},
   "source": [
    "- TAI"
   ]
  },
  {
   "cell_type": "code",
   "execution_count": 88,
   "metadata": {},
   "outputs": [],
   "source": [
    "control_anx_tai = ctrl_anx['STAI'].to_numpy()\n",
    "anx_tai = anx['STAI'].to_numpy()"
   ]
  },
  {
   "cell_type": "code",
   "execution_count": 89,
   "metadata": {},
   "outputs": [
    {
     "data": {
      "text/plain": [
       "array([40, 32, 40, 40, 40, 38, 34, 39, 28, 40, 39, 33, 26, 32, 34, 35, 30,\n",
       "       39, 30, 31, 29, 35, 37, 40, 31, 38, 31, 35, 39, 26, 38, 38, 40, 36,\n",
       "       35, 38, 32, 35, 39, 39, 28, 29, 30, 34, 32, 35, 40, 30, 32, 35, 34,\n",
       "       38, 37, 35, 37, 40, 37, 38, 31])"
      ]
     },
     "execution_count": 89,
     "metadata": {},
     "output_type": "execute_result"
    }
   ],
   "source": [
    "control_anx_tai"
   ]
  },
  {
   "cell_type": "code",
   "execution_count": 90,
   "metadata": {},
   "outputs": [
    {
     "data": {
      "text/plain": [
       "array([50, 46, 47, 50, 45, 46, 43, 55, 45, 51, 49, 48, 51, 45, 43, 45, 48,\n",
       "       46, 45, 43, 53, 48, 50, 47, 46, 50, 51, 43, 45, 45, 44, 47, 47, 47,\n",
       "       45, 51, 43, 43, 46, 51, 51, 46, 55, 45, 49, 49, 46, 49, 53, 49, 53,\n",
       "       52, 45, 53, 44, 48, 45])"
      ]
     },
     "execution_count": 90,
     "metadata": {},
     "output_type": "execute_result"
    }
   ],
   "source": [
    "anx_tai"
   ]
  },
  {
   "cell_type": "code",
   "execution_count": 35,
   "metadata": {},
   "outputs": [
    {
     "name": "stdout",
     "output_type": "stream",
     "text": [
      "Anxiety group: mean TAI score: 47.738461538461536 SD = 3.2262239088536884\n",
      "Control group: mean TAI score: 34.78125 SD = 4.192510994320706\n"
     ]
    }
   ],
   "source": [
    "print(f\"Anxiety group: mean TAI score: {anx_tai.mean()} SD = {anx_tai.std()}\")\n",
    "print(f\"Control group: mean TAI score: {control_anx_tai.mean()} SD = {control_anx_tai.std()}\")"
   ]
  },
  {
   "cell_type": "code",
   "execution_count": 45,
   "metadata": {
    "tags": []
   },
   "outputs": [
    {
     "name": "stdout",
     "output_type": "stream",
     "text": [
      "t(63) = 19.156404243278974, p = 5.7518200739571165e-28\n"
     ]
    }
   ],
   "source": [
    "t_value, p_value = ttest_rel(anx_tai[1:], control_anx_tai)\n",
    "print(f\"t({len(anx_tai[1:]) -1}) = {t_value}, p = {p_value}\")"
   ]
  },
  {
   "cell_type": "code",
   "execution_count": null,
   "metadata": {},
   "outputs": [],
   "source": []
  },
  {
   "cell_type": "code",
   "execution_count": 91,
   "metadata": {},
   "outputs": [
    {
     "name": "stdout",
     "output_type": "stream",
     "text": [
      "Anxiety group: mean TAI score: 47.63157894736842 SD = 3.2315960911597372\n",
      "Control group: mean TAI score: 34.96610169491525 SD = 4.012548544275399\n"
     ]
    }
   ],
   "source": [
    "print(f\"Anxiety group: mean TAI score: {anx_tai.mean()} SD = {anx_tai.std()}\")\n",
    "print(f\"Control group: mean TAI score: {control_anx_tai.mean()} SD = {control_anx_tai.std()}\")"
   ]
  },
  {
   "cell_type": "code",
   "execution_count": 92,
   "metadata": {},
   "outputs": [
    {
     "name": "stdout",
     "output_type": "stream",
     "text": [
      "t(55) = 19.29026161025925, p = 2.0932656225986029e-26\n"
     ]
    }
   ],
   "source": [
    "t_value, p_value = ttest_rel(anx_tai, control_anx_tai[2:])\n",
    "print(f\"t({len(anx_tai[1:]) -1}) = {t_value}, p = {p_value}\")"
   ]
  },
  {
   "cell_type": "markdown",
   "metadata": {},
   "source": [
    "- BDI"
   ]
  },
  {
   "cell_type": "code",
   "execution_count": 93,
   "metadata": {},
   "outputs": [],
   "source": [
    "control_anx_bdi = ctrl_anx['BDI'].to_numpy()\n",
    "anx_bdi = anx['BDI'].to_numpy()"
   ]
  },
  {
   "cell_type": "code",
   "execution_count": 94,
   "metadata": {},
   "outputs": [
    {
     "name": "stdout",
     "output_type": "stream",
     "text": [
      "[ 6  1 11  0  1  5 10  6  7  6  3  4  1  0  8  3  8  7  1  4  2  5  5  3\n",
      "  1  5  0  6  8  0 10  9  7  1  2  4  4  8  7 11  0  5  0  2  3  5  5  0\n",
      "  1  3  5  6 12  6  0 11  4  7  0]\n",
      "[ 4  5  9  9  9 10  6  8 13 10 12  8 11 11  6  5  7  1  8  2 11  4 12  3\n",
      " 11  7  6 10  3 11  0  9  3 11  2  1  2  0  2  6 11 11  6  7  7  4  3  2\n",
      "  9  6  5  5  7  8 11 11  8]\n"
     ]
    }
   ],
   "source": [
    "print(control_anx_bdi)\n",
    "print(anx_bdi)"
   ]
  },
  {
   "cell_type": "code",
   "execution_count": 39,
   "metadata": {},
   "outputs": [
    {
     "name": "stdout",
     "output_type": "stream",
     "text": [
      "Anxiety group: mean BDI score: 7.0 SD = 3.6584990617212663\n",
      "Control group: mean BDI score: 4.40625 SD = 3.334098219534032\n"
     ]
    }
   ],
   "source": [
    "print(f\"Anxiety group: mean BDI score: {anx_bdi.mean()} SD = {anx_bdi.std()}\")\n",
    "print(f\"Control group: mean BDI score: {control_anx_bdi.mean()} SD = {control_anx_bdi.std()}\")"
   ]
  },
  {
   "cell_type": "code",
   "execution_count": 44,
   "metadata": {
    "tags": []
   },
   "outputs": [
    {
     "name": "stdout",
     "output_type": "stream",
     "text": [
      "t(63) = 3.7337277013803436, p = 0.0004078572756507282\n"
     ]
    }
   ],
   "source": [
    "t_value, p_value = ttest_rel(anx_bdi[1:], control_anx_bdi)\n",
    "print(f\"t({len(anx_bdi[1:]) -1}) = {t_value}, p = {p_value}\")"
   ]
  },
  {
   "cell_type": "code",
   "execution_count": null,
   "metadata": {},
   "outputs": [],
   "source": []
  },
  {
   "cell_type": "code",
   "execution_count": 95,
   "metadata": {},
   "outputs": [
    {
     "name": "stdout",
     "output_type": "stream",
     "text": [
      "Anxiety group: mean BDI score: 6.824561403508772 SD = 3.5149944823771615\n",
      "Control group: mean BDI score: 4.491525423728813 SD = 3.3414341859215426\n"
     ]
    }
   ],
   "source": [
    "print(f\"Anxiety group: mean BDI score: {anx_bdi.mean()} SD = {anx_bdi.std()}\")\n",
    "print(f\"Control group: mean BDI score: {control_anx_bdi.mean()} SD = {control_anx_bdi.std()}\")"
   ]
  },
  {
   "cell_type": "code",
   "execution_count": 96,
   "metadata": {},
   "outputs": [
    {
     "name": "stdout",
     "output_type": "stream",
     "text": [
      "t(55) = 3.179354788277148, p = 0.002405215027405793\n"
     ]
    }
   ],
   "source": [
    "t_value, p_value = ttest_rel(anx_bdi, control_anx_bdi[2:])\n",
    "print(f\"t({len(anx_bdi[1:]) -1}) = {t_value}, p = {p_value}\")"
   ]
  },
  {
   "cell_type": "code",
   "execution_count": null,
   "metadata": {},
   "outputs": [],
   "source": []
  },
  {
   "cell_type": "code",
   "execution_count": null,
   "metadata": {},
   "outputs": [],
   "source": []
  },
  {
   "cell_type": "code",
   "execution_count": null,
   "metadata": {},
   "outputs": [],
   "source": []
  },
  {
   "cell_type": "code",
   "execution_count": null,
   "metadata": {},
   "outputs": [],
   "source": []
  },
  {
   "cell_type": "code",
   "execution_count": null,
   "metadata": {},
   "outputs": [],
   "source": []
  },
  {
   "cell_type": "code",
   "execution_count": null,
   "metadata": {},
   "outputs": [],
   "source": []
  },
  {
   "cell_type": "markdown",
   "metadata": {},
   "source": [
    "---"
   ]
  },
  {
   "cell_type": "code",
   "execution_count": 4,
   "metadata": {
    "colab": {
     "base_uri": "https://localhost:8080/"
    },
    "executionInfo": {
     "elapsed": 13,
     "status": "ok",
     "timestamp": 1677517794980,
     "user": {
      "displayName": "Anna Grabowska",
      "userId": "15734344613010880864"
     },
     "user_tz": -60
    },
    "id": "OOjJa80rp9by",
    "outputId": "4b2431d0-c305-4687-94b0-1c9ffe6b5839"
   },
   "outputs": [
    {
     "name": "stderr",
     "output_type": "stream",
     "text": [
      "/tmp/ipykernel_5162/1494664159.py:6: SettingWithCopyWarning: \n",
      "A value is trying to be set on a copy of a slice from a DataFrame\n",
      "\n",
      "See the caveats in the documentation: https://pandas.pydata.org/pandas-docs/stable/user_guide/indexing.html#returning-a-view-versus-a-copy\n",
      "  data['disorder'][i] = 0\n",
      "/tmp/ipykernel_5162/1494664159.py:4: SettingWithCopyWarning: \n",
      "A value is trying to be set on a copy of a slice from a DataFrame\n",
      "\n",
      "See the caveats in the documentation: https://pandas.pydata.org/pandas-docs/stable/user_guide/indexing.html#returning-a-view-versus-a-copy\n",
      "  data['disorder'][i] = 1\n"
     ]
    }
   ],
   "source": [
    "data['disorder'] = 0\n",
    "for i in range(len(data)):\n",
    "    if data['BDI'][i] != '#NULL!' and data['BDI'][i] >= 13:\n",
    "        data['disorder'][i] = 1\n",
    "    else:\n",
    "        data['disorder'][i] = 0"
   ]
  },
  {
   "cell_type": "code",
   "execution_count": 5,
   "metadata": {
    "colab": {
     "base_uri": "https://localhost:8080/",
     "height": 540
    },
    "executionInfo": {
     "elapsed": 9,
     "status": "ok",
     "timestamp": 1677517797176,
     "user": {
      "displayName": "Anna Grabowska",
      "userId": "15734344613010880864"
     },
     "user_tz": -60
    },
    "id": "vwwgmlA3iqsw",
    "outputId": "b49c5f67-f2a9-4184-a0a6-aa497ed3b508"
   },
   "outputs": [
    {
     "data": {
      "text/html": [
       "<div>\n",
       "<style scoped>\n",
       "    .dataframe tbody tr th:only-of-type {\n",
       "        vertical-align: middle;\n",
       "    }\n",
       "\n",
       "    .dataframe tbody tr th {\n",
       "        vertical-align: top;\n",
       "    }\n",
       "\n",
       "    .dataframe thead th {\n",
       "        text-align: right;\n",
       "    }\n",
       "</style>\n",
       "<table border=\"1\" class=\"dataframe\">\n",
       "  <thead>\n",
       "    <tr style=\"text-align: right;\">\n",
       "      <th></th>\n",
       "      <th>id</th>\n",
       "      <th>SCID</th>\n",
       "      <th>SCID_note</th>\n",
       "      <th>sex</th>\n",
       "      <th>age</th>\n",
       "      <th>BDI</th>\n",
       "      <th>BDI_cog</th>\n",
       "      <th>BDI_aff</th>\n",
       "      <th>BDI_som</th>\n",
       "      <th>TAI</th>\n",
       "      <th>...</th>\n",
       "      <th>loconf_rt</th>\n",
       "      <th>pos_rt</th>\n",
       "      <th>neg_rt</th>\n",
       "      <th>hiconf_pos_rt</th>\n",
       "      <th>loconf_pos_rt</th>\n",
       "      <th>hiconf_neg_rt</th>\n",
       "      <th>loconf_neg_rt</th>\n",
       "      <th>TST_aG</th>\n",
       "      <th>TST_aL</th>\n",
       "      <th>disorder</th>\n",
       "    </tr>\n",
       "  </thead>\n",
       "  <tbody>\n",
       "    <tr>\n",
       "      <th>0</th>\n",
       "      <td>507</td>\n",
       "      <td>99.0</td>\n",
       "      <td>NaN</td>\n",
       "      <td>1</td>\n",
       "      <td>19</td>\n",
       "      <td>0.0</td>\n",
       "      <td>0.00</td>\n",
       "      <td>0.00</td>\n",
       "      <td>0.00</td>\n",
       "      <td>23.0</td>\n",
       "      <td>...</td>\n",
       "      <td>753.41</td>\n",
       "      <td>722.02</td>\n",
       "      <td>828.73</td>\n",
       "      <td>728.22</td>\n",
       "      <td>721.10</td>\n",
       "      <td>905.28</td>\n",
       "      <td>785.73</td>\n",
       "      <td>0.12</td>\n",
       "      <td>0.00</td>\n",
       "      <td>0</td>\n",
       "    </tr>\n",
       "    <tr>\n",
       "      <th>1</th>\n",
       "      <td>508</td>\n",
       "      <td>99.0</td>\n",
       "      <td>NaN</td>\n",
       "      <td>1</td>\n",
       "      <td>18</td>\n",
       "      <td>4.0</td>\n",
       "      <td>0.00</td>\n",
       "      <td>0.67</td>\n",
       "      <td>0.17</td>\n",
       "      <td>47.0</td>\n",
       "      <td>...</td>\n",
       "      <td>932.63</td>\n",
       "      <td>772.36</td>\n",
       "      <td>986.75</td>\n",
       "      <td>771.20</td>\n",
       "      <td>896.43</td>\n",
       "      <td>1202.03</td>\n",
       "      <td>968.84</td>\n",
       "      <td>0.28</td>\n",
       "      <td>0.93</td>\n",
       "      <td>0</td>\n",
       "    </tr>\n",
       "    <tr>\n",
       "      <th>2</th>\n",
       "      <td>509</td>\n",
       "      <td>99.0</td>\n",
       "      <td>NaN</td>\n",
       "      <td>1</td>\n",
       "      <td>18</td>\n",
       "      <td>7.0</td>\n",
       "      <td>0.17</td>\n",
       "      <td>0.00</td>\n",
       "      <td>0.67</td>\n",
       "      <td>44.0</td>\n",
       "      <td>...</td>\n",
       "      <td>739.20</td>\n",
       "      <td>739.28</td>\n",
       "      <td>830.53</td>\n",
       "      <td>794.16</td>\n",
       "      <td>736.67</td>\n",
       "      <td>830.53</td>\n",
       "      <td>741.74</td>\n",
       "      <td>0.07</td>\n",
       "      <td>0.05</td>\n",
       "      <td>0</td>\n",
       "    </tr>\n",
       "    <tr>\n",
       "      <th>3</th>\n",
       "      <td>510</td>\n",
       "      <td>99.0</td>\n",
       "      <td>NaN</td>\n",
       "      <td>1</td>\n",
       "      <td>19</td>\n",
       "      <td>1.0</td>\n",
       "      <td>0.00</td>\n",
       "      <td>0.00</td>\n",
       "      <td>0.17</td>\n",
       "      <td>27.0</td>\n",
       "      <td>...</td>\n",
       "      <td>1239.09</td>\n",
       "      <td>1231.04</td>\n",
       "      <td>1500.54</td>\n",
       "      <td>1113.41</td>\n",
       "      <td>1123.20</td>\n",
       "      <td>1035.47</td>\n",
       "      <td>1354.97</td>\n",
       "      <td>0.37</td>\n",
       "      <td>0.63</td>\n",
       "      <td>0</td>\n",
       "    </tr>\n",
       "    <tr>\n",
       "      <th>4</th>\n",
       "      <td>511</td>\n",
       "      <td>99.0</td>\n",
       "      <td>NaN</td>\n",
       "      <td>2</td>\n",
       "      <td>22</td>\n",
       "      <td>1.0</td>\n",
       "      <td>0.00</td>\n",
       "      <td>0.00</td>\n",
       "      <td>0.17</td>\n",
       "      <td>23.0</td>\n",
       "      <td>...</td>\n",
       "      <td>1527.80</td>\n",
       "      <td>1908.43</td>\n",
       "      <td>1305.88</td>\n",
       "      <td>1885.73</td>\n",
       "      <td>1731.81</td>\n",
       "      <td>1297.05</td>\n",
       "      <td>1323.80</td>\n",
       "      <td>0.95</td>\n",
       "      <td>0.00</td>\n",
       "      <td>0</td>\n",
       "    </tr>\n",
       "    <tr>\n",
       "      <th>...</th>\n",
       "      <td>...</td>\n",
       "      <td>...</td>\n",
       "      <td>...</td>\n",
       "      <td>...</td>\n",
       "      <td>...</td>\n",
       "      <td>...</td>\n",
       "      <td>...</td>\n",
       "      <td>...</td>\n",
       "      <td>...</td>\n",
       "      <td>...</td>\n",
       "      <td>...</td>\n",
       "      <td>...</td>\n",
       "      <td>...</td>\n",
       "      <td>...</td>\n",
       "      <td>...</td>\n",
       "      <td>...</td>\n",
       "      <td>...</td>\n",
       "      <td>...</td>\n",
       "      <td>...</td>\n",
       "      <td>...</td>\n",
       "      <td>...</td>\n",
       "    </tr>\n",
       "    <tr>\n",
       "      <th>116</th>\n",
       "      <td>624</td>\n",
       "      <td>1.0</td>\n",
       "      <td>NaN</td>\n",
       "      <td>1</td>\n",
       "      <td>20</td>\n",
       "      <td>23.0</td>\n",
       "      <td>1.33</td>\n",
       "      <td>1.00</td>\n",
       "      <td>0.67</td>\n",
       "      <td>60.0</td>\n",
       "      <td>...</td>\n",
       "      <td>696.15</td>\n",
       "      <td>685.56</td>\n",
       "      <td>799.69</td>\n",
       "      <td>764.35</td>\n",
       "      <td>645.86</td>\n",
       "      <td>843.43</td>\n",
       "      <td>746.44</td>\n",
       "      <td>0.65</td>\n",
       "      <td>0.81</td>\n",
       "      <td>1</td>\n",
       "    </tr>\n",
       "    <tr>\n",
       "      <th>117</th>\n",
       "      <td>625</td>\n",
       "      <td>2.0</td>\n",
       "      <td>subsyndromal current</td>\n",
       "      <td>1</td>\n",
       "      <td>19</td>\n",
       "      <td>16.0</td>\n",
       "      <td>0.67</td>\n",
       "      <td>1.00</td>\n",
       "      <td>0.83</td>\n",
       "      <td>60.0</td>\n",
       "      <td>...</td>\n",
       "      <td>1149.39</td>\n",
       "      <td>1130.02</td>\n",
       "      <td>1153.62</td>\n",
       "      <td>1159.48</td>\n",
       "      <td>1116.37</td>\n",
       "      <td>1139.42</td>\n",
       "      <td>1182.42</td>\n",
       "      <td>0.69</td>\n",
       "      <td>1.00</td>\n",
       "      <td>1</td>\n",
       "    </tr>\n",
       "    <tr>\n",
       "      <th>118</th>\n",
       "      <td>626</td>\n",
       "      <td>1.0</td>\n",
       "      <td>NaN</td>\n",
       "      <td>1</td>\n",
       "      <td>18</td>\n",
       "      <td>14.0</td>\n",
       "      <td>0.33</td>\n",
       "      <td>1.00</td>\n",
       "      <td>0.83</td>\n",
       "      <td>41.0</td>\n",
       "      <td>...</td>\n",
       "      <td>1805.77</td>\n",
       "      <td>1878.83</td>\n",
       "      <td>1732.71</td>\n",
       "      <td>1071.52</td>\n",
       "      <td>1878.83</td>\n",
       "      <td>1780.84</td>\n",
       "      <td>1732.71</td>\n",
       "      <td>0.70</td>\n",
       "      <td>0.38</td>\n",
       "      <td>1</td>\n",
       "    </tr>\n",
       "    <tr>\n",
       "      <th>119</th>\n",
       "      <td>627</td>\n",
       "      <td>2.0</td>\n",
       "      <td>NaN</td>\n",
       "      <td>2</td>\n",
       "      <td>19</td>\n",
       "      <td>30.0</td>\n",
       "      <td>1.00</td>\n",
       "      <td>1.33</td>\n",
       "      <td>2.17</td>\n",
       "      <td>47.0</td>\n",
       "      <td>...</td>\n",
       "      <td>2131.00</td>\n",
       "      <td>2065.05</td>\n",
       "      <td>2270.20</td>\n",
       "      <td>2167.89</td>\n",
       "      <td>1941.75</td>\n",
       "      <td>2261.39</td>\n",
       "      <td>2320.25</td>\n",
       "      <td>0.10</td>\n",
       "      <td>0.61</td>\n",
       "      <td>1</td>\n",
       "    </tr>\n",
       "    <tr>\n",
       "      <th>120</th>\n",
       "      <td>628</td>\n",
       "      <td>1.0</td>\n",
       "      <td>dysthymic, Hx Alc curr cannabis</td>\n",
       "      <td>2</td>\n",
       "      <td>18</td>\n",
       "      <td>19.0</td>\n",
       "      <td>0.50</td>\n",
       "      <td>0.67</td>\n",
       "      <td>1.67</td>\n",
       "      <td>56.0</td>\n",
       "      <td>...</td>\n",
       "      <td>1003.15</td>\n",
       "      <td>1118.97</td>\n",
       "      <td>1010.33</td>\n",
       "      <td>862.58</td>\n",
       "      <td>1118.97</td>\n",
       "      <td>1181.48</td>\n",
       "      <td>887.32</td>\n",
       "      <td>0.00</td>\n",
       "      <td>0.00</td>\n",
       "      <td>1</td>\n",
       "    </tr>\n",
       "  </tbody>\n",
       "</table>\n",
       "<p>121 rows × 36 columns</p>\n",
       "</div>"
      ],
      "text/plain": [
       "      id  SCID                        SCID_note  sex age   BDI  BDI_cog  \\\n",
       "0    507  99.0                              NaN    1  19   0.0     0.00   \n",
       "1    508  99.0                              NaN    1  18   4.0     0.00   \n",
       "2    509  99.0                              NaN    1  18   7.0     0.17   \n",
       "3    510  99.0                              NaN    1  19   1.0     0.00   \n",
       "4    511  99.0                              NaN    2  22   1.0     0.00   \n",
       "..   ...   ...                              ...  ...  ..   ...      ...   \n",
       "116  624   1.0                              NaN    1  20  23.0     1.33   \n",
       "117  625   2.0             subsyndromal current    1  19  16.0     0.67   \n",
       "118  626   1.0                              NaN    1  18  14.0     0.33   \n",
       "119  627   2.0                              NaN    2  19  30.0     1.00   \n",
       "120  628   1.0  dysthymic, Hx Alc curr cannabis    2  18  19.0     0.50   \n",
       "\n",
       "     BDI_aff  BDI_som   TAI  ...  loconf_rt   pos_rt   neg_rt  hiconf_pos_rt  \\\n",
       "0       0.00     0.00  23.0  ...     753.41   722.02   828.73         728.22   \n",
       "1       0.67     0.17  47.0  ...     932.63   772.36   986.75         771.20   \n",
       "2       0.00     0.67  44.0  ...     739.20   739.28   830.53         794.16   \n",
       "3       0.00     0.17  27.0  ...    1239.09  1231.04  1500.54        1113.41   \n",
       "4       0.00     0.17  23.0  ...    1527.80  1908.43  1305.88        1885.73   \n",
       "..       ...      ...   ...  ...        ...      ...      ...            ...   \n",
       "116     1.00     0.67  60.0  ...     696.15   685.56   799.69         764.35   \n",
       "117     1.00     0.83  60.0  ...    1149.39  1130.02  1153.62        1159.48   \n",
       "118     1.00     0.83  41.0  ...    1805.77  1878.83  1732.71        1071.52   \n",
       "119     1.33     2.17  47.0  ...    2131.00  2065.05  2270.20        2167.89   \n",
       "120     0.67     1.67  56.0  ...    1003.15  1118.97  1010.33         862.58   \n",
       "\n",
       "     loconf_pos_rt  hiconf_neg_rt  loconf_neg_rt  TST_aG  TST_aL  disorder  \n",
       "0           721.10         905.28         785.73    0.12    0.00         0  \n",
       "1           896.43        1202.03         968.84    0.28    0.93         0  \n",
       "2           736.67         830.53         741.74    0.07    0.05         0  \n",
       "3          1123.20        1035.47        1354.97    0.37    0.63         0  \n",
       "4          1731.81        1297.05        1323.80    0.95    0.00         0  \n",
       "..             ...            ...            ...     ...     ...       ...  \n",
       "116         645.86         843.43         746.44    0.65    0.81         1  \n",
       "117        1116.37        1139.42        1182.42    0.69    1.00         1  \n",
       "118        1878.83        1780.84        1732.71    0.70    0.38         1  \n",
       "119        1941.75        2261.39        2320.25    0.10    0.61         1  \n",
       "120        1118.97        1181.48         887.32    0.00    0.00         1  \n",
       "\n",
       "[121 rows x 36 columns]"
      ]
     },
     "execution_count": 5,
     "metadata": {},
     "output_type": "execute_result"
    }
   ],
   "source": [
    "data"
   ]
  },
  {
   "cell_type": "code",
   "execution_count": 6,
   "metadata": {
    "executionInfo": {
     "elapsed": 2,
     "status": "ok",
     "timestamp": 1677517800596,
     "user": {
      "displayName": "Anna Grabowska",
      "userId": "15734344613010880864"
     },
     "user_tz": -60
    },
    "id": "4wVOizBbnthp"
   },
   "outputs": [],
   "source": [
    "ids = data['id'][:].astype(int)"
   ]
  },
  {
   "cell_type": "markdown",
   "metadata": {
    "id": "wDt-UDhFqu0g"
   },
   "source": [
    "## Load EEG data"
   ]
  },
  {
   "cell_type": "code",
   "execution_count": 18,
   "metadata": {
    "colab": {
     "base_uri": "https://localhost:8080/"
    },
    "executionInfo": {
     "elapsed": 1634,
     "status": "ok",
     "timestamp": 1677518482441,
     "user": {
      "displayName": "Anna Grabowska",
      "userId": "15734344613010880864"
     },
     "user_tz": -60
    },
    "id": "bwQTP8md9TcN",
    "outputId": "06ef3c64-6497-4112-f932-479b0402bb64"
   },
   "outputs": [
    {
     "data": {
      "text/plain": [
       "47"
      ]
     },
     "execution_count": 18,
     "metadata": {},
     "output_type": "execute_result"
    }
   ],
   "source": [
    "ctrl_dep = [data.iloc[part] for part in range(len(data)) if data['BDI'][part] <= 13 and data['TAI'][part] > 28]\n",
    "ctrl_dep = pd.DataFrame(ctrl_dep)\n",
    "len(ctrl_dep)"
   ]
  },
  {
   "cell_type": "code",
   "execution_count": 19,
   "metadata": {},
   "outputs": [
    {
     "data": {
      "text/plain": [
       "45"
      ]
     },
     "execution_count": 19,
     "metadata": {},
     "output_type": "execute_result"
    }
   ],
   "source": [
    "ctrl_dep = ctrl_dep[(ctrl_dep['id'] != 599) & (ctrl_dep['id'] != 600)]\n",
    "len(ctrl_dep)"
   ]
  },
  {
   "cell_type": "code",
   "execution_count": 20,
   "metadata": {
    "colab": {
     "base_uri": "https://localhost:8080/"
    },
    "executionInfo": {
     "elapsed": 9,
     "status": "ok",
     "timestamp": 1677518482887,
     "user": {
      "displayName": "Anna Grabowska",
      "userId": "15734344613010880864"
     },
     "user_tz": -60
    },
    "id": "99n0TtUK9ksT",
    "outputId": "f3ba7a7e-1df9-40f7-8cb7-531dc5568a22"
   },
   "outputs": [
    {
     "data": {
      "text/plain": [
       "45"
      ]
     },
     "execution_count": 20,
     "metadata": {},
     "output_type": "execute_result"
    }
   ],
   "source": [
    "dep = [data.iloc[part] for part in range(len(data)) if data['BDI'][part] > 13.0 and data['TAI'][part] > 28]\n",
    "dep = pd.DataFrame(dep)\n",
    "len(dep)"
   ]
  },
  {
   "cell_type": "code",
   "execution_count": 21,
   "metadata": {
    "colab": {
     "base_uri": "https://localhost:8080/"
    },
    "executionInfo": {
     "elapsed": 10,
     "status": "ok",
     "timestamp": 1677518484019,
     "user": {
      "displayName": "Anna Grabowska",
      "userId": "15734344613010880864"
     },
     "user_tz": -60
    },
    "id": "97mJ2ng_AbGE",
    "outputId": "ede2577b-dae5-436c-ab09-f410d82f70cb"
   },
   "outputs": [
    {
     "data": {
      "text/plain": [
       "31"
      ]
     },
     "execution_count": 21,
     "metadata": {},
     "output_type": "execute_result"
    }
   ],
   "source": [
    "anx = [data.iloc[part] for part in range(len(data)) if (data['TAI'][part] > 31) and (data['BDI'][part] < 7)]\n",
    "anx = pd.DataFrame(anx)\n",
    "len(anx)"
   ]
  },
  {
   "cell_type": "code",
   "execution_count": 22,
   "metadata": {},
   "outputs": [
    {
     "data": {
      "text/plain": [
       "29"
      ]
     },
     "execution_count": 22,
     "metadata": {},
     "output_type": "execute_result"
    }
   ],
   "source": [
    "anx = anx[(anx['id'] != 599) & (anx['id'] != 600)]\n",
    "len(anx)"
   ]
  },
  {
   "cell_type": "code",
   "execution_count": 23,
   "metadata": {
    "colab": {
     "base_uri": "https://localhost:8080/"
    },
    "executionInfo": {
     "elapsed": 9,
     "status": "ok",
     "timestamp": 1677518484020,
     "user": {
      "displayName": "Anna Grabowska",
      "userId": "15734344613010880864"
     },
     "user_tz": -60
    },
    "id": "G7I_H8GE4A1B",
    "outputId": "71543e90-f1c3-41a1-e05d-65646b48b9eb"
   },
   "outputs": [
    {
     "data": {
      "text/plain": [
       "29"
      ]
     },
     "execution_count": 23,
     "metadata": {},
     "output_type": "execute_result"
    }
   ],
   "source": [
    "ctrl_anx = [data.iloc[part] for part in range(len(data)) if (data['TAI'][part] < 29) and (data['BDI'][part] < 7)]\n",
    "ctrl_anx = pd.DataFrame(ctrl_anx)\n",
    "len(ctrl_anx)"
   ]
  },
  {
   "cell_type": "code",
   "execution_count": 17,
   "metadata": {
    "colab": {
     "base_uri": "https://localhost:8080/"
    },
    "executionInfo": {
     "elapsed": 1634,
     "status": "ok",
     "timestamp": 1677518482441,
     "user": {
      "displayName": "Anna Grabowska",
      "userId": "15734344613010880864"
     },
     "user_tz": -60
    },
    "id": "bwQTP8md9TcN",
    "outputId": "06ef3c64-6497-4112-f932-479b0402bb64",
    "tags": []
   },
   "outputs": [],
   "source": [
    "# ctrl_dep = [data.iloc[part] for part in range(len(data)) if data['BDI'][part] <= 7 and data['TAI'][part] > 28]\n",
    "# ctrl_dep = pd.DataFrame(ctrl_dep)\n",
    "# len(ctrl_dep)\n",
    "\n",
    "# dep = [data.iloc[part] for part in range(len(data)) if data['BDI'][part] > 13 and data['TAI'][part] < 60][:29]\n",
    "# dep = pd.DataFrame(dep)\n",
    "# len(dep)\n",
    "\n",
    "# anx = [data.iloc[part] for part in range(len(data)) if (data['TAI'][part] > 31) and (data['BDI'][part] < 7)]\n",
    "# anx = pd.DataFrame(anx)\n",
    "# len(anx)\n",
    "\n",
    "# anx = anx[(anx['id'] != 599) & (anx['id'] != 600)]\n",
    "# len(anx)\n",
    "\n",
    "# ctrl_anx = [data.iloc[part] for part in range(len(data)) if (data['TAI'][part] < 29) and (data['BDI'][part] < 7)]\n",
    "# ctrl_anx = pd.DataFrame(ctrl_anx)\n",
    "# len(ctrl_anx)"
   ]
  },
  {
   "cell_type": "markdown",
   "metadata": {},
   "source": [
    "### Test statistical differences between gropus"
   ]
  },
  {
   "cell_type": "markdown",
   "metadata": {},
   "source": [
    "#### Depression"
   ]
  },
  {
   "cell_type": "markdown",
   "metadata": {},
   "source": [
    "- TAI"
   ]
  },
  {
   "cell_type": "code",
   "execution_count": 24,
   "metadata": {},
   "outputs": [],
   "source": [
    "control_depression_tai = ctrl_dep['TAI'].to_numpy()\n",
    "depression_tai = dep['TAI'].to_numpy()"
   ]
  },
  {
   "cell_type": "code",
   "execution_count": 25,
   "metadata": {
    "tags": []
   },
   "outputs": [
    {
     "data": {
      "text/plain": [
       "array([47., 44., 37., 36., 36., 40., 30., 30., 38., 30., 30., 31., 33.,\n",
       "       34., 33., 42., 37., 36., 37., 37., 32., 38., 29., 36., 30., 34.,\n",
       "       29., 29., 38., 33., 34., 38., 29., 35., 33., 38., 30., 31., 31.,\n",
       "       36., 34., 36., 30., 35., 57.])"
      ]
     },
     "execution_count": 25,
     "metadata": {},
     "output_type": "execute_result"
    }
   ],
   "source": [
    "control_depression_tai"
   ]
  },
  {
   "cell_type": "code",
   "execution_count": 26,
   "metadata": {
    "tags": []
   },
   "outputs": [
    {
     "data": {
      "text/plain": [
       "array([51., 69., 54., 62., 59., 48., 56., 50., 38., 52., 59., 60., 57.,\n",
       "       65., 60., 61., 50., 60., 65., 52., 57., 52., 47., 63., 57., 58.,\n",
       "       58., 58., 63., 58., 58., 68., 48., 57., 53., 50., 64., 44., 41.,\n",
       "       62., 60., 60., 41., 47., 56.])"
      ]
     },
     "execution_count": 26,
     "metadata": {},
     "output_type": "execute_result"
    }
   ],
   "source": [
    "depression_tai"
   ]
  },
  {
   "cell_type": "code",
   "execution_count": 27,
   "metadata": {
    "tags": []
   },
   "outputs": [
    {
     "name": "stdout",
     "output_type": "stream",
     "text": [
      "Depression group: mean TAI score: 55.733333333333334 SD = 7.078606265831337\n",
      "Control group: mean TAI score: 34.955555555555556 SD = 5.261835571380667\n"
     ]
    }
   ],
   "source": [
    "print(f\"Depression group: mean TAI score: {depression_tai.mean()} SD = {depression_tai.std()}\")\n",
    "print(f\"Control group: mean TAI score: {control_depression_tai.mean()} SD = {control_depression_tai.std()}\")"
   ]
  },
  {
   "cell_type": "code",
   "execution_count": 28,
   "metadata": {
    "tags": []
   },
   "outputs": [
    {
     "name": "stdout",
     "output_type": "stream",
     "text": [
      "t(44) = 16.908778593341868, p = 7.223361449183723e-21\n"
     ]
    }
   ],
   "source": [
    "t_value, p_value = ttest_rel(depression_tai, control_depression_tai)\n",
    "print(f\"t({len(control_depression_tai) -1}) = {t_value}, p = {p_value}\")"
   ]
  },
  {
   "cell_type": "markdown",
   "metadata": {},
   "source": [
    "- BDI"
   ]
  },
  {
   "cell_type": "code",
   "execution_count": 29,
   "metadata": {},
   "outputs": [],
   "source": [
    "control_depression_bdi = ctrl_dep['BDI'].to_numpy()\n",
    "depression_bdi = dep['BDI'].to_numpy()"
   ]
  },
  {
   "cell_type": "code",
   "execution_count": 30,
   "metadata": {
    "tags": []
   },
   "outputs": [
    {
     "data": {
      "text/plain": [
       "array([ 4.,  7.,  5.,  5.,  1.,  6.,  0.,  1.,  3.,  2.,  0.,  1.,  1.,\n",
       "        1.,  1.,  1.,  5.,  2.,  2.,  2.,  0.,  1.,  0.,  0.,  1.,  0.,\n",
       "        5.,  2.,  3.,  2.,  4.,  1.,  1.,  2.,  4.,  5.,  0.,  1.,  4.,\n",
       "        3.,  3.,  3.,  0.,  1., 13.])"
      ]
     },
     "execution_count": 30,
     "metadata": {},
     "output_type": "execute_result"
    }
   ],
   "source": [
    "control_depression_bdi"
   ]
  },
  {
   "cell_type": "code",
   "execution_count": 31,
   "metadata": {
    "tags": []
   },
   "outputs": [
    {
     "data": {
      "text/plain": [
       "array([29., 25., 27., 27., 24., 18., 24., 28., 22., 18., 22., 29., 22.,\n",
       "       30., 27., 19., 20., 19., 27., 21., 22., 20., 20., 28., 23., 26.,\n",
       "       15., 15., 25., 28., 19., 30., 16., 18., 24., 23., 27., 17., 14.,\n",
       "       19., 23., 16., 14., 30., 19.])"
      ]
     },
     "execution_count": 31,
     "metadata": {},
     "output_type": "execute_result"
    }
   ],
   "source": [
    "depression_bdi"
   ]
  },
  {
   "cell_type": "code",
   "execution_count": 32,
   "metadata": {
    "tags": []
   },
   "outputs": [
    {
     "name": "stdout",
     "output_type": "stream",
     "text": [
      "Depression group: mean BDI score: 22.42222222222222 SD = 4.697464511787841\n",
      "Control group: mean BDI score: 2.422222222222222 SD = 2.4266015457277685\n"
     ]
    }
   ],
   "source": [
    "print(f\"Depression group: mean BDI score: {depression_bdi.mean()} SD = {depression_bdi.std()}\")\n",
    "print(f\"Control group: mean BDI score: {control_depression_bdi.mean()} SD = {control_depression_bdi.std()}\")"
   ]
  },
  {
   "cell_type": "code",
   "execution_count": 33,
   "metadata": {
    "tags": []
   },
   "outputs": [
    {
     "name": "stdout",
     "output_type": "stream",
     "text": [
      "t(44) = 23.50109051150873, p = 1.5465183832089604e-26\n"
     ]
    }
   ],
   "source": [
    "t_value, p_value = ttest_rel(depression_bdi, control_depression_bdi)\n",
    "print(f\"t({len(depression_bdi) -1}) = {t_value}, p = {p_value}\")"
   ]
  },
  {
   "cell_type": "markdown",
   "metadata": {},
   "source": [
    "#### Anxiety"
   ]
  },
  {
   "cell_type": "markdown",
   "metadata": {},
   "source": [
    "- TAI"
   ]
  },
  {
   "cell_type": "code",
   "execution_count": 34,
   "metadata": {},
   "outputs": [],
   "source": [
    "control_anx_tai = ctrl_anx['TAI'].to_numpy()\n",
    "anx_tai = anx['TAI'].to_numpy()"
   ]
  },
  {
   "cell_type": "code",
   "execution_count": 35,
   "metadata": {},
   "outputs": [
    {
     "data": {
      "text/plain": [
       "array([23., 27., 23., 26., 22., 28., 23., 28., 24., 27., 24., 27., 26.,\n",
       "       27., 26., 27., 22., 25., 27., 27., 24., 24., 26., 28., 28., 27.,\n",
       "       26., 25., 27.])"
      ]
     },
     "execution_count": 35,
     "metadata": {},
     "output_type": "execute_result"
    }
   ],
   "source": [
    "control_anx_tai"
   ]
  },
  {
   "cell_type": "code",
   "execution_count": 36,
   "metadata": {},
   "outputs": [
    {
     "data": {
      "text/plain": [
       "array([47., 37., 36., 36., 40., 38., 33., 34., 33., 42., 37., 36., 37.,\n",
       "       37., 32., 38., 36., 34., 38., 33., 34., 38., 35., 33., 38., 36.,\n",
       "       34., 36., 35.])"
      ]
     },
     "execution_count": 36,
     "metadata": {},
     "output_type": "execute_result"
    }
   ],
   "source": [
    "anx_tai"
   ]
  },
  {
   "cell_type": "code",
   "execution_count": 37,
   "metadata": {},
   "outputs": [
    {
     "name": "stdout",
     "output_type": "stream",
     "text": [
      "Anxiety group: mean TAI score: 36.310344827586206 SD = 3.0183741715888415\n",
      "Control group: mean TAI score: 25.655172413793103 SD = 1.8434574351205044\n"
     ]
    }
   ],
   "source": [
    "print(f\"Anxiety group: mean TAI score: {anx_tai.mean()} SD = {anx_tai.std()}\")\n",
    "print(f\"Control group: mean TAI score: {control_anx_tai.mean()} SD = {control_anx_tai.std()}\")"
   ]
  },
  {
   "cell_type": "code",
   "execution_count": 38,
   "metadata": {
    "tags": []
   },
   "outputs": [
    {
     "name": "stdout",
     "output_type": "stream",
     "text": [
      "t(28) = 14.948557727567003, p = 7.11188718218075e-15\n"
     ]
    }
   ],
   "source": [
    "t_value, p_value = ttest_rel(anx_tai, control_anx_tai)\n",
    "print(f\"t({len(anx_tai) -1}) = {t_value}, p = {p_value}\")"
   ]
  },
  {
   "cell_type": "markdown",
   "metadata": {},
   "source": [
    "- BDI"
   ]
  },
  {
   "cell_type": "code",
   "execution_count": 39,
   "metadata": {},
   "outputs": [],
   "source": [
    "control_anx_bdi = ctrl_anx['BDI'].to_numpy()\n",
    "anx_bdi = anx['BDI'].to_numpy()"
   ]
  },
  {
   "cell_type": "code",
   "execution_count": 41,
   "metadata": {},
   "outputs": [
    {
     "name": "stdout",
     "output_type": "stream",
     "text": [
      "[0. 1. 1. 1. 0. 0. 0. 3. 2. 0. 2. 0. 1. 2. 2. 3. 0. 0. 0. 1. 1. 2. 2. 1.\n",
      " 0. 2. 3. 0. 2.]\n",
      "[4. 5. 5. 1. 6. 3. 1. 1. 1. 1. 5. 2. 2. 2. 0. 1. 0. 0. 3. 2. 4. 1. 2. 4.\n",
      " 5. 3. 3. 3. 1.]\n"
     ]
    }
   ],
   "source": [
    "print(control_anx_bdi)\n",
    "print(anx_bdi)"
   ]
  },
  {
   "cell_type": "code",
   "execution_count": 42,
   "metadata": {},
   "outputs": [
    {
     "name": "stdout",
     "output_type": "stream",
     "text": [
      "Anxiety group: mean BDI score: 2.4482758620689653 SD = 1.6935212631460241\n",
      "Control group: mean BDI score: 1.103448275862069 SD = 1.028719578632848\n"
     ]
    }
   ],
   "source": [
    "print(f\"Anxiety group: mean BDI score: {anx_bdi.mean()} SD = {anx_bdi.std()}\")\n",
    "print(f\"Control group: mean BDI score: {control_anx_bdi.mean()} SD = {control_anx_bdi.std()}\")"
   ]
  },
  {
   "cell_type": "code",
   "execution_count": 45,
   "metadata": {
    "tags": []
   },
   "outputs": [
    {
     "name": "stdout",
     "output_type": "stream",
     "text": [
      "t(28) = 3.3036953355784657, p = 0.0026156254959064104\n"
     ]
    }
   ],
   "source": [
    "t_value, p_value = ttest_rel(anx_bdi, control_anx_bdi)\n",
    "print(f\"t({len(anx_bdi) -1}) = {t_value}, p = {p_value}\")"
   ]
  }
 ],
 "metadata": {
  "colab": {
   "collapsed_sections": [
    "74g2chqQWa48",
    "3irne7dXaoIt"
   ],
   "name": "",
   "provenance": [
    {
     "file_id": "13OESwog1Uwt1WAcNW9QEaphoYxPyNplr",
     "timestamp": 1677327376830
    }
   ],
   "toc_visible": true,
   "version": ""
  },
  "kernelspec": {
   "display_name": "bluish",
   "language": "python",
   "name": "bluish"
  },
  "language_info": {
   "codemirror_mode": {
    "name": "ipython",
    "version": 3
   },
   "file_extension": ".py",
   "mimetype": "text/x-python",
   "name": "python",
   "nbconvert_exporter": "python",
   "pygments_lexer": "ipython3",
   "version": "3.8.10"
  }
 },
 "nbformat": 4,
 "nbformat_minor": 4
}
