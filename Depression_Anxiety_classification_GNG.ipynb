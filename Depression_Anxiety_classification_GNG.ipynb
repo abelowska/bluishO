{
 "cells": [
  {
   "cell_type": "markdown",
   "metadata": {
    "id": "aVAPtMDTYvRD"
   },
   "source": [
    "# Depression and Anxiety base classification"
   ]
  },
  {
   "cell_type": "markdown",
   "metadata": {},
   "source": [
    "Based on the study by [Cavanagh et al. (2019)](https://www.ncbi.nlm.nih.gov/pmc/articles/PMC6515849/)"
   ]
  },
  {
   "cell_type": "markdown",
   "metadata": {
    "id": "FcABdbTciWqA"
   },
   "source": [
    "Import packages"
   ]
  },
  {
   "cell_type": "code",
   "execution_count": 191,
   "metadata": {
    "executionInfo": {
     "elapsed": 316,
     "status": "ok",
     "timestamp": 1677517783528,
     "user": {
      "displayName": "Anna Grabowska",
      "userId": "15734344613010880864"
     },
     "user_tz": -60
    },
    "id": "N_cSZrE3hRG1"
   },
   "outputs": [],
   "source": [
    "import io\n",
    "import mne\n",
    "import copy\n",
    "import glob\n",
    "import array\n",
    "import matplotlib\n",
    "import numpy as np\n",
    "import pandas as pd\n",
    "import sklearn.metrics\n",
    "import seaborn as sns\n",
    "import scipy.io as sio\n",
    "import plotly.express as px\n",
    "import matplotlib.pyplot as plt\n",
    "\n",
    "\n",
    "from itertools import chain\n",
    "from sklearn.svm import SVC\n",
    "from scipy.io import loadmat\n",
    "from sklearn import set_config\n",
    "\n",
    "from sklearn import preprocessing\n",
    "from sklearn.pipeline import Pipeline\n",
    "from sklearn.metrics import roc_auc_score, classification_report, balanced_accuracy_score\n",
    "from sklearn.preprocessing import MinMaxScaler\n",
    "from sklearn.model_selection import GridSearchCV, ShuffleSplit\n",
    "from sklearn.model_selection import StratifiedKFold\n",
    "from sklearn.linear_model import LogisticRegression\n",
    "from sklearn.model_selection import train_test_split\n",
    "from sklearn.preprocessing import StandardScaler\n",
    "from sklearn.neighbors import KNeighborsClassifier\n",
    "from sklearn.model_selection import permutation_test_score\n",
    "\n",
    "\n",
    "import numpy as np\n",
    "import matplotlib.pyplot as plt\n",
    "\n",
    "from sklearn.pipeline import Pipeline\n",
    "from sklearn.discriminant_analysis import LinearDiscriminantAnalysis\n",
    "from sklearn.model_selection import ShuffleSplit, cross_val_score, RepeatedStratifiedKFold\n",
    "from sklearn.utils import resample\n",
    "\n",
    "from mne import Epochs, pick_types, events_from_annotations\n",
    "from mne.channels import make_standard_montage\n",
    "from mne.io import concatenate_raws, read_raw_edf\n",
    "from mne.datasets import eegbci\n",
    "from mne.decoding import CSP\n",
    "\n",
    "from mne.preprocessing import Xdawn\n",
    "from mne.decoding import Vectorizer\n",
    "\n",
    "from mne.decoding import UnsupervisedSpatialFilter\n",
    "\n",
    "from sklearn.decomposition import PCA, FastICA\n",
    "\n",
    "from scipy import stats\n",
    "\n",
    "# parameters for plotting\n",
    "plt.rcParams[\"figure.figsize\"] = (10,7)\n",
    "\n",
    "import seaborn as sns\n",
    "sns.set_theme(style=\"whitegrid\", palette=\"deep\")"
   ]
  },
  {
   "cell_type": "markdown",
   "metadata": {},
   "source": [
    "### Load data"
   ]
  },
  {
   "cell_type": "code",
   "execution_count": 192,
   "metadata": {},
   "outputs": [],
   "source": [
    "# ctrl_dep['BDI'].to_numpy()"
   ]
  },
  {
   "cell_type": "markdown",
   "metadata": {},
   "source": [
    "## Classification"
   ]
  },
  {
   "cell_type": "code",
   "execution_count": 193,
   "metadata": {},
   "outputs": [],
   "source": [
    "random_state = 42"
   ]
  },
  {
   "cell_type": "code",
   "execution_count": 194,
   "metadata": {},
   "outputs": [],
   "source": [
    "# Calculating p-value with permutation test from sci-kit learn\n",
    "\n",
    "def calculate_p_permutations(estimator, X, y, cv=3, n_permutations=1000, n_jobs=1):\n",
    "\n",
    "    score_, perm_scores_, pvalue_ = permutation_test_score(\n",
    "        estimator, X, y, cv=cv, n_permutations=n_permutations, n_jobs=n_jobs\n",
    "    )\n",
    "\n",
    "    # summarize\n",
    "    print(f\"     The permutation P-value is = {pvalue_:.4f}\")\n",
    "    print(f\"     The permutation score is = {score_:.4f}\\n\")\n",
    "\n",
    "    return score_, pvalue_"
   ]
  },
  {
   "cell_type": "code",
   "execution_count": 195,
   "metadata": {
    "id": "5ES-E98N1UR5"
   },
   "outputs": [],
   "source": [
    "def evaluate_GS_model(\n",
    "    pipe,\n",
    "    X_train, \n",
    "    y_train, \n",
    "    X_test, \n",
    "    y_test, \n",
    "    classifier_params,\n",
    "    pipeline_name,\n",
    "    cv=StratifiedKFold(n_splits=5),\n",
    "    predict_test = True,\n",
    "    predict_train = True,\n",
    "    ):\n",
    "    \n",
    "    # define grid search\n",
    "    grid_search_model = GridSearchCV(\n",
    "        pipe,\n",
    "        classifier_params,\n",
    "        cv=cv,\n",
    "        scoring={\"roc_auc\", \"balanced_accuracy\", \"precision\", \"recall\"},\n",
    "        refit=\"balanced_accuracy\",\n",
    "        return_train_score=True,\n",
    "        verbose=10,\n",
    "        n_jobs=1,\n",
    "        \n",
    "    )\n",
    "\n",
    "    # fit model\n",
    "    grid_search_model.fit(X_train, y_train)\n",
    "\n",
    "    # predict test data\n",
    "    # y_test_pred = grid_search_model.predict(X_test) if predict_test is True else None\n",
    "    # test_score = roc_auc_score(y_test, y_test_pred) if predict_test is True else None\n",
    "\n",
    "    # predict train data\n",
    "    y_train_pred = grid_search_model.predict(X_train) if predict_train is True else None\n",
    "    train_score = balanced_accuracy_score(y_train, y_train_pred) if predict_train is True else None \n",
    "\n",
    "    # extract mean cv scores\n",
    "    mean_cv_score = grid_search_model.best_score_\n",
    "    \n",
    "    # report\n",
    "    # classification_report_ = classification_report(y_test, y_test_pred, labels=[0,1])\n",
    "\n",
    "    # extract splits scores\n",
    "    # ta linijka wyciąga z cv_results, czyli z DF z wynikami wszystkich testowanych \n",
    "    # w GS parametrów scory na kolejnych splitach cross-validacji\n",
    "    cv_results_df = pd.DataFrame(grid_search_model.cv_results_).iloc[[grid_search_model.best_index_]]\n",
    "    cv_splits_scores_df = cv_results_df.filter(regex=r\"split\\d*_test_roc_auc\").reset_index(drop=True) \n",
    "\n",
    "    # wyciąganie scorów na teście dla matryk zdefiniowanych w scoring\n",
    "    metrics_results_df = cv_results_df.filter(regex=r\"mean_test_*\").reset_index(drop=True)\n",
    "    \n",
    "    # calculate p-value\n",
    "    scores_, pvalue_ = calculate_p_permutations(\n",
    "            grid_search_model.best_estimator_, X_train, y_train, cv=cv\n",
    "        )\n",
    "\n",
    "\n",
    "    # save results in dataframe\n",
    "    this_result = pd.concat(\n",
    "        [\n",
    "            pd.DataFrame({\n",
    "            \"model_name\": [pipe.steps[-1][0]],\n",
    "            \"pipeline_name\": [pipeline_name],\n",
    "            \"train score\": [train_score],\n",
    "            \"mean_cv_score\": [mean_cv_score],\n",
    "            # \"test_score\": [test_score],\n",
    "            \"best_model\": [grid_search_model.best_estimator_],\n",
    "            \"parameters\": [grid_search_model.best_params_],\n",
    "            \"pvalue\":[pvalue_],    \n",
    "            }),\n",
    "         cv_splits_scores_df,\n",
    "         metrics_results_df,\n",
    "        ],\n",
    "    axis=1\n",
    "    ) \n",
    "\n",
    "    return this_result"
   ]
  },
  {
   "cell_type": "code",
   "execution_count": 196,
   "metadata": {},
   "outputs": [],
   "source": [
    "def evaluate_GS_model(\n",
    "    pipe, \n",
    "    X, \n",
    "    y, \n",
    "    classifier_params, \n",
    "    pipeline_name, \n",
    "    cv=StratifiedKFold(n_splits=5),\n",
    "    predict_test=True, \n",
    "    predict_train=True):\n",
    "    \n",
    "    # define grid search\n",
    "    grid_search_model = GridSearchCV(\n",
    "        pipe,\n",
    "        classifier_params,\n",
    "        cv=cv,\n",
    "        scoring={\"roc_auc\", \"balanced_accuracy\", \"precision\", \"recall\"},\n",
    "        refit=\"balanced_accuracy\",\n",
    "        return_train_score=True,\n",
    "        verbose=10,\n",
    "        n_jobs=1,\n",
    "    )\n",
    "\n",
    "    # fit model\n",
    "    grid_search_model.fit(X, y)\n",
    "\n",
    "    # predict test data\n",
    "    # y_test_pred = grid_search_model.predict(X_test) if predict_test is True else None\n",
    "    # test_score = roc_auc_score(y_test, y_test_pred) if predict_test is True else None\n",
    "\n",
    "    # predict train data\n",
    "    y_train_pred = grid_search_model.predict(X) if predict_train is True else None\n",
    "    train_score = balanced_accuracy_score(y, y_train_pred) if predict_train is True else None \n",
    "\n",
    "    # extract mean cv scores\n",
    "    mean_cv_score = grid_search_model.best_score_\n",
    "    \n",
    "    # report\n",
    "    # classification_report_ = classification_report(y_test, y_test_pred, labels=[0,1])\n",
    "\n",
    "    # extract splits scores\n",
    "    # ta linijka wyciąga z cv_results, czyli z DF z wynikami wszystkich testowanych \n",
    "    # w GS parametrów scory na kolejnych splitach cross-validacji\n",
    "    cv_results_df = pd.DataFrame(grid_search_model.cv_results_).iloc[[grid_search_model.best_index_]]\n",
    "    cv_splits_scores_df = cv_results_df.filter(regex=r\"split\\d*_test_roc_auc\").reset_index(drop=True) \n",
    "\n",
    "    # wyciąganie scorów na teście dla matryk zdefiniowanych w scoring\n",
    "    metrics_results_df = cv_results_df.filter(regex=r\"mean_test_*\").reset_index(drop=True)\n",
    "    \n",
    "    # calculate p-value\n",
    "    scores_, pvalue_ = calculate_p_permutations(\n",
    "            grid_search_model.best_estimator_, X, y, cv=cv\n",
    "        )\n",
    "\n",
    "\n",
    "    # save results in dataframe\n",
    "    this_result = pd.concat(\n",
    "        [\n",
    "            pd.DataFrame({\n",
    "            \"model_name\": [pipe.steps[-1][0]],\n",
    "            \"pipeline_name\": [pipeline_name],\n",
    "            \"train score\": [train_score],\n",
    "            \"mean_cv_score\": [mean_cv_score],\n",
    "            # \"test_score\": [test_score],\n",
    "            \"best_model\": [grid_search_model.best_estimator_],\n",
    "            \"parameters\": [grid_search_model.best_params_],\n",
    "            \"pvalue\":[pvalue_],    \n",
    "            }),\n",
    "         cv_splits_scores_df,\n",
    "         metrics_results_df,\n",
    "        ],\n",
    "        axis=1\n",
    "    ) \n",
    "\n",
    "    return this_result"
   ]
  },
  {
   "cell_type": "markdown",
   "metadata": {
    "id": "RcHAwa6LOvqm"
   },
   "source": [
    "Define estimators"
   ]
  },
  {
   "cell_type": "code",
   "execution_count": 197,
   "metadata": {
    "id": "DtsaDVEdPHXs"
   },
   "outputs": [],
   "source": [
    "lg = ('lg', LogisticRegression(penalty='l1', solver='liblinear', multi_class='auto'))\n",
    "lg_params = dict()\n",
    "\n",
    "svc = ('svc' , SVC())\n",
    "svc_params = dict(\n",
    "    svc__kernel=[\"linear\", \"rbf\"],\n",
    "    svc__C=[0.0001, 0.001, 0.01, 0.1, 1, 10, 100, 1000]\n",
    ")\n",
    "\n",
    "lda = (\"lda\", LinearDiscriminantAnalysis())\n",
    "lda_params = dict(\n",
    "    lda__solver = [\"lsqr\", \"eigen\"],\n",
    "    lda__shrinkage = [\"auto\"],\n",
    ")\n",
    "\n",
    "\n",
    "estimators = [\n",
    "    (lg, lg_params),\n",
    "    (svc, svc_params),\n",
    "    (lda, lda_params)\n",
    "]"
   ]
  },
  {
   "cell_type": "markdown",
   "metadata": {},
   "source": [
    "Define CSP"
   ]
  },
  {
   "cell_type": "code",
   "execution_count": 198,
   "metadata": {},
   "outputs": [],
   "source": [
    "csp = ('csp', CSP(log=None, norm_trace=False))\n",
    "csp_params = dict(\n",
    "    csp__n_components = [1,2,3,4],\n",
    "    csp__reg = [0.0001, 0.001, 0.01, 0.1, 1, 10]\n",
    ")"
   ]
  },
  {
   "cell_type": "markdown",
   "metadata": {},
   "source": [
    "### Data loading"
   ]
  },
  {
   "cell_type": "code",
   "execution_count": 199,
   "metadata": {},
   "outputs": [],
   "source": [
    "data = pd.read_pickle(\"data/feedback_export_Kuba/sonata_data_GNG_autoreject_short_epochs.pkl\")"
   ]
  },
  {
   "cell_type": "code",
   "execution_count": 200,
   "metadata": {},
   "outputs": [
    {
     "data": {
      "text/plain": [
       "75"
      ]
     },
     "execution_count": 200,
     "metadata": {},
     "output_type": "execute_result"
    }
   ],
   "source": [
    "dep = [data.iloc[part] for part in range(len(data)) if data['BDI'][part] > 13 and data['STAI'][part] > 41]\n",
    "dep = pd.DataFrame(dep)\n",
    "len(dep)"
   ]
  },
  {
   "cell_type": "code",
   "execution_count": 201,
   "metadata": {},
   "outputs": [
    {
     "data": {
      "text/plain": [
       "72"
      ]
     },
     "execution_count": 201,
     "metadata": {},
     "output_type": "execute_result"
    }
   ],
   "source": [
    "ctrl_dep = [data.iloc[part] for part in range(len(data)) if data['BDI'][part] <= 13 and data['STAI'][part] > 41]\n",
    "ctrl_dep = pd.DataFrame(ctrl_dep)\n",
    "len(ctrl_dep)"
   ]
  },
  {
   "cell_type": "code",
   "execution_count": 202,
   "metadata": {},
   "outputs": [
    {
     "data": {
      "text/plain": [
       "65"
      ]
     },
     "execution_count": 202,
     "metadata": {},
     "output_type": "execute_result"
    }
   ],
   "source": [
    "anx = [data.iloc[part] for part in range(len(data)) if data['BDI'][part] <= 13 and data['STAI'][part] > 42]\n",
    "anx = pd.DataFrame(anx)\n",
    "len(anx)"
   ]
  },
  {
   "cell_type": "code",
   "execution_count": 203,
   "metadata": {},
   "outputs": [
    {
     "data": {
      "text/plain": [
       "66"
      ]
     },
     "execution_count": 203,
     "metadata": {},
     "output_type": "execute_result"
    }
   ],
   "source": [
    "ctrl_anx = [data.iloc[part] for part in range(len(data)) if data['BDI'][part] <= 13 and data['STAI'][part] < 41]\n",
    "ctrl_anx = pd.DataFrame(ctrl_anx)\n",
    "len(ctrl_anx)"
   ]
  },
  {
   "cell_type": "code",
   "execution_count": 204,
   "metadata": {},
   "outputs": [],
   "source": [
    "frn_first_max=0.12\n",
    "tmin = 0.2\n",
    "tmax = 0.3\n",
    "picks = [\"FCz\"]"
   ]
  },
  {
   "cell_type": "code",
   "execution_count": 205,
   "metadata": {},
   "outputs": [],
   "source": [
    "def get_rewps(epochs, tmin, tmax):\n",
    "  rewps = []\n",
    "  for i in range(len(epochs)):\n",
    "    avg = epochs.iloc[i]['epochs']['f_good'].average().get_data(picks=picks, tmin=tmin, tmax=tmax)\n",
    "    rewps.append(avg.mean())\n",
    "  return rewps"
   ]
  },
  {
   "cell_type": "code",
   "execution_count": 206,
   "metadata": {},
   "outputs": [],
   "source": [
    "dep_data = []\n",
    "dep_data = get_rewps(dep, tmin, tmax)"
   ]
  },
  {
   "cell_type": "code",
   "execution_count": 207,
   "metadata": {},
   "outputs": [],
   "source": [
    "ctrl_data = []\n",
    "ctrl_data = get_rewps(ctrl_dep, tmin, tmax)"
   ]
  },
  {
   "cell_type": "markdown",
   "metadata": {
    "id": "g-Hb8Rb_Ei8j"
   },
   "source": [
    "### Depression vs Control"
   ]
  },
  {
   "cell_type": "markdown",
   "metadata": {
    "id": "O7C3WZvf1irT"
   },
   "source": [
    "#### RewP"
   ]
  },
  {
   "cell_type": "code",
   "execution_count": 20,
   "metadata": {},
   "outputs": [
    {
     "data": {
      "text/plain": [
       "147"
      ]
     },
     "execution_count": 20,
     "metadata": {},
     "output_type": "execute_result"
    }
   ],
   "source": [
    "X = pd.DataFrame(pd.concat([pd.DataFrame(dep_data), pd.DataFrame(ctrl_data)]))\n",
    "y = np.array(len(dep_data) * [1] +  len(ctrl_data) * [0])\n",
    "len(y)"
   ]
  },
  {
   "cell_type": "code",
   "execution_count": 21,
   "metadata": {},
   "outputs": [],
   "source": [
    "%%capture\n",
    "\n",
    "results_dep_rewp_df = pd.DataFrame()\n",
    "\n",
    "vec = Vectorizer()\n",
    "# cv = ShuffleSplit(3, test_size=0.3, random_state=random_state)\n",
    "cv = StratifiedKFold(n_splits=3, shuffle=True, random_state=random_state)\n",
    "# cv = RepeatedStratifiedKFold(n_splits=3, n_repeats=5, random_state=random_state)\n",
    "\n",
    "for (estimator, params) in estimators:\n",
    "    print(f\"Rating {estimator} \\n\")\n",
    "    pipeline_name = \"RewP_Depression_\" + estimator[0]\n",
    "    \n",
    "      # create pipeline from base steps list and estimator\n",
    "    pipe = Pipeline([estimator])\n",
    "\n",
    "      # enter to grid search\n",
    "    grid_result = evaluate_GS_model(\n",
    "        pipe,\n",
    "        X,\n",
    "        y,\n",
    "        params,\n",
    "        pipeline_name=pipeline_name,\n",
    "        cv=cv\n",
    "    )\n",
    "    print(grid_result)\n",
    "\n",
    "    results_dep_rewp_df = pd.concat([results_dep_rewp_df, grid_result])"
   ]
  },
  {
   "cell_type": "code",
   "execution_count": 22,
   "metadata": {},
   "outputs": [
    {
     "data": {
      "text/html": [
       "<div>\n",
       "<style scoped>\n",
       "    .dataframe tbody tr th:only-of-type {\n",
       "        vertical-align: middle;\n",
       "    }\n",
       "\n",
       "    .dataframe tbody tr th {\n",
       "        vertical-align: top;\n",
       "    }\n",
       "\n",
       "    .dataframe thead th {\n",
       "        text-align: right;\n",
       "    }\n",
       "</style>\n",
       "<table border=\"1\" class=\"dataframe\">\n",
       "  <thead>\n",
       "    <tr style=\"text-align: right;\">\n",
       "      <th></th>\n",
       "      <th>model_name</th>\n",
       "      <th>pipeline_name</th>\n",
       "      <th>train score</th>\n",
       "      <th>mean_cv_score</th>\n",
       "      <th>best_model</th>\n",
       "      <th>parameters</th>\n",
       "      <th>pvalue</th>\n",
       "      <th>split0_test_roc_auc</th>\n",
       "      <th>split1_test_roc_auc</th>\n",
       "      <th>split2_test_roc_auc</th>\n",
       "      <th>mean_test_recall</th>\n",
       "      <th>mean_test_roc_auc</th>\n",
       "      <th>mean_test_balanced_accuracy</th>\n",
       "      <th>mean_test_precision</th>\n",
       "    </tr>\n",
       "  </thead>\n",
       "  <tbody>\n",
       "    <tr>\n",
       "      <th>0</th>\n",
       "      <td>lg</td>\n",
       "      <td>RewP_Depression_lg</td>\n",
       "      <td>0.500000</td>\n",
       "      <td>0.500000</td>\n",
       "      <td>(LogisticRegression(penalty='l1', solver='libl...</td>\n",
       "      <td>{}</td>\n",
       "      <td>1.000000</td>\n",
       "      <td>0.500000</td>\n",
       "      <td>0.500000</td>\n",
       "      <td>0.500000</td>\n",
       "      <td>0.000000</td>\n",
       "      <td>0.500000</td>\n",
       "      <td>0.500000</td>\n",
       "      <td>0.000000</td>\n",
       "    </tr>\n",
       "    <tr>\n",
       "      <th>0</th>\n",
       "      <td>svc</td>\n",
       "      <td>RewP_Depression_svc</td>\n",
       "      <td>0.559444</td>\n",
       "      <td>0.530833</td>\n",
       "      <td>(SVC(C=1))</td>\n",
       "      <td>{'svc__C': 1, 'svc__kernel': 'rbf'}</td>\n",
       "      <td>0.318681</td>\n",
       "      <td>0.511667</td>\n",
       "      <td>0.603333</td>\n",
       "      <td>0.486667</td>\n",
       "      <td>0.520000</td>\n",
       "      <td>0.533889</td>\n",
       "      <td>0.530833</td>\n",
       "      <td>0.555051</td>\n",
       "    </tr>\n",
       "    <tr>\n",
       "      <th>0</th>\n",
       "      <td>lda</td>\n",
       "      <td>RewP_Depression_lda</td>\n",
       "      <td>0.571389</td>\n",
       "      <td>0.550556</td>\n",
       "      <td>(LinearDiscriminantAnalysis(shrinkage='auto', ...</td>\n",
       "      <td>{'lda__shrinkage': 'auto', 'lda__solver': 'lsqr'}</td>\n",
       "      <td>0.165834</td>\n",
       "      <td>0.595000</td>\n",
       "      <td>0.666667</td>\n",
       "      <td>0.516667</td>\n",
       "      <td>0.573333</td>\n",
       "      <td>0.592778</td>\n",
       "      <td>0.550556</td>\n",
       "      <td>0.558776</td>\n",
       "    </tr>\n",
       "  </tbody>\n",
       "</table>\n",
       "</div>"
      ],
      "text/plain": [
       "  model_name        pipeline_name  train score  mean_cv_score  \\\n",
       "0         lg   RewP_Depression_lg     0.500000       0.500000   \n",
       "0        svc  RewP_Depression_svc     0.559444       0.530833   \n",
       "0        lda  RewP_Depression_lda     0.571389       0.550556   \n",
       "\n",
       "                                          best_model  \\\n",
       "0  (LogisticRegression(penalty='l1', solver='libl...   \n",
       "0                                         (SVC(C=1))   \n",
       "0  (LinearDiscriminantAnalysis(shrinkage='auto', ...   \n",
       "\n",
       "                                          parameters    pvalue  \\\n",
       "0                                                 {}  1.000000   \n",
       "0                {'svc__C': 1, 'svc__kernel': 'rbf'}  0.318681   \n",
       "0  {'lda__shrinkage': 'auto', 'lda__solver': 'lsqr'}  0.165834   \n",
       "\n",
       "   split0_test_roc_auc  split1_test_roc_auc  split2_test_roc_auc  \\\n",
       "0             0.500000             0.500000             0.500000   \n",
       "0             0.511667             0.603333             0.486667   \n",
       "0             0.595000             0.666667             0.516667   \n",
       "\n",
       "   mean_test_recall  mean_test_roc_auc  mean_test_balanced_accuracy  \\\n",
       "0          0.000000           0.500000                     0.500000   \n",
       "0          0.520000           0.533889                     0.530833   \n",
       "0          0.573333           0.592778                     0.550556   \n",
       "\n",
       "   mean_test_precision  \n",
       "0             0.000000  \n",
       "0             0.555051  \n",
       "0             0.558776  "
      ]
     },
     "execution_count": 22,
     "metadata": {},
     "output_type": "execute_result"
    }
   ],
   "source": [
    "results_dep_rewp_df"
   ]
  },
  {
   "cell_type": "code",
   "execution_count": 23,
   "metadata": {},
   "outputs": [],
   "source": [
    "results_dep_rewp_df.to_pickle(\"data/depression_rewp_results_gng_06_06_23_1.pkl\")"
   ]
  },
  {
   "cell_type": "markdown",
   "metadata": {
    "id": "LdOE13g71oii"
   },
   "source": [
    "#### FRN"
   ]
  },
  {
   "cell_type": "code",
   "execution_count": 24,
   "metadata": {},
   "outputs": [],
   "source": [
    "def get_fnrs(epochs, tmin, tmax):\n",
    "  frns = []\n",
    "  for i in range(len(epochs)):\n",
    "    diff = epochs.iloc[i]['epochs']['f_bad'].average().get_data(picks=picks, tmin=tmin, tmax=tmax).max() - epochs.iloc[i]['epochs']['f_bad'].average().get_data(picks=picks, tmin=tmin, tmax=tmax).min()\n",
    "    frns.append(diff)\n",
    "  return frns"
   ]
  },
  {
   "cell_type": "code",
   "execution_count": 25,
   "metadata": {
    "id": "vcTUfJ4x1oij"
   },
   "outputs": [],
   "source": [
    "dep_data = []\n",
    "ctrl_data = []\n",
    "dep_data = get_fnrs(dep, tmin, tmax)\n",
    "ctrl_data = get_fnrs(ctrl_dep, tmin, tmax)"
   ]
  },
  {
   "cell_type": "code",
   "execution_count": 26,
   "metadata": {
    "colab": {
     "base_uri": "https://localhost:8080/"
    },
    "executionInfo": {
     "elapsed": 16,
     "status": "ok",
     "timestamp": 1677515504644,
     "user": {
      "displayName": "Anna Grabowska",
      "userId": "15734344613010880864"
     },
     "user_tz": -60
    },
    "id": "AgwMoyew1oij",
    "outputId": "36653c92-71a0-4d82-cb6d-b9bdb78c4721"
   },
   "outputs": [
    {
     "data": {
      "text/plain": [
       "147"
      ]
     },
     "execution_count": 26,
     "metadata": {},
     "output_type": "execute_result"
    }
   ],
   "source": [
    "X = pd.DataFrame(pd.concat([pd.DataFrame(dep_data), pd.DataFrame(ctrl_data)]))\n",
    "y = np.array(len(dep_data) * [1] +  len(ctrl_data) * [0])\n",
    "len(y)"
   ]
  },
  {
   "cell_type": "code",
   "execution_count": 27,
   "metadata": {},
   "outputs": [],
   "source": [
    "%%capture\n",
    "\n",
    "results_dep_frn_df = pd.DataFrame()\n",
    "\n",
    "vec = Vectorizer()\n",
    "# cv = ShuffleSplit(3, test_size=0.3, random_state=random_state)\n",
    "cv = StratifiedKFold(n_splits=3, shuffle=True, random_state=random_state)\n",
    "# cv = RepeatedStratifiedKFold(n_splits=3, n_repeats=5, random_state=random_state)\n",
    "\n",
    "for (estimator, params) in estimators:\n",
    "    print(f\"Rating {estimator} \\n\")\n",
    "    pipeline_name = \"FRN_Depression_\" + estimator[0]\n",
    "    \n",
    "      # create pipeline from base steps list and estimator\n",
    "    pipe = Pipeline([estimator])\n",
    "\n",
    "      # enter to grid search\n",
    "    grid_result = evaluate_GS_model(\n",
    "        pipe,\n",
    "        X,\n",
    "        y,\n",
    "        params,\n",
    "        pipeline_name=pipeline_name,\n",
    "        predict_test = True,\n",
    "        predict_train = True,\n",
    "        cv=cv\n",
    "    )\n",
    "    print(grid_result)\n",
    "\n",
    "    results_dep_frn_df = pd.concat([results_dep_frn_df, grid_result])"
   ]
  },
  {
   "cell_type": "code",
   "execution_count": 28,
   "metadata": {},
   "outputs": [
    {
     "data": {
      "text/html": [
       "<div>\n",
       "<style scoped>\n",
       "    .dataframe tbody tr th:only-of-type {\n",
       "        vertical-align: middle;\n",
       "    }\n",
       "\n",
       "    .dataframe tbody tr th {\n",
       "        vertical-align: top;\n",
       "    }\n",
       "\n",
       "    .dataframe thead th {\n",
       "        text-align: right;\n",
       "    }\n",
       "</style>\n",
       "<table border=\"1\" class=\"dataframe\">\n",
       "  <thead>\n",
       "    <tr style=\"text-align: right;\">\n",
       "      <th></th>\n",
       "      <th>model_name</th>\n",
       "      <th>pipeline_name</th>\n",
       "      <th>train score</th>\n",
       "      <th>mean_cv_score</th>\n",
       "      <th>best_model</th>\n",
       "      <th>parameters</th>\n",
       "      <th>pvalue</th>\n",
       "      <th>split0_test_roc_auc</th>\n",
       "      <th>split1_test_roc_auc</th>\n",
       "      <th>split2_test_roc_auc</th>\n",
       "      <th>mean_test_recall</th>\n",
       "      <th>mean_test_roc_auc</th>\n",
       "      <th>mean_test_balanced_accuracy</th>\n",
       "      <th>mean_test_precision</th>\n",
       "    </tr>\n",
       "  </thead>\n",
       "  <tbody>\n",
       "    <tr>\n",
       "      <th>0</th>\n",
       "      <td>lg</td>\n",
       "      <td>FRN_Depression_lg</td>\n",
       "      <td>0.500000</td>\n",
       "      <td>0.500000</td>\n",
       "      <td>(LogisticRegression(penalty='l1', solver='libl...</td>\n",
       "      <td>{}</td>\n",
       "      <td>1.000000</td>\n",
       "      <td>0.500000</td>\n",
       "      <td>0.500000</td>\n",
       "      <td>0.500000</td>\n",
       "      <td>0.0</td>\n",
       "      <td>0.500000</td>\n",
       "      <td>0.500000</td>\n",
       "      <td>0.000000</td>\n",
       "    </tr>\n",
       "    <tr>\n",
       "      <th>0</th>\n",
       "      <td>svc</td>\n",
       "      <td>FRN_Depression_svc</td>\n",
       "      <td>0.500000</td>\n",
       "      <td>0.500000</td>\n",
       "      <td>(SVC(C=0.0001, kernel='linear'))</td>\n",
       "      <td>{'svc__C': 0.0001, 'svc__kernel': 'linear'}</td>\n",
       "      <td>1.000000</td>\n",
       "      <td>0.399167</td>\n",
       "      <td>0.577500</td>\n",
       "      <td>0.523333</td>\n",
       "      <td>1.0</td>\n",
       "      <td>0.500000</td>\n",
       "      <td>0.500000</td>\n",
       "      <td>0.510204</td>\n",
       "    </tr>\n",
       "    <tr>\n",
       "      <th>0</th>\n",
       "      <td>lda</td>\n",
       "      <td>FRN_Depression_lda</td>\n",
       "      <td>0.525278</td>\n",
       "      <td>0.476389</td>\n",
       "      <td>(LinearDiscriminantAnalysis(shrinkage='auto', ...</td>\n",
       "      <td>{'lda__shrinkage': 'auto', 'lda__solver': 'lsqr'}</td>\n",
       "      <td>0.734266</td>\n",
       "      <td>0.400000</td>\n",
       "      <td>0.576667</td>\n",
       "      <td>0.515000</td>\n",
       "      <td>0.8</td>\n",
       "      <td>0.497222</td>\n",
       "      <td>0.476389</td>\n",
       "      <td>0.486294</td>\n",
       "    </tr>\n",
       "  </tbody>\n",
       "</table>\n",
       "</div>"
      ],
      "text/plain": [
       "  model_name       pipeline_name  train score  mean_cv_score  \\\n",
       "0         lg   FRN_Depression_lg     0.500000       0.500000   \n",
       "0        svc  FRN_Depression_svc     0.500000       0.500000   \n",
       "0        lda  FRN_Depression_lda     0.525278       0.476389   \n",
       "\n",
       "                                          best_model  \\\n",
       "0  (LogisticRegression(penalty='l1', solver='libl...   \n",
       "0                   (SVC(C=0.0001, kernel='linear'))   \n",
       "0  (LinearDiscriminantAnalysis(shrinkage='auto', ...   \n",
       "\n",
       "                                          parameters    pvalue  \\\n",
       "0                                                 {}  1.000000   \n",
       "0        {'svc__C': 0.0001, 'svc__kernel': 'linear'}  1.000000   \n",
       "0  {'lda__shrinkage': 'auto', 'lda__solver': 'lsqr'}  0.734266   \n",
       "\n",
       "   split0_test_roc_auc  split1_test_roc_auc  split2_test_roc_auc  \\\n",
       "0             0.500000             0.500000             0.500000   \n",
       "0             0.399167             0.577500             0.523333   \n",
       "0             0.400000             0.576667             0.515000   \n",
       "\n",
       "   mean_test_recall  mean_test_roc_auc  mean_test_balanced_accuracy  \\\n",
       "0               0.0           0.500000                     0.500000   \n",
       "0               1.0           0.500000                     0.500000   \n",
       "0               0.8           0.497222                     0.476389   \n",
       "\n",
       "   mean_test_precision  \n",
       "0             0.000000  \n",
       "0             0.510204  \n",
       "0             0.486294  "
      ]
     },
     "execution_count": 28,
     "metadata": {},
     "output_type": "execute_result"
    }
   ],
   "source": [
    "results_dep_frn_df"
   ]
  },
  {
   "cell_type": "code",
   "execution_count": 29,
   "metadata": {},
   "outputs": [],
   "source": [
    "results_dep_frn_df.to_pickle(\"data/depression_frn_gng_06_06_23_2.pkl\")"
   ]
  },
  {
   "cell_type": "code",
   "execution_count": 30,
   "metadata": {
    "colab": {
     "base_uri": "https://localhost:8080/",
     "height": 430
    },
    "executionInfo": {
     "elapsed": 1305,
     "status": "ok",
     "timestamp": 1677515512621,
     "user": {
      "displayName": "Anna Grabowska",
      "userId": "15734344613010880864"
     },
     "user_tz": -60
    },
    "id": "m584lVoB1xma",
    "outputId": "24857eac-a993-40cc-b658-e08fbcdd1012"
   },
   "outputs": [],
   "source": [
    "# # plot CSP patterns estimated on full data for visualization\n",
    "# epochs_train = dep_epochs[0]['bad'].copy().crop(tmin=tmin, tmax=tmax).pick_types(eeg=True)\n",
    "# epochs_train.info\n",
    "\n",
    "# csp.fit_transform(evoked_data, y)\n",
    "\n",
    "# fig = csp.plot_patterns(epochs_train.info, ch_type='eeg', units='Patterns (AU)', size=1.5)"
   ]
  },
  {
   "cell_type": "code",
   "execution_count": 31,
   "metadata": {
    "colab": {
     "base_uri": "https://localhost:8080/"
    },
    "executionInfo": {
     "elapsed": 331,
     "status": "ok",
     "timestamp": 1677515515907,
     "user": {
      "displayName": "Anna Grabowska",
      "userId": "15734344613010880864"
     },
     "user_tz": -60
    },
    "id": "HsxL6xb-48u9",
    "outputId": "d55ccc18-69fc-4e4f-dbf8-4b47f52ee8a0"
   },
   "outputs": [],
   "source": [
    "# clf.fit(evoked_data, y)\n",
    "\n",
    "# clf[-1].coef_"
   ]
  },
  {
   "cell_type": "markdown",
   "metadata": {
    "id": "R5fwZt2kEwXU"
   },
   "source": [
    "### Anxiety vs Control"
   ]
  },
  {
   "cell_type": "markdown",
   "metadata": {
    "id": "6OCw34QnEwXV"
   },
   "source": [
    "#### RewP"
   ]
  },
  {
   "cell_type": "code",
   "execution_count": 32,
   "metadata": {
    "id": "hsYnAfpMEwXV"
   },
   "outputs": [],
   "source": [
    "anx_data = []\n",
    "ctrl_data = []\n",
    "anx_data = get_rewps(anx, tmin, tmax)\n",
    "ctrl_data = get_rewps(ctrl_anx, tmin, tmax)"
   ]
  },
  {
   "cell_type": "code",
   "execution_count": 33,
   "metadata": {},
   "outputs": [
    {
     "data": {
      "text/plain": [
       "131"
      ]
     },
     "execution_count": 33,
     "metadata": {},
     "output_type": "execute_result"
    }
   ],
   "source": [
    "X = pd.DataFrame(pd.concat([pd.DataFrame(anx_data), pd.DataFrame(ctrl_data)]))\n",
    "y = np.array(len(anx_data) * [1] +  len(ctrl_data) * [0])\n",
    "len(y)"
   ]
  },
  {
   "cell_type": "code",
   "execution_count": 34,
   "metadata": {
    "colab": {
     "base_uri": "https://localhost:8080/"
    },
    "executionInfo": {
     "elapsed": 8,
     "status": "ok",
     "timestamp": 1677515661486,
     "user": {
      "displayName": "Anna Grabowska",
      "userId": "15734344613010880864"
     },
     "user_tz": -60
    },
    "id": "X16n3nQgEwXV",
    "outputId": "5e318afa-ff71-4824-91fc-a5f91dddfeb3"
   },
   "outputs": [
    {
     "name": "stdout",
     "output_type": "stream",
     "text": [
      "ANX len: 65\n",
      "CTR len: 66\n"
     ]
    }
   ],
   "source": [
    "print(f\"ANX len: {len(anx_data)}\\nCTR len: {len(ctrl_data)}\")"
   ]
  },
  {
   "cell_type": "code",
   "execution_count": 35,
   "metadata": {},
   "outputs": [],
   "source": [
    "%%capture\n",
    "\n",
    "results_anx_rewp_df = pd.DataFrame()\n",
    "\n",
    "vec = Vectorizer()\n",
    "# cv = ShuffleSplit(3, test_size=0.3, random_state=random_state)\n",
    "cv = StratifiedKFold(n_splits=3, shuffle=True, random_state=random_state)\n",
    "# cv = RepeatedStratifiedKFold(n_splits=3, n_repeats=5, random_state=random_state)\n",
    "\n",
    "for (estimator, params) in estimators:\n",
    "    print(f\"Rating {estimator} \\n\")\n",
    "    pipeline_name = \"RewP_Anxiety_\" + estimator[0]\n",
    "    \n",
    "      # create pipeline from base steps list and estimator\n",
    "    pipe = Pipeline([estimator])\n",
    "\n",
    "      # enter to grid search\n",
    "    grid_result = evaluate_GS_model(\n",
    "        pipe,\n",
    "        X,\n",
    "        y,\n",
    "        params,\n",
    "        pipeline_name=pipeline_name,\n",
    "        predict_test = True,\n",
    "        predict_train = True,\n",
    "        cv=cv\n",
    "    )\n",
    "    print(grid_result)\n",
    "\n",
    "    results_anx_rewp_df = pd.concat([results_anx_rewp_df, grid_result])"
   ]
  },
  {
   "cell_type": "code",
   "execution_count": 36,
   "metadata": {},
   "outputs": [
    {
     "data": {
      "text/html": [
       "<div>\n",
       "<style scoped>\n",
       "    .dataframe tbody tr th:only-of-type {\n",
       "        vertical-align: middle;\n",
       "    }\n",
       "\n",
       "    .dataframe tbody tr th {\n",
       "        vertical-align: top;\n",
       "    }\n",
       "\n",
       "    .dataframe thead th {\n",
       "        text-align: right;\n",
       "    }\n",
       "</style>\n",
       "<table border=\"1\" class=\"dataframe\">\n",
       "  <thead>\n",
       "    <tr style=\"text-align: right;\">\n",
       "      <th></th>\n",
       "      <th>model_name</th>\n",
       "      <th>pipeline_name</th>\n",
       "      <th>train score</th>\n",
       "      <th>mean_cv_score</th>\n",
       "      <th>best_model</th>\n",
       "      <th>parameters</th>\n",
       "      <th>pvalue</th>\n",
       "      <th>split0_test_roc_auc</th>\n",
       "      <th>split1_test_roc_auc</th>\n",
       "      <th>split2_test_roc_auc</th>\n",
       "      <th>mean_test_recall</th>\n",
       "      <th>mean_test_roc_auc</th>\n",
       "      <th>mean_test_balanced_accuracy</th>\n",
       "      <th>mean_test_precision</th>\n",
       "    </tr>\n",
       "  </thead>\n",
       "  <tbody>\n",
       "    <tr>\n",
       "      <th>0</th>\n",
       "      <td>lg</td>\n",
       "      <td>RewP_Anxiety_lg</td>\n",
       "      <td>0.500000</td>\n",
       "      <td>0.500000</td>\n",
       "      <td>(LogisticRegression(penalty='l1', solver='libl...</td>\n",
       "      <td>{}</td>\n",
       "      <td>1.000000</td>\n",
       "      <td>0.500000</td>\n",
       "      <td>0.500000</td>\n",
       "      <td>0.500000</td>\n",
       "      <td>0.000000</td>\n",
       "      <td>0.500000</td>\n",
       "      <td>0.500000</td>\n",
       "      <td>0.000000</td>\n",
       "    </tr>\n",
       "    <tr>\n",
       "      <th>0</th>\n",
       "      <td>svc</td>\n",
       "      <td>RewP_Anxiety_svc</td>\n",
       "      <td>0.500000</td>\n",
       "      <td>0.485570</td>\n",
       "      <td>(SVC(C=0.0001, kernel='linear'))</td>\n",
       "      <td>{'svc__C': 0.0001, 'svc__kernel': 'linear'}</td>\n",
       "      <td>0.795205</td>\n",
       "      <td>0.479339</td>\n",
       "      <td>0.415289</td>\n",
       "      <td>0.385281</td>\n",
       "      <td>0.031746</td>\n",
       "      <td>0.426636</td>\n",
       "      <td>0.485570</td>\n",
       "      <td>0.111111</td>\n",
       "    </tr>\n",
       "    <tr>\n",
       "      <th>0</th>\n",
       "      <td>lda</td>\n",
       "      <td>RewP_Anxiety_lda</td>\n",
       "      <td>0.501049</td>\n",
       "      <td>0.412338</td>\n",
       "      <td>(LinearDiscriminantAnalysis(shrinkage='auto', ...</td>\n",
       "      <td>{'lda__shrinkage': 'auto', 'lda__solver': 'lsqr'}</td>\n",
       "      <td>0.974026</td>\n",
       "      <td>0.479339</td>\n",
       "      <td>0.413223</td>\n",
       "      <td>0.385281</td>\n",
       "      <td>0.324675</td>\n",
       "      <td>0.425948</td>\n",
       "      <td>0.412338</td>\n",
       "      <td>0.386364</td>\n",
       "    </tr>\n",
       "  </tbody>\n",
       "</table>\n",
       "</div>"
      ],
      "text/plain": [
       "  model_name     pipeline_name  train score  mean_cv_score  \\\n",
       "0         lg   RewP_Anxiety_lg     0.500000       0.500000   \n",
       "0        svc  RewP_Anxiety_svc     0.500000       0.485570   \n",
       "0        lda  RewP_Anxiety_lda     0.501049       0.412338   \n",
       "\n",
       "                                          best_model  \\\n",
       "0  (LogisticRegression(penalty='l1', solver='libl...   \n",
       "0                   (SVC(C=0.0001, kernel='linear'))   \n",
       "0  (LinearDiscriminantAnalysis(shrinkage='auto', ...   \n",
       "\n",
       "                                          parameters    pvalue  \\\n",
       "0                                                 {}  1.000000   \n",
       "0        {'svc__C': 0.0001, 'svc__kernel': 'linear'}  0.795205   \n",
       "0  {'lda__shrinkage': 'auto', 'lda__solver': 'lsqr'}  0.974026   \n",
       "\n",
       "   split0_test_roc_auc  split1_test_roc_auc  split2_test_roc_auc  \\\n",
       "0             0.500000             0.500000             0.500000   \n",
       "0             0.479339             0.415289             0.385281   \n",
       "0             0.479339             0.413223             0.385281   \n",
       "\n",
       "   mean_test_recall  mean_test_roc_auc  mean_test_balanced_accuracy  \\\n",
       "0          0.000000           0.500000                     0.500000   \n",
       "0          0.031746           0.426636                     0.485570   \n",
       "0          0.324675           0.425948                     0.412338   \n",
       "\n",
       "   mean_test_precision  \n",
       "0             0.000000  \n",
       "0             0.111111  \n",
       "0             0.386364  "
      ]
     },
     "execution_count": 36,
     "metadata": {},
     "output_type": "execute_result"
    }
   ],
   "source": [
    "results_anx_rewp_df"
   ]
  },
  {
   "cell_type": "code",
   "execution_count": 37,
   "metadata": {},
   "outputs": [],
   "source": [
    "results_anx_rewp_df.to_pickle(\"data/anxiety_rewp_results_gng_06_06_23_3.pkl\")"
   ]
  },
  {
   "cell_type": "markdown",
   "metadata": {
    "id": "UYZ2N89QEwXW"
   },
   "source": [
    "#### FRN"
   ]
  },
  {
   "cell_type": "code",
   "execution_count": 38,
   "metadata": {
    "id": "oc3KbAaiorwd"
   },
   "outputs": [],
   "source": [
    "anx_data = []\n",
    "ctrl_data = []\n",
    "anx_data = get_fnrs(anx, tmin, tmax)\n",
    "ctrl_data = get_fnrs(ctrl_anx, tmin, tmax)"
   ]
  },
  {
   "cell_type": "code",
   "execution_count": 39,
   "metadata": {
    "id": "pOm_Nr-IEwXX"
   },
   "outputs": [],
   "source": [
    "X = pd.DataFrame(pd.concat([pd.DataFrame(anx_data), pd.DataFrame(ctrl_data)]))\n",
    "y = np.array(len(anx_data) * [1] +  len(ctrl_data) * [0])"
   ]
  },
  {
   "cell_type": "code",
   "execution_count": 40,
   "metadata": {
    "colab": {
     "base_uri": "https://localhost:8080/"
    },
    "executionInfo": {
     "elapsed": 8,
     "status": "ok",
     "timestamp": 1677516201542,
     "user": {
      "displayName": "Anna Grabowska",
      "userId": "15734344613010880864"
     },
     "user_tz": -60
    },
    "id": "FX7xoJuCEwXX",
    "outputId": "451ef77a-d519-4372-918e-b904596a671c"
   },
   "outputs": [
    {
     "name": "stdout",
     "output_type": "stream",
     "text": [
      "ANX len: 65\n",
      "CTR len: 66\n"
     ]
    }
   ],
   "source": [
    "print(f\"ANX len: {len(anx_data)}\\nCTR len: {len(ctrl_data)}\")"
   ]
  },
  {
   "cell_type": "code",
   "execution_count": 41,
   "metadata": {},
   "outputs": [],
   "source": [
    "%%capture\n",
    "\n",
    "results_anx_frn_df = pd.DataFrame()\n",
    "\n",
    "vec = Vectorizer()\n",
    "# cv = ShuffleSplit(3, test_size=0.3, random_state=random_state)\n",
    "cv = StratifiedKFold(n_splits=3, shuffle=True, random_state=random_state)\n",
    "# cv = RepeatedStratifiedKFold(n_splits=3, n_repeats=5, random_state=random_state)\n",
    "\n",
    "for (estimator, params) in estimators:\n",
    "    print(f\"Rating {estimator} \\n\")\n",
    "    pipeline_name = \"FRN_Anxiety_\" + estimator[0]\n",
    "    \n",
    "      # create pipeline from base steps list and estimator\n",
    "    pipe = Pipeline([estimator])\n",
    "\n",
    "      # enter to grid search\n",
    "    grid_result = evaluate_GS_model(\n",
    "        pipe,\n",
    "        X,\n",
    "        y,\n",
    "        params,\n",
    "        pipeline_name=pipeline_name,\n",
    "        predict_test = True,\n",
    "        predict_train = True,\n",
    "        cv=cv\n",
    "    )\n",
    "    print(grid_result)\n",
    "\n",
    "    results_anx_frn_df = pd.concat([results_anx_frn_df, grid_result])"
   ]
  },
  {
   "cell_type": "code",
   "execution_count": 42,
   "metadata": {},
   "outputs": [
    {
     "data": {
      "text/html": [
       "<div>\n",
       "<style scoped>\n",
       "    .dataframe tbody tr th:only-of-type {\n",
       "        vertical-align: middle;\n",
       "    }\n",
       "\n",
       "    .dataframe tbody tr th {\n",
       "        vertical-align: top;\n",
       "    }\n",
       "\n",
       "    .dataframe thead th {\n",
       "        text-align: right;\n",
       "    }\n",
       "</style>\n",
       "<table border=\"1\" class=\"dataframe\">\n",
       "  <thead>\n",
       "    <tr style=\"text-align: right;\">\n",
       "      <th></th>\n",
       "      <th>model_name</th>\n",
       "      <th>pipeline_name</th>\n",
       "      <th>train score</th>\n",
       "      <th>mean_cv_score</th>\n",
       "      <th>best_model</th>\n",
       "      <th>parameters</th>\n",
       "      <th>pvalue</th>\n",
       "      <th>split0_test_roc_auc</th>\n",
       "      <th>split1_test_roc_auc</th>\n",
       "      <th>split2_test_roc_auc</th>\n",
       "      <th>mean_test_recall</th>\n",
       "      <th>mean_test_roc_auc</th>\n",
       "      <th>mean_test_balanced_accuracy</th>\n",
       "      <th>mean_test_precision</th>\n",
       "    </tr>\n",
       "  </thead>\n",
       "  <tbody>\n",
       "    <tr>\n",
       "      <th>0</th>\n",
       "      <td>lg</td>\n",
       "      <td>FRN_Anxiety_lg</td>\n",
       "      <td>0.500000</td>\n",
       "      <td>0.500000</td>\n",
       "      <td>(LogisticRegression(penalty='l1', solver='libl...</td>\n",
       "      <td>{}</td>\n",
       "      <td>1.000000</td>\n",
       "      <td>0.500000</td>\n",
       "      <td>0.500000</td>\n",
       "      <td>0.500000</td>\n",
       "      <td>0.000000</td>\n",
       "      <td>0.500000</td>\n",
       "      <td>0.500000</td>\n",
       "      <td>0.000000</td>\n",
       "    </tr>\n",
       "    <tr>\n",
       "      <th>0</th>\n",
       "      <td>svc</td>\n",
       "      <td>FRN_Anxiety_svc</td>\n",
       "      <td>0.563287</td>\n",
       "      <td>0.488456</td>\n",
       "      <td>(SVC(C=1))</td>\n",
       "      <td>{'svc__C': 1, 'svc__kernel': 'rbf'}</td>\n",
       "      <td>0.626374</td>\n",
       "      <td>0.549587</td>\n",
       "      <td>0.446281</td>\n",
       "      <td>0.378788</td>\n",
       "      <td>0.355700</td>\n",
       "      <td>0.458219</td>\n",
       "      <td>0.488456</td>\n",
       "      <td>0.486508</td>\n",
       "    </tr>\n",
       "    <tr>\n",
       "      <th>0</th>\n",
       "      <td>lda</td>\n",
       "      <td>FRN_Anxiety_lda</td>\n",
       "      <td>0.508392</td>\n",
       "      <td>0.495671</td>\n",
       "      <td>(LinearDiscriminantAnalysis(shrinkage='auto', ...</td>\n",
       "      <td>{'lda__shrinkage': 'auto', 'lda__solver': 'lsqr'}</td>\n",
       "      <td>0.516484</td>\n",
       "      <td>0.446281</td>\n",
       "      <td>0.584711</td>\n",
       "      <td>0.441558</td>\n",
       "      <td>0.445887</td>\n",
       "      <td>0.490850</td>\n",
       "      <td>0.495671</td>\n",
       "      <td>0.498328</td>\n",
       "    </tr>\n",
       "  </tbody>\n",
       "</table>\n",
       "</div>"
      ],
      "text/plain": [
       "  model_name    pipeline_name  train score  mean_cv_score  \\\n",
       "0         lg   FRN_Anxiety_lg     0.500000       0.500000   \n",
       "0        svc  FRN_Anxiety_svc     0.563287       0.488456   \n",
       "0        lda  FRN_Anxiety_lda     0.508392       0.495671   \n",
       "\n",
       "                                          best_model  \\\n",
       "0  (LogisticRegression(penalty='l1', solver='libl...   \n",
       "0                                         (SVC(C=1))   \n",
       "0  (LinearDiscriminantAnalysis(shrinkage='auto', ...   \n",
       "\n",
       "                                          parameters    pvalue  \\\n",
       "0                                                 {}  1.000000   \n",
       "0                {'svc__C': 1, 'svc__kernel': 'rbf'}  0.626374   \n",
       "0  {'lda__shrinkage': 'auto', 'lda__solver': 'lsqr'}  0.516484   \n",
       "\n",
       "   split0_test_roc_auc  split1_test_roc_auc  split2_test_roc_auc  \\\n",
       "0             0.500000             0.500000             0.500000   \n",
       "0             0.549587             0.446281             0.378788   \n",
       "0             0.446281             0.584711             0.441558   \n",
       "\n",
       "   mean_test_recall  mean_test_roc_auc  mean_test_balanced_accuracy  \\\n",
       "0          0.000000           0.500000                     0.500000   \n",
       "0          0.355700           0.458219                     0.488456   \n",
       "0          0.445887           0.490850                     0.495671   \n",
       "\n",
       "   mean_test_precision  \n",
       "0             0.000000  \n",
       "0             0.486508  \n",
       "0             0.498328  "
      ]
     },
     "execution_count": 42,
     "metadata": {},
     "output_type": "execute_result"
    }
   ],
   "source": [
    "results_anx_frn_df"
   ]
  },
  {
   "cell_type": "code",
   "execution_count": 43,
   "metadata": {},
   "outputs": [],
   "source": [
    "results_anx_frn_df.to_pickle(\"data/anxiety_frn_results_gng_06_06_2023_4.pkl\")"
   ]
  },
  {
   "cell_type": "code",
   "execution_count": 44,
   "metadata": {
    "colab": {
     "base_uri": "https://localhost:8080/",
     "height": 423
    },
    "executionInfo": {
     "elapsed": 2902,
     "status": "ok",
     "timestamp": 1677516221853,
     "user": {
      "displayName": "Anna Grabowska",
      "userId": "15734344613010880864"
     },
     "user_tz": -60
    },
    "id": "YdLI-KrjEwXX",
    "outputId": "5b3f85ad-d9d7-4223-e466-3102e245b86d"
   },
   "outputs": [],
   "source": [
    "# # plot CSP patterns estimated on full data for visualization\n",
    "# # epochs_train = anx_epochs[0]['bad'].copy().crop(tmin=tmin, tmax=tmax).pick_types(eeg=True)\n",
    "# epochs_train = anx_epochs[0]['bad'].copy().crop(tmin=tmin, tmax=tmax).pick_channels(['P1', 'P2', 'P4', 'P3', 'CP3', 'CP4', 'CP1', 'CP2', 'Pz', 'CPz',])\n",
    "\n",
    "# epochs_train.info\n",
    "\n",
    "# csp.fit_transform(evoked_data, y)\n",
    "\n",
    "# fig = csp.plot_patterns(epochs_train.info, ch_type='eeg', units='Patterns (AU)', size=1.5)"
   ]
  },
  {
   "cell_type": "markdown",
   "metadata": {},
   "source": [
    "## Test statistical differences between models"
   ]
  },
  {
   "cell_type": "code",
   "execution_count": 45,
   "metadata": {},
   "outputs": [],
   "source": [
    "def paired_ttest_nandeu(\n",
    "    estimator1,\n",
    "    estimator2,\n",
    "    X_1,\n",
    "    X_2,\n",
    "    y,\n",
    "    scoring='accuracy',\n",
    "    random_state=0  \n",
    "):\n",
    "    \"\"\"Computes paired-ttest using Nadeau and Bengio's approach.\n",
    "\n",
    "    Parameters\n",
    "    ----------\n",
    "    estimator1 : estimator object implementing 'fit'\n",
    "        The object to use to fit the data.\n",
    "    estimator2 :  estimator object implementing 'fit'\n",
    "        The object to use to fit the data.\n",
    "    X : array-like of shape at least 2D\n",
    "        The data to fit.\n",
    "    y : array-like of shape (n_samples,)\n",
    "        The target variable to try to predict\n",
    "    random_state: int\n",
    "\n",
    "\n",
    "    Returns\n",
    "    -------\n",
    "    t_stat : float\n",
    "        Variance-corrected t-statistic.\n",
    "    p_value : float\n",
    "        Variance-corrected p-value.\n",
    "    \"\"\"\n",
    "\n",
    "    cv = RepeatedStratifiedKFold(n_splits=10, n_repeats=10, random_state=random_state)\n",
    "\n",
    "    cv_scores_1 = cross_val_score(estimator1, X_1, y, cv=cv, scoring=scoring)\n",
    "    cv_scores_2 = cross_val_score(estimator2, X_2, y, cv=cv, scoring=scoring)\n",
    "\n",
    "    differences = cv_scores_1 - cv_scores_2\n",
    "\n",
    "    n = differences.shape[0]  # number of test sets\n",
    "    df = n - 1\n",
    "    n_train = len(list(cv.split(X_1, y))[0][0])\n",
    "    n_test = len(list(cv.split(X_1, y))[0][1])\n",
    "\n",
    "    t_stat, p_value = compute_corrected_ttest(differences, df, n_train, n_test)\n",
    "\n",
    "    return t_stat, p_value\n",
    "\n",
    "\n",
    "def corrected_std(differences, n_train, n_test):\n",
    "    \"\"\"Corrects standard deviation using Nadeau and Bengio's approach.\n",
    "\n",
    "    Parameters\n",
    "    ----------\n",
    "    differences : ndarray of shape (n_samples,)\n",
    "        Vector containing the differences in the score metrics of two models.\n",
    "    n_train : int\n",
    "        Number of samples in the training set.\n",
    "    n_test : int\n",
    "        Number of samples in the testing set.\n",
    "\n",
    "    Returns\n",
    "    -------\n",
    "    corrected_std : float\n",
    "        Variance-corrected standard deviation of the set of differences.\n",
    "    \"\"\"\n",
    "    # kr = k times r, r times repeated k-fold crossvalidation,\n",
    "    # kr equals the number of times the model was evaluated\n",
    "    kr = len(differences)\n",
    "    corrected_var = np.var(differences, ddof=1) * ((1 / kr) + (n_test / n_train))\n",
    "    corrected_std = np.sqrt(corrected_var)\n",
    "    return corrected_std\n",
    "\n",
    "\n",
    "def compute_corrected_ttest(differences, df, n_train, n_test):\n",
    "    \"\"\"Computes right-tailed paired t-test with corrected variance.\n",
    "\n",
    "    Parameters\n",
    "    ----------\n",
    "    differences : array-like of shape (n_samples,)\n",
    "        Vector containing the differences in the score metrics of two models.\n",
    "    df : int\n",
    "        Degrees of freedom.\n",
    "    n_train : int\n",
    "        Number of samples in the training set.\n",
    "    n_test : int\n",
    "        Number of samples in the testing set.\n",
    "\n",
    "    Returns\n",
    "    -------\n",
    "    t_stat : float\n",
    "        Variance-corrected t-statistic.\n",
    "    p_val : float\n",
    "        Variance-corrected p-value.\n",
    "    \"\"\"\n",
    "    mean = np.mean(differences)\n",
    "    std = corrected_std(differences, n_train, n_test)\n",
    "    t_stat = mean / std\n",
    "    p_val = stats.t.sf(np.abs(t_stat), df)  # right-tailed t-test\n",
    "    return t_stat, p_val"
   ]
  },
  {
   "cell_type": "code",
   "execution_count": 46,
   "metadata": {},
   "outputs": [],
   "source": [
    "results_dep_rewp_df = pd.read_pickle(\"data/depression_rewp_results_gng_06_06_23_1.pkl\")\n",
    "results_dep_frn_df = pd.read_pickle(\"data/depression_frn_gng_06_06_23_2.pkl\")\n",
    "results_anx_rewp_df = pd.read_pickle(\"data/anxiety_rewp_results_gng_06_06_23_3.pkl\")\n",
    "results_anx_frn_df = pd.read_pickle(\"data/anxiety_frn_results_gng_06_06_2023_4.pkl\")"
   ]
  },
  {
   "cell_type": "markdown",
   "metadata": {},
   "source": [
    "### Depression RewP vs FRN"
   ]
  },
  {
   "cell_type": "code",
   "execution_count": 47,
   "metadata": {},
   "outputs": [],
   "source": [
    "y = np.array(len(dep) * [1] +  len(ctrl_dep) * [0])"
   ]
  },
  {
   "cell_type": "code",
   "execution_count": 48,
   "metadata": {
    "id": "5xtHJW4tugMm"
   },
   "outputs": [],
   "source": [
    "dep_rewp_data = []\n",
    "ctrl_rewp_data = []\n",
    "dep_rewp_data = get_rewps(dep, tmin, tmax)\n",
    "ctrl_rewp_data = get_rewps(ctrl_dep, tmin, tmax)"
   ]
  },
  {
   "cell_type": "code",
   "execution_count": 49,
   "metadata": {
    "colab": {
     "background_save": true
    },
    "id": "MpZMrKhCsKGO",
    "tags": []
   },
   "outputs": [],
   "source": [
    "#X_rewp = np.array(dep_rewp_data + ctrl_rewp_data)\n",
    "X_rewp = pd.DataFrame(pd.concat([pd.DataFrame(dep_rewp_data), pd.DataFrame(ctrl_rewp_data)]))"
   ]
  },
  {
   "cell_type": "code",
   "execution_count": 50,
   "metadata": {
    "id": "vcTUfJ4x1oij"
   },
   "outputs": [],
   "source": [
    "dep_frn_data = []\n",
    "ctrl_frn_data = []\n",
    "dep_frn_data = get_fnrs(dep, tmin, tmax)\n",
    "ctrl_frn_data = get_fnrs(ctrl_dep, tmin, tmax)"
   ]
  },
  {
   "cell_type": "code",
   "execution_count": 51,
   "metadata": {
    "id": "1L-jv3Vx1oij"
   },
   "outputs": [],
   "source": [
    "#X_frn = np.array(dep_frn_data + ctrl_frn_data)\n",
    "X_frn = pd.DataFrame(pd.concat([pd.DataFrame(dep_frn_data), pd.DataFrame(ctrl_frn_data)]))"
   ]
  },
  {
   "cell_type": "markdown",
   "metadata": {},
   "source": [
    "#### Plot differences between all Depression Models\n",
    "To see which RewP and FRN models are the best"
   ]
  },
  {
   "cell_type": "code",
   "execution_count": 52,
   "metadata": {
    "colab": {
     "base_uri": "https://localhost:8080/"
    },
    "executionInfo": {
     "elapsed": 4,
     "status": "ok",
     "timestamp": 1677516452928,
     "user": {
      "displayName": "Anna Grabowska",
      "userId": "15734344613010880864"
     },
     "user_tz": -60
    },
    "id": "824FRKiAweds",
    "outputId": "a8affbdc-2c93-462c-d952-df11bc0ff221"
   },
   "outputs": [],
   "source": [
    "%%capture\n",
    "\n",
    "cv = RepeatedStratifiedKFold(n_splits=10, n_repeats=10, random_state=random_state)\n",
    "\n",
    "cv_results_df = pd.DataFrame()\n",
    "\n",
    "for i in range(0,len(results_dep_rewp_df)):\n",
    "    cv_scores_rewp = cross_val_score(results_dep_rewp_df.iloc[i].best_model, X_rewp, y, cv=cv, scoring='balanced_accuracy')\n",
    "    cv_scores_frn = cross_val_score(results_dep_frn_df.iloc[i].best_model, X_frn, y, cv=cv,  scoring='balanced_accuracy')\n",
    "    \n",
    "    cv_results_df[\"RewP_\" + str(i)] = cv_scores_rewp\n",
    "    cv_results_df[\"FRN_\" + str(i)] = cv_scores_frn"
   ]
  },
  {
   "cell_type": "code",
   "execution_count": 53,
   "metadata": {
    "tags": []
   },
   "outputs": [
    {
     "data": {
      "text/html": [
       "<div>\n",
       "<style scoped>\n",
       "    .dataframe tbody tr th:only-of-type {\n",
       "        vertical-align: middle;\n",
       "    }\n",
       "\n",
       "    .dataframe tbody tr th {\n",
       "        vertical-align: top;\n",
       "    }\n",
       "\n",
       "    .dataframe thead th {\n",
       "        text-align: right;\n",
       "    }\n",
       "</style>\n",
       "<table border=\"1\" class=\"dataframe\">\n",
       "  <thead>\n",
       "    <tr style=\"text-align: right;\">\n",
       "      <th></th>\n",
       "      <th>RewP_0</th>\n",
       "      <th>FRN_0</th>\n",
       "      <th>RewP_1</th>\n",
       "      <th>FRN_1</th>\n",
       "      <th>RewP_2</th>\n",
       "      <th>FRN_2</th>\n",
       "    </tr>\n",
       "  </thead>\n",
       "  <tbody>\n",
       "    <tr>\n",
       "      <th>0</th>\n",
       "      <td>0.5</td>\n",
       "      <td>0.5</td>\n",
       "      <td>0.383929</td>\n",
       "      <td>0.5</td>\n",
       "      <td>0.383929</td>\n",
       "      <td>0.455357</td>\n",
       "    </tr>\n",
       "    <tr>\n",
       "      <th>1</th>\n",
       "      <td>0.5</td>\n",
       "      <td>0.5</td>\n",
       "      <td>0.553571</td>\n",
       "      <td>0.5</td>\n",
       "      <td>0.803571</td>\n",
       "      <td>0.446429</td>\n",
       "    </tr>\n",
       "    <tr>\n",
       "      <th>2</th>\n",
       "      <td>0.5</td>\n",
       "      <td>0.5</td>\n",
       "      <td>0.553571</td>\n",
       "      <td>0.5</td>\n",
       "      <td>0.616071</td>\n",
       "      <td>0.392857</td>\n",
       "    </tr>\n",
       "    <tr>\n",
       "      <th>3</th>\n",
       "      <td>0.5</td>\n",
       "      <td>0.5</td>\n",
       "      <td>0.464286</td>\n",
       "      <td>0.5</td>\n",
       "      <td>0.464286</td>\n",
       "      <td>0.517857</td>\n",
       "    </tr>\n",
       "    <tr>\n",
       "      <th>4</th>\n",
       "      <td>0.5</td>\n",
       "      <td>0.5</td>\n",
       "      <td>0.553571</td>\n",
       "      <td>0.5</td>\n",
       "      <td>0.607143</td>\n",
       "      <td>0.589286</td>\n",
       "    </tr>\n",
       "    <tr>\n",
       "      <th>...</th>\n",
       "      <td>...</td>\n",
       "      <td>...</td>\n",
       "      <td>...</td>\n",
       "      <td>...</td>\n",
       "      <td>...</td>\n",
       "      <td>...</td>\n",
       "    </tr>\n",
       "    <tr>\n",
       "      <th>95</th>\n",
       "      <td>0.5</td>\n",
       "      <td>0.5</td>\n",
       "      <td>0.419643</td>\n",
       "      <td>0.5</td>\n",
       "      <td>0.473214</td>\n",
       "      <td>0.491071</td>\n",
       "    </tr>\n",
       "    <tr>\n",
       "      <th>96</th>\n",
       "      <td>0.5</td>\n",
       "      <td>0.5</td>\n",
       "      <td>0.428571</td>\n",
       "      <td>0.5</td>\n",
       "      <td>0.553571</td>\n",
       "      <td>0.482143</td>\n",
       "    </tr>\n",
       "    <tr>\n",
       "      <th>97</th>\n",
       "      <td>0.5</td>\n",
       "      <td>0.5</td>\n",
       "      <td>0.642857</td>\n",
       "      <td>0.5</td>\n",
       "      <td>0.714286</td>\n",
       "      <td>0.428571</td>\n",
       "    </tr>\n",
       "    <tr>\n",
       "      <th>98</th>\n",
       "      <td>0.5</td>\n",
       "      <td>0.5</td>\n",
       "      <td>0.428571</td>\n",
       "      <td>0.5</td>\n",
       "      <td>0.428571</td>\n",
       "      <td>0.642857</td>\n",
       "    </tr>\n",
       "    <tr>\n",
       "      <th>99</th>\n",
       "      <td>0.5</td>\n",
       "      <td>0.5</td>\n",
       "      <td>0.571429</td>\n",
       "      <td>0.5</td>\n",
       "      <td>0.714286</td>\n",
       "      <td>0.571429</td>\n",
       "    </tr>\n",
       "  </tbody>\n",
       "</table>\n",
       "<p>100 rows × 6 columns</p>\n",
       "</div>"
      ],
      "text/plain": [
       "    RewP_0  FRN_0    RewP_1  FRN_1    RewP_2     FRN_2\n",
       "0      0.5    0.5  0.383929    0.5  0.383929  0.455357\n",
       "1      0.5    0.5  0.553571    0.5  0.803571  0.446429\n",
       "2      0.5    0.5  0.553571    0.5  0.616071  0.392857\n",
       "3      0.5    0.5  0.464286    0.5  0.464286  0.517857\n",
       "4      0.5    0.5  0.553571    0.5  0.607143  0.589286\n",
       "..     ...    ...       ...    ...       ...       ...\n",
       "95     0.5    0.5  0.419643    0.5  0.473214  0.491071\n",
       "96     0.5    0.5  0.428571    0.5  0.553571  0.482143\n",
       "97     0.5    0.5  0.642857    0.5  0.714286  0.428571\n",
       "98     0.5    0.5  0.428571    0.5  0.428571  0.642857\n",
       "99     0.5    0.5  0.571429    0.5  0.714286  0.571429\n",
       "\n",
       "[100 rows x 6 columns]"
      ]
     },
     "execution_count": 53,
     "metadata": {},
     "output_type": "execute_result"
    }
   ],
   "source": [
    "cv_results_df"
   ]
  },
  {
   "cell_type": "code",
   "execution_count": 54,
   "metadata": {},
   "outputs": [
    {
     "data": {
      "image/png": "[encoded data removed]",
      "text/plain": [
       "<Figure size 1000x700 with 1 Axes>"
      ]
     },
     "metadata": {},
     "output_type": "display_data"
    }
   ],
   "source": [
    "fig = sns.histplot(data=cv_results_df, bins=5, kde=True)"
   ]
  },
  {
   "cell_type": "markdown",
   "metadata": {},
   "source": [
    "#### Test differences between the best models"
   ]
  },
  {
   "cell_type": "markdown",
   "metadata": {},
   "source": [
    "Chose the best models"
   ]
  },
  {
   "cell_type": "code",
   "execution_count": 55,
   "metadata": {},
   "outputs": [
    {
     "data": {
      "text/html": [
       "<div>\n",
       "<style scoped>\n",
       "    .dataframe tbody tr th:only-of-type {\n",
       "        vertical-align: middle;\n",
       "    }\n",
       "\n",
       "    .dataframe tbody tr th {\n",
       "        vertical-align: top;\n",
       "    }\n",
       "\n",
       "    .dataframe thead th {\n",
       "        text-align: right;\n",
       "    }\n",
       "</style>\n",
       "<table border=\"1\" class=\"dataframe\">\n",
       "  <thead>\n",
       "    <tr style=\"text-align: right;\">\n",
       "      <th></th>\n",
       "      <th>model_name</th>\n",
       "      <th>pipeline_name</th>\n",
       "      <th>train score</th>\n",
       "      <th>mean_cv_score</th>\n",
       "      <th>best_model</th>\n",
       "      <th>parameters</th>\n",
       "      <th>pvalue</th>\n",
       "      <th>split0_test_roc_auc</th>\n",
       "      <th>split1_test_roc_auc</th>\n",
       "      <th>split2_test_roc_auc</th>\n",
       "      <th>mean_test_recall</th>\n",
       "      <th>mean_test_roc_auc</th>\n",
       "      <th>mean_test_balanced_accuracy</th>\n",
       "      <th>mean_test_precision</th>\n",
       "    </tr>\n",
       "  </thead>\n",
       "  <tbody>\n",
       "    <tr>\n",
       "      <th>0</th>\n",
       "      <td>lg</td>\n",
       "      <td>RewP_Depression_lg</td>\n",
       "      <td>0.500000</td>\n",
       "      <td>0.500000</td>\n",
       "      <td>(LogisticRegression(penalty='l1', solver='libl...</td>\n",
       "      <td>{}</td>\n",
       "      <td>1.000000</td>\n",
       "      <td>0.500000</td>\n",
       "      <td>0.500000</td>\n",
       "      <td>0.500000</td>\n",
       "      <td>0.000000</td>\n",
       "      <td>0.500000</td>\n",
       "      <td>0.500000</td>\n",
       "      <td>0.000000</td>\n",
       "    </tr>\n",
       "    <tr>\n",
       "      <th>0</th>\n",
       "      <td>svc</td>\n",
       "      <td>RewP_Depression_svc</td>\n",
       "      <td>0.559444</td>\n",
       "      <td>0.530833</td>\n",
       "      <td>(SVC(C=1))</td>\n",
       "      <td>{'svc__C': 1, 'svc__kernel': 'rbf'}</td>\n",
       "      <td>0.318681</td>\n",
       "      <td>0.511667</td>\n",
       "      <td>0.603333</td>\n",
       "      <td>0.486667</td>\n",
       "      <td>0.520000</td>\n",
       "      <td>0.533889</td>\n",
       "      <td>0.530833</td>\n",
       "      <td>0.555051</td>\n",
       "    </tr>\n",
       "    <tr>\n",
       "      <th>0</th>\n",
       "      <td>lda</td>\n",
       "      <td>RewP_Depression_lda</td>\n",
       "      <td>0.571389</td>\n",
       "      <td>0.550556</td>\n",
       "      <td>(LinearDiscriminantAnalysis(shrinkage='auto', ...</td>\n",
       "      <td>{'lda__shrinkage': 'auto', 'lda__solver': 'lsqr'}</td>\n",
       "      <td>0.165834</td>\n",
       "      <td>0.595000</td>\n",
       "      <td>0.666667</td>\n",
       "      <td>0.516667</td>\n",
       "      <td>0.573333</td>\n",
       "      <td>0.592778</td>\n",
       "      <td>0.550556</td>\n",
       "      <td>0.558776</td>\n",
       "    </tr>\n",
       "  </tbody>\n",
       "</table>\n",
       "</div>"
      ],
      "text/plain": [
       "  model_name        pipeline_name  train score  mean_cv_score  \\\n",
       "0         lg   RewP_Depression_lg     0.500000       0.500000   \n",
       "0        svc  RewP_Depression_svc     0.559444       0.530833   \n",
       "0        lda  RewP_Depression_lda     0.571389       0.550556   \n",
       "\n",
       "                                          best_model  \\\n",
       "0  (LogisticRegression(penalty='l1', solver='libl...   \n",
       "0                                         (SVC(C=1))   \n",
       "0  (LinearDiscriminantAnalysis(shrinkage='auto', ...   \n",
       "\n",
       "                                          parameters    pvalue  \\\n",
       "0                                                 {}  1.000000   \n",
       "0                {'svc__C': 1, 'svc__kernel': 'rbf'}  0.318681   \n",
       "0  {'lda__shrinkage': 'auto', 'lda__solver': 'lsqr'}  0.165834   \n",
       "\n",
       "   split0_test_roc_auc  split1_test_roc_auc  split2_test_roc_auc  \\\n",
       "0             0.500000             0.500000             0.500000   \n",
       "0             0.511667             0.603333             0.486667   \n",
       "0             0.595000             0.666667             0.516667   \n",
       "\n",
       "   mean_test_recall  mean_test_roc_auc  mean_test_balanced_accuracy  \\\n",
       "0          0.000000           0.500000                     0.500000   \n",
       "0          0.520000           0.533889                     0.530833   \n",
       "0          0.573333           0.592778                     0.550556   \n",
       "\n",
       "   mean_test_precision  \n",
       "0             0.000000  \n",
       "0             0.555051  \n",
       "0             0.558776  "
      ]
     },
     "execution_count": 55,
     "metadata": {},
     "output_type": "execute_result"
    }
   ],
   "source": [
    "results_dep_rewp_df"
   ]
  },
  {
   "cell_type": "code",
   "execution_count": 56,
   "metadata": {},
   "outputs": [
    {
     "data": {
      "text/html": [
       "<div>\n",
       "<style scoped>\n",
       "    .dataframe tbody tr th:only-of-type {\n",
       "        vertical-align: middle;\n",
       "    }\n",
       "\n",
       "    .dataframe tbody tr th {\n",
       "        vertical-align: top;\n",
       "    }\n",
       "\n",
       "    .dataframe thead th {\n",
       "        text-align: right;\n",
       "    }\n",
       "</style>\n",
       "<table border=\"1\" class=\"dataframe\">\n",
       "  <thead>\n",
       "    <tr style=\"text-align: right;\">\n",
       "      <th></th>\n",
       "      <th>model_name</th>\n",
       "      <th>pipeline_name</th>\n",
       "      <th>train score</th>\n",
       "      <th>mean_cv_score</th>\n",
       "      <th>best_model</th>\n",
       "      <th>parameters</th>\n",
       "      <th>pvalue</th>\n",
       "      <th>split0_test_roc_auc</th>\n",
       "      <th>split1_test_roc_auc</th>\n",
       "      <th>split2_test_roc_auc</th>\n",
       "      <th>mean_test_recall</th>\n",
       "      <th>mean_test_roc_auc</th>\n",
       "      <th>mean_test_balanced_accuracy</th>\n",
       "      <th>mean_test_precision</th>\n",
       "    </tr>\n",
       "  </thead>\n",
       "  <tbody>\n",
       "    <tr>\n",
       "      <th>0</th>\n",
       "      <td>lg</td>\n",
       "      <td>FRN_Depression_lg</td>\n",
       "      <td>0.500000</td>\n",
       "      <td>0.500000</td>\n",
       "      <td>(LogisticRegression(penalty='l1', solver='libl...</td>\n",
       "      <td>{}</td>\n",
       "      <td>1.000000</td>\n",
       "      <td>0.500000</td>\n",
       "      <td>0.500000</td>\n",
       "      <td>0.500000</td>\n",
       "      <td>0.0</td>\n",
       "      <td>0.500000</td>\n",
       "      <td>0.500000</td>\n",
       "      <td>0.000000</td>\n",
       "    </tr>\n",
       "    <tr>\n",
       "      <th>0</th>\n",
       "      <td>svc</td>\n",
       "      <td>FRN_Depression_svc</td>\n",
       "      <td>0.500000</td>\n",
       "      <td>0.500000</td>\n",
       "      <td>(SVC(C=0.0001, kernel='linear'))</td>\n",
       "      <td>{'svc__C': 0.0001, 'svc__kernel': 'linear'}</td>\n",
       "      <td>1.000000</td>\n",
       "      <td>0.399167</td>\n",
       "      <td>0.577500</td>\n",
       "      <td>0.523333</td>\n",
       "      <td>1.0</td>\n",
       "      <td>0.500000</td>\n",
       "      <td>0.500000</td>\n",
       "      <td>0.510204</td>\n",
       "    </tr>\n",
       "    <tr>\n",
       "      <th>0</th>\n",
       "      <td>lda</td>\n",
       "      <td>FRN_Depression_lda</td>\n",
       "      <td>0.525278</td>\n",
       "      <td>0.476389</td>\n",
       "      <td>(LinearDiscriminantAnalysis(shrinkage='auto', ...</td>\n",
       "      <td>{'lda__shrinkage': 'auto', 'lda__solver': 'lsqr'}</td>\n",
       "      <td>0.734266</td>\n",
       "      <td>0.400000</td>\n",
       "      <td>0.576667</td>\n",
       "      <td>0.515000</td>\n",
       "      <td>0.8</td>\n",
       "      <td>0.497222</td>\n",
       "      <td>0.476389</td>\n",
       "      <td>0.486294</td>\n",
       "    </tr>\n",
       "  </tbody>\n",
       "</table>\n",
       "</div>"
      ],
      "text/plain": [
       "  model_name       pipeline_name  train score  mean_cv_score  \\\n",
       "0         lg   FRN_Depression_lg     0.500000       0.500000   \n",
       "0        svc  FRN_Depression_svc     0.500000       0.500000   \n",
       "0        lda  FRN_Depression_lda     0.525278       0.476389   \n",
       "\n",
       "                                          best_model  \\\n",
       "0  (LogisticRegression(penalty='l1', solver='libl...   \n",
       "0                   (SVC(C=0.0001, kernel='linear'))   \n",
       "0  (LinearDiscriminantAnalysis(shrinkage='auto', ...   \n",
       "\n",
       "                                          parameters    pvalue  \\\n",
       "0                                                 {}  1.000000   \n",
       "0        {'svc__C': 0.0001, 'svc__kernel': 'linear'}  1.000000   \n",
       "0  {'lda__shrinkage': 'auto', 'lda__solver': 'lsqr'}  0.734266   \n",
       "\n",
       "   split0_test_roc_auc  split1_test_roc_auc  split2_test_roc_auc  \\\n",
       "0             0.500000             0.500000             0.500000   \n",
       "0             0.399167             0.577500             0.523333   \n",
       "0             0.400000             0.576667             0.515000   \n",
       "\n",
       "   mean_test_recall  mean_test_roc_auc  mean_test_balanced_accuracy  \\\n",
       "0               0.0           0.500000                     0.500000   \n",
       "0               1.0           0.500000                     0.500000   \n",
       "0               0.8           0.497222                     0.476389   \n",
       "\n",
       "   mean_test_precision  \n",
       "0             0.000000  \n",
       "0             0.510204  \n",
       "0             0.486294  "
      ]
     },
     "execution_count": 56,
     "metadata": {},
     "output_type": "execute_result"
    }
   ],
   "source": [
    "results_dep_frn_df"
   ]
  },
  {
   "cell_type": "code",
   "execution_count": 57,
   "metadata": {},
   "outputs": [
    {
     "data": {
      "text/html": [
       "<style>#sk-container-id-1 {color: black;background-color: white;}#sk-container-id-1 pre{padding: 0;}#sk-container-id-1 div.sk-toggleable {background-color: white;}#sk-container-id-1 label.sk-toggleable__label {cursor: pointer;display: block;width: 100%;margin-bottom: 0;padding: 0.3em;box-sizing: border-box;text-align: center;}#sk-container-id-1 label.sk-toggleable__label-arrow:before {content: \"▸\";float: left;margin-right: 0.25em;color: #696969;}#sk-container-id-1 label.sk-toggleable__label-arrow:hover:before {color: black;}#sk-container-id-1 div.sk-estimator:hover label.sk-toggleable__label-arrow:before {color: black;}#sk-container-id-1 div.sk-toggleable__content {max-height: 0;max-width: 0;overflow: hidden;text-align: left;background-color: #f0f8ff;}#sk-container-id-1 div.sk-toggleable__content pre {margin: 0.2em;color: black;border-radius: 0.25em;background-color: #f0f8ff;}#sk-container-id-1 input.sk-toggleable__control:checked~div.sk-toggleable__content {max-height: 200px;max-width: 100%;overflow: auto;}#sk-container-id-1 input.sk-toggleable__control:checked~label.sk-toggleable__label-arrow:before {content: \"▾\";}#sk-container-id-1 div.sk-estimator input.sk-toggleable__control:checked~label.sk-toggleable__label {background-color: #d4ebff;}#sk-container-id-1 div.sk-label input.sk-toggleable__control:checked~label.sk-toggleable__label {background-color: #d4ebff;}#sk-container-id-1 input.sk-hidden--visually {border: 0;clip: rect(1px 1px 1px 1px);clip: rect(1px, 1px, 1px, 1px);height: 1px;margin: -1px;overflow: hidden;padding: 0;position: absolute;width: 1px;}#sk-container-id-1 div.sk-estimator {font-family: monospace;background-color: #f0f8ff;border: 1px dotted black;border-radius: 0.25em;box-sizing: border-box;margin-bottom: 0.5em;}#sk-container-id-1 div.sk-estimator:hover {background-color: #d4ebff;}#sk-container-id-1 div.sk-parallel-item::after {content: \"\";width: 100%;border-bottom: 1px solid gray;flex-grow: 1;}#sk-container-id-1 div.sk-label:hover label.sk-toggleable__label {background-color: #d4ebff;}#sk-container-id-1 div.sk-serial::before {content: \"\";position: absolute;border-left: 1px solid gray;box-sizing: border-box;top: 0;bottom: 0;left: 50%;z-index: 0;}#sk-container-id-1 div.sk-serial {display: flex;flex-direction: column;align-items: center;background-color: white;padding-right: 0.2em;padding-left: 0.2em;position: relative;}#sk-container-id-1 div.sk-item {position: relative;z-index: 1;}#sk-container-id-1 div.sk-parallel {display: flex;align-items: stretch;justify-content: center;background-color: white;position: relative;}#sk-container-id-1 div.sk-item::before, #sk-container-id-1 div.sk-parallel-item::before {content: \"\";position: absolute;border-left: 1px solid gray;box-sizing: border-box;top: 0;bottom: 0;left: 50%;z-index: -1;}#sk-container-id-1 div.sk-parallel-item {display: flex;flex-direction: column;z-index: 1;position: relative;background-color: white;}#sk-container-id-1 div.sk-parallel-item:first-child::after {align-self: flex-end;width: 50%;}#sk-container-id-1 div.sk-parallel-item:last-child::after {align-self: flex-start;width: 50%;}#sk-container-id-1 div.sk-parallel-item:only-child::after {width: 0;}#sk-container-id-1 div.sk-dashed-wrapped {border: 1px dashed gray;margin: 0 0.4em 0.5em 0.4em;box-sizing: border-box;padding-bottom: 0.4em;background-color: white;}#sk-container-id-1 div.sk-label label {font-family: monospace;font-weight: bold;display: inline-block;line-height: 1.2em;}#sk-container-id-1 div.sk-label-container {text-align: center;}#sk-container-id-1 div.sk-container {/* jupyter's `normalize.less` sets `[hidden] { display: none; }` but bootstrap.min.css set `[hidden] { display: none !important; }` so we also need the `!important` here to be able to override the default hidden behavior on the sphinx rendered scikit-learn.org. See: https://github.com/scikit-learn/scikit-learn/issues/21755 */display: inline-block !important;position: relative;}#sk-container-id-1 div.sk-text-repr-fallback {display: none;}</style><div id=\"sk-container-id-1\" class=\"sk-top-container\"><div class=\"sk-text-repr-fallback\"><pre>Pipeline(steps=[(&#x27;svc&#x27;, SVC(C=1))])</pre><b>In a Jupyter environment, please rerun this cell to show the HTML representation or trust the notebook. <br />On GitHub, the HTML representation is unable to render, please try loading this page with nbviewer.org.</b></div><div class=\"sk-container\" hidden><div class=\"sk-item sk-dashed-wrapped\"><div class=\"sk-label-container\"><div class=\"sk-label sk-toggleable\"><input class=\"sk-toggleable__control sk-hidden--visually\" id=\"sk-estimator-id-1\" type=\"checkbox\" ><label for=\"sk-estimator-id-1\" class=\"sk-toggleable__label sk-toggleable__label-arrow\">Pipeline</label><div class=\"sk-toggleable__content\"><pre>Pipeline(steps=[(&#x27;svc&#x27;, SVC(C=1))])</pre></div></div></div><div class=\"sk-serial\"><div class=\"sk-item\"><div class=\"sk-estimator sk-toggleable\"><input class=\"sk-toggleable__control sk-hidden--visually\" id=\"sk-estimator-id-2\" type=\"checkbox\" ><label for=\"sk-estimator-id-2\" class=\"sk-toggleable__label sk-toggleable__label-arrow\">SVC</label><div class=\"sk-toggleable__content\"><pre>SVC(C=1)</pre></div></div></div></div></div></div></div>"
      ],
      "text/plain": [
       "Pipeline(steps=[('svc', SVC(C=1))])"
      ]
     },
     "execution_count": 57,
     "metadata": {},
     "output_type": "execute_result"
    }
   ],
   "source": [
    "dep_rewp_model = results_dep_rewp_df.iloc[1].best_model\n",
    "dep_rewp_model"
   ]
  },
  {
   "cell_type": "code",
   "execution_count": 58,
   "metadata": {},
   "outputs": [
    {
     "data": {
      "text/html": [
       "<style>#sk-container-id-2 {color: black;background-color: white;}#sk-container-id-2 pre{padding: 0;}#sk-container-id-2 div.sk-toggleable {background-color: white;}#sk-container-id-2 label.sk-toggleable__label {cursor: pointer;display: block;width: 100%;margin-bottom: 0;padding: 0.3em;box-sizing: border-box;text-align: center;}#sk-container-id-2 label.sk-toggleable__label-arrow:before {content: \"▸\";float: left;margin-right: 0.25em;color: #696969;}#sk-container-id-2 label.sk-toggleable__label-arrow:hover:before {color: black;}#sk-container-id-2 div.sk-estimator:hover label.sk-toggleable__label-arrow:before {color: black;}#sk-container-id-2 div.sk-toggleable__content {max-height: 0;max-width: 0;overflow: hidden;text-align: left;background-color: #f0f8ff;}#sk-container-id-2 div.sk-toggleable__content pre {margin: 0.2em;color: black;border-radius: 0.25em;background-color: #f0f8ff;}#sk-container-id-2 input.sk-toggleable__control:checked~div.sk-toggleable__content {max-height: 200px;max-width: 100%;overflow: auto;}#sk-container-id-2 input.sk-toggleable__control:checked~label.sk-toggleable__label-arrow:before {content: \"▾\";}#sk-container-id-2 div.sk-estimator input.sk-toggleable__control:checked~label.sk-toggleable__label {background-color: #d4ebff;}#sk-container-id-2 div.sk-label input.sk-toggleable__control:checked~label.sk-toggleable__label {background-color: #d4ebff;}#sk-container-id-2 input.sk-hidden--visually {border: 0;clip: rect(1px 1px 1px 1px);clip: rect(1px, 1px, 1px, 1px);height: 1px;margin: -1px;overflow: hidden;padding: 0;position: absolute;width: 1px;}#sk-container-id-2 div.sk-estimator {font-family: monospace;background-color: #f0f8ff;border: 1px dotted black;border-radius: 0.25em;box-sizing: border-box;margin-bottom: 0.5em;}#sk-container-id-2 div.sk-estimator:hover {background-color: #d4ebff;}#sk-container-id-2 div.sk-parallel-item::after {content: \"\";width: 100%;border-bottom: 1px solid gray;flex-grow: 1;}#sk-container-id-2 div.sk-label:hover label.sk-toggleable__label {background-color: #d4ebff;}#sk-container-id-2 div.sk-serial::before {content: \"\";position: absolute;border-left: 1px solid gray;box-sizing: border-box;top: 0;bottom: 0;left: 50%;z-index: 0;}#sk-container-id-2 div.sk-serial {display: flex;flex-direction: column;align-items: center;background-color: white;padding-right: 0.2em;padding-left: 0.2em;position: relative;}#sk-container-id-2 div.sk-item {position: relative;z-index: 1;}#sk-container-id-2 div.sk-parallel {display: flex;align-items: stretch;justify-content: center;background-color: white;position: relative;}#sk-container-id-2 div.sk-item::before, #sk-container-id-2 div.sk-parallel-item::before {content: \"\";position: absolute;border-left: 1px solid gray;box-sizing: border-box;top: 0;bottom: 0;left: 50%;z-index: -1;}#sk-container-id-2 div.sk-parallel-item {display: flex;flex-direction: column;z-index: 1;position: relative;background-color: white;}#sk-container-id-2 div.sk-parallel-item:first-child::after {align-self: flex-end;width: 50%;}#sk-container-id-2 div.sk-parallel-item:last-child::after {align-self: flex-start;width: 50%;}#sk-container-id-2 div.sk-parallel-item:only-child::after {width: 0;}#sk-container-id-2 div.sk-dashed-wrapped {border: 1px dashed gray;margin: 0 0.4em 0.5em 0.4em;box-sizing: border-box;padding-bottom: 0.4em;background-color: white;}#sk-container-id-2 div.sk-label label {font-family: monospace;font-weight: bold;display: inline-block;line-height: 1.2em;}#sk-container-id-2 div.sk-label-container {text-align: center;}#sk-container-id-2 div.sk-container {/* jupyter's `normalize.less` sets `[hidden] { display: none; }` but bootstrap.min.css set `[hidden] { display: none !important; }` so we also need the `!important` here to be able to override the default hidden behavior on the sphinx rendered scikit-learn.org. See: https://github.com/scikit-learn/scikit-learn/issues/21755 */display: inline-block !important;position: relative;}#sk-container-id-2 div.sk-text-repr-fallback {display: none;}</style><div id=\"sk-container-id-2\" class=\"sk-top-container\"><div class=\"sk-text-repr-fallback\"><pre>Pipeline(steps=[(&#x27;lg&#x27;, LogisticRegression(penalty=&#x27;l1&#x27;, solver=&#x27;liblinear&#x27;))])</pre><b>In a Jupyter environment, please rerun this cell to show the HTML representation or trust the notebook. <br />On GitHub, the HTML representation is unable to render, please try loading this page with nbviewer.org.</b></div><div class=\"sk-container\" hidden><div class=\"sk-item sk-dashed-wrapped\"><div class=\"sk-label-container\"><div class=\"sk-label sk-toggleable\"><input class=\"sk-toggleable__control sk-hidden--visually\" id=\"sk-estimator-id-3\" type=\"checkbox\" ><label for=\"sk-estimator-id-3\" class=\"sk-toggleable__label sk-toggleable__label-arrow\">Pipeline</label><div class=\"sk-toggleable__content\"><pre>Pipeline(steps=[(&#x27;lg&#x27;, LogisticRegression(penalty=&#x27;l1&#x27;, solver=&#x27;liblinear&#x27;))])</pre></div></div></div><div class=\"sk-serial\"><div class=\"sk-item\"><div class=\"sk-estimator sk-toggleable\"><input class=\"sk-toggleable__control sk-hidden--visually\" id=\"sk-estimator-id-4\" type=\"checkbox\" ><label for=\"sk-estimator-id-4\" class=\"sk-toggleable__label sk-toggleable__label-arrow\">LogisticRegression</label><div class=\"sk-toggleable__content\"><pre>LogisticRegression(penalty=&#x27;l1&#x27;, solver=&#x27;liblinear&#x27;)</pre></div></div></div></div></div></div></div>"
      ],
      "text/plain": [
       "Pipeline(steps=[('lg', LogisticRegression(penalty='l1', solver='liblinear'))])"
      ]
     },
     "execution_count": 58,
     "metadata": {},
     "output_type": "execute_result"
    }
   ],
   "source": [
    "dep_frn_model = results_dep_frn_df.iloc[0].best_model\n",
    "dep_frn_model"
   ]
  },
  {
   "cell_type": "markdown",
   "metadata": {},
   "source": [
    "- Balanced Accuracy"
   ]
  },
  {
   "cell_type": "code",
   "execution_count": 59,
   "metadata": {},
   "outputs": [],
   "source": [
    "%%capture\n",
    "\n",
    "t, p = paired_ttest_nandeu(\n",
    "    estimator1=dep_rewp_model,\n",
    "    estimator2=dep_frn_model,\n",
    "    X_1=X_rewp,\n",
    "    X_2=X_frn, \n",
    "    y=y,\n",
    "    random_state=random_state,\n",
    "    scoring='balanced_accuracy'\n",
    ")"
   ]
  },
  {
   "cell_type": "code",
   "execution_count": 60,
   "metadata": {},
   "outputs": [
    {
     "name": "stdout",
     "output_type": "stream",
     "text": [
      "t statistic: 0.015\n",
      "p value: 0.494\n"
     ]
    }
   ],
   "source": [
    "print('t statistic: %.3f' % t)\n",
    "print('p value: %.3f' % p)"
   ]
  },
  {
   "cell_type": "markdown",
   "metadata": {},
   "source": [
    "- Roc AUC"
   ]
  },
  {
   "cell_type": "code",
   "execution_count": 61,
   "metadata": {},
   "outputs": [],
   "source": [
    "%%capture\n",
    "\n",
    "t, p = paired_ttest_nandeu(\n",
    "    estimator1=dep_rewp_model,\n",
    "    estimator2=dep_frn_model,\n",
    "    X_1=X_rewp,\n",
    "    X_2=X_frn, \n",
    "    y=y,\n",
    "    random_state=random_state,\n",
    "    scoring='roc_auc'\n",
    ")"
   ]
  },
  {
   "cell_type": "code",
   "execution_count": 62,
   "metadata": {},
   "outputs": [
    {
     "name": "stdout",
     "output_type": "stream",
     "text": [
      "t statistic: 1.173\n",
      "p value: 0.122\n"
     ]
    }
   ],
   "source": [
    "print('t statistic: %.3f' % t)\n",
    "print('p value: %.3f' % p)"
   ]
  },
  {
   "cell_type": "markdown",
   "metadata": {},
   "source": [
    "- precision"
   ]
  },
  {
   "cell_type": "code",
   "execution_count": 63,
   "metadata": {},
   "outputs": [],
   "source": [
    "%%capture\n",
    "\n",
    "t, p = paired_ttest_nandeu(\n",
    "    estimator1=dep_rewp_model,\n",
    "    estimator2=dep_frn_model,\n",
    "    X_1=X_rewp,\n",
    "    X_2=X_frn, \n",
    "    y=y,\n",
    "    random_state=random_state,\n",
    "    scoring='precision'\n",
    ")"
   ]
  },
  {
   "cell_type": "code",
   "execution_count": 64,
   "metadata": {},
   "outputs": [
    {
     "name": "stdout",
     "output_type": "stream",
     "text": [
      "t statistic: 2.647\n",
      "p value: 0.005\n"
     ]
    }
   ],
   "source": [
    "print('t statistic: %.3f' % t)\n",
    "print('p value: %.3f' % p)"
   ]
  },
  {
   "cell_type": "markdown",
   "metadata": {},
   "source": [
    "- recall"
   ]
  },
  {
   "cell_type": "code",
   "execution_count": 65,
   "metadata": {},
   "outputs": [],
   "source": [
    "%%capture\n",
    "\n",
    "t, p = paired_ttest_nandeu(\n",
    "    estimator1=dep_rewp_model,\n",
    "    estimator2=dep_frn_model,\n",
    "    X_1=X_rewp,\n",
    "    X_2=X_frn, \n",
    "    y=y,\n",
    "    random_state=random_state,\n",
    "    scoring='recall'\n",
    ")"
   ]
  },
  {
   "cell_type": "code",
   "execution_count": 66,
   "metadata": {},
   "outputs": [
    {
     "name": "stdout",
     "output_type": "stream",
     "text": [
      "t statistic: -0.186\n",
      "p value: 0.426\n"
     ]
    }
   ],
   "source": [
    "print('t statistic: %.3f' % t)\n",
    "print('p value: %.3f' % p)"
   ]
  },
  {
   "cell_type": "markdown",
   "metadata": {},
   "source": [
    "- F1"
   ]
  },
  {
   "cell_type": "code",
   "execution_count": 67,
   "metadata": {},
   "outputs": [],
   "source": [
    "%%capture\n",
    "\n",
    "t, p = paired_ttest_nandeu(\n",
    "    estimator1=dep_rewp_model,\n",
    "    estimator2=dep_frn_model,\n",
    "    X_1=X_rewp,\n",
    "    X_2=X_frn, \n",
    "    y=y,\n",
    "    random_state=random_state,\n",
    "    scoring='f1'\n",
    ")"
   ]
  },
  {
   "cell_type": "code",
   "execution_count": 68,
   "metadata": {},
   "outputs": [
    {
     "name": "stdout",
     "output_type": "stream",
     "text": [
      "t statistic: 1.181\n",
      "p value: 0.120\n"
     ]
    }
   ],
   "source": [
    "print('t statistic: %.3f' % t)\n",
    "print('p value: %.3f' % p)"
   ]
  },
  {
   "cell_type": "markdown",
   "metadata": {},
   "source": [
    "Visualize difference between FRN and RewP models"
   ]
  },
  {
   "cell_type": "code",
   "execution_count": 69,
   "metadata": {
    "colab": {
     "base_uri": "https://localhost:8080/"
    },
    "executionInfo": {
     "elapsed": 4,
     "status": "ok",
     "timestamp": 1677516452928,
     "user": {
      "displayName": "Anna Grabowska",
      "userId": "15734344613010880864"
     },
     "user_tz": -60
    },
    "id": "824FRKiAweds",
    "outputId": "a8affbdc-2c93-462c-d952-df11bc0ff221"
   },
   "outputs": [],
   "source": [
    "%%capture\n",
    "\n",
    "cv = RepeatedStratifiedKFold(n_splits=10, n_repeats=10, random_state=random_state)\n",
    "\n",
    "cv_scores_1 = cross_val_score(dep_rewp_model, X_rewp, y, cv=cv, scoring='balanced_accuracy')\n",
    "cv_scores_2 = cross_val_score(dep_frn_model, X_frn, y, cv=cv,  scoring='balanced_accuracy')"
   ]
  },
  {
   "cell_type": "code",
   "execution_count": 70,
   "metadata": {},
   "outputs": [],
   "source": [
    "cv_results_df = pd.DataFrame({\n",
    "    \"RewP\": cv_scores_1,\n",
    "    \"FRN\": cv_scores_2,\n",
    "})"
   ]
  },
  {
   "cell_type": "code",
   "execution_count": 71,
   "metadata": {},
   "outputs": [
    {
     "data": {
      "text/html": [
       "<div>\n",
       "<style scoped>\n",
       "    .dataframe tbody tr th:only-of-type {\n",
       "        vertical-align: middle;\n",
       "    }\n",
       "\n",
       "    .dataframe tbody tr th {\n",
       "        vertical-align: top;\n",
       "    }\n",
       "\n",
       "    .dataframe thead th {\n",
       "        text-align: right;\n",
       "    }\n",
       "</style>\n",
       "<table border=\"1\" class=\"dataframe\">\n",
       "  <thead>\n",
       "    <tr style=\"text-align: right;\">\n",
       "      <th></th>\n",
       "      <th>RewP</th>\n",
       "      <th>FRN</th>\n",
       "    </tr>\n",
       "  </thead>\n",
       "  <tbody>\n",
       "    <tr>\n",
       "      <th>0</th>\n",
       "      <td>0.383929</td>\n",
       "      <td>0.5</td>\n",
       "    </tr>\n",
       "    <tr>\n",
       "      <th>1</th>\n",
       "      <td>0.553571</td>\n",
       "      <td>0.5</td>\n",
       "    </tr>\n",
       "    <tr>\n",
       "      <th>2</th>\n",
       "      <td>0.553571</td>\n",
       "      <td>0.5</td>\n",
       "    </tr>\n",
       "    <tr>\n",
       "      <th>3</th>\n",
       "      <td>0.464286</td>\n",
       "      <td>0.5</td>\n",
       "    </tr>\n",
       "    <tr>\n",
       "      <th>4</th>\n",
       "      <td>0.553571</td>\n",
       "      <td>0.5</td>\n",
       "    </tr>\n",
       "    <tr>\n",
       "      <th>...</th>\n",
       "      <td>...</td>\n",
       "      <td>...</td>\n",
       "    </tr>\n",
       "    <tr>\n",
       "      <th>95</th>\n",
       "      <td>0.419643</td>\n",
       "      <td>0.5</td>\n",
       "    </tr>\n",
       "    <tr>\n",
       "      <th>96</th>\n",
       "      <td>0.428571</td>\n",
       "      <td>0.5</td>\n",
       "    </tr>\n",
       "    <tr>\n",
       "      <th>97</th>\n",
       "      <td>0.642857</td>\n",
       "      <td>0.5</td>\n",
       "    </tr>\n",
       "    <tr>\n",
       "      <th>98</th>\n",
       "      <td>0.428571</td>\n",
       "      <td>0.5</td>\n",
       "    </tr>\n",
       "    <tr>\n",
       "      <th>99</th>\n",
       "      <td>0.571429</td>\n",
       "      <td>0.5</td>\n",
       "    </tr>\n",
       "  </tbody>\n",
       "</table>\n",
       "<p>100 rows × 2 columns</p>\n",
       "</div>"
      ],
      "text/plain": [
       "        RewP  FRN\n",
       "0   0.383929  0.5\n",
       "1   0.553571  0.5\n",
       "2   0.553571  0.5\n",
       "3   0.464286  0.5\n",
       "4   0.553571  0.5\n",
       "..       ...  ...\n",
       "95  0.419643  0.5\n",
       "96  0.428571  0.5\n",
       "97  0.642857  0.5\n",
       "98  0.428571  0.5\n",
       "99  0.571429  0.5\n",
       "\n",
       "[100 rows x 2 columns]"
      ]
     },
     "execution_count": 71,
     "metadata": {},
     "output_type": "execute_result"
    }
   ],
   "source": [
    "cv_results_df"
   ]
  },
  {
   "cell_type": "code",
   "execution_count": 72,
   "metadata": {
    "scrolled": false
   },
   "outputs": [
    {
     "data": {
      "image/png": "[encoded data removed]",
      "text/plain": [
       "<Figure size 1000x700 with 1 Axes>"
      ]
     },
     "metadata": {},
     "output_type": "display_data"
    }
   ],
   "source": [
    "fig = sns.histplot(data=cv_results_df, bins=9, kde=True)"
   ]
  },
  {
   "cell_type": "code",
   "execution_count": 73,
   "metadata": {},
   "outputs": [
    {
     "name": "stderr",
     "output_type": "stream",
     "text": [
      "C:\\Users\\rafal\\AppData\\Local\\Temp\\ipykernel_26208\\3509821564.py:1: UserWarning: Dataset has 0 variance; skipping density estimate. Pass `warn_singular=False` to disable this warning.\n",
      "  fig = sns.kdeplot(data=cv_results_df, fill=True)\n"
     ]
    },
    {
     "data": {
      "image/png": "[encoded data removed]",
      "text/plain": [
       "<Figure size 1000x700 with 1 Axes>"
      ]
     },
     "metadata": {},
     "output_type": "display_data"
    }
   ],
   "source": [
    "fig = sns.kdeplot(data=cv_results_df, fill=True)"
   ]
  },
  {
   "cell_type": "code",
   "execution_count": 74,
   "metadata": {
    "colab": {
     "base_uri": "https://localhost:8080/"
    },
    "executionInfo": {
     "elapsed": 4,
     "status": "ok",
     "timestamp": 1677516452928,
     "user": {
      "displayName": "Anna Grabowska",
      "userId": "15734344613010880864"
     },
     "user_tz": -60
    },
    "id": "824FRKiAweds",
    "outputId": "a8affbdc-2c93-462c-d952-df11bc0ff221"
   },
   "outputs": [],
   "source": [
    "%%capture\n",
    "\n",
    "cv = RepeatedStratifiedKFold(n_splits=10, n_repeats=10, random_state=random_state)\n",
    "\n",
    "cv_scores_1 = cross_val_score(dep_rewp_model, X_rewp, y, cv=cv, scoring='roc_auc')\n",
    "cv_scores_2 = cross_val_score(dep_frn_model, X_frn, y, cv=cv,  scoring='roc_auc')"
   ]
  },
  {
   "cell_type": "code",
   "execution_count": 75,
   "metadata": {},
   "outputs": [],
   "source": [
    "cv_results_df = pd.DataFrame({\n",
    "    \"RewP\": cv_scores_1,\n",
    "    \"FRN\": cv_scores_2,\n",
    "})"
   ]
  },
  {
   "cell_type": "code",
   "execution_count": 76,
   "metadata": {},
   "outputs": [
    {
     "data": {
      "image/png": "[encoded data removed]",
      "text/plain": [
       "<Figure size 1000x700 with 1 Axes>"
      ]
     },
     "metadata": {},
     "output_type": "display_data"
    }
   ],
   "source": [
    "fig = sns.histplot(data=cv_results_df, bins=9, kde=True)"
   ]
  },
  {
   "cell_type": "markdown",
   "metadata": {},
   "source": [
    "### Anxiety RewP vs FRN"
   ]
  },
  {
   "cell_type": "code",
   "execution_count": 77,
   "metadata": {},
   "outputs": [],
   "source": [
    "y = np.array(len(anx) * [1] +  len(ctrl_anx) * [0])"
   ]
  },
  {
   "cell_type": "code",
   "execution_count": 78,
   "metadata": {
    "id": "5xtHJW4tugMm"
   },
   "outputs": [],
   "source": [
    "anx_rewp_data = []\n",
    "ctrl_rewp_data = []\n",
    "anx_rewp_data = get_rewps(anx, tmin, tmax)\n",
    "ctrl_rewp_data = get_rewps(ctrl_anx, tmin, tmax)"
   ]
  },
  {
   "cell_type": "code",
   "execution_count": 79,
   "metadata": {
    "colab": {
     "background_save": true
    },
    "id": "MpZMrKhCsKGO",
    "tags": []
   },
   "outputs": [],
   "source": [
    "X_rewp = pd.DataFrame(pd.concat([pd.DataFrame(anx_rewp_data), pd.DataFrame(ctrl_rewp_data)]))\n",
    "#X_rewp = np.array(anx_rewp_data + ctrl_rewp_data)"
   ]
  },
  {
   "cell_type": "code",
   "execution_count": 80,
   "metadata": {
    "id": "vcTUfJ4x1oij"
   },
   "outputs": [],
   "source": [
    "anx_frn_data = []\n",
    "ctrl_frn_data = []\n",
    "anx_frn_data = get_fnrs(anx, tmin, tmax)\n",
    "ctrl_frn_data = get_fnrs(ctrl_anx, tmin, tmax)"
   ]
  },
  {
   "cell_type": "code",
   "execution_count": 81,
   "metadata": {
    "id": "1L-jv3Vx1oij"
   },
   "outputs": [],
   "source": [
    "X_frn = pd.DataFrame(pd.concat([pd.DataFrame(anx_frn_data), pd.DataFrame(ctrl_frn_data)]))\n",
    "#X_frn = np.array(anx_frn_data + ctrl_frn_data)"
   ]
  },
  {
   "cell_type": "markdown",
   "metadata": {},
   "source": [
    "#### Plot differences between all Anxiety Models\n",
    "To see which RewP and FRN models are the best"
   ]
  },
  {
   "cell_type": "code",
   "execution_count": 82,
   "metadata": {
    "colab": {
     "base_uri": "https://localhost:8080/"
    },
    "executionInfo": {
     "elapsed": 4,
     "status": "ok",
     "timestamp": 1677516452928,
     "user": {
      "displayName": "Anna Grabowska",
      "userId": "15734344613010880864"
     },
     "user_tz": -60
    },
    "id": "824FRKiAweds",
    "outputId": "a8affbdc-2c93-462c-d952-df11bc0ff221"
   },
   "outputs": [],
   "source": [
    "%%capture\n",
    "\n",
    "cv = RepeatedStratifiedKFold(n_splits=10, n_repeats=10, random_state=random_state)\n",
    "\n",
    "cv_results_df = pd.DataFrame()\n",
    "\n",
    "for i in range(0,len(results_anx_rewp_df)):\n",
    "    cv_scores_rewp = cross_val_score(results_anx_rewp_df.iloc[i].best_model, X_rewp, y, cv=cv, scoring='balanced_accuracy')\n",
    "    cv_scores_frn = cross_val_score(results_anx_frn_df.iloc[i].best_model, X_frn, y, cv=cv,  scoring='balanced_accuracy')\n",
    "    \n",
    "    cv_results_df[\"RewP_\" + str(i)] = cv_scores_rewp\n",
    "    cv_results_df[\"FRN_\" + str(i)] = cv_scores_frn"
   ]
  },
  {
   "cell_type": "code",
   "execution_count": 83,
   "metadata": {
    "tags": []
   },
   "outputs": [
    {
     "data": {
      "text/html": [
       "<div>\n",
       "<style scoped>\n",
       "    .dataframe tbody tr th:only-of-type {\n",
       "        vertical-align: middle;\n",
       "    }\n",
       "\n",
       "    .dataframe tbody tr th {\n",
       "        vertical-align: top;\n",
       "    }\n",
       "\n",
       "    .dataframe thead th {\n",
       "        text-align: right;\n",
       "    }\n",
       "</style>\n",
       "<table border=\"1\" class=\"dataframe\">\n",
       "  <thead>\n",
       "    <tr style=\"text-align: right;\">\n",
       "      <th></th>\n",
       "      <th>RewP_0</th>\n",
       "      <th>FRN_0</th>\n",
       "      <th>RewP_1</th>\n",
       "      <th>FRN_1</th>\n",
       "      <th>RewP_2</th>\n",
       "      <th>FRN_2</th>\n",
       "    </tr>\n",
       "  </thead>\n",
       "  <tbody>\n",
       "    <tr>\n",
       "      <th>0</th>\n",
       "      <td>0.5</td>\n",
       "      <td>0.5</td>\n",
       "      <td>0.500000</td>\n",
       "      <td>0.500000</td>\n",
       "      <td>0.214286</td>\n",
       "      <td>0.428571</td>\n",
       "    </tr>\n",
       "    <tr>\n",
       "      <th>1</th>\n",
       "      <td>0.5</td>\n",
       "      <td>0.5</td>\n",
       "      <td>0.500000</td>\n",
       "      <td>0.464286</td>\n",
       "      <td>0.404762</td>\n",
       "      <td>0.321429</td>\n",
       "    </tr>\n",
       "    <tr>\n",
       "      <th>2</th>\n",
       "      <td>0.5</td>\n",
       "      <td>0.5</td>\n",
       "      <td>0.500000</td>\n",
       "      <td>0.785714</td>\n",
       "      <td>0.416667</td>\n",
       "      <td>0.547619</td>\n",
       "    </tr>\n",
       "    <tr>\n",
       "      <th>3</th>\n",
       "      <td>0.5</td>\n",
       "      <td>0.5</td>\n",
       "      <td>0.500000</td>\n",
       "      <td>0.392857</td>\n",
       "      <td>0.500000</td>\n",
       "      <td>0.321429</td>\n",
       "    </tr>\n",
       "    <tr>\n",
       "      <th>4</th>\n",
       "      <td>0.5</td>\n",
       "      <td>0.5</td>\n",
       "      <td>0.500000</td>\n",
       "      <td>0.500000</td>\n",
       "      <td>0.321429</td>\n",
       "      <td>0.547619</td>\n",
       "    </tr>\n",
       "    <tr>\n",
       "      <th>...</th>\n",
       "      <td>...</td>\n",
       "      <td>...</td>\n",
       "      <td>...</td>\n",
       "      <td>...</td>\n",
       "      <td>...</td>\n",
       "      <td>...</td>\n",
       "    </tr>\n",
       "    <tr>\n",
       "      <th>95</th>\n",
       "      <td>0.5</td>\n",
       "      <td>0.5</td>\n",
       "      <td>0.404762</td>\n",
       "      <td>0.666667</td>\n",
       "      <td>0.476190</td>\n",
       "      <td>0.309524</td>\n",
       "    </tr>\n",
       "    <tr>\n",
       "      <th>96</th>\n",
       "      <td>0.5</td>\n",
       "      <td>0.5</td>\n",
       "      <td>0.416667</td>\n",
       "      <td>0.452381</td>\n",
       "      <td>0.404762</td>\n",
       "      <td>0.547619</td>\n",
       "    </tr>\n",
       "    <tr>\n",
       "      <th>97</th>\n",
       "      <td>0.5</td>\n",
       "      <td>0.5</td>\n",
       "      <td>0.500000</td>\n",
       "      <td>0.452381</td>\n",
       "      <td>0.523810</td>\n",
       "      <td>0.476190</td>\n",
       "    </tr>\n",
       "    <tr>\n",
       "      <th>98</th>\n",
       "      <td>0.5</td>\n",
       "      <td>0.5</td>\n",
       "      <td>0.511905</td>\n",
       "      <td>0.547619</td>\n",
       "      <td>0.535714</td>\n",
       "      <td>0.607143</td>\n",
       "    </tr>\n",
       "    <tr>\n",
       "      <th>99</th>\n",
       "      <td>0.5</td>\n",
       "      <td>0.5</td>\n",
       "      <td>0.559524</td>\n",
       "      <td>0.452381</td>\n",
       "      <td>0.464286</td>\n",
       "      <td>0.535714</td>\n",
       "    </tr>\n",
       "  </tbody>\n",
       "</table>\n",
       "<p>100 rows × 6 columns</p>\n",
       "</div>"
      ],
      "text/plain": [
       "    RewP_0  FRN_0    RewP_1     FRN_1    RewP_2     FRN_2\n",
       "0      0.5    0.5  0.500000  0.500000  0.214286  0.428571\n",
       "1      0.5    0.5  0.500000  0.464286  0.404762  0.321429\n",
       "2      0.5    0.5  0.500000  0.785714  0.416667  0.547619\n",
       "3      0.5    0.5  0.500000  0.392857  0.500000  0.321429\n",
       "4      0.5    0.5  0.500000  0.500000  0.321429  0.547619\n",
       "..     ...    ...       ...       ...       ...       ...\n",
       "95     0.5    0.5  0.404762  0.666667  0.476190  0.309524\n",
       "96     0.5    0.5  0.416667  0.452381  0.404762  0.547619\n",
       "97     0.5    0.5  0.500000  0.452381  0.523810  0.476190\n",
       "98     0.5    0.5  0.511905  0.547619  0.535714  0.607143\n",
       "99     0.5    0.5  0.559524  0.452381  0.464286  0.535714\n",
       "\n",
       "[100 rows x 6 columns]"
      ]
     },
     "execution_count": 83,
     "metadata": {},
     "output_type": "execute_result"
    }
   ],
   "source": [
    "cv_results_df"
   ]
  },
  {
   "cell_type": "code",
   "execution_count": 84,
   "metadata": {},
   "outputs": [
    {
     "data": {
      "image/png": "[encoded data removed]",
      "text/plain": [
       "<Figure size 1000x700 with 1 Axes>"
      ]
     },
     "metadata": {},
     "output_type": "display_data"
    }
   ],
   "source": [
    "fig = sns.histplot(data=cv_results_df, bins=5, kde=True)"
   ]
  },
  {
   "cell_type": "markdown",
   "metadata": {},
   "source": [
    "#### Test differences between the best models"
   ]
  },
  {
   "cell_type": "markdown",
   "metadata": {},
   "source": [
    "Chose the best models"
   ]
  },
  {
   "cell_type": "code",
   "execution_count": 85,
   "metadata": {},
   "outputs": [
    {
     "data": {
      "text/html": [
       "<div>\n",
       "<style scoped>\n",
       "    .dataframe tbody tr th:only-of-type {\n",
       "        vertical-align: middle;\n",
       "    }\n",
       "\n",
       "    .dataframe tbody tr th {\n",
       "        vertical-align: top;\n",
       "    }\n",
       "\n",
       "    .dataframe thead th {\n",
       "        text-align: right;\n",
       "    }\n",
       "</style>\n",
       "<table border=\"1\" class=\"dataframe\">\n",
       "  <thead>\n",
       "    <tr style=\"text-align: right;\">\n",
       "      <th></th>\n",
       "      <th>model_name</th>\n",
       "      <th>pipeline_name</th>\n",
       "      <th>train score</th>\n",
       "      <th>mean_cv_score</th>\n",
       "      <th>best_model</th>\n",
       "      <th>parameters</th>\n",
       "      <th>pvalue</th>\n",
       "      <th>split0_test_roc_auc</th>\n",
       "      <th>split1_test_roc_auc</th>\n",
       "      <th>split2_test_roc_auc</th>\n",
       "      <th>mean_test_recall</th>\n",
       "      <th>mean_test_roc_auc</th>\n",
       "      <th>mean_test_balanced_accuracy</th>\n",
       "      <th>mean_test_precision</th>\n",
       "    </tr>\n",
       "  </thead>\n",
       "  <tbody>\n",
       "    <tr>\n",
       "      <th>0</th>\n",
       "      <td>lg</td>\n",
       "      <td>RewP_Anxiety_lg</td>\n",
       "      <td>0.500000</td>\n",
       "      <td>0.500000</td>\n",
       "      <td>(LogisticRegression(penalty='l1', solver='libl...</td>\n",
       "      <td>{}</td>\n",
       "      <td>1.000000</td>\n",
       "      <td>0.500000</td>\n",
       "      <td>0.500000</td>\n",
       "      <td>0.500000</td>\n",
       "      <td>0.000000</td>\n",
       "      <td>0.500000</td>\n",
       "      <td>0.500000</td>\n",
       "      <td>0.000000</td>\n",
       "    </tr>\n",
       "    <tr>\n",
       "      <th>0</th>\n",
       "      <td>svc</td>\n",
       "      <td>RewP_Anxiety_svc</td>\n",
       "      <td>0.500000</td>\n",
       "      <td>0.485570</td>\n",
       "      <td>(SVC(C=0.0001, kernel='linear'))</td>\n",
       "      <td>{'svc__C': 0.0001, 'svc__kernel': 'linear'}</td>\n",
       "      <td>0.795205</td>\n",
       "      <td>0.479339</td>\n",
       "      <td>0.415289</td>\n",
       "      <td>0.385281</td>\n",
       "      <td>0.031746</td>\n",
       "      <td>0.426636</td>\n",
       "      <td>0.485570</td>\n",
       "      <td>0.111111</td>\n",
       "    </tr>\n",
       "    <tr>\n",
       "      <th>0</th>\n",
       "      <td>lda</td>\n",
       "      <td>RewP_Anxiety_lda</td>\n",
       "      <td>0.501049</td>\n",
       "      <td>0.412338</td>\n",
       "      <td>(LinearDiscriminantAnalysis(shrinkage='auto', ...</td>\n",
       "      <td>{'lda__shrinkage': 'auto', 'lda__solver': 'lsqr'}</td>\n",
       "      <td>0.974026</td>\n",
       "      <td>0.479339</td>\n",
       "      <td>0.413223</td>\n",
       "      <td>0.385281</td>\n",
       "      <td>0.324675</td>\n",
       "      <td>0.425948</td>\n",
       "      <td>0.412338</td>\n",
       "      <td>0.386364</td>\n",
       "    </tr>\n",
       "  </tbody>\n",
       "</table>\n",
       "</div>"
      ],
      "text/plain": [
       "  model_name     pipeline_name  train score  mean_cv_score  \\\n",
       "0         lg   RewP_Anxiety_lg     0.500000       0.500000   \n",
       "0        svc  RewP_Anxiety_svc     0.500000       0.485570   \n",
       "0        lda  RewP_Anxiety_lda     0.501049       0.412338   \n",
       "\n",
       "                                          best_model  \\\n",
       "0  (LogisticRegression(penalty='l1', solver='libl...   \n",
       "0                   (SVC(C=0.0001, kernel='linear'))   \n",
       "0  (LinearDiscriminantAnalysis(shrinkage='auto', ...   \n",
       "\n",
       "                                          parameters    pvalue  \\\n",
       "0                                                 {}  1.000000   \n",
       "0        {'svc__C': 0.0001, 'svc__kernel': 'linear'}  0.795205   \n",
       "0  {'lda__shrinkage': 'auto', 'lda__solver': 'lsqr'}  0.974026   \n",
       "\n",
       "   split0_test_roc_auc  split1_test_roc_auc  split2_test_roc_auc  \\\n",
       "0             0.500000             0.500000             0.500000   \n",
       "0             0.479339             0.415289             0.385281   \n",
       "0             0.479339             0.413223             0.385281   \n",
       "\n",
       "   mean_test_recall  mean_test_roc_auc  mean_test_balanced_accuracy  \\\n",
       "0          0.000000           0.500000                     0.500000   \n",
       "0          0.031746           0.426636                     0.485570   \n",
       "0          0.324675           0.425948                     0.412338   \n",
       "\n",
       "   mean_test_precision  \n",
       "0             0.000000  \n",
       "0             0.111111  \n",
       "0             0.386364  "
      ]
     },
     "execution_count": 85,
     "metadata": {},
     "output_type": "execute_result"
    }
   ],
   "source": [
    "results_anx_rewp_df"
   ]
  },
  {
   "cell_type": "code",
   "execution_count": 86,
   "metadata": {},
   "outputs": [
    {
     "data": {
      "text/html": [
       "<div>\n",
       "<style scoped>\n",
       "    .dataframe tbody tr th:only-of-type {\n",
       "        vertical-align: middle;\n",
       "    }\n",
       "\n",
       "    .dataframe tbody tr th {\n",
       "        vertical-align: top;\n",
       "    }\n",
       "\n",
       "    .dataframe thead th {\n",
       "        text-align: right;\n",
       "    }\n",
       "</style>\n",
       "<table border=\"1\" class=\"dataframe\">\n",
       "  <thead>\n",
       "    <tr style=\"text-align: right;\">\n",
       "      <th></th>\n",
       "      <th>model_name</th>\n",
       "      <th>pipeline_name</th>\n",
       "      <th>train score</th>\n",
       "      <th>mean_cv_score</th>\n",
       "      <th>best_model</th>\n",
       "      <th>parameters</th>\n",
       "      <th>pvalue</th>\n",
       "      <th>split0_test_roc_auc</th>\n",
       "      <th>split1_test_roc_auc</th>\n",
       "      <th>split2_test_roc_auc</th>\n",
       "      <th>mean_test_recall</th>\n",
       "      <th>mean_test_roc_auc</th>\n",
       "      <th>mean_test_balanced_accuracy</th>\n",
       "      <th>mean_test_precision</th>\n",
       "    </tr>\n",
       "  </thead>\n",
       "  <tbody>\n",
       "    <tr>\n",
       "      <th>0</th>\n",
       "      <td>lg</td>\n",
       "      <td>FRN_Anxiety_lg</td>\n",
       "      <td>0.500000</td>\n",
       "      <td>0.500000</td>\n",
       "      <td>(LogisticRegression(penalty='l1', solver='libl...</td>\n",
       "      <td>{}</td>\n",
       "      <td>1.000000</td>\n",
       "      <td>0.500000</td>\n",
       "      <td>0.500000</td>\n",
       "      <td>0.500000</td>\n",
       "      <td>0.000000</td>\n",
       "      <td>0.500000</td>\n",
       "      <td>0.500000</td>\n",
       "      <td>0.000000</td>\n",
       "    </tr>\n",
       "    <tr>\n",
       "      <th>0</th>\n",
       "      <td>svc</td>\n",
       "      <td>FRN_Anxiety_svc</td>\n",
       "      <td>0.563287</td>\n",
       "      <td>0.488456</td>\n",
       "      <td>(SVC(C=1))</td>\n",
       "      <td>{'svc__C': 1, 'svc__kernel': 'rbf'}</td>\n",
       "      <td>0.626374</td>\n",
       "      <td>0.549587</td>\n",
       "      <td>0.446281</td>\n",
       "      <td>0.378788</td>\n",
       "      <td>0.355700</td>\n",
       "      <td>0.458219</td>\n",
       "      <td>0.488456</td>\n",
       "      <td>0.486508</td>\n",
       "    </tr>\n",
       "    <tr>\n",
       "      <th>0</th>\n",
       "      <td>lda</td>\n",
       "      <td>FRN_Anxiety_lda</td>\n",
       "      <td>0.508392</td>\n",
       "      <td>0.495671</td>\n",
       "      <td>(LinearDiscriminantAnalysis(shrinkage='auto', ...</td>\n",
       "      <td>{'lda__shrinkage': 'auto', 'lda__solver': 'lsqr'}</td>\n",
       "      <td>0.516484</td>\n",
       "      <td>0.446281</td>\n",
       "      <td>0.584711</td>\n",
       "      <td>0.441558</td>\n",
       "      <td>0.445887</td>\n",
       "      <td>0.490850</td>\n",
       "      <td>0.495671</td>\n",
       "      <td>0.498328</td>\n",
       "    </tr>\n",
       "  </tbody>\n",
       "</table>\n",
       "</div>"
      ],
      "text/plain": [
       "  model_name    pipeline_name  train score  mean_cv_score  \\\n",
       "0         lg   FRN_Anxiety_lg     0.500000       0.500000   \n",
       "0        svc  FRN_Anxiety_svc     0.563287       0.488456   \n",
       "0        lda  FRN_Anxiety_lda     0.508392       0.495671   \n",
       "\n",
       "                                          best_model  \\\n",
       "0  (LogisticRegression(penalty='l1', solver='libl...   \n",
       "0                                         (SVC(C=1))   \n",
       "0  (LinearDiscriminantAnalysis(shrinkage='auto', ...   \n",
       "\n",
       "                                          parameters    pvalue  \\\n",
       "0                                                 {}  1.000000   \n",
       "0                {'svc__C': 1, 'svc__kernel': 'rbf'}  0.626374   \n",
       "0  {'lda__shrinkage': 'auto', 'lda__solver': 'lsqr'}  0.516484   \n",
       "\n",
       "   split0_test_roc_auc  split1_test_roc_auc  split2_test_roc_auc  \\\n",
       "0             0.500000             0.500000             0.500000   \n",
       "0             0.549587             0.446281             0.378788   \n",
       "0             0.446281             0.584711             0.441558   \n",
       "\n",
       "   mean_test_recall  mean_test_roc_auc  mean_test_balanced_accuracy  \\\n",
       "0          0.000000           0.500000                     0.500000   \n",
       "0          0.355700           0.458219                     0.488456   \n",
       "0          0.445887           0.490850                     0.495671   \n",
       "\n",
       "   mean_test_precision  \n",
       "0             0.000000  \n",
       "0             0.486508  \n",
       "0             0.498328  "
      ]
     },
     "execution_count": 86,
     "metadata": {},
     "output_type": "execute_result"
    }
   ],
   "source": [
    "results_anx_frn_df"
   ]
  },
  {
   "cell_type": "code",
   "execution_count": 87,
   "metadata": {},
   "outputs": [
    {
     "data": {
      "text/html": [
       "<style>#sk-container-id-3 {color: black;background-color: white;}#sk-container-id-3 pre{padding: 0;}#sk-container-id-3 div.sk-toggleable {background-color: white;}#sk-container-id-3 label.sk-toggleable__label {cursor: pointer;display: block;width: 100%;margin-bottom: 0;padding: 0.3em;box-sizing: border-box;text-align: center;}#sk-container-id-3 label.sk-toggleable__label-arrow:before {content: \"▸\";float: left;margin-right: 0.25em;color: #696969;}#sk-container-id-3 label.sk-toggleable__label-arrow:hover:before {color: black;}#sk-container-id-3 div.sk-estimator:hover label.sk-toggleable__label-arrow:before {color: black;}#sk-container-id-3 div.sk-toggleable__content {max-height: 0;max-width: 0;overflow: hidden;text-align: left;background-color: #f0f8ff;}#sk-container-id-3 div.sk-toggleable__content pre {margin: 0.2em;color: black;border-radius: 0.25em;background-color: #f0f8ff;}#sk-container-id-3 input.sk-toggleable__control:checked~div.sk-toggleable__content {max-height: 200px;max-width: 100%;overflow: auto;}#sk-container-id-3 input.sk-toggleable__control:checked~label.sk-toggleable__label-arrow:before {content: \"▾\";}#sk-container-id-3 div.sk-estimator input.sk-toggleable__control:checked~label.sk-toggleable__label {background-color: #d4ebff;}#sk-container-id-3 div.sk-label input.sk-toggleable__control:checked~label.sk-toggleable__label {background-color: #d4ebff;}#sk-container-id-3 input.sk-hidden--visually {border: 0;clip: rect(1px 1px 1px 1px);clip: rect(1px, 1px, 1px, 1px);height: 1px;margin: -1px;overflow: hidden;padding: 0;position: absolute;width: 1px;}#sk-container-id-3 div.sk-estimator {font-family: monospace;background-color: #f0f8ff;border: 1px dotted black;border-radius: 0.25em;box-sizing: border-box;margin-bottom: 0.5em;}#sk-container-id-3 div.sk-estimator:hover {background-color: #d4ebff;}#sk-container-id-3 div.sk-parallel-item::after {content: \"\";width: 100%;border-bottom: 1px solid gray;flex-grow: 1;}#sk-container-id-3 div.sk-label:hover label.sk-toggleable__label {background-color: #d4ebff;}#sk-container-id-3 div.sk-serial::before {content: \"\";position: absolute;border-left: 1px solid gray;box-sizing: border-box;top: 0;bottom: 0;left: 50%;z-index: 0;}#sk-container-id-3 div.sk-serial {display: flex;flex-direction: column;align-items: center;background-color: white;padding-right: 0.2em;padding-left: 0.2em;position: relative;}#sk-container-id-3 div.sk-item {position: relative;z-index: 1;}#sk-container-id-3 div.sk-parallel {display: flex;align-items: stretch;justify-content: center;background-color: white;position: relative;}#sk-container-id-3 div.sk-item::before, #sk-container-id-3 div.sk-parallel-item::before {content: \"\";position: absolute;border-left: 1px solid gray;box-sizing: border-box;top: 0;bottom: 0;left: 50%;z-index: -1;}#sk-container-id-3 div.sk-parallel-item {display: flex;flex-direction: column;z-index: 1;position: relative;background-color: white;}#sk-container-id-3 div.sk-parallel-item:first-child::after {align-self: flex-end;width: 50%;}#sk-container-id-3 div.sk-parallel-item:last-child::after {align-self: flex-start;width: 50%;}#sk-container-id-3 div.sk-parallel-item:only-child::after {width: 0;}#sk-container-id-3 div.sk-dashed-wrapped {border: 1px dashed gray;margin: 0 0.4em 0.5em 0.4em;box-sizing: border-box;padding-bottom: 0.4em;background-color: white;}#sk-container-id-3 div.sk-label label {font-family: monospace;font-weight: bold;display: inline-block;line-height: 1.2em;}#sk-container-id-3 div.sk-label-container {text-align: center;}#sk-container-id-3 div.sk-container {/* jupyter's `normalize.less` sets `[hidden] { display: none; }` but bootstrap.min.css set `[hidden] { display: none !important; }` so we also need the `!important` here to be able to override the default hidden behavior on the sphinx rendered scikit-learn.org. See: https://github.com/scikit-learn/scikit-learn/issues/21755 */display: inline-block !important;position: relative;}#sk-container-id-3 div.sk-text-repr-fallback {display: none;}</style><div id=\"sk-container-id-3\" class=\"sk-top-container\"><div class=\"sk-text-repr-fallback\"><pre>Pipeline(steps=[(&#x27;svc&#x27;, SVC(C=0.0001, kernel=&#x27;linear&#x27;))])</pre><b>In a Jupyter environment, please rerun this cell to show the HTML representation or trust the notebook. <br />On GitHub, the HTML representation is unable to render, please try loading this page with nbviewer.org.</b></div><div class=\"sk-container\" hidden><div class=\"sk-item sk-dashed-wrapped\"><div class=\"sk-label-container\"><div class=\"sk-label sk-toggleable\"><input class=\"sk-toggleable__control sk-hidden--visually\" id=\"sk-estimator-id-5\" type=\"checkbox\" ><label for=\"sk-estimator-id-5\" class=\"sk-toggleable__label sk-toggleable__label-arrow\">Pipeline</label><div class=\"sk-toggleable__content\"><pre>Pipeline(steps=[(&#x27;svc&#x27;, SVC(C=0.0001, kernel=&#x27;linear&#x27;))])</pre></div></div></div><div class=\"sk-serial\"><div class=\"sk-item\"><div class=\"sk-estimator sk-toggleable\"><input class=\"sk-toggleable__control sk-hidden--visually\" id=\"sk-estimator-id-6\" type=\"checkbox\" ><label for=\"sk-estimator-id-6\" class=\"sk-toggleable__label sk-toggleable__label-arrow\">SVC</label><div class=\"sk-toggleable__content\"><pre>SVC(C=0.0001, kernel=&#x27;linear&#x27;)</pre></div></div></div></div></div></div></div>"
      ],
      "text/plain": [
       "Pipeline(steps=[('svc', SVC(C=0.0001, kernel='linear'))])"
      ]
     },
     "execution_count": 87,
     "metadata": {},
     "output_type": "execute_result"
    }
   ],
   "source": [
    "anx_rewp_model = results_anx_rewp_df.iloc[1].best_model\n",
    "anx_rewp_model"
   ]
  },
  {
   "cell_type": "code",
   "execution_count": 88,
   "metadata": {},
   "outputs": [
    {
     "data": {
      "text/html": [
       "<style>#sk-container-id-4 {color: black;background-color: white;}#sk-container-id-4 pre{padding: 0;}#sk-container-id-4 div.sk-toggleable {background-color: white;}#sk-container-id-4 label.sk-toggleable__label {cursor: pointer;display: block;width: 100%;margin-bottom: 0;padding: 0.3em;box-sizing: border-box;text-align: center;}#sk-container-id-4 label.sk-toggleable__label-arrow:before {content: \"▸\";float: left;margin-right: 0.25em;color: #696969;}#sk-container-id-4 label.sk-toggleable__label-arrow:hover:before {color: black;}#sk-container-id-4 div.sk-estimator:hover label.sk-toggleable__label-arrow:before {color: black;}#sk-container-id-4 div.sk-toggleable__content {max-height: 0;max-width: 0;overflow: hidden;text-align: left;background-color: #f0f8ff;}#sk-container-id-4 div.sk-toggleable__content pre {margin: 0.2em;color: black;border-radius: 0.25em;background-color: #f0f8ff;}#sk-container-id-4 input.sk-toggleable__control:checked~div.sk-toggleable__content {max-height: 200px;max-width: 100%;overflow: auto;}#sk-container-id-4 input.sk-toggleable__control:checked~label.sk-toggleable__label-arrow:before {content: \"▾\";}#sk-container-id-4 div.sk-estimator input.sk-toggleable__control:checked~label.sk-toggleable__label {background-color: #d4ebff;}#sk-container-id-4 div.sk-label input.sk-toggleable__control:checked~label.sk-toggleable__label {background-color: #d4ebff;}#sk-container-id-4 input.sk-hidden--visually {border: 0;clip: rect(1px 1px 1px 1px);clip: rect(1px, 1px, 1px, 1px);height: 1px;margin: -1px;overflow: hidden;padding: 0;position: absolute;width: 1px;}#sk-container-id-4 div.sk-estimator {font-family: monospace;background-color: #f0f8ff;border: 1px dotted black;border-radius: 0.25em;box-sizing: border-box;margin-bottom: 0.5em;}#sk-container-id-4 div.sk-estimator:hover {background-color: #d4ebff;}#sk-container-id-4 div.sk-parallel-item::after {content: \"\";width: 100%;border-bottom: 1px solid gray;flex-grow: 1;}#sk-container-id-4 div.sk-label:hover label.sk-toggleable__label {background-color: #d4ebff;}#sk-container-id-4 div.sk-serial::before {content: \"\";position: absolute;border-left: 1px solid gray;box-sizing: border-box;top: 0;bottom: 0;left: 50%;z-index: 0;}#sk-container-id-4 div.sk-serial {display: flex;flex-direction: column;align-items: center;background-color: white;padding-right: 0.2em;padding-left: 0.2em;position: relative;}#sk-container-id-4 div.sk-item {position: relative;z-index: 1;}#sk-container-id-4 div.sk-parallel {display: flex;align-items: stretch;justify-content: center;background-color: white;position: relative;}#sk-container-id-4 div.sk-item::before, #sk-container-id-4 div.sk-parallel-item::before {content: \"\";position: absolute;border-left: 1px solid gray;box-sizing: border-box;top: 0;bottom: 0;left: 50%;z-index: -1;}#sk-container-id-4 div.sk-parallel-item {display: flex;flex-direction: column;z-index: 1;position: relative;background-color: white;}#sk-container-id-4 div.sk-parallel-item:first-child::after {align-self: flex-end;width: 50%;}#sk-container-id-4 div.sk-parallel-item:last-child::after {align-self: flex-start;width: 50%;}#sk-container-id-4 div.sk-parallel-item:only-child::after {width: 0;}#sk-container-id-4 div.sk-dashed-wrapped {border: 1px dashed gray;margin: 0 0.4em 0.5em 0.4em;box-sizing: border-box;padding-bottom: 0.4em;background-color: white;}#sk-container-id-4 div.sk-label label {font-family: monospace;font-weight: bold;display: inline-block;line-height: 1.2em;}#sk-container-id-4 div.sk-label-container {text-align: center;}#sk-container-id-4 div.sk-container {/* jupyter's `normalize.less` sets `[hidden] { display: none; }` but bootstrap.min.css set `[hidden] { display: none !important; }` so we also need the `!important` here to be able to override the default hidden behavior on the sphinx rendered scikit-learn.org. See: https://github.com/scikit-learn/scikit-learn/issues/21755 */display: inline-block !important;position: relative;}#sk-container-id-4 div.sk-text-repr-fallback {display: none;}</style><div id=\"sk-container-id-4\" class=\"sk-top-container\"><div class=\"sk-text-repr-fallback\"><pre>Pipeline(steps=[(&#x27;svc&#x27;, SVC(C=1))])</pre><b>In a Jupyter environment, please rerun this cell to show the HTML representation or trust the notebook. <br />On GitHub, the HTML representation is unable to render, please try loading this page with nbviewer.org.</b></div><div class=\"sk-container\" hidden><div class=\"sk-item sk-dashed-wrapped\"><div class=\"sk-label-container\"><div class=\"sk-label sk-toggleable\"><input class=\"sk-toggleable__control sk-hidden--visually\" id=\"sk-estimator-id-7\" type=\"checkbox\" ><label for=\"sk-estimator-id-7\" class=\"sk-toggleable__label sk-toggleable__label-arrow\">Pipeline</label><div class=\"sk-toggleable__content\"><pre>Pipeline(steps=[(&#x27;svc&#x27;, SVC(C=1))])</pre></div></div></div><div class=\"sk-serial\"><div class=\"sk-item\"><div class=\"sk-estimator sk-toggleable\"><input class=\"sk-toggleable__control sk-hidden--visually\" id=\"sk-estimator-id-8\" type=\"checkbox\" ><label for=\"sk-estimator-id-8\" class=\"sk-toggleable__label sk-toggleable__label-arrow\">SVC</label><div class=\"sk-toggleable__content\"><pre>SVC(C=1)</pre></div></div></div></div></div></div></div>"
      ],
      "text/plain": [
       "Pipeline(steps=[('svc', SVC(C=1))])"
      ]
     },
     "execution_count": 88,
     "metadata": {},
     "output_type": "execute_result"
    }
   ],
   "source": [
    "anx_frn_model = results_anx_frn_df.iloc[1].best_model\n",
    "anx_frn_model"
   ]
  },
  {
   "cell_type": "markdown",
   "metadata": {},
   "source": [
    "- Balanced Accuracy"
   ]
  },
  {
   "cell_type": "code",
   "execution_count": 89,
   "metadata": {},
   "outputs": [],
   "source": [
    "%%capture\n",
    "\n",
    "t, p = paired_ttest_nandeu(\n",
    "    estimator1=anx_rewp_model,\n",
    "    estimator2=anx_frn_model,\n",
    "    X_1=X_rewp,\n",
    "    X_2=X_frn, \n",
    "    y=y,\n",
    "    random_state=random_state,\n",
    "    scoring='balanced_accuracy'\n",
    ")"
   ]
  },
  {
   "cell_type": "code",
   "execution_count": 90,
   "metadata": {},
   "outputs": [
    {
     "name": "stdout",
     "output_type": "stream",
     "text": [
      "t statistic: 0.108\n",
      "p value: 0.457\n"
     ]
    }
   ],
   "source": [
    "print('t statistic: %.3f' % t)\n",
    "print('p value: %.3f' % p)"
   ]
  },
  {
   "cell_type": "markdown",
   "metadata": {},
   "source": [
    "- Roc AUC"
   ]
  },
  {
   "cell_type": "code",
   "execution_count": 91,
   "metadata": {},
   "outputs": [],
   "source": [
    "%%capture\n",
    "\n",
    "t, p = paired_ttest_nandeu(\n",
    "    estimator1=anx_rewp_model,\n",
    "    estimator2=anx_frn_model,\n",
    "    X_1=X_rewp,\n",
    "    X_2=X_frn, \n",
    "    y=y,\n",
    "    random_state=random_state,\n",
    "    scoring='roc_auc'\n",
    ")"
   ]
  },
  {
   "cell_type": "code",
   "execution_count": 92,
   "metadata": {},
   "outputs": [
    {
     "name": "stdout",
     "output_type": "stream",
     "text": [
      "t statistic: -0.642\n",
      "p value: 0.261\n"
     ]
    }
   ],
   "source": [
    "print('t statistic: %.3f' % t)\n",
    "print('p value: %.3f' % p)"
   ]
  },
  {
   "cell_type": "markdown",
   "metadata": {},
   "source": [
    "- precision"
   ]
  },
  {
   "cell_type": "code",
   "execution_count": 93,
   "metadata": {},
   "outputs": [],
   "source": [
    "%%capture\n",
    "\n",
    "t, p = paired_ttest_nandeu(\n",
    "    estimator1=anx_rewp_model,\n",
    "    estimator2=anx_frn_model,\n",
    "    X_1=X_rewp,\n",
    "    X_2=X_frn, \n",
    "    y=y,\n",
    "    random_state=random_state,\n",
    "    scoring='precision'\n",
    ")"
   ]
  },
  {
   "cell_type": "code",
   "execution_count": 94,
   "metadata": {},
   "outputs": [
    {
     "name": "stdout",
     "output_type": "stream",
     "text": [
      "t statistic: -2.472\n",
      "p value: 0.008\n"
     ]
    }
   ],
   "source": [
    "print('t statistic: %.3f' % t)\n",
    "print('p value: %.3f' % p)"
   ]
  },
  {
   "cell_type": "markdown",
   "metadata": {},
   "source": [
    "- recall"
   ]
  },
  {
   "cell_type": "code",
   "execution_count": 95,
   "metadata": {},
   "outputs": [],
   "source": [
    "%%capture\n",
    "\n",
    "t, p = paired_ttest_nandeu(\n",
    "    estimator1=anx_rewp_model,\n",
    "    estimator2=anx_frn_model,\n",
    "    X_1=X_rewp,\n",
    "    X_2=X_frn, \n",
    "    y=y,\n",
    "    random_state=random_state,\n",
    "    scoring='recall'\n",
    ")"
   ]
  },
  {
   "cell_type": "code",
   "execution_count": 96,
   "metadata": {},
   "outputs": [
    {
     "name": "stdout",
     "output_type": "stream",
     "text": [
      "t statistic: -1.340\n",
      "p value: 0.092\n"
     ]
    }
   ],
   "source": [
    "print('t statistic: %.3f' % t)\n",
    "print('p value: %.3f' % p)"
   ]
  },
  {
   "cell_type": "markdown",
   "metadata": {},
   "source": [
    "- F1"
   ]
  },
  {
   "cell_type": "code",
   "execution_count": 97,
   "metadata": {},
   "outputs": [],
   "source": [
    "%%capture\n",
    "\n",
    "t, p = paired_ttest_nandeu(\n",
    "    estimator1=anx_rewp_model,\n",
    "    estimator2=anx_frn_model,\n",
    "    X_1=X_rewp,\n",
    "    X_2=X_frn, \n",
    "    y=y,\n",
    "    random_state=random_state,\n",
    "    scoring='f1'\n",
    ")"
   ]
  },
  {
   "cell_type": "code",
   "execution_count": 98,
   "metadata": {},
   "outputs": [
    {
     "name": "stdout",
     "output_type": "stream",
     "text": [
      "t statistic: -2.196\n",
      "p value: 0.015\n"
     ]
    }
   ],
   "source": [
    "print('t statistic: %.3f' % t)\n",
    "print('p value: %.3f' % p)"
   ]
  },
  {
   "cell_type": "markdown",
   "metadata": {},
   "source": [
    "Visualize difference between FRN and RewP models"
   ]
  },
  {
   "cell_type": "code",
   "execution_count": 99,
   "metadata": {
    "colab": {
     "base_uri": "https://localhost:8080/"
    },
    "executionInfo": {
     "elapsed": 4,
     "status": "ok",
     "timestamp": 1677516452928,
     "user": {
      "displayName": "Anna Grabowska",
      "userId": "15734344613010880864"
     },
     "user_tz": -60
    },
    "id": "824FRKiAweds",
    "outputId": "a8affbdc-2c93-462c-d952-df11bc0ff221"
   },
   "outputs": [],
   "source": [
    "%%capture\n",
    "\n",
    "cv = RepeatedStratifiedKFold(n_splits=10, n_repeats=10, random_state=random_state)\n",
    "\n",
    "cv_scores_1 = cross_val_score(anx_rewp_model, X_rewp, y, cv=cv, scoring='balanced_accuracy')\n",
    "cv_scores_2 = cross_val_score(anx_frn_model, X_frn, y, cv=cv,  scoring='balanced_accuracy')"
   ]
  },
  {
   "cell_type": "code",
   "execution_count": 100,
   "metadata": {},
   "outputs": [],
   "source": [
    "cv_results_df = pd.DataFrame({\n",
    "    \"RewP\": cv_scores_1,\n",
    "    \"FRN\": cv_scores_2,\n",
    "})"
   ]
  },
  {
   "cell_type": "code",
   "execution_count": 101,
   "metadata": {},
   "outputs": [
    {
     "data": {
      "image/png": "[encoded data removed]",
      "text/plain": [
       "<Figure size 1000x700 with 1 Axes>"
      ]
     },
     "metadata": {},
     "output_type": "display_data"
    }
   ],
   "source": [
    "fig = sns.histplot(data=cv_results_df, bins=9, kde=True)"
   ]
  },
  {
   "cell_type": "code",
   "execution_count": 102,
   "metadata": {
    "colab": {
     "base_uri": "https://localhost:8080/"
    },
    "executionInfo": {
     "elapsed": 4,
     "status": "ok",
     "timestamp": 1677516452928,
     "user": {
      "displayName": "Anna Grabowska",
      "userId": "15734344613010880864"
     },
     "user_tz": -60
    },
    "id": "824FRKiAweds",
    "outputId": "a8affbdc-2c93-462c-d952-df11bc0ff221"
   },
   "outputs": [],
   "source": [
    "%%capture\n",
    "\n",
    "cv = RepeatedStratifiedKFold(n_splits=10, n_repeats=10, random_state=random_state)\n",
    "\n",
    "cv_scores_1 = cross_val_score(anx_rewp_model, X_rewp, y, cv=cv, scoring='roc_auc')\n",
    "cv_scores_2 = cross_val_score(anx_frn_model, X_frn, y, cv=cv,  scoring='roc_auc')"
   ]
  },
  {
   "cell_type": "code",
   "execution_count": 103,
   "metadata": {},
   "outputs": [],
   "source": [
    "cv_results_df = pd.DataFrame({\n",
    "    \"RewP\": cv_scores_1,\n",
    "    \"FRN\": cv_scores_2,\n",
    "})"
   ]
  },
  {
   "cell_type": "code",
   "execution_count": 104,
   "metadata": {
    "scrolled": false
   },
   "outputs": [
    {
     "data": {
      "image/png": "[encoded data removed]",
      "text/plain": [
       "<Figure size 1000x700 with 1 Axes>"
      ]
     },
     "metadata": {},
     "output_type": "display_data"
    }
   ],
   "source": [
    "fig = sns.histplot(data=cv_results_df, bins=9, kde=True)"
   ]
  },
  {
   "cell_type": "markdown",
   "metadata": {},
   "source": [
    "# Additional FRN"
   ]
  },
  {
   "cell_type": "markdown",
   "metadata": {},
   "source": [
    "### Depression vs Control"
   ]
  },
  {
   "cell_type": "code",
   "execution_count": 383,
   "metadata": {},
   "outputs": [],
   "source": [
    "def get_fnrs(epochs, frn_first_max, tmin, tmax):\n",
    "  frns = []\n",
    "  for i in range(len(epochs)):\n",
    "    first_max = epochs.iloc[i]['epochs']['f_bad'].average().get_data(picks=picks, tmin=frn_first_max, tmax=tmax).max()\n",
    "    second_max = epochs.iloc[i]['epochs']['f_bad'].average().get_data(picks=picks, tmin=tmin, tmax=tmax).max()\n",
    "    diff = abs(first_max - second_max)\n",
    "    frns.append(diff)\n",
    "  return frns"
   ]
  },
  {
   "cell_type": "code",
   "execution_count": 384,
   "metadata": {},
   "outputs": [],
   "source": [
    "dep_data = []\n",
    "ctrl_data = []\n",
    "dep_data = get_fnrs(dep, frn_first_max, tmin, tmax)\n",
    "ctrl_data = get_fnrs(ctrl_dep, frn_first_max, tmin, tmax)"
   ]
  },
  {
   "cell_type": "code",
   "execution_count": 385,
   "metadata": {},
   "outputs": [
    {
     "data": {
      "text/plain": [
       "147"
      ]
     },
     "execution_count": 385,
     "metadata": {},
     "output_type": "execute_result"
    }
   ],
   "source": [
    "X = pd.DataFrame(pd.concat([pd.DataFrame(dep_data), pd.DataFrame(ctrl_data)]))\n",
    "y = np.array(len(dep_data) * [1] +  len(ctrl_data) * [0])\n",
    "len(y)"
   ]
  },
  {
   "cell_type": "code",
   "execution_count": 386,
   "metadata": {},
   "outputs": [],
   "source": [
    "%%capture\n",
    "\n",
    "results_dep_frn_df = pd.DataFrame()\n",
    "\n",
    "vec = Vectorizer()\n",
    "# cv = ShuffleSplit(3, test_size=0.3, random_state=random_state)\n",
    "cv = StratifiedKFold(n_splits=3, shuffle=True, random_state=random_state)\n",
    "# cv = RepeatedStratifiedKFold(n_splits=3, n_repeats=5, random_state=random_state)\n",
    "\n",
    "for (estimator, params) in estimators:\n",
    "    print(f\"Rating {estimator} \\n\")\n",
    "    pipeline_name = \"FRN_Depression_\" + estimator[0]\n",
    "    \n",
    "      # create pipeline from base steps list and estimator\n",
    "    pipe = Pipeline([estimator])\n",
    "\n",
    "      # enter to grid search\n",
    "    grid_result = evaluate_GS_model(\n",
    "        pipe,\n",
    "        X,\n",
    "        y,\n",
    "        params,\n",
    "        pipeline_name=pipeline_name,\n",
    "        predict_test = True,\n",
    "        predict_train = True,\n",
    "        cv=cv\n",
    "    )\n",
    "    print(grid_result)\n",
    "\n",
    "    results_dep_frn_df = pd.concat([results_dep_frn_df, grid_result])"
   ]
  },
  {
   "cell_type": "code",
   "execution_count": 387,
   "metadata": {},
   "outputs": [
    {
     "data": {
      "text/html": [
       "<div>\n",
       "<style scoped>\n",
       "    .dataframe tbody tr th:only-of-type {\n",
       "        vertical-align: middle;\n",
       "    }\n",
       "\n",
       "    .dataframe tbody tr th {\n",
       "        vertical-align: top;\n",
       "    }\n",
       "\n",
       "    .dataframe thead th {\n",
       "        text-align: right;\n",
       "    }\n",
       "</style>\n",
       "<table border=\"1\" class=\"dataframe\">\n",
       "  <thead>\n",
       "    <tr style=\"text-align: right;\">\n",
       "      <th></th>\n",
       "      <th>model_name</th>\n",
       "      <th>pipeline_name</th>\n",
       "      <th>train score</th>\n",
       "      <th>mean_cv_score</th>\n",
       "      <th>best_model</th>\n",
       "      <th>parameters</th>\n",
       "      <th>pvalue</th>\n",
       "      <th>split0_test_roc_auc</th>\n",
       "      <th>split1_test_roc_auc</th>\n",
       "      <th>split2_test_roc_auc</th>\n",
       "      <th>mean_test_recall</th>\n",
       "      <th>mean_test_roc_auc</th>\n",
       "      <th>mean_test_balanced_accuracy</th>\n",
       "      <th>mean_test_precision</th>\n",
       "    </tr>\n",
       "  </thead>\n",
       "  <tbody>\n",
       "    <tr>\n",
       "      <th>0</th>\n",
       "      <td>lg</td>\n",
       "      <td>FRN_Depression_lg</td>\n",
       "      <td>0.500000</td>\n",
       "      <td>0.500000</td>\n",
       "      <td>(LogisticRegression(penalty='l1', solver='libl...</td>\n",
       "      <td>{}</td>\n",
       "      <td>1.000000</td>\n",
       "      <td>0.500000</td>\n",
       "      <td>0.500</td>\n",
       "      <td>0.500000</td>\n",
       "      <td>0.00</td>\n",
       "      <td>0.500000</td>\n",
       "      <td>0.500000</td>\n",
       "      <td>0.000000</td>\n",
       "    </tr>\n",
       "    <tr>\n",
       "      <th>0</th>\n",
       "      <td>svc</td>\n",
       "      <td>FRN_Depression_svc</td>\n",
       "      <td>0.572778</td>\n",
       "      <td>0.565833</td>\n",
       "      <td>(SVC(C=1))</td>\n",
       "      <td>{'svc__C': 1, 'svc__kernel': 'rbf'}</td>\n",
       "      <td>0.051948</td>\n",
       "      <td>0.591667</td>\n",
       "      <td>0.555</td>\n",
       "      <td>0.631667</td>\n",
       "      <td>0.84</td>\n",
       "      <td>0.592778</td>\n",
       "      <td>0.565833</td>\n",
       "      <td>0.553349</td>\n",
       "    </tr>\n",
       "    <tr>\n",
       "      <th>0</th>\n",
       "      <td>lda</td>\n",
       "      <td>FRN_Depression_lda</td>\n",
       "      <td>0.566667</td>\n",
       "      <td>0.573611</td>\n",
       "      <td>(LinearDiscriminantAnalysis(shrinkage='auto', ...</td>\n",
       "      <td>{'lda__shrinkage': 'auto', 'lda__solver': 'lsqr'}</td>\n",
       "      <td>0.035964</td>\n",
       "      <td>0.456667</td>\n",
       "      <td>0.560</td>\n",
       "      <td>0.658333</td>\n",
       "      <td>0.80</td>\n",
       "      <td>0.558333</td>\n",
       "      <td>0.573611</td>\n",
       "      <td>0.563715</td>\n",
       "    </tr>\n",
       "  </tbody>\n",
       "</table>\n",
       "</div>"
      ],
      "text/plain": [
       "  model_name       pipeline_name  train score  mean_cv_score  \\\n",
       "0         lg   FRN_Depression_lg     0.500000       0.500000   \n",
       "0        svc  FRN_Depression_svc     0.572778       0.565833   \n",
       "0        lda  FRN_Depression_lda     0.566667       0.573611   \n",
       "\n",
       "                                          best_model  \\\n",
       "0  (LogisticRegression(penalty='l1', solver='libl...   \n",
       "0                                         (SVC(C=1))   \n",
       "0  (LinearDiscriminantAnalysis(shrinkage='auto', ...   \n",
       "\n",
       "                                          parameters    pvalue  \\\n",
       "0                                                 {}  1.000000   \n",
       "0                {'svc__C': 1, 'svc__kernel': 'rbf'}  0.051948   \n",
       "0  {'lda__shrinkage': 'auto', 'lda__solver': 'lsqr'}  0.035964   \n",
       "\n",
       "   split0_test_roc_auc  split1_test_roc_auc  split2_test_roc_auc  \\\n",
       "0             0.500000                0.500             0.500000   \n",
       "0             0.591667                0.555             0.631667   \n",
       "0             0.456667                0.560             0.658333   \n",
       "\n",
       "   mean_test_recall  mean_test_roc_auc  mean_test_balanced_accuracy  \\\n",
       "0              0.00           0.500000                     0.500000   \n",
       "0              0.84           0.592778                     0.565833   \n",
       "0              0.80           0.558333                     0.573611   \n",
       "\n",
       "   mean_test_precision  \n",
       "0             0.000000  \n",
       "0             0.553349  \n",
       "0             0.563715  "
      ]
     },
     "execution_count": 387,
     "metadata": {},
     "output_type": "execute_result"
    }
   ],
   "source": [
    "results_dep_frn_df"
   ]
  },
  {
   "cell_type": "code",
   "execution_count": 388,
   "metadata": {},
   "outputs": [],
   "source": [
    "results_dep_frn_df.to_pickle(\"data/depression__additional_frn_gng_06_06_23_2.pkl\")"
   ]
  },
  {
   "cell_type": "markdown",
   "metadata": {},
   "source": [
    "### Anxiety vs Control"
   ]
  },
  {
   "cell_type": "code",
   "execution_count": 389,
   "metadata": {},
   "outputs": [],
   "source": [
    "anx_data = []\n",
    "ctrl_data = []\n",
    "anx_data = get_fnrs(anx,frn_first_max, tmin, tmax)\n",
    "ctrl_data = get_fnrs(ctrl_anx, frn_first_max, tmin, tmax)"
   ]
  },
  {
   "cell_type": "code",
   "execution_count": 390,
   "metadata": {},
   "outputs": [],
   "source": [
    "X = pd.DataFrame(pd.concat([pd.DataFrame(anx_data), pd.DataFrame(ctrl_data)]))\n",
    "y = np.array(len(anx_data) * [1] +  len(ctrl_data) * [0])"
   ]
  },
  {
   "cell_type": "code",
   "execution_count": 391,
   "metadata": {},
   "outputs": [
    {
     "name": "stdout",
     "output_type": "stream",
     "text": [
      "ANX len: 65\n",
      "CTR len: 66\n"
     ]
    }
   ],
   "source": [
    "print(f\"ANX len: {len(anx_data)}\\nCTR len: {len(ctrl_data)}\")"
   ]
  },
  {
   "cell_type": "code",
   "execution_count": 392,
   "metadata": {},
   "outputs": [],
   "source": [
    "%%capture\n",
    "\n",
    "results_anx_frn_df = pd.DataFrame()\n",
    "\n",
    "vec = Vectorizer()\n",
    "# cv = ShuffleSplit(3, test_size=0.3, random_state=random_state)\n",
    "cv = StratifiedKFold(n_splits=3, shuffle=True, random_state=random_state)\n",
    "# cv = RepeatedStratifiedKFold(n_splits=3, n_repeats=5, random_state=random_state)\n",
    "\n",
    "for (estimator, params) in estimators:\n",
    "    print(f\"Rating {estimator} \\n\")\n",
    "    pipeline_name = \"FRN_Anxiety_\" + estimator[0]\n",
    "    \n",
    "      # create pipeline from base steps list and estimator\n",
    "    pipe = Pipeline([estimator])\n",
    "\n",
    "      # enter to grid search\n",
    "    grid_result = evaluate_GS_model(\n",
    "        pipe,\n",
    "        X,\n",
    "        y,\n",
    "        params,\n",
    "        pipeline_name=pipeline_name,\n",
    "        predict_test = True,\n",
    "        predict_train = True,\n",
    "        cv=cv\n",
    "    )\n",
    "    print(grid_result)\n",
    "\n",
    "    results_anx_frn_df = pd.concat([results_anx_frn_df, grid_result])"
   ]
  },
  {
   "cell_type": "code",
   "execution_count": 393,
   "metadata": {},
   "outputs": [
    {
     "data": {
      "text/html": [
       "<div>\n",
       "<style scoped>\n",
       "    .dataframe tbody tr th:only-of-type {\n",
       "        vertical-align: middle;\n",
       "    }\n",
       "\n",
       "    .dataframe tbody tr th {\n",
       "        vertical-align: top;\n",
       "    }\n",
       "\n",
       "    .dataframe thead th {\n",
       "        text-align: right;\n",
       "    }\n",
       "</style>\n",
       "<table border=\"1\" class=\"dataframe\">\n",
       "  <thead>\n",
       "    <tr style=\"text-align: right;\">\n",
       "      <th></th>\n",
       "      <th>model_name</th>\n",
       "      <th>pipeline_name</th>\n",
       "      <th>train score</th>\n",
       "      <th>mean_cv_score</th>\n",
       "      <th>best_model</th>\n",
       "      <th>parameters</th>\n",
       "      <th>pvalue</th>\n",
       "      <th>split0_test_roc_auc</th>\n",
       "      <th>split1_test_roc_auc</th>\n",
       "      <th>split2_test_roc_auc</th>\n",
       "      <th>mean_test_recall</th>\n",
       "      <th>mean_test_roc_auc</th>\n",
       "      <th>mean_test_balanced_accuracy</th>\n",
       "      <th>mean_test_precision</th>\n",
       "    </tr>\n",
       "  </thead>\n",
       "  <tbody>\n",
       "    <tr>\n",
       "      <th>0</th>\n",
       "      <td>lg</td>\n",
       "      <td>FRN_Anxiety_lg</td>\n",
       "      <td>0.500000</td>\n",
       "      <td>0.500000</td>\n",
       "      <td>(LogisticRegression(penalty='l1', solver='libl...</td>\n",
       "      <td>{}</td>\n",
       "      <td>1.000000</td>\n",
       "      <td>0.500000</td>\n",
       "      <td>0.500000</td>\n",
       "      <td>0.500000</td>\n",
       "      <td>0.000000</td>\n",
       "      <td>0.500000</td>\n",
       "      <td>0.500000</td>\n",
       "      <td>0.000000</td>\n",
       "    </tr>\n",
       "    <tr>\n",
       "      <th>0</th>\n",
       "      <td>svc</td>\n",
       "      <td>FRN_Anxiety_svc</td>\n",
       "      <td>0.586131</td>\n",
       "      <td>0.540765</td>\n",
       "      <td>(SVC(C=100))</td>\n",
       "      <td>{'svc__C': 100, 'svc__kernel': 'rbf'}</td>\n",
       "      <td>0.257742</td>\n",
       "      <td>0.630165</td>\n",
       "      <td>0.520661</td>\n",
       "      <td>0.502165</td>\n",
       "      <td>0.323954</td>\n",
       "      <td>0.550997</td>\n",
       "      <td>0.540765</td>\n",
       "      <td>0.601307</td>\n",
       "    </tr>\n",
       "    <tr>\n",
       "      <th>0</th>\n",
       "      <td>lda</td>\n",
       "      <td>FRN_Anxiety_lda</td>\n",
       "      <td>0.451399</td>\n",
       "      <td>0.459957</td>\n",
       "      <td>(LinearDiscriminantAnalysis(shrinkage='auto', ...</td>\n",
       "      <td>{'lda__shrinkage': 'auto', 'lda__solver': 'lsqr'}</td>\n",
       "      <td>0.780220</td>\n",
       "      <td>0.371901</td>\n",
       "      <td>0.489669</td>\n",
       "      <td>0.512987</td>\n",
       "      <td>0.435065</td>\n",
       "      <td>0.458186</td>\n",
       "      <td>0.459957</td>\n",
       "      <td>0.443476</td>\n",
       "    </tr>\n",
       "  </tbody>\n",
       "</table>\n",
       "</div>"
      ],
      "text/plain": [
       "  model_name    pipeline_name  train score  mean_cv_score  \\\n",
       "0         lg   FRN_Anxiety_lg     0.500000       0.500000   \n",
       "0        svc  FRN_Anxiety_svc     0.586131       0.540765   \n",
       "0        lda  FRN_Anxiety_lda     0.451399       0.459957   \n",
       "\n",
       "                                          best_model  \\\n",
       "0  (LogisticRegression(penalty='l1', solver='libl...   \n",
       "0                                       (SVC(C=100))   \n",
       "0  (LinearDiscriminantAnalysis(shrinkage='auto', ...   \n",
       "\n",
       "                                          parameters    pvalue  \\\n",
       "0                                                 {}  1.000000   \n",
       "0              {'svc__C': 100, 'svc__kernel': 'rbf'}  0.257742   \n",
       "0  {'lda__shrinkage': 'auto', 'lda__solver': 'lsqr'}  0.780220   \n",
       "\n",
       "   split0_test_roc_auc  split1_test_roc_auc  split2_test_roc_auc  \\\n",
       "0             0.500000             0.500000             0.500000   \n",
       "0             0.630165             0.520661             0.502165   \n",
       "0             0.371901             0.489669             0.512987   \n",
       "\n",
       "   mean_test_recall  mean_test_roc_auc  mean_test_balanced_accuracy  \\\n",
       "0          0.000000           0.500000                     0.500000   \n",
       "0          0.323954           0.550997                     0.540765   \n",
       "0          0.435065           0.458186                     0.459957   \n",
       "\n",
       "   mean_test_precision  \n",
       "0             0.000000  \n",
       "0             0.601307  \n",
       "0             0.443476  "
      ]
     },
     "execution_count": 393,
     "metadata": {},
     "output_type": "execute_result"
    }
   ],
   "source": [
    "results_anx_frn_df"
   ]
  },
  {
   "cell_type": "code",
   "execution_count": 394,
   "metadata": {},
   "outputs": [],
   "source": [
    "results_anx_frn_df.to_pickle(\"data/anxiety_additional_frn_results_gng_06_06_2023_4.pkl\")"
   ]
  },
  {
   "cell_type": "code",
   "execution_count": 395,
   "metadata": {},
   "outputs": [],
   "source": [
    "results_dep_rewp_df = pd.read_pickle(\"data/depression_rewp_results_gng_06_06_23_1.pkl\")\n",
    "results_dep_frn_df = pd.read_pickle(\"data/depression__additional_frn_gng_06_06_23_2.pkl\")\n",
    "results_anx_rewp_df = pd.read_pickle(\"data/anxiety_rewp_results_gng_06_06_23_3.pkl\")\n",
    "results_anx_frn_df = pd.read_pickle(\"data/anxiety_additional_frn_results_gng_06_06_2023_4.pkl\")"
   ]
  },
  {
   "cell_type": "markdown",
   "metadata": {},
   "source": [
    "### Depression RewP vs FRN"
   ]
  },
  {
   "cell_type": "code",
   "execution_count": 396,
   "metadata": {},
   "outputs": [],
   "source": [
    "y = np.array(len(dep) * [1] +  len(ctrl_dep) * [0])"
   ]
  },
  {
   "cell_type": "code",
   "execution_count": 397,
   "metadata": {},
   "outputs": [],
   "source": [
    "dep_rewp_data = []\n",
    "ctrl_rewp_data = []\n",
    "dep_rewp_data = get_rewps(dep, tmin, tmax)\n",
    "ctrl_rewp_data = get_rewps(ctrl_dep, tmin, tmax)"
   ]
  },
  {
   "cell_type": "code",
   "execution_count": 398,
   "metadata": {},
   "outputs": [],
   "source": [
    "X_rewp = pd.DataFrame(pd.concat([pd.DataFrame(dep_rewp_data), pd.DataFrame(ctrl_rewp_data)]))"
   ]
  },
  {
   "cell_type": "code",
   "execution_count": 399,
   "metadata": {},
   "outputs": [],
   "source": [
    "dep_frn_data = []\n",
    "ctrl_frn_data = []\n",
    "dep_frn_data = get_fnrs(dep, frn_first_max, tmin, tmax)\n",
    "ctrl_frn_data = get_fnrs(ctrl_dep, frn_first_max, tmin, tmax)"
   ]
  },
  {
   "cell_type": "code",
   "execution_count": 400,
   "metadata": {},
   "outputs": [],
   "source": [
    "X_frn = pd.DataFrame(pd.concat([pd.DataFrame(dep_frn_data), pd.DataFrame(ctrl_frn_data)]))"
   ]
  },
  {
   "cell_type": "code",
   "execution_count": 401,
   "metadata": {},
   "outputs": [],
   "source": [
    "%%capture\n",
    "\n",
    "cv = RepeatedStratifiedKFold(n_splits=10, n_repeats=10, random_state=random_state)\n",
    "\n",
    "cv_results_df = pd.DataFrame()\n",
    "\n",
    "for i in range(0,len(results_dep_rewp_df)):\n",
    "    cv_scores_rewp = cross_val_score(results_dep_rewp_df.iloc[i].best_model, X_rewp, y, cv=cv, scoring='balanced_accuracy')\n",
    "    cv_scores_frn = cross_val_score(results_dep_frn_df.iloc[i].best_model, X_frn, y, cv=cv,  scoring='balanced_accuracy')\n",
    "    \n",
    "    cv_results_df[\"RewP_\" + str(i)] = cv_scores_rewp\n",
    "    cv_results_df[\"FRN_\" + str(i)] = cv_scores_frn"
   ]
  },
  {
   "cell_type": "code",
   "execution_count": 402,
   "metadata": {},
   "outputs": [
    {
     "data": {
      "text/html": [
       "<div>\n",
       "<style scoped>\n",
       "    .dataframe tbody tr th:only-of-type {\n",
       "        vertical-align: middle;\n",
       "    }\n",
       "\n",
       "    .dataframe tbody tr th {\n",
       "        vertical-align: top;\n",
       "    }\n",
       "\n",
       "    .dataframe thead th {\n",
       "        text-align: right;\n",
       "    }\n",
       "</style>\n",
       "<table border=\"1\" class=\"dataframe\">\n",
       "  <thead>\n",
       "    <tr style=\"text-align: right;\">\n",
       "      <th></th>\n",
       "      <th>RewP_0</th>\n",
       "      <th>FRN_0</th>\n",
       "      <th>RewP_1</th>\n",
       "      <th>FRN_1</th>\n",
       "      <th>RewP_2</th>\n",
       "      <th>FRN_2</th>\n",
       "    </tr>\n",
       "  </thead>\n",
       "  <tbody>\n",
       "    <tr>\n",
       "      <th>0</th>\n",
       "      <td>0.5</td>\n",
       "      <td>0.5</td>\n",
       "      <td>0.383929</td>\n",
       "      <td>0.508929</td>\n",
       "      <td>0.383929</td>\n",
       "      <td>0.446429</td>\n",
       "    </tr>\n",
       "    <tr>\n",
       "      <th>1</th>\n",
       "      <td>0.5</td>\n",
       "      <td>0.5</td>\n",
       "      <td>0.553571</td>\n",
       "      <td>0.571429</td>\n",
       "      <td>0.803571</td>\n",
       "      <td>0.571429</td>\n",
       "    </tr>\n",
       "    <tr>\n",
       "      <th>2</th>\n",
       "      <td>0.5</td>\n",
       "      <td>0.5</td>\n",
       "      <td>0.553571</td>\n",
       "      <td>0.464286</td>\n",
       "      <td>0.616071</td>\n",
       "      <td>0.464286</td>\n",
       "    </tr>\n",
       "    <tr>\n",
       "      <th>3</th>\n",
       "      <td>0.5</td>\n",
       "      <td>0.5</td>\n",
       "      <td>0.464286</td>\n",
       "      <td>0.508929</td>\n",
       "      <td>0.464286</td>\n",
       "      <td>0.508929</td>\n",
       "    </tr>\n",
       "    <tr>\n",
       "      <th>4</th>\n",
       "      <td>0.5</td>\n",
       "      <td>0.5</td>\n",
       "      <td>0.553571</td>\n",
       "      <td>0.446429</td>\n",
       "      <td>0.607143</td>\n",
       "      <td>0.446429</td>\n",
       "    </tr>\n",
       "    <tr>\n",
       "      <th>...</th>\n",
       "      <td>...</td>\n",
       "      <td>...</td>\n",
       "      <td>...</td>\n",
       "      <td>...</td>\n",
       "      <td>...</td>\n",
       "      <td>...</td>\n",
       "    </tr>\n",
       "    <tr>\n",
       "      <th>95</th>\n",
       "      <td>0.5</td>\n",
       "      <td>0.5</td>\n",
       "      <td>0.419643</td>\n",
       "      <td>0.419643</td>\n",
       "      <td>0.473214</td>\n",
       "      <td>0.348214</td>\n",
       "    </tr>\n",
       "    <tr>\n",
       "      <th>96</th>\n",
       "      <td>0.5</td>\n",
       "      <td>0.5</td>\n",
       "      <td>0.428571</td>\n",
       "      <td>0.553571</td>\n",
       "      <td>0.553571</td>\n",
       "      <td>0.553571</td>\n",
       "    </tr>\n",
       "    <tr>\n",
       "      <th>97</th>\n",
       "      <td>0.5</td>\n",
       "      <td>0.5</td>\n",
       "      <td>0.642857</td>\n",
       "      <td>0.785714</td>\n",
       "      <td>0.714286</td>\n",
       "      <td>0.785714</td>\n",
       "    </tr>\n",
       "    <tr>\n",
       "      <th>98</th>\n",
       "      <td>0.5</td>\n",
       "      <td>0.5</td>\n",
       "      <td>0.428571</td>\n",
       "      <td>0.571429</td>\n",
       "      <td>0.428571</td>\n",
       "      <td>0.571429</td>\n",
       "    </tr>\n",
       "    <tr>\n",
       "      <th>99</th>\n",
       "      <td>0.5</td>\n",
       "      <td>0.5</td>\n",
       "      <td>0.571429</td>\n",
       "      <td>0.642857</td>\n",
       "      <td>0.714286</td>\n",
       "      <td>0.571429</td>\n",
       "    </tr>\n",
       "  </tbody>\n",
       "</table>\n",
       "<p>100 rows × 6 columns</p>\n",
       "</div>"
      ],
      "text/plain": [
       "    RewP_0  FRN_0    RewP_1     FRN_1    RewP_2     FRN_2\n",
       "0      0.5    0.5  0.383929  0.508929  0.383929  0.446429\n",
       "1      0.5    0.5  0.553571  0.571429  0.803571  0.571429\n",
       "2      0.5    0.5  0.553571  0.464286  0.616071  0.464286\n",
       "3      0.5    0.5  0.464286  0.508929  0.464286  0.508929\n",
       "4      0.5    0.5  0.553571  0.446429  0.607143  0.446429\n",
       "..     ...    ...       ...       ...       ...       ...\n",
       "95     0.5    0.5  0.419643  0.419643  0.473214  0.348214\n",
       "96     0.5    0.5  0.428571  0.553571  0.553571  0.553571\n",
       "97     0.5    0.5  0.642857  0.785714  0.714286  0.785714\n",
       "98     0.5    0.5  0.428571  0.571429  0.428571  0.571429\n",
       "99     0.5    0.5  0.571429  0.642857  0.714286  0.571429\n",
       "\n",
       "[100 rows x 6 columns]"
      ]
     },
     "execution_count": 402,
     "metadata": {},
     "output_type": "execute_result"
    }
   ],
   "source": [
    "cv_results_df"
   ]
  },
  {
   "cell_type": "code",
   "execution_count": 403,
   "metadata": {},
   "outputs": [
    {
     "data": {
      "image/png": "[encoded data removed]",
      "text/plain": [
       "<Figure size 1000x700 with 1 Axes>"
      ]
     },
     "metadata": {},
     "output_type": "display_data"
    }
   ],
   "source": [
    "fig = sns.histplot(data=cv_results_df, bins=5, kde=True)"
   ]
  },
  {
   "cell_type": "code",
   "execution_count": 404,
   "metadata": {},
   "outputs": [
    {
     "data": {
      "text/html": [
       "<div>\n",
       "<style scoped>\n",
       "    .dataframe tbody tr th:only-of-type {\n",
       "        vertical-align: middle;\n",
       "    }\n",
       "\n",
       "    .dataframe tbody tr th {\n",
       "        vertical-align: top;\n",
       "    }\n",
       "\n",
       "    .dataframe thead th {\n",
       "        text-align: right;\n",
       "    }\n",
       "</style>\n",
       "<table border=\"1\" class=\"dataframe\">\n",
       "  <thead>\n",
       "    <tr style=\"text-align: right;\">\n",
       "      <th></th>\n",
       "      <th>model_name</th>\n",
       "      <th>pipeline_name</th>\n",
       "      <th>train score</th>\n",
       "      <th>mean_cv_score</th>\n",
       "      <th>best_model</th>\n",
       "      <th>parameters</th>\n",
       "      <th>pvalue</th>\n",
       "      <th>split0_test_roc_auc</th>\n",
       "      <th>split1_test_roc_auc</th>\n",
       "      <th>split2_test_roc_auc</th>\n",
       "      <th>mean_test_recall</th>\n",
       "      <th>mean_test_roc_auc</th>\n",
       "      <th>mean_test_balanced_accuracy</th>\n",
       "      <th>mean_test_precision</th>\n",
       "    </tr>\n",
       "  </thead>\n",
       "  <tbody>\n",
       "    <tr>\n",
       "      <th>0</th>\n",
       "      <td>lg</td>\n",
       "      <td>RewP_Depression_lg</td>\n",
       "      <td>0.500000</td>\n",
       "      <td>0.500000</td>\n",
       "      <td>(LogisticRegression(penalty='l1', solver='libl...</td>\n",
       "      <td>{}</td>\n",
       "      <td>1.000000</td>\n",
       "      <td>0.500000</td>\n",
       "      <td>0.500000</td>\n",
       "      <td>0.500000</td>\n",
       "      <td>0.000000</td>\n",
       "      <td>0.500000</td>\n",
       "      <td>0.500000</td>\n",
       "      <td>0.000000</td>\n",
       "    </tr>\n",
       "    <tr>\n",
       "      <th>0</th>\n",
       "      <td>svc</td>\n",
       "      <td>RewP_Depression_svc</td>\n",
       "      <td>0.559444</td>\n",
       "      <td>0.530833</td>\n",
       "      <td>(SVC(C=1))</td>\n",
       "      <td>{'svc__C': 1, 'svc__kernel': 'rbf'}</td>\n",
       "      <td>0.318681</td>\n",
       "      <td>0.511667</td>\n",
       "      <td>0.603333</td>\n",
       "      <td>0.486667</td>\n",
       "      <td>0.520000</td>\n",
       "      <td>0.533889</td>\n",
       "      <td>0.530833</td>\n",
       "      <td>0.555051</td>\n",
       "    </tr>\n",
       "    <tr>\n",
       "      <th>0</th>\n",
       "      <td>lda</td>\n",
       "      <td>RewP_Depression_lda</td>\n",
       "      <td>0.571389</td>\n",
       "      <td>0.550556</td>\n",
       "      <td>(LinearDiscriminantAnalysis(shrinkage='auto', ...</td>\n",
       "      <td>{'lda__shrinkage': 'auto', 'lda__solver': 'lsqr'}</td>\n",
       "      <td>0.165834</td>\n",
       "      <td>0.595000</td>\n",
       "      <td>0.666667</td>\n",
       "      <td>0.516667</td>\n",
       "      <td>0.573333</td>\n",
       "      <td>0.592778</td>\n",
       "      <td>0.550556</td>\n",
       "      <td>0.558776</td>\n",
       "    </tr>\n",
       "  </tbody>\n",
       "</table>\n",
       "</div>"
      ],
      "text/plain": [
       "  model_name        pipeline_name  train score  mean_cv_score  \\\n",
       "0         lg   RewP_Depression_lg     0.500000       0.500000   \n",
       "0        svc  RewP_Depression_svc     0.559444       0.530833   \n",
       "0        lda  RewP_Depression_lda     0.571389       0.550556   \n",
       "\n",
       "                                          best_model  \\\n",
       "0  (LogisticRegression(penalty='l1', solver='libl...   \n",
       "0                                         (SVC(C=1))   \n",
       "0  (LinearDiscriminantAnalysis(shrinkage='auto', ...   \n",
       "\n",
       "                                          parameters    pvalue  \\\n",
       "0                                                 {}  1.000000   \n",
       "0                {'svc__C': 1, 'svc__kernel': 'rbf'}  0.318681   \n",
       "0  {'lda__shrinkage': 'auto', 'lda__solver': 'lsqr'}  0.165834   \n",
       "\n",
       "   split0_test_roc_auc  split1_test_roc_auc  split2_test_roc_auc  \\\n",
       "0             0.500000             0.500000             0.500000   \n",
       "0             0.511667             0.603333             0.486667   \n",
       "0             0.595000             0.666667             0.516667   \n",
       "\n",
       "   mean_test_recall  mean_test_roc_auc  mean_test_balanced_accuracy  \\\n",
       "0          0.000000           0.500000                     0.500000   \n",
       "0          0.520000           0.533889                     0.530833   \n",
       "0          0.573333           0.592778                     0.550556   \n",
       "\n",
       "   mean_test_precision  \n",
       "0             0.000000  \n",
       "0             0.555051  \n",
       "0             0.558776  "
      ]
     },
     "execution_count": 404,
     "metadata": {},
     "output_type": "execute_result"
    }
   ],
   "source": [
    "results_dep_rewp_df"
   ]
  },
  {
   "cell_type": "code",
   "execution_count": 405,
   "metadata": {},
   "outputs": [
    {
     "data": {
      "text/html": [
       "<div>\n",
       "<style scoped>\n",
       "    .dataframe tbody tr th:only-of-type {\n",
       "        vertical-align: middle;\n",
       "    }\n",
       "\n",
       "    .dataframe tbody tr th {\n",
       "        vertical-align: top;\n",
       "    }\n",
       "\n",
       "    .dataframe thead th {\n",
       "        text-align: right;\n",
       "    }\n",
       "</style>\n",
       "<table border=\"1\" class=\"dataframe\">\n",
       "  <thead>\n",
       "    <tr style=\"text-align: right;\">\n",
       "      <th></th>\n",
       "      <th>model_name</th>\n",
       "      <th>pipeline_name</th>\n",
       "      <th>train score</th>\n",
       "      <th>mean_cv_score</th>\n",
       "      <th>best_model</th>\n",
       "      <th>parameters</th>\n",
       "      <th>pvalue</th>\n",
       "      <th>split0_test_roc_auc</th>\n",
       "      <th>split1_test_roc_auc</th>\n",
       "      <th>split2_test_roc_auc</th>\n",
       "      <th>mean_test_recall</th>\n",
       "      <th>mean_test_roc_auc</th>\n",
       "      <th>mean_test_balanced_accuracy</th>\n",
       "      <th>mean_test_precision</th>\n",
       "    </tr>\n",
       "  </thead>\n",
       "  <tbody>\n",
       "    <tr>\n",
       "      <th>0</th>\n",
       "      <td>lg</td>\n",
       "      <td>FRN_Depression_lg</td>\n",
       "      <td>0.500000</td>\n",
       "      <td>0.500000</td>\n",
       "      <td>(LogisticRegression(penalty='l1', solver='libl...</td>\n",
       "      <td>{}</td>\n",
       "      <td>1.000000</td>\n",
       "      <td>0.500000</td>\n",
       "      <td>0.500</td>\n",
       "      <td>0.500000</td>\n",
       "      <td>0.00</td>\n",
       "      <td>0.500000</td>\n",
       "      <td>0.500000</td>\n",
       "      <td>0.000000</td>\n",
       "    </tr>\n",
       "    <tr>\n",
       "      <th>0</th>\n",
       "      <td>svc</td>\n",
       "      <td>FRN_Depression_svc</td>\n",
       "      <td>0.572778</td>\n",
       "      <td>0.565833</td>\n",
       "      <td>(SVC(C=1))</td>\n",
       "      <td>{'svc__C': 1, 'svc__kernel': 'rbf'}</td>\n",
       "      <td>0.051948</td>\n",
       "      <td>0.591667</td>\n",
       "      <td>0.555</td>\n",
       "      <td>0.631667</td>\n",
       "      <td>0.84</td>\n",
       "      <td>0.592778</td>\n",
       "      <td>0.565833</td>\n",
       "      <td>0.553349</td>\n",
       "    </tr>\n",
       "    <tr>\n",
       "      <th>0</th>\n",
       "      <td>lda</td>\n",
       "      <td>FRN_Depression_lda</td>\n",
       "      <td>0.566667</td>\n",
       "      <td>0.573611</td>\n",
       "      <td>(LinearDiscriminantAnalysis(shrinkage='auto', ...</td>\n",
       "      <td>{'lda__shrinkage': 'auto', 'lda__solver': 'lsqr'}</td>\n",
       "      <td>0.035964</td>\n",
       "      <td>0.456667</td>\n",
       "      <td>0.560</td>\n",
       "      <td>0.658333</td>\n",
       "      <td>0.80</td>\n",
       "      <td>0.558333</td>\n",
       "      <td>0.573611</td>\n",
       "      <td>0.563715</td>\n",
       "    </tr>\n",
       "  </tbody>\n",
       "</table>\n",
       "</div>"
      ],
      "text/plain": [
       "  model_name       pipeline_name  train score  mean_cv_score  \\\n",
       "0         lg   FRN_Depression_lg     0.500000       0.500000   \n",
       "0        svc  FRN_Depression_svc     0.572778       0.565833   \n",
       "0        lda  FRN_Depression_lda     0.566667       0.573611   \n",
       "\n",
       "                                          best_model  \\\n",
       "0  (LogisticRegression(penalty='l1', solver='libl...   \n",
       "0                                         (SVC(C=1))   \n",
       "0  (LinearDiscriminantAnalysis(shrinkage='auto', ...   \n",
       "\n",
       "                                          parameters    pvalue  \\\n",
       "0                                                 {}  1.000000   \n",
       "0                {'svc__C': 1, 'svc__kernel': 'rbf'}  0.051948   \n",
       "0  {'lda__shrinkage': 'auto', 'lda__solver': 'lsqr'}  0.035964   \n",
       "\n",
       "   split0_test_roc_auc  split1_test_roc_auc  split2_test_roc_auc  \\\n",
       "0             0.500000                0.500             0.500000   \n",
       "0             0.591667                0.555             0.631667   \n",
       "0             0.456667                0.560             0.658333   \n",
       "\n",
       "   mean_test_recall  mean_test_roc_auc  mean_test_balanced_accuracy  \\\n",
       "0              0.00           0.500000                     0.500000   \n",
       "0              0.84           0.592778                     0.565833   \n",
       "0              0.80           0.558333                     0.573611   \n",
       "\n",
       "   mean_test_precision  \n",
       "0             0.000000  \n",
       "0             0.553349  \n",
       "0             0.563715  "
      ]
     },
     "execution_count": 405,
     "metadata": {},
     "output_type": "execute_result"
    }
   ],
   "source": [
    "results_dep_frn_df"
   ]
  },
  {
   "cell_type": "code",
   "execution_count": 406,
   "metadata": {},
   "outputs": [
    {
     "data": {
      "text/html": [
       "<style>#sk-container-id-17 {color: black;background-color: white;}#sk-container-id-17 pre{padding: 0;}#sk-container-id-17 div.sk-toggleable {background-color: white;}#sk-container-id-17 label.sk-toggleable__label {cursor: pointer;display: block;width: 100%;margin-bottom: 0;padding: 0.3em;box-sizing: border-box;text-align: center;}#sk-container-id-17 label.sk-toggleable__label-arrow:before {content: \"▸\";float: left;margin-right: 0.25em;color: #696969;}#sk-container-id-17 label.sk-toggleable__label-arrow:hover:before {color: black;}#sk-container-id-17 div.sk-estimator:hover label.sk-toggleable__label-arrow:before {color: black;}#sk-container-id-17 div.sk-toggleable__content {max-height: 0;max-width: 0;overflow: hidden;text-align: left;background-color: #f0f8ff;}#sk-container-id-17 div.sk-toggleable__content pre {margin: 0.2em;color: black;border-radius: 0.25em;background-color: #f0f8ff;}#sk-container-id-17 input.sk-toggleable__control:checked~div.sk-toggleable__content {max-height: 200px;max-width: 100%;overflow: auto;}#sk-container-id-17 input.sk-toggleable__control:checked~label.sk-toggleable__label-arrow:before {content: \"▾\";}#sk-container-id-17 div.sk-estimator input.sk-toggleable__control:checked~label.sk-toggleable__label {background-color: #d4ebff;}#sk-container-id-17 div.sk-label input.sk-toggleable__control:checked~label.sk-toggleable__label {background-color: #d4ebff;}#sk-container-id-17 input.sk-hidden--visually {border: 0;clip: rect(1px 1px 1px 1px);clip: rect(1px, 1px, 1px, 1px);height: 1px;margin: -1px;overflow: hidden;padding: 0;position: absolute;width: 1px;}#sk-container-id-17 div.sk-estimator {font-family: monospace;background-color: #f0f8ff;border: 1px dotted black;border-radius: 0.25em;box-sizing: border-box;margin-bottom: 0.5em;}#sk-container-id-17 div.sk-estimator:hover {background-color: #d4ebff;}#sk-container-id-17 div.sk-parallel-item::after {content: \"\";width: 100%;border-bottom: 1px solid gray;flex-grow: 1;}#sk-container-id-17 div.sk-label:hover label.sk-toggleable__label {background-color: #d4ebff;}#sk-container-id-17 div.sk-serial::before {content: \"\";position: absolute;border-left: 1px solid gray;box-sizing: border-box;top: 0;bottom: 0;left: 50%;z-index: 0;}#sk-container-id-17 div.sk-serial {display: flex;flex-direction: column;align-items: center;background-color: white;padding-right: 0.2em;padding-left: 0.2em;position: relative;}#sk-container-id-17 div.sk-item {position: relative;z-index: 1;}#sk-container-id-17 div.sk-parallel {display: flex;align-items: stretch;justify-content: center;background-color: white;position: relative;}#sk-container-id-17 div.sk-item::before, #sk-container-id-17 div.sk-parallel-item::before {content: \"\";position: absolute;border-left: 1px solid gray;box-sizing: border-box;top: 0;bottom: 0;left: 50%;z-index: -1;}#sk-container-id-17 div.sk-parallel-item {display: flex;flex-direction: column;z-index: 1;position: relative;background-color: white;}#sk-container-id-17 div.sk-parallel-item:first-child::after {align-self: flex-end;width: 50%;}#sk-container-id-17 div.sk-parallel-item:last-child::after {align-self: flex-start;width: 50%;}#sk-container-id-17 div.sk-parallel-item:only-child::after {width: 0;}#sk-container-id-17 div.sk-dashed-wrapped {border: 1px dashed gray;margin: 0 0.4em 0.5em 0.4em;box-sizing: border-box;padding-bottom: 0.4em;background-color: white;}#sk-container-id-17 div.sk-label label {font-family: monospace;font-weight: bold;display: inline-block;line-height: 1.2em;}#sk-container-id-17 div.sk-label-container {text-align: center;}#sk-container-id-17 div.sk-container {/* jupyter's `normalize.less` sets `[hidden] { display: none; }` but bootstrap.min.css set `[hidden] { display: none !important; }` so we also need the `!important` here to be able to override the default hidden behavior on the sphinx rendered scikit-learn.org. See: https://github.com/scikit-learn/scikit-learn/issues/21755 */display: inline-block !important;position: relative;}#sk-container-id-17 div.sk-text-repr-fallback {display: none;}</style><div id=\"sk-container-id-17\" class=\"sk-top-container\"><div class=\"sk-text-repr-fallback\"><pre>Pipeline(steps=[(&#x27;svc&#x27;, SVC(C=1))])</pre><b>In a Jupyter environment, please rerun this cell to show the HTML representation or trust the notebook. <br />On GitHub, the HTML representation is unable to render, please try loading this page with nbviewer.org.</b></div><div class=\"sk-container\" hidden><div class=\"sk-item sk-dashed-wrapped\"><div class=\"sk-label-container\"><div class=\"sk-label sk-toggleable\"><input class=\"sk-toggleable__control sk-hidden--visually\" id=\"sk-estimator-id-33\" type=\"checkbox\" ><label for=\"sk-estimator-id-33\" class=\"sk-toggleable__label sk-toggleable__label-arrow\">Pipeline</label><div class=\"sk-toggleable__content\"><pre>Pipeline(steps=[(&#x27;svc&#x27;, SVC(C=1))])</pre></div></div></div><div class=\"sk-serial\"><div class=\"sk-item\"><div class=\"sk-estimator sk-toggleable\"><input class=\"sk-toggleable__control sk-hidden--visually\" id=\"sk-estimator-id-34\" type=\"checkbox\" ><label for=\"sk-estimator-id-34\" class=\"sk-toggleable__label sk-toggleable__label-arrow\">SVC</label><div class=\"sk-toggleable__content\"><pre>SVC(C=1)</pre></div></div></div></div></div></div></div>"
      ],
      "text/plain": [
       "Pipeline(steps=[('svc', SVC(C=1))])"
      ]
     },
     "execution_count": 406,
     "metadata": {},
     "output_type": "execute_result"
    }
   ],
   "source": [
    "dep_rewp_model = results_dep_rewp_df.iloc[1].best_model\n",
    "dep_rewp_model"
   ]
  },
  {
   "cell_type": "code",
   "execution_count": 407,
   "metadata": {},
   "outputs": [
    {
     "data": {
      "text/html": [
       "<style>#sk-container-id-18 {color: black;background-color: white;}#sk-container-id-18 pre{padding: 0;}#sk-container-id-18 div.sk-toggleable {background-color: white;}#sk-container-id-18 label.sk-toggleable__label {cursor: pointer;display: block;width: 100%;margin-bottom: 0;padding: 0.3em;box-sizing: border-box;text-align: center;}#sk-container-id-18 label.sk-toggleable__label-arrow:before {content: \"▸\";float: left;margin-right: 0.25em;color: #696969;}#sk-container-id-18 label.sk-toggleable__label-arrow:hover:before {color: black;}#sk-container-id-18 div.sk-estimator:hover label.sk-toggleable__label-arrow:before {color: black;}#sk-container-id-18 div.sk-toggleable__content {max-height: 0;max-width: 0;overflow: hidden;text-align: left;background-color: #f0f8ff;}#sk-container-id-18 div.sk-toggleable__content pre {margin: 0.2em;color: black;border-radius: 0.25em;background-color: #f0f8ff;}#sk-container-id-18 input.sk-toggleable__control:checked~div.sk-toggleable__content {max-height: 200px;max-width: 100%;overflow: auto;}#sk-container-id-18 input.sk-toggleable__control:checked~label.sk-toggleable__label-arrow:before {content: \"▾\";}#sk-container-id-18 div.sk-estimator input.sk-toggleable__control:checked~label.sk-toggleable__label {background-color: #d4ebff;}#sk-container-id-18 div.sk-label input.sk-toggleable__control:checked~label.sk-toggleable__label {background-color: #d4ebff;}#sk-container-id-18 input.sk-hidden--visually {border: 0;clip: rect(1px 1px 1px 1px);clip: rect(1px, 1px, 1px, 1px);height: 1px;margin: -1px;overflow: hidden;padding: 0;position: absolute;width: 1px;}#sk-container-id-18 div.sk-estimator {font-family: monospace;background-color: #f0f8ff;border: 1px dotted black;border-radius: 0.25em;box-sizing: border-box;margin-bottom: 0.5em;}#sk-container-id-18 div.sk-estimator:hover {background-color: #d4ebff;}#sk-container-id-18 div.sk-parallel-item::after {content: \"\";width: 100%;border-bottom: 1px solid gray;flex-grow: 1;}#sk-container-id-18 div.sk-label:hover label.sk-toggleable__label {background-color: #d4ebff;}#sk-container-id-18 div.sk-serial::before {content: \"\";position: absolute;border-left: 1px solid gray;box-sizing: border-box;top: 0;bottom: 0;left: 50%;z-index: 0;}#sk-container-id-18 div.sk-serial {display: flex;flex-direction: column;align-items: center;background-color: white;padding-right: 0.2em;padding-left: 0.2em;position: relative;}#sk-container-id-18 div.sk-item {position: relative;z-index: 1;}#sk-container-id-18 div.sk-parallel {display: flex;align-items: stretch;justify-content: center;background-color: white;position: relative;}#sk-container-id-18 div.sk-item::before, #sk-container-id-18 div.sk-parallel-item::before {content: \"\";position: absolute;border-left: 1px solid gray;box-sizing: border-box;top: 0;bottom: 0;left: 50%;z-index: -1;}#sk-container-id-18 div.sk-parallel-item {display: flex;flex-direction: column;z-index: 1;position: relative;background-color: white;}#sk-container-id-18 div.sk-parallel-item:first-child::after {align-self: flex-end;width: 50%;}#sk-container-id-18 div.sk-parallel-item:last-child::after {align-self: flex-start;width: 50%;}#sk-container-id-18 div.sk-parallel-item:only-child::after {width: 0;}#sk-container-id-18 div.sk-dashed-wrapped {border: 1px dashed gray;margin: 0 0.4em 0.5em 0.4em;box-sizing: border-box;padding-bottom: 0.4em;background-color: white;}#sk-container-id-18 div.sk-label label {font-family: monospace;font-weight: bold;display: inline-block;line-height: 1.2em;}#sk-container-id-18 div.sk-label-container {text-align: center;}#sk-container-id-18 div.sk-container {/* jupyter's `normalize.less` sets `[hidden] { display: none; }` but bootstrap.min.css set `[hidden] { display: none !important; }` so we also need the `!important` here to be able to override the default hidden behavior on the sphinx rendered scikit-learn.org. See: https://github.com/scikit-learn/scikit-learn/issues/21755 */display: inline-block !important;position: relative;}#sk-container-id-18 div.sk-text-repr-fallback {display: none;}</style><div id=\"sk-container-id-18\" class=\"sk-top-container\"><div class=\"sk-text-repr-fallback\"><pre>Pipeline(steps=[(&#x27;lg&#x27;, LogisticRegression(penalty=&#x27;l1&#x27;, solver=&#x27;liblinear&#x27;))])</pre><b>In a Jupyter environment, please rerun this cell to show the HTML representation or trust the notebook. <br />On GitHub, the HTML representation is unable to render, please try loading this page with nbviewer.org.</b></div><div class=\"sk-container\" hidden><div class=\"sk-item sk-dashed-wrapped\"><div class=\"sk-label-container\"><div class=\"sk-label sk-toggleable\"><input class=\"sk-toggleable__control sk-hidden--visually\" id=\"sk-estimator-id-35\" type=\"checkbox\" ><label for=\"sk-estimator-id-35\" class=\"sk-toggleable__label sk-toggleable__label-arrow\">Pipeline</label><div class=\"sk-toggleable__content\"><pre>Pipeline(steps=[(&#x27;lg&#x27;, LogisticRegression(penalty=&#x27;l1&#x27;, solver=&#x27;liblinear&#x27;))])</pre></div></div></div><div class=\"sk-serial\"><div class=\"sk-item\"><div class=\"sk-estimator sk-toggleable\"><input class=\"sk-toggleable__control sk-hidden--visually\" id=\"sk-estimator-id-36\" type=\"checkbox\" ><label for=\"sk-estimator-id-36\" class=\"sk-toggleable__label sk-toggleable__label-arrow\">LogisticRegression</label><div class=\"sk-toggleable__content\"><pre>LogisticRegression(penalty=&#x27;l1&#x27;, solver=&#x27;liblinear&#x27;)</pre></div></div></div></div></div></div></div>"
      ],
      "text/plain": [
       "Pipeline(steps=[('lg', LogisticRegression(penalty='l1', solver='liblinear'))])"
      ]
     },
     "execution_count": 407,
     "metadata": {},
     "output_type": "execute_result"
    }
   ],
   "source": [
    "dep_frn_model = results_dep_frn_df.iloc[0].best_model\n",
    "dep_frn_model"
   ]
  },
  {
   "cell_type": "code",
   "execution_count": 408,
   "metadata": {},
   "outputs": [],
   "source": [
    "%%capture\n",
    "\n",
    "t, p = paired_ttest_nandeu(\n",
    "    estimator1=dep_rewp_model,\n",
    "    estimator2=dep_frn_model,\n",
    "    X_1=X_rewp,\n",
    "    X_2=X_frn, \n",
    "    y=y,\n",
    "    random_state=random_state,\n",
    "    scoring='balanced_accuracy'\n",
    ")\n"
   ]
  },
  {
   "cell_type": "code",
   "execution_count": 409,
   "metadata": {},
   "outputs": [
    {
     "name": "stdout",
     "output_type": "stream",
     "text": [
      "t statistic: 0.015\n",
      "p value: 0.494\n"
     ]
    }
   ],
   "source": [
    "print('t statistic: %.3f' % t)\n",
    "print('p value: %.3f' % p)"
   ]
  },
  {
   "cell_type": "code",
   "execution_count": 410,
   "metadata": {},
   "outputs": [],
   "source": [
    "%%capture\n",
    "\n",
    "t, p = paired_ttest_nandeu(\n",
    "    estimator1=dep_rewp_model,\n",
    "    estimator2=dep_frn_model,\n",
    "    X_1=X_rewp,\n",
    "    X_2=X_frn, \n",
    "    y=y,\n",
    "    random_state=random_state,\n",
    "    scoring='roc_auc'\n",
    ")"
   ]
  },
  {
   "cell_type": "code",
   "execution_count": 411,
   "metadata": {},
   "outputs": [
    {
     "name": "stdout",
     "output_type": "stream",
     "text": [
      "t statistic: 1.173\n",
      "p value: 0.122\n"
     ]
    }
   ],
   "source": [
    "print('t statistic: %.3f' % t)\n",
    "print('p value: %.3f' % p)"
   ]
  },
  {
   "cell_type": "code",
   "execution_count": 412,
   "metadata": {},
   "outputs": [],
   "source": [
    "%%capture\n",
    "\n",
    "t, p = paired_ttest_nandeu(\n",
    "    estimator1=dep_rewp_model,\n",
    "    estimator2=dep_frn_model,\n",
    "    X_1=X_rewp,\n",
    "    X_2=X_frn, \n",
    "    y=y,\n",
    "    random_state=random_state,\n",
    "    scoring='precision'\n",
    ")"
   ]
  },
  {
   "cell_type": "code",
   "execution_count": 413,
   "metadata": {},
   "outputs": [
    {
     "name": "stdout",
     "output_type": "stream",
     "text": [
      "t statistic: 2.647\n",
      "p value: 0.005\n"
     ]
    }
   ],
   "source": [
    "print('t statistic: %.3f' % t)\n",
    "print('p value: %.3f' % p)"
   ]
  },
  {
   "cell_type": "code",
   "execution_count": 414,
   "metadata": {},
   "outputs": [],
   "source": [
    "%%capture\n",
    "\n",
    "t, p = paired_ttest_nandeu(\n",
    "    estimator1=dep_rewp_model,\n",
    "    estimator2=dep_frn_model,\n",
    "    X_1=X_rewp,\n",
    "    X_2=X_frn, \n",
    "    y=y,\n",
    "    random_state=random_state,\n",
    "    scoring='recall'\n",
    ")"
   ]
  },
  {
   "cell_type": "code",
   "execution_count": 415,
   "metadata": {},
   "outputs": [
    {
     "name": "stdout",
     "output_type": "stream",
     "text": [
      "t statistic: -0.186\n",
      "p value: 0.426\n"
     ]
    }
   ],
   "source": [
    "print('t statistic: %.3f' % t)\n",
    "print('p value: %.3f' % p)"
   ]
  },
  {
   "cell_type": "code",
   "execution_count": 416,
   "metadata": {},
   "outputs": [],
   "source": [
    "%%capture\n",
    "\n",
    "t, p = paired_ttest_nandeu(\n",
    "    estimator1=dep_rewp_model,\n",
    "    estimator2=dep_frn_model,\n",
    "    X_1=X_rewp,\n",
    "    X_2=X_frn, \n",
    "    y=y,\n",
    "    random_state=random_state,\n",
    "    scoring='f1'\n",
    ")"
   ]
  },
  {
   "cell_type": "code",
   "execution_count": 417,
   "metadata": {},
   "outputs": [
    {
     "name": "stdout",
     "output_type": "stream",
     "text": [
      "t statistic: 1.181\n",
      "p value: 0.120\n"
     ]
    }
   ],
   "source": [
    "print('t statistic: %.3f' % t)\n",
    "print('p value: %.3f' % p)"
   ]
  },
  {
   "cell_type": "code",
   "execution_count": 418,
   "metadata": {},
   "outputs": [],
   "source": [
    "%%capture\n",
    "\n",
    "cv = RepeatedStratifiedKFold(n_splits=10, n_repeats=10, random_state=random_state)\n",
    "\n",
    "cv_scores_1 = cross_val_score(dep_rewp_model, X_rewp, y, cv=cv, scoring='balanced_accuracy')\n",
    "cv_scores_2 = cross_val_score(dep_frn_model, X_frn, y, cv=cv,  scoring='balanced_accuracy')"
   ]
  },
  {
   "cell_type": "code",
   "execution_count": 419,
   "metadata": {},
   "outputs": [],
   "source": [
    "cv_results_df = pd.DataFrame({\n",
    "    \"RewP\": cv_scores_1,\n",
    "    \"FRN\": cv_scores_2,\n",
    "})"
   ]
  },
  {
   "cell_type": "code",
   "execution_count": 420,
   "metadata": {},
   "outputs": [
    {
     "data": {
      "text/html": [
       "<div>\n",
       "<style scoped>\n",
       "    .dataframe tbody tr th:only-of-type {\n",
       "        vertical-align: middle;\n",
       "    }\n",
       "\n",
       "    .dataframe tbody tr th {\n",
       "        vertical-align: top;\n",
       "    }\n",
       "\n",
       "    .dataframe thead th {\n",
       "        text-align: right;\n",
       "    }\n",
       "</style>\n",
       "<table border=\"1\" class=\"dataframe\">\n",
       "  <thead>\n",
       "    <tr style=\"text-align: right;\">\n",
       "      <th></th>\n",
       "      <th>RewP</th>\n",
       "      <th>FRN</th>\n",
       "    </tr>\n",
       "  </thead>\n",
       "  <tbody>\n",
       "    <tr>\n",
       "      <th>0</th>\n",
       "      <td>0.383929</td>\n",
       "      <td>0.5</td>\n",
       "    </tr>\n",
       "    <tr>\n",
       "      <th>1</th>\n",
       "      <td>0.553571</td>\n",
       "      <td>0.5</td>\n",
       "    </tr>\n",
       "    <tr>\n",
       "      <th>2</th>\n",
       "      <td>0.553571</td>\n",
       "      <td>0.5</td>\n",
       "    </tr>\n",
       "    <tr>\n",
       "      <th>3</th>\n",
       "      <td>0.464286</td>\n",
       "      <td>0.5</td>\n",
       "    </tr>\n",
       "    <tr>\n",
       "      <th>4</th>\n",
       "      <td>0.553571</td>\n",
       "      <td>0.5</td>\n",
       "    </tr>\n",
       "    <tr>\n",
       "      <th>...</th>\n",
       "      <td>...</td>\n",
       "      <td>...</td>\n",
       "    </tr>\n",
       "    <tr>\n",
       "      <th>95</th>\n",
       "      <td>0.419643</td>\n",
       "      <td>0.5</td>\n",
       "    </tr>\n",
       "    <tr>\n",
       "      <th>96</th>\n",
       "      <td>0.428571</td>\n",
       "      <td>0.5</td>\n",
       "    </tr>\n",
       "    <tr>\n",
       "      <th>97</th>\n",
       "      <td>0.642857</td>\n",
       "      <td>0.5</td>\n",
       "    </tr>\n",
       "    <tr>\n",
       "      <th>98</th>\n",
       "      <td>0.428571</td>\n",
       "      <td>0.5</td>\n",
       "    </tr>\n",
       "    <tr>\n",
       "      <th>99</th>\n",
       "      <td>0.571429</td>\n",
       "      <td>0.5</td>\n",
       "    </tr>\n",
       "  </tbody>\n",
       "</table>\n",
       "<p>100 rows × 2 columns</p>\n",
       "</div>"
      ],
      "text/plain": [
       "        RewP  FRN\n",
       "0   0.383929  0.5\n",
       "1   0.553571  0.5\n",
       "2   0.553571  0.5\n",
       "3   0.464286  0.5\n",
       "4   0.553571  0.5\n",
       "..       ...  ...\n",
       "95  0.419643  0.5\n",
       "96  0.428571  0.5\n",
       "97  0.642857  0.5\n",
       "98  0.428571  0.5\n",
       "99  0.571429  0.5\n",
       "\n",
       "[100 rows x 2 columns]"
      ]
     },
     "execution_count": 420,
     "metadata": {},
     "output_type": "execute_result"
    }
   ],
   "source": [
    "cv_results_df"
   ]
  },
  {
   "cell_type": "code",
   "execution_count": 421,
   "metadata": {},
   "outputs": [
    {
     "data": {
      "image/png": "[encoded data removed]",
      "text/plain": [
       "<Figure size 1000x700 with 1 Axes>"
      ]
     },
     "metadata": {},
     "output_type": "display_data"
    }
   ],
   "source": [
    "fig = sns.histplot(data=cv_results_df, bins=9, kde=True)"
   ]
  },
  {
   "cell_type": "code",
   "execution_count": 422,
   "metadata": {},
   "outputs": [
    {
     "name": "stderr",
     "output_type": "stream",
     "text": [
      "C:\\Users\\rafal\\AppData\\Local\\Temp\\ipykernel_26208\\3509821564.py:1: UserWarning: Dataset has 0 variance; skipping density estimate. Pass `warn_singular=False` to disable this warning.\n",
      "  fig = sns.kdeplot(data=cv_results_df, fill=True)\n"
     ]
    },
    {
     "data": {
      "image/png": "[encoded data removed]",
      "text/plain": [
       "<Figure size 1000x700 with 1 Axes>"
      ]
     },
     "metadata": {},
     "output_type": "display_data"
    }
   ],
   "source": [
    "fig = sns.kdeplot(data=cv_results_df, fill=True)"
   ]
  },
  {
   "cell_type": "code",
   "execution_count": 423,
   "metadata": {},
   "outputs": [],
   "source": [
    "%%capture\n",
    "\n",
    "cv = RepeatedStratifiedKFold(n_splits=10, n_repeats=10, random_state=random_state)\n",
    "\n",
    "cv_scores_1 = cross_val_score(dep_rewp_model, X_rewp, y, cv=cv, scoring='roc_auc')\n",
    "cv_scores_2 = cross_val_score(dep_frn_model, X_frn, y, cv=cv,  scoring='roc_auc')"
   ]
  },
  {
   "cell_type": "code",
   "execution_count": 424,
   "metadata": {},
   "outputs": [],
   "source": [
    "cv_results_df = pd.DataFrame({\n",
    "    \"RewP\": cv_scores_1,\n",
    "    \"FRN\": cv_scores_2,\n",
    "})"
   ]
  },
  {
   "cell_type": "code",
   "execution_count": 425,
   "metadata": {},
   "outputs": [
    {
     "data": {
      "image/png": "[encoded data removed]",
      "text/plain": [
       "<Figure size 1000x700 with 1 Axes>"
      ]
     },
     "metadata": {},
     "output_type": "display_data"
    }
   ],
   "source": [
    "fig = sns.histplot(data=cv_results_df, bins=9, kde=True)"
   ]
  },
  {
   "cell_type": "markdown",
   "metadata": {},
   "source": [
    "### Anxiety RewP vs FRN"
   ]
  },
  {
   "cell_type": "code",
   "execution_count": 426,
   "metadata": {},
   "outputs": [],
   "source": [
    "y = np.array(len(anx) * [1] +  len(ctrl_anx) * [0])"
   ]
  },
  {
   "cell_type": "code",
   "execution_count": 427,
   "metadata": {},
   "outputs": [],
   "source": [
    "anx_rewp_data = []\n",
    "ctrl_rewp_data = []\n",
    "anx_rewp_data = get_rewps(anx, tmin, tmax)\n",
    "ctrl_rewp_data = get_rewps(ctrl_anx, tmin, tmax)"
   ]
  },
  {
   "cell_type": "code",
   "execution_count": 428,
   "metadata": {},
   "outputs": [],
   "source": [
    "X_rewp = pd.DataFrame(pd.concat([pd.DataFrame(anx_rewp_data), pd.DataFrame(ctrl_rewp_data)]))\n",
    "#X_rewp = np.array(anx_rewp_data + ctrl_rewp_data)"
   ]
  },
  {
   "cell_type": "code",
   "execution_count": 429,
   "metadata": {},
   "outputs": [],
   "source": [
    "anx_frn_data = []\n",
    "ctrl_frn_data = []\n",
    "anx_frn_data = get_fnrs(anx, frn_first_max, tmin, tmax)\n",
    "ctrl_frn_data = get_fnrs(ctrl_anx, frn_first_max, tmin, tmax)"
   ]
  },
  {
   "cell_type": "code",
   "execution_count": 430,
   "metadata": {},
   "outputs": [],
   "source": [
    "X_frn = pd.DataFrame(pd.concat([pd.DataFrame(anx_frn_data), pd.DataFrame(ctrl_frn_data)]))\n",
    "#X_frn = np.array(anx_frn_data + ctrl_frn_data)"
   ]
  },
  {
   "cell_type": "code",
   "execution_count": 431,
   "metadata": {},
   "outputs": [],
   "source": [
    "%%capture\n",
    "\n",
    "cv = RepeatedStratifiedKFold(n_splits=10, n_repeats=10, random_state=random_state)\n",
    "\n",
    "cv_results_df = pd.DataFrame()\n",
    "\n",
    "for i in range(0,len(results_anx_rewp_df)):\n",
    "    cv_scores_rewp = cross_val_score(results_anx_rewp_df.iloc[i].best_model, X_rewp, y, cv=cv, scoring='balanced_accuracy')\n",
    "    cv_scores_frn = cross_val_score(results_anx_frn_df.iloc[i].best_model, X_frn, y, cv=cv,  scoring='balanced_accuracy')\n",
    "    \n",
    "    cv_results_df[\"RewP_\" + str(i)] = cv_scores_rewp\n",
    "    cv_results_df[\"FRN_\" + str(i)] = cv_scores_frn"
   ]
  },
  {
   "cell_type": "code",
   "execution_count": 432,
   "metadata": {},
   "outputs": [
    {
     "data": {
      "text/html": [
       "<div>\n",
       "<style scoped>\n",
       "    .dataframe tbody tr th:only-of-type {\n",
       "        vertical-align: middle;\n",
       "    }\n",
       "\n",
       "    .dataframe tbody tr th {\n",
       "        vertical-align: top;\n",
       "    }\n",
       "\n",
       "    .dataframe thead th {\n",
       "        text-align: right;\n",
       "    }\n",
       "</style>\n",
       "<table border=\"1\" class=\"dataframe\">\n",
       "  <thead>\n",
       "    <tr style=\"text-align: right;\">\n",
       "      <th></th>\n",
       "      <th>RewP_0</th>\n",
       "      <th>FRN_0</th>\n",
       "      <th>RewP_1</th>\n",
       "      <th>FRN_1</th>\n",
       "      <th>RewP_2</th>\n",
       "      <th>FRN_2</th>\n",
       "    </tr>\n",
       "  </thead>\n",
       "  <tbody>\n",
       "    <tr>\n",
       "      <th>0</th>\n",
       "      <td>0.5</td>\n",
       "      <td>0.5</td>\n",
       "      <td>0.500000</td>\n",
       "      <td>0.642857</td>\n",
       "      <td>0.214286</td>\n",
       "      <td>0.357143</td>\n",
       "    </tr>\n",
       "    <tr>\n",
       "      <th>1</th>\n",
       "      <td>0.5</td>\n",
       "      <td>0.5</td>\n",
       "      <td>0.500000</td>\n",
       "      <td>0.642857</td>\n",
       "      <td>0.404762</td>\n",
       "      <td>0.476190</td>\n",
       "    </tr>\n",
       "    <tr>\n",
       "      <th>2</th>\n",
       "      <td>0.5</td>\n",
       "      <td>0.5</td>\n",
       "      <td>0.500000</td>\n",
       "      <td>0.571429</td>\n",
       "      <td>0.416667</td>\n",
       "      <td>0.357143</td>\n",
       "    </tr>\n",
       "    <tr>\n",
       "      <th>3</th>\n",
       "      <td>0.5</td>\n",
       "      <td>0.5</td>\n",
       "      <td>0.500000</td>\n",
       "      <td>0.630952</td>\n",
       "      <td>0.500000</td>\n",
       "      <td>0.369048</td>\n",
       "    </tr>\n",
       "    <tr>\n",
       "      <th>4</th>\n",
       "      <td>0.5</td>\n",
       "      <td>0.5</td>\n",
       "      <td>0.500000</td>\n",
       "      <td>0.476190</td>\n",
       "      <td>0.321429</td>\n",
       "      <td>0.500000</td>\n",
       "    </tr>\n",
       "    <tr>\n",
       "      <th>...</th>\n",
       "      <td>...</td>\n",
       "      <td>...</td>\n",
       "      <td>...</td>\n",
       "      <td>...</td>\n",
       "      <td>...</td>\n",
       "      <td>...</td>\n",
       "    </tr>\n",
       "    <tr>\n",
       "      <th>95</th>\n",
       "      <td>0.5</td>\n",
       "      <td>0.5</td>\n",
       "      <td>0.404762</td>\n",
       "      <td>0.607143</td>\n",
       "      <td>0.476190</td>\n",
       "      <td>0.476190</td>\n",
       "    </tr>\n",
       "    <tr>\n",
       "      <th>96</th>\n",
       "      <td>0.5</td>\n",
       "      <td>0.5</td>\n",
       "      <td>0.416667</td>\n",
       "      <td>0.535714</td>\n",
       "      <td>0.404762</td>\n",
       "      <td>0.309524</td>\n",
       "    </tr>\n",
       "    <tr>\n",
       "      <th>97</th>\n",
       "      <td>0.5</td>\n",
       "      <td>0.5</td>\n",
       "      <td>0.500000</td>\n",
       "      <td>0.523810</td>\n",
       "      <td>0.523810</td>\n",
       "      <td>0.369048</td>\n",
       "    </tr>\n",
       "    <tr>\n",
       "      <th>98</th>\n",
       "      <td>0.5</td>\n",
       "      <td>0.5</td>\n",
       "      <td>0.511905</td>\n",
       "      <td>0.678571</td>\n",
       "      <td>0.535714</td>\n",
       "      <td>0.321429</td>\n",
       "    </tr>\n",
       "    <tr>\n",
       "      <th>99</th>\n",
       "      <td>0.5</td>\n",
       "      <td>0.5</td>\n",
       "      <td>0.559524</td>\n",
       "      <td>0.678571</td>\n",
       "      <td>0.464286</td>\n",
       "      <td>0.392857</td>\n",
       "    </tr>\n",
       "  </tbody>\n",
       "</table>\n",
       "<p>100 rows × 6 columns</p>\n",
       "</div>"
      ],
      "text/plain": [
       "    RewP_0  FRN_0    RewP_1     FRN_1    RewP_2     FRN_2\n",
       "0      0.5    0.5  0.500000  0.642857  0.214286  0.357143\n",
       "1      0.5    0.5  0.500000  0.642857  0.404762  0.476190\n",
       "2      0.5    0.5  0.500000  0.571429  0.416667  0.357143\n",
       "3      0.5    0.5  0.500000  0.630952  0.500000  0.369048\n",
       "4      0.5    0.5  0.500000  0.476190  0.321429  0.500000\n",
       "..     ...    ...       ...       ...       ...       ...\n",
       "95     0.5    0.5  0.404762  0.607143  0.476190  0.476190\n",
       "96     0.5    0.5  0.416667  0.535714  0.404762  0.309524\n",
       "97     0.5    0.5  0.500000  0.523810  0.523810  0.369048\n",
       "98     0.5    0.5  0.511905  0.678571  0.535714  0.321429\n",
       "99     0.5    0.5  0.559524  0.678571  0.464286  0.392857\n",
       "\n",
       "[100 rows x 6 columns]"
      ]
     },
     "execution_count": 432,
     "metadata": {},
     "output_type": "execute_result"
    }
   ],
   "source": [
    "cv_results_df"
   ]
  },
  {
   "cell_type": "code",
   "execution_count": 433,
   "metadata": {},
   "outputs": [
    {
     "data": {
      "image/png": "[encoded data removed]",
      "text/plain": [
       "<Figure size 1000x700 with 1 Axes>"
      ]
     },
     "metadata": {},
     "output_type": "display_data"
    }
   ],
   "source": [
    "fig = sns.histplot(data=cv_results_df, bins=5, kde=True)"
   ]
  },
  {
   "cell_type": "code",
   "execution_count": 434,
   "metadata": {},
   "outputs": [
    {
     "data": {
      "text/html": [
       "<div>\n",
       "<style scoped>\n",
       "    .dataframe tbody tr th:only-of-type {\n",
       "        vertical-align: middle;\n",
       "    }\n",
       "\n",
       "    .dataframe tbody tr th {\n",
       "        vertical-align: top;\n",
       "    }\n",
       "\n",
       "    .dataframe thead th {\n",
       "        text-align: right;\n",
       "    }\n",
       "</style>\n",
       "<table border=\"1\" class=\"dataframe\">\n",
       "  <thead>\n",
       "    <tr style=\"text-align: right;\">\n",
       "      <th></th>\n",
       "      <th>model_name</th>\n",
       "      <th>pipeline_name</th>\n",
       "      <th>train score</th>\n",
       "      <th>mean_cv_score</th>\n",
       "      <th>best_model</th>\n",
       "      <th>parameters</th>\n",
       "      <th>pvalue</th>\n",
       "      <th>split0_test_roc_auc</th>\n",
       "      <th>split1_test_roc_auc</th>\n",
       "      <th>split2_test_roc_auc</th>\n",
       "      <th>mean_test_recall</th>\n",
       "      <th>mean_test_roc_auc</th>\n",
       "      <th>mean_test_balanced_accuracy</th>\n",
       "      <th>mean_test_precision</th>\n",
       "    </tr>\n",
       "  </thead>\n",
       "  <tbody>\n",
       "    <tr>\n",
       "      <th>0</th>\n",
       "      <td>lg</td>\n",
       "      <td>RewP_Anxiety_lg</td>\n",
       "      <td>0.500000</td>\n",
       "      <td>0.500000</td>\n",
       "      <td>(LogisticRegression(penalty='l1', solver='libl...</td>\n",
       "      <td>{}</td>\n",
       "      <td>1.000000</td>\n",
       "      <td>0.500000</td>\n",
       "      <td>0.500000</td>\n",
       "      <td>0.500000</td>\n",
       "      <td>0.000000</td>\n",
       "      <td>0.500000</td>\n",
       "      <td>0.500000</td>\n",
       "      <td>0.000000</td>\n",
       "    </tr>\n",
       "    <tr>\n",
       "      <th>0</th>\n",
       "      <td>svc</td>\n",
       "      <td>RewP_Anxiety_svc</td>\n",
       "      <td>0.500000</td>\n",
       "      <td>0.485570</td>\n",
       "      <td>(SVC(C=0.0001, kernel='linear'))</td>\n",
       "      <td>{'svc__C': 0.0001, 'svc__kernel': 'linear'}</td>\n",
       "      <td>0.795205</td>\n",
       "      <td>0.479339</td>\n",
       "      <td>0.415289</td>\n",
       "      <td>0.385281</td>\n",
       "      <td>0.031746</td>\n",
       "      <td>0.426636</td>\n",
       "      <td>0.485570</td>\n",
       "      <td>0.111111</td>\n",
       "    </tr>\n",
       "    <tr>\n",
       "      <th>0</th>\n",
       "      <td>lda</td>\n",
       "      <td>RewP_Anxiety_lda</td>\n",
       "      <td>0.501049</td>\n",
       "      <td>0.412338</td>\n",
       "      <td>(LinearDiscriminantAnalysis(shrinkage='auto', ...</td>\n",
       "      <td>{'lda__shrinkage': 'auto', 'lda__solver': 'lsqr'}</td>\n",
       "      <td>0.974026</td>\n",
       "      <td>0.479339</td>\n",
       "      <td>0.413223</td>\n",
       "      <td>0.385281</td>\n",
       "      <td>0.324675</td>\n",
       "      <td>0.425948</td>\n",
       "      <td>0.412338</td>\n",
       "      <td>0.386364</td>\n",
       "    </tr>\n",
       "  </tbody>\n",
       "</table>\n",
       "</div>"
      ],
      "text/plain": [
       "  model_name     pipeline_name  train score  mean_cv_score  \\\n",
       "0         lg   RewP_Anxiety_lg     0.500000       0.500000   \n",
       "0        svc  RewP_Anxiety_svc     0.500000       0.485570   \n",
       "0        lda  RewP_Anxiety_lda     0.501049       0.412338   \n",
       "\n",
       "                                          best_model  \\\n",
       "0  (LogisticRegression(penalty='l1', solver='libl...   \n",
       "0                   (SVC(C=0.0001, kernel='linear'))   \n",
       "0  (LinearDiscriminantAnalysis(shrinkage='auto', ...   \n",
       "\n",
       "                                          parameters    pvalue  \\\n",
       "0                                                 {}  1.000000   \n",
       "0        {'svc__C': 0.0001, 'svc__kernel': 'linear'}  0.795205   \n",
       "0  {'lda__shrinkage': 'auto', 'lda__solver': 'lsqr'}  0.974026   \n",
       "\n",
       "   split0_test_roc_auc  split1_test_roc_auc  split2_test_roc_auc  \\\n",
       "0             0.500000             0.500000             0.500000   \n",
       "0             0.479339             0.415289             0.385281   \n",
       "0             0.479339             0.413223             0.385281   \n",
       "\n",
       "   mean_test_recall  mean_test_roc_auc  mean_test_balanced_accuracy  \\\n",
       "0          0.000000           0.500000                     0.500000   \n",
       "0          0.031746           0.426636                     0.485570   \n",
       "0          0.324675           0.425948                     0.412338   \n",
       "\n",
       "   mean_test_precision  \n",
       "0             0.000000  \n",
       "0             0.111111  \n",
       "0             0.386364  "
      ]
     },
     "execution_count": 434,
     "metadata": {},
     "output_type": "execute_result"
    }
   ],
   "source": [
    "results_anx_rewp_df"
   ]
  },
  {
   "cell_type": "code",
   "execution_count": 435,
   "metadata": {},
   "outputs": [
    {
     "data": {
      "text/html": [
       "<div>\n",
       "<style scoped>\n",
       "    .dataframe tbody tr th:only-of-type {\n",
       "        vertical-align: middle;\n",
       "    }\n",
       "\n",
       "    .dataframe tbody tr th {\n",
       "        vertical-align: top;\n",
       "    }\n",
       "\n",
       "    .dataframe thead th {\n",
       "        text-align: right;\n",
       "    }\n",
       "</style>\n",
       "<table border=\"1\" class=\"dataframe\">\n",
       "  <thead>\n",
       "    <tr style=\"text-align: right;\">\n",
       "      <th></th>\n",
       "      <th>model_name</th>\n",
       "      <th>pipeline_name</th>\n",
       "      <th>train score</th>\n",
       "      <th>mean_cv_score</th>\n",
       "      <th>best_model</th>\n",
       "      <th>parameters</th>\n",
       "      <th>pvalue</th>\n",
       "      <th>split0_test_roc_auc</th>\n",
       "      <th>split1_test_roc_auc</th>\n",
       "      <th>split2_test_roc_auc</th>\n",
       "      <th>mean_test_recall</th>\n",
       "      <th>mean_test_roc_auc</th>\n",
       "      <th>mean_test_balanced_accuracy</th>\n",
       "      <th>mean_test_precision</th>\n",
       "    </tr>\n",
       "  </thead>\n",
       "  <tbody>\n",
       "    <tr>\n",
       "      <th>0</th>\n",
       "      <td>lg</td>\n",
       "      <td>FRN_Anxiety_lg</td>\n",
       "      <td>0.500000</td>\n",
       "      <td>0.500000</td>\n",
       "      <td>(LogisticRegression(penalty='l1', solver='libl...</td>\n",
       "      <td>{}</td>\n",
       "      <td>1.000000</td>\n",
       "      <td>0.500000</td>\n",
       "      <td>0.500000</td>\n",
       "      <td>0.500000</td>\n",
       "      <td>0.000000</td>\n",
       "      <td>0.500000</td>\n",
       "      <td>0.500000</td>\n",
       "      <td>0.000000</td>\n",
       "    </tr>\n",
       "    <tr>\n",
       "      <th>0</th>\n",
       "      <td>svc</td>\n",
       "      <td>FRN_Anxiety_svc</td>\n",
       "      <td>0.586131</td>\n",
       "      <td>0.540765</td>\n",
       "      <td>(SVC(C=100))</td>\n",
       "      <td>{'svc__C': 100, 'svc__kernel': 'rbf'}</td>\n",
       "      <td>0.257742</td>\n",
       "      <td>0.630165</td>\n",
       "      <td>0.520661</td>\n",
       "      <td>0.502165</td>\n",
       "      <td>0.323954</td>\n",
       "      <td>0.550997</td>\n",
       "      <td>0.540765</td>\n",
       "      <td>0.601307</td>\n",
       "    </tr>\n",
       "    <tr>\n",
       "      <th>0</th>\n",
       "      <td>lda</td>\n",
       "      <td>FRN_Anxiety_lda</td>\n",
       "      <td>0.451399</td>\n",
       "      <td>0.459957</td>\n",
       "      <td>(LinearDiscriminantAnalysis(shrinkage='auto', ...</td>\n",
       "      <td>{'lda__shrinkage': 'auto', 'lda__solver': 'lsqr'}</td>\n",
       "      <td>0.780220</td>\n",
       "      <td>0.371901</td>\n",
       "      <td>0.489669</td>\n",
       "      <td>0.512987</td>\n",
       "      <td>0.435065</td>\n",
       "      <td>0.458186</td>\n",
       "      <td>0.459957</td>\n",
       "      <td>0.443476</td>\n",
       "    </tr>\n",
       "  </tbody>\n",
       "</table>\n",
       "</div>"
      ],
      "text/plain": [
       "  model_name    pipeline_name  train score  mean_cv_score  \\\n",
       "0         lg   FRN_Anxiety_lg     0.500000       0.500000   \n",
       "0        svc  FRN_Anxiety_svc     0.586131       0.540765   \n",
       "0        lda  FRN_Anxiety_lda     0.451399       0.459957   \n",
       "\n",
       "                                          best_model  \\\n",
       "0  (LogisticRegression(penalty='l1', solver='libl...   \n",
       "0                                       (SVC(C=100))   \n",
       "0  (LinearDiscriminantAnalysis(shrinkage='auto', ...   \n",
       "\n",
       "                                          parameters    pvalue  \\\n",
       "0                                                 {}  1.000000   \n",
       "0              {'svc__C': 100, 'svc__kernel': 'rbf'}  0.257742   \n",
       "0  {'lda__shrinkage': 'auto', 'lda__solver': 'lsqr'}  0.780220   \n",
       "\n",
       "   split0_test_roc_auc  split1_test_roc_auc  split2_test_roc_auc  \\\n",
       "0             0.500000             0.500000             0.500000   \n",
       "0             0.630165             0.520661             0.502165   \n",
       "0             0.371901             0.489669             0.512987   \n",
       "\n",
       "   mean_test_recall  mean_test_roc_auc  mean_test_balanced_accuracy  \\\n",
       "0          0.000000           0.500000                     0.500000   \n",
       "0          0.323954           0.550997                     0.540765   \n",
       "0          0.435065           0.458186                     0.459957   \n",
       "\n",
       "   mean_test_precision  \n",
       "0             0.000000  \n",
       "0             0.601307  \n",
       "0             0.443476  "
      ]
     },
     "execution_count": 435,
     "metadata": {},
     "output_type": "execute_result"
    }
   ],
   "source": [
    "results_anx_frn_df"
   ]
  },
  {
   "cell_type": "code",
   "execution_count": 436,
   "metadata": {},
   "outputs": [
    {
     "data": {
      "text/html": [
       "<style>#sk-container-id-19 {color: black;background-color: white;}#sk-container-id-19 pre{padding: 0;}#sk-container-id-19 div.sk-toggleable {background-color: white;}#sk-container-id-19 label.sk-toggleable__label {cursor: pointer;display: block;width: 100%;margin-bottom: 0;padding: 0.3em;box-sizing: border-box;text-align: center;}#sk-container-id-19 label.sk-toggleable__label-arrow:before {content: \"▸\";float: left;margin-right: 0.25em;color: #696969;}#sk-container-id-19 label.sk-toggleable__label-arrow:hover:before {color: black;}#sk-container-id-19 div.sk-estimator:hover label.sk-toggleable__label-arrow:before {color: black;}#sk-container-id-19 div.sk-toggleable__content {max-height: 0;max-width: 0;overflow: hidden;text-align: left;background-color: #f0f8ff;}#sk-container-id-19 div.sk-toggleable__content pre {margin: 0.2em;color: black;border-radius: 0.25em;background-color: #f0f8ff;}#sk-container-id-19 input.sk-toggleable__control:checked~div.sk-toggleable__content {max-height: 200px;max-width: 100%;overflow: auto;}#sk-container-id-19 input.sk-toggleable__control:checked~label.sk-toggleable__label-arrow:before {content: \"▾\";}#sk-container-id-19 div.sk-estimator input.sk-toggleable__control:checked~label.sk-toggleable__label {background-color: #d4ebff;}#sk-container-id-19 div.sk-label input.sk-toggleable__control:checked~label.sk-toggleable__label {background-color: #d4ebff;}#sk-container-id-19 input.sk-hidden--visually {border: 0;clip: rect(1px 1px 1px 1px);clip: rect(1px, 1px, 1px, 1px);height: 1px;margin: -1px;overflow: hidden;padding: 0;position: absolute;width: 1px;}#sk-container-id-19 div.sk-estimator {font-family: monospace;background-color: #f0f8ff;border: 1px dotted black;border-radius: 0.25em;box-sizing: border-box;margin-bottom: 0.5em;}#sk-container-id-19 div.sk-estimator:hover {background-color: #d4ebff;}#sk-container-id-19 div.sk-parallel-item::after {content: \"\";width: 100%;border-bottom: 1px solid gray;flex-grow: 1;}#sk-container-id-19 div.sk-label:hover label.sk-toggleable__label {background-color: #d4ebff;}#sk-container-id-19 div.sk-serial::before {content: \"\";position: absolute;border-left: 1px solid gray;box-sizing: border-box;top: 0;bottom: 0;left: 50%;z-index: 0;}#sk-container-id-19 div.sk-serial {display: flex;flex-direction: column;align-items: center;background-color: white;padding-right: 0.2em;padding-left: 0.2em;position: relative;}#sk-container-id-19 div.sk-item {position: relative;z-index: 1;}#sk-container-id-19 div.sk-parallel {display: flex;align-items: stretch;justify-content: center;background-color: white;position: relative;}#sk-container-id-19 div.sk-item::before, #sk-container-id-19 div.sk-parallel-item::before {content: \"\";position: absolute;border-left: 1px solid gray;box-sizing: border-box;top: 0;bottom: 0;left: 50%;z-index: -1;}#sk-container-id-19 div.sk-parallel-item {display: flex;flex-direction: column;z-index: 1;position: relative;background-color: white;}#sk-container-id-19 div.sk-parallel-item:first-child::after {align-self: flex-end;width: 50%;}#sk-container-id-19 div.sk-parallel-item:last-child::after {align-self: flex-start;width: 50%;}#sk-container-id-19 div.sk-parallel-item:only-child::after {width: 0;}#sk-container-id-19 div.sk-dashed-wrapped {border: 1px dashed gray;margin: 0 0.4em 0.5em 0.4em;box-sizing: border-box;padding-bottom: 0.4em;background-color: white;}#sk-container-id-19 div.sk-label label {font-family: monospace;font-weight: bold;display: inline-block;line-height: 1.2em;}#sk-container-id-19 div.sk-label-container {text-align: center;}#sk-container-id-19 div.sk-container {/* jupyter's `normalize.less` sets `[hidden] { display: none; }` but bootstrap.min.css set `[hidden] { display: none !important; }` so we also need the `!important` here to be able to override the default hidden behavior on the sphinx rendered scikit-learn.org. See: https://github.com/scikit-learn/scikit-learn/issues/21755 */display: inline-block !important;position: relative;}#sk-container-id-19 div.sk-text-repr-fallback {display: none;}</style><div id=\"sk-container-id-19\" class=\"sk-top-container\"><div class=\"sk-text-repr-fallback\"><pre>Pipeline(steps=[(&#x27;svc&#x27;, SVC(C=0.0001, kernel=&#x27;linear&#x27;))])</pre><b>In a Jupyter environment, please rerun this cell to show the HTML representation or trust the notebook. <br />On GitHub, the HTML representation is unable to render, please try loading this page with nbviewer.org.</b></div><div class=\"sk-container\" hidden><div class=\"sk-item sk-dashed-wrapped\"><div class=\"sk-label-container\"><div class=\"sk-label sk-toggleable\"><input class=\"sk-toggleable__control sk-hidden--visually\" id=\"sk-estimator-id-37\" type=\"checkbox\" ><label for=\"sk-estimator-id-37\" class=\"sk-toggleable__label sk-toggleable__label-arrow\">Pipeline</label><div class=\"sk-toggleable__content\"><pre>Pipeline(steps=[(&#x27;svc&#x27;, SVC(C=0.0001, kernel=&#x27;linear&#x27;))])</pre></div></div></div><div class=\"sk-serial\"><div class=\"sk-item\"><div class=\"sk-estimator sk-toggleable\"><input class=\"sk-toggleable__control sk-hidden--visually\" id=\"sk-estimator-id-38\" type=\"checkbox\" ><label for=\"sk-estimator-id-38\" class=\"sk-toggleable__label sk-toggleable__label-arrow\">SVC</label><div class=\"sk-toggleable__content\"><pre>SVC(C=0.0001, kernel=&#x27;linear&#x27;)</pre></div></div></div></div></div></div></div>"
      ],
      "text/plain": [
       "Pipeline(steps=[('svc', SVC(C=0.0001, kernel='linear'))])"
      ]
     },
     "execution_count": 436,
     "metadata": {},
     "output_type": "execute_result"
    }
   ],
   "source": [
    "anx_rewp_model = results_anx_rewp_df.iloc[1].best_model\n",
    "anx_rewp_model"
   ]
  },
  {
   "cell_type": "code",
   "execution_count": 437,
   "metadata": {},
   "outputs": [
    {
     "data": {
      "text/html": [
       "<style>#sk-container-id-20 {color: black;background-color: white;}#sk-container-id-20 pre{padding: 0;}#sk-container-id-20 div.sk-toggleable {background-color: white;}#sk-container-id-20 label.sk-toggleable__label {cursor: pointer;display: block;width: 100%;margin-bottom: 0;padding: 0.3em;box-sizing: border-box;text-align: center;}#sk-container-id-20 label.sk-toggleable__label-arrow:before {content: \"▸\";float: left;margin-right: 0.25em;color: #696969;}#sk-container-id-20 label.sk-toggleable__label-arrow:hover:before {color: black;}#sk-container-id-20 div.sk-estimator:hover label.sk-toggleable__label-arrow:before {color: black;}#sk-container-id-20 div.sk-toggleable__content {max-height: 0;max-width: 0;overflow: hidden;text-align: left;background-color: #f0f8ff;}#sk-container-id-20 div.sk-toggleable__content pre {margin: 0.2em;color: black;border-radius: 0.25em;background-color: #f0f8ff;}#sk-container-id-20 input.sk-toggleable__control:checked~div.sk-toggleable__content {max-height: 200px;max-width: 100%;overflow: auto;}#sk-container-id-20 input.sk-toggleable__control:checked~label.sk-toggleable__label-arrow:before {content: \"▾\";}#sk-container-id-20 div.sk-estimator input.sk-toggleable__control:checked~label.sk-toggleable__label {background-color: #d4ebff;}#sk-container-id-20 div.sk-label input.sk-toggleable__control:checked~label.sk-toggleable__label {background-color: #d4ebff;}#sk-container-id-20 input.sk-hidden--visually {border: 0;clip: rect(1px 1px 1px 1px);clip: rect(1px, 1px, 1px, 1px);height: 1px;margin: -1px;overflow: hidden;padding: 0;position: absolute;width: 1px;}#sk-container-id-20 div.sk-estimator {font-family: monospace;background-color: #f0f8ff;border: 1px dotted black;border-radius: 0.25em;box-sizing: border-box;margin-bottom: 0.5em;}#sk-container-id-20 div.sk-estimator:hover {background-color: #d4ebff;}#sk-container-id-20 div.sk-parallel-item::after {content: \"\";width: 100%;border-bottom: 1px solid gray;flex-grow: 1;}#sk-container-id-20 div.sk-label:hover label.sk-toggleable__label {background-color: #d4ebff;}#sk-container-id-20 div.sk-serial::before {content: \"\";position: absolute;border-left: 1px solid gray;box-sizing: border-box;top: 0;bottom: 0;left: 50%;z-index: 0;}#sk-container-id-20 div.sk-serial {display: flex;flex-direction: column;align-items: center;background-color: white;padding-right: 0.2em;padding-left: 0.2em;position: relative;}#sk-container-id-20 div.sk-item {position: relative;z-index: 1;}#sk-container-id-20 div.sk-parallel {display: flex;align-items: stretch;justify-content: center;background-color: white;position: relative;}#sk-container-id-20 div.sk-item::before, #sk-container-id-20 div.sk-parallel-item::before {content: \"\";position: absolute;border-left: 1px solid gray;box-sizing: border-box;top: 0;bottom: 0;left: 50%;z-index: -1;}#sk-container-id-20 div.sk-parallel-item {display: flex;flex-direction: column;z-index: 1;position: relative;background-color: white;}#sk-container-id-20 div.sk-parallel-item:first-child::after {align-self: flex-end;width: 50%;}#sk-container-id-20 div.sk-parallel-item:last-child::after {align-self: flex-start;width: 50%;}#sk-container-id-20 div.sk-parallel-item:only-child::after {width: 0;}#sk-container-id-20 div.sk-dashed-wrapped {border: 1px dashed gray;margin: 0 0.4em 0.5em 0.4em;box-sizing: border-box;padding-bottom: 0.4em;background-color: white;}#sk-container-id-20 div.sk-label label {font-family: monospace;font-weight: bold;display: inline-block;line-height: 1.2em;}#sk-container-id-20 div.sk-label-container {text-align: center;}#sk-container-id-20 div.sk-container {/* jupyter's `normalize.less` sets `[hidden] { display: none; }` but bootstrap.min.css set `[hidden] { display: none !important; }` so we also need the `!important` here to be able to override the default hidden behavior on the sphinx rendered scikit-learn.org. See: https://github.com/scikit-learn/scikit-learn/issues/21755 */display: inline-block !important;position: relative;}#sk-container-id-20 div.sk-text-repr-fallback {display: none;}</style><div id=\"sk-container-id-20\" class=\"sk-top-container\"><div class=\"sk-text-repr-fallback\"><pre>Pipeline(steps=[(&#x27;svc&#x27;, SVC(C=100))])</pre><b>In a Jupyter environment, please rerun this cell to show the HTML representation or trust the notebook. <br />On GitHub, the HTML representation is unable to render, please try loading this page with nbviewer.org.</b></div><div class=\"sk-container\" hidden><div class=\"sk-item sk-dashed-wrapped\"><div class=\"sk-label-container\"><div class=\"sk-label sk-toggleable\"><input class=\"sk-toggleable__control sk-hidden--visually\" id=\"sk-estimator-id-39\" type=\"checkbox\" ><label for=\"sk-estimator-id-39\" class=\"sk-toggleable__label sk-toggleable__label-arrow\">Pipeline</label><div class=\"sk-toggleable__content\"><pre>Pipeline(steps=[(&#x27;svc&#x27;, SVC(C=100))])</pre></div></div></div><div class=\"sk-serial\"><div class=\"sk-item\"><div class=\"sk-estimator sk-toggleable\"><input class=\"sk-toggleable__control sk-hidden--visually\" id=\"sk-estimator-id-40\" type=\"checkbox\" ><label for=\"sk-estimator-id-40\" class=\"sk-toggleable__label sk-toggleable__label-arrow\">SVC</label><div class=\"sk-toggleable__content\"><pre>SVC(C=100)</pre></div></div></div></div></div></div></div>"
      ],
      "text/plain": [
       "Pipeline(steps=[('svc', SVC(C=100))])"
      ]
     },
     "execution_count": 437,
     "metadata": {},
     "output_type": "execute_result"
    }
   ],
   "source": [
    "anx_frn_model = results_anx_frn_df.iloc[1].best_model\n",
    "anx_frn_model"
   ]
  },
  {
   "cell_type": "code",
   "execution_count": 438,
   "metadata": {},
   "outputs": [],
   "source": [
    "%%capture\n",
    "\n",
    "t, p = paired_ttest_nandeu(\n",
    "    estimator1=anx_rewp_model,\n",
    "    estimator2=anx_frn_model,\n",
    "    X_1=X_rewp,\n",
    "    X_2=X_frn, \n",
    "    y=y,\n",
    "    random_state=random_state,\n",
    "    scoring='balanced_accuracy'\n",
    ")\n"
   ]
  },
  {
   "cell_type": "code",
   "execution_count": 439,
   "metadata": {},
   "outputs": [
    {
     "name": "stdout",
     "output_type": "stream",
     "text": [
      "t statistic: -1.154\n",
      "p value: 0.126\n"
     ]
    }
   ],
   "source": [
    "print('t statistic: %.3f' % t)\n",
    "print('p value: %.3f' % p)"
   ]
  },
  {
   "cell_type": "code",
   "execution_count": 440,
   "metadata": {},
   "outputs": [],
   "source": [
    "%%capture\n",
    "\n",
    "t, p = paired_ttest_nandeu(\n",
    "    estimator1=anx_rewp_model,\n",
    "    estimator2=anx_frn_model,\n",
    "    X_1=X_rewp,\n",
    "    X_2=X_frn, \n",
    "    y=y,\n",
    "    random_state=random_state,\n",
    "    scoring='roc_auc'\n",
    ")"
   ]
  },
  {
   "cell_type": "code",
   "execution_count": 441,
   "metadata": {},
   "outputs": [
    {
     "name": "stdout",
     "output_type": "stream",
     "text": [
      "t statistic: -1.329\n",
      "p value: 0.093\n"
     ]
    }
   ],
   "source": [
    "print('t statistic: %.3f' % t)\n",
    "print('p value: %.3f' % p)"
   ]
  },
  {
   "cell_type": "code",
   "execution_count": 442,
   "metadata": {},
   "outputs": [],
   "source": [
    "%%capture\n",
    "\n",
    "t, p = paired_ttest_nandeu(\n",
    "    estimator1=anx_rewp_model,\n",
    "    estimator2=anx_frn_model,\n",
    "    X_1=X_rewp,\n",
    "    X_2=X_frn, \n",
    "    y=y,\n",
    "    random_state=random_state,\n",
    "    scoring='precision'\n",
    ")"
   ]
  },
  {
   "cell_type": "code",
   "execution_count": 443,
   "metadata": {},
   "outputs": [
    {
     "name": "stdout",
     "output_type": "stream",
     "text": [
      "t statistic: -2.857\n",
      "p value: 0.003\n"
     ]
    }
   ],
   "source": [
    "print('t statistic: %.3f' % t)\n",
    "print('p value: %.3f' % p)"
   ]
  },
  {
   "cell_type": "code",
   "execution_count": 444,
   "metadata": {},
   "outputs": [],
   "source": [
    "%%capture\n",
    "\n",
    "t, p = paired_ttest_nandeu(\n",
    "    estimator1=anx_rewp_model,\n",
    "    estimator2=anx_frn_model,\n",
    "    X_1=X_rewp,\n",
    "    X_2=X_frn, \n",
    "    y=y,\n",
    "    random_state=random_state,\n",
    "    scoring='recall'\n",
    ")"
   ]
  },
  {
   "cell_type": "code",
   "execution_count": 445,
   "metadata": {},
   "outputs": [
    {
     "name": "stdout",
     "output_type": "stream",
     "text": [
      "t statistic: -1.314\n",
      "p value: 0.096\n"
     ]
    }
   ],
   "source": [
    "print('t statistic: %.3f' % t)\n",
    "print('p value: %.3f' % p)"
   ]
  },
  {
   "cell_type": "code",
   "execution_count": 446,
   "metadata": {},
   "outputs": [],
   "source": [
    "%%capture\n",
    "\n",
    "t, p = paired_ttest_nandeu(\n",
    "    estimator1=anx_rewp_model,\n",
    "    estimator2=anx_frn_model,\n",
    "    X_1=X_rewp,\n",
    "    X_2=X_frn, \n",
    "    y=y,\n",
    "    random_state=random_state,\n",
    "    scoring='f1'\n",
    ")"
   ]
  },
  {
   "cell_type": "code",
   "execution_count": 447,
   "metadata": {},
   "outputs": [
    {
     "name": "stdout",
     "output_type": "stream",
     "text": [
      "t statistic: -2.313\n",
      "p value: 0.011\n"
     ]
    }
   ],
   "source": [
    "print('t statistic: %.3f' % t)\n",
    "print('p value: %.3f' % p)"
   ]
  },
  {
   "cell_type": "code",
   "execution_count": 448,
   "metadata": {},
   "outputs": [],
   "source": [
    "%%capture\n",
    "\n",
    "cv = RepeatedStratifiedKFold(n_splits=10, n_repeats=10, random_state=random_state)\n",
    "\n",
    "cv_scores_1 = cross_val_score(anx_rewp_model, X_rewp, y, cv=cv, scoring='balanced_accuracy')\n",
    "cv_scores_2 = cross_val_score(anx_frn_model, X_frn, y, cv=cv,  scoring='balanced_accuracy')"
   ]
  },
  {
   "cell_type": "code",
   "execution_count": 449,
   "metadata": {},
   "outputs": [],
   "source": [
    "cv_results_df = pd.DataFrame({\n",
    "    \"RewP\": cv_scores_1,\n",
    "    \"FRN\": cv_scores_2,\n",
    "})"
   ]
  },
  {
   "cell_type": "code",
   "execution_count": 450,
   "metadata": {},
   "outputs": [
    {
     "data": {
      "image/png": "[encoded data removed]",
      "text/plain": [
       "<Figure size 1000x700 with 1 Axes>"
      ]
     },
     "metadata": {},
     "output_type": "display_data"
    }
   ],
   "source": [
    "fig = sns.histplot(data=cv_results_df, bins=9, kde=True)"
   ]
  },
  {
   "cell_type": "code",
   "execution_count": 451,
   "metadata": {},
   "outputs": [],
   "source": [
    "%%capture\n",
    "\n",
    "cv = RepeatedStratifiedKFold(n_splits=10, n_repeats=10, random_state=random_state)\n",
    "\n",
    "cv_scores_1 = cross_val_score(anx_rewp_model, X_rewp, y, cv=cv, scoring='roc_auc')\n",
    "cv_scores_2 = cross_val_score(anx_frn_model, X_frn, y, cv=cv,  scoring='roc_auc')"
   ]
  },
  {
   "cell_type": "code",
   "execution_count": 452,
   "metadata": {},
   "outputs": [],
   "source": [
    "cv_results_df = pd.DataFrame({\n",
    "    \"RewP\": cv_scores_1,\n",
    "    \"FRN\": cv_scores_2,\n",
    "})"
   ]
  },
  {
   "cell_type": "code",
   "execution_count": 453,
   "metadata": {},
   "outputs": [
    {
     "data": {
      "image/png": "[encoded data removed]",
      "text/plain": [
       "<Figure size 1000x700 with 1 Axes>"
      ]
     },
     "metadata": {},
     "output_type": "display_data"
    }
   ],
   "source": [
    "fig = sns.histplot(data=cv_results_df, bins=9, kde=True)"
   ]
  },
  {
   "cell_type": "code",
   "execution_count": null,
   "metadata": {},
   "outputs": [],
   "source": []
  }
 ],
 "metadata": {
  "colab": {
   "collapsed_sections": [
    "74g2chqQWa48",
    "3irne7dXaoIt"
   ],
   "name": "",
   "provenance": [
    {
     "file_id": "13OESwog1Uwt1WAcNW9QEaphoYxPyNplr",
     "timestamp": 1677327376830
    }
   ],
   "toc_visible": true,
   "version": ""
  },
  "kernelspec": {
   "display_name": "Python 3 (ipykernel)",
   "language": "python",
   "name": "python3"
  },
  "language_info": {
   "codemirror_mode": {
    "name": "ipython",
    "version": 3
   },
   "file_extension": ".py",
   "mimetype": "text/x-python",
   "name": "python",
   "nbconvert_exporter": "python",
   "pygments_lexer": "ipython3",
   "version": "3.8.0"
  }
 },
 "nbformat": 4,
 "nbformat_minor": 4
}
